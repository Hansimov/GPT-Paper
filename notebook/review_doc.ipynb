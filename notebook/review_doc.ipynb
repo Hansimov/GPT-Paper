{
 "cells": [
  {
   "cell_type": "markdown",
   "id": "cf4e3502-21c9-46d8-aaa8-7d8e55b672af",
   "metadata": {},
   "source": [
    "Unraveling the “black-box” of artificial intelligence-based pathological analysis of liver cancer\n",
    "===\r\n",
    "\n",
    "## Current advances of AI-based approaches for clinical management of liver cancer\r",
    "\r\n",
    "### AI-based prognostication of liver cancer\r\n",
    "\r\n",
    "### Molecular profiling of liver cancer via I \r\n",
    "\r\n",
    "### Exploring predictive indicators for therap resp\r\n",
    "\r\n",
    "## Current challenges limiting AI-based approaches in the management of liver cancer\r\n",
    "\r\n",
    "(One paragraph highlighting the urgent need to explain the “black box” of deeplearning)\r\n",
    "\r\n",
    "## Strategies for unraveling the “black-box” ofAI-based  \r\n",
    "\r\n",
    "### Model-based explanation\r\n",
    "1. Support vector machine or random forests vs. deep learning\r\n",
    "2. Supervised learning vs. weakly supervised learning vs. unsupervised learning\r\n",
    "3. Textual explanation\r\n",
    "   a. Image captioning\r\n",
    "   b. Image captioning with visual explanation\r\n",
    "4. Example-based explanation \r\n",
    "   a. Triplet net#rk\r\n",
    "   b. Prototypes\r\n",
    "\r\n",
    "### Post hoc explanation\r\n",
    "\r\n",
    "1. Visual explanation (saliency mapping, pathologist-in-the-loop)\r\n",
    "    a. Backpropagation-based approaches\r\n",
    "Including class activation mapping (CAM) and gradient-weighted class activation mapping (Grad-CAM)\r\n",
    "    b. Perturbation-based approaches\r\n",
    "Including Occlusion sensitivity map (OSM), local interpretable model-agnostic explannations (LIME)\r\n",
    "    c. Multiple instance learning-based approaches\r\n",
    "2. Textual explanation\r\n",
    "   Testing with concept activation vectors (TCAV)\r\n",
    "4.\tExample-based exlanation\r\n",
    "    Influence functions\r\n",
    "\r\n",
    "## Conclusion and future applications\r\n",
    "lusion and future applications.\r\n"
   ]
  },
  {
   "cell_type": "code",
   "execution_count": null,
   "id": "000bdfc2-1941-4249-b0a7-b32895f075c0",
   "metadata": {},
   "outputs": [],
   "source": []
  }
 ],
 "metadata": {
  "kernelspec": {
   "display_name": "Python 3 (ipykernel)",
   "language": "python",
   "name": "python3"
  },
  "language_info": {
   "codemirror_mode": {
    "name": "ipython",
    "version": 3
   },
   "file_extension": ".py",
   "mimetype": "text/x-python",
   "name": "python",
   "nbconvert_exporter": "python",
   "pygments_lexer": "ipython3",
   "version": "3.9.5"
  }
 },
 "nbformat": 4,
 "nbformat_minor": 5
}
