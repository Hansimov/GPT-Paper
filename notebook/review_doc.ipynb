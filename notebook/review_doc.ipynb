{
 "cells": [
  {
   "cell_type": "markdown",
   "id": "021c892e-5423-4cc1-9d0e-66ef7b4c6903",
   "metadata": {
    "editable": true,
    "slideshow": {
     "slide_type": ""
    },
    "tags": []
   },
   "source": [
    "# Unraveling the “black-box” of artificial intelligence-based pathological analysis of liver cancerapplications"
   ]
  },
  {
   "cell_type": "markdown",
   "id": "a3709179-f1f3-4d0a-acc4-0848b8289664",
   "metadata": {},
   "source": [
    "## Current advances of AI-based approaches for clinical management of liver cancer\n",
    "\n",
    "### AI-based prognostication of liver cancer\n",
    "\n",
    "### Molecular profiling of liver cancer via AI\n",
    "\n",
    "### Exploring predictive indicators for therapy response\n",
    "\n",
    "## Current challenges limiting AI-based approaches in the management of liver cancer\n",
    "\n",
    "(One paragraph highlighting the urgent need to explain the “bldeep learningcre applications"
   ]
  },
  {
   "cell_type": "markdown",
   "id": "7c3b654e-adc4-4808-a0de-45d61387cfdf",
   "metadata": {
    "editable": true,
    "slideshow": {
     "slide_type": ""
    },
    "tags": []
   },
   "source": [
    "## Strategies for unraveling the “black-box” of AI-based\n",
    "\n",
    "### Model-based explanation\n",
    "1. Support vector machine or random forests vs. deep learning\n",
    "2. Supervised learning vs. weakly supervised learning vs. unsupervised learning\n",
    "3. Textual explanation\n",
    "   a. Image captioning\n",
    "   b. Image captioning with visual explanation\n",
    "4. Example-based explanation \n",
    "   a. Triplet network\n",
    "   b. Prototypes\n",
    "\n",
    "### Post hoc explanation\n",
    "1. Visual explanation (saliency mapping, pathologist-in-the-loop)\n",
    "   a. Backpropagation-based approaches\n",
    "      Including class activation mapping (CAM) and gradient-weighted class activation mapping (Grad-CAM)\n",
    "   b. Perturbation-based approaches\n",
    "      Including Occlusion sensitivity map (OSM), local interpretable model-agnostic explannations (LIME)\n",
    "   c. Multiple instance learning-based approaches\n",
    "2. Textual explanation\n",
    "   Testing with concept activation vectors (TCAV)\n",
    "3. Example-based explanation\n",
    "   a. Influence functions\n",
    "   b. ..."
   ]
  },
  {
   "cell_type": "markdown",
   "id": "689c70db-430c-423d-bfb1-1c5b78c224ac",
   "metadata": {
    "editable": true,
    "slideshow": {
     "slide_type": ""
    },
    "tags": []
   },
   "source": [
    "## Conclusion and future applications"
   ]
  },
  {
   "cell_type": "code",
   "execution_count": null,
   "id": "c7cf23e5-7780-467c-826c-c45966197d2b",
   "metadata": {
    "editable": true,
    "slideshow": {
     "slide_type": ""
    },
    "tags": []
   },
   "outputs": [],
   "source": []
  }
 ],
 "metadata": {
  "kernelspec": {
   "display_name": "Python 3 (ipykernel)",
   "language": "python",
   "name": "python3"
  },
  "language_info": {
   "codemirror_mode": {
    "name": "ipython",
    "version": 3
   },
   "file_extension": ".py",
   "mimetype": "text/x-python",
   "name": "python",
   "nbconvert_exporter": "python",
   "pygments_lexer": "ipython3",
   "version": "3.9.5"
  }
 },
 "nbformat": 4,
 "nbformat_minor": 5
}
