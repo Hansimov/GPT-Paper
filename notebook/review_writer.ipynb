{
 "cells": [
  {
   "cell_type": "code",
   "execution_count": 24,
   "id": "1739b204-98a3-4775-ba26-c27609c98816",
   "metadata": {
    "editable": true,
    "jupyterlab-hide-cells:hidden": true,
    "slideshow": {
     "slide_type": ""
    },
    "tags": []
   },
   "outputs": [
    {
     "name": "stderr",
     "output_type": "stream",
     "text": [
      "Repo path: [E:\\_codes\\GPT-Paper]\n",
      "Current directory: [E:\\_codes\\GPT-Paper\\notebook]\n"
     ]
    },
    {
     "data": {
      "application/vnd.jupyter.widget-view+json": {
       "model_id": "3b9f1fad8b004e6796f17f4d9416aaaa",
       "version_major": 2,
       "version_minor": 0
      },
      "text/plain": [
       "HBox(children=(Image(value=b'\\x89PNG\\r\\n\\x1a\\n\\x00\\x00\\x00\\rIHDR\\x00\\x00\\t\\xf6\\x00\\x00\\x0c\\xe4\\x08\\x02\\x00\\x00…"
      ]
     },
     "metadata": {},
     "output_type": "display_data"
    }
   ],
   "source": [
    "import os\n",
    "import sys\n",
    "from pathlib import Path\n",
    "from IPython.display import display\n",
    "from ipywidgets import Image as wImage\n",
    "from ipywidgets import HBox, Layout\n",
    "\n",
    "repo_path = Path(os.path.abspath(\".\")).parent\n",
    "if str(repo_path) not in sys.path:\n",
    "    sys.path.append(str(repo_path))\n",
    "current_directory = Path().absolute()\n",
    "\n",
    "from utils.logger import logger\n",
    "from termcolor import colored\n",
    "from notebook_ui import set_background\n",
    "\n",
    "logger.note(f\"Repo path: [{repo_path}]\")\n",
    "logger.note(f\"Current directory: [{current_directory}]\")\n",
    "\n",
    "# pdf_dir = \"Deep learning predicts postsurgical recurrence of hepatocellular carcinoma from digital histopathologic images\"\n",
    "\n",
    "pdf_dir = \"2308.09687 - Graph of Thoughts\"\n",
    "\n",
    "image_paths = [\n",
    "    f\n",
    "    for f in (repo_path / \"pdfs\" / pdf_dir / \"queries\" / \"Tree of Thoughts vs Graph of Thoughts\").glob(\"*.png\")\n",
    "]\n",
    "images = [\n",
    "    wImage(value=image_path.open(\"rb\").read(), format='png', width=400)\n",
    "    for image_path in image_paths\n",
    "]\n",
    "\n",
    "display(HBox(images))"
   ]
  },
  {
   "cell_type": "code",
   "execution_count": 39,
   "id": "d3e31613-fe95-4129-a485-570d17be270e",
   "metadata": {
    "editable": true,
    "slideshow": {
     "slide_type": ""
    },
    "tags": []
   },
   "outputs": [],
   "source": [
    "from IPython.display import HTML, display\n",
    "from IPython.core.magic import register_cell_magic\n",
    "\n",
    "def set_background(color):    \n",
    "    script = (\n",
    "        \"var cell = this.closest('.jp-CodeCell');\"\n",
    "        \"var editor = cell.querySelector('.jp-Editor');\"\n",
    "        \"editor.style.background='{}';\"\n",
    "        \"this.parentNode.removeChild(this)\"\n",
    "    ).format(color)\n",
    "    \n",
    "    display(HTML(f'<img src onerror=\"{script}\" style=\"display:none\">'))\n",
    "\n",
    "@register_cell_magic\n",
    "def bg(color, cell):\n",
    "    set_background(color)\n",
    "    return eval(cell)"
   ]
  },
  {
   "cell_type": "code",
   "execution_count": 25,
   "id": "2b5907c4-c6bf-4a01-a9eb-af5707da9f8d",
   "metadata": {},
   "outputs": [
    {
     "data": {
      "text/html": [
       "<img src onerror=\"var cell = this.closest('.jp-CodeCell');var editor = cell.querySelector('.jp-Editor');editor.style.background='#0a0a0a';this.parentNode.removeChild(this)\" style=\"display:none\">"
      ],
      "text/plain": [
       "<IPython.core.display.HTML object>"
      ]
     },
     "metadata": {},
     "output_type": "display_data"
    },
    {
     "name": "stderr",
     "output_type": "stream",
     "text": [
      "Testing set_background\n"
     ]
    }
   ],
   "source": [
    "%%bg #0a0a0a\n",
    "logger.info(\"Testing set_background\")"
   ]
  },
  {
   "cell_type": "code",
   "execution_count": null,
   "id": "1ce59c2f-cf7e-433c-ab34-10f458574573",
   "metadata": {},
   "outputs": [],
   "source": []
  }
 ],
 "metadata": {
  "kernelspec": {
   "display_name": "Python 3 (ipykernel)",
   "language": "python",
   "name": "python3"
  },
  "language_info": {
   "codemirror_mode": {
    "name": "ipython",
    "version": 3
   },
   "file_extension": ".py",
   "mimetype": "text/x-python",
   "name": "python",
   "nbconvert_exporter": "python",
   "pygments_lexer": "ipython3",
   "version": "3.9.5"
  }
 },
 "nbformat": 4,
 "nbformat_minor": 5
}
