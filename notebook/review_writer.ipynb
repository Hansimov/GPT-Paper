{
 "cells": [
  {
   "cell_type": "code",
   "execution_count": 1,
   "id": "8c029d20-a0dc-494b-9514-9ec1de269412",
   "metadata": {
    "editable": true,
    "slideshow": {
     "slide_type": ""
    },
    "tags": []
   },
   "outputs": [
    {
     "data": {
      "text/html": [
       "\n",
       "                <script type=\"application/javascript\" id=\"jupyter_black\">\n",
       "                (function() {\n",
       "                    if (window.IPython === undefined) {\n",
       "                        return\n",
       "                    }\n",
       "                    var msg = \"WARNING: it looks like you might have loaded \" +\n",
       "                        \"jupyter_black in a non-lab notebook with \" +\n",
       "                        \"`is_lab=True`. Please double check, and if \" +\n",
       "                        \"loading with `%load_ext` please review the README!\"\n",
       "                    console.log(msg)\n",
       "                    alert(msg)\n",
       "                })()\n",
       "                </script>\n",
       "                "
      ],
      "text/plain": [
       "<IPython.core.display.HTML object>"
      ]
     },
     "metadata": {},
     "output_type": "display_data"
    },
    {
     "name": "stdout",
     "output_type": "stream",
     "text": [
      "Repo path:   [C:\\_codes\\GPT-Paper]\n",
      "Working dir: [C:\\_codes\\GPT-Paper\\notebook]\n",
      "Now: [2023-09-21 19:33:39.287358]\n",
      "40 queries after combined.\n"
     ]
    },
    {
     "data": {
      "application/vnd.jupyter.widget-view+json": {
       "model_id": "fc44fb47248b4535b2d9f95192a27910",
       "version_major": 2,
       "version_minor": 0
      },
      "text/plain": [
       "VBox(children=(HBox(children=(Button(description='Toggle Layout (Chat + References)', layout=Layout(width='aut…"
      ]
     },
     "metadata": {},
     "output_type": "display_data"
    },
    {
     "data": {
      "application/vnd.jupyter.widget-view+json": {
       "model_id": "8b5870beb8c84de2ba2c0cca12aeea3c",
       "version_major": 2,
       "version_minor": 0
      },
      "text/plain": [
       "HBox(children=(Button(description='Split paragraph', layout=Layout(width='auto'), style=ButtonStyle()),))"
      ]
     },
     "metadata": {},
     "output_type": "display_data"
    },
    {
     "data": {
      "application/vnd.jupyter.widget-view+json": {
       "model_id": "3d1e0dd0b9274813b4c7f56eee19257c",
       "version_major": 2,
       "version_minor": 0
      },
      "text/plain": [
       "Textarea(value='', layout=Layout(max_height='400px', width='auto'), placeholder='Type something')"
      ]
     },
     "metadata": {},
     "output_type": "display_data"
    },
    {
     "data": {
      "application/vnd.jupyter.widget-view+json": {
       "model_id": "5ebcf157ff634e7bb0ba5ee9ee0e12fa",
       "version_major": 2,
       "version_minor": 0
      },
      "text/plain": [
       "HBox(children=(Button(description='Submit', layout=Layout(width='auto'), style=ButtonStyle()), Button(descript…"
      ]
     },
     "metadata": {},
     "output_type": "display_data"
    },
    {
     "data": {
      "application/javascript": [
       "\n",
       "    let textareas = document.getElementsByTagName('textarea');\n",
       "    for (const textarea of textareas) {\n",
       "        textarea.style.resize = 'none';\n",
       "        textarea.style.fontSize = '16px';\n",
       "        textarea.style.lineHeight = '1.2';\n",
       "        textarea.style.padding = '8px';\n",
       "        textarea.style.fontFamily = 'Arial';\n",
       "        textarea.setAttribute('rows', 2);\n",
       "        textarea.setAttribute(\n",
       "            'oninput',\n",
       "            \"this.style.height = ''; this.style.height = this.scrollHeight + 3 + 'px'; console.log(this.scrollHeight);\"\n",
       "        )\n",
       "    }\n",
       "    \n",
       "    "
      ],
      "text/plain": [
       "<IPython.core.display.Javascript object>"
      ]
     },
     "metadata": {},
     "output_type": "display_data"
    },
    {
     "data": {
      "application/javascript": [
       "\n",
       "    let chatAnchorElements = document.querySelectorAll('chat-anchor');\n",
       "\n",
       "    function throttle(func, interval) {\n",
       "        let lastCall = 0;\n",
       "        return function() {\n",
       "            let now = Date.now();\n",
       "            if (now - lastCall >= interval) {\n",
       "                lastCall = now;\n",
       "                return func.apply(this, arguments);\n",
       "            }\n",
       "        };\n",
       "    }\n",
       "\n",
       "    chatAnchorElements.forEach(function(chatAnchorElement) {\n",
       "        let parentElement = chatAnchorElement.closest('.lm-Widget.lm-Panel.jupyter-widgets.widget-container.widget-box.widget-vbox');\n",
       "\n",
       "        if (parentElement) {\n",
       "            console.log(\"Found parent:\", parentElement);\n",
       "            let lastScrollHeight = parentElement.scrollHeight;\n",
       "            let observer = new MutationObserver(throttle(function(mutations) {\n",
       "                mutations.forEach(function(mutation) {\n",
       "                    if (lastScrollHeight !== parentElement.scrollHeight) {\n",
       "                        lastScrollHeight = parentElement.scrollHeight;\n",
       "                        if (parentElement.scrollTop !== parentElement.scrollHeight) {\n",
       "                            parentElement.scrollTop = parentElement.scrollHeight;\n",
       "                        }\n",
       "                    }\n",
       "                });\n",
       "            }, 800));\n",
       "\n",
       "            let config = { attributes: true, childList: true, subtree: true };\n",
       "            observer.observe(parentElement, config);\n",
       "        } else {\n",
       "            console.log('No parent element with the class `lm-Widget jp-OutputArea` found.');\n",
       "        }\n",
       "    });\n",
       "    "
      ],
      "text/plain": [
       "<IPython.core.display.Javascript object>"
      ]
     },
     "metadata": {},
     "output_type": "display_data"
    }
   ],
   "source": [
    "%load_ext autoreload\n",
    "%autoreload\n",
    "%run -i \"startup.py\"\n",
    "\n",
    "# conversation_viewer = ConversationViewer()\n",
    "# display(conversation_viewer.output_widget)\n",
    "# conversation_viewer.display()\n",
    "# section_viewer_tree = SectionViewerTree(\"cancer_review\")\n",
    "reference_viewer = ReferenceViewer(\"cancer_review\")\n",
    "reference_viewer.display()"
   ]
  },
  {
   "cell_type": "raw",
   "id": "5cf1b7d4-6892-42c7-b6b7-9a74b6edbd79",
   "metadata": {
    "editable": true,
    "jupyter": {
     "source_hidden": true
    },
    "slideshow": {
     "slide_type": ""
    },
    "tags": [
     "outline"
    ]
   },
   "source": [
    "Title: Unraveling the “black-box” of artificial intelligence-based pathological analysis of liver cancer\n",
    "\n",
    "# 1. Current advances of AI-based approaches for clinical management of liver cancer\n",
    "\n",
    "## 1.1 AI-based prognostication of liver cancer\n",
    "\n",
    "## 1.2 Molecular profiling of liver cancer via AI\n",
    "\n",
    "## 1.3 Exploring predictive indicators for therapy response\n",
    "\n",
    "# 2. Current challenges limiting AI-based approaches in the management of liver cancer\n",
    "\n",
    "(One paragraph highlighting the urgent need to explain the “black box” of deeplearning)\n",
    "\n",
    "# 3. Strategies for unraveling the “black-box” of AI-based pathological analysis of liver cancer\n",
    "\n",
    "## 3.1 Model-based explanation\n",
    "### 3.1.1 Support vector machine or random forests vs. deep learning\n",
    "### 3.1.2 Supervised learning vs. weakly supervised learning vs. unsupervised learning\n",
    "### 3.1.3 Textual explanation\n",
    "#### 3.1.3.1 Image captioning\n",
    "#### 3.1.3.2 Image captioning with visual explanation\n",
    "### 3.1.4 Example-based explanation \n",
    "#### 3.1.4.1 Triplet network\n",
    "#### 3.1.4.2 Prototypes\n",
    "\n",
    "## 3.2 Post hoc explanation\n",
    "\n",
    "### 3.2.1 Visual explanation (saliency mapping, pathologist-in-the-loop)\n",
    "#### 3.2.1.1 Backpropagation-based approaches\n",
    "      Including class activation mapping (CAM) and gradient-weighted class activation mapping (Grad-CAM)\n",
    "#### 3.2.1.2 Perturbation-based approaches\n",
    "      Including Occlusion sensitivity map (OSM), local interpretable model-agnostic explannations (LIME)\n",
    "#### 3.2.1.3 Multiple instance learning-based approaches\n",
    "\n",
    "### 3.2.2 Textual explanation\n",
    "   Testing with concept activation vectors (TCAV)\n",
    "### 3.2.3 Example-based explanation\n",
    "\n",
    "# 4. Conclusion and future applications"
   ]
  },
  {
   "cell_type": "code",
   "execution_count": null,
   "id": "769fe72e-848f-4766-b89d-1aa91183f615",
   "metadata": {
    "editable": true,
    "slideshow": {
     "slide_type": ""
    },
    "tags": []
   },
   "outputs": [],
   "source": [
    "ipynb_name = \"review_writer.ipynb\"\n",
    "markdown_cells = get_notebook_cells(notebook_path=ipynb_name, cell_types=[\"markdown\"])\n",
    "outline_cells = [\n",
    "    cell for cell in markdown_cells if \"outline\" in cell[\"metadata\"][\"tags\"]\n",
    "]\n",
    "outline_content = \"\".join([cell[\"source\"] for cell in outline_cells])"
   ]
  },
  {
   "cell_type": "code",
   "execution_count": null,
   "id": "193d8a37-cb0c-4096-be66-55539ae48bf0",
   "metadata": {
    "scrolled": true
   },
   "outputs": [],
   "source": [
    "outline_filler.clear_history_messages()\n",
    "outline_filler_res = outline_filler.chat(outline_content, continous=True)"
   ]
  },
  {
   "cell_type": "raw",
   "id": "942bbdb9-1bb2-496a-9881-bc542f4e7779",
   "metadata": {},
   "source": [
    "A typical workflow of generate a detailed review of a section title:\n",
    "- [Agent] outline_filler: Fill in the outline with intros, and structuralize it to JSON with idx and levels.\n",
    "- [Agent] Synonymer: Generate similar texts for each sub-section\n",
    "- [Program] Retrieve and Re-rank from local embbedings of docs\n",
    "- [Agent] Summarizer: Summarize the above content into a section\n",
    "- [Agent] Polisher: Polish the content of the section"
   ]
  },
  {
   "cell_type": "code",
   "execution_count": null,
   "id": "725ecc57-3a03-4931-b56d-16297893b51f",
   "metadata": {
    "scrolled": true
   },
   "outputs": [],
   "source": [
    "outline_details_json_path = \"data/review_outline_details.json\"\n",
    "with open(outline_details_json_path, \"r\", encoding=\"utf-8\") as rf:\n",
    "    outline_details_data = json.load(rf)\n",
    "display(outline_details_data)"
   ]
  },
  {
   "cell_type": "code",
   "execution_count": null,
   "id": "45860b94-7eca-4d17-8213-7533fd8a4e8e",
   "metadata": {},
   "outputs": [],
   "source": [
    "conversation_viewer = ConversationViewer()\n",
    "display(conversation_viewer.output_widget)\n",
    "conversation_viewer.display()"
   ]
  }
 ],
 "metadata": {
  "kernelspec": {
   "display_name": "Python 3 (ipykernel)",
   "language": "python",
   "name": "python3"
  },
  "language_info": {
   "codemirror_mode": {
    "name": "ipython",
    "version": 3
   },
   "file_extension": ".py",
   "mimetype": "text/x-python",
   "name": "python",
   "nbconvert_exporter": "python",
   "pygments_lexer": "ipython3",
   "version": "3.9.6"
  },
  "widgets": {
   "application/vnd.jupyter.widget-state+json": {
    "state": {},
    "version_major": 2,
    "version_minor": 0
   }
  }
 },
 "nbformat": 4,
 "nbformat_minor": 5
}
