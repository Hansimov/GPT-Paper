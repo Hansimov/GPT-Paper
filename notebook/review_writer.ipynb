{
 "cells": [
  {
   "cell_type": "code",
   "execution_count": 1,
   "id": "6bd0166d-e107-4dc3-a95d-f72a5357e3d2",
   "metadata": {
    "editable": true,
    "slideshow": {
     "slide_type": ""
    },
    "tags": []
   },
   "outputs": [
    {
     "data": {
      "text/html": [
       "\n",
       "                <script type=\"application/javascript\" id=\"jupyter_black\">\n",
       "                (function() {\n",
       "                    if (window.IPython === undefined) {\n",
       "                        return\n",
       "                    }\n",
       "                    var msg = \"WARNING: it looks like you might have loaded \" +\n",
       "                        \"jupyter_black in a non-lab notebook with \" +\n",
       "                        \"`is_lab=True`. Please double check, and if \" +\n",
       "                        \"loading with `%load_ext` please review the README!\"\n",
       "                    console.log(msg)\n",
       "                    alert(msg)\n",
       "                })()\n",
       "                </script>\n",
       "                "
      ],
      "text/plain": [
       "<IPython.core.display.HTML object>"
      ]
     },
     "metadata": {},
     "output_type": "display_data"
    },
    {
     "name": "stdout",
     "output_type": "stream",
     "text": [
      "Repo path:   [/mnt/sh_flex_storage/home/zehanyu/repos/GPT-Paper]\n",
      "Working dir: [/mnt/sh_flex_storage/home/zehanyu/repos/GPT-Paper/notebook]\n",
      "Now: [2023-09-05 13:10:38.424443]\n"
     ]
    }
   ],
   "source": [
    "%load_ext autoreload\n",
    "%autoreload\n",
    "%run -i \"startup.py\"\n",
    "\n",
    "prompter = OpenAIAgent(\n",
    "    name=\"prompter\",\n",
    "    model=\"gpt-4\",\n",
    "    system_message=\"你是一个擅长为大语言模型（LLM）撰写提示词（prompts）的专家。对于提供的文本，你总是能给出更易于LLM生成优质回复的prompts。下面是给出的文本：\",\n",
    ")\n",
    "translator = OpenAIAgent(\n",
    "    name=\"translator\",\n",
    "    model=\"gpt-3.5-turbo\",\n",
    "    system_message=\"你是一个专业的中英双语专家。如果给出英文，你需要如实翻译成中文；如果给出中文，你需要如实翻译成英文。你的翻译应当是严谨的和自然的，不要删改原文。请按照要求翻译如下文本：\",\n",
    ")\n",
    "summarizer = OpenAIAgent(\n",
    "    name=\"summarizer\",\n",
    "    model=\"gpt-4\",\n",
    "    system_message=\"你是一个擅长总结医学文章的医学专家。对于提供的文本，你总是能给出易于理解和总结。下面是提供的文本：\",\n",
    "    memory=True,\n",
    ")\n",
    "synonymer = OpenAIAgent(\n",
    "    name=\"synonymer\",\n",
    "    system_message=\"你的任务是生成与提供的文本内容相近的文本。对于提供的文本，你总是给出三条长度和意思相近的文本。下面是提供的文本：\",\n",
    ")\n",
    "outliner = OpenAIAgent(\n",
    "    name=\"outliner\",\n",
    "    system_message=\"你的任务是针对给定的文本和话题，生成大纲。下面是提供的文本：\",\n",
    ")\n",
    "polisher = OpenAIAgent(\n",
    "    name=\"polisher\",\n",
    "    model=\"claude-2\",\n",
    "    system_message=\"你的任务是针对提供的文本，进行逻辑和表达上的润色。润色后的内容应当更加严谨和丰富。下面是提供的文本：\",\n",
    ")\n",
    "criticizer = OpenAIAgent(\n",
    "    name=\"criticizer\",\n",
    "    system_message=\"你的任务是针对提供的文本，分别给出三类批评：对观点的批评，对逻辑的批评，对表达的批评。下面是提供的文本：\",\n",
    ")\n",
    "backtracker = OpenAIAgent(\n",
    "    name=\"backtracker\",\n",
    "    system_message=\"你的任务是根据提供的文本，猜测该段文本可能源于什么场景或问题。请给出三个可能的选项。下面是提供的文本：\",\n",
    ")\n",
    "tasker = OpenAIAgent(\n",
    "    name=\"tasker\",\n",
    "    model=\"gpt-4\",\n",
    "    system_message=\"你擅长将一个大任务分解成多个连续的子任务。下面是任务内容：\",\n",
    ")\n",
    "\n",
    "retriver = DocumentsRetriever(\"cancer_review\")\n",
    "\n",
    "article_decomposer = OpenAIAgent(\n",
    "    name=\"article_decomposer\",\n",
    "    model=\"gpt-4\",\n",
    "    system_message=\"\"\"\n",
    "    你的任务是：对于所给的markdown格式的文本，为每个最末端的章节，根据其上层各级内容，生成独立的可以完整检索的一行短句。下面是样例输入，以及你应当的输出：\n",
    "\n",
    "    样例输入：\n",
    "    \n",
    "    ```\n",
    "    ## Current advances of AI-based approaches for clinical management of liver cancer\n",
    "    ### AI-based prognostication of liver cancer\n",
    "    \n",
    "    ## Strategies for unraveling the “black-box” of AI-based\n",
    "    \n",
    "    ### Model-based explanation\n",
    "    1. Support vector machine or random forests vs. deep learning\n",
    "    2. Supervised learning vs. weakly supervised learning vs. unsupervised learning\n",
    "    3. Textual explanation\n",
    "       a. Image captioning\n",
    "       b. Image captioning with visual explanation\n",
    "    4. Example-based explanation \n",
    "       a. Triplet network\n",
    "       b. Prototypes\n",
    "    ```\n",
    "\n",
    "    你的输出应当是：\n",
    "    \n",
    "    ```\n",
    "    [\n",
    "        \"1.1 Current advances of AI-based approaches for clinical management of liver cancer,  AI-based prognostication of liver cancer\"\n",
    "        \"2.1.1 Model-based explanation of Strategies for unraveling the “black-box” of AI-based, a comparison of Support vector machine, random forests and deep learning\",\n",
    "        \"2.1.2 Model-based explanation of Strategies for unraveling the “black-box” of AI-based, a comparison of Supervised learning vs. weakly supervised learning vs. unsupervised learning\",\n",
    "        \"2.1.3.1 Textual (Image captioning) explanation of Strategies for unraveling the “black-box” of AI-based\",\n",
    "        \"2.1.3.2 Textual (Image captioning with visual explanation) explanation of Strategies for unraveling the “black-box” of AI-based\",\n",
    "        \"2.1.4.1 Example-based (Triplet network) explanation of Strategies for unraveling the “black-box” of AI-based\",\n",
    "        \"2.1.4.2 Example-based (Prototypes) explanation of Strategies for unraveling the “black-box” of AI-based\"\n",
    "    ]\n",
    "    ```\n",
    "\n",
    "    请依据上述要求和示例，对下面的文本给出符合要求的输出：\n",
    "    \"\"\",\n",
    ")"
   ]
  },
  {
   "cell_type": "code",
   "execution_count": 3,
   "id": "2291a0ec-538c-4b82-ac9e-7ab1f1123617",
   "metadata": {
    "editable": true,
    "slideshow": {
     "slide_type": ""
    },
    "tags": []
   },
   "outputs": [
    {
     "name": "stdout",
     "output_type": "stream",
     "text": [
      "[Human]: Unraveling the “black-box” of artificial intelligence-based pathological analysis of liver cancer applications\n",
      "Prompt Tokens count: [19]\n",
      "[Translator]: 揭开人工智能基于肝癌病理分析应用的“黑匣子”\n"
     ]
    },
    {
     "data": {
      "text/plain": [
       "'揭开人工智能基于肝癌病理分析应用的“黑匣子”'"
      ]
     },
     "execution_count": 3,
     "metadata": {},
     "output_type": "execute_result"
    }
   ],
   "source": [
    "main_title = \"Unraveling the “black-box” of artificial intelligence-based pathological analysis of liver cancer applications\"\n",
    "translator.chat(main_title, show_prompt=True)\n",
    "# outliner_res = outliner.chat(main_title)"
   ]
  },
  {
   "cell_type": "code",
   "execution_count": 27,
   "id": "c524d457-b590-48f8-a346-471f32ac85e7",
   "metadata": {},
   "outputs": [
    {
     "name": "stdout",
     "output_type": "stream",
     "text": [
      "[Retriever]: 1. Shedding light on the enigmatic AI algorithms used in liver cancer pathology analysis.\n",
      "2. Peering inside the AI \"black-box\" for liver cancer diagnosis insights.\n",
      "3. Deciphering the mysteries of AI in the pathological analysis of liver cancer.\n"
     ]
    }
   ],
   "source": [
    "retriver_res = retriver.chat(main_title)"
   ]
  },
  {
   "cell_type": "code",
   "execution_count": null,
   "id": "69832b2e-03fd-42c5-afd2-b9ae7ca971a2",
   "metadata": {},
   "outputs": [],
   "source": [
    "summarizer_res = summarizer.chat(outliner_res)"
   ]
  },
  {
   "cell_type": "markdown",
   "id": "df4cf78b-92a0-4d92-9584-9b64ec8d9d3f",
   "metadata": {
    "editable": true,
    "slideshow": {
     "slide_type": ""
    },
    "tags": [
     "outline"
    ]
   },
   "source": [
    "# Unraveling the “black-box” of artificial intelligence-based pathological analysis of liver cancer\n",
    "\n",
    "## Current advances of AI-based approaches for clinical management of liver cancer\n",
    "\n",
    "### AI-based prognostication of liver cancer\n",
    "\n",
    "### Molecular profiling of liver cancer via AI\n",
    "\n",
    "### Exploring predictive indicators for therapy response\n",
    "\n",
    "## Current challenges limiting AI-based approaches in the management of liver cancer\n",
    "\n",
    "(One paragraph highlighting the urgent need to explain the “black box” of deeplearning)\n",
    "\n",
    "## Strategies for unraveling the “black-box” of AI-based\n",
    "\n",
    "### Model-based explanation\n",
    "1. Support vector machine or random forests vs. deep learning\n",
    "2. Supervised learning vs. weakly supervised learning vs. unsupervised learning\n",
    "3. Textual explanation\n",
    "   a. Image captioning\n",
    "   b. Image captioning with visual explanation\n",
    "4. Example-based explanation \n",
    "   a. Triplet network\n",
    "   b. Prototypes\n",
    "\n",
    "### Post hoc explanation\n",
    "1. Visual explanation (saliency mapping, pathologist-in-the-loop)\n",
    "   a. Backpropagation-based approaches\n",
    "      Including class activation mapping (CAM) and gradient-weighted class activation mapping (Grad-CAM)\n",
    "   b. Perturbation-based approaches\n",
    "      Including Occlusion sensitivity map (OSM), local interpretable model-agnostic explannations (LIME)\n",
    "   c. Multiple instance learning-based approaches\n",
    "2. Textual explanation\n",
    "   Testing with concept activation vectors (TCAV)\n",
    "3. Example-based explanation\n",
    "   a. Influence functions\n",
    "   b. ...\n",
    "\n",
    "## Conclusion and future applications"
   ]
  },
  {
   "cell_type": "code",
   "execution_count": 16,
   "id": "769fe72e-848f-4766-b89d-1aa91183f615",
   "metadata": {
    "editable": true,
    "slideshow": {
     "slide_type": ""
    },
    "tags": []
   },
   "outputs": [
    {
     "data": {
      "text/plain": [
       "'# Unraveling the “black-box” of artificial intelligence-based pathological analysis of liver cancer\\n\\n## Current advances of AI-based approaches for clinical management of liver cancer\\n\\n### AI-based prognostication of liver cancer\\n\\n### Molecular profiling of liver cancer via AI\\n\\n### Exploring predictive indicators for therapy response\\n\\n## Current challenges limiting AI-based approaches in the management of liver cancer\\n\\n(One paragraph highlighting the urgent need to explain the “black box” of deeplearning)\\n\\n## Strategies for unraveling the “black-box” of AI-based\\n\\n### Model-based explanation\\n1. Support vector machine or random forests vs. deep learning\\n2. Supervised learning vs. weakly supervised learning vs. unsupervised learning\\n3. Textual explanation\\n   a. Image captioning\\n   b. Image captioning with visual explanation\\n4. Example-based explanation \\n   a. Triplet network\\n   b. Prototypes\\n\\n### Post hoc explanation\\n1. Visual explanation (saliency mapping, pathologist-in-the-loop)\\n   a. Backpropagation-based approaches\\n      Including class activation mapping (CAM) and gradient-weighted class activation mapping (Grad-CAM)\\n   b. Perturbation-based approaches\\n      Including Occlusion sensitivity map (OSM), local interpretable model-agnostic explannations (LIME)\\n   c. Multiple instance learning-based approaches\\n2. Textual explanation\\n   Testing with concept activation vectors (TCAV)\\n3. Example-based explanation\\n   a. Influence functions\\n   b. ...\\n\\n## Conclusion and future applications'"
      ]
     },
     "metadata": {},
     "output_type": "display_data"
    }
   ],
   "source": [
    "ipynb_name = \"review_writer.ipynb\"\n",
    "markdown_cells = get_notebook_cells(notebook_path=ipynb_name, cell_types=[\"markdown\"])\n",
    "# display(markdown_cells)\n",
    "outline_cells = [\n",
    "    cell for cell in markdown_cells if \"outline\" in cell[\"metadata\"][\"tags\"]\n",
    "]\n",
    "outline_content = \"\".join([cell[\"source\"] for cell in outline_cells])\n",
    "display(outline_content)"
   ]
  },
  {
   "cell_type": "code",
   "execution_count": 13,
   "id": "193d8a37-cb0c-4096-be66-55539ae48bf0",
   "metadata": {},
   "outputs": [
    {
     "name": "stdout",
     "output_type": "stream",
     "text": [
      "Prompt Tokens count: [315]\n",
      "```\n",
      "[\n",
      "    \"1.1 Current advances of AI-based approaches for clinical management of liver cancer, AI-based prognostication of liver cancer\",\n",
      "    \"1.2 Current advances of AI-based approaches for clinical management of liver cancer, Molecular profiling of liver cancer via AI\",\n",
      "    \"1.3 Current advances of AI-based approaches for clinical management of liver cancer, Exploring predictive indicators for therapy response\",\n",
      "    \"2.1.1 Model-based explanation of Strategies for unraveling the “black-box” of AI-based, a comparison of Support vector machine, random forests and deep learning\",\n",
      "    \"2.1.2 Model-based explanation of Strategies for unraveling the “black-box” of AI-based, a comparison of Supervised learning vs. weakly supervised learning vs. unsupervised learning\",\n",
      "    \"2.1.3.1 Textual (Image captioning) explanation of Strategies for unraveling the “black-box” of AI-based\",\n",
      "    \"2.1.3.2 Textual (Image captioning with visual explanation) explanation of Strategies for unraveling the “black-box” of AI-based\",\n",
      "    \"2.1.4.1 Example-based (Triplet network) explanation of Strategies for unraveling the “black-box” of AI-based\",\n",
      "    \"2.1.4.2 Example-based (Prototypes) explanation of Strategies for unraveling the “black-box” of AI-based\",\n",
      "    \"2.2.1.1 Post hoc (Visual explanation, Backpropagation-based approaches) explanation of Strategies for unraveling the “black-box” of AI-based\",\n",
      "    \"2.2.1.2 Post hoc (Visual explanation, Perturbation-based approaches) explanation of Strategies for unraveling the “black-box” of AI-based\",\n",
      "    \"2.2.1.3 Post hoc (Visual explanation, Multiple instance learning-based approaches) explanation of Strategies for unraveling the “black-box” of AI-based\",\n",
      "    \"2.2.2 Post hoc (Textual explanation, Testing with concept activation vectors) explanation of Strategies for unraveling the “black-box” of AI-based\",\n",
      "    \"2.2.3.1 Post hoc (Example-based explanation, Influence functions) explanation of Strategies for unraveling the “black-box” of AI-based\"\n",
      "]\n",
      "```\n"
     ]
    }
   ],
   "source": [
    "article_decomposer_res = article_decomposer.chat(outline_content)"
   ]
  },
  {
   "cell_type": "code",
   "execution_count": null,
   "id": "04caf8d7-06bd-4024-89d7-72df07936e67",
   "metadata": {},
   "outputs": [],
   "source": []
  },
  {
   "cell_type": "raw",
   "id": "942bbdb9-1bb2-496a-9881-bc542f4e7779",
   "metadata": {},
   "source": [
    "A typical workflow of generate a detailed review of a section title:\n",
    "1. [Optional] [Agent] Synonymer: Generate similar texts for each sub-section\n",
    "2. [Program] Retrieve and Re-rank from local embbedings of docs\n",
    "3. [Agent] Summarizer: Summarize the above content into a section\n",
    "4. [Agent] Polisher: Polish the content of the section"
   ]
  },
  {
   "cell_type": "code",
   "execution_count": 13,
   "id": "2b1b7a65-e177-4250-abc2-647b65ef9bba",
   "metadata": {
    "scrolled": true
   },
   "outputs": [],
   "source": [
    "section_summarizer = OpenAIAgent(\n",
    "    name=\"section_summarizer\",\n",
    "    model=\"gpt-4\",\n",
    "    # model=\"claude-2\",\n",
    "    system_message=\"你的任务是：对于提供的文本，只关注提供的主题，给出完全符合原文内容和主题的陈述。\",\n",
    ")\n",
    "\n",
    "\n",
    "def section_sum_prompt_template(topic, queries_str, word_count=200, lang=\"en\"):\n",
    "    lang_map = {\"en\": \"英文\", \"zh\": \"中文\"}\n",
    "    lang_str = lang_map[lang]\n",
    "\n",
    "    section_sum_prompt = f\"\"\"\n",
    "    请你紧密围绕主题：\n",
    "    \n",
    "    ```\n",
    "    {topic}\n",
    "    ```\n",
    "    \n",
    "    结合下面提供的文本，给出{word_count}词的{lang_str}陈述：\n",
    "    \n",
    "    ```\n",
    "    {queries_str}\n",
    "    ```\n",
    "\n",
    "    你的输出格式：\n",
    "    \n",
    "    ```\n",
    "    Topic: {topic}\n",
    "    Statement: ...\n",
    "    ```\n",
    "    \"\"\"\n",
    "    return section_sum_prompt"
   ]
  },
  {
   "cell_type": "code",
   "execution_count": 18,
   "id": "167fc03e-58c6-4ba6-aa97-ae2cdd53a99a",
   "metadata": {
    "scrolled": true
   },
   "outputs": [
    {
     "data": {
      "text/plain": [
       "'This study used bibliometrics to conduct an in-depth analysis of the published literature on AI in liver cancer.\\nThe results showed that AI has undergone rapid development and has a wide application in the diagnosis and treatment of liver diseases, especially in China, which has one of the highest incidences of liver cancer compared to other countries the world.\\nIn addition, intelligent analysis of imaging data is the hotspot and focus of current research in this field.\\nHowever, combined with the current clinical difficulties such as accurate screening of early-stage liver cancer patients and high-risk patients, and selection of reasonable treatment decisions for advanced liver cancer patients, the use of AI for the fusion analysis of multiple types data in the process of diagnosis and treatment of liver cancer and multi-modal treatment decision-making for liver cancer are still relatively rare, and may become a future research trend.\\n\\nAs more and more researchers are interested in the use of AI in liver cancer, a large number of related studies have started being published.\\nFor example, reviews describing an overview of deep learning, convolutional neural networks and other AI technologies applications in liver cancer (20-22), reviews on the applications of AI on assisted imaging in diagnosis, prognosis and detection of liver cancer (23-25), and explained the latest research, on limitations and future development trends of AI have all been recently published.\\nHowever, current reviews may be unable to explore grasp the latest research trends and hotspots in this field because of lack of a large number of publications.\\nMeanwhile, there is a lack of quantitative analysis of all\\n\\nTherefore, we aimed to quantitatively analyze existing studies involving AI in liver cancer using bibliometrics to provide the current research progress, hotspots, and emerging trends for AI in liver cancer which may help researchers better understand grasp future research interest.\\nInformation was collated regarding countries/regions, institutions, authors, and journals with the highest citations and publications and keywords.\\n\\nOwing to the broad heterogeneity in HCC risk factors and pathogenesis, established strategies for prediction and prognostication are still limited.\\nRecently, artificial intelligence (AI) has emerged as a unique opportunity to improve the full spectrum of HCC clinical care, by: i) improving the prediction of future HCC risk in patients with established liver disease; ii) improving the accuracy of HCC\\n\\nRecent advances in artificial intelligence (AI) methodologies have made great strides in automatically quantifying pathological patterns based on digital histological slides [18].\\nWith the integration of digital slides into the pathology workflow, advanced algorithms and computeraided techniques expand and reinforce their utilization in tumor diagnosis, prognostic prediction and therapy targeting, which enable the interpretation of information beyond human limits and ultimately, improve patient management [19-21].\\nFor HCC, survival indicators after liver resection were proposed based on weakly supervised deep learning methods, exhibiting high accuracy [22, 23].\\nWith largely uncovered invisible information available from HCC histology, further integration of recurrence prediction models and AI algorithms in transplant patients suffering from HCC deserve to be explored.\\nMoreover, a comprehensive research on correlation between HCC histological structures and prognosis is urgently needed.\\n\\nAI is an upcoming promising technology that is rapidly becoming an essential part of patient management.\\nApplications of AI have expanded in all branches of medicines, especially endoscopy and hepatology.\\nThe conglomeration of data which can be clinical/laboratory, multi-omics, natural language processing (NLP) and Image recognition (both radiology-based and pathology-based) has contributed to the prediction of fibrosis, classification of liver masses and prediction of treatment response and transplant outcomes.\\n’® In this review the majority of studies mentioned focussed on diagnosis part.\\nThere are very few studies that help to predict treatment response, post-liver transplant response, and prediction of hepatotoxicity in newer drug development and more studies are needed.\\nAI also helps for realtime biomonitoring, by identification of patients at high risk of clinical decompensation and hospital admission, so that timely intervention can be done for high-risk patients.\\nWith the increasing advancement of image capture and storage, AI will bring striking changes to the diagnosis of various liver diseases with the ‘big data’ being available.\\nHowever, there are many hurdles to overcome, which researchers will do in the near future using validation studies and molecular research.\\nIt is expected that gastroenterology and hepatology will be one of the first areas in medicine to introduce AI tools on a wide-scale basis, due to its inherent reliance on endoscopic and radiological imaging.\\nHence, GI and liver specialists should be proud that our field sets the ground for AI development in medicine.\\n\\nStudies on the treatment and prognosis of liver cancer mainly focused on the survival of a specific surgical method (59-66), such as radiofrequency ablation, transarterial chemoembolization and etc.\\nReports have proven that the modern therapies integrate a variety of neoadjuvant and adjuvant strategies have achieved dramatic improvements in survival, especially for patients with advanced HCC (66, 67).\\nBut the division of the patient population, the choice of potentially disclosing novel biomarkers still are controversies and the decision-making of precision treatment methods adapted to the specific patients, AI can play a role in this, but related research has not yet been seen.\\n\\nWith the development of medical big data and computer technology, artificial intelligence (AI) based on machine learning and deep learning has been widely used in current medical research (3-6).\\nThrough self-learning, summary, and induction of data, it can produce an intelligent reasoning system and choose the optimal solution to guide clinical decision-making (7).\\nOriginal AI was based on traditional machine-learning methods, including support vector machine and random forest models, which all relied on human experience for learning and simple summary.\\nAs early as 2003, Hussain constructed a predictive system consisting of 12 genes, with Fisher’s linear classifier, for predicting early recurrence in patients with hepatocellular carcinoma (HCC) (8).\\nDuring this period, most studies have focused on simple analyses of data, such as genes and molecules (9-11).\\nWith the standardization of imaging diagnosis and its important role in the clinical diagnosis of liver cancer, AI research based on imaging has emerged by extracting high-throughput features that cannot be detected and defined by human eyes from large-scale image data to establish an intelligent decision -making model to assist clinical decisionmaking (12, 13).\\nIn particular, deep learning based on convolutional neural networks (CNNs) has promoted progress in liver cancer research (14-19).\\n\\nAnother rapidly growing area of research is focused on improved characterisation of indeterminate liver lesions.\\nIn clinical practice, when an abdominal ultrasound shows a new liver lesion, a patient is typically referred for further imaging, with contrast-enhanced CT or MRI.\\nBased on the fulfilment of specific radiologic criteria, certain liver lesions may be considered as having pathognomonic features of HCC, and thus do not require liver biopsy for further histological confirmation.\\nHowever, liver nodules imaged by CT or MRI often demonstrate indeterminate features, for which current recommendations include either liver biopsy or close interval follow-up with serial imaging.”° This practice is sub-optimal, resulting in numerous imaging studies, patient stress, and the potential for delayed diagnoses of liver cancer.\\nFor this reason, a growing body of recent literature has explored AI approaches to improve risk stratification of indeterminate liver lesions, to facilitate earlier and more accurate detection of HCC.\\n\\nRegarding data type, studies of AI in liver cancer started from the simple data modeling of genetic or molecular data (9-11).\\nWith the development of medical imaging, research on medical imaging has been gradually increasing.\\nCT, ultrasound, and MRI are the top three most used data types.\\nFirst, this may because CT and MRI can be used as the basis for clinical treatment strategies for patients with liver cancer based on guidelines for liver cancer diagnosis.\\nMoreover, ultrasound, as a screening method for patients at high risk of liver cancer, needs to be checked every six months.\\nTherefore, the data volume of these three imaging methods has greatly increased, which has promoted the development of AI in liver cancer (37-39).\\nSecond, compared with MRI, CT has the advantages of fast inspection speed and cost-effectiveness, and is an indispensable and important imaging method in the diagnosis and treatment of liver cancer.\\nFinally, although ultrasound is widely used in clinical practice, its image acquisition is seriously affected by the doctor’s operation technique and machine model, the resolution is low, and the processing is difficult.\\nTherefore, it is used less often than CT.\\nHowever, it is worth noting that contrast-enhanced ultrasound has now been included as a recommended imaging modality for the diagnosis of liver cancer (40, 41) and is also widely used in the development and prognostic evaluation of ultrasound-guided radiofrequency ablation.\\nThis suggests that we could pay attention to the important role of ultrasound in liver cancer clinics in future research.\\nAt the same time, few studies used pathological, genetic, and other clinical data (42-44).\\nThe main reason may be that the medical cost of genetic examination is high and the realization of AI in multiomics research is difficult.\\n\\nPrevious meta-analyses and literature reviews focused on the applications of specific technologies in liver cancer or the development status of specific liver disease (22-29), such as reviewing studies on AI on assisted imaging in the diagnosis, prognosis and detection of liver cancer, or explaining the latest research, limitations, and future development trends of AI in a\\n\\nThe analysis of the global trend of publications and citations and productive countries/regions is mainly to comprehensively understand the development trends of AI on liver cancer from beginning to end.\\nThe analysis of institutions, authors, and co-cited authors can quantitatively describe the strength of the cooperation between authors and institutions (30-32).\\nAdditionally, the analysis of top journals can analyze the level of cooperation and relationships in the concentrated fields of journals, which is beneficial to cross field cooperation in research (32).\\nIn particular, cluster co-occurrence analysis of keywords from different perspectives such as disease, data type, clinical goals, and clinical methods can help us understand the main topics and research trends in the current field of AI in liver cancer field.\\n\\nSince immune therapy has pioneered a new era of antitumoral systematic treatment [34], the expression of immune checkpoint molecules has been great significance to the prognosis of liver cancer [35].\\n\\nObjective: To provide the current research progress, hotspots, and emerging trends for Al in liver cancer, we have compiled a relative comprehensive and quantitative report on the research of liver disease using artificial intelligence by employing bibliometrics in this study.\\n\\nDue to the broad heterogeneity in risk factors for HCC and the lack of established strategies for prediction or prognostication, AI has recently emerged as a unique opportunity to improve the full spectrum of HCC clinical care.\\n\\nLiver cancer is an extremely aggressive malignant tumor, ranking 7\" in incidence and 4\" in mortality worldwide.\\nStudies have revealed that liver cancer has a high recurrence rate and low recovery rate, especially after the middle and late stages, and the 5-year survival rate of liver cancer is only 5-30% (1, 2).\\nTherefore, it has become a global health problem.\\nDespite advances in diagnosis and treatment of liver cancer, including improved diagnostic imaging accuracy and improved survival after neoadjuvant or conversion therapy, but it is limited.\\nAccurate screening of early-stage liver cancer patients and high-risk patients, and rational treatment decisions for patients with advanced stage liver cancer are of great significance for improving the quality of life of patients.\\n\\nProspective studies are needed to fully demonstrate the potential of AI to improve the clinical care of patients with HCC.\\nIn other medical areas, several Al-based randomised clinical trials have already been conducted.\\nAs such, in endoscopy, numerous randomised clinical trials have evaluated the impact of computer-aided systems on physicians’ performance in diagnosing intestinal adenoma or indicating blind spots of colonoscopy.’*°° The need to incorporate these new developments prompted the research community to extend the widely used SPIRIT and CONSORT guidelines for the use of Al methods in 2020.°\\'°?\\nAccording to ClinicalTrials.gov (https:// clinicaltrials.gov/), there are currently 6 ongoing trials involving AI for the management of HCC.\\nA research group at the University of Hong Kong is comparing an algorithm designed to diagnose HCC from CT images against the standard diagnostic procedure that relies on the LI-RADS criteria (NCT04843176).°?\\nA multicentre study from France is prospectively developing an AI algorithm in a non-randomised clinical trial.\\nThe research group uses clinical, biological and ultrasound data to\\n\\nArtificial Intelligence (AI) is a mathematical process of computer mediating designing of algorithms to support human intelligence.\\nAI in hepatology has shown tremendous promise to plan appropriate management and hence improve treatment outcomes.\\nThe field of AI is in a very early phase with limited clinical use.\\nAI tools such as machine learning, deep learning, and ‘big data’ are in a continuous phase of evolution, presently being applied for clinical and basic research.\\nIn this review, we have summarized various AI applications in hepatology, the pitfalls and AI\\'s future implications.\\nDifferent AI models and algorithms are under study using clinical, laboratory, endoscopic and imaging parameters to diagnose and manage liver diseases and mass lesions.\\nAI has helped to reduce human errors and improve treatment protocols.\\nFurther research and validation are required for future use of AI in hepatology.\\n(J Ciin Exp HepaTor 2023;13:149-161)\\n\\nIn this quantitative study, in order to systematically and quantitatively analyze the research status of AI in liver cancer, and explore the future research trends and hotspots in this field, we used a bibliometrics method to analyze the current research status of AI in liver cancer in terms of publication and citation trends, countries/ regions and institutions, authors and co-cited authors, journals, cited references and co-citation references, and keywords.\\nUltimately, 1724 articles focusing on Al in liver cancer were collected from the WoSCC database and analyzed.\\n\\nA growing body of research has applied AI approaches to improve HCC risk prediction, and to more accurately detect and risk stratify existing HCC tumours, based on EHR data, radiomics approaches, and molecular or histopathological biomarkers.'"
      ]
     },
     "metadata": {},
     "output_type": "display_data"
    }
   ],
   "source": [
    "section_1_1 = \"Current advances of AI-based approaches for clinical management of liver cancer, AI-based prognostication of liver cancer\"\n",
    "section_1_1_queries = retriver.query(section_1_1)\n",
    "section_1_1_queries_str = \"\\n\\n\".join(section_1_1_queries)\n",
    "display(section_1_1_queries_str)"
   ]
  },
  {
   "cell_type": "code",
   "execution_count": 31,
   "id": "8de500c7-55eb-45ca-b5f5-4ddbba46ff33",
   "metadata": {
    "scrolled": true
   },
   "outputs": [
    {
     "name": "stdout",
     "output_type": "stream",
     "text": [
      "Prompt Tokens count: [2983]\n",
      "AI has shown rapid development and wide application in the diagnosis and treatment of liver diseases, particularly in China, where liver cancer incidence is high. The current research focus is the intelligent analysis of imaging data. However, there are challenges in accurately identifying early-stage and high-risk liver cancer patients and making reasonable treatment decisions for advanced stage patients. AI's use in the fusion analysis of multiple types of data in liver cancer diagnosis and treatment, and in multi-modal treatment decision-making, is relatively rare, but may be a future research trend. AI's potential to improve HCC clinical care is being recognized, with advances in methodologies allowing for the automatic quantification of pathological patterns based on digital histological slides. AI applications have expanded in all branches of medicine, including endoscopy and hepatology, and have contributed to the prediction of fibrosis, classification of liver masses, and prediction of treatment response and transplant outcomes. There is a need for more studies predicting treatment response, post-liver transplant response, and prediction of hepatotoxicity in new drug development. AI also aids in real-time biomonitoring, identifying high-risk patients for timely intervention. Future research could focus on the role of ultrasound in liver cancer clinics, and the use of AI in multiomics research.\n",
      "Response Tokens count: [250]\n"
     ]
    }
   ],
   "source": [
    "section_1_1_sum_prompt = section_sum_prompt_template(\n",
    "    section_1_1, section_1_1_queries_str\n",
    ")\n",
    "section_1_1_sum_res = section_summarizer.chat(section_1_1_sum_prompt)\n",
    "# display(section_1_1_sum_res)\n",
    "# translator.chat(section_1, show_prompt=True)"
   ]
  },
  {
   "cell_type": "code",
   "execution_count": 32,
   "id": "c1971af0-21ce-4848-9820-bf37d1c51f16",
   "metadata": {
    "scrolled": true
   },
   "outputs": [
    {
     "name": "stdout",
     "output_type": "stream",
     "text": [
      "Prompt Tokens count: [250]\n",
      "人工智能在肝病的诊断和治疗方面已经显示出迅速发展和广泛应用，特别是在中国，那里的肝癌发病率较高。当前的研究重点是智能分析影像数据。然而，在准确识别早期和高危肝癌患者以及为晚期患者做出合理的治疗决策方面存在挑战。AI在肝癌诊断和治疗中多种数据类型的融合分析以及多模态治疗决策方面的应用相对较少，但可能是未来的研究趋势。人工智能在改善HCC临床护理方面的潜力正在被认可，先进的方法允许基于数字组织学切片自动量化病理模式。AI应用已经扩展到医学的所有领域，包括内窥镜和肝病学，并有助于纤维化预测、肝脏肿块分类以及治疗反应和移植结果的预测。需要更多的研究来预测治疗反应、肝脏移植后的反应以及新药开发中的肝毒性预测。AI还有助于实时生物监测，识别高危患者以进行及时干预。未来的研究可以关注超声在肝癌诊所中的作用，以及AI在多组学研究中的应用。\n",
      "Response Tokens count: [465]\n"
     ]
    }
   ],
   "source": [
    "section_1_1_trans_res = translator.chat(section_1_1_sum_res)"
   ]
  },
  {
   "cell_type": "code",
   "execution_count": 11,
   "id": "80c4f97d-6418-4771-b40c-d22801a82e0b",
   "metadata": {
    "scrolled": true
   },
   "outputs": [
    {
     "data": {
      "text/plain": [
       "\"This study used bibliometrics to conduct an in-depth analysis of the published literature on AI in liver cancer.\\nThe results showed that AI has undergone rapid development and has a wide application in the diagnosis and treatment of liver diseases, especially in China, which has one of the highest incidences of liver cancer compared to other countries the world.\\nIn addition, intelligent analysis of imaging data is the hotspot and focus of current research in this field.\\nHowever, combined with the current clinical difficulties such as accurate screening of early-stage liver cancer patients and high-risk patients, and selection of reasonable treatment decisions for advanced liver cancer patients, the use of AI for the fusion analysis of multiple types data in the process of diagnosis and treatment of liver cancer and multi-modal treatment decision-making for liver cancer are still relatively rare, and may become a future research trend.\\n\\nTherefore, we aimed to quantitatively analyze existing studies involving AI in liver cancer using bibliometrics to provide the current research progress, hotspots, and emerging trends for AI in liver cancer which may help researchers better understand grasp future research interest.\\nInformation was collated regarding countries/regions, institutions, authors, and journals with the highest citations and publications and keywords.\\n\\nAs more and more researchers are interested in the use of AI in liver cancer, a large number of related studies have started being published.\\nFor example, reviews describing an overview of deep learning, convolutional neural networks and other AI technologies applications in liver cancer (20-22), reviews on the applications of AI on assisted imaging in diagnosis, prognosis and detection of liver cancer (23-25), and explained the latest research, on limitations and future development trends of AI have all been recently published.\\nHowever, current reviews may be unable to explore grasp the latest research trends and hotspots in this field because of lack of a large number of publications.\\nMeanwhile, there is a lack of quantitative analysis of all\\n\\nRegarding data type, studies of AI in liver cancer started from the simple data modeling of genetic or molecular data (9-11).\\nWith the development of medical imaging, research on medical imaging has been gradually increasing.\\nCT, ultrasound, and MRI are the top three most used data types.\\nFirst, this may because CT and MRI can be used as the basis for clinical treatment strategies for patients with liver cancer based on guidelines for liver cancer diagnosis.\\nMoreover, ultrasound, as a screening method for patients at high risk of liver cancer, needs to be checked every six months.\\nTherefore, the data volume of these three imaging methods has greatly increased, which has promoted the development of AI in liver cancer (37-39).\\nSecond, compared with MRI, CT has the advantages of fast inspection speed and cost-effectiveness, and is an indispensable and important imaging method in the diagnosis and treatment of liver cancer.\\nFinally, although ultrasound is widely used in clinical practice, its image acquisition is seriously affected by the doctor’s operation technique and machine model, the resolution is low, and the processing is difficult.\\nTherefore, it is used less often than CT.\\nHowever, it is worth noting that contrast-enhanced ultrasound has now been included as a recommended imaging modality for the diagnosis of liver cancer (40, 41) and is also widely used in the development and prognostic evaluation of ultrasound-guided radiofrequency ablation.\\nThis suggests that we could pay attention to the important role of ultrasound in liver cancer clinics in future research.\\nAt the same time, few studies used pathological, genetic, and other clinical data (42-44).\\nThe main reason may be that the medical cost of genetic examination is high and the realization of AI in multiomics research is difficult.\\n\\nWith the development of medical big data and computer technology, artificial intelligence (AI) based on machine learning and deep learning has been widely used in current medical research (3-6).\\nThrough self-learning, summary, and induction of data, it can produce an intelligent reasoning system and choose the optimal solution to guide clinical decision-making (7).\\nOriginal AI was based on traditional machine-learning methods, including support vector machine and random forest models, which all relied on human experience for learning and simple summary.\\nAs early as 2003, Hussain constructed a predictive system consisting of 12 genes, with Fisher’s linear classifier, for predicting early recurrence in patients with hepatocellular carcinoma (HCC) (8).\\nDuring this period, most studies have focused on simple analyses of data, such as genes and molecules (9-11).\\nWith the standardization of imaging diagnosis and its important role in the clinical diagnosis of liver cancer, AI research based on imaging has emerged by extracting high-throughput features that cannot be detected and defined by human eyes from large-scale image data to establish an intelligent decision -making model to assist clinical decisionmaking (12, 13).\\nIn particular, deep learning based on convolutional neural networks (CNNs) has promoted progress in liver cancer research (14-19).\\n\\nAI is an upcoming promising technology that is rapidly becoming an essential part of patient management.\\nApplications of AI have expanded in all branches of medicines, especially endoscopy and hepatology.\\nThe conglomeration of data which can be clinical/laboratory, multi-omics, natural language processing (NLP) and Image recognition (both radiology-based and pathology-based) has contributed to the prediction of fibrosis, classification of liver masses and prediction of treatment response and transplant outcomes.\\n’® In this review the majority of studies mentioned focussed on diagnosis part.\\nThere are very few studies that help to predict treatment response, post-liver transplant response, and prediction of hepatotoxicity in newer drug development and more studies are needed.\\nAI also helps for realtime biomonitoring, by identification of patients at high risk of clinical decompensation and hospital admission, so that timely intervention can be done for high-risk patients.\\nWith the increasing advancement of image capture and storage, AI will bring striking changes to the diagnosis of various liver diseases with the ‘big data’ being available.\\nHowever, there are many hurdles to overcome, which researchers will do in the near future using validation studies and molecular research.\\nIt is expected that gastroenterology and hepatology will be one of the first areas in medicine to introduce AI tools on a wide-scale basis, due to its inherent reliance on endoscopic and radiological imaging.\\nHence, GI and liver specialists should be proud that our field sets the ground for AI development in medicine.\\n\\nThe analysis of the global trend of publications and citations and productive countries/regions is mainly to comprehensively understand the development trends of AI on liver cancer from beginning to end.\\nThe analysis of institutions, authors, and co-cited authors can quantitatively describe the strength of the cooperation between authors and institutions (30-32).\\nAdditionally, the analysis of top journals can analyze the level of cooperation and relationships in the concentrated fields of journals, which is beneficial to cross field cooperation in research (32).\\nIn particular, cluster co-occurrence analysis of keywords from different perspectives such as disease, data type, clinical goals, and clinical methods can help us understand the main topics and research trends in the current field of AI in liver cancer field.\\n\\nRecent advances in artificial intelligence (AI) methodologies have made great strides in automatically quantifying pathological patterns based on digital histological slides [18].\\nWith the integration of digital slides into the pathology workflow, advanced algorithms and computeraided techniques expand and reinforce their utilization in tumor diagnosis, prognostic prediction and therapy targeting, which enable the interpretation of information beyond human limits and ultimately, improve patient management [19-21].\\nFor HCC, survival indicators after liver resection were proposed based on weakly supervised deep learning methods, exhibiting high accuracy [22, 23].\\nWith largely uncovered invisible information available from HCC histology, further integration of recurrence prediction models and AI algorithms in transplant patients suffering from HCC deserve to be explored.\\nMoreover, a comprehensive research on correlation between HCC histological structures and prognosis is urgently needed.\\n\\nAnother rapidly growing area of research is focused on improved characterisation of indeterminate liver lesions.\\nIn clinical practice, when an abdominal ultrasound shows a new liver lesion, a patient is typically referred for further imaging, with contrast-enhanced CT or MRI.\\nBased on the fulfilment of specific radiologic criteria, certain liver lesions may be considered as having pathognomonic features of HCC, and thus do not require liver biopsy for further histological confirmation.\\nHowever, liver nodules imaged by CT or MRI often demonstrate indeterminate features, for which current recommendations include either liver biopsy or close interval follow-up with serial imaging.”° This practice is sub-optimal, resulting in numerous imaging studies, patient stress, and the potential for delayed diagnoses of liver cancer.\\nFor this reason, a growing body of recent literature has explored AI approaches to improve risk stratification of indeterminate liver lesions, to facilitate earlier and more accurate detection of HCC.\\n\\nObjective: To provide the current research progress, hotspots, and emerging trends for Al in liver cancer, we have compiled a relative comprehensive and quantitative report on the research of liver disease using artificial intelligence by employing bibliometrics in this study.\\n\\nSince immune therapy has pioneered a new era of antitumoral systematic treatment [34], the expression of immune checkpoint molecules has been great significance to the prognosis of liver cancer [35].\\n\\nIn this quantitative study, in order to systematically and quantitatively analyze the research status of AI in liver cancer, and explore the future research trends and hotspots in this field, we used a bibliometrics method to analyze the current research status of AI in liver cancer in terms of publication and citation trends, countries/ regions and institutions, authors and co-cited authors, journals, cited references and co-citation references, and keywords.\\nUltimately, 1724 articles focusing on Al in liver cancer were collected from the WoSCC database and analyzed.\\n\\nPrevious meta-analyses and literature reviews focused on the applications of specific technologies in liver cancer or the development status of specific liver disease (22-29), such as reviewing studies on AI on assisted imaging in the diagnosis, prognosis and detection of liver cancer, or explaining the latest research, limitations, and future development trends of AI in a\\n\\nArtificial Intelligence (AI) is a mathematical process of computer mediating designing of algorithms to support human intelligence.\\nAI in hepatology has shown tremendous promise to plan appropriate management and hence improve treatment outcomes.\\nThe field of AI is in a very early phase with limited clinical use.\\nAI tools such as machine learning, deep learning, and ‘big data’ are in a continuous phase of evolution, presently being applied for clinical and basic research.\\nIn this review, we have summarized various AI applications in hepatology, the pitfalls and AI's future implications.\\nDifferent AI models and algorithms are under study using clinical, laboratory, endoscopic and imaging parameters to diagnose and manage liver diseases and mass lesions.\\nAI has helped to reduce human errors and improve treatment protocols.\\nFurther research and validation are required for future use of AI in hepatology.\\n(J Ciin Exp HepaTor 2023;13:149-161)\\n\\nStudies on the treatment and prognosis of liver cancer mainly focused on the survival of a specific surgical method (59-66), such as radiofrequency ablation, transarterial chemoembolization and etc.\\nReports have proven that the modern therapies integrate a variety of neoadjuvant and adjuvant strategies have achieved dramatic improvements in survival, especially for patients with advanced HCC (66, 67).\\nBut the division of the patient population, the choice of potentially disclosing novel biomarkers still are controversies and the decision-making of precision treatment methods adapted to the specific patients, AI can play a role in this, but related research has not yet been seen.\\n\\nFIGURE 2 Global trend of publications and citations on artificial intelligence research in liver cancer from 2003 to 2022.\\n\\ndevelopment of multimodal treatment plans for liver cancer could become the major trend of future research in Al in liver cancer.\\n\\nOwing to the broad heterogeneity in HCC risk factors and pathogenesis, established strategies for prediction and prognostication are still limited.\\nRecently, artificial intelligence (AI) has emerged as a unique opportunity to improve the full spectrum of HCC clinical care, by: i) improving the prediction of future HCC risk in patients with established liver disease; ii) improving the accuracy of HCC\\n\\n66.\\nPetrowsky H, Fritsch R, Guckenberger M, De Oliveira ML, Dutkowski P, Clavien PA. Modern therapeutic approaches for the treatment of malignant liver tumours.\\nNat Rev Gastroenterol Hepatol (2020) 17(12):755-72. doi: 10.1038/s41575-020-0314-8\\n\\nA growing body of research has applied AI approaches to improve HCC risk prediction, and to more accurately detect and risk stratify existing HCC tumours, based on EHR data, radiomics approaches, and molecular or histopathological biomarkers.\""
      ]
     },
     "metadata": {},
     "output_type": "display_data"
    }
   ],
   "source": [
    "section_1_2 = \"Current advances of AI-based approaches for clinical management of liver cancer, Molecular profiling of liver cancer via AI\"\n",
    "section_1_2_queries_str = \"\\n\\n\".join(retriver.query(section_1_2))\n",
    "display(section_1_2_queries_str)"
   ]
  },
  {
   "cell_type": "code",
   "execution_count": 14,
   "id": "b3507c82-7999-4985-be1d-df0597f0f3e6",
   "metadata": {},
   "outputs": [
    {
     "name": "stdout",
     "output_type": "stream",
     "text": [
      "Prompt Tokens count: [2734]\n",
      "```\n",
      "Topic: Current advances of AI-based approaches for clinical management of liver cancer, Molecular profiling of liver cancer via AI\n",
      "Statement: Artificial Intelligence (AI) has seen rapid development and wide application in diagnosing and treating liver diseases, particularly liver cancer. AI has been instrumental in the intelligent analysis of imaging data, a current research hotspot in this field. However, its use in multi-modal treatment decision-making and fusion analysis of multiple types of data in the diagnosis and treatment of liver cancer is still relatively rare. Studies of AI in liver cancer have evolved from simple data modeling of genetic or molecular data to research on medical imaging, with CT, ultrasound, and MRI being the most used data types. Additionally, AI has been used to improve risk stratification of indeterminate liver lesions, facilitating earlier and more accurate detection of liver cancer. Despite the progress, there is a need for more studies to predict treatment response, post-liver transplant response, and prediction of hepatotoxicity in newer drug development. Advances in AI methodologies have also been used to quantify pathological patterns based on digital histological slides, improving patient management. \n",
      "```\n",
      "Response Tokens count: [224]\n",
      "Prompt Tokens count: [224]\n",
      "主题：人工智能在肝癌临床管理中的当前进展，通过AI进行肝癌的分子特征分析\n",
      "\n",
      "陈述：人工智能（AI）在诊断和治疗肝疾病，尤其是肝癌方面，取得了迅速的发展和广泛的应用。AI在智能分析影像数据方面发挥了重要作用，这是该领域当前的研究热点。然而，在肝癌的诊断和治疗中，AI在多模态治疗决策和多类型数据的融合分析方面的应用仍然相对较少见。肝癌领域的AI研究已从对基因或分子数据的简单数据建模发展到医学影像研究，其中CT、超声和MRI是最常用的数据类型。此外，AI已被用于改善不明确肝脏病变的风险分层，有助于更早和更准确地检测肝癌。尽管取得了进展，但仍需要更多的研究来预测治疗反应、肝移植后的反应以及新药开发中的肝毒性预测。AI方法的进展也被用于量化基于数字组织学切片的病理模式，改善患者管理。\n",
      "Response Tokens count: [407]\n"
     ]
    }
   ],
   "source": [
    "section_1_2_sum_prompt = section_sum_prompt_template(\n",
    "    section_1_2, section_1_2_queries_str\n",
    ")\n",
    "section_1_2_sum_res = section_summarizer.chat(section_1_2_sum_prompt)\n",
    "section_1_2_trans_res = translator.chat(section_1_2_sum_res)"
   ]
  },
  {
   "cell_type": "code",
   "execution_count": 15,
   "id": "e6ab23ec-0055-4b12-9d12-e339b733ab85",
   "metadata": {
    "scrolled": true
   },
   "outputs": [
    {
     "data": {
      "text/plain": [
       "\"Recent advances in artificial intelligence (AI) methodologies have made great strides in automatically quantifying pathological patterns based on digital histological slides [18].\\nWith the integration of digital slides into the pathology workflow, advanced algorithms and computeraided techniques expand and reinforce their utilization in tumor diagnosis, prognostic prediction and therapy targeting, which enable the interpretation of information beyond human limits and ultimately, improve patient management [19-21].\\nFor HCC, survival indicators after liver resection were proposed based on weakly supervised deep learning methods, exhibiting high accuracy [22, 23].\\nWith largely uncovered invisible information available from HCC histology, further integration of recurrence prediction models and AI algorithms in transplant patients suffering from HCC deserve to be explored.\\nMoreover, a comprehensive research on correlation between HCC histological structures and prognosis is urgently needed.\\n\\nAI is an upcoming promising technology that is rapidly becoming an essential part of patient management.\\nApplications of AI have expanded in all branches of medicines, especially endoscopy and hepatology.\\nThe conglomeration of data which can be clinical/laboratory, multi-omics, natural language processing (NLP) and Image recognition (both radiology-based and pathology-based) has contributed to the prediction of fibrosis, classification of liver masses and prediction of treatment response and transplant outcomes.\\n’® In this review the majority of studies mentioned focussed on diagnosis part.\\nThere are very few studies that help to predict treatment response, post-liver transplant response, and prediction of hepatotoxicity in newer drug development and more studies are needed.\\nAI also helps for realtime biomonitoring, by identification of patients at high risk of clinical decompensation and hospital admission, so that timely intervention can be done for high-risk patients.\\nWith the increasing advancement of image capture and storage, AI will bring striking changes to the diagnosis of various liver diseases with the ‘big data’ being available.\\nHowever, there are many hurdles to overcome, which researchers will do in the near future using validation studies and molecular research.\\nIt is expected that gastroenterology and hepatology will be one of the first areas in medicine to introduce AI tools on a wide-scale basis, due to its inherent reliance on endoscopic and radiological imaging.\\nHence, GI and liver specialists should be proud that our field sets the ground for AI development in medicine.\\n\\nThis study used bibliometrics to conduct an in-depth analysis of the published literature on AI in liver cancer.\\nThe results showed that AI has undergone rapid development and has a wide application in the diagnosis and treatment of liver diseases, especially in China, which has one of the highest incidences of liver cancer compared to other countries the world.\\nIn addition, intelligent analysis of imaging data is the hotspot and focus of current research in this field.\\nHowever, combined with the current clinical difficulties such as accurate screening of early-stage liver cancer patients and high-risk patients, and selection of reasonable treatment decisions for advanced liver cancer patients, the use of AI for the fusion analysis of multiple types data in the process of diagnosis and treatment of liver cancer and multi-modal treatment decision-making for liver cancer are still relatively rare, and may become a future research trend.\\n\\nWith the development of medical big data and computer technology, artificial intelligence (AI) based on machine learning and deep learning has been widely used in current medical research (3-6).\\nThrough self-learning, summary, and induction of data, it can produce an intelligent reasoning system and choose the optimal solution to guide clinical decision-making (7).\\nOriginal AI was based on traditional machine-learning methods, including support vector machine and random forest models, which all relied on human experience for learning and simple summary.\\nAs early as 2003, Hussain constructed a predictive system consisting of 12 genes, with Fisher’s linear classifier, for predicting early recurrence in patients with hepatocellular carcinoma (HCC) (8).\\nDuring this period, most studies have focused on simple analyses of data, such as genes and molecules (9-11).\\nWith the standardization of imaging diagnosis and its important role in the clinical diagnosis of liver cancer, AI research based on imaging has emerged by extracting high-throughput features that cannot be detected and defined by human eyes from large-scale image data to establish an intelligent decision -making model to assist clinical decisionmaking (12, 13).\\nIn particular, deep learning based on convolutional neural networks (CNNs) has promoted progress in liver cancer research (14-19).\\n\\nOwing to the broad heterogeneity in HCC risk factors and pathogenesis, established strategies for prediction and prognostication are still limited.\\nRecently, artificial intelligence (AI) has emerged as a unique opportunity to improve the full spectrum of HCC clinical care, by: i) improving the prediction of future HCC risk in patients with established liver disease; ii) improving the accuracy of HCC\\n\\nAnother rapidly growing area of research is focused on improved characterisation of indeterminate liver lesions.\\nIn clinical practice, when an abdominal ultrasound shows a new liver lesion, a patient is typically referred for further imaging, with contrast-enhanced CT or MRI.\\nBased on the fulfilment of specific radiologic criteria, certain liver lesions may be considered as having pathognomonic features of HCC, and thus do not require liver biopsy for further histological confirmation.\\nHowever, liver nodules imaged by CT or MRI often demonstrate indeterminate features, for which current recommendations include either liver biopsy or close interval follow-up with serial imaging.”° This practice is sub-optimal, resulting in numerous imaging studies, patient stress, and the potential for delayed diagnoses of liver cancer.\\nFor this reason, a growing body of recent literature has explored AI approaches to improve risk stratification of indeterminate liver lesions, to facilitate earlier and more accurate detection of HCC.\\n\\nTherefore, we aimed to quantitatively analyze existing studies involving AI in liver cancer using bibliometrics to provide the current research progress, hotspots, and emerging trends for AI in liver cancer which may help researchers better understand grasp future research interest.\\nInformation was collated regarding countries/regions, institutions, authors, and journals with the highest citations and publications and keywords.\\n\\nStudies on the treatment and prognosis of liver cancer mainly focused on the survival of a specific surgical method (59-66), such as radiofrequency ablation, transarterial chemoembolization and etc.\\nReports have proven that the modern therapies integrate a variety of neoadjuvant and adjuvant strategies have achieved dramatic improvements in survival, especially for patients with advanced HCC (66, 67).\\nBut the division of the patient population, the choice of potentially disclosing novel biomarkers still are controversies and the decision-making of precision treatment methods adapted to the specific patients, AI can play a role in this, but related research has not yet been seen.\\n\\nAs more and more researchers are interested in the use of AI in liver cancer, a large number of related studies have started being published.\\nFor example, reviews describing an overview of deep learning, convolutional neural networks and other AI technologies applications in liver cancer (20-22), reviews on the applications of AI on assisted imaging in diagnosis, prognosis and detection of liver cancer (23-25), and explained the latest research, on limitations and future development trends of AI have all been recently published.\\nHowever, current reviews may be unable to explore grasp the latest research trends and hotspots in this field because of lack of a large number of publications.\\nMeanwhile, there is a lack of quantitative analysis of all\\n\\nArtificial Intelligence (AI) is a mathematical process of computer mediating designing of algorithms to support human intelligence.\\nAI in hepatology has shown tremendous promise to plan appropriate management and hence improve treatment outcomes.\\nThe field of AI is in a very early phase with limited clinical use.\\nAI tools such as machine learning, deep learning, and ‘big data’ are in a continuous phase of evolution, presently being applied for clinical and basic research.\\nIn this review, we have summarized various AI applications in hepatology, the pitfalls and AI's future implications.\\nDifferent AI models and algorithms are under study using clinical, laboratory, endoscopic and imaging parameters to diagnose and manage liver diseases and mass lesions.\\nAI has helped to reduce human errors and improve treatment protocols.\\nFurther research and validation are required for future use of AI in hepatology.\\n(J Ciin Exp HepaTor 2023;13:149-161)\\n\\nPatients with liver disease, particularly those with liver cancer, undergo multiple imaging studies to establish a diagnosis, preoperatively plan interventions, and monitor response to therapy (Table S2).\\nEach of these imaging studies contain numerous data points that could be potentially analysed to improve predictions.\\nHowever, there is a formidable challenge in transforming this burden of clinical and imaging data into something of clinical value.\\n\\nRegarding data type, studies of AI in liver cancer started from the simple data modeling of genetic or molecular data (9-11).\\nWith the development of medical imaging, research on medical imaging has been gradually increasing.\\nCT, ultrasound, and MRI are the top three most used data types.\\nFirst, this may because CT and MRI can be used as the basis for clinical treatment strategies for patients with liver cancer based on guidelines for liver cancer diagnosis.\\nMoreover, ultrasound, as a screening method for patients at high risk of liver cancer, needs to be checked every six months.\\nTherefore, the data volume of these three imaging methods has greatly increased, which has promoted the development of AI in liver cancer (37-39).\\nSecond, compared with MRI, CT has the advantages of fast inspection speed and cost-effectiveness, and is an indispensable and important imaging method in the diagnosis and treatment of liver cancer.\\nFinally, although ultrasound is widely used in clinical practice, its image acquisition is seriously affected by the doctor’s operation technique and machine model, the resolution is low, and the processing is difficult.\\nTherefore, it is used less often than CT.\\nHowever, it is worth noting that contrast-enhanced ultrasound has now been included as a recommended imaging modality for the diagnosis of liver cancer (40, 41) and is also widely used in the development and prognostic evaluation of ultrasound-guided radiofrequency ablation.\\nThis suggests that we could pay attention to the important role of ultrasound in liver cancer clinics in future research.\\nAt the same time, few studies used pathological, genetic, and other clinical data (42-44).\\nThe main reason may be that the medical cost of genetic examination is high and the realization of AI in multiomics research is difficult.\\n\\nThe analysis of the global trend of publications and citations and productive countries/regions is mainly to comprehensively understand the development trends of AI on liver cancer from beginning to end.\\nThe analysis of institutions, authors, and co-cited authors can quantitatively describe the strength of the cooperation between authors and institutions (30-32).\\nAdditionally, the analysis of top journals can analyze the level of cooperation and relationships in the concentrated fields of journals, which is beneficial to cross field cooperation in research (32).\\nIn particular, cluster co-occurrence analysis of keywords from different perspectives such as disease, data type, clinical goals, and clinical methods can help us understand the main topics and research trends in the current field of AI in liver cancer field.\\n\\nTo facilitate transformation of imaging data into clinically accessible information, Al may derive predictions in a more personalised fashion.\\nTwo categories of AI that have shown promise in liver imaging are radiomics (relying on classical ML) and DL systems (relying on CNNs) (Fig.\\n2A).\\nRadiomics is a strongly supervised and expert-guided approach where hardcoded algorithms extract quantitative image features that are fed into an ML algorithm.°® In contrast, DL with a CNN constitutes an automatic feature extraction where the algorithm selflearns salient features and self-optimises parameters by running an input image through mathematical operations embedded in multiple layers.°°?\\nBecause both approaches aim to predict a pre-defined “ground truth,” they are considered supervised learning approaches.\\nHerein, we review AI tools for liver imaging in segmentation, classification of disease severity and lesions, and outcome prediction.\\n\\nIt is hoped that AI will profoundly change the way we care for patients with HCC.\\nAlthough significant progress has been made during the last decade, improvements in HCC risk prediction, diagnosis and response prediction are still critically needed.\\nSeveral challenges remain to fully implement such technologies in clinical practice, including the need to develop robust approaches for structured data collection, sharing and storage, and the need to\\n\\nWhile these concepts are still hypothetical, it will be important to integrate Al-based algorithms into current and future clinical trials, in order to prove that they are valuable tools to predict responses to first-line therapy and to predict early progression.\\nImplementing these steps will depend on access to biological samples and clinical data within large clinical trials, and will require acceptance of these concepts and further that these data are made accessible to the clinician scientists who are contributing patients to these trials.\\nTo that end, collaborative networks based on trust and united in the collective aim of improving patient outcomes need to be implemented not only between clinicians but also with industry.\\nNevertheless, it is paramount for any model developed and trained within the framework of a clinical trial to be thoroughly validated in diverse, real-world patient populations before clinical implementation, to address possible biases introduced by the trial’s inclusion criteria.\\nMoreover, Al-based algorithms and any resultant clinical tools must also be constructed with appropriate stakeholder engagement and oversight, to ensure that validated algorithms are standardised according to protocol and that they are used in the correct clinical contexts, and further that data output is interpreted properly to maximise clinical benefit.\\nCorrectly interpretating data output from an Al-based clinical tool will in turn require appropriate training and awareness, both amongst the public and clinical providers.\\n\\nHepatocellular carcinoma (HCC) is among the leading causes of cancer incidence and death.\\nDespite decades of research and development of new treatment options, the overall outcomes of patients with HCC continue to remain poor.\\nThere are areas of unmet need in risk prediction, early diagnosis, accurate prognostication, and individualized treatments for patients with HCC.\\nRecent years have seen an explosive growth in the application of artificial intelligence (AI) technology in medical research, with the field of HCC being no exception.\\nAmong the various AI-based machine learning algorithms, deep learning algorithms are considered state-of-the-art techniques for handling and processing complex multimodal data ranging from routine clinical variables to high-resolution medical images.\\nThis article will provide a comprehensive review of the recently published studies that have applied deep learning for risk prediction, diagnosis, prognostication, and treatment planning for patients with HCC.\\n\\nIt has been posited that improved HCC risk prediction models leveraging AI techniques could be used to personalise HCC surveillance strategies by improving risk stratification of patients with chronic liver disease.\\nFor example, Ioannou and colleagues found that targeting patients with the uppermost 51% of their NN-derived HCC risk score would include 80% of patients who would develop HCC within the subsequent 3 years.° Such an approach could be useful in resource-limited settings that do not have sufficient capacity for regular HCC surveillance in all at-risk patients.\\nHowever, to date, the clinical utility of this and other Al-based scores for predicting risk of HCC is unclear, particularly as these data have limited generalisability, given their reliance on the size and diversity of the training dataset.\\n\\nIn this quantitative study, in order to systematically and quantitatively analyze the research status of AI in liver cancer, and explore the future research trends and hotspots in this field, we used a bibliometrics method to analyze the current research status of AI in liver cancer in terms of publication and citation trends, countries/ regions and institutions, authors and co-cited authors, journals, cited references and co-citation references, and keywords.\\nUltimately, 1724 articles focusing on Al in liver cancer were collected from the WoSCC database and analyzed.\\n\\nA growing body of research has applied AI approaches to improve HCC risk prediction, and to more accurately detect and risk stratify existing HCC tumours, based on EHR data, radiomics approaches, and molecular or histopathological biomarkers.\""
      ]
     },
     "metadata": {},
     "output_type": "display_data"
    }
   ],
   "source": [
    "section_1_3 = \"Current advances of AI-based approaches for clinical management of liver cancer, Exploring predictive indicators for therapy response\"\n",
    "section_1_3_queries_str = \"\\n\\n\".join(retriver.query(section_1_3))\n",
    "display(section_1_3_queries_str)"
   ]
  },
  {
   "cell_type": "code",
   "execution_count": 16,
   "id": "9d84140d-dd25-46d9-ad7f-becf6926c347",
   "metadata": {},
   "outputs": [
    {
     "name": "stdout",
     "output_type": "stream",
     "text": [
      "Prompt Tokens count: [3372]\n",
      "```\n",
      "Topic: Current advances of AI-based approaches for clinical management of liver cancer, Exploring predictive indicators for therapy response\n",
      "Statement: Artificial Intelligence (AI) has shown significant promise in the clinical management of liver cancer. It has been used to automatically quantify pathological patterns based on digital histological slides, improving tumor diagnosis, prognostic prediction, and therapy targeting. AI has also contributed to the prediction of fibrosis, classification of liver masses, and prediction of treatment response and transplant outcomes. However, there is a need for more studies that predict treatment response, post-liver transplant response, and prediction of hepatotoxicity in newer drug development. AI has also been used to improve risk stratification of indeterminate liver lesions, facilitating earlier and more accurate detection of liver cancer. Despite these advances, there are significant challenges to overcome in transforming clinical and imaging data into clinically valuable information. Future research trends point towards the use of AI for the fusion analysis of multiple types of data in the diagnosis and treatment of liver cancer and multi-modal treatment decision-making for liver cancer.\n",
      "```\n",
      "Response Tokens count: [213]\n",
      "Prompt Tokens count: [213]\n",
      "主题：基于人工智能的肝癌临床管理的当前进展，探索治疗反应的预测指标\n",
      "\n",
      "陈述：人工智能（AI）在肝癌的临床管理中显示出显著的潜力。它已被用于自动量化基于数字组织学切片的病理模式，改善肿瘤诊断、预后预测和治疗定位。AI还有助于预测纤维化、分类肝脏肿块以及预测治疗反应和移植结果。然而，仍然需要更多的研究来预测治疗反应、肝移植后的反应以及新药开发中的肝毒性预测。AI还被用于改善不明确肝脏病变的风险分层，有助于更早和更准确地检测肝癌。尽管取得了这些进展，但在将临床和影像数据转化为临床有价值的信息方面仍然存在重要挑战。未来的研究趋势指向利用AI在肝癌的诊断和治疗中对多类型数据进行融合分析，以及多模态治疗决策的应用。\n",
      "Response Tokens count: [388]\n"
     ]
    }
   ],
   "source": [
    "section_1_3_sum_prompt = section_sum_prompt_template(\n",
    "    section_1_3, section_1_3_queries_str\n",
    ")\n",
    "section_1_3_sum_res = section_summarizer.chat(section_1_3_sum_prompt)\n",
    "section_1_3_trans_res = translator.chat(section_1_3_sum_res)"
   ]
  }
 ],
 "metadata": {
  "kernelspec": {
   "display_name": "Python 3 (ipykernel)",
   "language": "python",
   "name": "python3"
  },
  "language_info": {
   "codemirror_mode": {
    "name": "ipython",
    "version": 3
   },
   "file_extension": ".py",
   "mimetype": "text/x-python",
   "name": "python",
   "nbconvert_exporter": "python",
   "pygments_lexer": "ipython3",
   "version": "3.11.4"
  },
  "widgets": {
   "application/vnd.jupyter.widget-state+json": {
    "state": {},
    "version_major": 2,
    "version_minor": 0
   }
  }
 },
 "nbformat": 4,
 "nbformat_minor": 5
}
