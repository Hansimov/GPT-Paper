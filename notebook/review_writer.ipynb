{
 "cells": [
  {
   "cell_type": "code",
   "execution_count": null,
   "id": "6bd0166d-e107-4dc3-a95d-f72a5357e3d2",
   "metadata": {
    "editable": true,
    "slideshow": {
     "slide_type": ""
    },
    "tags": []
   },
   "outputs": [],
   "source": [
    "%load_ext autoreload\n",
    "%autoreload\n",
    "%run -i \"startup.py\"\n",
    "\n",
    "section_viewer_tree = SectionViewerTree(\"cancer_review\")"
   ]
  },
  {
   "cell_type": "raw",
   "id": "5cf1b7d4-6892-42c7-b6b7-9a74b6edbd79",
   "metadata": {
    "editable": true,
    "jupyter": {
     "source_hidden": true
    },
    "slideshow": {
     "slide_type": ""
    },
    "tags": [
     "outline"
    ]
   },
   "source": [
    "Title: Unraveling the “black-box” of artificial intelligence-based pathological analysis of liver cancer\n",
    "\n",
    "# 1. Current advances of AI-based approaches for clinical management of liver cancer\n",
    "\n",
    "## 1.1 AI-based prognostication of liver cancer\n",
    "\n",
    "## 1.2 Molecular profiling of liver cancer via AI\n",
    "\n",
    "## 1.3 Exploring predictive indicators for therapy response\n",
    "\n",
    "# 2. Current challenges limiting AI-based approaches in the management of liver cancer\n",
    "\n",
    "(One paragraph highlighting the urgent need to explain the “black box” of deeplearning)\n",
    "\n",
    "# 3. Strategies for unraveling the “black-box” of AI-based pathological analysis of liver cancer\n",
    "\n",
    "## 3.1 Model-based explanation\n",
    "### 3.1.1 Support vector machine or random forests vs. deep learning\n",
    "### 3.1.2 Supervised learning vs. weakly supervised learning vs. unsupervised learning\n",
    "### 3.1.3 Textual explanation\n",
    "#### 3.1.3.1 Image captioning\n",
    "#### 3.1.3.2 Image captioning with visual explanation\n",
    "### 3.1.4 Example-based explanation \n",
    "#### 3.1.4.1 Triplet network\n",
    "#### 3.1.4.2 Prototypes\n",
    "\n",
    "## 3.2 Post hoc explanation\n",
    "\n",
    "### 3.2.1 Visual explanation (saliency mapping, pathologist-in-the-loop)\n",
    "#### 3.2.1.1 Backpropagation-based approaches\n",
    "      Including class activation mapping (CAM) and gradient-weighted class activation mapping (Grad-CAM)\n",
    "#### 3.2.1.2 Perturbation-based approaches\n",
    "      Including Occlusion sensitivity map (OSM), local interpretable model-agnostic explannations (LIME)\n",
    "#### 3.2.1.3 Multiple instance learning-based approaches\n",
    "\n",
    "### 3.2.2 Textual explanation\n",
    "   Testing with concept activation vectors (TCAV)\n",
    "### 3.2.3 Example-based explanation\n",
    "\n",
    "# 4. Conclusion and future applications"
   ]
  },
  {
   "cell_type": "code",
   "execution_count": null,
   "id": "769fe72e-848f-4766-b89d-1aa91183f615",
   "metadata": {
    "editable": true,
    "slideshow": {
     "slide_type": ""
    },
    "tags": []
   },
   "outputs": [],
   "source": [
    "ipynb_name = \"review_writer.ipynb\"\n",
    "markdown_cells = get_notebook_cells(notebook_path=ipynb_name, cell_types=[\"markdown\"])\n",
    "outline_cells = [\n",
    "    cell for cell in markdown_cells if \"outline\" in cell[\"metadata\"][\"tags\"]\n",
    "]\n",
    "outline_content = \"\".join([cell[\"source\"] for cell in outline_cells])"
   ]
  },
  {
   "cell_type": "code",
   "execution_count": null,
   "id": "193d8a37-cb0c-4096-be66-55539ae48bf0",
   "metadata": {
    "scrolled": true
   },
   "outputs": [],
   "source": [
    "outline_filler.clear_history_messages()\n",
    "outline_filler_res = outline_filler.chat(outline_content, continous=True)"
   ]
  },
  {
   "cell_type": "raw",
   "id": "942bbdb9-1bb2-496a-9881-bc542f4e7779",
   "metadata": {},
   "source": [
    "A typical workflow of generate a detailed review of a section title:\n",
    "- [Agent] outline_filler: Fill in the outline with intros, and structuralize it to JSON with idx and levels.\n",
    "- [Agent] Synonymer: Generate similar texts for each sub-section\n",
    "- [Program] Retrieve and Re-rank from local embbedings of docs\n",
    "- [Agent] Summarizer: Summarize the above content into a section\n",
    "- [Agent] Polisher: Polish the content of the section"
   ]
  },
  {
   "cell_type": "code",
   "execution_count": null,
   "id": "725ecc57-3a03-4931-b56d-16297893b51f",
   "metadata": {
    "scrolled": true
   },
   "outputs": [],
   "source": [
    "outline_details_json_path = \"data/review_outline_details.json\"\n",
    "with open(outline_details_json_path, \"r\", encoding=\"utf-8\") as rf:\n",
    "    outline_details_data = json.load(rf)\n",
    "display(outline_details_data)"
   ]
  }
 ],
 "metadata": {
  "kernelspec": {
   "display_name": "Python 3 (ipykernel)",
   "language": "python",
   "name": "python3"
  },
  "language_info": {
   "codemirror_mode": {
    "name": "ipython",
    "version": 3
   },
   "file_extension": ".py",
   "mimetype": "text/x-python",
   "name": "python",
   "nbconvert_exporter": "python",
   "pygments_lexer": "ipython3",
   "version": "3.9.6"
  },
  "widgets": {
   "application/vnd.jupyter.widget-state+json": {
    "state": {},
    "version_major": 2,
    "version_minor": 0
   }
  }
 },
 "nbformat": 4,
 "nbformat_minor": 5
}
