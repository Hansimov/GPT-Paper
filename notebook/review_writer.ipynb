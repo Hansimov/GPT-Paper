{
 "cells": [
  {
   "cell_type": "code",
   "execution_count": 29,
   "id": "6bd0166d-e107-4dc3-a95d-f72a5357e3d2",
   "metadata": {
    "editable": true,
    "slideshow": {
     "slide_type": ""
    },
    "tags": [
     "env"
    ]
   },
   "outputs": [
    {
     "name": "stderr",
     "output_type": "stream",
     "text": [
      "Repo path:   [E:\\_codes\\GPT-Paper]\n",
      "INFO:utils.logger:Repo path:   [E:\\_codes\\GPT-Paper]\n",
      "Working dir: [E:\\_codes\\GPT-Paper\\notebook]\n",
      "INFO:utils.logger:Working dir: [E:\\_codes\\GPT-Paper\\notebook]\n"
     ]
    }
   ],
   "source": [
    "# Run this cell when initialized\n",
    "import jupyter_black\n",
    "import os\n",
    "import sys\n",
    "from pathlib import Path\n",
    "\n",
    "repo_path = Path(os.path.abspath(\".\")).parent\n",
    "if str(repo_path) not in sys.path:\n",
    "    sys.path.append(str(repo_path))\n",
    "work_dir = Path().absolute()\n",
    "\n",
    "from IPython.display import display\n",
    "import ipywidgets as widgets\n",
    "from ipywidgets import Image as wImage\n",
    "from ipywidgets import HBox, Layout\n",
    "from utils.logger import logger\n",
    "from termcolor import colored\n",
    "\n",
    "jupyter_black.load(lab=True)\n",
    "logger.note(f\"Repo path:   [{repo_path}]\")\n",
    "logger.note(f\"Working dir: [{work_dir}]\")"
   ]
  },
  {
   "cell_type": "code",
   "execution_count": 30,
   "id": "1739b204-98a3-4775-ba26-c27609c98816",
   "metadata": {
    "editable": true,
    "jupyterlab-hide-cells:hidden": true,
    "slideshow": {
     "slide_type": ""
    },
    "tags": []
   },
   "outputs": [
    {
     "data": {
      "application/vnd.jupyter.widget-view+json": {
       "model_id": "19da721d99fd4dea87dba1841309979b",
       "version_major": 2,
       "version_minor": 0
      },
      "text/plain": [
       "HBox(children=(Image(value=b'\\x89PNG\\r\\n\\x1a\\n\\x00\\x00\\x00\\rIHDR\\x00\\x00\\t\\xf6\\x00\\x00\\x0c\\xe4\\x08\\x02\\x00\\x00…"
      ]
     },
     "metadata": {},
     "output_type": "display_data"
    },
    {
     "data": {
      "text/html": [
       "<img src onerror=\"var cell = this.closest('.jp-CodeCell');var editor = cell.querySelector('.jp-Editor');editor.style.background='black';this.parentNode.removeChild(this)\" style=\"display:none\">"
      ],
      "text/plain": [
       "<IPython.core.display.HTML object>"
      ]
     },
     "metadata": {},
     "output_type": "display_data"
    }
   ],
   "source": [
    "from notebook_ui import set_background\n",
    "\n",
    "# pdf_dir = \"Deep learning predicts postsurgical recurrence of hepatocellular carcinoma from digital histopathologic images\"\n",
    "\n",
    "pdf_dir = \"2308.09687 - Graph of Thoughts\"\n",
    "\n",
    "image_paths = [\n",
    "    f\n",
    "    for f in (\n",
    "        repo_path\n",
    "        / \"pdfs\"\n",
    "        / pdf_dir\n",
    "        / \"queries\"\n",
    "        / \"Tree of Thoughts vs Graph of Thoughts\"\n",
    "    ).glob(\"*.png\")\n",
    "]\n",
    "images = [\n",
    "    wImage(value=image_path.open(\"rb\").read(), format=\"png\", width=400)\n",
    "    for image_path in image_paths\n",
    "]\n",
    "\n",
    "display(HBox(images))\n",
    "set_background(\"black\")"
   ]
  },
  {
   "cell_type": "code",
   "execution_count": 22,
   "id": "81278999-a9bc-4416-9a55-c6f7306e049e",
   "metadata": {
    "editable": true,
    "slideshow": {
     "slide_type": ""
    },
    "tags": []
   },
   "outputs": [
    {
     "name": "stdout",
     "output_type": "stream",
     "text": [
      "PDFs root: E:\\_codes\\GPT-Paper\\pdfs\n"
     ]
    },
    {
     "data": {
      "application/vnd.jupyter.widget-view+json": {
       "model_id": "7b91261d2216463fbc903a644cc34d0c",
       "version_major": 2,
       "version_minor": 0
      },
      "text/plain": [
       "Checkbox(value=False, description='2308.09687 - Graph of Thoughts.pdf', indent=False, layout=Layout(width='aut…"
      ]
     },
     "metadata": {},
     "output_type": "display_data"
    },
    {
     "data": {
      "application/vnd.jupyter.widget-view+json": {
       "model_id": "5d8255c1c4174ac1946774679b1e9452",
       "version_major": 2,
       "version_minor": 0
      },
      "text/plain": [
       "Checkbox(value=False, description='Artificial Intelligence in Hepatology Ready for the Primetime.pdf', indent=…"
      ]
     },
     "metadata": {},
     "output_type": "display_data"
    },
    {
     "data": {
      "application/vnd.jupyter.widget-view+json": {
       "model_id": "ffeb371d2a7448d7b3720b7f13fbee46",
       "version_major": 2,
       "version_minor": 0
      },
      "text/plain": [
       "Checkbox(value=False, description='Artificial intelligence in liver diseases Improving diagnostics, prognostic…"
      ]
     },
     "metadata": {},
     "output_type": "display_data"
    },
    {
     "data": {
      "application/vnd.jupyter.widget-view+json": {
       "model_id": "8f9c2e8f636a4a9fbab8187387fe675b",
       "version_major": 2,
       "version_minor": 0
      },
      "text/plain": [
       "Checkbox(value=False, description='Deep learning for evaluation of microvascular invasion in hepatocellular ca…"
      ]
     },
     "metadata": {},
     "output_type": "display_data"
    },
    {
     "data": {
      "application/vnd.jupyter.widget-view+json": {
       "model_id": "df84623038254860bdf0e399bfee365d",
       "version_major": 2,
       "version_minor": 0
      },
      "text/plain": [
       "Checkbox(value=False, description='Deep learning for prediction of hepatocellular carcinoma recurrence after r…"
      ]
     },
     "metadata": {},
     "output_type": "display_data"
    },
    {
     "data": {
      "application/vnd.jupyter.widget-view+json": {
       "model_id": "5adce6e4961a4a15bc433eeb27a9ab8f",
       "version_major": 2,
       "version_minor": 0
      },
      "text/plain": [
       "Checkbox(value=False, description='Deep learning in hepatocellular carcinoma Current status and future perspec…"
      ]
     },
     "metadata": {},
     "output_type": "display_data"
    },
    {
     "data": {
      "application/vnd.jupyter.widget-view+json": {
       "model_id": "d804a81808484c4ca9fb3cf5b0c9b740",
       "version_major": 2,
       "version_minor": 0
      },
      "text/plain": [
       "Checkbox(value=False, description='Deep learning in histopathology the path to the clinics.pdf', indent=False,…"
      ]
     },
     "metadata": {},
     "output_type": "display_data"
    },
    {
     "data": {
      "application/vnd.jupyter.widget-view+json": {
       "model_id": "b8bfa475b84c400bb82151c832d7ac67",
       "version_major": 2,
       "version_minor": 0
      },
      "text/plain": [
       "Checkbox(value=False, description='Deep learning predicts postsurgical recurrence of hepatocellular carcinoma …"
      ]
     },
     "metadata": {},
     "output_type": "display_data"
    },
    {
     "data": {
      "application/vnd.jupyter.widget-view+json": {
       "model_id": "f4f25f0cdba9468cbf82ae76aa2bb68a",
       "version_major": 2,
       "version_minor": 0
      },
      "text/plain": [
       "Checkbox(value=False, description='Development of a deep pathomics score for predicting hepatocellular carcino…"
      ]
     },
     "metadata": {},
     "output_type": "display_data"
    },
    {
     "data": {
      "application/vnd.jupyter.widget-view+json": {
       "model_id": "2ff275b29ed0408ebec9b21365049074",
       "version_major": 2,
       "version_minor": 0
      },
      "text/plain": [
       "Checkbox(value=False, description='Explainable medical imaging AI needs human-centered design a systematic rev…"
      ]
     },
     "metadata": {},
     "output_type": "display_data"
    },
    {
     "data": {
      "application/vnd.jupyter.widget-view+json": {
       "model_id": "19e64b2e8b704856bfe17f589397dea8",
       "version_major": 2,
       "version_minor": 0
      },
      "text/plain": [
       "Checkbox(value=False, description='Exploring pathological signatures for predicting the recurrence of early-st…"
      ]
     },
     "metadata": {},
     "output_type": "display_data"
    },
    {
     "data": {
      "application/vnd.jupyter.widget-view+json": {
       "model_id": "727ab1b9b54645e48743fbeeac4b6a86",
       "version_major": 2,
       "version_minor": 0
      },
      "text/plain": [
       "Checkbox(value=False, description='GUT 2020 Exploring prognostic indicators in the pathological images of hepa…"
      ]
     },
     "metadata": {},
     "output_type": "display_data"
    },
    {
     "data": {
      "application/vnd.jupyter.widget-view+json": {
       "model_id": "4f9c131b7d61430ea2af6f37aff71ea3",
       "version_major": 2,
       "version_minor": 0
      },
      "text/plain": [
       "Checkbox(value=False, description='HEP 2020 Predicting survival after hepatocellular carcinoma resection using…"
      ]
     },
     "metadata": {},
     "output_type": "display_data"
    },
    {
     "data": {
      "application/vnd.jupyter.widget-view+json": {
       "model_id": "cd70720b1a54453c86cb0c8e198890c5",
       "version_major": 2,
       "version_minor": 0
      },
      "text/plain": [
       "Checkbox(value=False, description='Implementation of deep learning in liver pathology optimizes diagnosis of b…"
      ]
     },
     "metadata": {},
     "output_type": "display_data"
    },
    {
     "data": {
      "application/vnd.jupyter.widget-view+json": {
       "model_id": "ec9a805cf214476cb90b9529e693d514",
       "version_major": 2,
       "version_minor": 0
      },
      "text/plain": [
       "Checkbox(value=False, description='JOH 2017 Histological Subtypes of Hepatocellular Carcinoma Are Related To G…"
      ]
     },
     "metadata": {},
     "output_type": "display_data"
    },
    {
     "data": {
      "application/vnd.jupyter.widget-view+json": {
       "model_id": "703082671dce45bc9abe31bb9b939ef0",
       "version_major": 2,
       "version_minor": 0
      },
      "text/plain": [
       "Checkbox(value=False, description='JOH 2022 Artificial intelligence for the prevention and clinical management…"
      ]
     },
     "metadata": {},
     "output_type": "display_data"
    },
    {
     "data": {
      "application/vnd.jupyter.widget-view+json": {
       "model_id": "57699b70b35d48c39adc95d26010f962",
       "version_major": 2,
       "version_minor": 0
      },
      "text/plain": [
       "Checkbox(value=False, description='Med Image Anal. 2022 Explainable artificial intelligence (XAI) in deep lear…"
      ]
     },
     "metadata": {},
     "output_type": "display_data"
    },
    {
     "data": {
      "application/vnd.jupyter.widget-view+json": {
       "model_id": "9f4adc58353048d6be5813191ec65c7e",
       "version_major": 2,
       "version_minor": 0
      },
      "text/plain": [
       "Checkbox(value=False, description='Multi-task deep learning network to predict future macrovascular invasion i…"
      ]
     },
     "metadata": {},
     "output_type": "display_data"
    },
    {
     "data": {
      "application/vnd.jupyter.widget-view+json": {
       "model_id": "8bb95d357edd42f9a1327902f59e1afc",
       "version_major": 2,
       "version_minor": 0
      },
      "text/plain": [
       "Checkbox(value=False, description='Nature Cancer 2020 Pan-cancer computational histopathology reveals.pdf', in…"
      ]
     },
     "metadata": {},
     "output_type": "display_data"
    },
    {
     "data": {
      "application/vnd.jupyter.widget-view+json": {
       "model_id": "adc1d507ea524c8ab935af021faaa5e1",
       "version_major": 2,
       "version_minor": 0
      },
      "text/plain": [
       "Checkbox(value=False, description='Novel deep learning-based solution for identification of prognostic subgrou…"
      ]
     },
     "metadata": {},
     "output_type": "display_data"
    },
    {
     "data": {
      "application/vnd.jupyter.widget-view+json": {
       "model_id": "fcff2ead64874eee8e2cc9315778cf02",
       "version_major": 2,
       "version_minor": 0
      },
      "text/plain": [
       "Checkbox(value=False, description='NPJ 2020 Classification and mutation prediction based on.pdf', indent=False…"
      ]
     },
     "metadata": {},
     "output_type": "display_data"
    },
    {
     "data": {
      "application/vnd.jupyter.widget-view+json": {
       "model_id": "ef861b1eab2548378dbd072659772443",
       "version_major": 2,
       "version_minor": 0
      },
      "text/plain": [
       "Checkbox(value=False, description='Quantitative analysis of artificial intelligence on liver cancer.pdf', inde…"
      ]
     },
     "metadata": {},
     "output_type": "display_data"
    },
    {
     "data": {
      "application/vnd.jupyter.widget-view+json": {
       "model_id": "2daae1f5ad144fd7a0dde198c84b6860",
       "version_major": 2,
       "version_minor": 0
      },
      "text/plain": [
       "Checkbox(value=False, description='Utilization of model-agnostic explainable artificial intelligence framework…"
      ]
     },
     "metadata": {},
     "output_type": "display_data"
    }
   ],
   "source": [
    "pdf_root = Path(os.path.abspath(\".\")).parent / \"pdfs\"\n",
    "print(f\"PDFs root: {str(pdf_root)}\")\n",
    "\n",
    "pdf_paths = pdf_root.glob(\"*.pdf\")\n",
    "pdf_path_checkboxes = [\n",
    "    widgets.Checkbox(\n",
    "        value=False,\n",
    "        description=pdf_path.name,\n",
    "        disabled=False,\n",
    "        indent=False,\n",
    "        layout=widgets.Layout(width=\"auto\"),\n",
    "    )\n",
    "    for pdf_path in pdf_paths\n",
    "]\n",
    "\n",
    "for pdf_path_checkbox in pdf_path_checkboxes:\n",
    "    display(pdf_path_checkbox)"
   ]
  },
  {
   "cell_type": "code",
   "execution_count": 15,
   "id": "dc07ad82-2aae-4114-b21d-bbb88b9ec642",
   "metadata": {},
   "outputs": [],
   "source": [
    "for pdf_path_checkbox in pdf_path_checkboxes:\n",
    "    if pdf_path_checkbox.value:\n",
    "        print(pdf_path_checkbox.description)"
   ]
  },
  {
   "cell_type": "code",
   "execution_count": null,
   "id": "52f3412b-4807-4014-9b71-2af6362a70c6",
   "metadata": {},
   "outputs": [],
   "source": []
  }
 ],
 "metadata": {
  "kernelspec": {
   "display_name": "Python 3 (ipykernel)",
   "language": "python",
   "name": "python3"
  },
  "language_info": {
   "codemirror_mode": {
    "name": "ipython",
    "version": 3
   },
   "file_extension": ".py",
   "mimetype": "text/x-python",
   "name": "python",
   "nbconvert_exporter": "python",
   "pygments_lexer": "ipython3",
   "version": "3.9.5"
  }
 },
 "nbformat": 4,
 "nbformat_minor": 5
}
