{
 "cells": [
  {
   "cell_type": "code",
   "execution_count": 3,
   "id": "6bd0166d-e107-4dc3-a95d-f72a5357e3d2",
   "metadata": {
    "editable": true,
    "slideshow": {
     "slide_type": ""
    },
    "tags": [
     "env"
    ]
   },
   "outputs": [
    {
     "name": "stderr",
     "output_type": "stream",
     "text": [
      "Repo path:   [E:\\_codes\\GPT-Paper]\n",
      "INFO:utils.logger:Repo path:   [E:\\_codes\\GPT-Paper]\n",
      "Working dir: [E:\\_codes\\GPT-Paper\\notebook]\n",
      "INFO:utils.logger:Working dir: [E:\\_codes\\GPT-Paper\\notebook]\n"
     ]
    }
   ],
   "source": [
    "# Run this cell when initialized\n",
    "%load_ext autoreload\n",
    "\n",
    "import os\n",
    "import sys\n",
    "from pathlib import Path\n",
    "import logging\n",
    "\n",
    "repo_path = Path(os.path.abspath(\".\")).parent\n",
    "if str(repo_path) not in sys.path:\n",
    "    sys.path.append(str(repo_path))\n",
    "work_dir = Path().absolute()\n",
    "\n",
    "\n",
    "import jupyter_black\n",
    "import ipywidgets as widgets\n",
    "from importlib import reload\n",
    "from IPython.display import display\n",
    "from ipywidgets import Image as wImage\n",
    "from ipywidgets import HBox, Layout\n",
    "from utils.logger import logger\n",
    "from termcolor import colored\n",
    "\n",
    "jupyter_black.load(lab=True)\n",
    "logger.note(f\"Repo path:   [{repo_path}]\")\n",
    "logger.note(f\"Working dir: [{work_dir}]\")"
   ]
  },
  {
   "cell_type": "code",
   "execution_count": 2,
   "id": "1739b204-98a3-4775-ba26-c27609c98816",
   "metadata": {
    "editable": true,
    "jupyterlab-hide-cells:hidden": true,
    "slideshow": {
     "slide_type": ""
    },
    "tags": []
   },
   "outputs": [
    {
     "data": {
      "application/vnd.jupyter.widget-view+json": {
       "model_id": "b589424d49644b8494c61be2bf12a11b",
       "version_major": 2,
       "version_minor": 0
      },
      "text/plain": [
       "HBox(children=(Image(value=b'\\x89PNG\\r\\n\\x1a\\n\\x00\\x00\\x00\\rIHDR\\x00\\x00\\t\\xf6\\x00\\x00\\x0c\\xe4\\x08\\x02\\x00\\x00…"
      ]
     },
     "metadata": {},
     "output_type": "display_data"
    },
    {
     "data": {
      "text/html": [
       "<img src onerror=\"var cell = this.closest('.jp-CodeCell');var editor = cell.querySelector('.jp-Editor');editor.style.background='black';this.parentNode.removeChild(this)\" style=\"display:none\">"
      ],
      "text/plain": [
       "<IPython.core.display.HTML object>"
      ]
     },
     "metadata": {},
     "output_type": "display_data"
    }
   ],
   "source": [
    "from notebook_ui import set_background\n",
    "\n",
    "# pdf_dir = \"Deep learning predicts postsurgical recurrence of hepatocellular carcinoma from digital histopathologic images\"\n",
    "\n",
    "pdf_dir = \"2308.09687 - Graph of Thoughts\"\n",
    "\n",
    "image_paths = [\n",
    "    f\n",
    "    for f in (\n",
    "        repo_path\n",
    "        / \"pdfs\"\n",
    "        / pdf_dir\n",
    "        / \"queries\"\n",
    "        / \"Tree of Thoughts vs Graph of Thoughts\"\n",
    "    ).glob(\"*.png\")\n",
    "]\n",
    "images = [\n",
    "    wImage(value=image_path.open(\"rb\").read(), format=\"png\", width=400)\n",
    "    for image_path in image_paths\n",
    "]\n",
    "\n",
    "display(HBox(images))\n",
    "set_background(\"black\")"
   ]
  },
  {
   "cell_type": "code",
   "execution_count": null,
   "id": "81278999-a9bc-4416-9a55-c6f7306e049e",
   "metadata": {
    "editable": true,
    "slideshow": {
     "slide_type": ""
    },
    "tags": []
   },
   "outputs": [],
   "source": [
    "pdf_root = Path(os.path.abspath(\".\")).parent / \"pdfs\"\n",
    "print(f\"PDFs root: {str(pdf_root)}\")\n",
    "\n",
    "pdf_paths = pdf_root.glob(\"*.pdf\")\n",
    "pdf_path_checkboxes = [\n",
    "    widgets.Checkbox(\n",
    "        value=False,\n",
    "        description=pdf_path.name,\n",
    "        disabled=False,\n",
    "        indent=False,\n",
    "        layout=widgets.Layout(width=\"auto\"),\n",
    "    )\n",
    "    for pdf_path in pdf_paths\n",
    "]\n",
    "\n",
    "for pdf_path_checkbox in pdf_path_checkboxes:\n",
    "    display(pdf_path_checkbox)"
   ]
  },
  {
   "cell_type": "code",
   "execution_count": 5,
   "id": "dc07ad82-2aae-4114-b21d-bbb88b9ec642",
   "metadata": {
    "editable": true,
    "slideshow": {
     "slide_type": ""
    },
    "tags": []
   },
   "outputs": [
    {
     "name": "stderr",
     "output_type": "stream",
     "text": [
      "Nature Cancer 2020 Pan-cancer computational histopathology reveals.pdf\n",
      "INFO:utils.logger:Nature Cancer 2020 Pan-cancer computational histopathology reveals.pdf\n"
     ]
    }
   ],
   "source": [
    "for pdf_path_checkbox in pdf_path_checkboxes:\n",
    "    if pdf_path_checkbox.value:\n",
    "        logger.mesg(pdf_path_checkbox.description)"
   ]
  },
  {
   "cell_type": "code",
   "execution_count": 13,
   "id": "52f3412b-4807-4014-9b71-2af6362a70c6",
   "metadata": {},
   "outputs": [
    {
     "name": "stdout",
     "output_type": "stream",
     "text": [
      "[{'role': 'system', 'content': '你是一个专业的中英双语专家。如果给出中文，你需要如实翻译成英文；如果给出中文，你需要如实翻译成英文。你的翻译应当是严谨的和自然的，不要删改原文。请按照要求翻译如下文本：'}, {'role': 'user', 'content': 'In this paper, we introduce Semantic-SAM, a universal image segmentation model to enable segment and recognize anything at any desired granularity. Our model offers two key advantages: semantic-awareness and granularity-abundance. To achieve semantic-awareness, we consolidate multiple datasets across three granularities and introduce decoupled classification for objects and parts. This allows our model to capture rich semantic information.'}]\n",
      "assistant: 在这篇论文中，我们介绍了Semantic-SAM，这是一个通用的图像分割模型，可以在任何所需的粒度上对任何物体进行分割和识别。我们的模型具有两个关键优势：语义感知和粒度丰富性。为了实现语义感知，我们整合了三种不同粒度的多个数据集，并引入了对象和部分的分离分类。这使得我们的模型能够捕获丰富的语义信息。\n"
     ]
    }
   ],
   "source": [
    "%autoreload\n",
    "import asyncio\n",
    "import nest_asyncio\n",
    "\n",
    "nest_asyncio.apply()\n",
    "\n",
    "from agents.openai import OpenAIAgent\n",
    "\n",
    "asyncio.set_event_loop_policy(asyncio.WindowsSelectorEventLoopPolicy())\n",
    "\n",
    "agent = OpenAIAgent()\n",
    "\n",
    "asyncio.run(agent.test_prompt())"
   ]
  },
  {
   "cell_type": "code",
   "execution_count": null,
   "id": "26aba5c6-ddd0-42bc-a6bf-1df92e457451",
   "metadata": {},
   "outputs": [],
   "source": []
  }
 ],
 "metadata": {
  "kernelspec": {
   "display_name": "Python 3 (ipykernel)",
   "language": "python",
   "name": "python3"
  },
  "language_info": {
   "codemirror_mode": {
    "name": "ipython",
    "version": 3
   },
   "file_extension": ".py",
   "mimetype": "text/x-python",
   "name": "python",
   "nbconvert_exporter": "python",
   "pygments_lexer": "ipython3",
   "version": "3.9.5"
  }
 },
 "nbformat": 4,
 "nbformat_minor": 5
}
