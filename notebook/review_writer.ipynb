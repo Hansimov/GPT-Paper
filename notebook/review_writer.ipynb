{
 "cells": [
  {
   "cell_type": "code",
   "execution_count": 24,
   "id": "6bd0166d-e107-4dc3-a95d-f72a5357e3d2",
   "metadata": {
    "editable": true,
    "slideshow": {
     "slide_type": ""
    },
    "tags": []
   },
   "outputs": [
    {
     "name": "stdout",
     "output_type": "stream",
     "text": [
      "The autoreload extension is already loaded. To reload it, use:\n",
      "  %reload_ext autoreload\n",
      "Repo path:   [E:\\_codes\\GPT-Paper]\n",
      "Working dir: [E:\\_codes\\GPT-Paper\\notebook]\n",
      "Notebook Path: [E:\\_codes\\GPT-Paper\\notebook\\review_writer.ipynb]\n",
      "Now: [2023-09-05 01:07:39.163255]\n"
     ]
    }
   ],
   "source": [
    "%load_ext autoreload\n",
    "%autoreload\n",
    "%run -i \"startup.py\"\n",
    "\n",
    "prompter = OpenAIAgent(\n",
    "    name=\"prompter\",\n",
    "    model=\"gpt-4\",\n",
    "    system_message=\"你是一个擅长为大语言模型（LLM）撰写提示词（prompts）的专家。对于提供的文本，你总是能给出更易于LLM生成优质回复的prompts。下面是给出的文本：\",\n",
    ")\n",
    "translator = OpenAIAgent(\n",
    "    name=\"translator\",\n",
    "    model=\"gpt-3.5-turbo\",\n",
    "    system_message=\"你是一个专业的中英双语专家。如果给出英文，你需要如实翻译成中文；如果给出中文，你需要如实翻译成英文。你的翻译应当是严谨的和自然的，不要删改原文。请按照要求翻译如下文本：\",\n",
    "    memory=False,\n",
    ")\n",
    "summarizer = OpenAIAgent(\n",
    "    name=\"summarizer\",\n",
    "    system_message=\"你是一个擅长总结医学文章的医学专家。对于提供的文本，你总是能给出易于理解和总结。下面是提供的文本：\",\n",
    ")\n",
    "retriver = OpenAIAgent(\n",
    "    name=\"retriever\",\n",
    "    system_message=\"你的任务是生成与提供的文本内容相近的文本。对于提供的文本，你总是给出三条长度和意思相近的文本。下面是提供的文本：\",\n",
    ")\n",
    "outliner = OpenAIAgent(\n",
    "    name=\"outliner\",\n",
    "    system_message=\"你的任务是针对给定的文本和话题，生成大纲。下面是提供的文本：\",\n",
    ")\n",
    "polisher = OpenAIAgent(\n",
    "    name=\"polisher\", system_message=\"你的任务是针对提供的文本，进行逻辑和表达上的润色。润色后的内容应当更加严谨和丰富。下面是提供的文本：\"\n",
    ")\n",
    "backtracker = OpenAIAgent(\n",
    "    name=\"backtracker\",\n",
    "    system_message=\"你的任务是根据提供的文本，猜测该段文本可能源于什么场景或问题。请给出三个可能的选项。下面是提供的文本：\",\n",
    ")\n",
    "tasker = OpenAIAgent(name=\"tasker\", system_message=\"你擅长将一个大任务分解成子任务。下面是任务内容：\")\n"
   ]
  },
  {
   "cell_type": "code",
   "execution_count": null,
   "id": "2291a0ec-538c-4b82-ac9e-7ab1f1123617",
   "metadata": {
    "editable": true,
    "slideshow": {
     "slide_type": ""
    },
    "tags": []
   },
   "outputs": [],
   "source": [
    "main_title = \"Unraveling the “black-box” of artificial intelligence-based pathological analysis of liver cancerapplications\"\n",
    "translator.chat(main_title, show_prompt=True)\n",
    "# outliner_res = outliner.chat(main_title)"
   ]
  },
  {
   "cell_type": "code",
   "execution_count": 27,
   "id": "c524d457-b590-48f8-a346-471f32ac85e7",
   "metadata": {},
   "outputs": [
    {
     "name": "stdout",
     "output_type": "stream",
     "text": [
      "[Retriever]: 1. Shedding light on the enigmatic AI algorithms used in liver cancer pathology analysis.\n",
      "2. Peering inside the AI \"black-box\" for liver cancer diagnosis insights.\n",
      "3. Deciphering the mysteries of AI in the pathological analysis of liver cancer.\n"
     ]
    }
   ],
   "source": [
    "retriver_res = retriver.chat(main_title)"
   ]
  },
  {
   "cell_type": "code",
   "execution_count": null,
   "id": "69832b2e-03fd-42c5-afd2-b9ae7ca971a2",
   "metadata": {},
   "outputs": [],
   "source": [
    "summarizer_res = summarizer.chat(outliner_res)"
   ]
  },
  {
   "cell_type": "code",
   "execution_count": 17,
   "id": "83afd86d-3bb1-4735-b661-19c514f244fa",
   "metadata": {},
   "outputs": [
    {
     "data": {
      "text/plain": [
       "[{'role': 'system',\n",
       "  'content': '你是一个专业的中英双语专家。如果给出英文，你需要如实翻译成中文；如果给出中文，你需要如实翻译成英文。你的翻译应当是严谨的和自然的，不要删改原文。请按照要求翻译如下文本：'},\n",
       " {'role': 'user',\n",
       "  'content': 'Unraveling the “black-box” of artificial intelligence-based pathological analysis of liver cancerapplications'},\n",
       " {'role': 'assistant', 'content': '揭开基于人工智能的肝癌病理分析的“黑匣子”应用'},\n",
       " {'role': 'user',\n",
       "  'content': 'Including Occlusion sensitivity map (OSM), local interpretable model-agnostic explannations (LIME)'},\n",
       " {'role': 'assistant', 'content': '包括遮挡敏感度图（OSM）和局部可解释的模型无关解释（LIME）'}]"
      ]
     },
     "execution_count": 17,
     "metadata": {},
     "output_type": "execute_result"
    }
   ],
   "source": [
    "translator.history_messages"
   ]
  },
  {
   "cell_type": "markdown",
   "id": "2edd2249-03b5-4aa9-b3c3-ff71252691ff",
   "metadata": {},
   "source": [
    "# Unraveling the “black-box” of artificial intelligence-based pathological analysis of liver cancerapplications"
   ]
  }
 ],
 "metadata": {
  "kernelspec": {
   "display_name": "Python 3 (ipykernel)",
   "language": "python",
   "name": "python3"
  },
  "language_info": {
   "codemirror_mode": {
    "name": "ipython",
    "version": 3
   },
   "file_extension": ".py",
   "mimetype": "text/x-python",
   "name": "python",
   "nbconvert_exporter": "python",
   "pygments_lexer": "ipython3",
   "version": "3.9.5"
  },
  "widgets": {
   "application/vnd.jupyter.widget-state+json": {
    "state": {},
    "version_major": 2,
    "version_minor": 0
   }
  }
 },
 "nbformat": 4,
 "nbformat_minor": 5
}
