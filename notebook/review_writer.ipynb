{
 "cells": [
  {
   "cell_type": "code",
   "execution_count": 1,
   "id": "6bd0166d-e107-4dc3-a95d-f72a5357e3d2",
   "metadata": {
    "editable": true,
    "slideshow": {
     "slide_type": ""
    },
    "tags": []
   },
   "outputs": [
    {
     "data": {
      "text/html": [
       "\n",
       "                <script type=\"application/javascript\" id=\"jupyter_black\">\n",
       "                (function() {\n",
       "                    if (window.IPython === undefined) {\n",
       "                        return\n",
       "                    }\n",
       "                    var msg = \"WARNING: it looks like you might have loaded \" +\n",
       "                        \"jupyter_black in a non-lab notebook with \" +\n",
       "                        \"`is_lab=True`. Please double check, and if \" +\n",
       "                        \"loading with `%load_ext` please review the README!\"\n",
       "                    console.log(msg)\n",
       "                    alert(msg)\n",
       "                })()\n",
       "                </script>\n",
       "                "
      ],
      "text/plain": [
       "<IPython.core.display.HTML object>"
      ]
     },
     "metadata": {},
     "output_type": "display_data"
    },
    {
     "name": "stdout",
     "output_type": "stream",
     "text": [
      "Repo path:   [/mnt/sh_flex_storage/home/zehanyu/repos/GPT-Paper]\n",
      "Working dir: [/mnt/sh_flex_storage/home/zehanyu/repos/GPT-Paper/notebook]\n",
      "Now: [2023-09-05 13:43:18.553294]\n"
     ]
    }
   ],
   "source": [
    "%load_ext autoreload\n",
    "%autoreload\n",
    "%run -i \"startup.py\"\n",
    "\n",
    "prompter = OpenAIAgent(\n",
    "    name=\"prompter\",\n",
    "    model=\"gpt-4\",\n",
    "    system_message=\"你是一个擅长为大语言模型（LLM）撰写提示词（prompts）的专家。对于提供的文本，你总是能给出更易于LLM生成优质回复的prompts。下面是给出的文本：\",\n",
    ")\n",
    "translator = OpenAIAgent(\n",
    "    name=\"translator\",\n",
    "    model=\"gpt-3.5-turbo\",\n",
    "    system_message=\"你是一个专业的英译中专家。对于提供的英文，你需要如实翻译成中文。你的翻译应当是严谨的和自然的，不要删改原文。请按照要求翻译如下文本：\",\n",
    ")\n",
    "summarizer = OpenAIAgent(\n",
    "    name=\"summarizer\",\n",
    "    model=\"gpt-4\",\n",
    "    system_message=\"你是一个擅长总结医学文章的医学专家。对于提供的文本，你总是能给出易于理解和总结。下面是提供的文本：\",\n",
    "    memory=True,\n",
    ")\n",
    "synonymer = OpenAIAgent(\n",
    "    name=\"synonymer\",\n",
    "    system_message=\"你的任务是生成与提供的文本内容相近的文本。对于提供的文本，你总是给出三条长度和意思相近的文本。下面是提供的文本：\",\n",
    ")\n",
    "outliner = OpenAIAgent(\n",
    "    name=\"outliner\",\n",
    "    system_message=\"你的任务是针对给定的文本和话题，生成大纲。下面是提供的文本：\",\n",
    ")\n",
    "polisher = OpenAIAgent(\n",
    "    name=\"polisher\",\n",
    "    model=\"claude-2\",\n",
    "    system_message=\"你的任务是针对提供的文本，进行逻辑和表达上的润色。润色后的内容应当更加严谨和丰富。下面是提供的文本：\",\n",
    ")\n",
    "criticizer = OpenAIAgent(\n",
    "    name=\"criticizer\",\n",
    "    system_message=\"你的任务是针对提供的文本，分别给出三类批评：对观点的批评，对逻辑的批评，对表达的批评。下面是提供的文本：\",\n",
    ")\n",
    "backtracker = OpenAIAgent(\n",
    "    name=\"backtracker\",\n",
    "    system_message=\"你的任务是根据提供的文本，猜测该段文本可能源于什么场景或问题。请给出三个可能的选项。下面是提供的文本：\",\n",
    ")\n",
    "tasker = OpenAIAgent(\n",
    "    name=\"tasker\",\n",
    "    model=\"gpt-4\",\n",
    "    system_message=\"你擅长将一个大任务分解成多个连续的子任务。下面是任务内容：\",\n",
    ")\n",
    "\n",
    "retriver = DocumentsRetriever(\"cancer_review\")\n",
    "\n",
    "article_decomposer = OpenAIAgent(\n",
    "    name=\"article_decomposer\",\n",
    "    model=\"gpt-4\",\n",
    "    system_message=\"\"\"\n",
    "    你的任务是：对于所给的markdown格式的文本，为每个最末端的章节，根据其上层各级内容，生成独立的可以完整检索的一行短句。下面是样例输入，以及你应当的输出：\n",
    "\n",
    "    样例输入：\n",
    "    \n",
    "    ```\n",
    "    ## Current advances of AI-based approaches for clinical management of liver cancer\n",
    "    ### AI-based prognostication of liver cancer\n",
    "    \n",
    "    ## Strategies for unraveling the “black-box” of AI-based\n",
    "    \n",
    "    ### Model-based explanation\n",
    "    1. Support vector machine or random forests vs. deep learning\n",
    "    2. Supervised learning vs. weakly supervised learning vs. unsupervised learning\n",
    "    3. Textual explanation\n",
    "       a. Image captioning\n",
    "       b. Image captioning with visual explanation\n",
    "    4. Example-based explanation \n",
    "       a. Triplet network\n",
    "       b. Prototypes\n",
    "    ```\n",
    "\n",
    "    你的输出应当是：\n",
    "    \n",
    "    ```\n",
    "    [\n",
    "        \"1.1 Current advances of AI-based approaches for clinical management of liver cancer,  AI-based prognostication of liver cancer\"\n",
    "        \"2.1.1 Model-based explanation of Strategies for unraveling the “black-box” of AI-based, a comparison of Support vector machine, random forests and deep learning\",\n",
    "        \"2.1.2 Model-based explanation of Strategies for unraveling the “black-box” of AI-based, a comparison of Supervised learning vs. weakly supervised learning vs. unsupervised learning\",\n",
    "        \"2.1.3.1 Textual (Image captioning) explanation of Strategies for unraveling the “black-box” of AI-based\",\n",
    "        \"2.1.3.2 Textual (Image captioning with visual explanation) explanation of Strategies for unraveling the “black-box” of AI-based\",\n",
    "        \"2.1.4.1 Example-based (Triplet network) explanation of Strategies for unraveling the “black-box” of AI-based\",\n",
    "        \"2.1.4.2 Example-based (Prototypes) explanation of Strategies for unraveling the “black-box” of AI-based\"\n",
    "    ]\n",
    "    ```\n",
    "\n",
    "    请依据上述要求和示例，对下面的文本给出符合要求的输出：\n",
    "    \"\"\",\n",
    ")"
   ]
  },
  {
   "cell_type": "code",
   "execution_count": 3,
   "id": "2291a0ec-538c-4b82-ac9e-7ab1f1123617",
   "metadata": {
    "editable": true,
    "slideshow": {
     "slide_type": ""
    },
    "tags": []
   },
   "outputs": [
    {
     "name": "stdout",
     "output_type": "stream",
     "text": [
      "[Human]: Unraveling the “black-box” of artificial intelligence-based pathological analysis of liver cancer applications\n",
      "Prompt Tokens count: [19]\n",
      "[Translator]: 揭开人工智能基于肝癌病理分析应用的“黑匣子”\n"
     ]
    },
    {
     "data": {
      "text/plain": [
       "'揭开人工智能基于肝癌病理分析应用的“黑匣子”'"
      ]
     },
     "execution_count": 3,
     "metadata": {},
     "output_type": "execute_result"
    }
   ],
   "source": [
    "main_title = \"Unraveling the “black-box” of artificial intelligence-based pathological analysis of liver cancer applications\"\n",
    "translator.chat(main_title, show_prompt=True)\n",
    "# outliner_res = outliner.chat(main_title)"
   ]
  },
  {
   "cell_type": "code",
   "execution_count": 27,
   "id": "c524d457-b590-48f8-a346-471f32ac85e7",
   "metadata": {},
   "outputs": [
    {
     "name": "stdout",
     "output_type": "stream",
     "text": [
      "[Retriever]: 1. Shedding light on the enigmatic AI algorithms used in liver cancer pathology analysis.\n",
      "2. Peering inside the AI \"black-box\" for liver cancer diagnosis insights.\n",
      "3. Deciphering the mysteries of AI in the pathological analysis of liver cancer.\n"
     ]
    }
   ],
   "source": [
    "retriver_res = retriver.chat(main_title)"
   ]
  },
  {
   "cell_type": "code",
   "execution_count": null,
   "id": "69832b2e-03fd-42c5-afd2-b9ae7ca971a2",
   "metadata": {},
   "outputs": [],
   "source": [
    "summarizer_res = summarizer.chat(outliner_res)"
   ]
  },
  {
   "cell_type": "markdown",
   "id": "df4cf78b-92a0-4d92-9584-9b64ec8d9d3f",
   "metadata": {
    "editable": true,
    "slideshow": {
     "slide_type": ""
    },
    "tags": [
     "outline"
    ]
   },
   "source": [
    "# Unraveling the “black-box” of artificial intelligence-based pathological analysis of liver cancer\n",
    "\n",
    "## Current advances of AI-based approaches for clinical management of liver cancer\n",
    "\n",
    "### AI-based prognostication of liver cancer\n",
    "\n",
    "### Molecular profiling of liver cancer via AI\n",
    "\n",
    "### Exploring predictive indicators for therapy response\n",
    "\n",
    "## Current challenges limiting AI-based approaches in the management of liver cancer\n",
    "\n",
    "(One paragraph highlighting the urgent need to explain the “black box” of deeplearning)\n",
    "\n",
    "## Strategies for unraveling the “black-box” of AI-based pathological analysis of liver cancer\n",
    "\n",
    "### Model-based explanation\n",
    "1. Support vector machine or random forests vs. deep learning\n",
    "2. Supervised learning vs. weakly supervised learning vs. unsupervised learning\n",
    "3. Textual explanation\n",
    "   a. Image captioning\n",
    "   b. Image captioning with visual explanation\n",
    "4. Example-based explanation \n",
    "   a. Triplet network\n",
    "   b. Prototypes\n",
    "\n",
    "### Post hoc explanation\n",
    "1. Visual explanation (saliency mapping, pathologist-in-the-loop)\n",
    "   a. Backpropagation-based approaches\n",
    "      Including class activation mapping (CAM) and gradient-weighted class activation mapping (Grad-CAM)\n",
    "   b. Perturbation-based approaches\n",
    "      Including Occlusion sensitivity map (OSM), local interpretable model-agnostic explannations (LIME)\n",
    "   c. Multiple instance learning-based approaches\n",
    "2. Textual explanation\n",
    "   Testing with concept activation vectors (TCAV)\n",
    "3. Example-based explanation\n",
    "   a. Influence functions\n",
    "   b. ...\n",
    "\n",
    "## Conclusion and future applications"
   ]
  },
  {
   "cell_type": "code",
   "execution_count": 16,
   "id": "769fe72e-848f-4766-b89d-1aa91183f615",
   "metadata": {
    "editable": true,
    "slideshow": {
     "slide_type": ""
    },
    "tags": []
   },
   "outputs": [
    {
     "data": {
      "text/plain": [
       "'# Unraveling the “black-box” of artificial intelligence-based pathological analysis of liver cancer\\n\\n## Current advances of AI-based approaches for clinical management of liver cancer\\n\\n### AI-based prognostication of liver cancer\\n\\n### Molecular profiling of liver cancer via AI\\n\\n### Exploring predictive indicators for therapy response\\n\\n## Current challenges limiting AI-based approaches in the management of liver cancer\\n\\n(One paragraph highlighting the urgent need to explain the “black box” of deeplearning)\\n\\n## Strategies for unraveling the “black-box” of AI-based pathological analysis of liver cancer\\n\\n### Model-based explanation\\n1. Support vector machine or random forests vs. deep learning\\n2. Supervised learning vs. weakly supervised learning vs. unsupervised learning\\n3. Textual explanation\\n   a. Image captioning\\n   b. Image captioning with visual explanation\\n4. Example-based explanation \\n   a. Triplet network\\n   b. Prototypes\\n\\n### Post hoc explanation\\n1. Visual explanation (saliency mapping, pathologist-in-the-loop)\\n   a. Backpropagation-based approaches\\n      Including class activation mapping (CAM) and gradient-weighted class activation mapping (Grad-CAM)\\n   b. Perturbation-based approaches\\n      Including Occlusion sensitivity map (OSM), local interpretable model-agnostic explannations (LIME)\\n   c. Multiple instance learning-based approaches\\n2. Textual explanation\\n   Testing with concept activation vectors (TCAV)\\n3. Example-based explanation\\n   a. Influence functions\\n   b. ...\\n\\n## Conclusion and future applications'"
      ]
     },
     "metadata": {},
     "output_type": "display_data"
    }
   ],
   "source": [
    "ipynb_name = \"review_writer.ipynb\"\n",
    "markdown_cells = get_notebook_cells(notebook_path=ipynb_name, cell_types=[\"markdown\"])\n",
    "# display(markdown_cells)\n",
    "outline_cells = [\n",
    "    cell for cell in markdown_cells if \"outline\" in cell[\"metadata\"][\"tags\"]\n",
    "]\n",
    "outline_content = \"\".join([cell[\"source\"] for cell in outline_cells])\n",
    "display(outline_content)"
   ]
  },
  {
   "cell_type": "code",
   "execution_count": 17,
   "id": "193d8a37-cb0c-4096-be66-55539ae48bf0",
   "metadata": {},
   "outputs": [
    {
     "name": "stdout",
     "output_type": "stream",
     "text": [
      "Prompt Tokens count: [320]\n",
      "```\n",
      "[\n",
      "    \"1.1 Current advances of AI-based approaches for clinical management of liver cancer, AI-based prognostication of liver cancer\",\n",
      "    \"1.2 Current advances of AI-based approaches for clinical management of liver cancer, Molecular profiling of liver cancer via AI\",\n",
      "    \"1.3 Current advances of AI-based approaches for clinical management of liver cancer, Exploring predictive indicators for therapy response\",\n",
      "    \"3.1.1 Model-based explanation of Strategies for unraveling the “black-box” of AI-based pathological analysis of liver cancer, a comparison of Support vector machine, random forests and deep learning\",\n",
      "    \"3.1.2 Model-based explanation of Strategies for unraveling the “black-box” of AI-based pathological analysis of liver cancer, a comparison of Supervised learning vs. weakly supervised learning vs. unsupervised learning\",\n",
      "    \"3.1.3.1 Textual (Image captioning) explanation of Strategies for unraveling the “black-box” of AI-based pathological analysis of liver cancer\",\n",
      "    \"3.1.3.2 Textual (Image captioning with visual explanation) explanation of Strategies for unraveling the “black-box” of AI-based pathological analysis of liver cancer\",\n",
      "    \"3.1.4.1 Example-based (Triplet network) explanation of Strategies for unraveling the “black-box” of AI-based pathological analysis of liver cancer\",\n",
      "    \"3.1.4.2 Example-based (Prototypes) explanation of Strategies for unraveling the “black-box” of AI-based pathological analysis of liver cancer\",\n",
      "    \"3.2.1.1 Post hoc (Backpropagation-based approaches) explanation of Strategies for unraveling the “black-box” of AI-based pathological analysis of liver cancer\",\n",
      "    \"3.2.1.2 Post hoc (Perturbation-based approaches) explanation of Strategies for unraveling the “black-box” of AI-based pathological analysis of liver cancer\",\n",
      "    \"3.2.1.3 Post hoc (Multiple instance learning-based approaches) explanation of Strategies for unraveling the “black-box” of AI-based pathological analysis of liver cancer\",\n",
      "    \"3.2.2 Post hoc (Testing with concept activation vectors (TCAV)) textual explanation of Strategies for unraveling the “black-box” of AI-based pathological analysis of liver cancer\",\n",
      "    \"3.2.3.1 Example-based (Influence functions) explanation of Strategies for unraveling the “black-box” of AI-based pathological analysis of liver cancer\"\n",
      "]\n",
      "```\n",
      "Response Tokens count: [511]\n"
     ]
    }
   ],
   "source": [
    "article_decomposer_res = article_decomposer.chat(outline_content)"
   ]
  },
  {
   "cell_type": "code",
   "execution_count": null,
   "id": "04caf8d7-06bd-4024-89d7-72df07936e67",
   "metadata": {},
   "outputs": [],
   "source": []
  },
  {
   "cell_type": "raw",
   "id": "942bbdb9-1bb2-496a-9881-bc542f4e7779",
   "metadata": {},
   "source": [
    "A typical workflow of generate a detailed review of a section title:\n",
    "1. [Optional] [Agent] Synonymer: Generate similar texts for each sub-section\n",
    "2. [Program] Retrieve and Re-rank from local embbedings of docs\n",
    "3. [Agent] Summarizer: Summarize the above content into a section\n",
    "4. [Agent] Polisher: Polish the content of the section"
   ]
  },
  {
   "cell_type": "code",
   "execution_count": 13,
   "id": "2b1b7a65-e177-4250-abc2-647b65ef9bba",
   "metadata": {
    "scrolled": true
   },
   "outputs": [],
   "source": [
    "section_summarizer = OpenAIAgent(\n",
    "    name=\"section_summarizer\",\n",
    "    model=\"gpt-4\",\n",
    "    # model=\"claude-2\",\n",
    "    system_message=\"你的任务是：对于提供的文本，只关注提供的主题，给出完全符合原文内容和主题的陈述。\",\n",
    ")\n",
    "\n",
    "\n",
    "def section_sum_prompt_template(topic, queries_str, word_count=200, lang=\"en\"):\n",
    "    lang_map = {\"en\": \"英文\", \"zh\": \"中文\"}\n",
    "    lang_str = lang_map[lang]\n",
    "\n",
    "    section_sum_prompt = f\"\"\"\n",
    "    请你紧密围绕主题：\n",
    "    \n",
    "    ```\n",
    "    {topic}\n",
    "    ```\n",
    "    \n",
    "    结合下面提供的文本，给出{word_count}词的{lang_str}陈述：\n",
    "    \n",
    "    ```\n",
    "    {queries_str}\n",
    "    ```\n",
    "\n",
    "    你的输出格式：\n",
    "    \n",
    "    ```\n",
    "    Topic: {topic}\n",
    "    Statement: ...\n",
    "    ```\n",
    "    \"\"\"\n",
    "    return section_sum_prompt\n",
    "\n",
    "\n",
    "def retrieve_doc(query):\n",
    "    queries = retriver.query(query, text_only=True)\n",
    "    display(queries)\n",
    "    queries_str = \"\\n\\n\".join(queries)\n",
    "    return queries_str\n",
    "\n",
    "\n",
    "def summarize_and_translate_section(section, section_queries_str, word_count=200):\n",
    "    section_sum_prompt = section_sum_prompt_template(\n",
    "        section, section_queries_str, word_count=word_count\n",
    "    )\n",
    "    section_sum_res = section_summarizer.chat(section_sum_prompt)\n",
    "    section_trans_res = translator.chat(section_sum_res)\n",
    "    return section_sum_res, section_trans_res"
   ]
  },
  {
   "cell_type": "code",
   "execution_count": 18,
   "id": "167fc03e-58c6-4ba6-aa97-ae2cdd53a99a",
   "metadata": {
    "scrolled": true
   },
   "outputs": [
    {
     "data": {
      "text/plain": [
       "'This study used bibliometrics to conduct an in-depth analysis of the published literature on AI in liver cancer.\\nThe results showed that AI has undergone rapid development and has a wide application in the diagnosis and treatment of liver diseases, especially in China, which has one of the highest incidences of liver cancer compared to other countries the world.\\nIn addition, intelligent analysis of imaging data is the hotspot and focus of current research in this field.\\nHowever, combined with the current clinical difficulties such as accurate screening of early-stage liver cancer patients and high-risk patients, and selection of reasonable treatment decisions for advanced liver cancer patients, the use of AI for the fusion analysis of multiple types data in the process of diagnosis and treatment of liver cancer and multi-modal treatment decision-making for liver cancer are still relatively rare, and may become a future research trend.\\n\\nAs more and more researchers are interested in the use of AI in liver cancer, a large number of related studies have started being published.\\nFor example, reviews describing an overview of deep learning, convolutional neural networks and other AI technologies applications in liver cancer (20-22), reviews on the applications of AI on assisted imaging in diagnosis, prognosis and detection of liver cancer (23-25), and explained the latest research, on limitations and future development trends of AI have all been recently published.\\nHowever, current reviews may be unable to explore grasp the latest research trends and hotspots in this field because of lack of a large number of publications.\\nMeanwhile, there is a lack of quantitative analysis of all\\n\\nTherefore, we aimed to quantitatively analyze existing studies involving AI in liver cancer using bibliometrics to provide the current research progress, hotspots, and emerging trends for AI in liver cancer which may help researchers better understand grasp future research interest.\\nInformation was collated regarding countries/regions, institutions, authors, and journals with the highest citations and publications and keywords.\\n\\nOwing to the broad heterogeneity in HCC risk factors and pathogenesis, established strategies for prediction and prognostication are still limited.\\nRecently, artificial intelligence (AI) has emerged as a unique opportunity to improve the full spectrum of HCC clinical care, by: i) improving the prediction of future HCC risk in patients with established liver disease; ii) improving the accuracy of HCC\\n\\nRecent advances in artificial intelligence (AI) methodologies have made great strides in automatically quantifying pathological patterns based on digital histological slides [18].\\nWith the integration of digital slides into the pathology workflow, advanced algorithms and computeraided techniques expand and reinforce their utilization in tumor diagnosis, prognostic prediction and therapy targeting, which enable the interpretation of information beyond human limits and ultimately, improve patient management [19-21].\\nFor HCC, survival indicators after liver resection were proposed based on weakly supervised deep learning methods, exhibiting high accuracy [22, 23].\\nWith largely uncovered invisible information available from HCC histology, further integration of recurrence prediction models and AI algorithms in transplant patients suffering from HCC deserve to be explored.\\nMoreover, a comprehensive research on correlation between HCC histological structures and prognosis is urgently needed.\\n\\nAI is an upcoming promising technology that is rapidly becoming an essential part of patient management.\\nApplications of AI have expanded in all branches of medicines, especially endoscopy and hepatology.\\nThe conglomeration of data which can be clinical/laboratory, multi-omics, natural language processing (NLP) and Image recognition (both radiology-based and pathology-based) has contributed to the prediction of fibrosis, classification of liver masses and prediction of treatment response and transplant outcomes.\\n’® In this review the majority of studies mentioned focussed on diagnosis part.\\nThere are very few studies that help to predict treatment response, post-liver transplant response, and prediction of hepatotoxicity in newer drug development and more studies are needed.\\nAI also helps for realtime biomonitoring, by identification of patients at high risk of clinical decompensation and hospital admission, so that timely intervention can be done for high-risk patients.\\nWith the increasing advancement of image capture and storage, AI will bring striking changes to the diagnosis of various liver diseases with the ‘big data’ being available.\\nHowever, there are many hurdles to overcome, which researchers will do in the near future using validation studies and molecular research.\\nIt is expected that gastroenterology and hepatology will be one of the first areas in medicine to introduce AI tools on a wide-scale basis, due to its inherent reliance on endoscopic and radiological imaging.\\nHence, GI and liver specialists should be proud that our field sets the ground for AI development in medicine.\\n\\nStudies on the treatment and prognosis of liver cancer mainly focused on the survival of a specific surgical method (59-66), such as radiofrequency ablation, transarterial chemoembolization and etc.\\nReports have proven that the modern therapies integrate a variety of neoadjuvant and adjuvant strategies have achieved dramatic improvements in survival, especially for patients with advanced HCC (66, 67).\\nBut the division of the patient population, the choice of potentially disclosing novel biomarkers still are controversies and the decision-making of precision treatment methods adapted to the specific patients, AI can play a role in this, but related research has not yet been seen.\\n\\nWith the development of medical big data and computer technology, artificial intelligence (AI) based on machine learning and deep learning has been widely used in current medical research (3-6).\\nThrough self-learning, summary, and induction of data, it can produce an intelligent reasoning system and choose the optimal solution to guide clinical decision-making (7).\\nOriginal AI was based on traditional machine-learning methods, including support vector machine and random forest models, which all relied on human experience for learning and simple summary.\\nAs early as 2003, Hussain constructed a predictive system consisting of 12 genes, with Fisher’s linear classifier, for predicting early recurrence in patients with hepatocellular carcinoma (HCC) (8).\\nDuring this period, most studies have focused on simple analyses of data, such as genes and molecules (9-11).\\nWith the standardization of imaging diagnosis and its important role in the clinical diagnosis of liver cancer, AI research based on imaging has emerged by extracting high-throughput features that cannot be detected and defined by human eyes from large-scale image data to establish an intelligent decision -making model to assist clinical decisionmaking (12, 13).\\nIn particular, deep learning based on convolutional neural networks (CNNs) has promoted progress in liver cancer research (14-19).\\n\\nAnother rapidly growing area of research is focused on improved characterisation of indeterminate liver lesions.\\nIn clinical practice, when an abdominal ultrasound shows a new liver lesion, a patient is typically referred for further imaging, with contrast-enhanced CT or MRI.\\nBased on the fulfilment of specific radiologic criteria, certain liver lesions may be considered as having pathognomonic features of HCC, and thus do not require liver biopsy for further histological confirmation.\\nHowever, liver nodules imaged by CT or MRI often demonstrate indeterminate features, for which current recommendations include either liver biopsy or close interval follow-up with serial imaging.”° This practice is sub-optimal, resulting in numerous imaging studies, patient stress, and the potential for delayed diagnoses of liver cancer.\\nFor this reason, a growing body of recent literature has explored AI approaches to improve risk stratification of indeterminate liver lesions, to facilitate earlier and more accurate detection of HCC.\\n\\nRegarding data type, studies of AI in liver cancer started from the simple data modeling of genetic or molecular data (9-11).\\nWith the development of medical imaging, research on medical imaging has been gradually increasing.\\nCT, ultrasound, and MRI are the top three most used data types.\\nFirst, this may because CT and MRI can be used as the basis for clinical treatment strategies for patients with liver cancer based on guidelines for liver cancer diagnosis.\\nMoreover, ultrasound, as a screening method for patients at high risk of liver cancer, needs to be checked every six months.\\nTherefore, the data volume of these three imaging methods has greatly increased, which has promoted the development of AI in liver cancer (37-39).\\nSecond, compared with MRI, CT has the advantages of fast inspection speed and cost-effectiveness, and is an indispensable and important imaging method in the diagnosis and treatment of liver cancer.\\nFinally, although ultrasound is widely used in clinical practice, its image acquisition is seriously affected by the doctor’s operation technique and machine model, the resolution is low, and the processing is difficult.\\nTherefore, it is used less often than CT.\\nHowever, it is worth noting that contrast-enhanced ultrasound has now been included as a recommended imaging modality for the diagnosis of liver cancer (40, 41) and is also widely used in the development and prognostic evaluation of ultrasound-guided radiofrequency ablation.\\nThis suggests that we could pay attention to the important role of ultrasound in liver cancer clinics in future research.\\nAt the same time, few studies used pathological, genetic, and other clinical data (42-44).\\nThe main reason may be that the medical cost of genetic examination is high and the realization of AI in multiomics research is difficult.\\n\\nPrevious meta-analyses and literature reviews focused on the applications of specific technologies in liver cancer or the development status of specific liver disease (22-29), such as reviewing studies on AI on assisted imaging in the diagnosis, prognosis and detection of liver cancer, or explaining the latest research, limitations, and future development trends of AI in a\\n\\nThe analysis of the global trend of publications and citations and productive countries/regions is mainly to comprehensively understand the development trends of AI on liver cancer from beginning to end.\\nThe analysis of institutions, authors, and co-cited authors can quantitatively describe the strength of the cooperation between authors and institutions (30-32).\\nAdditionally, the analysis of top journals can analyze the level of cooperation and relationships in the concentrated fields of journals, which is beneficial to cross field cooperation in research (32).\\nIn particular, cluster co-occurrence analysis of keywords from different perspectives such as disease, data type, clinical goals, and clinical methods can help us understand the main topics and research trends in the current field of AI in liver cancer field.\\n\\nSince immune therapy has pioneered a new era of antitumoral systematic treatment [34], the expression of immune checkpoint molecules has been great significance to the prognosis of liver cancer [35].\\n\\nObjective: To provide the current research progress, hotspots, and emerging trends for Al in liver cancer, we have compiled a relative comprehensive and quantitative report on the research of liver disease using artificial intelligence by employing bibliometrics in this study.\\n\\nDue to the broad heterogeneity in risk factors for HCC and the lack of established strategies for prediction or prognostication, AI has recently emerged as a unique opportunity to improve the full spectrum of HCC clinical care.\\n\\nLiver cancer is an extremely aggressive malignant tumor, ranking 7\" in incidence and 4\" in mortality worldwide.\\nStudies have revealed that liver cancer has a high recurrence rate and low recovery rate, especially after the middle and late stages, and the 5-year survival rate of liver cancer is only 5-30% (1, 2).\\nTherefore, it has become a global health problem.\\nDespite advances in diagnosis and treatment of liver cancer, including improved diagnostic imaging accuracy and improved survival after neoadjuvant or conversion therapy, but it is limited.\\nAccurate screening of early-stage liver cancer patients and high-risk patients, and rational treatment decisions for patients with advanced stage liver cancer are of great significance for improving the quality of life of patients.\\n\\nProspective studies are needed to fully demonstrate the potential of AI to improve the clinical care of patients with HCC.\\nIn other medical areas, several Al-based randomised clinical trials have already been conducted.\\nAs such, in endoscopy, numerous randomised clinical trials have evaluated the impact of computer-aided systems on physicians’ performance in diagnosing intestinal adenoma or indicating blind spots of colonoscopy.’*°° The need to incorporate these new developments prompted the research community to extend the widely used SPIRIT and CONSORT guidelines for the use of Al methods in 2020.°\\'°?\\nAccording to ClinicalTrials.gov (https:// clinicaltrials.gov/), there are currently 6 ongoing trials involving AI for the management of HCC.\\nA research group at the University of Hong Kong is comparing an algorithm designed to diagnose HCC from CT images against the standard diagnostic procedure that relies on the LI-RADS criteria (NCT04843176).°?\\nA multicentre study from France is prospectively developing an AI algorithm in a non-randomised clinical trial.\\nThe research group uses clinical, biological and ultrasound data to\\n\\nArtificial Intelligence (AI) is a mathematical process of computer mediating designing of algorithms to support human intelligence.\\nAI in hepatology has shown tremendous promise to plan appropriate management and hence improve treatment outcomes.\\nThe field of AI is in a very early phase with limited clinical use.\\nAI tools such as machine learning, deep learning, and ‘big data’ are in a continuous phase of evolution, presently being applied for clinical and basic research.\\nIn this review, we have summarized various AI applications in hepatology, the pitfalls and AI\\'s future implications.\\nDifferent AI models and algorithms are under study using clinical, laboratory, endoscopic and imaging parameters to diagnose and manage liver diseases and mass lesions.\\nAI has helped to reduce human errors and improve treatment protocols.\\nFurther research and validation are required for future use of AI in hepatology.\\n(J Ciin Exp HepaTor 2023;13:149-161)\\n\\nIn this quantitative study, in order to systematically and quantitatively analyze the research status of AI in liver cancer, and explore the future research trends and hotspots in this field, we used a bibliometrics method to analyze the current research status of AI in liver cancer in terms of publication and citation trends, countries/ regions and institutions, authors and co-cited authors, journals, cited references and co-citation references, and keywords.\\nUltimately, 1724 articles focusing on Al in liver cancer were collected from the WoSCC database and analyzed.\\n\\nA growing body of research has applied AI approaches to improve HCC risk prediction, and to more accurately detect and risk stratify existing HCC tumours, based on EHR data, radiomics approaches, and molecular or histopathological biomarkers.'"
      ]
     },
     "metadata": {},
     "output_type": "display_data"
    }
   ],
   "source": [
    "section_1_1 = \"Current advances of AI-based approaches for clinical management of liver cancer, AI-based prognostication of liver cancer\"\n",
    "section_1_1_queries = retriver.query(section_1_1)\n",
    "section_1_1_queries_str = \"\\n\\n\".join(section_1_1_queries)\n",
    "display(section_1_1_queries_str)"
   ]
  },
  {
   "cell_type": "code",
   "execution_count": 31,
   "id": "8de500c7-55eb-45ca-b5f5-4ddbba46ff33",
   "metadata": {
    "scrolled": true
   },
   "outputs": [
    {
     "name": "stdout",
     "output_type": "stream",
     "text": [
      "Prompt Tokens count: [2983]\n",
      "AI has shown rapid development and wide application in the diagnosis and treatment of liver diseases, particularly in China, where liver cancer incidence is high. The current research focus is the intelligent analysis of imaging data. However, there are challenges in accurately identifying early-stage and high-risk liver cancer patients and making reasonable treatment decisions for advanced stage patients. AI's use in the fusion analysis of multiple types of data in liver cancer diagnosis and treatment, and in multi-modal treatment decision-making, is relatively rare, but may be a future research trend. AI's potential to improve HCC clinical care is being recognized, with advances in methodologies allowing for the automatic quantification of pathological patterns based on digital histological slides. AI applications have expanded in all branches of medicine, including endoscopy and hepatology, and have contributed to the prediction of fibrosis, classification of liver masses, and prediction of treatment response and transplant outcomes. There is a need for more studies predicting treatment response, post-liver transplant response, and prediction of hepatotoxicity in new drug development. AI also aids in real-time biomonitoring, identifying high-risk patients for timely intervention. Future research could focus on the role of ultrasound in liver cancer clinics, and the use of AI in multiomics research.\n",
      "Response Tokens count: [250]\n"
     ]
    }
   ],
   "source": [
    "section_1_1_sum_prompt = section_sum_prompt_template(\n",
    "    section_1_1, section_1_1_queries_str\n",
    ")\n",
    "section_1_1_sum_res = section_summarizer.chat(section_1_1_sum_prompt)\n",
    "# display(section_1_1_sum_res)\n",
    "# translator.chat(section_1, show_prompt=True)"
   ]
  },
  {
   "cell_type": "code",
   "execution_count": 32,
   "id": "c1971af0-21ce-4848-9820-bf37d1c51f16",
   "metadata": {
    "scrolled": true
   },
   "outputs": [
    {
     "name": "stdout",
     "output_type": "stream",
     "text": [
      "Prompt Tokens count: [250]\n",
      "人工智能在肝病的诊断和治疗方面已经显示出迅速发展和广泛应用，特别是在中国，那里的肝癌发病率较高。当前的研究重点是智能分析影像数据。然而，在准确识别早期和高危肝癌患者以及为晚期患者做出合理的治疗决策方面存在挑战。AI在肝癌诊断和治疗中多种数据类型的融合分析以及多模态治疗决策方面的应用相对较少，但可能是未来的研究趋势。人工智能在改善HCC临床护理方面的潜力正在被认可，先进的方法允许基于数字组织学切片自动量化病理模式。AI应用已经扩展到医学的所有领域，包括内窥镜和肝病学，并有助于纤维化预测、肝脏肿块分类以及治疗反应和移植结果的预测。需要更多的研究来预测治疗反应、肝脏移植后的反应以及新药开发中的肝毒性预测。AI还有助于实时生物监测，识别高危患者以进行及时干预。未来的研究可以关注超声在肝癌诊所中的作用，以及AI在多组学研究中的应用。\n",
      "Response Tokens count: [465]\n"
     ]
    }
   ],
   "source": [
    "section_1_1_trans_res = translator.chat(section_1_1_sum_res)"
   ]
  },
  {
   "cell_type": "code",
   "execution_count": 11,
   "id": "80c4f97d-6418-4771-b40c-d22801a82e0b",
   "metadata": {
    "collapsed": true,
    "jupyter": {
     "outputs_hidden": true
    },
    "scrolled": true
   },
   "outputs": [
    {
     "data": {
      "text/plain": [
       "\"This study used bibliometrics to conduct an in-depth analysis of the published literature on AI in liver cancer.\\nThe results showed that AI has undergone rapid development and has a wide application in the diagnosis and treatment of liver diseases, especially in China, which has one of the highest incidences of liver cancer compared to other countries the world.\\nIn addition, intelligent analysis of imaging data is the hotspot and focus of current research in this field.\\nHowever, combined with the current clinical difficulties such as accurate screening of early-stage liver cancer patients and high-risk patients, and selection of reasonable treatment decisions for advanced liver cancer patients, the use of AI for the fusion analysis of multiple types data in the process of diagnosis and treatment of liver cancer and multi-modal treatment decision-making for liver cancer are still relatively rare, and may become a future research trend.\\n\\nTherefore, we aimed to quantitatively analyze existing studies involving AI in liver cancer using bibliometrics to provide the current research progress, hotspots, and emerging trends for AI in liver cancer which may help researchers better understand grasp future research interest.\\nInformation was collated regarding countries/regions, institutions, authors, and journals with the highest citations and publications and keywords.\\n\\nAs more and more researchers are interested in the use of AI in liver cancer, a large number of related studies have started being published.\\nFor example, reviews describing an overview of deep learning, convolutional neural networks and other AI technologies applications in liver cancer (20-22), reviews on the applications of AI on assisted imaging in diagnosis, prognosis and detection of liver cancer (23-25), and explained the latest research, on limitations and future development trends of AI have all been recently published.\\nHowever, current reviews may be unable to explore grasp the latest research trends and hotspots in this field because of lack of a large number of publications.\\nMeanwhile, there is a lack of quantitative analysis of all\\n\\nRegarding data type, studies of AI in liver cancer started from the simple data modeling of genetic or molecular data (9-11).\\nWith the development of medical imaging, research on medical imaging has been gradually increasing.\\nCT, ultrasound, and MRI are the top three most used data types.\\nFirst, this may because CT and MRI can be used as the basis for clinical treatment strategies for patients with liver cancer based on guidelines for liver cancer diagnosis.\\nMoreover, ultrasound, as a screening method for patients at high risk of liver cancer, needs to be checked every six months.\\nTherefore, the data volume of these three imaging methods has greatly increased, which has promoted the development of AI in liver cancer (37-39).\\nSecond, compared with MRI, CT has the advantages of fast inspection speed and cost-effectiveness, and is an indispensable and important imaging method in the diagnosis and treatment of liver cancer.\\nFinally, although ultrasound is widely used in clinical practice, its image acquisition is seriously affected by the doctor’s operation technique and machine model, the resolution is low, and the processing is difficult.\\nTherefore, it is used less often than CT.\\nHowever, it is worth noting that contrast-enhanced ultrasound has now been included as a recommended imaging modality for the diagnosis of liver cancer (40, 41) and is also widely used in the development and prognostic evaluation of ultrasound-guided radiofrequency ablation.\\nThis suggests that we could pay attention to the important role of ultrasound in liver cancer clinics in future research.\\nAt the same time, few studies used pathological, genetic, and other clinical data (42-44).\\nThe main reason may be that the medical cost of genetic examination is high and the realization of AI in multiomics research is difficult.\\n\\nWith the development of medical big data and computer technology, artificial intelligence (AI) based on machine learning and deep learning has been widely used in current medical research (3-6).\\nThrough self-learning, summary, and induction of data, it can produce an intelligent reasoning system and choose the optimal solution to guide clinical decision-making (7).\\nOriginal AI was based on traditional machine-learning methods, including support vector machine and random forest models, which all relied on human experience for learning and simple summary.\\nAs early as 2003, Hussain constructed a predictive system consisting of 12 genes, with Fisher’s linear classifier, for predicting early recurrence in patients with hepatocellular carcinoma (HCC) (8).\\nDuring this period, most studies have focused on simple analyses of data, such as genes and molecules (9-11).\\nWith the standardization of imaging diagnosis and its important role in the clinical diagnosis of liver cancer, AI research based on imaging has emerged by extracting high-throughput features that cannot be detected and defined by human eyes from large-scale image data to establish an intelligent decision -making model to assist clinical decisionmaking (12, 13).\\nIn particular, deep learning based on convolutional neural networks (CNNs) has promoted progress in liver cancer research (14-19).\\n\\nAI is an upcoming promising technology that is rapidly becoming an essential part of patient management.\\nApplications of AI have expanded in all branches of medicines, especially endoscopy and hepatology.\\nThe conglomeration of data which can be clinical/laboratory, multi-omics, natural language processing (NLP) and Image recognition (both radiology-based and pathology-based) has contributed to the prediction of fibrosis, classification of liver masses and prediction of treatment response and transplant outcomes.\\n’® In this review the majority of studies mentioned focussed on diagnosis part.\\nThere are very few studies that help to predict treatment response, post-liver transplant response, and prediction of hepatotoxicity in newer drug development and more studies are needed.\\nAI also helps for realtime biomonitoring, by identification of patients at high risk of clinical decompensation and hospital admission, so that timely intervention can be done for high-risk patients.\\nWith the increasing advancement of image capture and storage, AI will bring striking changes to the diagnosis of various liver diseases with the ‘big data’ being available.\\nHowever, there are many hurdles to overcome, which researchers will do in the near future using validation studies and molecular research.\\nIt is expected that gastroenterology and hepatology will be one of the first areas in medicine to introduce AI tools on a wide-scale basis, due to its inherent reliance on endoscopic and radiological imaging.\\nHence, GI and liver specialists should be proud that our field sets the ground for AI development in medicine.\\n\\nThe analysis of the global trend of publications and citations and productive countries/regions is mainly to comprehensively understand the development trends of AI on liver cancer from beginning to end.\\nThe analysis of institutions, authors, and co-cited authors can quantitatively describe the strength of the cooperation between authors and institutions (30-32).\\nAdditionally, the analysis of top journals can analyze the level of cooperation and relationships in the concentrated fields of journals, which is beneficial to cross field cooperation in research (32).\\nIn particular, cluster co-occurrence analysis of keywords from different perspectives such as disease, data type, clinical goals, and clinical methods can help us understand the main topics and research trends in the current field of AI in liver cancer field.\\n\\nRecent advances in artificial intelligence (AI) methodologies have made great strides in automatically quantifying pathological patterns based on digital histological slides [18].\\nWith the integration of digital slides into the pathology workflow, advanced algorithms and computeraided techniques expand and reinforce their utilization in tumor diagnosis, prognostic prediction and therapy targeting, which enable the interpretation of information beyond human limits and ultimately, improve patient management [19-21].\\nFor HCC, survival indicators after liver resection were proposed based on weakly supervised deep learning methods, exhibiting high accuracy [22, 23].\\nWith largely uncovered invisible information available from HCC histology, further integration of recurrence prediction models and AI algorithms in transplant patients suffering from HCC deserve to be explored.\\nMoreover, a comprehensive research on correlation between HCC histological structures and prognosis is urgently needed.\\n\\nAnother rapidly growing area of research is focused on improved characterisation of indeterminate liver lesions.\\nIn clinical practice, when an abdominal ultrasound shows a new liver lesion, a patient is typically referred for further imaging, with contrast-enhanced CT or MRI.\\nBased on the fulfilment of specific radiologic criteria, certain liver lesions may be considered as having pathognomonic features of HCC, and thus do not require liver biopsy for further histological confirmation.\\nHowever, liver nodules imaged by CT or MRI often demonstrate indeterminate features, for which current recommendations include either liver biopsy or close interval follow-up with serial imaging.”° This practice is sub-optimal, resulting in numerous imaging studies, patient stress, and the potential for delayed diagnoses of liver cancer.\\nFor this reason, a growing body of recent literature has explored AI approaches to improve risk stratification of indeterminate liver lesions, to facilitate earlier and more accurate detection of HCC.\\n\\nObjective: To provide the current research progress, hotspots, and emerging trends for Al in liver cancer, we have compiled a relative comprehensive and quantitative report on the research of liver disease using artificial intelligence by employing bibliometrics in this study.\\n\\nSince immune therapy has pioneered a new era of antitumoral systematic treatment [34], the expression of immune checkpoint molecules has been great significance to the prognosis of liver cancer [35].\\n\\nIn this quantitative study, in order to systematically and quantitatively analyze the research status of AI in liver cancer, and explore the future research trends and hotspots in this field, we used a bibliometrics method to analyze the current research status of AI in liver cancer in terms of publication and citation trends, countries/ regions and institutions, authors and co-cited authors, journals, cited references and co-citation references, and keywords.\\nUltimately, 1724 articles focusing on Al in liver cancer were collected from the WoSCC database and analyzed.\\n\\nPrevious meta-analyses and literature reviews focused on the applications of specific technologies in liver cancer or the development status of specific liver disease (22-29), such as reviewing studies on AI on assisted imaging in the diagnosis, prognosis and detection of liver cancer, or explaining the latest research, limitations, and future development trends of AI in a\\n\\nArtificial Intelligence (AI) is a mathematical process of computer mediating designing of algorithms to support human intelligence.\\nAI in hepatology has shown tremendous promise to plan appropriate management and hence improve treatment outcomes.\\nThe field of AI is in a very early phase with limited clinical use.\\nAI tools such as machine learning, deep learning, and ‘big data’ are in a continuous phase of evolution, presently being applied for clinical and basic research.\\nIn this review, we have summarized various AI applications in hepatology, the pitfalls and AI's future implications.\\nDifferent AI models and algorithms are under study using clinical, laboratory, endoscopic and imaging parameters to diagnose and manage liver diseases and mass lesions.\\nAI has helped to reduce human errors and improve treatment protocols.\\nFurther research and validation are required for future use of AI in hepatology.\\n(J Ciin Exp HepaTor 2023;13:149-161)\\n\\nStudies on the treatment and prognosis of liver cancer mainly focused on the survival of a specific surgical method (59-66), such as radiofrequency ablation, transarterial chemoembolization and etc.\\nReports have proven that the modern therapies integrate a variety of neoadjuvant and adjuvant strategies have achieved dramatic improvements in survival, especially for patients with advanced HCC (66, 67).\\nBut the division of the patient population, the choice of potentially disclosing novel biomarkers still are controversies and the decision-making of precision treatment methods adapted to the specific patients, AI can play a role in this, but related research has not yet been seen.\\n\\nFIGURE 2 Global trend of publications and citations on artificial intelligence research in liver cancer from 2003 to 2022.\\n\\ndevelopment of multimodal treatment plans for liver cancer could become the major trend of future research in Al in liver cancer.\\n\\nOwing to the broad heterogeneity in HCC risk factors and pathogenesis, established strategies for prediction and prognostication are still limited.\\nRecently, artificial intelligence (AI) has emerged as a unique opportunity to improve the full spectrum of HCC clinical care, by: i) improving the prediction of future HCC risk in patients with established liver disease; ii) improving the accuracy of HCC\\n\\n66.\\nPetrowsky H, Fritsch R, Guckenberger M, De Oliveira ML, Dutkowski P, Clavien PA. Modern therapeutic approaches for the treatment of malignant liver tumours.\\nNat Rev Gastroenterol Hepatol (2020) 17(12):755-72. doi: 10.1038/s41575-020-0314-8\\n\\nA growing body of research has applied AI approaches to improve HCC risk prediction, and to more accurately detect and risk stratify existing HCC tumours, based on EHR data, radiomics approaches, and molecular or histopathological biomarkers.\""
      ]
     },
     "metadata": {},
     "output_type": "display_data"
    }
   ],
   "source": [
    "section_1_2 = \"Current advances of AI-based approaches for clinical management of liver cancer, Molecular profiling of liver cancer via AI\"\n",
    "section_1_2_queries_str = \"\\n\\n\".join(retriver.query(section_1_2))\n",
    "display(section_1_2_queries_str)"
   ]
  },
  {
   "cell_type": "code",
   "execution_count": 14,
   "id": "b3507c82-7999-4985-be1d-df0597f0f3e6",
   "metadata": {},
   "outputs": [
    {
     "name": "stdout",
     "output_type": "stream",
     "text": [
      "Prompt Tokens count: [2734]\n",
      "```\n",
      "Topic: Current advances of AI-based approaches for clinical management of liver cancer, Molecular profiling of liver cancer via AI\n",
      "Statement: Artificial Intelligence (AI) has seen rapid development and wide application in diagnosing and treating liver diseases, particularly liver cancer. AI has been instrumental in the intelligent analysis of imaging data, a current research hotspot in this field. However, its use in multi-modal treatment decision-making and fusion analysis of multiple types of data in the diagnosis and treatment of liver cancer is still relatively rare. Studies of AI in liver cancer have evolved from simple data modeling of genetic or molecular data to research on medical imaging, with CT, ultrasound, and MRI being the most used data types. Additionally, AI has been used to improve risk stratification of indeterminate liver lesions, facilitating earlier and more accurate detection of liver cancer. Despite the progress, there is a need for more studies to predict treatment response, post-liver transplant response, and prediction of hepatotoxicity in newer drug development. Advances in AI methodologies have also been used to quantify pathological patterns based on digital histological slides, improving patient management. \n",
      "```\n",
      "Response Tokens count: [224]\n",
      "Prompt Tokens count: [224]\n",
      "主题：人工智能在肝癌临床管理中的当前进展，通过AI进行肝癌的分子特征分析\n",
      "\n",
      "陈述：人工智能（AI）在诊断和治疗肝疾病，尤其是肝癌方面，取得了迅速的发展和广泛的应用。AI在智能分析影像数据方面发挥了重要作用，这是该领域当前的研究热点。然而，在肝癌的诊断和治疗中，AI在多模态治疗决策和多类型数据的融合分析方面的应用仍然相对较少见。肝癌领域的AI研究已从对基因或分子数据的简单数据建模发展到医学影像研究，其中CT、超声和MRI是最常用的数据类型。此外，AI已被用于改善不明确肝脏病变的风险分层，有助于更早和更准确地检测肝癌。尽管取得了进展，但仍需要更多的研究来预测治疗反应、肝移植后的反应以及新药开发中的肝毒性预测。AI方法的进展也被用于量化基于数字组织学切片的病理模式，改善患者管理。\n",
      "Response Tokens count: [407]\n"
     ]
    }
   ],
   "source": [
    "section_1_2_sum_prompt = section_sum_prompt_template(\n",
    "    section_1_2, section_1_2_queries_str\n",
    ")\n",
    "section_1_2_sum_res = section_summarizer.chat(section_1_2_sum_prompt)\n",
    "section_1_2_trans_res = translator.chat(section_1_2_sum_res)"
   ]
  },
  {
   "cell_type": "code",
   "execution_count": 15,
   "id": "e6ab23ec-0055-4b12-9d12-e339b733ab85",
   "metadata": {
    "collapsed": true,
    "jupyter": {
     "outputs_hidden": true
    },
    "scrolled": true
   },
   "outputs": [
    {
     "data": {
      "text/plain": [
       "\"Recent advances in artificial intelligence (AI) methodologies have made great strides in automatically quantifying pathological patterns based on digital histological slides [18].\\nWith the integration of digital slides into the pathology workflow, advanced algorithms and computeraided techniques expand and reinforce their utilization in tumor diagnosis, prognostic prediction and therapy targeting, which enable the interpretation of information beyond human limits and ultimately, improve patient management [19-21].\\nFor HCC, survival indicators after liver resection were proposed based on weakly supervised deep learning methods, exhibiting high accuracy [22, 23].\\nWith largely uncovered invisible information available from HCC histology, further integration of recurrence prediction models and AI algorithms in transplant patients suffering from HCC deserve to be explored.\\nMoreover, a comprehensive research on correlation between HCC histological structures and prognosis is urgently needed.\\n\\nAI is an upcoming promising technology that is rapidly becoming an essential part of patient management.\\nApplications of AI have expanded in all branches of medicines, especially endoscopy and hepatology.\\nThe conglomeration of data which can be clinical/laboratory, multi-omics, natural language processing (NLP) and Image recognition (both radiology-based and pathology-based) has contributed to the prediction of fibrosis, classification of liver masses and prediction of treatment response and transplant outcomes.\\n’® In this review the majority of studies mentioned focussed on diagnosis part.\\nThere are very few studies that help to predict treatment response, post-liver transplant response, and prediction of hepatotoxicity in newer drug development and more studies are needed.\\nAI also helps for realtime biomonitoring, by identification of patients at high risk of clinical decompensation and hospital admission, so that timely intervention can be done for high-risk patients.\\nWith the increasing advancement of image capture and storage, AI will bring striking changes to the diagnosis of various liver diseases with the ‘big data’ being available.\\nHowever, there are many hurdles to overcome, which researchers will do in the near future using validation studies and molecular research.\\nIt is expected that gastroenterology and hepatology will be one of the first areas in medicine to introduce AI tools on a wide-scale basis, due to its inherent reliance on endoscopic and radiological imaging.\\nHence, GI and liver specialists should be proud that our field sets the ground for AI development in medicine.\\n\\nThis study used bibliometrics to conduct an in-depth analysis of the published literature on AI in liver cancer.\\nThe results showed that AI has undergone rapid development and has a wide application in the diagnosis and treatment of liver diseases, especially in China, which has one of the highest incidences of liver cancer compared to other countries the world.\\nIn addition, intelligent analysis of imaging data is the hotspot and focus of current research in this field.\\nHowever, combined with the current clinical difficulties such as accurate screening of early-stage liver cancer patients and high-risk patients, and selection of reasonable treatment decisions for advanced liver cancer patients, the use of AI for the fusion analysis of multiple types data in the process of diagnosis and treatment of liver cancer and multi-modal treatment decision-making for liver cancer are still relatively rare, and may become a future research trend.\\n\\nWith the development of medical big data and computer technology, artificial intelligence (AI) based on machine learning and deep learning has been widely used in current medical research (3-6).\\nThrough self-learning, summary, and induction of data, it can produce an intelligent reasoning system and choose the optimal solution to guide clinical decision-making (7).\\nOriginal AI was based on traditional machine-learning methods, including support vector machine and random forest models, which all relied on human experience for learning and simple summary.\\nAs early as 2003, Hussain constructed a predictive system consisting of 12 genes, with Fisher’s linear classifier, for predicting early recurrence in patients with hepatocellular carcinoma (HCC) (8).\\nDuring this period, most studies have focused on simple analyses of data, such as genes and molecules (9-11).\\nWith the standardization of imaging diagnosis and its important role in the clinical diagnosis of liver cancer, AI research based on imaging has emerged by extracting high-throughput features that cannot be detected and defined by human eyes from large-scale image data to establish an intelligent decision -making model to assist clinical decisionmaking (12, 13).\\nIn particular, deep learning based on convolutional neural networks (CNNs) has promoted progress in liver cancer research (14-19).\\n\\nOwing to the broad heterogeneity in HCC risk factors and pathogenesis, established strategies for prediction and prognostication are still limited.\\nRecently, artificial intelligence (AI) has emerged as a unique opportunity to improve the full spectrum of HCC clinical care, by: i) improving the prediction of future HCC risk in patients with established liver disease; ii) improving the accuracy of HCC\\n\\nAnother rapidly growing area of research is focused on improved characterisation of indeterminate liver lesions.\\nIn clinical practice, when an abdominal ultrasound shows a new liver lesion, a patient is typically referred for further imaging, with contrast-enhanced CT or MRI.\\nBased on the fulfilment of specific radiologic criteria, certain liver lesions may be considered as having pathognomonic features of HCC, and thus do not require liver biopsy for further histological confirmation.\\nHowever, liver nodules imaged by CT or MRI often demonstrate indeterminate features, for which current recommendations include either liver biopsy or close interval follow-up with serial imaging.”° This practice is sub-optimal, resulting in numerous imaging studies, patient stress, and the potential for delayed diagnoses of liver cancer.\\nFor this reason, a growing body of recent literature has explored AI approaches to improve risk stratification of indeterminate liver lesions, to facilitate earlier and more accurate detection of HCC.\\n\\nTherefore, we aimed to quantitatively analyze existing studies involving AI in liver cancer using bibliometrics to provide the current research progress, hotspots, and emerging trends for AI in liver cancer which may help researchers better understand grasp future research interest.\\nInformation was collated regarding countries/regions, institutions, authors, and journals with the highest citations and publications and keywords.\\n\\nStudies on the treatment and prognosis of liver cancer mainly focused on the survival of a specific surgical method (59-66), such as radiofrequency ablation, transarterial chemoembolization and etc.\\nReports have proven that the modern therapies integrate a variety of neoadjuvant and adjuvant strategies have achieved dramatic improvements in survival, especially for patients with advanced HCC (66, 67).\\nBut the division of the patient population, the choice of potentially disclosing novel biomarkers still are controversies and the decision-making of precision treatment methods adapted to the specific patients, AI can play a role in this, but related research has not yet been seen.\\n\\nAs more and more researchers are interested in the use of AI in liver cancer, a large number of related studies have started being published.\\nFor example, reviews describing an overview of deep learning, convolutional neural networks and other AI technologies applications in liver cancer (20-22), reviews on the applications of AI on assisted imaging in diagnosis, prognosis and detection of liver cancer (23-25), and explained the latest research, on limitations and future development trends of AI have all been recently published.\\nHowever, current reviews may be unable to explore grasp the latest research trends and hotspots in this field because of lack of a large number of publications.\\nMeanwhile, there is a lack of quantitative analysis of all\\n\\nArtificial Intelligence (AI) is a mathematical process of computer mediating designing of algorithms to support human intelligence.\\nAI in hepatology has shown tremendous promise to plan appropriate management and hence improve treatment outcomes.\\nThe field of AI is in a very early phase with limited clinical use.\\nAI tools such as machine learning, deep learning, and ‘big data’ are in a continuous phase of evolution, presently being applied for clinical and basic research.\\nIn this review, we have summarized various AI applications in hepatology, the pitfalls and AI's future implications.\\nDifferent AI models and algorithms are under study using clinical, laboratory, endoscopic and imaging parameters to diagnose and manage liver diseases and mass lesions.\\nAI has helped to reduce human errors and improve treatment protocols.\\nFurther research and validation are required for future use of AI in hepatology.\\n(J Ciin Exp HepaTor 2023;13:149-161)\\n\\nPatients with liver disease, particularly those with liver cancer, undergo multiple imaging studies to establish a diagnosis, preoperatively plan interventions, and monitor response to therapy (Table S2).\\nEach of these imaging studies contain numerous data points that could be potentially analysed to improve predictions.\\nHowever, there is a formidable challenge in transforming this burden of clinical and imaging data into something of clinical value.\\n\\nRegarding data type, studies of AI in liver cancer started from the simple data modeling of genetic or molecular data (9-11).\\nWith the development of medical imaging, research on medical imaging has been gradually increasing.\\nCT, ultrasound, and MRI are the top three most used data types.\\nFirst, this may because CT and MRI can be used as the basis for clinical treatment strategies for patients with liver cancer based on guidelines for liver cancer diagnosis.\\nMoreover, ultrasound, as a screening method for patients at high risk of liver cancer, needs to be checked every six months.\\nTherefore, the data volume of these three imaging methods has greatly increased, which has promoted the development of AI in liver cancer (37-39).\\nSecond, compared with MRI, CT has the advantages of fast inspection speed and cost-effectiveness, and is an indispensable and important imaging method in the diagnosis and treatment of liver cancer.\\nFinally, although ultrasound is widely used in clinical practice, its image acquisition is seriously affected by the doctor’s operation technique and machine model, the resolution is low, and the processing is difficult.\\nTherefore, it is used less often than CT.\\nHowever, it is worth noting that contrast-enhanced ultrasound has now been included as a recommended imaging modality for the diagnosis of liver cancer (40, 41) and is also widely used in the development and prognostic evaluation of ultrasound-guided radiofrequency ablation.\\nThis suggests that we could pay attention to the important role of ultrasound in liver cancer clinics in future research.\\nAt the same time, few studies used pathological, genetic, and other clinical data (42-44).\\nThe main reason may be that the medical cost of genetic examination is high and the realization of AI in multiomics research is difficult.\\n\\nThe analysis of the global trend of publications and citations and productive countries/regions is mainly to comprehensively understand the development trends of AI on liver cancer from beginning to end.\\nThe analysis of institutions, authors, and co-cited authors can quantitatively describe the strength of the cooperation between authors and institutions (30-32).\\nAdditionally, the analysis of top journals can analyze the level of cooperation and relationships in the concentrated fields of journals, which is beneficial to cross field cooperation in research (32).\\nIn particular, cluster co-occurrence analysis of keywords from different perspectives such as disease, data type, clinical goals, and clinical methods can help us understand the main topics and research trends in the current field of AI in liver cancer field.\\n\\nTo facilitate transformation of imaging data into clinically accessible information, Al may derive predictions in a more personalised fashion.\\nTwo categories of AI that have shown promise in liver imaging are radiomics (relying on classical ML) and DL systems (relying on CNNs) (Fig.\\n2A).\\nRadiomics is a strongly supervised and expert-guided approach where hardcoded algorithms extract quantitative image features that are fed into an ML algorithm.°® In contrast, DL with a CNN constitutes an automatic feature extraction where the algorithm selflearns salient features and self-optimises parameters by running an input image through mathematical operations embedded in multiple layers.°°?\\nBecause both approaches aim to predict a pre-defined “ground truth,” they are considered supervised learning approaches.\\nHerein, we review AI tools for liver imaging in segmentation, classification of disease severity and lesions, and outcome prediction.\\n\\nIt is hoped that AI will profoundly change the way we care for patients with HCC.\\nAlthough significant progress has been made during the last decade, improvements in HCC risk prediction, diagnosis and response prediction are still critically needed.\\nSeveral challenges remain to fully implement such technologies in clinical practice, including the need to develop robust approaches for structured data collection, sharing and storage, and the need to\\n\\nWhile these concepts are still hypothetical, it will be important to integrate Al-based algorithms into current and future clinical trials, in order to prove that they are valuable tools to predict responses to first-line therapy and to predict early progression.\\nImplementing these steps will depend on access to biological samples and clinical data within large clinical trials, and will require acceptance of these concepts and further that these data are made accessible to the clinician scientists who are contributing patients to these trials.\\nTo that end, collaborative networks based on trust and united in the collective aim of improving patient outcomes need to be implemented not only between clinicians but also with industry.\\nNevertheless, it is paramount for any model developed and trained within the framework of a clinical trial to be thoroughly validated in diverse, real-world patient populations before clinical implementation, to address possible biases introduced by the trial’s inclusion criteria.\\nMoreover, Al-based algorithms and any resultant clinical tools must also be constructed with appropriate stakeholder engagement and oversight, to ensure that validated algorithms are standardised according to protocol and that they are used in the correct clinical contexts, and further that data output is interpreted properly to maximise clinical benefit.\\nCorrectly interpretating data output from an Al-based clinical tool will in turn require appropriate training and awareness, both amongst the public and clinical providers.\\n\\nHepatocellular carcinoma (HCC) is among the leading causes of cancer incidence and death.\\nDespite decades of research and development of new treatment options, the overall outcomes of patients with HCC continue to remain poor.\\nThere are areas of unmet need in risk prediction, early diagnosis, accurate prognostication, and individualized treatments for patients with HCC.\\nRecent years have seen an explosive growth in the application of artificial intelligence (AI) technology in medical research, with the field of HCC being no exception.\\nAmong the various AI-based machine learning algorithms, deep learning algorithms are considered state-of-the-art techniques for handling and processing complex multimodal data ranging from routine clinical variables to high-resolution medical images.\\nThis article will provide a comprehensive review of the recently published studies that have applied deep learning for risk prediction, diagnosis, prognostication, and treatment planning for patients with HCC.\\n\\nIt has been posited that improved HCC risk prediction models leveraging AI techniques could be used to personalise HCC surveillance strategies by improving risk stratification of patients with chronic liver disease.\\nFor example, Ioannou and colleagues found that targeting patients with the uppermost 51% of their NN-derived HCC risk score would include 80% of patients who would develop HCC within the subsequent 3 years.° Such an approach could be useful in resource-limited settings that do not have sufficient capacity for regular HCC surveillance in all at-risk patients.\\nHowever, to date, the clinical utility of this and other Al-based scores for predicting risk of HCC is unclear, particularly as these data have limited generalisability, given their reliance on the size and diversity of the training dataset.\\n\\nIn this quantitative study, in order to systematically and quantitatively analyze the research status of AI in liver cancer, and explore the future research trends and hotspots in this field, we used a bibliometrics method to analyze the current research status of AI in liver cancer in terms of publication and citation trends, countries/ regions and institutions, authors and co-cited authors, journals, cited references and co-citation references, and keywords.\\nUltimately, 1724 articles focusing on Al in liver cancer were collected from the WoSCC database and analyzed.\\n\\nA growing body of research has applied AI approaches to improve HCC risk prediction, and to more accurately detect and risk stratify existing HCC tumours, based on EHR data, radiomics approaches, and molecular or histopathological biomarkers.\""
      ]
     },
     "metadata": {},
     "output_type": "display_data"
    }
   ],
   "source": [
    "section_1_3 = \"Current advances of AI-based approaches for clinical management of liver cancer, Exploring predictive indicators for therapy response\"\n",
    "section_1_3_queries_str = \"\\n\\n\".join(retriver.query(section_1_3))\n",
    "display(section_1_3_queries_str)"
   ]
  },
  {
   "cell_type": "code",
   "execution_count": 16,
   "id": "9d84140d-dd25-46d9-ad7f-becf6926c347",
   "metadata": {},
   "outputs": [
    {
     "name": "stdout",
     "output_type": "stream",
     "text": [
      "Prompt Tokens count: [3372]\n",
      "```\n",
      "Topic: Current advances of AI-based approaches for clinical management of liver cancer, Exploring predictive indicators for therapy response\n",
      "Statement: Artificial Intelligence (AI) has shown significant promise in the clinical management of liver cancer. It has been used to automatically quantify pathological patterns based on digital histological slides, improving tumor diagnosis, prognostic prediction, and therapy targeting. AI has also contributed to the prediction of fibrosis, classification of liver masses, and prediction of treatment response and transplant outcomes. However, there is a need for more studies that predict treatment response, post-liver transplant response, and prediction of hepatotoxicity in newer drug development. AI has also been used to improve risk stratification of indeterminate liver lesions, facilitating earlier and more accurate detection of liver cancer. Despite these advances, there are significant challenges to overcome in transforming clinical and imaging data into clinically valuable information. Future research trends point towards the use of AI for the fusion analysis of multiple types of data in the diagnosis and treatment of liver cancer and multi-modal treatment decision-making for liver cancer.\n",
      "```\n",
      "Response Tokens count: [213]\n",
      "Prompt Tokens count: [213]\n",
      "主题：基于人工智能的肝癌临床管理的当前进展，探索治疗反应的预测指标\n",
      "\n",
      "陈述：人工智能（AI）在肝癌的临床管理中显示出显著的潜力。它已被用于自动量化基于数字组织学切片的病理模式，改善肿瘤诊断、预后预测和治疗定位。AI还有助于预测纤维化、分类肝脏肿块以及预测治疗反应和移植结果。然而，仍然需要更多的研究来预测治疗反应、肝移植后的反应以及新药开发中的肝毒性预测。AI还被用于改善不明确肝脏病变的风险分层，有助于更早和更准确地检测肝癌。尽管取得了这些进展，但在将临床和影像数据转化为临床有价值的信息方面仍然存在重要挑战。未来的研究趋势指向利用AI在肝癌的诊断和治疗中对多类型数据进行融合分析，以及多模态治疗决策的应用。\n",
      "Response Tokens count: [388]\n"
     ]
    }
   ],
   "source": [
    "section_1_3_sum_prompt = section_sum_prompt_template(\n",
    "    section_1_3, section_1_3_queries_str\n",
    ")\n",
    "section_1_3_sum_res = section_summarizer.chat(section_1_3_sum_prompt)\n",
    "section_1_3_trans_res = translator.chat(section_1_3_sum_res)"
   ]
  },
  {
   "cell_type": "code",
   "execution_count": 6,
   "id": "8967c921-1964-4218-8f61-ed17f4874991",
   "metadata": {
    "collapsed": true,
    "jupyter": {
     "outputs_hidden": true
    },
    "scrolled": true
   },
   "outputs": [
    {
     "data": {
      "text/plain": [
       "['Model-based explanation refers to models, e.g.\\na linear regression model or a support vector machine, that are simple enough to be understood, but sophisticated enough to fit a relationship between input and output well (Murdoch et al., 2019).\\nThese are often the traditional machine learning models.\\nExamples of modelbased explanation enforce the use of a limited amount of features (i.e., sparsity), or enforce a human to be able to internally reason',\n",
       " 'Specific DL methods are considered ‘black-box’ models, so it is not easy to understand the processing of data.\\nThis has prohibited physicians from finding potential confounding variables.\\nThere has been much published about ‘black-box’ warning of algorithms.”* AI use can be ethically challenging, as patient preferences cannot be machine learnt.\\nAlso, in case of misdiagnosis, who shall be legally responsible - whether the endoscopist, the clinician or the programmer is still undecided?\\nMoreover, the racial distinction might be necessary for certain areas (as fibrosis in viral hepatitis), and it may be an inherent bias in AI.\\nSo, different population groups must be considered in developing and validating AI tools, to increase their sensitivity, specificity and accuracy.',\n",
       " 'There are several key issues to address before DL-based AI models can be universally implemented in real world clinical practice settings.\\nDue to their complexity, DL models are traditionally considered to be “black-box” models, meaning humans cannot understand how the DL models make their predictions.\\nInterpretability of the DL models are crucial for physicians to accept and trust them in everyday clinical practice, and for troubleshooting and improving the models for rare cases.\\nThis is being addressed by recent developments in various “explainable AI” techniques but currently there is no clear consensus on the best methodology.\\nAnother potential limitation is the generalizability of the individual DL algorithms.\\nConcerns have been raised that AI algorithms developed at highly specialized academic medical centers using their own patients’ data may over-represent certain groups of patients and not accurately reflect the real-world population of patients seen at local community hospitals.\\nFinally, AI models, like other prediction models, are often not publicly available, limiting external validation.\\nIndependent validation of the proposed model and comparison to old models are as important as deriving new models.\\nLarge-scale,',\n",
       " 'Background and Objective: Machine learning (ML) models are increasingly being utilized in oncology research for use in the clinic.\\nHowever, while more complicated models may provide improvements in predictive or prognostic power, a hurdle to their adoption are limits of model interpretability, wherein the inner workings can be perceived as a “black box”.\\nExplainable artificial intelligence (XAT) frameworks including Local Interpretable Model-agnostic Explanations (LIME) and SHapley Additive exPlanations (SHAP) are novel, model-agnostic approaches that aim to provide insight into the inner workings of the “black box” by producing quantitative visualizations of how model predictions are calculated.\\nIn doing so, XAI can transform complicated ML models into easily understandable charts and interpretable sets of rules, which can give providers with an intuitive understanding of the knowledge generated, thus facilitating the deployment of such models in routine clinical workflows.',\n",
       " 'an explanation that is not completely faithful to what the original model computes: If the explanation explains 90% true to the model, that means that 10% is untrue (Rudin, 2019).\\nFurthermore, an explanation may not make sense or provide enough detail to understand what the black box is doing.\\nFor example, a saliency map of the class with the highest probability may look similar to a saliency map of a class with a lower probability.\\nRudin therefore advices to use interpretable model-based XAI instead, such as the prototype network discussed in Section 3.3.3.',\n",
       " 'With the development of medical big data and computer technology, artificial intelligence (AI) based on machine learning and deep learning has been widely used in current medical research (3-6).\\nThrough self-learning, summary, and induction of data, it can produce an intelligent reasoning system and choose the optimal solution to guide clinical decision-making (7).\\nOriginal AI was based on traditional machine-learning methods, including support vector machine and random forest models, which all relied on human experience for learning and simple summary.\\nAs early as 2003, Hussain constructed a predictive system consisting of 12 genes, with Fisher’s linear classifier, for predicting early recurrence in patients with hepatocellular carcinoma (HCC) (8).\\nDuring this period, most studies have focused on simple analyses of data, such as genes and molecules (9-11).\\nWith the standardization of imaging diagnosis and its important role in the clinical diagnosis of liver cancer, AI research based on imaging has emerged by extracting high-throughput features that cannot be detected and defined by human eyes from large-scale image data to establish an intelligent decision -making model to assist clinical decisionmaking (12, 13).\\nIn particular, deep learning based on convolutional neural networks (CNNs) has promoted progress in liver cancer research (14-19).',\n",
       " '[H2] Explainable Al.\\nCPATH solutions based on deep learning models are often described as ‘black boxes’, indicating that because of the nature of these systems (being trained rather than explicitly programmed), it is very difficult for humans to understand the exact underlying functioning of the system [159].\\nAs a result, correcting certain erroneous behaviors may be more difficult, and acceptance by humans (as well as regulatory approval) may be hampered [123].\\nThis problem has given rise to research on ‘explainable Al’, in which techniques are developed that enable better understanding of the functioning of deep learning models.\\nCurrent state-of-the-art of methods that can shed light inside the black box have been extensively reviewed elsewhere [124].\\nInterestingly, the authors of that survey [124] conclude that there is no consensus on the exact meaning of the term ‘explainable’, as it has different requirements in different contexts and for different stakeholders.\\nAlthough techniques for improving the explainability of Al will support acceptance by the community, the emphasis that should be placed on precise understanding of the mechanics of the technology, rather than on the functioning of the system as a whole in the context in which it is used [125], is debatable, especially when such systems are integrated into the clinical workflow of pathology diagnostics.\\nRigorous validation and quality assurance and checking procedures will be critical to prove the correct functioning of CPATH solutions, both at initial market entrance and also after future updates.\\nThis topic is highly relevant to regulatory bodies such as the FDA, which has recently',\n",
       " 'Analyzing a trained model (i.e., a neural network in deep learning) to achieve insight into learned relationships is referred to as post hoc explanation.\\nAn important distinction between post hoc explanation and model-based explanation is that the former trains a neural network and subsequently attempts to explain the behavior of the ensuing black box network, whereas the latter forces the neural network to be explainable.',\n",
       " 'This dilemma of models losing interpretability as complexity increases has led to so called “explainable artificial intelligence (XAI)” techniques, which broadly seek to improve understanding of complex models by using interpretable visualizations and sets of rules to represent the inner workings of the ML “black box” and pinpoint the most salient and consequential features of the models (Figure 1) (6-8).\\nThe way XAI works differs based on the type of data it is explaining.\\nIn structured data analysis, XAI aims to identify the variables (and their interactions) that influenced the model output.\\nIn image analysis, XAI aims to identify the regions of interest which influenced the model output.\\nCommonly used XAI frameworks include Local Interpretable Model-agnostic Explanations (LIME) (9) and SHapley',\n",
       " 'Convolutional neural networks are generally seen as “black boxes”.\\n(16) Indeed, data are processed through complex layers of computation, and it is difficult to identify the most relevant features used by trained models for sample classification.\\n(16) This lack of interpretability is considered a major limitation of deep learning-based networks.\\nWe used an innovative approach allowing extraction of the most pertinent image tiles and their subsequent analysis by trained pathologists.\\nWe show that the classification obtained is at least partly based on pathological features known to be associated with the clinical outcome of HCC, such as the macrotrabecular architectural pattern, the presence of intratumoral immune infiltration, or high levels of cellular',\n",
       " 'Since the focus of our survey is on XAI methods for deep learning, model-based explanation by enforcing sparsity or simulatability is infeasible.\\nDeep learning uses a deep neural network, typically with thousands to millions of weights, which is neither sparse, nor suited for a human to internally simulate and reason about the models entire decision making.\\nHowever, one of the methods mentioned by Murdoch et al.\\n(2019) was model-based feature engineering, i.e., automated approaches for constructing explainable features.',\n",
       " 'Model-based explanation is by definition model-specific (Adadi and Berrada, 2018), but model-specific explanation is not necessary model-based.\\nSome post hoc saliency mapping techniques are examples of techniques that are specific to a certain class of convolutional neural networks (CNNs), but are not model-based explanation methods (Murdoch et al., 2019).',\n",
       " 'In terms of methods used, some studies used traditional algorithms (51-53), such as support vector machine and random forests models, which were mainly concentrated in the early research stage.\\nSince 2012, deep learning with CNNs has been widely used in the field, involving common tasks in the field of machine learning',\n",
       " 'to identify important radiomic features) (36).\\nIn total, these explanations of radiomic models allows providers to better understand what the model is looking at, which eases application to the clinic by presenting them as more than abstract “black boxes”.',\n",
       " 'Explainable AI is however an active field of research and many aim to open the black boxes of NNs.\\nThe main strands of work are making the networks “transparent”, learning the semantics of',\n",
       " 'The first distinction we make is model-based explanation versus post hoc explanation (Fig.\\n1).',\n",
       " 'The distinction between model-specific and model-agnostic explanation is related to that between model-based and post hoc explanation (Adadi and Berrada, 2018), but there are some nuanced differences.',\n",
       " 'There has been a call for approaches to better understand the black box.\\nSuch approaches are commonly referred to as inter',\n",
       " 'Since model-based techniques embed the explanation in the design of the neural network, it is obvious that these explanations are relatively costly to produce.',\n",
       " 'Neural networks typically consist of many layers connected via many nonlinear intertwined relations.\\nEven if one is to inspect all these layers and describe their relations, it is unfeasibly to fully comprehend how the neural network came to its decision.\\nTherefore, deep learning is often considered a ‘black box’.\\nConcern is mounting in various fields of application that these black boxes may be biased in some way, and that such bias goes unnoticed.\\nEspecially in medical applications, this can have far-reaching consequences.']"
      ]
     },
     "metadata": {},
     "output_type": "display_data"
    }
   ],
   "source": [
    "section_2_1_1 = \"Model-based explanation of Strategies for unraveling the “black-box” of AI-based, a comparison of Support vector machine, random forests and deep learning\"\n",
    "section_2_1_1_queries_str = retrieve_doc(section_2_1_1)"
   ]
  },
  {
   "cell_type": "code",
   "execution_count": 14,
   "id": "377de270-6a1c-429d-8684-7126a2a8357b",
   "metadata": {
    "scrolled": true
   },
   "outputs": [
    {
     "name": "stdout",
     "output_type": "stream",
     "text": [
      "Prompt Tokens count: [2377]\n",
      "```\n",
      "Topic: Model-based explanation of Strategies for unraveling the “black-box” of AI-based, a comparison of Support vector machine, random forests and deep learning\n",
      "Statement: \n",
      "\n",
      "Model-based explanation in artificial intelligence (AI) refers to models that are simple enough to be understood yet sophisticated enough to fit a relationship between input and output. These include traditional machine learning models such as support vector machine and random forests. However, deep learning (DL) methods are often considered 'black-box' models due to their complexity, making it difficult to understand the processing of data. This has raised ethical challenges and concerns about misdiagnosis, racial bias, and generalizability. \n",
      "\n",
      "To address these issues, explainable AI (XAI) techniques have been developed to improve the interpretability of DL models. This includes the Local Interpretable Model-agnostic Explanations (LIME) and SHapley Additive exPlanations (SHAP) frameworks, which provide insight into the inner workings of the 'black box' by producing quantitative visualizations of how model predictions are calculated. \n",
      "\n",
      "However, the challenge remains that as models increase in complexity, they lose interpretability. Therefore, there is a need for model-based explanations that enforce the use of a limited amount of features or enforce a human to be able to internally reason about the model's decision making. This is particularly important in the field of medical research, where AI and DL have been widely used to guide clinical decision-making. \n",
      "\n",
      "While model-based explanation is by definition model-specific, not all model-specific explanations are model-based. Some post hoc saliency mapping techniques are specific to a certain class of convolutional neural networks (CNNs), but are not model-based explanation methods. \n",
      "\n",
      "In conclusion, while traditional machine learning models like support vector machine and random forests have been used in the early stages of research, the advent of deep learning has brought about new challenges in terms of model interpretability. This has led to the development of explainable AI techniques, but the need for model-based explanations that are simple, interpretable, and able to capture the complexity of these models remains.\n",
      "```\n",
      "Response Tokens count: [429]\n",
      "Prompt Tokens count: [429]\n",
      "主题：基于模型的解释策略，揭示AI基于模型的“黑匣子”比较，支持向量机、随机森林和深度学习\n",
      "陈述：\n",
      "\n",
      "在人工智能（AI）中，基于模型的解释指的是足够简单以被理解，但足够复杂以适应输入和输出之间关系的模型。这包括传统的机器学习模型，如支持向量机和随机森林。然而，深度学习（DL）方法通常被认为是“黑匣子”模型，因为其复杂性使人难以理解数据的处理过程。这引发了伦理挑战和对误诊、种族偏见和泛化能力的担忧。\n",
      "\n",
      "为了解决这些问题，已经开发了可解释的AI（XAI）技术，以提高DL模型的可解释性。这包括局部可解释的模型无关解释（LIME）和SHapley加法解释（SHAP）框架，它们通过生成定量可视化来提供对“黑匣子”的内部工作原理的洞察，展示了模型预测如何计算。\n",
      "\n",
      "然而，挑战仍然存在，随着模型复杂性的增加，它们失去了可解释性。因此，有必要提供基于模型的解释，以强制使用有限数量的特征或强制人类能够内部推理模型的决策过程。这在医学研究领域尤为重要，AI和DL已广泛用于指导临床决策。\n",
      "\n",
      "虽然基于模型的解释在定义上是针对特定模型的，但并非所有特定模型的解释都是基于模型的。一些事后显著性映射技术特定于某一类卷积神经网络（CNNs），但不属于基于模型的解释方法。\n",
      "\n",
      "总之，传统的机器学习模型如支持向量机和随机森林已经在研究的早期阶段使用，深度学习的出现带来了模型可解释性方面的新挑战。这导致了可解释AI技术的发展，但仍然需要简单、可解释且能够捕捉这些模型复杂性的基于模型的解释。\n",
      "Response Tokens count: [694]\n"
     ]
    }
   ],
   "source": [
    "summarize_and_translate_section(\n",
    "    section_2_1_1, section_2_1_1_queries_str, word_count=500\n",
    ")"
   ]
  },
  {
   "cell_type": "code",
   "execution_count": 18,
   "id": "3a9f953e-ba9b-4a65-b009-59389d257c53",
   "metadata": {
    "scrolled": true
   },
   "outputs": [
    {
     "data": {
      "text/plain": [
       "['Textual explanation is a form of XAI that provides textual descriptions.\\nSuch descriptions include relatively simple characteristics (e.g.\\n‘spiculated mass’), up to entire medical reports.\\nWe will describe three types of textual explanation: image captioning, image captioning with visual explanation, and testing with concept attribution.',\n",
       " 'This study used bibliometrics to conduct an in-depth analysis of the published literature on AI in liver cancer.\\nThe results showed that AI has undergone rapid development and has a wide application in the diagnosis and treatment of liver diseases, especially in China, which has one of the highest incidences of liver cancer compared to other countries the world.\\nIn addition, intelligent analysis of imaging data is the hotspot and focus of current research in this field.\\nHowever, combined with the current clinical difficulties such as accurate screening of early-stage liver cancer patients and high-risk patients, and selection of reasonable treatment decisions for advanced liver cancer patients, the use of AI for the fusion analysis of multiple types data in the process of diagnosis and treatment of liver cancer and multi-modal treatment decision-making for liver cancer are still relatively rare, and may become a future research trend.',\n",
       " 'Recent advances in artificial intelligence (AI) methodologies have made great strides in automatically quantifying pathological patterns based on digital histological slides [18].\\nWith the integration of digital slides into the pathology workflow, advanced algorithms and computeraided techniques expand and reinforce their utilization in tumor diagnosis, prognostic prediction and therapy targeting, which enable the interpretation of information beyond human limits and ultimately, improve patient management [19-21].\\nFor HCC, survival indicators after liver resection were proposed based on weakly supervised deep learning methods, exhibiting high accuracy [22, 23].\\nWith largely uncovered invisible information available from HCC histology, further integration of recurrence prediction models and AI algorithms in transplant patients suffering from HCC deserve to be explored.\\nMoreover, a comprehensive research on correlation between HCC histological structures and prognosis is urgently needed.',\n",
       " 'Regarding data type, studies of AI in liver cancer started from the simple data modeling of genetic or molecular data (9-11).\\nWith the development of medical imaging, research on medical imaging has been gradually increasing.\\nCT, ultrasound, and MRI are the top three most used data types.\\nFirst, this may because CT and MRI can be used as the basis for clinical treatment strategies for patients with liver cancer based on guidelines for liver cancer diagnosis.\\nMoreover, ultrasound, as a screening method for patients at high risk of liver cancer, needs to be checked every six months.\\nTherefore, the data volume of these three imaging methods has greatly increased, which has promoted the development of AI in liver cancer (37-39).\\nSecond, compared with MRI, CT has the advantages of fast inspection speed and cost-effectiveness, and is an indispensable and important imaging method in the diagnosis and treatment of liver cancer.\\nFinally, although ultrasound is widely used in clinical practice, its image acquisition is seriously affected by the doctor’s operation technique and machine model, the resolution is low, and the processing is difficult.\\nTherefore, it is used less often than CT.\\nHowever, it is worth noting that contrast-enhanced ultrasound has now been included as a recommended imaging modality for the diagnosis of liver cancer (40, 41) and is also widely used in the development and prognostic evaluation of ultrasound-guided radiofrequency ablation.\\nThis suggests that we could pay attention to the important role of ultrasound in liver cancer clinics in future research.\\nAt the same time, few studies used pathological, genetic, and other clinical data (42-44).\\nThe main reason may be that the medical cost of genetic examination is high and the realization of AI in multiomics research is difficult.',\n",
       " 'Specific DL methods are considered ‘black-box’ models, so it is not easy to understand the processing of data.\\nThis has prohibited physicians from finding potential confounding variables.\\nThere has been much published about ‘black-box’ warning of algorithms.”* AI use can be ethically challenging, as patient preferences cannot be machine learnt.\\nAlso, in case of misdiagnosis, who shall be legally responsible - whether the endoscopist, the clinician or the programmer is still undecided?\\nMoreover, the racial distinction might be necessary for certain areas (as fibrosis in viral hepatitis), and it may be an inherent bias in AI.\\nSo, different population groups must be considered in developing and validating AI tools, to increase their sensitivity, specificity and accuracy.',\n",
       " 'The analysis of the global trend of publications and citations and productive countries/regions is mainly to comprehensively understand the development trends of AI on liver cancer from beginning to end.\\nThe analysis of institutions, authors, and co-cited authors can quantitatively describe the strength of the cooperation between authors and institutions (30-32).\\nAdditionally, the analysis of top journals can analyze the level of cooperation and relationships in the concentrated fields of journals, which is beneficial to cross field cooperation in research (32).\\nIn particular, cluster co-occurrence analysis of keywords from different perspectives such as disease, data type, clinical goals, and clinical methods can help us understand the main topics and research trends in the current field of AI in liver cancer field.',\n",
       " 'Background and Objective: Machine learning (ML) models are increasingly being utilized in oncology research for use in the clinic.\\nHowever, while more complicated models may provide improvements in predictive or prognostic power, a hurdle to their adoption are limits of model interpretability, wherein the inner workings can be perceived as a “black box”.\\nExplainable artificial intelligence (XAT) frameworks including Local Interpretable Model-agnostic Explanations (LIME) and SHapley Additive exPlanations (SHAP) are novel, model-agnostic approaches that aim to provide insight into the inner workings of the “black box” by producing quantitative visualizations of how model predictions are calculated.\\nIn doing so, XAI can transform complicated ML models into easily understandable charts and interpretable sets of rules, which can give providers with an intuitive understanding of the knowledge generated, thus facilitating the deployment of such models in routine clinical workflows.',\n",
       " 'AI is an upcoming promising technology that is rapidly becoming an essential part of patient management.\\nApplications of AI have expanded in all branches of medicines, especially endoscopy and hepatology.\\nThe conglomeration of data which can be clinical/laboratory, multi-omics, natural language processing (NLP) and Image recognition (both radiology-based and pathology-based) has contributed to the prediction of fibrosis, classification of liver masses and prediction of treatment response and transplant outcomes.\\n’® In this review the majority of studies mentioned focussed on diagnosis part.\\nThere are very few studies that help to predict treatment response, post-liver transplant response, and prediction of hepatotoxicity in newer drug development and more studies are needed.\\nAI also helps for realtime biomonitoring, by identification of patients at high risk of clinical decompensation and hospital admission, so that timely intervention can be done for high-risk patients.\\nWith the increasing advancement of image capture and storage, AI will bring striking changes to the diagnosis of various liver diseases with the ‘big data’ being available.\\nHowever, there are many hurdles to overcome, which researchers will do in the near future using validation studies and molecular research.\\nIt is expected that gastroenterology and hepatology will be one of the first areas in medicine to introduce AI tools on a wide-scale basis, due to its inherent reliance on endoscopic and radiological imaging.\\nHence, GI and liver specialists should be proud that our field sets the ground for AI development in medicine.',\n",
       " 'There are several key issues to address before DL-based AI models can be universally implemented in real world clinical practice settings.\\nDue to their complexity, DL models are traditionally considered to be “black-box” models, meaning humans cannot understand how the DL models make their predictions.\\nInterpretability of the DL models are crucial for physicians to accept and trust them in everyday clinical practice, and for troubleshooting and improving the models for rare cases.\\nThis is being addressed by recent developments in various “explainable AI” techniques but currently there is no clear consensus on the best methodology.\\nAnother potential limitation is the generalizability of the individual DL algorithms.\\nConcerns have been raised that AI algorithms developed at highly specialized academic medical centers using their own patients’ data may over-represent certain groups of patients and not accurately reflect the real-world population of patients seen at local community hospitals.\\nFinally, AI models, like other prediction models, are often not publicly available, limiting external validation.\\nIndependent validation of the proposed model and comparison to old models are as important as deriving new models.\\nLarge-scale,',\n",
       " 'Studies on the treatment and prognosis of liver cancer mainly focused on the survival of a specific surgical method (59-66), such as radiofrequency ablation, transarterial chemoembolization and etc.\\nReports have proven that the modern therapies integrate a variety of neoadjuvant and adjuvant strategies have achieved dramatic improvements in survival, especially for patients with advanced HCC (66, 67).\\nBut the division of the patient population, the choice of potentially disclosing novel biomarkers still are controversies and the decision-making of precision treatment methods adapted to the specific patients, AI can play a role in this, but related research has not yet been seen.',\n",
       " 'As more and more researchers are interested in the use of AI in liver cancer, a large number of related studies have started being published.\\nFor example, reviews describing an overview of deep learning, convolutional neural networks and other AI technologies applications in liver cancer (20-22), reviews on the applications of AI on assisted imaging in diagnosis, prognosis and detection of liver cancer (23-25), and explained the latest research, on limitations and future development trends of AI have all been recently published.\\nHowever, current reviews may be unable to explore grasp the latest research trends and hotspots in this field because of lack of a large number of publications.\\nMeanwhile, there is a lack of quantitative analysis of all',\n",
       " 'certain direction.\\nHowever, they lack a quantitative analysis based on the available literatures.\\nTherefore, a bibliometrics analysis was conducted in our study to summary the research status of AI in liver cancer.\\nBibliometrics analysis uses mathematical and statistical methods to study the literature system and bibliometric characteristics in a given field to mine the distribution structure, quantitative relationships, and changes of literature in this field.\\nVisual display with the help of special software plays an important role in understanding the current development status and development trend of the field.\\nHowever, our research also has limitations.\\nFirst, we only included English articles in the WoSCC database and did not include articles in other databases or languages, which could lead to the omission of many studies.\\nSecond, keyword screening may not be perfect and could lead to omission of literature.',\n",
       " 'Previous meta-analyses and literature reviews focused on the applications of specific technologies in liver cancer or the development status of specific liver disease (22-29), such as reviewing studies on AI on assisted imaging in the diagnosis, prognosis and detection of liver cancer, or explaining the latest research, limitations, and future development trends of AI in a',\n",
       " 'Therefore, we aimed to quantitatively analyze existing studies involving AI in liver cancer using bibliometrics to provide the current research progress, hotspots, and emerging trends for AI in liver cancer which may help researchers better understand grasp future research interest.\\nInformation was collated regarding countries/regions, institutions, authors, and journals with the highest citations and publications and keywords.',\n",
       " 'literature in this field.\\nAdditionally, a summary and quantitative analyses of the global development trend and research hotspots of AI in liver cancer is of great importance for future research.\\nBibliometrics is a method of information visualization which can achieve quantitative analysis of literature in a specific research field in a worldwide context through statistical methods and visualizing the results with the help of software (26-29).\\nBibliometrics plays an important role in sorting out development trends and research hotspots of a given field and has been widely used in many fields (26-29).',\n",
       " 'Another rapidly growing area of research is focused on improved characterisation of indeterminate liver lesions.\\nIn clinical practice, when an abdominal ultrasound shows a new liver lesion, a patient is typically referred for further imaging, with contrast-enhanced CT or MRI.\\nBased on the fulfilment of specific radiologic criteria, certain liver lesions may be considered as having pathognomonic features of HCC, and thus do not require liver biopsy for further histological confirmation.\\nHowever, liver nodules imaged by CT or MRI often demonstrate indeterminate features, for which current recommendations include either liver biopsy or close interval follow-up with serial imaging.”° This practice is sub-optimal, resulting in numerous imaging studies, patient stress, and the potential for delayed diagnoses of liver cancer.\\nFor this reason, a growing body of recent literature has explored AI approaches to improve risk stratification of indeterminate liver lesions, to facilitate earlier and more accurate detection of HCC.',\n",
       " 'Optimistically, ML/DL systems could help resolve the diagnostic, prognostic and predictive issues that limit liver histopathology image analysis.\\nThis would improve and facilitate clinical trials in liver disease in which inclusion criteria, patient strata and histological endpoints are often manually defined by pathologists and therefore subject to intra- and inter-observer variability.\\n*° As in other disease contexts, there is a place in clinical decision making for invasive tissue-based diagnostics.\\nML/DL approaches could conceivably improve the consistency, quality and amount of information which researchers and healthcare providers can extract from this tissue.\\nThe benefits of these ML/DL approaches to histopathological analysis may incentivise patients to undergo an invasive procedure such as liver biopsy.\\nHowever, for some problems in the management of liver disease, non-invasive radiology images, instead of invasive diagnostics, can be analysed to unveil biomarkers.\\nIn the following section, we will review the state of the art in ML/DL approaches applied to such radiology data.',\n",
       " 'In this quantitative study, in order to systematically and quantitatively analyze the research status of AI in liver cancer, and explore the future research trends and hotspots in this field, we used a bibliometrics method to analyze the current research status of AI in liver cancer in terms of publication and citation trends, countries/ regions and institutions, authors and co-cited authors, journals, cited references and co-citation references, and keywords.\\nUltimately, 1724 articles focusing on Al in liver cancer were collected from the WoSCC database and analyzed.',\n",
       " 'In most human cancers, prognosis is strongly related to pathological criteria.\\n(2) Indeed, the histological analysis of tumor tissues provides crucial information for the stratification of patients and treatment  allocation.\\n(2) The recent development of slide digitization and computational/mathematical image processing promises to improve and standardize various pathological and morphological analyses, and may also facilitate the extraction of “hidden” imaging features potentially providing useful clinical and/or biological information.\\n(3) In a recent pioneering study simulating routine pathology workflows, a subset of deep learning-based algorithms outperformed a panel of 11 pathologists at detecting lymph node metastases of breast cancers.\\n(4) Coudray and coworkers have also shown that neural networks applied on whole-slide digitized histological images (WSls) can diagnose the main histological subtypes of non-small cell lung cancer and predict the mutational status of various genes (e.g.\\nSTK11, EGFR).\\n(5) There is growing evidence to suggest that the computational processing of WSls will refine the prediction of patient prognosis, thereby improving treatment allocation.\\n(6, 7) Yu and coworkers have demonstrated that digital image analysis software can extract significant prognostic features from hematein and eosin-stained slides in lung cancer.\\n(6) Convolutional neural networks have also been reported to predict the aggressiveness of various human malignancies.\\n(7, 8)',\n",
       " 'In these two previous studies, pathological signatures were directly generated and extracted by traditional CNNs.\\nCNNs are usually regarded as a “black box”, in which the data are processed through complex computing layers; thus, it is difficult to concretize and interpret the relevant features of samples.\\nIn the present research, we manually input abundant signatures of the most relevant tiles, automatically screened the signatures with the recurrence time as the labels via LASSO Cox regression, and visually presented the weight of each signature.\\nThis procedure bypassed the need for the manual recognition of numerous postprocess tiles.\\nIn addition, the image signatures that came from empirical utilization ensured the feasibility (36, 37).']"
      ]
     },
     "metadata": {},
     "output_type": "display_data"
    }
   ],
   "source": [
    "section_3_1_3_1 = \"Textual (Image captioning) explanation of Strategies for unraveling the “black-box” of AI-based pathological analysis of liver cancer\"\n",
    "section_3_1_3_1_queries_str = retrieve_doc(section_3_1_3_1)"
   ]
  },
  {
   "cell_type": "code",
   "execution_count": 19,
   "id": "14503dcb-6aee-4fab-94eb-83a336ffba32",
   "metadata": {},
   "outputs": [
    {
     "name": "stdout",
     "output_type": "stream",
     "text": [
      "Prompt Tokens count: [3475]\n",
      "```\n",
      "Topic: Textual (Image captioning) explanation of Strategies for unraveling the “black-box” of AI-based pathological analysis of liver cancer\n",
      "Statement: \n",
      "\n",
      "Textual explanation, in the form of image captioning, is a strategy used in Explainable Artificial Intelligence (XAI) to unravel the \"black-box\" nature of AI-based pathological analysis of liver cancer. This approach provides textual descriptions of complex AI models, transforming them into easily understandable information. This is particularly important in liver cancer research, where AI has seen rapid development and wide application, especially in China, which has a high incidence of the disease. \n",
      "\n",
      "AI models are increasingly being utilized in oncology research for use in the clinic, with a focus on the intelligent analysis of imaging data. However, the complexity of these models, particularly deep learning methods, has made it difficult to understand the processing of data, raising issues about model interpretability. \n",
      "\n",
      "Explainable AI frameworks, such as Local Interpretable Model-agnostic Explanations (LIME) and SHapley Additive exPlanations (SHAP), aim to provide insight into the inner workings of the “black box”. These frameworks generate quantitative visualizations of how model predictions are calculated, transforming complicated models into interpretable sets of rules. This facilitates the deployment of such models in routine clinical workflows, improving patient management, and ultimately enhancing the diagnosis and treatment of liver cancer. \n",
      "\n",
      "Despite these advancements, there is still a need for more research, particularly in the prediction of treatment response, post-liver transplant response, and prediction of hepatotoxicity in newer drug development. Furthermore, the generalizability of individual deep learning algorithms and the ethical implications of AI use in liver cancer diagnosis and treatment remain key issues to be addressed. \n",
      "```\n",
      "Response Tokens count: [356]\n",
      "Prompt Tokens count: [356]\n",
      "主题：通过文本（图像描述）解释策略，揭示基于AI的肝癌病理分析的“黑匣子”性质\n",
      "陈述：\n",
      "\n",
      "文本解释，以图像描述的形式，是可解释人工智能（XAI）中用于揭示基于AI的肝癌病理分析“黑匣子”性质的一种策略。这种方法提供了对复杂AI模型的文本描述，将它们转化为易于理解的信息。这在肝癌研究中尤为重要，AI在该领域的发展迅猛，并在中国尤为广泛应用，尤其是因为中国肝癌发病率较高。\n",
      "\n",
      "AI模型在肿瘤学研究中越来越多地被用于临床应用，重点是对影像数据的智能分析。然而，这些模型的复杂性，特别是深度学习方法，使人难以理解数据的处理过程，引发了关于模型可解释性的问题。\n",
      "\n",
      "可解释AI框架，如局部可解释的模型无关解释（LIME）和SHapley加法解释（SHAP），旨在提供对“黑匣子”的内部工作原理的洞察。这些框架生成了模型预测如何计算的定量可视化，将复杂的模型转化为可解释的规则集。这有助于将这些模型部署到常规临床工作流程中，改善患者管理，最终提高肝癌的诊断和治疗水平。\n",
      "\n",
      "尽管取得了这些进展，但仍然需要更多的研究，特别是在治疗反应预测、肝脏移植后反应以及新药开发中对肝毒性的预测方面。此外，个别深度学习算法的泛化能力以及在肝癌诊断和治疗中使用AI所涉及的伦理问题仍然是需要解决的关键问题。\n",
      "Response Tokens count: [600]\n"
     ]
    }
   ],
   "source": [
    "summarize_and_translate_section(\n",
    "    section_3_1_3_1, section_3_1_3_1_queries_str, word_count=300\n",
    ")"
   ]
  }
 ],
 "metadata": {
  "kernelspec": {
   "display_name": "Python 3 (ipykernel)",
   "language": "python",
   "name": "python3"
  },
  "language_info": {
   "codemirror_mode": {
    "name": "ipython",
    "version": 3
   },
   "file_extension": ".py",
   "mimetype": "text/x-python",
   "name": "python",
   "nbconvert_exporter": "python",
   "pygments_lexer": "ipython3",
   "version": "3.11.4"
  },
  "widgets": {
   "application/vnd.jupyter.widget-state+json": {
    "state": {},
    "version_major": 2,
    "version_minor": 0
   }
  }
 },
 "nbformat": 4,
 "nbformat_minor": 5
}
