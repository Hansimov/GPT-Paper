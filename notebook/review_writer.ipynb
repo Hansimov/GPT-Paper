{
 "cells": [
  {
   "cell_type": "code",
   "execution_count": 43,
   "id": "6bd0166d-e107-4dc3-a95d-f72a5357e3d2",
   "metadata": {
    "editable": true,
    "slideshow": {
     "slide_type": ""
    },
    "tags": []
   },
   "outputs": [
    {
     "name": "stdout",
     "output_type": "stream",
     "text": [
      "The autoreload extension is already loaded. To reload it, use:\n",
      "  %reload_ext autoreload\n",
      "Repo path:   [/mnt/sh_flex_storage/home/zehanyu/repos/GPT-Paper]\n",
      "Working dir: [/mnt/sh_flex_storage/home/zehanyu/repos/GPT-Paper/notebook]\n",
      "Now: [2023-09-07 21:37:21.466192]\n"
     ]
    }
   ],
   "source": [
    "%load_ext autoreload\n",
    "%autoreload\n",
    "%run -i \"startup.py\""
   ]
  },
  {
   "cell_type": "markdown",
   "id": "df4cf78b-92a0-4d92-9584-9b64ec8d9d3f",
   "metadata": {
    "editable": true,
    "jupyter": {
     "source_hidden": true
    },
    "slideshow": {
     "slide_type": ""
    },
    "tags": [
     "outline"
    ]
   },
   "source": [
    "Title: Unraveling the “black-box” of artificial intelligence-based pathological analysis of liver cancer\n",
    "\n",
    "# 1. Current advances of AI-based approaches for clinical management of liver cancer\n",
    "\n",
    "## 1.1 AI-based prognostication of liver cancer\n",
    "\n",
    "## 1.2 Molecular profiling of liver cancer via AI\n",
    "\n",
    "## 1.3 Exploring predictive indicators for therapy response\n",
    "\n",
    "# 2. Current challenges limiting AI-based approaches in the management of liver cancer\n",
    "\n",
    "(One paragraph highlighting the urgent need to explain the “black box” of deeplearning)\n",
    "\n",
    "# 3. Strategies for unraveling the “black-box” of AI-based pathological analysis of liver cancer\n",
    "\n",
    "## 3.1 Model-based explanation\n",
    "### 3.1.1 Support vector machine or random forests vs. deep learning\n",
    "### 3.1.2 Supervised learning vs. weakly supervised learning vs. unsupervised learning\n",
    "### 3.1.3 Textual explanation\n",
    "#### 3.1.3.1 Image captioning\n",
    "#### 3.1.3.2 Image captioning with visual explanation\n",
    "### 3.1.4 Example-based explanation \n",
    "#### 3.1.4.1 Triplet network\n",
    "#### 3.1.4.2 Prototypes\n",
    "\n",
    "## 3.2 Post hoc explanation\n",
    "\n",
    "### 3.2.1 Visual explanation (saliency mapping, pathologist-in-the-loop)\n",
    "#### 3.2.1.1 Backpropagation-based approaches\n",
    "      Including class activation mapping (CAM) and gradient-weighted class activation mapping (Grad-CAM)\n",
    "#### 3.2.1.2 Perturbation-based approaches\n",
    "      Including Occlusion sensitivity map (OSM), local interpretable model-agnostic explannations (LIME)\n",
    "#### 3.2.1.3 Multiple instance learning-based approaches\n",
    "\n",
    "### 3.2.2 Textual explanation\n",
    "   Testing with concept activation vectors (TCAV)\n",
    "### 3.2.3 Example-based explanation\n",
    "\n",
    "# 4. Conclusion and future applications"
   ]
  },
  {
   "cell_type": "code",
   "execution_count": 2,
   "id": "769fe72e-848f-4766-b89d-1aa91183f615",
   "metadata": {
    "editable": true,
    "slideshow": {
     "slide_type": ""
    },
    "tags": []
   },
   "outputs": [],
   "source": [
    "ipynb_name = \"review_writer.ipynb\"\n",
    "markdown_cells = get_notebook_cells(notebook_path=ipynb_name, cell_types=[\"markdown\"])\n",
    "outline_cells = [\n",
    "    cell for cell in markdown_cells if \"outline\" in cell[\"metadata\"][\"tags\"]\n",
    "]\n",
    "outline_content = \"\".join([cell[\"source\"] for cell in outline_cells])"
   ]
  },
  {
   "cell_type": "code",
   "execution_count": 6,
   "id": "193d8a37-cb0c-4096-be66-55539ae48bf0",
   "metadata": {
    "collapsed": true,
    "jupyter": {
     "outputs_hidden": true
    },
    "scrolled": true
   },
   "outputs": [
    {
     "name": "stdout",
     "output_type": "stream",
     "text": [
      "Prompt Tokens count: [709]\n",
      "[\n",
      "    {\n",
      "        \"idx\": 0,\n",
      "        \"level\": \"0\",\n",
      "        \"title\": \"Unraveling the “black-box” of artificial intelligence-based pathological analysis of liver cancer\",\n",
      "        \"intro\": \"A comprehensive exploration of the current advances, challenges, and strategies in applying AI for pathological analysis of liver cancer.\"\n",
      "    },\n",
      "    {\n",
      "        \"idx\": 1,\n",
      "        \"level\": \"1\",\n",
      "        \"title\": \"Current advances of AI-based approaches for clinical management of liver cancer\",\n",
      "        \"intro\": \"An overview of the latest developments in AI technologies and their applications in the clinical management of liver cancer.\"\n",
      "    },\n",
      "    {\n",
      "        \"idx\": 2,\n",
      "        \"level\": \"1.1\",\n",
      "        \"title\": \"AI-based prognostication of liver cancer\",\n",
      "        \"intro\": \"Discussion on how AI is being used to predict the progression and outcome of liver cancer.\"\n",
      "    },\n",
      "    {\n",
      "        \"idx\": 3,\n",
      "        \"level\": \"1.2\",\n",
      "        \"title\": \"Molecular profiling of liver cancer via AI\",\n",
      "        \"intro\": \"Insights into how AI is leveraged for molecular profiling of liver cancer for personalized treatment strategies.\"\n",
      "    },\n",
      "    {\n",
      "        \"idx\": 4,\n",
      "        \"level\": \"1.3\",\n",
      "        \"title\": \"Exploring predictive indicators for therapy response\",\n",
      "        \"intro\": \"Exploration of AI's role in identifying predictive indicators for therapy response in liver cancer treatment.\"\n",
      "    },\n",
      "    {\n",
      "        \"idx\": 5,\n",
      "        \"level\": \"2\",\n",
      "        \"title\": \"Current challenges limiting AI-based approaches in the management of liver cancer\",\n",
      "        \"intro\": \"A detailed analysis of the existing challenges and limitations in the use of AI for liver cancer management.\"\n",
      "    },\n",
      "    {\n",
      "        \"idx\": 6,\n",
      "        \"level\": \"3\",\n",
      "        \"title\": \"Strategies for unraveling the “black-box” of AI-based pathological analysis of liver cancer\",\n",
      "        \"intro\": \"A comprehensive discussion on various strategies to decode the complex workings of AI in pathological analysis of liver cancer.\"\n",
      "    },\n",
      "    {\n",
      "        \"idx\": 7,\n",
      "        \"level\": \"3.1\",\n",
      "        \"title\": \"Model-based explanation\",\n",
      "        \"intro\": \"An in-depth look into model-based explanations for AI's decision-making process in liver cancer analysis.\"\n",
      "    },\n",
      "    {\n",
      "        \"idx\": 8,\n",
      "        \"level\": \"3.1.1\",\n",
      "        \"title\": \"Support vector machine or random forests vs. deep learning\",\n",
      "        \"intro\": \"A comparative study of different AI models like support vector machines, random forests and deep learning for liver cancer analysis.\"\n",
      "    },\n",
      "    {\n",
      "        \"idx\": 9,\n",
      "        \"level\": \"3.1.2\",\n",
      "        \"title\": \"Supervised learning vs. weakly supervised learning vs. unsupervised learning\",\n",
      "        \"intro\": \"A thorough comparison of supervised, weakly supervised, and unsupervised learning approaches in AI for liver cancer analysis.\"\n",
      "    },\n",
      "    {\n",
      "        \"idx\": 10,\n",
      "        \"level\": \"3.1.3\",\n",
      "        \"title\": \"Textual explanation\",\n",
      "        \"intro\": \"Understanding how textual explanations can be generated from AI models for liver cancer analysis.\"\n",
      "    },\n",
      "    {\n",
      "        \"idx\": 11,\n",
      "        \"level\": \"3.1.3.1\",\n",
      "        \"title\": \"Image captioning\",\n",
      "        \"intro\": \"Insight into how AI can generate textual descriptions for pathological images in liver cancer analysis.\"\n",
      "    },\n",
      "    {\n",
      "        \"idx\": 12,\n",
      "        \"level\": \"3.1.3.2\",\n",
      "        \"title\": \"Image captioning with visual explanation\",\n",
      "        \"intro\": \"Discussion on how AI combines textual descriptions with visual explanations for a comprehensive understanding of liver cancer pathology.\"\n",
      "    },\n",
      "    {\n",
      "        \"idx\": 13,\n",
      "        \"level\": \"3.1.4\",\n",
      "        \"title\": \"Example-based explanation\",\n",
      "        \"intro\": \"Exploring how AI uses examples to provide explanations for its decisions in liver cancer analysis.\"\n",
      "    },\n",
      "    {\n",
      "        \"idx\": 14,\n",
      "        \"level\": \"3.1.4.1\",\n",
      "        \"title\": \"Triplet network\",\n",
      "        \"intro\": \"Understanding how the triplet network, an example-based explanation model, works in the context of AI-based liver cancer analysis.\"\n",
      "    },\n",
      "    {\n",
      "        \"idx\": 15,\n",
      "        \"level\": \"3.1.4.2\",\n",
      "        \"title\": \"Prototypes\",\n",
      "        \"intro\": \"Exploration of how prototypes are used as examples to explain AI decisions in liver cancer analysis.\"\n",
      "    },\n",
      "    {\n",
      "        \"idx\": 16,\n",
      "        \"level\": \"3.2\",\n",
      "        \"title\": \"Post hoc explanation\",\n",
      "        \"intro\": \"Discussion on post hoc explanations, which provide insights into AI decisions after they have been\n",
      "Response Tokens count: [1000] [stop]\n",
      "Continue ...\n",
      "Prompt Tokens count: [1717]\n",
      "[\n",
      "    ...\n",
      "    {\n",
      "        \"idx\": 16,\n",
      "        \"level\": \"3.2\",\n",
      "        \"title\": \"Post hoc explanation\",\n",
      "        \"intro\": \"Discussion on post hoc explanations, which provide insights into AI decisions after they have been made in the context of liver cancer analysis.\"\n",
      "    },\n",
      "    {\n",
      "        \"idx\": 17,\n",
      "        \"level\": \"3.2.1\",\n",
      "        \"title\": \"Visual explanation (saliency mapping, pathologist-in-the-loop)\",\n",
      "        \"intro\": \"Exploration of visual explanation techniques like saliency mapping and pathologist-in-the-loop in AI-based liver cancer analysis.\"\n",
      "    },\n",
      "    {\n",
      "        \"idx\": 18,\n",
      "        \"level\": \"3.2.1.1\",\n",
      "        \"title\": \"Backpropagation-based approaches\",\n",
      "        \"intro\": \"Insight into backpropagation-based approaches for visual explanation in AI-based liver cancer analysis.\"\n",
      "    },\n",
      "    {\n",
      "        \"idx\": 19,\n",
      "        \"level\": \"3.2.1.2\",\n",
      "        \"title\": \"Perturbation-based approaches\",\n",
      "        \"intro\": \"Understanding of perturbation-based approaches for providing visual explanations in AI-based liver cancer analysis.\"\n",
      "    },\n",
      "    {\n",
      "        \"idx\": 20,\n",
      "        \"level\": \"3.2.1.3\",\n",
      "        \"title\": \"Multiple instance learning-based approaches\",\n",
      "        \"intro\": \"Discussion on how multiple instance learning-based approaches contribute to visual explanations in AI-based liver cancer analysis.\"\n",
      "    },\n",
      "    {\n",
      "        \"idx\": 21,\n",
      "        \"level\": \"3.2.2\",\n",
      "        \"title\": \"Textual explanation\",\n",
      "        \"intro\": \"Insight into how textual explanations can be used in post hoc analysis of AI's decisions in liver cancer.\"\n",
      "    },\n",
      "    {\n",
      "        \"idx\": 22,\n",
      "        \"level\": \"3.2.3\",\n",
      "        \"title\": \"Example-based explanation\",\n",
      "        \"intro\": \"Exploring how example-based explanations can be used in post hoc analysis of AI's decisions in liver cancer.\"\n",
      "    },\n",
      "    {\n",
      "        \"idx\": 23,\n",
      "        \"level\": \"4\",\n",
      "        \"title\": \"Conclusion and future applications\",\n",
      "        \"intro\": \"Final thoughts on the current state of AI in liver cancer analysis and potential future developments in the field.\"\n",
      "    }\n",
      "]\n",
      "Response Tokens count: [474] [stop]\n"
     ]
    }
   ],
   "source": [
    "outline_filler.clear_history_messages()\n",
    "outline_filler_res = outline_filler.chat(outline_content, continous=True)"
   ]
  },
  {
   "cell_type": "raw",
   "id": "942bbdb9-1bb2-496a-9881-bc542f4e7779",
   "metadata": {},
   "source": [
    "A typical workflow of generate a detailed review of a section title:\n",
    "- [Agent] outline_filler: Fill in the outline with intros, and structuralize it to JSON with idx and levels.\n",
    "- [Agent] Synonymer: Generate similar texts for each sub-section\n",
    "- [Program] Retrieve and Re-rank from local embbedings of docs\n",
    "- [Agent] Summarizer: Summarize the above content into a section\n",
    "- [Agent] Polisher: Polish the content of the section"
   ]
  },
  {
   "cell_type": "code",
   "execution_count": 3,
   "id": "725ecc57-3a03-4931-b56d-16297893b51f",
   "metadata": {
    "collapsed": true,
    "jupyter": {
     "outputs_hidden": true
    },
    "scrolled": true
   },
   "outputs": [
    {
     "data": {
      "text/plain": [
       "[{'idx': 0,\n",
       "  'level': '0',\n",
       "  'title': 'Unraveling the “black-box” of artificial intelligence-based pathological analysis of liver cancer',\n",
       "  'intro': 'A comprehensive exploration of the current advances, challenges, and strategies in applying AI for pathological analysis of liver cancer.'},\n",
       " {'idx': 1,\n",
       "  'level': '1',\n",
       "  'title': 'Current advances of AI-based approaches for clinical management of liver cancer',\n",
       "  'intro': 'An overview of the latest developments in AI technologies and their applications in the clinical management of liver cancer.'},\n",
       " {'idx': 2,\n",
       "  'level': '1.1',\n",
       "  'title': 'AI-based prognostication of liver cancer',\n",
       "  'intro': 'Discussion on how AI is being used to predict the progression and outcome of liver cancer.'},\n",
       " {'idx': 3,\n",
       "  'level': '1.2',\n",
       "  'title': 'Molecular profiling of liver cancer via AI',\n",
       "  'intro': 'Insights into how AI is leveraged for molecular profiling of liver cancer for personalized treatment strategies.'},\n",
       " {'idx': 4,\n",
       "  'level': '1.3',\n",
       "  'title': 'Exploring predictive indicators for therapy response',\n",
       "  'intro': \"Exploration of AI's role in identifying predictive indicators for therapy response in liver cancer treatment.\"},\n",
       " {'idx': 5,\n",
       "  'level': '2',\n",
       "  'title': 'Current challenges limiting AI-based approaches in the management of liver cancer',\n",
       "  'intro': 'A detailed analysis of the existing challenges and limitations in the use of AI for liver cancer management.'},\n",
       " {'idx': 6,\n",
       "  'level': '3',\n",
       "  'title': 'Strategies for unraveling the “black-box” of AI-based pathological analysis of liver cancer',\n",
       "  'intro': 'A comprehensive discussion on various strategies to decode the complex workings of AI in pathological analysis of liver cancer.'},\n",
       " {'idx': 7,\n",
       "  'level': '3.1',\n",
       "  'title': 'Model-based explanation',\n",
       "  'intro': \"An in-depth look into model-based explanations for AI's decision-making process in liver cancer analysis.\"},\n",
       " {'idx': 8,\n",
       "  'level': '3.1.1',\n",
       "  'title': 'Support vector machine or random forests vs. deep learning',\n",
       "  'intro': 'A comparative study of different AI models like support vector machines, random forests and deep learning for liver cancer analysis.'},\n",
       " {'idx': 9,\n",
       "  'level': '3.1.2',\n",
       "  'title': 'Supervised learning vs. weakly supervised learning vs. unsupervised learning',\n",
       "  'intro': 'A thorough comparison of supervised, weakly supervised, and unsupervised learning approaches in AI for liver cancer analysis.'},\n",
       " {'idx': 10,\n",
       "  'level': '3.1.3',\n",
       "  'title': 'Textual explanation',\n",
       "  'intro': 'Understanding how textual explanations can be generated from AI models for liver cancer analysis.'},\n",
       " {'idx': 11,\n",
       "  'level': '3.1.3.1',\n",
       "  'title': 'Image captioning',\n",
       "  'intro': 'Insight into how AI can generate textual descriptions for pathological images in liver cancer analysis.'},\n",
       " {'idx': 12,\n",
       "  'level': '3.1.3.2',\n",
       "  'title': 'Image captioning with visual explanation',\n",
       "  'intro': 'Discussion on how AI combines textual descriptions with visual explanations for a comprehensive understanding of liver cancer pathology.'},\n",
       " {'idx': 13,\n",
       "  'level': '3.1.4',\n",
       "  'title': 'Example-based explanation',\n",
       "  'intro': 'Exploring how AI uses examples to provide explanations for its decisions in liver cancer analysis.'},\n",
       " {'idx': 14,\n",
       "  'level': '3.1.4.1',\n",
       "  'title': 'Triplet network',\n",
       "  'intro': 'Understanding how the triplet network, an example-based explanation model, works in the context of AI-based liver cancer analysis.'},\n",
       " {'idx': 15,\n",
       "  'level': '3.1.4.2',\n",
       "  'title': 'Prototypes',\n",
       "  'intro': 'Exploration of how prototypes are used as examples to explain AI decisions in liver cancer analysis.'},\n",
       " {'idx': 16,\n",
       "  'level': '3.2',\n",
       "  'title': 'Post hoc explanation',\n",
       "  'intro': 'Discussion on post hoc explanations, which provide insights into AI decisions after they have been made in the context of liver cancer analysis.'},\n",
       " {'idx': 17,\n",
       "  'level': '3.2.1',\n",
       "  'title': 'Visual explanation (saliency mapping, pathologist-in-the-loop)',\n",
       "  'intro': 'Exploration of visual explanation techniques like saliency mapping and pathologist-in-the-loop in AI-based liver cancer analysis.'},\n",
       " {'idx': 18,\n",
       "  'level': '3.2.1.1',\n",
       "  'title': 'Backpropagation-based approaches',\n",
       "  'intro': 'Insight into backpropagation-based approaches for visual explanation in AI-based liver cancer analysis.'},\n",
       " {'idx': 19,\n",
       "  'level': '3.2.1.2',\n",
       "  'title': 'Perturbation-based approaches',\n",
       "  'intro': 'Understanding of perturbation-based approaches for providing visual explanations in AI-based liver cancer analysis.'},\n",
       " {'idx': 20,\n",
       "  'level': '3.2.1.3',\n",
       "  'title': 'Multiple instance learning-based approaches',\n",
       "  'intro': 'Discussion on how multiple instance learning-based approaches contribute to visual explanations in AI-based liver cancer analysis.'},\n",
       " {'idx': 21,\n",
       "  'level': '3.2.2',\n",
       "  'title': 'Textual explanation',\n",
       "  'intro': \"Insight into how textual explanations can be used in post hoc analysis of AI's decisions in liver cancer.\"},\n",
       " {'idx': 22,\n",
       "  'level': '3.2.3',\n",
       "  'title': 'Example-based explanation',\n",
       "  'intro': \"Exploring how example-based explanations can be used in post hoc analysis of AI's decisions in liver cancer.\"},\n",
       " {'idx': 23,\n",
       "  'level': '4',\n",
       "  'title': 'Conclusion and future applications',\n",
       "  'intro': 'Final thoughts on the current state of AI in liver cancer analysis and potential future developments in the field.'}]"
      ]
     },
     "metadata": {},
     "output_type": "display_data"
    }
   ],
   "source": [
    "outline_details_json_path = \"data/review_outline_details.json\"\n",
    "with open(outline_details_json_path, \"r\", encoding=\"utf-8\") as rf:\n",
    "    outline_details_data = json.load(rf)\n",
    "display(outline_details_data)"
   ]
  },
  {
   "cell_type": "code",
   "execution_count": 2,
   "id": "af25b87c-e0e6-4fb0-b2dd-2d61ec2e3dbd",
   "metadata": {
    "scrolled": true
   },
   "outputs": [
    {
     "data": {
      "application/vnd.jupyter.widget-view+json": {
       "model_id": "71ee8c579bb64758bff5344eebd406c8",
       "version_major": 2,
       "version_minor": 0
      },
      "text/plain": [
       "VBox(children=(Button(description='Generate Details', icon='radiation', style=ButtonStyle(), tooltip='Click an…"
      ]
     },
     "metadata": {},
     "output_type": "display_data"
    }
   ],
   "source": [
    "section_widget = SectionWidget()\n",
    "section_widget.display()"
   ]
  },
  {
   "cell_type": "code",
   "execution_count": 44,
   "id": "167fc03e-58c6-4ba6-aa97-ae2cdd53a99a",
   "metadata": {
    "scrolled": true
   },
   "outputs": [
    {
     "name": "stdout",
     "output_type": "stream",
     "text": [
      "27 queries after combined.\n",
      "CPU times: user 63.5 ms, sys: 7.41 ms, total: 71 ms\n",
      "Wall time: 69.9 ms\n"
     ]
    }
   ],
   "source": [
    "%%time\n",
    "section_1 = (\n",
    "    \"Current advances of AI-based approaches for clinical management of liver cancer\"\n",
    ")\n",
    "section_1_intro = \"An overview of the latest developments in AI technologies and their applications in the clinical management of liver cancer.\"\n",
    "section_1_queries = retriever.query([section_1, section_1_intro])"
   ]
  },
  {
   "cell_type": "code",
   "execution_count": 45,
   "id": "db03713d-55bb-4a58-b7fc-4d57b7c6c57f",
   "metadata": {
    "scrolled": true
   },
   "outputs": [
    {
     "data": {
      "text/plain": [
       "[{'pdf_name': 'Artificial Intelligence in Hepatology Ready for the Primetime',\n",
       "  'regions': [{'text': \"Artificial Intelligence (AI) is a mathematical process of computer mediating designing of algorithms to support human intelligence. AI in hepatology has shown tremendous promise to plan appropriate management and hence improve treatment outcomes. The field of AI is in a very early phase with limited clinical use. AI tools such as machine learning, deep learning, and ‘big data’ are in a continuous phase of evolution, presently being applied for clinical and basic research. In this review, we have summarized various AI applications in hepatology, the pitfalls and AI's future implications. Different AI models and algorithms are under study using clinical, laboratory, endoscopic and imaging parameters to diagnose and manage liver diseases and mass lesions. AI has helped to reduce human errors and improve treatment protocols. Further research and validation are required for future use of AI in hepatology. (J Ciin Exp HepaTor 2023;13:149-161) \",\n",
       "    'page_idx': 1,\n",
       "    'region_idx': 4,\n",
       "    'score': 3.41244},\n",
       "   {'text': \"n recent years, the development of Artificial Intelli[= (AI) in the fields of gastroenterology and hepa tology has made remarkable progress. The use of AI is studied in gastroenterology for the endoscopic evaluation of Barrett's oesophagus, oesophageal and gastric malignancies, colorectal polyp detection and characterization, evaluation of inflammatory bowel disease and capsule endoscopy for obscure gastrointestinal bleed! (Table 1). With the increased development and usage of AI in gastroenterology, research in the field of hepatology also has accelerated. AI in hepatology can be used to detect liver fibrosis, diagnose non-alcoholic fatty liver disease (NAFLD), differentiate focal liver lesions, diagnose hepatocellular cancer, prognosticate chronic liver disease (CLD) \",\n",
       "    'page_idx': 1,\n",
       "    'region_idx': 5,\n",
       "    'score': 1.9854822},\n",
       "   {'text': 'Healthcare systems in developing countries like India have a lot of challenges, especially in the rural areas. AI helps in addressing these issues by assisting the doctors in better and quick diagnosis, delivering personalized healthcare, providing high-quality healthcare to rural areas, and helping doctors and nurses in training to handle complex medical conditions. AI can help monitor a patient’s condition having chronic ailments with the help ofa smartphone. ~ Using clinical, genetic, molecular information from large datasets, AI can be helpful to find new therapeutic targets. Apart from the extensive number of AI applications being made, a lot of unmet needs are work on alcohol related liver injury, metabolic and autoimmune liver diseases. Hence there is a lot of scope for technical growth in the AI sub-speciality, paving the way to improve the accuracy of the AI tools. AI systems for liver segmentation and diagnosis should be widely available within the next 5 years, which will help in liver lesion characterization and aid in liver transplantation. Working in isolation from AI and data scientists will be a hindrance to the growth of clinical medicine. Hence, the adoption of coordinated research opportunities will facilitate the development of many clinically useful tools. ',\n",
       "    'page_idx': 11,\n",
       "    'region_idx': 2,\n",
       "    'score': 1.6374097},\n",
       "   {'text': 'AI is an upcoming promising technology that is rapidly becoming an essential part of patient management. Applications of AI have expanded in all branches of medicines, especially endoscopy and hepatology. The conglomeration of data which can be clinical/laboratory, multi-omics, natural language processing (NLP) and Image recognition (both radiology-based and pathology-based) has contributed to the prediction of fibrosis, classification of liver masses and prediction of treatment response and transplant outcomes. ’® In this review the majority of studies mentioned focussed on diagnosis part. There are very few studies that help to predict treatment response, post-liver transplant response, and prediction of hepatotoxicity in newer drug development and more studies are needed. AI also helps for realtime biomonitoring, by identification of patients at high risk of clinical decompensation and hospital admission, so that timely intervention can be done for high-risk patients. With the increasing advancement of image capture and storage, AI will bring striking changes to the diagnosis of various liver diseases with the ‘big data’ being available. However, there are many hurdles to overcome, which researchers will do in the near future using validation studies and molecular research. It is expected that gastroenterology and hepatology will be one of the first areas in medicine to introduce AI tools on a wide-scale basis, due to its inherent reliance on endoscopic and radiological imaging. Hence, GI and liver specialists should be proud that our field sets the ground for AI development in medicine. ',\n",
       "    'page_idx': 11,\n",
       "    'region_idx': 6,\n",
       "    'score': 4.48796}]},\n",
       " {'pdf_name': 'Development of a deep pathomics score for predicting hepatocellular carcinoma recurrence after liver transplantation',\n",
       "  'regions': [{'text': 'Recent advances in artificial intelligence (AI) methodologies have made great strides in automatically quantifying pathological patterns based on digital histological slides [18]. With the integration of digital slides into the pathology workflow, advanced algorithms and computeraided techniques expand and reinforce their utilization in tumor diagnosis, prognostic prediction and therapy targeting, which enable the interpretation of information beyond human limits and ultimately, improve patient management [19-21]. For HCC, survival indicators after liver resection were proposed based on weakly supervised deep learning methods, exhibiting high accuracy [22, 23]. With largely uncovered invisible information available from HCC histology, further integration of recurrence prediction models and AI algorithms in transplant patients suffering from HCC deserve to be explored. Moreover, a comprehensive research on correlation between HCC histological structures and prognosis is urgently needed. ',\n",
       "    'page_idx': 3,\n",
       "    'region_idx': 7,\n",
       "    'score': 2.875428}]},\n",
       " {'pdf_name': 'Quantitative analysis of artificial intelligence on liver cancer',\n",
       "  'regions': [{'text': 'Objective: To provide the current research progress, hotspots, and emerging trends for Al in liver cancer, we have compiled a relative comprehensive and quantitative report on the research of liver disease using artificial intelligence by employing bibliometrics in this study. ',\n",
       "    'page_idx': 1,\n",
       "    'region_idx': 11,\n",
       "    'score': 2.0757124},\n",
       "   {'text': 'With the development of medical big data and computer technology, artificial intelligence (AI) based on machine learning and deep learning has been widely used in current medical research (3-6). Through self-learning, summary, and induction of data, it can produce an intelligent reasoning system and choose the optimal solution to guide clinical decision-making (7). Original AI was based on traditional machine-learning methods, including support vector machine and random forest models, which all relied on human experience for learning and simple summary. As early as 2003, Hussain constructed a predictive system consisting of 12 genes, with Fisher’s linear classifier, for predicting early recurrence in patients with hepatocellular carcinoma (HCC) (8). During this period, most studies have focused on simple analyses of data, such as genes and molecules (9-11). With the standardization of imaging diagnosis and its important role in the clinical diagnosis of liver cancer, AI research based on imaging has emerged by extracting high-throughput features that cannot be detected and defined by human eyes from large-scale image data to establish an intelligent decision -making model to assist clinical decisionmaking (12, 13). In particular, deep learning based on convolutional neural networks (CNNs) has promoted progress in liver cancer research (14-19). ',\n",
       "    'page_idx': 2,\n",
       "    'region_idx': 5,\n",
       "    'score': 4.5103016},\n",
       "   {'text': 'As more and more researchers are interested in the use of AI in liver cancer, a large number of related studies have started being published. For example, reviews describing an overview of deep learning, convolutional neural networks and other AI technologies applications in liver cancer (20-22), reviews on the applications of AI on assisted imaging in diagnosis, prognosis and detection of liver cancer (23-25), and explained the latest research, on limitations and future development trends of AI have all been recently published. However, current reviews may be unable to explore grasp the latest research trends and hotspots in this field because of lack of a large number of publications. Meanwhile, there is a lack of quantitative analysis of all ',\n",
       "    'page_idx': 2,\n",
       "    'region_idx': 6,\n",
       "    'score': 3.8031921},\n",
       "   {'text': 'literature in this field. Additionally, a summary and quantitative analyses of the global development trend and research hotspots of AI in liver cancer is of great importance for future research. Bibliometrics is a method of information visualization which can achieve quantitative analysis of literature in a specific research field in a worldwide context through statistical methods and visualizing the results with the help of software (26-29). Bibliometrics plays an important role in sorting out development trends and research hotspots of a given field and has been widely used in many fields (26-29). ',\n",
       "    'page_idx': 2,\n",
       "    'region_idx': 7,\n",
       "    'score': 1.2098706},\n",
       "   {'text': 'Therefore, we aimed to quantitatively analyze existing studies involving AI in liver cancer using bibliometrics to provide the current research progress, hotspots, and emerging trends for AI in liver cancer which may help researchers better understand grasp future research interest. Information was collated regarding countries/regions, institutions, authors, and journals with the highest citations and publications and keywords. ',\n",
       "    'page_idx': 2,\n",
       "    'region_idx': 8,\n",
       "    'score': 3.5267982},\n",
       "   {'text': 'According to our research area, which focuses on the applications of AI in liver cancer, we designed the following search items: the papers for analysis were restricted to those that (1) were written in ',\n",
       "    'page_idx': 2,\n",
       "    'region_idx': 13,\n",
       "    'score': 2.141102},\n",
       "   {'text': 'The analysis of the global trend of publications and citations and productive countries/regions is mainly to comprehensively understand the development trends of AI on liver cancer from beginning to end. The analysis of institutions, authors, and co-cited authors can quantitatively describe the strength of the cooperation between authors and institutions (30-32). Additionally, the analysis of top journals can analyze the level of cooperation and relationships in the concentrated fields of journals, which is beneficial to cross field cooperation in research (32). In particular, cluster co-occurrence analysis of keywords from different perspectives such as disease, data type, clinical goals, and clinical methods can help us understand the main topics and research trends in the current field of AI in liver cancer field. ',\n",
       "    'page_idx': 3,\n",
       "    'region_idx': 5,\n",
       "    'score': 3.7080092},\n",
       "   {'text': 'FIGURE 2 Global trend of publications and citations on artificial intelligence research in liver cancer from 2003 to 2022. ',\n",
       "    'page_idx': 4,\n",
       "    'region_idx': 2,\n",
       "    'score': 1.4680248},\n",
       "   {'text': 'In this quantitative study, in order to systematically and quantitatively analyze the research status of AI in liver cancer, and explore the future research trends and hotspots in this field, we used a bibliometrics method to analyze the current research status of AI in liver cancer in terms of publication and citation trends, countries/ regions and institutions, authors and co-cited authors, journals, cited references and co-citation references, and keywords. Ultimately, 1724 articles focusing on Al in liver cancer were collected from the WoSCC database and analyzed. ',\n",
       "    'page_idx': 7,\n",
       "    'region_idx': 5,\n",
       "    'score': 1.5624361},\n",
       "   {'text': 'Research on AI in liver cancer mainly started in 2003 and entered a stage of rapid development in 2017. China is the most productive country with 35.33% of total publications; however, the USA ranked first according to the H-index, citations, and average citations per paper. It is notable that China, as a country with a high incidence of liver cancer, has a high number of studies on AI in liver cancer. However, most studies in China have limited impact, which may need further improvement from topic selection and research implementation. The League Of European Research Universities is the most productive institution, followed by Sun Yat Sen University and Zhejiang University. This is consistent with the conclusion of the most productive country above. We also found that cooperation ',\n",
       "    'page_idx': 7,\n",
       "    'region_idx': 6,\n",
       "    'score': 1.8597443},\n",
       "   {'text': 'The top three most productive journals had JCR scores of at least Q2. This shows that the field of AI in liver cancer is relatively mature and has a high level of concern and recognition. Moreover, most of the top 10 journals in this field are medical journals and include a small number of engineering journals, showing that the medical field pays more attention to AI in liver cancer. This suggests that we can consider and design studies from both medical and engineering aspects when conducting research, especially in medicine. ',\n",
       "    'page_idx': 7,\n",
       "    'region_idx': 8,\n",
       "    'score': 1.2081918},\n",
       "   {'text': 'Regarding data type, studies of AI in liver cancer started from the simple data modeling of genetic or molecular data (9-11). With the development of medical imaging, research on medical imaging has been gradually increasing. CT, ultrasound, and MRI are the top three most used data types. First, this may because CT and MRI can be used as the basis for clinical treatment strategies for patients with liver cancer based on guidelines for liver cancer diagnosis. Moreover, ultrasound, as a screening method for patients at high risk of liver cancer, needs to be checked every six months. Therefore, the data volume of these three imaging methods has greatly increased, which has promoted the development of AI in liver cancer (37-39). Second, compared with MRI, CT has the advantages of fast inspection speed and cost-effectiveness, and is an indispensable and important imaging method in the diagnosis and treatment of liver cancer. Finally, although ultrasound is widely used in clinical practice, its image acquisition is seriously affected by the doctor’s operation technique and machine model, the resolution is low, and the processing is difficult. Therefore, it is used less often than CT. However, it is worth noting that contrast-enhanced ultrasound has now been included as a recommended imaging modality for the diagnosis of liver cancer (40, 41) and is also widely used in the development and prognostic evaluation of ultrasound-guided radiofrequency ablation. This suggests that we could pay attention to the important role of ultrasound in liver cancer clinics in future research. At the same time, few studies used pathological, genetic, and other clinical data (42-44). The main reason may be that the medical cost of genetic examination is high and the realization of AI in multiomics research is difficult. ',\n",
       "    'page_idx': 8,\n",
       "    'region_idx': 4,\n",
       "    'score': 3.3634717},\n",
       "   {'text': 'Studies on the treatment and prognosis of liver cancer mainly focused on the survival of a specific surgical method (59-66), such as radiofrequency ablation, transarterial chemoembolization and etc. Reports have proven that the modern therapies integrate a variety of neoadjuvant and adjuvant strategies have achieved dramatic improvements in survival, especially for patients with advanced HCC (66, 67). But the division of the patient population, the choice of potentially disclosing novel biomarkers still are controversies and the decision-making of precision treatment methods adapted to the specific patients, AI can play a role in this, but related research has not yet been seen. ',\n",
       "    'page_idx': 8,\n",
       "    'region_idx': 8,\n",
       "    'score': 2.5242324},\n",
       "   {'text': 'Previous meta-analyses and literature reviews focused on the applications of specific technologies in liver cancer or the development status of specific liver disease (22-29), such as reviewing studies on AI on assisted imaging in the diagnosis, prognosis and detection of liver cancer, or explaining the latest research, limitations, and future development trends of AI in a ',\n",
       "    'page_idx': 9,\n",
       "    'region_idx': 5,\n",
       "    'score': 2.1893158},\n",
       "   {'text': 'This study used bibliometrics to conduct an in-depth analysis of the published literature on AI in liver cancer. The results showed that AI has undergone rapid development and has a wide application in the diagnosis and treatment of liver diseases, especially in China, which has one of the highest incidences of liver cancer compared to other countries the world. In addition, intelligent analysis of imaging data is the hotspot and focus of current research in this field. However, combined with the current clinical difficulties such as accurate screening of early-stage liver cancer patients and high-risk patients, and selection of reasonable treatment decisions for advanced liver cancer patients, the use of AI for the fusion analysis of multiple types data in the process of diagnosis and treatment of liver cancer and multi-modal treatment decision-making for liver cancer are still relatively rare, and may become a future research trend. ',\n",
       "    'page_idx': 10,\n",
       "    'region_idx': 2,\n",
       "    'score': 5.744907}]},\n",
       " {'pdf_name': 'JOH 2022 Artificial intelligence for the prevention and clinical management of hepatocellular carcinoma',\n",
       "  'regions': [{'text': 'Hepatocellular carcinoma (HCC) currently represents the fifth most common malignancy and the thirdleading cause of cancer-related death worldwide, with incidence and mortality rates that are increasing. Recently, artificial intelligence (AI) has emerged as a unique opportunity to improve the full spectrum of HCC clinical care, by improving HCC risk prediction, diagnosis, and prognostication. Al approaches include computational search algorithms, machine learning (ML) and deep learning (DL) models. ML consists of a computer running repeated iterations of models, in order to progressively improve performance of a specific task, such as classifying an outcome. DL models are a subtype of ML, based on neural network structures that are inspired by the neuroanatomy of the human brain. A growing body of recent data now apply DL models to diverse data sources — including electronic health record data, imaging modalities, histopathology and molecular biomarkers - to improve the accuracy of HCC risk prediction, detection and prediction of treatment response. Despite the promise of these early results, future research is still needed to standardise AI data, and to improve both the generalisability and interpretability of results. If such challenges can be overcome, Al has the potential to profoundly change the way in which care is provided to patients with or at risk of HCC. ',\n",
       "    'page_idx': 1,\n",
       "    'region_idx': 8,\n",
       "    'score': 2.1549423},\n",
       "   {'text': 'Owing to the broad heterogeneity in HCC risk factors and pathogenesis, established strategies for prediction and prognostication are still limited. Recently, artificial intelligence (AI) has emerged as a unique opportunity to improve the full spectrum of HCC clinical care, by: i) improving the prediction of future HCC risk in patients with established liver disease; ii) improving the accuracy of HCC ',\n",
       "    'page_idx': 1,\n",
       "    'region_idx': 12,\n",
       "    'score': 2.7284043},\n",
       "   {'text': 'It has been posited that improved HCC risk prediction models leveraging AI techniques could be used to personalise HCC surveillance strategies by improving risk stratification of patients with chronic liver disease. For example, Ioannou and colleagues found that targeting patients with the uppermost 51% of their NN-derived HCC risk score would include 80% of patients who would develop HCC within the subsequent 3 years.° Such an approach could be useful in resource-limited settings that do not have sufficient capacity for regular HCC surveillance in all at-risk patients. However, to date, the clinical utility of this and other Al-based scores for predicting risk of HCC is unclear, particularly as these data have limited generalisability, given their reliance on the size and diversity of the training dataset. ',\n",
       "    'page_idx': 3,\n",
       "    'region_idx': 5,\n",
       "    'score': 1.3714662},\n",
       "   {'text': 'Another rapidly growing area of research is focused on improved characterisation of indeterminate liver lesions. In clinical practice, when an abdominal ultrasound shows a new liver lesion, a patient is typically referred for further imaging, with contrast-enhanced CT or MRI. Based on the fulfilment of specific radiologic criteria, certain liver lesions may be considered as having pathognomonic features of HCC, and thus do not require liver biopsy for further histological confirmation. However, liver nodules imaged by CT or MRI often demonstrate indeterminate features, for which current recommendations include either liver biopsy or close interval follow-up with serial imaging.”° This practice is sub-optimal, resulting in numerous imaging studies, patient stress, and the potential for delayed diagnoses of liver cancer. For this reason, a growing body of recent literature has explored AI approaches to improve risk stratification of indeterminate liver lesions, to facilitate earlier and more accurate detection of HCC. ',\n",
       "    'page_idx': 4,\n",
       "    'region_idx': 4,\n",
       "    'score': 3.9142852},\n",
       "   {'text': 'A growing body of research has applied AI approaches to improve HCC risk prediction, and to more accurately detect and risk stratify existing HCC tumours, based on EHR data, radiomics approaches, and molecular or histopathological biomarkers. ',\n",
       "    'page_idx': 6,\n",
       "    'region_idx': 13,\n",
       "    'score': 1.4827971},\n",
       "   {'text': \"Prospective studies are needed to fully demonstrate the potential of AI to improve the clinical care of patients with HCC. In other medical areas, several Al-based randomised clinical trials have already been conducted. As such, in endoscopy, numerous randomised clinical trials have evaluated the impact of computer-aided systems on physicians’ performance in diagnosing intestinal adenoma or indicating blind spots of colonoscopy.’*°° The need to incorporate these new developments prompted the research community to extend the widely used SPIRIT and CONSORT guidelines for the use of Al methods in 2020.°'°? According to ClinicalTrials.gov (https:// clinicaltrials.gov/), there are currently 6 ongoing trials involving AI for the management of HCC. A research group at the University of Hong Kong is comparing an algorithm designed to diagnose HCC from CT images against the standard diagnostic procedure that relies on the LI-RADS criteria (NCT04843176).°? A multicentre study from France is prospectively developing an AI algorithm in a non-randomised clinical trial. The research group uses clinical, biological and ultrasound data to \",\n",
       "    'page_idx': 11,\n",
       "    'region_idx': 6,\n",
       "    'score': 1.6729643}]},\n",
       " {'pdf_name': 'Artificial intelligence in liver diseases Improving diagnostics, prognostics and response prediction',\n",
       "  'regions': [{'text': 'To facilitate transformation of imaging data into clinically accessible information, Al may derive predictions in a more personalised fashion. Two categories of AI that have shown promise in liver imaging are radiomics (relying on classical ML) and DL systems (relying on CNNs) (Fig. 2A). Radiomics is a strongly supervised and expert-guided approach where hardcoded algorithms extract quantitative image features that are fed into an ML algorithm.°® In contrast, DL with a CNN constitutes an automatic feature extraction where the algorithm selflearns salient features and self-optimises parameters by running an input image through mathematical operations embedded in multiple layers.°°? Because both approaches aim to predict a pre-defined “ground truth,” they are considered supervised learning approaches. Herein, we review AI tools for liver imaging in segmentation, classification of disease severity and lesions, and outcome prediction. ',\n",
       "    'page_idx': 5,\n",
       "    'region_idx': 2,\n",
       "    'score': 1.3946168}]}]"
      ]
     },
     "execution_count": 45,
     "metadata": {},
     "output_type": "execute_result"
    }
   ],
   "source": [
    "section_1_queries"
   ]
  },
  {
   "cell_type": "code",
   "execution_count": 46,
   "id": "0584f796-4bb1-4814-af20-6ad5fff56b53",
   "metadata": {},
   "outputs": [
    {
     "name": "stdout",
     "output_type": "stream",
     "text": [
      "Prompt Tokens count: [5535]\n",
      " Here is a 600-word overview of the latest developments in AI technologies and their applications in the clinical management of liver cancer:\n",
      "\n",
      "```json\n",
      "{\n",
      "  \"topic\": \"An overview of the latest developments in AI technologies and their applications in the clinical management of liver cancer.\",\n",
      "  \"statements\": [\n",
      "    {\n",
      "      \"text\": \"In recent years, artificial intelligence (AI) has shown great promise in improving the full spectrum of clinical care for hepatocellular carcinoma (HCC), including risk prediction, diagnosis, prognostication, and treatment response prediction. AI approaches like machine learning and deep learning can analyze large datasets of electronic health records, medical imaging, histopathology, and molecular biomarkers to uncover patterns that can optimize HCC screening, surveillance, and management.\",\n",
      "      \"refs\": [\"3-1.8\", \"3-1.12\", \"5-1.13\", \"5-6.13\"]  \n",
      "    },\n",
      "    {\n",
      "      \"text\": \"Machine learning models have been developed to predict HCC risk and optimize screening of high-risk groups. Ioannou et al. used a neural network model analyzing clinical data that could identify patients with an 80% risk of developing HCC in 3 years, which could facilitate targeted screening in resource-limited settings.\", \n",
      "      \"refs\": [\"3-3.5\"]\n",
      "    },\n",
      "    {\n",
      "      \"text\": \"Deep learning analysis of CT and MRI scans shows promise for improving characterization of indeterminate liver lesions. Rather than repeated imaging and biopsies, AI assessment of imaging features can risk stratify lesions and reduce delays in HCC diagnosis.\",\n",
      "      \"refs\": [\"3-4.4\"]\n",
      "    },\n",
      "    {\n",
      "      \"text\": \"Radiomics extracts quantitative imaging features that are analyzed by machine learning algorithms. Deep learning uses convolutional neural networks for automatic feature extraction and self-optimization in predicting outcomes from medical images. Both supervised approaches are being applied in liver imaging for segmentation, disease classification, and prognosis prediction.\",\n",
      "      \"refs\": [\"6-5.2\"]\n",
      "    },\n",
      "    {\n",
      "      \"text\": \"While initial results are promising, prospective clinical trials are still needed to validate the real-world impact of AI on HCC outcomes. Some ongoing trials are comparing AI diagnosis of HCC from CT scans to standard criteria. Guidelines for using AI in trials have been developed to facilitate responsible integration into clinical practice.\",  \n",
      "      \"refs\": [\"3-11.6\"]\n",
      "    },\n",
      "    {\n",
      "      \"text\": \"Key challenges remain around standardizing diverse AI training data and improving model interpretability. But AI has potential to transform HCC risk stratification, diagnosis, prognosis and personalized treatment selection if ongoing research can demonstrate clinical utility across diverse patient populations.\",\n",
      "      \"refs\": [\"3-1.8\", \"3-4.4\", \"6-5.2\"]\n",
      "    }\n",
      "  ],\n",
      "  \"references\": {\n",
      "    \"1\": {\n",
      "      \"pdf_name\": \"JOH 2022 Artificial intelligence for the prevention and clinical management of hepatocellular carcinoma\"\n",
      "    },\n",
      "    \"2\": {\n",
      "      \"pdf_name\": \"Artificial Intelligence in Hepatology Ready for the Primetime\"\n",
      "    },  \n",
      "    \"3\": {\n",
      "      \"pdf_name\": \"Artificial intelligence in liver diseases Improving diagnostics, prognostics and response prediction\"\n",
      "    },\n",
      "    \"4\": {\n",
      "      \"pdf_name\": \"Development of a deep pathomics score for predicting hepatocellular carcinoma recurrence after liver transplantation\"\n",
      "    },\n",
      "    \"5\": {\n",
      "      \"pdf_name\": \"Quantitative analysis of artificial intelligence on liver cancer\"\n",
      "    }\n",
      "  }\n",
      "}\n",
      "```\n",
      "Response Tokens count: [729] [stop]\n"
     ]
    }
   ],
   "source": [
    "section_1_summarizer = SectionSummarizer()\n",
    "section_1_sum_res = section_1_summarizer.run(\n",
    "    topic=section_1_intro, queries=section_1_queries\n",
    ")"
   ]
  },
  {
   "cell_type": "code",
   "execution_count": 5,
   "id": "3ca948c2-d240-45e2-91b9-d4f99bcac84a",
   "metadata": {},
   "outputs": [
    {
     "data": {
      "text/plain": [
       "'http://child-prc.intel.com:913'"
      ]
     },
     "execution_count": 5,
     "metadata": {},
     "output_type": "execute_result"
    }
   ],
   "source": [
    "import os\n",
    "\n",
    "os.environ.get(\"http_proxy\")"
   ]
  },
  {
   "cell_type": "code",
   "execution_count": 4,
   "id": "0807c999-18ad-49dc-bc43-bcc176b5ae75",
   "metadata": {},
   "outputs": [
    {
     "name": "stdout",
     "output_type": "stream",
     "text": [
      "http://child-prc.intel.com:913\n",
      "Prompt Tokens count: [27]\n",
      "解读“人工智能基于病理学分析肝癌应用的‘黑匣子’”\n",
      "\n",
      "这句话描述了破解基于人工智能的病理学分析肝癌应用的工作。在这里，“黑匣子”指的是一种不易理解或解释的复杂系统或技术。在这种情况下，研究人员试图深入了解人工智能如何应用于病理学领域，特别是在分析肝癌方面。他们希望揭示人工智能在这个领域的工作原理和方法，以便更好地理解和利用这项技术。\n",
      "Response Tokens count: [198] [stop]\n"
     ]
    },
    {
     "data": {
      "text/plain": [
       "'解读“人工智能基于病理学分析肝癌应用的‘黑匣子’”\\n\\n这句话描述了破解基于人工智能的病理学分析肝癌应用的工作。在这里，“黑匣子”指的是一种不易理解或解释的复杂系统或技术。在这种情况下，研究人员试图深入了解人工智能如何应用于病理学领域，特别是在分析肝癌方面。他们希望揭示人工智能在这个领域的工作原理和方法，以便更好地理解和利用这项技术。'"
      ]
     },
     "execution_count": 4,
     "metadata": {},
     "output_type": "execute_result"
    }
   ],
   "source": [
    "agent = OpenAIAgent(\n",
    "    name=\"ninomae\",\n",
    "    endpoint_name=\"ninomae\",\n",
    "    model=\"gpt-3.5-turbo\",\n",
    "    temperature=0.0,\n",
    ")\n",
    "# agent.test_prompt()\n",
    "agent.system_message = \"Explain the following text in Chinese:\"\n",
    "agent.chat(\n",
    "    \"Unraveling the “black-box” of artificial intelligence-based pathological analysis of liver cancer applications\"\n",
    ")"
   ]
  },
  {
   "cell_type": "code",
   "execution_count": 2,
   "id": "28249706-7a66-4c31-917b-80e6f1c620ac",
   "metadata": {},
   "outputs": [
    {
     "name": "stdout",
     "output_type": "stream",
     "text": [
      "28 queries after combined.\n"
     ]
    }
   ],
   "source": [
    "section_2 = (\n",
    "    \"Current challenges limiting AI-based approaches in the management of liver cancer\"\n",
    ")\n",
    "section_2_intro = \"the challenges and limitations of using AI in managing liver cancer\"\n",
    "section_2_queries = retriever.query([section_2, section_2_intro])"
   ]
  },
  {
   "cell_type": "code",
   "execution_count": 3,
   "id": "056ff0a8-e277-46c7-8e9c-eb20946d122a",
   "metadata": {},
   "outputs": [
    {
     "name": "stdout",
     "output_type": "stream",
     "text": [
      "Prompt Tokens count: [3968]\n",
      "# Topic: Current challenges limiting AI-based approaches in the management of liver cancer\n",
      "\n",
      "# Statement:\n",
      "Artificial Intelligence (AI) has shown significant promise in the management of liver cancer, however, several challenges still exist. One of the main issues is the need for structured data collection, sharing, and storage [12]. Another challenge is the high medical cost of genetic examination and the difficulty of realizing AI in multiomics research [8]. Additionally, the lack of research on AI-assisted decision-making for precision treatment methods adapted to specific patients is a limiting factor [7]. Furthermore, while AI has been beneficial in the diagnosis and management of liver diseases, further research and validation are required for future use [13]. Lastly, the adoption of coordinated research opportunities is essential to facilitate the development of many clinically useful tools, as working in isolation from AI and data scientists can hinder the growth of clinical medicine [5].\n",
      "\n",
      "# References:\n",
      "[1] 'JOH 2022 Artificial intelligence for the prevention and clinical management of hepatocellular carcinoma': Page 12, Region 4\n",
      "[2] 'Quantitative analysis of artificial intelligence on liver cancer': Page 8, Region 4\n",
      "[3] 'Quantitative analysis of artificial intelligence on liver cancer': Page 8, Region 8\n",
      "[4] 'Artificial Intelligence in Hepatology Ready for the Primetime': Page 1, Region 4\n",
      "[5] 'Artificial Intelligence in Hepatology Ready for the Primetime': Page 11, Region 2\n",
      "Response Tokens count: [305] [stop]\n",
      "Prompt Tokens count: [305]\n",
      "# 主题：限制肝癌管理中基于人工智能方法的当前挑战\n",
      "\n",
      "# 声明：\n",
      "人工智能（AI）在肝癌管理方面表现出显著的潜力，然而，仍然存在一些挑战。其中一个主要问题是需要进行结构化数据的收集、共享和存储[12]。另一个挑战是基因检查的高医疗成本和在多组学研究中实现AI的困难[8]。此外，缺乏针对特定患者适应的精准治疗方法的AI辅助决策的研究是一个限制因素[7]。此外，虽然AI在肝疾病的诊断和管理方面已经有益，但未来需要进一步的研究和验证[13]。最后，采用协同研究机会对于促进许多临床有用工具的发展至关重要，因为与AI和数据科学家孤立工作可能会阻碍临床医学的发展[5]。\n",
      "\n",
      "# 参考文献：\n",
      "[1] 《JOH 2022年肝细胞癌预防和临床管理的人工智能》：第12页，区域4\n",
      "[2] 《肝癌人工智能定量分析》：第8页，区域4\n",
      "[3] 《肝癌人工智能定量分析》：第8页，区域8\n",
      "[4] 《肝病学中的人工智能已经准备好迎接黄金时代》：第1页，区域4\n",
      "[5] 《肝病学中的人工智能已经准备好迎接黄金时代》：第11页，区域2\n",
      "Response Tokens count: [522] [stop]\n"
     ]
    }
   ],
   "source": [
    "section_2_sum_res, section_2_trans_res = summarize_and_translate_section(\n",
    "    section_2, section_2_queries\n",
    ")"
   ]
  },
  {
   "cell_type": "code",
   "execution_count": 82,
   "id": "b7e0c079-e5f4-414f-8f60-65dff0d7ed6f",
   "metadata": {},
   "outputs": [
    {
     "data": {
      "text/html": [
       "\n",
       "<!DOCTYPE html>\n",
       "<html>\n",
       "<head>\n",
       "<style>\n",
       "    .tooltip {\n",
       "        position: relative;\n",
       "        display: inline-block;\n",
       "    }\n",
       "    .tooltip .tooltiptext {\n",
       "        visibility: hidden;\n",
       "        white-space:pre;\n",
       "        background-color: rgba(100,100,0,0.8);\n",
       "        color: white;\n",
       "        text-align: center;\n",
       "        border-radius: 2px;\n",
       "        padding: 5px 0;\n",
       "        \n",
       "        position: absolute;\n",
       "        z-index: 400;\n",
       "    }\n",
       "    .tooltip:hover .tooltiptext {\n",
       "        visibility: visible;\n",
       "    }\n",
       "    .tooltip:hover {\n",
       "        background-color: rgba(0,100,100,0.8);\n",
       "    }\n",
       "</style>\n",
       "</head>\n",
       "<body>\n",
       "\n",
       "<p>This is a paragraph with numbered references. Here is reference number <span class=\"tooltip\">1<span class=\"tooltiptext\">This is the referred text for reference number 1.</span></span>\n",
       "\n",
       "<br />\n",
       "and here is reference number <span class=\"tooltip\">2<span class=\"tooltiptext\">This is the referred text for reference number 2.</span></span>.</p>\n",
       "\n",
       "</body>\n",
       "</html>\n",
       "\n",
       "\n",
       "\n"
      ],
      "text/plain": [
       "<IPython.core.display.HTML object>"
      ]
     },
     "metadata": {},
     "output_type": "display_data"
    }
   ],
   "source": [
    "display(\n",
    "    HTML(\n",
    "        \"\"\"\n",
    "<!DOCTYPE html>\n",
    "<html>\n",
    "<head>\n",
    "<style>\n",
    "    .tooltip {\n",
    "        position: relative;\n",
    "        display: inline-block;\n",
    "    }\n",
    "    .tooltip .tooltiptext {\n",
    "        visibility: hidden;\n",
    "        white-space:pre;\n",
    "        background-color: rgba(100,100,0,0.8);\n",
    "        color: white;\n",
    "        text-align: center;\n",
    "        border-radius: 2px;\n",
    "        padding: 5px 0;\n",
    "        \n",
    "        position: absolute;\n",
    "        z-index: 400;\n",
    "    }\n",
    "    .tooltip:hover .tooltiptext {\n",
    "        visibility: visible;\n",
    "    }\n",
    "    .tooltip:hover {\n",
    "        background-color: rgba(0,100,100,0.8);\n",
    "    }\n",
    "</style>\n",
    "</head>\n",
    "<body>\n",
    "\n",
    "<p>This is a paragraph with numbered references. Here is reference number <span class=\"tooltip\">1<span class=\"tooltiptext\">This is the referred text for reference number 1.</span></span>\n",
    "\n",
    "<br />\n",
    "and here is reference number <span class=\"tooltip\">2<span class=\"tooltiptext\">This is the referred text for reference number 2.</span></span>.</p>\n",
    "\n",
    "</body>\n",
    "</html>\n",
    "\n",
    "\n",
    "\n",
    "\"\"\"\n",
    "    )\n",
    ")"
   ]
  }
 ],
 "metadata": {
  "kernelspec": {
   "display_name": "Python 3 (ipykernel)",
   "language": "python",
   "name": "python3"
  },
  "language_info": {
   "codemirror_mode": {
    "name": "ipython",
    "version": 3
   },
   "file_extension": ".py",
   "mimetype": "text/x-python",
   "name": "python",
   "nbconvert_exporter": "python",
   "pygments_lexer": "ipython3",
   "version": "3.11.4"
  },
  "widgets": {
   "application/vnd.jupyter.widget-state+json": {
    "state": {},
    "version_major": 2,
    "version_minor": 0
   }
  }
 },
 "nbformat": 4,
 "nbformat_minor": 5
}
