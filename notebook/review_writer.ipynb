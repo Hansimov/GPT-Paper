{
 "cells": [
  {
   "cell_type": "code",
   "execution_count": 1,
   "id": "6bd0166d-e107-4dc3-a95d-f72a5357e3d2",
   "metadata": {
    "editable": true,
    "slideshow": {
     "slide_type": ""
    },
    "tags": []
   },
   "outputs": [
    {
     "data": {
      "text/html": [
       "\n",
       "                <script type=\"application/javascript\" id=\"jupyter_black\">\n",
       "                (function() {\n",
       "                    if (window.IPython === undefined) {\n",
       "                        return\n",
       "                    }\n",
       "                    var msg = \"WARNING: it looks like you might have loaded \" +\n",
       "                        \"jupyter_black in a non-lab notebook with \" +\n",
       "                        \"`is_lab=True`. Please double check, and if \" +\n",
       "                        \"loading with `%load_ext` please review the README!\"\n",
       "                    console.log(msg)\n",
       "                    alert(msg)\n",
       "                })()\n",
       "                </script>\n",
       "                "
      ],
      "text/plain": [
       "<IPython.core.display.HTML object>"
      ]
     },
     "metadata": {},
     "output_type": "display_data"
    },
    {
     "name": "stdout",
     "output_type": "stream",
     "text": [
      "Repo path:   [/mnt/sh_flex_storage/home/zehanyu/repos/GPT-Paper]\n",
      "Working dir: [/mnt/sh_flex_storage/home/zehanyu/repos/GPT-Paper/notebook]\n",
      "Now: [2023-09-11 23:22:25.842504]\n"
     ]
    }
   ],
   "source": [
    "%load_ext autoreload\n",
    "%autoreload\n",
    "%run -i \"startup.py\""
   ]
  },
  {
   "cell_type": "raw",
   "id": "5cf1b7d4-6892-42c7-b6b7-9a74b6edbd79",
   "metadata": {
    "editable": true,
    "jupyter": {
     "source_hidden": true
    },
    "slideshow": {
     "slide_type": ""
    },
    "tags": [
     "outline"
    ]
   },
   "source": [
    "Title: Unraveling the “black-box” of artificial intelligence-based pathological analysis of liver cancer\n",
    "\n",
    "# 1. Current advances of AI-based approaches for clinical management of liver cancer\n",
    "\n",
    "## 1.1 AI-based prognostication of liver cancer\n",
    "\n",
    "## 1.2 Molecular profiling of liver cancer via AI\n",
    "\n",
    "## 1.3 Exploring predictive indicators for therapy response\n",
    "\n",
    "# 2. Current challenges limiting AI-based approaches in the management of liver cancer\n",
    "\n",
    "(One paragraph highlighting the urgent need to explain the “black box” of deeplearning)\n",
    "\n",
    "# 3. Strategies for unraveling the “black-box” of AI-based pathological analysis of liver cancer\n",
    "\n",
    "## 3.1 Model-based explanation\n",
    "### 3.1.1 Support vector machine or random forests vs. deep learning\n",
    "### 3.1.2 Supervised learning vs. weakly supervised learning vs. unsupervised learning\n",
    "### 3.1.3 Textual explanation\n",
    "#### 3.1.3.1 Image captioning\n",
    "#### 3.1.3.2 Image captioning with visual explanation\n",
    "### 3.1.4 Example-based explanation \n",
    "#### 3.1.4.1 Triplet network\n",
    "#### 3.1.4.2 Prototypes\n",
    "\n",
    "## 3.2 Post hoc explanation\n",
    "\n",
    "### 3.2.1 Visual explanation (saliency mapping, pathologist-in-the-loop)\n",
    "#### 3.2.1.1 Backpropagation-based approaches\n",
    "      Including class activation mapping (CAM) and gradient-weighted class activation mapping (Grad-CAM)\n",
    "#### 3.2.1.2 Perturbation-based approaches\n",
    "      Including Occlusion sensitivity map (OSM), local interpretable model-agnostic explannations (LIME)\n",
    "#### 3.2.1.3 Multiple instance learning-based approaches\n",
    "\n",
    "### 3.2.2 Textual explanation\n",
    "   Testing with concept activation vectors (TCAV)\n",
    "### 3.2.3 Example-based explanation\n",
    "\n",
    "# 4. Conclusion and future applications"
   ]
  },
  {
   "cell_type": "code",
   "execution_count": null,
   "id": "965d073c-bcff-4474-98e3-f572afc2989e",
   "metadata": {},
   "outputs": [],
   "source": []
  },
  {
   "cell_type": "code",
   "execution_count": 2,
   "id": "769fe72e-848f-4766-b89d-1aa91183f615",
   "metadata": {
    "editable": true,
    "slideshow": {
     "slide_type": ""
    },
    "tags": []
   },
   "outputs": [],
   "source": [
    "ipynb_name = \"review_writer.ipynb\"\n",
    "markdown_cells = get_notebook_cells(notebook_path=ipynb_name, cell_types=[\"markdown\"])\n",
    "outline_cells = [\n",
    "    cell for cell in markdown_cells if \"outline\" in cell[\"metadata\"][\"tags\"]\n",
    "]\n",
    "outline_content = \"\".join([cell[\"source\"] for cell in outline_cells])"
   ]
  },
  {
   "cell_type": "code",
   "execution_count": 6,
   "id": "193d8a37-cb0c-4096-be66-55539ae48bf0",
   "metadata": {
    "collapsed": true,
    "jupyter": {
     "outputs_hidden": true
    },
    "scrolled": true
   },
   "outputs": [
    {
     "name": "stdout",
     "output_type": "stream",
     "text": [
      "Prompt Tokens count: [709]\n",
      "[\n",
      "    {\n",
      "        \"idx\": 0,\n",
      "        \"level\": \"0\",\n",
      "        \"title\": \"Unraveling the “black-box” of artificial intelligence-based pathological analysis of liver cancer\",\n",
      "        \"intro\": \"A comprehensive exploration of the current advances, challenges, and strategies in applying AI for pathological analysis of liver cancer.\"\n",
      "    },\n",
      "    {\n",
      "        \"idx\": 1,\n",
      "        \"level\": \"1\",\n",
      "        \"title\": \"Current advances of AI-based approaches for clinical management of liver cancer\",\n",
      "        \"intro\": \"An overview of the latest developments in AI technologies and their applications in the clinical management of liver cancer.\"\n",
      "    },\n",
      "    {\n",
      "        \"idx\": 2,\n",
      "        \"level\": \"1.1\",\n",
      "        \"title\": \"AI-based prognostication of liver cancer\",\n",
      "        \"intro\": \"Discussion on how AI is being used to predict the progression and outcome of liver cancer.\"\n",
      "    },\n",
      "    {\n",
      "        \"idx\": 3,\n",
      "        \"level\": \"1.2\",\n",
      "        \"title\": \"Molecular profiling of liver cancer via AI\",\n",
      "        \"intro\": \"Insights into how AI is leveraged for molecular profiling of liver cancer for personalized treatment strategies.\"\n",
      "    },\n",
      "    {\n",
      "        \"idx\": 4,\n",
      "        \"level\": \"1.3\",\n",
      "        \"title\": \"Exploring predictive indicators for therapy response\",\n",
      "        \"intro\": \"Exploration of AI's role in identifying predictive indicators for therapy response in liver cancer treatment.\"\n",
      "    },\n",
      "    {\n",
      "        \"idx\": 5,\n",
      "        \"level\": \"2\",\n",
      "        \"title\": \"Current challenges limiting AI-based approaches in the management of liver cancer\",\n",
      "        \"intro\": \"A detailed analysis of the existing challenges and limitations in the use of AI for liver cancer management.\"\n",
      "    },\n",
      "    {\n",
      "        \"idx\": 6,\n",
      "        \"level\": \"3\",\n",
      "        \"title\": \"Strategies for unraveling the “black-box” of AI-based pathological analysis of liver cancer\",\n",
      "        \"intro\": \"A comprehensive discussion on various strategies to decode the complex workings of AI in pathological analysis of liver cancer.\"\n",
      "    },\n",
      "    {\n",
      "        \"idx\": 7,\n",
      "        \"level\": \"3.1\",\n",
      "        \"title\": \"Model-based explanation\",\n",
      "        \"intro\": \"An in-depth look into model-based explanations for AI's decision-making process in liver cancer analysis.\"\n",
      "    },\n",
      "    {\n",
      "        \"idx\": 8,\n",
      "        \"level\": \"3.1.1\",\n",
      "        \"title\": \"Support vector machine or random forests vs. deep learning\",\n",
      "        \"intro\": \"A comparative study of different AI models like support vector machines, random forests and deep learning for liver cancer analysis.\"\n",
      "    },\n",
      "    {\n",
      "        \"idx\": 9,\n",
      "        \"level\": \"3.1.2\",\n",
      "        \"title\": \"Supervised learning vs. weakly supervised learning vs. unsupervised learning\",\n",
      "        \"intro\": \"A thorough comparison of supervised, weakly supervised, and unsupervised learning approaches in AI for liver cancer analysis.\"\n",
      "    },\n",
      "    {\n",
      "        \"idx\": 10,\n",
      "        \"level\": \"3.1.3\",\n",
      "        \"title\": \"Textual explanation\",\n",
      "        \"intro\": \"Understanding how textual explanations can be generated from AI models for liver cancer analysis.\"\n",
      "    },\n",
      "    {\n",
      "        \"idx\": 11,\n",
      "        \"level\": \"3.1.3.1\",\n",
      "        \"title\": \"Image captioning\",\n",
      "        \"intro\": \"Insight into how AI can generate textual descriptions for pathological images in liver cancer analysis.\"\n",
      "    },\n",
      "    {\n",
      "        \"idx\": 12,\n",
      "        \"level\": \"3.1.3.2\",\n",
      "        \"title\": \"Image captioning with visual explanation\",\n",
      "        \"intro\": \"Discussion on how AI combines textual descriptions with visual explanations for a comprehensive understanding of liver cancer pathology.\"\n",
      "    },\n",
      "    {\n",
      "        \"idx\": 13,\n",
      "        \"level\": \"3.1.4\",\n",
      "        \"title\": \"Example-based explanation\",\n",
      "        \"intro\": \"Exploring how AI uses examples to provide explanations for its decisions in liver cancer analysis.\"\n",
      "    },\n",
      "    {\n",
      "        \"idx\": 14,\n",
      "        \"level\": \"3.1.4.1\",\n",
      "        \"title\": \"Triplet network\",\n",
      "        \"intro\": \"Understanding how the triplet network, an example-based explanation model, works in the context of AI-based liver cancer analysis.\"\n",
      "    },\n",
      "    {\n",
      "        \"idx\": 15,\n",
      "        \"level\": \"3.1.4.2\",\n",
      "        \"title\": \"Prototypes\",\n",
      "        \"intro\": \"Exploration of how prototypes are used as examples to explain AI decisions in liver cancer analysis.\"\n",
      "    },\n",
      "    {\n",
      "        \"idx\": 16,\n",
      "        \"level\": \"3.2\",\n",
      "        \"title\": \"Post hoc explanation\",\n",
      "        \"intro\": \"Discussion on post hoc explanations, which provide insights into AI decisions after they have been\n",
      "Response Tokens count: [1000] [stop]\n",
      "Continue ...\n",
      "Prompt Tokens count: [1717]\n",
      "[\n",
      "    ...\n",
      "    {\n",
      "        \"idx\": 16,\n",
      "        \"level\": \"3.2\",\n",
      "        \"title\": \"Post hoc explanation\",\n",
      "        \"intro\": \"Discussion on post hoc explanations, which provide insights into AI decisions after they have been made in the context of liver cancer analysis.\"\n",
      "    },\n",
      "    {\n",
      "        \"idx\": 17,\n",
      "        \"level\": \"3.2.1\",\n",
      "        \"title\": \"Visual explanation (saliency mapping, pathologist-in-the-loop)\",\n",
      "        \"intro\": \"Exploration of visual explanation techniques like saliency mapping and pathologist-in-the-loop in AI-based liver cancer analysis.\"\n",
      "    },\n",
      "    {\n",
      "        \"idx\": 18,\n",
      "        \"level\": \"3.2.1.1\",\n",
      "        \"title\": \"Backpropagation-based approaches\",\n",
      "        \"intro\": \"Insight into backpropagation-based approaches for visual explanation in AI-based liver cancer analysis.\"\n",
      "    },\n",
      "    {\n",
      "        \"idx\": 19,\n",
      "        \"level\": \"3.2.1.2\",\n",
      "        \"title\": \"Perturbation-based approaches\",\n",
      "        \"intro\": \"Understanding of perturbation-based approaches for providing visual explanations in AI-based liver cancer analysis.\"\n",
      "    },\n",
      "    {\n",
      "        \"idx\": 20,\n",
      "        \"level\": \"3.2.1.3\",\n",
      "        \"title\": \"Multiple instance learning-based approaches\",\n",
      "        \"intro\": \"Discussion on how multiple instance learning-based approaches contribute to visual explanations in AI-based liver cancer analysis.\"\n",
      "    },\n",
      "    {\n",
      "        \"idx\": 21,\n",
      "        \"level\": \"3.2.2\",\n",
      "        \"title\": \"Textual explanation\",\n",
      "        \"intro\": \"Insight into how textual explanations can be used in post hoc analysis of AI's decisions in liver cancer.\"\n",
      "    },\n",
      "    {\n",
      "        \"idx\": 22,\n",
      "        \"level\": \"3.2.3\",\n",
      "        \"title\": \"Example-based explanation\",\n",
      "        \"intro\": \"Exploring how example-based explanations can be used in post hoc analysis of AI's decisions in liver cancer.\"\n",
      "    },\n",
      "    {\n",
      "        \"idx\": 23,\n",
      "        \"level\": \"4\",\n",
      "        \"title\": \"Conclusion and future applications\",\n",
      "        \"intro\": \"Final thoughts on the current state of AI in liver cancer analysis and potential future developments in the field.\"\n",
      "    }\n",
      "]\n",
      "Response Tokens count: [474] [stop]\n"
     ]
    }
   ],
   "source": [
    "outline_filler.clear_history_messages()\n",
    "outline_filler_res = outline_filler.chat(outline_content, continous=True)"
   ]
  },
  {
   "cell_type": "raw",
   "id": "942bbdb9-1bb2-496a-9881-bc542f4e7779",
   "metadata": {},
   "source": [
    "A typical workflow of generate a detailed review of a section title:\n",
    "- [Agent] outline_filler: Fill in the outline with intros, and structuralize it to JSON with idx and levels.\n",
    "- [Agent] Synonymer: Generate similar texts for each sub-section\n",
    "- [Program] Retrieve and Re-rank from local embbedings of docs\n",
    "- [Agent] Summarizer: Summarize the above content into a section\n",
    "- [Agent] Polisher: Polish the content of the section"
   ]
  },
  {
   "cell_type": "code",
   "execution_count": 3,
   "id": "725ecc57-3a03-4931-b56d-16297893b51f",
   "metadata": {
    "collapsed": true,
    "jupyter": {
     "outputs_hidden": true
    },
    "scrolled": true
   },
   "outputs": [
    {
     "data": {
      "text/plain": [
       "[{'idx': 0,\n",
       "  'level': '0',\n",
       "  'title': 'Unraveling the “black-box” of artificial intelligence-based pathological analysis of liver cancer',\n",
       "  'intro': 'A comprehensive exploration of the current advances, challenges, and strategies in applying AI for pathological analysis of liver cancer.'},\n",
       " {'idx': 1,\n",
       "  'level': '1',\n",
       "  'title': 'Current advances of AI-based approaches for clinical management of liver cancer',\n",
       "  'intro': 'An overview of the latest developments in AI technologies and their applications in the clinical management of liver cancer.'},\n",
       " {'idx': 2,\n",
       "  'level': '1.1',\n",
       "  'title': 'AI-based prognostication of liver cancer',\n",
       "  'intro': 'Discussion on how AI is being used to predict the progression and outcome of liver cancer.'},\n",
       " {'idx': 3,\n",
       "  'level': '1.2',\n",
       "  'title': 'Molecular profiling of liver cancer via AI',\n",
       "  'intro': 'Insights into how AI is leveraged for molecular profiling of liver cancer for personalized treatment strategies.'},\n",
       " {'idx': 4,\n",
       "  'level': '1.3',\n",
       "  'title': 'Exploring predictive indicators for therapy response',\n",
       "  'intro': \"Exploration of AI's role in identifying predictive indicators for therapy response in liver cancer treatment.\"},\n",
       " {'idx': 5,\n",
       "  'level': '2',\n",
       "  'title': 'Current challenges limiting AI-based approaches in the management of liver cancer',\n",
       "  'intro': 'A detailed analysis of the existing challenges and limitations in the use of AI for liver cancer management.'},\n",
       " {'idx': 6,\n",
       "  'level': '3',\n",
       "  'title': 'Strategies for unraveling the “black-box” of AI-based pathological analysis of liver cancer',\n",
       "  'intro': 'A comprehensive discussion on various strategies to decode the complex workings of AI in pathological analysis of liver cancer.'},\n",
       " {'idx': 7,\n",
       "  'level': '3.1',\n",
       "  'title': 'Model-based explanation',\n",
       "  'intro': \"An in-depth look into model-based explanations for AI's decision-making process in liver cancer analysis.\"},\n",
       " {'idx': 8,\n",
       "  'level': '3.1.1',\n",
       "  'title': 'Support vector machine or random forests vs. deep learning',\n",
       "  'intro': 'A comparative study of different AI models like support vector machines, random forests and deep learning for liver cancer analysis.'},\n",
       " {'idx': 9,\n",
       "  'level': '3.1.2',\n",
       "  'title': 'Supervised learning vs. weakly supervised learning vs. unsupervised learning',\n",
       "  'intro': 'A thorough comparison of supervised, weakly supervised, and unsupervised learning approaches in AI for liver cancer analysis.'},\n",
       " {'idx': 10,\n",
       "  'level': '3.1.3',\n",
       "  'title': 'Textual explanation',\n",
       "  'intro': 'Understanding how textual explanations can be generated from AI models for liver cancer analysis.'},\n",
       " {'idx': 11,\n",
       "  'level': '3.1.3.1',\n",
       "  'title': 'Image captioning',\n",
       "  'intro': 'Insight into how AI can generate textual descriptions for pathological images in liver cancer analysis.'},\n",
       " {'idx': 12,\n",
       "  'level': '3.1.3.2',\n",
       "  'title': 'Image captioning with visual explanation',\n",
       "  'intro': 'Discussion on how AI combines textual descriptions with visual explanations for a comprehensive understanding of liver cancer pathology.'},\n",
       " {'idx': 13,\n",
       "  'level': '3.1.4',\n",
       "  'title': 'Example-based explanation',\n",
       "  'intro': 'Exploring how AI uses examples to provide explanations for its decisions in liver cancer analysis.'},\n",
       " {'idx': 14,\n",
       "  'level': '3.1.4.1',\n",
       "  'title': 'Triplet network',\n",
       "  'intro': 'Understanding how the triplet network, an example-based explanation model, works in the context of AI-based liver cancer analysis.'},\n",
       " {'idx': 15,\n",
       "  'level': '3.1.4.2',\n",
       "  'title': 'Prototypes',\n",
       "  'intro': 'Exploration of how prototypes are used as examples to explain AI decisions in liver cancer analysis.'},\n",
       " {'idx': 16,\n",
       "  'level': '3.2',\n",
       "  'title': 'Post hoc explanation',\n",
       "  'intro': 'Discussion on post hoc explanations, which provide insights into AI decisions after they have been made in the context of liver cancer analysis.'},\n",
       " {'idx': 17,\n",
       "  'level': '3.2.1',\n",
       "  'title': 'Visual explanation (saliency mapping, pathologist-in-the-loop)',\n",
       "  'intro': 'Exploration of visual explanation techniques like saliency mapping and pathologist-in-the-loop in AI-based liver cancer analysis.'},\n",
       " {'idx': 18,\n",
       "  'level': '3.2.1.1',\n",
       "  'title': 'Backpropagation-based approaches',\n",
       "  'intro': 'Insight into backpropagation-based approaches for visual explanation in AI-based liver cancer analysis.'},\n",
       " {'idx': 19,\n",
       "  'level': '3.2.1.2',\n",
       "  'title': 'Perturbation-based approaches',\n",
       "  'intro': 'Understanding of perturbation-based approaches for providing visual explanations in AI-based liver cancer analysis.'},\n",
       " {'idx': 20,\n",
       "  'level': '3.2.1.3',\n",
       "  'title': 'Multiple instance learning-based approaches',\n",
       "  'intro': 'Discussion on how multiple instance learning-based approaches contribute to visual explanations in AI-based liver cancer analysis.'},\n",
       " {'idx': 21,\n",
       "  'level': '3.2.2',\n",
       "  'title': 'Textual explanation',\n",
       "  'intro': \"Insight into how textual explanations can be used in post hoc analysis of AI's decisions in liver cancer.\"},\n",
       " {'idx': 22,\n",
       "  'level': '3.2.3',\n",
       "  'title': 'Example-based explanation',\n",
       "  'intro': \"Exploring how example-based explanations can be used in post hoc analysis of AI's decisions in liver cancer.\"},\n",
       " {'idx': 23,\n",
       "  'level': '4',\n",
       "  'title': 'Conclusion and future applications',\n",
       "  'intro': 'Final thoughts on the current state of AI in liver cancer analysis and potential future developments in the field.'}]"
      ]
     },
     "metadata": {},
     "output_type": "display_data"
    }
   ],
   "source": [
    "outline_details_json_path = \"data/review_outline_details.json\"\n",
    "with open(outline_details_json_path, \"r\", encoding=\"utf-8\") as rf:\n",
    "    outline_details_data = json.load(rf)\n",
    "display(outline_details_data)"
   ]
  },
  {
   "cell_type": "code",
   "execution_count": 2,
   "id": "0584f796-4bb1-4814-af20-6ad5fff56b53",
   "metadata": {},
   "outputs": [
    {
     "data": {
      "application/vnd.jupyter.widget-view+json": {
       "model_id": "e396003947ac4f7b87b9311c44dd4a3d",
       "version_major": 2,
       "version_minor": 0
      },
      "text/plain": [
       "HBox(children=(VBox(children=(Button(description='Summarize', icon='radiation', style=ButtonStyle(), tooltip='…"
      ]
     },
     "metadata": {},
     "output_type": "display_data"
    },
    {
     "data": {
      "application/vnd.jupyter.widget-view+json": {
       "model_id": "afe53cd54d104e2ab45726108f396d6c",
       "version_major": 2,
       "version_minor": 0
      },
      "text/plain": [
       "HBox(children=(VBox(children=(Button(description='Summarize', icon='radiation', style=ButtonStyle(), tooltip='…"
      ]
     },
     "metadata": {},
     "output_type": "display_data"
    },
    {
     "data": {
      "application/vnd.jupyter.widget-view+json": {
       "model_id": "adf190db615141d48557c985d8a50146",
       "version_major": 2,
       "version_minor": 0
      },
      "text/plain": [
       "HBox(children=(VBox(children=(Button(description='Summarize', icon='radiation', style=ButtonStyle(), tooltip='…"
      ]
     },
     "metadata": {},
     "output_type": "display_data"
    },
    {
     "data": {
      "application/vnd.jupyter.widget-view+json": {
       "model_id": "c19393afb61f40b6b65fb47a00bb6364",
       "version_major": 2,
       "version_minor": 0
      },
      "text/plain": [
       "HBox(children=(VBox(children=(Button(description='Summarize', icon='radiation', style=ButtonStyle(), tooltip='…"
      ]
     },
     "metadata": {},
     "output_type": "display_data"
    },
    {
     "data": {
      "application/vnd.jupyter.widget-view+json": {
       "model_id": "d65ed9516d9447dc88f1d9ed61c5dbc7",
       "version_major": 2,
       "version_minor": 0
      },
      "text/plain": [
       "HBox(children=(VBox(children=(Button(description='Summarize', icon='radiation', style=ButtonStyle(), tooltip='…"
      ]
     },
     "metadata": {},
     "output_type": "display_data"
    },
    {
     "data": {
      "application/vnd.jupyter.widget-view+json": {
       "model_id": "b2eb424af8354ff9b37c80698e4df103",
       "version_major": 2,
       "version_minor": 0
      },
      "text/plain": [
       "HBox(children=(VBox(children=(Button(description='Summarize', icon='radiation', style=ButtonStyle(), tooltip='…"
      ]
     },
     "metadata": {},
     "output_type": "display_data"
    },
    {
     "data": {
      "application/vnd.jupyter.widget-view+json": {
       "model_id": "b6730de4d2c14343980bea6119bd01dc",
       "version_major": 2,
       "version_minor": 0
      },
      "text/plain": [
       "HBox(children=(VBox(children=(Button(description='Summarize', icon='radiation', style=ButtonStyle(), tooltip='…"
      ]
     },
     "metadata": {},
     "output_type": "display_data"
    },
    {
     "data": {
      "application/vnd.jupyter.widget-view+json": {
       "model_id": "caa3a82241ab494e9f8f02db11e34c2b",
       "version_major": 2,
       "version_minor": 0
      },
      "text/plain": [
       "HBox(children=(VBox(children=(Button(description='Summarize', icon='radiation', style=ButtonStyle(), tooltip='…"
      ]
     },
     "metadata": {},
     "output_type": "display_data"
    },
    {
     "data": {
      "application/vnd.jupyter.widget-view+json": {
       "model_id": "3e5eb8897f054df2b272f5cf9d2c7669",
       "version_major": 2,
       "version_minor": 0
      },
      "text/plain": [
       "HBox(children=(VBox(children=(Button(description='Summarize', icon='radiation', style=ButtonStyle(), tooltip='…"
      ]
     },
     "metadata": {},
     "output_type": "display_data"
    },
    {
     "data": {
      "application/vnd.jupyter.widget-view+json": {
       "model_id": "a5e00c55ec60489391a9a3a75f72fcfc",
       "version_major": 2,
       "version_minor": 0
      },
      "text/plain": [
       "HBox(children=(VBox(children=(Button(description='Summarize', icon='radiation', style=ButtonStyle(), tooltip='…"
      ]
     },
     "metadata": {},
     "output_type": "display_data"
    },
    {
     "data": {
      "application/vnd.jupyter.widget-view+json": {
       "model_id": "eb060c89e52c44039abd13f8e62ffb31",
       "version_major": 2,
       "version_minor": 0
      },
      "text/plain": [
       "HBox(children=(VBox(children=(Button(description='Summarize', icon='radiation', style=ButtonStyle(), tooltip='…"
      ]
     },
     "metadata": {},
     "output_type": "display_data"
    },
    {
     "data": {
      "application/vnd.jupyter.widget-view+json": {
       "model_id": "2974b5bfd3044d35af923737dc928778",
       "version_major": 2,
       "version_minor": 0
      },
      "text/plain": [
       "HBox(children=(VBox(children=(Button(description='Summarize', icon='radiation', style=ButtonStyle(), tooltip='…"
      ]
     },
     "metadata": {},
     "output_type": "display_data"
    },
    {
     "data": {
      "application/vnd.jupyter.widget-view+json": {
       "model_id": "64765485c774453ab6a157678df839d6",
       "version_major": 2,
       "version_minor": 0
      },
      "text/plain": [
       "HBox(children=(VBox(children=(Button(description='Summarize', icon='radiation', style=ButtonStyle(), tooltip='…"
      ]
     },
     "metadata": {},
     "output_type": "display_data"
    },
    {
     "data": {
      "application/vnd.jupyter.widget-view+json": {
       "model_id": "0a29841c0f584a1bb14c3a61ce9bae4c",
       "version_major": 2,
       "version_minor": 0
      },
      "text/plain": [
       "HBox(children=(VBox(children=(Button(description='Summarize', icon='radiation', style=ButtonStyle(), tooltip='…"
      ]
     },
     "metadata": {},
     "output_type": "display_data"
    },
    {
     "data": {
      "application/vnd.jupyter.widget-view+json": {
       "model_id": "ff03c4e603444cffac7872404a9968c4",
       "version_major": 2,
       "version_minor": 0
      },
      "text/plain": [
       "HBox(children=(VBox(children=(Button(description='Summarize', icon='radiation', style=ButtonStyle(), tooltip='…"
      ]
     },
     "metadata": {},
     "output_type": "display_data"
    },
    {
     "data": {
      "application/vnd.jupyter.widget-view+json": {
       "model_id": "f029733ff53c4bfe8311b94353a4950e",
       "version_major": 2,
       "version_minor": 0
      },
      "text/plain": [
       "HBox(children=(VBox(children=(Button(description='Summarize', icon='radiation', style=ButtonStyle(), tooltip='…"
      ]
     },
     "metadata": {},
     "output_type": "display_data"
    },
    {
     "data": {
      "application/vnd.jupyter.widget-view+json": {
       "model_id": "d304f8ddf4654896bc4b37d1fa4b9662",
       "version_major": 2,
       "version_minor": 0
      },
      "text/plain": [
       "HBox(children=(VBox(children=(Button(description='Summarize', icon='radiation', style=ButtonStyle(), tooltip='…"
      ]
     },
     "metadata": {},
     "output_type": "display_data"
    },
    {
     "data": {
      "application/vnd.jupyter.widget-view+json": {
       "model_id": "0a6d2e3258d444eba33e1b1a300dab17",
       "version_major": 2,
       "version_minor": 0
      },
      "text/plain": [
       "HBox(children=(VBox(children=(Button(description='Summarize', icon='radiation', style=ButtonStyle(), tooltip='…"
      ]
     },
     "metadata": {},
     "output_type": "display_data"
    },
    {
     "data": {
      "application/vnd.jupyter.widget-view+json": {
       "model_id": "09829d6efb7340fc8837737da6d8d339",
       "version_major": 2,
       "version_minor": 0
      },
      "text/plain": [
       "HBox(children=(VBox(children=(Button(description='Summarize', icon='radiation', style=ButtonStyle(), tooltip='…"
      ]
     },
     "metadata": {},
     "output_type": "display_data"
    },
    {
     "data": {
      "application/vnd.jupyter.widget-view+json": {
       "model_id": "74c6bf40214e4e14beade17663320a73",
       "version_major": 2,
       "version_minor": 0
      },
      "text/plain": [
       "HBox(children=(VBox(children=(Button(description='Summarize', icon='radiation', style=ButtonStyle(), tooltip='…"
      ]
     },
     "metadata": {},
     "output_type": "display_data"
    },
    {
     "data": {
      "application/vnd.jupyter.widget-view+json": {
       "model_id": "91ffe0637e734dec811df300c5d7459b",
       "version_major": 2,
       "version_minor": 0
      },
      "text/plain": [
       "HBox(children=(VBox(children=(Button(description='Summarize', icon='radiation', style=ButtonStyle(), tooltip='…"
      ]
     },
     "metadata": {},
     "output_type": "display_data"
    },
    {
     "data": {
      "application/vnd.jupyter.widget-view+json": {
       "model_id": "179986c2826f43cb8fb40f3e540c5e8e",
       "version_major": 2,
       "version_minor": 0
      },
      "text/plain": [
       "HBox(children=(VBox(children=(Button(description='Summarize', icon='radiation', style=ButtonStyle(), tooltip='…"
      ]
     },
     "metadata": {},
     "output_type": "display_data"
    },
    {
     "data": {
      "application/vnd.jupyter.widget-view+json": {
       "model_id": "1be578059edd4dc59f4078da21dc8721",
       "version_major": 2,
       "version_minor": 0
      },
      "text/plain": [
       "HBox(children=(VBox(children=(Button(description='Summarize', icon='radiation', style=ButtonStyle(), tooltip='…"
      ]
     },
     "metadata": {},
     "output_type": "display_data"
    },
    {
     "data": {
      "application/vnd.jupyter.widget-view+json": {
       "model_id": "635d9c9278294e27b6a9aea2618ef75c",
       "version_major": 2,
       "version_minor": 0
      },
      "text/plain": [
       "HBox(children=(VBox(children=(Button(description='Summarize', icon='radiation', style=ButtonStyle(), tooltip='…"
      ]
     },
     "metadata": {},
     "output_type": "display_data"
    }
   ],
   "source": [
    "section_viewer_tree = SectionViewerTree(\"cancer_review\")"
   ]
  }
 ],
 "metadata": {
  "kernelspec": {
   "display_name": "Python 3 (ipykernel)",
   "language": "python",
   "name": "python3"
  },
  "language_info": {
   "codemirror_mode": {
    "name": "ipython",
    "version": 3
   },
   "file_extension": ".py",
   "mimetype": "text/x-python",
   "name": "python",
   "nbconvert_exporter": "python",
   "pygments_lexer": "ipython3",
   "version": "3.11.4"
  },
  "widgets": {
   "application/vnd.jupyter.widget-state+json": {
    "state": {
     "000ca209b3fc4d9db57b78f8499c274f": {
      "model_module": "@jupyter-widgets/base",
      "model_module_version": "2.0.0",
      "model_name": "LayoutModel",
      "state": {
       "justify_content": "flex-start",
       "width": "90%"
      }
     },
     "006c72e7a3344b689695abc5152c9248": {
      "model_module": "@jupyter-widgets/controls",
      "model_module_version": "2.0.0",
      "model_name": "ButtonModel",
      "state": {
       "description": "Summarize",
       "icon": "radiation",
       "layout": "IPY_MODEL_2eb0a11bc1df46a196c5cbb58966f492",
       "style": "IPY_MODEL_d718052931e5495aadf0e154ad7e0fa6",
       "tooltip": "Summarize this section based on the topic and intro"
      }
     },
     "00c987801ccd4a1ebcfccaf5841715b5": {
      "model_module": "@jupyter-widgets/controls",
      "model_module_version": "2.0.0",
      "model_name": "ButtonStyleModel",
      "state": {
       "font_family": null,
       "font_size": null,
       "font_style": null,
       "font_variant": null,
       "font_weight": null,
       "text_color": null,
       "text_decoration": null
      }
     },
     "00ee63787b124e00ba4b367a95130218": {
      "model_module": "@jupyter-widgets/controls",
      "model_module_version": "2.0.0",
      "model_name": "ButtonModel",
      "state": {
       "description": "Translate",
       "icon": "language",
       "layout": "IPY_MODEL_a19ebc25a3d646349d47641f3dc3b76e",
       "style": "IPY_MODEL_3adbec0f5d3d42a286d8bc689a87a4bb",
       "tooltip": "Click and translate the details for this section"
      }
     },
     "0106e862b44c4d26b87b587e57006204": {
      "model_module": "@jupyter-widgets/controls",
      "model_module_version": "2.0.0",
      "model_name": "TextModel",
      "state": {
       "description": "Words",
       "layout": "IPY_MODEL_1305906fda2a408ca0bfe930866a0be9",
       "placeholder": "",
       "style": "IPY_MODEL_29e8652e778c4e42b1976294f3788eb2",
       "value": "500"
      }
     },
     "011aa5ffbdc74dbd98b19064bd075ea3": {
      "model_module": "@jupyter-widgets/base",
      "model_module_version": "2.0.0",
      "model_name": "LayoutModel",
      "state": {
       "justify_content": "flex-start",
       "width": "90%"
      }
     },
     "016e5703d03a47d9a076501d1bc75087": {
      "model_module": "@jupyter-widgets/base",
      "model_module_version": "2.0.0",
      "model_name": "LayoutModel",
      "state": {}
     },
     "01705b4852ad4952889bfaba7920d434": {
      "model_module": "@jupyter-widgets/output",
      "model_module_version": "1.0.0",
      "model_name": "OutputModel",
      "state": {
       "layout": "IPY_MODEL_abba28932095437cb8f2307111ea55a2"
      }
     },
     "0175f856d66e4f6d9d6eac4e90d1a496": {
      "model_module": "@jupyter-widgets/controls",
      "model_module_version": "2.0.0",
      "model_name": "TextStyleModel",
      "state": {
       "description_width": "50px",
       "font_size": null,
       "text_color": null
      }
     },
     "01b91c4b75eb4d0c88eb7da1faa2cf1f": {
      "model_module": "@jupyter-widgets/output",
      "model_module_version": "1.0.0",
      "model_name": "OutputModel",
      "state": {
       "layout": "IPY_MODEL_c285af7bbf9b42fda6eaffc46b673a1d"
      }
     },
     "028fd547023f490fa1dcd2a11c6f2a06": {
      "model_module": "@jupyter-widgets/base",
      "model_module_version": "2.0.0",
      "model_name": "LayoutModel",
      "state": {}
     },
     "033e401192b5430390597b98860329bb": {
      "model_module": "@jupyter-widgets/base",
      "model_module_version": "2.0.0",
      "model_name": "LayoutModel",
      "state": {
       "justify_content": "flex-start",
       "width": "90%"
      }
     },
     "04e3abada98748688a813765ae81b883": {
      "model_module": "@jupyter-widgets/base",
      "model_module_version": "2.0.0",
      "model_name": "LayoutModel",
      "state": {}
     },
     "04e59b8b241b45ac99d9f1dc35fb0e3e": {
      "model_module": "@jupyter-widgets/base",
      "model_module_version": "2.0.0",
      "model_name": "LayoutModel",
      "state": {
       "width": "50%"
      }
     },
     "04fe286fcafd4d30adc3f38cd2f16e9e": {
      "model_module": "@jupyter-widgets/controls",
      "model_module_version": "2.0.0",
      "model_name": "HTMLStyleModel",
      "state": {
       "description_width": "",
       "font_size": null,
       "text_color": null
      }
     },
     "057d4403d8fa4fcaba1c05537cb9e009": {
      "model_module": "@jupyter-widgets/base",
      "model_module_version": "2.0.0",
      "model_name": "LayoutModel",
      "state": {}
     },
     "057f9346252e45dbb2e6b06234a5c10a": {
      "model_module": "@jupyter-widgets/output",
      "model_module_version": "1.0.0",
      "model_name": "OutputModel",
      "state": {
       "layout": "IPY_MODEL_2396d047f3d34205a92afd0240179552"
      }
     },
     "058987223d264f929711c007c2677e7c": {
      "model_module": "@jupyter-widgets/base",
      "model_module_version": "2.0.0",
      "model_name": "LayoutModel",
      "state": {}
     },
     "05b18dd482614473b860a259150b3d47": {
      "model_module": "@jupyter-widgets/base",
      "model_module_version": "2.0.0",
      "model_name": "LayoutModel",
      "state": {
       "justify_content": "flex-start",
       "width": "90%"
      }
     },
     "06d0fa2e1d214e2b92acacce29198da6": {
      "model_module": "@jupyter-widgets/controls",
      "model_module_version": "2.0.0",
      "model_name": "VBoxModel",
      "state": {
       "children": [
        "IPY_MODEL_35b369abb4dc4c5080f3799f35646ef1",
        "IPY_MODEL_946e1ba6d4644627b0891729fecb521f",
        "IPY_MODEL_ce00439e6bb64376a5c300d36f45c684",
        "IPY_MODEL_6526224b02984a5bb8c2cb5a41b80778",
        "IPY_MODEL_c183dedbea5849649b77c0b08c30710a"
       ],
       "layout": "IPY_MODEL_296847601b5c4e2d9ec400b2e149538a"
      }
     },
     "073df46f430647c0910c9947916d131e": {
      "model_module": "@jupyter-widgets/controls",
      "model_module_version": "2.0.0",
      "model_name": "ButtonStyleModel",
      "state": {
       "font_family": null,
       "font_size": null,
       "font_style": null,
       "font_variant": null,
       "font_weight": null,
       "text_color": null,
       "text_decoration": null
      }
     },
     "07a61df22d204af4a9fc9c5762d5bba6": {
      "model_module": "@jupyter-widgets/base",
      "model_module_version": "2.0.0",
      "model_name": "LayoutModel",
      "state": {}
     },
     "08a4ce43435e4a0c83686174dfc45cc9": {
      "model_module": "@jupyter-widgets/controls",
      "model_module_version": "2.0.0",
      "model_name": "HTMLStyleModel",
      "state": {
       "description_width": "",
       "font_size": null,
       "text_color": null
      }
     },
     "09829d6efb7340fc8837737da6d8d339": {
      "model_module": "@jupyter-widgets/controls",
      "model_module_version": "2.0.0",
      "model_name": "HBoxModel",
      "state": {
       "children": [
        "IPY_MODEL_ae69dc39f41842eba6d5a6bd62fa3ac2",
        "IPY_MODEL_a08164ffcc8345648307ff3895834851"
       ],
       "layout": "IPY_MODEL_855069f159074e96b562260ee4ec386e"
      }
     },
     "099d123ffecf44118f0d15a90fc7f111": {
      "model_module": "@jupyter-widgets/base",
      "model_module_version": "2.0.0",
      "model_name": "LayoutModel",
      "state": {
       "height": "50%",
       "width": "50%"
      }
     },
     "09fcaa3269564aa5b3beeb5da67ba4b8": {
      "model_module": "@jupyter-widgets/controls",
      "model_module_version": "2.0.0",
      "model_name": "HTMLStyleModel",
      "state": {
       "description_width": "",
       "font_size": null,
       "text_color": null
      }
     },
     "0a29841c0f584a1bb14c3a61ce9bae4c": {
      "model_module": "@jupyter-widgets/controls",
      "model_module_version": "2.0.0",
      "model_name": "HBoxModel",
      "state": {
       "children": [
        "IPY_MODEL_1c523fbd3b8c4287bf162a47d2d9968b",
        "IPY_MODEL_731f63228e84478f835bd4583c5a1aea"
       ],
       "layout": "IPY_MODEL_4cda9c928bc7414a954c31ee09c764a5"
      }
     },
     "0a54f2cee34740b9bac58190b3d65d34": {
      "model_module": "@jupyter-widgets/controls",
      "model_module_version": "2.0.0",
      "model_name": "ButtonModel",
      "state": {
       "description": "Translate",
       "icon": "language",
       "layout": "IPY_MODEL_57751185b80c43ca9d27220cd2510859",
       "style": "IPY_MODEL_ac1e83c1273044b5841056afcf1c6d8a",
       "tooltip": "Click and translate the details for this section"
      }
     },
     "0a6d2e3258d444eba33e1b1a300dab17": {
      "model_module": "@jupyter-widgets/controls",
      "model_module_version": "2.0.0",
      "model_name": "HBoxModel",
      "state": {
       "children": [
        "IPY_MODEL_c9c34c729a7846c887dcc8b31413767b",
        "IPY_MODEL_6eb886ef0dc441b7a38391c7af3ac55b"
       ],
       "layout": "IPY_MODEL_7848a6c2d24f41d1a71c63e06c65b800"
      }
     },
     "0aefcbc13c9c4c4e94a2ce5a3519ac3d": {
      "model_module": "@jupyter-widgets/base",
      "model_module_version": "2.0.0",
      "model_name": "LayoutModel",
      "state": {
       "justify_content": "flex-start",
       "width": "90%"
      }
     },
     "0af3cf41be894d50b211989ad7271c95": {
      "model_module": "@jupyter-widgets/controls",
      "model_module_version": "2.0.0",
      "model_name": "TextStyleModel",
      "state": {
       "description_width": "50px",
       "font_size": null,
       "text_color": null
      }
     },
     "0b2eb5b409854fbfa15e69a23d62ea8d": {
      "model_module": "@jupyter-widgets/base",
      "model_module_version": "2.0.0",
      "model_name": "LayoutModel",
      "state": {
       "height": "50%",
       "width": "50%"
      }
     },
     "0b60f684e5c846b79ea79809b309652d": {
      "model_module": "@jupyter-widgets/base",
      "model_module_version": "2.0.0",
      "model_name": "LayoutModel",
      "state": {
       "justify_content": "flex-start",
       "width": "90%"
      }
     },
     "0bdbfe6c03d64990af589a380b477b56": {
      "model_module": "@jupyter-widgets/output",
      "model_module_version": "1.0.0",
      "model_name": "OutputModel",
      "state": {
       "layout": "IPY_MODEL_8298373e092e4a39b3d18a0a66f68081"
      }
     },
     "0be65da133a54e73b1cc68c3f31f5138": {
      "model_module": "@jupyter-widgets/controls",
      "model_module_version": "2.0.0",
      "model_name": "HTMLModel",
      "state": {
       "layout": "IPY_MODEL_c8c9e48ead1a4018be5bbdfda9993707",
       "style": "IPY_MODEL_de7d81c225a24a7099d19f05b2369cc2",
       "value": "Insight into backpropagation-based approaches for visual explanation in AI-based liver cancer analysis."
      }
     },
     "0c5dda7d903040b3a2feb4a2c28ae5d9": {
      "model_module": "@jupyter-widgets/base",
      "model_module_version": "2.0.0",
      "model_name": "LayoutModel",
      "state": {}
     },
     "0c8418bb30bd4ca39fbcd82ba2c5456f": {
      "model_module": "@jupyter-widgets/controls",
      "model_module_version": "2.0.0",
      "model_name": "TextStyleModel",
      "state": {
       "description_width": "50px",
       "font_size": null,
       "text_color": null
      }
     },
     "0cc3d0e102ef4bbabd0ea379a34bd6cd": {
      "model_module": "@jupyter-widgets/controls",
      "model_module_version": "2.0.0",
      "model_name": "TextStyleModel",
      "state": {
       "description_width": "50px",
       "font_size": null,
       "text_color": null
      }
     },
     "0dd0eb6494bb413fb85fec750c2dbbd6": {
      "model_module": "@jupyter-widgets/base",
      "model_module_version": "2.0.0",
      "model_name": "LayoutModel",
      "state": {}
     },
     "0ea8870c911e4331975f0b813fa63361": {
      "model_module": "@jupyter-widgets/controls",
      "model_module_version": "2.0.0",
      "model_name": "ButtonModel",
      "state": {
       "description": "Translate",
       "icon": "language",
       "layout": "IPY_MODEL_e44596f3a494484aaf112d86f5d9fe17",
       "style": "IPY_MODEL_2c6022b4c0e9486ca2d208f5fd12c29b",
       "tooltip": "Click and translate the details for this section"
      }
     },
     "0f4ae3f9a3c64da6905250dda964466d": {
      "model_module": "@jupyter-widgets/controls",
      "model_module_version": "2.0.0",
      "model_name": "TextModel",
      "state": {
       "description": "Prompt",
       "layout": "IPY_MODEL_9b329dc03b594939a0ae31e3f92277b2",
       "placeholder": "",
       "style": "IPY_MODEL_ec299218aadb48628c52141feb462984"
      }
     },
     "1014460e154e455eab8c6c8f6125ca01": {
      "model_module": "@jupyter-widgets/base",
      "model_module_version": "2.0.0",
      "model_name": "LayoutModel",
      "state": {
       "justify_content": "flex-start",
       "width": "90%"
      }
     },
     "10312395aab04150a5c60b69b5bd9d07": {
      "model_module": "@jupyter-widgets/controls",
      "model_module_version": "2.0.0",
      "model_name": "TextStyleModel",
      "state": {
       "description_width": "50px",
       "font_size": null,
       "text_color": null
      }
     },
     "108d5ba746e54fb1a6f73d9131705d98": {
      "model_module": "@jupyter-widgets/controls",
      "model_module_version": "2.0.0",
      "model_name": "TextStyleModel",
      "state": {
       "description_width": "50px",
       "font_size": null,
       "text_color": null
      }
     },
     "10b368e0dd374ec4a65c3b9ba7f0a09b": {
      "model_module": "@jupyter-widgets/controls",
      "model_module_version": "2.0.0",
      "model_name": "TextModel",
      "state": {
       "description": "Prompt",
       "layout": "IPY_MODEL_011aa5ffbdc74dbd98b19064bd075ea3",
       "placeholder": "",
       "style": "IPY_MODEL_9fee8a1d68874010bf83f9ef380f2574"
      }
     },
     "10c14cf2d2a14215aef30892b0671da4": {
      "model_module": "@jupyter-widgets/controls",
      "model_module_version": "2.0.0",
      "model_name": "ButtonStyleModel",
      "state": {
       "font_family": null,
       "font_size": null,
       "font_style": null,
       "font_variant": null,
       "font_weight": null,
       "text_color": null,
       "text_decoration": null
      }
     },
     "11566a1aaa8546ceb39b1188103bca4d": {
      "model_module": "@jupyter-widgets/controls",
      "model_module_version": "2.0.0",
      "model_name": "ButtonStyleModel",
      "state": {
       "font_family": null,
       "font_size": null,
       "font_style": null,
       "font_variant": null,
       "font_weight": null,
       "text_color": null,
       "text_decoration": null
      }
     },
     "1159a394fa3c4e93b6384566ac040a0a": {
      "model_module": "@jupyter-widgets/controls",
      "model_module_version": "2.0.0",
      "model_name": "HTMLModel",
      "state": {
       "layout": "IPY_MODEL_645b1596799448758e10ba876310ebb0",
       "style": "IPY_MODEL_328362d22e154ac4bfd11add26dc9329",
       "value": "Insight into how textual explanations can be used in post hoc analysis of AI's decisions in liver cancer."
      }
     },
     "11a0b4e026d94a2d9f420ed3367d79da": {
      "model_module": "@jupyter-widgets/controls",
      "model_module_version": "2.0.0",
      "model_name": "HTMLModel",
      "state": {
       "layout": "IPY_MODEL_84b498ba26c0497a99bbdb02e462ca86",
       "style": "IPY_MODEL_937f8bc0b5e947e7ad98fbb56e0fd424",
       "value": "Exploration of AI's role in identifying predictive indicators for therapy response in liver cancer treatment."
      }
     },
     "11c5e56b6aa44a94a60de4bf918ae498": {
      "model_module": "@jupyter-widgets/output",
      "model_module_version": "1.0.0",
      "model_name": "OutputModel",
      "state": {
       "layout": "IPY_MODEL_c1a71593b88045b4ba4e9bf8fdb8533f"
      }
     },
     "12c61a7f46df4e84a1b41324c61a369b": {
      "model_module": "@jupyter-widgets/base",
      "model_module_version": "2.0.0",
      "model_name": "LayoutModel",
      "state": {
       "height": "50%",
       "width": "50%"
      }
     },
     "1305906fda2a408ca0bfe930866a0be9": {
      "model_module": "@jupyter-widgets/base",
      "model_module_version": "2.0.0",
      "model_name": "LayoutModel",
      "state": {
       "justify_content": "flex-start",
       "width": "90%"
      }
     },
     "138d6b2cd7794d1dafaabeecff76be9c": {
      "model_module": "@jupyter-widgets/controls",
      "model_module_version": "2.0.0",
      "model_name": "TextStyleModel",
      "state": {
       "description_width": "50px",
       "font_size": null,
       "text_color": null
      }
     },
     "142c082f74134b2289d15486bd623a6a": {
      "model_module": "@jupyter-widgets/base",
      "model_module_version": "2.0.0",
      "model_name": "LayoutModel",
      "state": {}
     },
     "14d5f88ac6f44d3693f262fae3b502a2": {
      "model_module": "@jupyter-widgets/controls",
      "model_module_version": "2.0.0",
      "model_name": "TextStyleModel",
      "state": {
       "description_width": "50px",
       "font_size": null,
       "text_color": null
      }
     },
     "153d93987fb14854bcf9bc48c1a50809": {
      "model_module": "@jupyter-widgets/controls",
      "model_module_version": "2.0.0",
      "model_name": "HTMLStyleModel",
      "state": {
       "description_width": "",
       "font_size": null,
       "text_color": null
      }
     },
     "15860aa5dd20433d92cd7ed4f463dec8": {
      "model_module": "@jupyter-widgets/base",
      "model_module_version": "2.0.0",
      "model_name": "LayoutModel",
      "state": {}
     },
     "15aaac86d7bd4ced9b79c5ee0c16dda6": {
      "model_module": "@jupyter-widgets/controls",
      "model_module_version": "2.0.0",
      "model_name": "TextStyleModel",
      "state": {
       "description_width": "50px",
       "font_size": null,
       "text_color": null
      }
     },
     "16e3ceaa60ba4aad853a6788de82807e": {
      "model_module": "@jupyter-widgets/controls",
      "model_module_version": "2.0.0",
      "model_name": "TextStyleModel",
      "state": {
       "description_width": "50px",
       "font_size": null,
       "text_color": null
      }
     },
     "174ce9d9c3124fa5b036c9f75aef9b6e": {
      "model_module": "@jupyter-widgets/base",
      "model_module_version": "2.0.0",
      "model_name": "LayoutModel",
      "state": {}
     },
     "179986c2826f43cb8fb40f3e540c5e8e": {
      "model_module": "@jupyter-widgets/controls",
      "model_module_version": "2.0.0",
      "model_name": "HBoxModel",
      "state": {
       "children": [
        "IPY_MODEL_91c2a03c28e74448a0f019c274868ff8",
        "IPY_MODEL_3e2ce4c77193430f8485e3b011f528ae"
       ],
       "layout": "IPY_MODEL_47ce3aa8dcda45699cff158a9ee3ee3b"
      }
     },
     "17bd7ed9cf1c4a578b643b0dc6019d41": {
      "model_module": "@jupyter-widgets/controls",
      "model_module_version": "2.0.0",
      "model_name": "ButtonStyleModel",
      "state": {
       "font_family": null,
       "font_size": null,
       "font_style": null,
       "font_variant": null,
       "font_weight": null,
       "text_color": null,
       "text_decoration": null
      }
     },
     "1990955f6ac944e5ab720093c49df6ef": {
      "model_module": "@jupyter-widgets/controls",
      "model_module_version": "2.0.0",
      "model_name": "VBoxModel",
      "state": {
       "children": [
        "IPY_MODEL_c76e273c9c814179815a034967ffe34e",
        "IPY_MODEL_4e4c827fad3540eb96fbe5aa91e71bbc",
        "IPY_MODEL_dd2c64f7d47645cea419ad58833279de",
        "IPY_MODEL_9c2ae665eae249cd98d83a96fb84aa26",
        "IPY_MODEL_66bf05397ece4bfcaf849f137e7d015c"
       ],
       "layout": "IPY_MODEL_4dea036fa9a244edb93017403ce646ed"
      }
     },
     "19d1d0f3bc934a5b9e468345be073f53": {
      "model_module": "@jupyter-widgets/controls",
      "model_module_version": "2.0.0",
      "model_name": "TextModel",
      "state": {
       "description": "Prompt",
       "layout": "IPY_MODEL_4b419b8fb25d46029c4db002320bfc6c",
       "placeholder": "",
       "style": "IPY_MODEL_2d0a35401596450eaa98fe62d4e85561"
      }
     },
     "1a184e08e986471080589d3ff8d17b99": {
      "model_module": "@jupyter-widgets/base",
      "model_module_version": "2.0.0",
      "model_name": "LayoutModel",
      "state": {
       "justify_content": "flex-start",
       "width": "90%"
      }
     },
     "1ae4012ebfcd4ab699129c7f628bfa4e": {
      "model_module": "@jupyter-widgets/base",
      "model_module_version": "2.0.0",
      "model_name": "LayoutModel",
      "state": {}
     },
     "1b266b388ebd410d87550251f98a4a8f": {
      "model_module": "@jupyter-widgets/controls",
      "model_module_version": "2.0.0",
      "model_name": "ButtonStyleModel",
      "state": {
       "font_family": null,
       "font_size": null,
       "font_style": null,
       "font_variant": null,
       "font_weight": null,
       "text_color": null,
       "text_decoration": null
      }
     },
     "1be4961b78d648a08687817737253474": {
      "model_module": "@jupyter-widgets/controls",
      "model_module_version": "2.0.0",
      "model_name": "HTMLModel",
      "state": {
       "layout": "IPY_MODEL_54c17e3ba8cb43aba002ee249aa13fde",
       "style": "IPY_MODEL_6d94e8e664bf4069872414f275230360",
       "value": "Discussion on post hoc explanations, which provide insights into AI decisions after they have been made in the context of liver cancer analysis."
      }
     },
     "1be578059edd4dc59f4078da21dc8721": {
      "model_module": "@jupyter-widgets/controls",
      "model_module_version": "2.0.0",
      "model_name": "HBoxModel",
      "state": {
       "children": [
        "IPY_MODEL_6a8a122d907d4feca9333e679855541a",
        "IPY_MODEL_8470facda54f45ce913ee299c5ae6dd9"
       ],
       "layout": "IPY_MODEL_998a62dc98584fed8b2e44ca0f9882b9"
      }
     },
     "1c523fbd3b8c4287bf162a47d2d9968b": {
      "model_module": "@jupyter-widgets/controls",
      "model_module_version": "2.0.0",
      "model_name": "VBoxModel",
      "state": {
       "children": [
        "IPY_MODEL_9c7437f72de5419084a4e122d2308267",
        "IPY_MODEL_dfac01806352444e9bcea24b16fd07b5",
        "IPY_MODEL_678e3ec872d74014b8b7d9aa375a7989",
        "IPY_MODEL_4dd73ee56a8d40beb58ab201d64744ee",
        "IPY_MODEL_4eac3a390a494f4ca781ea44edc70a50"
       ],
       "layout": "IPY_MODEL_20d797ff77ca43b6b95d7c7fa96ced87"
      }
     },
     "1c70d096925440c290cd5109f8648a26": {
      "model_module": "@jupyter-widgets/controls",
      "model_module_version": "2.0.0",
      "model_name": "HTMLStyleModel",
      "state": {
       "description_width": "",
       "font_size": null,
       "text_color": null
      }
     },
     "1cd458d737c34f3bb3908337fc032a78": {
      "model_module": "@jupyter-widgets/controls",
      "model_module_version": "2.0.0",
      "model_name": "TextStyleModel",
      "state": {
       "description_width": "50px",
       "font_size": null,
       "text_color": null
      }
     },
     "1db65d8d57e9417596e185166ddde904": {
      "model_module": "@jupyter-widgets/base",
      "model_module_version": "2.0.0",
      "model_name": "LayoutModel",
      "state": {
       "justify_content": "flex-start",
       "width": "90%"
      }
     },
     "1de881f9a6494bb1b257b8954c18e0aa": {
      "model_module": "@jupyter-widgets/base",
      "model_module_version": "2.0.0",
      "model_name": "LayoutModel",
      "state": {
       "width": "50%"
      }
     },
     "1e14b5f53a8e4378be7e72f6d329de42": {
      "model_module": "@jupyter-widgets/controls",
      "model_module_version": "2.0.0",
      "model_name": "TextModel",
      "state": {
       "description": "Title",
       "layout": "IPY_MODEL_a4d75136c9004bbdb3692d0e60a12296",
       "style": "IPY_MODEL_f7877afbc48f4f4487b90de392d24dc2",
       "value": "3.2: Post hoc explanation"
      }
     },
     "1ecc6e0f1f1044d79f08d21b7ddefa3c": {
      "model_module": "@jupyter-widgets/base",
      "model_module_version": "2.0.0",
      "model_name": "LayoutModel",
      "state": {
       "justify_content": "flex-start",
       "width": "90%"
      }
     },
     "1f2407c55ac34ed789544d73bd901a71": {
      "model_module": "@jupyter-widgets/base",
      "model_module_version": "2.0.0",
      "model_name": "LayoutModel",
      "state": {
       "justify_content": "flex-start",
       "width": "90%"
      }
     },
     "1f7c68be78bb4819bc534ebafecd4c09": {
      "model_module": "@jupyter-widgets/controls",
      "model_module_version": "2.0.0",
      "model_name": "TextModel",
      "state": {
       "description": "Words",
       "layout": "IPY_MODEL_6ef81647d1384e66aca2cb81c0ac3428",
       "placeholder": "",
       "style": "IPY_MODEL_d3a2264f416c49bcb701ba9432f54c8f",
       "value": "500"
      }
     },
     "20058c222e1e4c548d772199f27bb2f9": {
      "model_module": "@jupyter-widgets/controls",
      "model_module_version": "2.0.0",
      "model_name": "TextStyleModel",
      "state": {
       "description_width": "50px",
       "font_size": null,
       "text_color": null
      }
     },
     "205eddc83ec84b89ad65e56efd17a698": {
      "model_module": "@jupyter-widgets/controls",
      "model_module_version": "2.0.0",
      "model_name": "VBoxModel",
      "state": {
       "children": [
        "IPY_MODEL_98a5fbf4e7c24d1d9e9aaf45c7d4f1d4"
       ],
       "layout": "IPY_MODEL_e737300d79e1400ab25496fafa23ffd3"
      }
     },
     "2089cd851b6049a5a042182e0b8cc9b1": {
      "model_module": "@jupyter-widgets/base",
      "model_module_version": "2.0.0",
      "model_name": "LayoutModel",
      "state": {}
     },
     "20d1aa64411e45c9adf7f8e89a900b99": {
      "model_module": "@jupyter-widgets/controls",
      "model_module_version": "2.0.0",
      "model_name": "VBoxModel",
      "state": {
       "children": [
        "IPY_MODEL_84caa05eb9e9403b97c063a4f1ac8bc3"
       ],
       "layout": "IPY_MODEL_5038e397a684435ebefb7ea93f2050bc"
      }
     },
     "20d797ff77ca43b6b95d7c7fa96ced87": {
      "model_module": "@jupyter-widgets/base",
      "model_module_version": "2.0.0",
      "model_name": "LayoutModel",
      "state": {
       "width": "50%"
      }
     },
     "213db28c9a16426e8739ded79af35ad5": {
      "model_module": "@jupyter-widgets/controls",
      "model_module_version": "2.0.0",
      "model_name": "TextModel",
      "state": {
       "description": "Title",
       "layout": "IPY_MODEL_311f0b1d06764de7ba0a74a023a846af",
       "style": "IPY_MODEL_5a442a046fa847a4aac15c4f4c6933f8",
       "value": "3.1.3.1: Image captioning"
      }
     },
     "21bbcf9311f144beae9735cfa4a32df3": {
      "model_module": "@jupyter-widgets/controls",
      "model_module_version": "2.0.0",
      "model_name": "ButtonStyleModel",
      "state": {
       "font_family": null,
       "font_size": null,
       "font_style": null,
       "font_variant": null,
       "font_weight": null,
       "text_color": null,
       "text_decoration": null
      }
     },
     "21ea8fa648fd4d2fb492b4231b8ab18e": {
      "model_module": "@jupyter-widgets/output",
      "model_module_version": "1.0.0",
      "model_name": "OutputModel",
      "state": {
       "layout": "IPY_MODEL_b77f3f30a44c49cfb3b8b180b40b505b"
      }
     },
     "2211499abdb14394b086c90bcc81d740": {
      "model_module": "@jupyter-widgets/base",
      "model_module_version": "2.0.0",
      "model_name": "LayoutModel",
      "state": {
       "justify_content": "flex-start",
       "width": "90%"
      }
     },
     "22dc6200972948bf9e9db32460f8de43": {
      "model_module": "@jupyter-widgets/controls",
      "model_module_version": "2.0.0",
      "model_name": "HTMLModel",
      "state": {
       "layout": "IPY_MODEL_d17f28bcc4ea4e76bfadf344970be7ff",
       "style": "IPY_MODEL_153d93987fb14854bcf9bc48c1a50809",
       "value": "Discussion on how AI is being used to predict the progression and outcome of liver cancer."
      }
     },
     "22f397f0b87348b38656596e95da1165": {
      "model_module": "@jupyter-widgets/base",
      "model_module_version": "2.0.0",
      "model_name": "LayoutModel",
      "state": {}
     },
     "2396d047f3d34205a92afd0240179552": {
      "model_module": "@jupyter-widgets/base",
      "model_module_version": "2.0.0",
      "model_name": "LayoutModel",
      "state": {}
     },
     "23c971c0087945b5acd3e1839783af03": {
      "model_module": "@jupyter-widgets/controls",
      "model_module_version": "2.0.0",
      "model_name": "TextStyleModel",
      "state": {
       "description_width": "50px",
       "font_size": null,
       "text_color": null
      }
     },
     "23ef8a629d444ea1980933d3fb3d6529": {
      "model_module": "@jupyter-widgets/base",
      "model_module_version": "2.0.0",
      "model_name": "LayoutModel",
      "state": {
       "height": "50%",
       "width": "50%"
      }
     },
     "24299a8aaf694503b088b233afb9c0c6": {
      "model_module": "@jupyter-widgets/controls",
      "model_module_version": "2.0.0",
      "model_name": "HTMLStyleModel",
      "state": {
       "description_width": "",
       "font_size": null,
       "text_color": null
      }
     },
     "245021aeec9e43319b90b01d22ff9a7b": {
      "model_module": "@jupyter-widgets/base",
      "model_module_version": "2.0.0",
      "model_name": "LayoutModel",
      "state": {
       "justify_content": "flex-start",
       "width": "90%"
      }
     },
     "2450bedcb04e41ad89d5d7c5d407c4d8": {
      "model_module": "@jupyter-widgets/controls",
      "model_module_version": "2.0.0",
      "model_name": "TextModel",
      "state": {
       "description": "Intro",
       "layout": "IPY_MODEL_e4c11dc189234e7abfefe1fa88fb370f",
       "style": "IPY_MODEL_48712a51d2374dbdb0507d5c750bf276",
       "value": "Understanding how textual explanations can be generated from AI models for liver cancer analysis."
      }
     },
     "24ca3f8df4214b67bbef2d1369fbd926": {
      "model_module": "@jupyter-widgets/base",
      "model_module_version": "2.0.0",
      "model_name": "LayoutModel",
      "state": {}
     },
     "25e8ab67183247e5ba2154ee7452fd03": {
      "model_module": "@jupyter-widgets/base",
      "model_module_version": "2.0.0",
      "model_name": "LayoutModel",
      "state": {}
     },
     "2601edeaba704e388bd839150e74a364": {
      "model_module": "@jupyter-widgets/base",
      "model_module_version": "2.0.0",
      "model_name": "LayoutModel",
      "state": {}
     },
     "26534e4c1c124a8795b15f8424483699": {
      "model_module": "@jupyter-widgets/base",
      "model_module_version": "2.0.0",
      "model_name": "LayoutModel",
      "state": {
       "justify_content": "flex-start",
       "width": "90%"
      }
     },
     "2746418292da407b806a609bd17d1779": {
      "model_module": "@jupyter-widgets/base",
      "model_module_version": "2.0.0",
      "model_name": "LayoutModel",
      "state": {}
     },
     "2772852c995441148c8654d00a020e84": {
      "model_module": "@jupyter-widgets/base",
      "model_module_version": "2.0.0",
      "model_name": "LayoutModel",
      "state": {
       "width": "50%"
      }
     },
     "2774359756674c2a98325c499d08f9d8": {
      "model_module": "@jupyter-widgets/controls",
      "model_module_version": "2.0.0",
      "model_name": "TextStyleModel",
      "state": {
       "description_width": "50px",
       "font_size": null,
       "text_color": null
      }
     },
     "296847601b5c4e2d9ec400b2e149538a": {
      "model_module": "@jupyter-widgets/base",
      "model_module_version": "2.0.0",
      "model_name": "LayoutModel",
      "state": {
       "width": "50%"
      }
     },
     "29699d5ebee346d6a7ef394f39c682fd": {
      "model_module": "@jupyter-widgets/base",
      "model_module_version": "2.0.0",
      "model_name": "LayoutModel",
      "state": {
       "justify_content": "flex-start",
       "width": "90%"
      }
     },
     "2974b5bfd3044d35af923737dc928778": {
      "model_module": "@jupyter-widgets/controls",
      "model_module_version": "2.0.0",
      "model_name": "HBoxModel",
      "state": {
       "children": [
        "IPY_MODEL_351f1443a208478ebd8b2bfc3dddc6f7",
        "IPY_MODEL_c35c2848381a42e598039d8b8daf314b"
       ],
       "layout": "IPY_MODEL_eb92baeaaa564b3fb91c20a08d0c3add"
      }
     },
     "298ec2f0710447138c0d0db2b8c51642": {
      "model_module": "@jupyter-widgets/base",
      "model_module_version": "2.0.0",
      "model_name": "LayoutModel",
      "state": {
       "justify_content": "flex-start",
       "width": "90%"
      }
     },
     "29e8652e778c4e42b1976294f3788eb2": {
      "model_module": "@jupyter-widgets/controls",
      "model_module_version": "2.0.0",
      "model_name": "TextStyleModel",
      "state": {
       "description_width": "50px",
       "font_size": null,
       "text_color": null
      }
     },
     "29f6b4839ea94a118955a154519041a3": {
      "model_module": "@jupyter-widgets/controls",
      "model_module_version": "2.0.0",
      "model_name": "ButtonStyleModel",
      "state": {
       "font_family": null,
       "font_size": null,
       "font_style": null,
       "font_variant": null,
       "font_weight": null,
       "text_color": null,
       "text_decoration": null
      }
     },
     "2a223540ef5a47b9a0edd267749d36c5": {
      "model_module": "@jupyter-widgets/base",
      "model_module_version": "2.0.0",
      "model_name": "LayoutModel",
      "state": {}
     },
     "2a232ebdac244750970de5bcdc612b1d": {
      "model_module": "@jupyter-widgets/base",
      "model_module_version": "2.0.0",
      "model_name": "LayoutModel",
      "state": {
       "justify_content": "flex-start",
       "width": "90%"
      }
     },
     "2c143810bd034393971b726b93cf39be": {
      "model_module": "@jupyter-widgets/controls",
      "model_module_version": "2.0.0",
      "model_name": "ButtonModel",
      "state": {
       "description": "Translate",
       "icon": "language",
       "layout": "IPY_MODEL_2601edeaba704e388bd839150e74a364",
       "style": "IPY_MODEL_75f0538572394ceeb9ed4f8e02012076",
       "tooltip": "Click and translate the details for this section"
      }
     },
     "2c2703fe045d42e09588825bf6908098": {
      "model_module": "@jupyter-widgets/controls",
      "model_module_version": "2.0.0",
      "model_name": "TextStyleModel",
      "state": {
       "description_width": "50px",
       "font_size": null,
       "text_color": null
      }
     },
     "2c6022b4c0e9486ca2d208f5fd12c29b": {
      "model_module": "@jupyter-widgets/controls",
      "model_module_version": "2.0.0",
      "model_name": "ButtonStyleModel",
      "state": {
       "font_family": null,
       "font_size": null,
       "font_style": null,
       "font_variant": null,
       "font_weight": null,
       "text_color": null,
       "text_decoration": null
      }
     },
     "2c77a21532c94601a29409ce8108f8f5": {
      "model_module": "@jupyter-widgets/controls",
      "model_module_version": "2.0.0",
      "model_name": "TextStyleModel",
      "state": {
       "description_width": "50px",
       "font_size": null,
       "text_color": null
      }
     },
     "2ca9f9237aa64201b7ca8370c1ae569e": {
      "model_module": "@jupyter-widgets/base",
      "model_module_version": "2.0.0",
      "model_name": "LayoutModel",
      "state": {}
     },
     "2cb92c8b449b4b6386a35fe80ed522b4": {
      "model_module": "@jupyter-widgets/controls",
      "model_module_version": "2.0.0",
      "model_name": "TextStyleModel",
      "state": {
       "description_width": "50px",
       "font_size": null,
       "text_color": null
      }
     },
     "2d0a35401596450eaa98fe62d4e85561": {
      "model_module": "@jupyter-widgets/controls",
      "model_module_version": "2.0.0",
      "model_name": "TextStyleModel",
      "state": {
       "description_width": "50px",
       "font_size": null,
       "text_color": null
      }
     },
     "2d4d92a885c54d5cb4ec738fef51d9f7": {
      "model_module": "@jupyter-widgets/controls",
      "model_module_version": "2.0.0",
      "model_name": "TextModel",
      "state": {
       "description": "Title",
       "layout": "IPY_MODEL_71c26967456649fe8960c4a0d9b9747e",
       "style": "IPY_MODEL_0175f856d66e4f6d9d6eac4e90d1a496",
       "value": "3.1.4.1: Triplet network"
      }
     },
     "2d87c240aad14db8acb253ceba27f521": {
      "model_module": "@jupyter-widgets/base",
      "model_module_version": "2.0.0",
      "model_name": "LayoutModel",
      "state": {}
     },
     "2e822429fbbe4e68bb7bd3cbec360a15": {
      "model_module": "@jupyter-widgets/controls",
      "model_module_version": "2.0.0",
      "model_name": "TextModel",
      "state": {
       "description": "Intro",
       "layout": "IPY_MODEL_a1698ddaeb904349921d20bd465d58e0",
       "style": "IPY_MODEL_453eb083ee2347aaa0488e87a125f680",
       "value": "Exploration of visual explanation techniques like saliency mapping and pathologist-in-the-loop in AI-based liver cancer analysis."
      }
     },
     "2eb0a11bc1df46a196c5cbb58966f492": {
      "model_module": "@jupyter-widgets/base",
      "model_module_version": "2.0.0",
      "model_name": "LayoutModel",
      "state": {}
     },
     "2ed3a7167d344d03a9a9d515790020e8": {
      "model_module": "@jupyter-widgets/controls",
      "model_module_version": "2.0.0",
      "model_name": "ButtonModel",
      "state": {
       "description": "Summarize",
       "icon": "radiation",
       "layout": "IPY_MODEL_4f44345d035f499b9ac39e3969f7e673",
       "style": "IPY_MODEL_674cd71104bd4960a3a0556b186ebaeb",
       "tooltip": "Summarize this section based on the topic and intro"
      }
     },
     "2fc46cc49bb94b5e87e240fa6f04d911": {
      "model_module": "@jupyter-widgets/controls",
      "model_module_version": "2.0.0",
      "model_name": "HTMLStyleModel",
      "state": {
       "description_width": "",
       "font_size": null,
       "text_color": null
      }
     },
     "2fe9ef7db2fd44e8a52b3c75f9a2864e": {
      "model_module": "@jupyter-widgets/output",
      "model_module_version": "1.0.0",
      "model_name": "OutputModel",
      "state": {
       "layout": "IPY_MODEL_b168bbe8be1f4fadbb81edc57309dc7e"
      }
     },
     "3069b4bbd0a04ba1bf3706e8bfab7f77": {
      "model_module": "@jupyter-widgets/controls",
      "model_module_version": "2.0.0",
      "model_name": "TextModel",
      "state": {
       "description": "Prompt",
       "layout": "IPY_MODEL_adde15207ba7404b85f75cdca4488236",
       "placeholder": "",
       "style": "IPY_MODEL_971a3b9e645e45faafb47bd56deec2ae"
      }
     },
     "30fa1b37dd9648c18a582c7e8352cf80": {
      "model_module": "@jupyter-widgets/controls",
      "model_module_version": "2.0.0",
      "model_name": "ButtonModel",
      "state": {
       "description": "Translate",
       "icon": "language",
       "layout": "IPY_MODEL_0c5dda7d903040b3a2feb4a2c28ae5d9",
       "style": "IPY_MODEL_b5636dabf3664fe5be7eff8dbd8cc26a",
       "tooltip": "Click and translate the details for this section"
      }
     },
     "311f0b1d06764de7ba0a74a023a846af": {
      "model_module": "@jupyter-widgets/base",
      "model_module_version": "2.0.0",
      "model_name": "LayoutModel",
      "state": {
       "justify_content": "flex-start",
       "width": "90%"
      }
     },
     "3134ff727a714d49aab78a5dd439e4bd": {
      "model_module": "@jupyter-widgets/controls",
      "model_module_version": "2.0.0",
      "model_name": "ButtonStyleModel",
      "state": {
       "font_family": null,
       "font_size": null,
       "font_style": null,
       "font_variant": null,
       "font_weight": null,
       "text_color": null,
       "text_decoration": null
      }
     },
     "3140e8ba73914b05af80720029696f33": {
      "model_module": "@jupyter-widgets/base",
      "model_module_version": "2.0.0",
      "model_name": "LayoutModel",
      "state": {}
     },
     "31af881af1d9436d8df7bcfb62f7e6b1": {
      "model_module": "@jupyter-widgets/controls",
      "model_module_version": "2.0.0",
      "model_name": "TextStyleModel",
      "state": {
       "description_width": "50px",
       "font_size": null,
       "text_color": null
      }
     },
     "3214b1fe3bf54ae984d0a0196c475dc8": {
      "model_module": "@jupyter-widgets/base",
      "model_module_version": "2.0.0",
      "model_name": "LayoutModel",
      "state": {
       "justify_content": "flex-start",
       "width": "90%"
      }
     },
     "328362d22e154ac4bfd11add26dc9329": {
      "model_module": "@jupyter-widgets/controls",
      "model_module_version": "2.0.0",
      "model_name": "HTMLStyleModel",
      "state": {
       "description_width": "",
       "font_size": null,
       "text_color": null
      }
     },
     "3284030d31e64ae7a3cb83d40a41d3c5": {
      "model_module": "@jupyter-widgets/controls",
      "model_module_version": "2.0.0",
      "model_name": "ButtonModel",
      "state": {
       "description": "Summarize",
       "icon": "radiation",
       "layout": "IPY_MODEL_449c12d5ea2a42df9d66cba6f7e0699a",
       "style": "IPY_MODEL_10c14cf2d2a14215aef30892b0671da4",
       "tooltip": "Summarize this section based on the topic and intro"
      }
     },
     "32ce677b0ab647ae88ed514cd2768644": {
      "model_module": "@jupyter-widgets/base",
      "model_module_version": "2.0.0",
      "model_name": "LayoutModel",
      "state": {
       "width": "50%"
      }
     },
     "32dfb3a7d2bb49acba9a029b62dcfdbf": {
      "model_module": "@jupyter-widgets/controls",
      "model_module_version": "2.0.0",
      "model_name": "HTMLStyleModel",
      "state": {
       "description_width": "",
       "font_size": null,
       "text_color": null
      }
     },
     "33598cfd05834544ab94669d88130af5": {
      "model_module": "@jupyter-widgets/controls",
      "model_module_version": "2.0.0",
      "model_name": "ButtonStyleModel",
      "state": {
       "font_family": null,
       "font_size": null,
       "font_style": null,
       "font_variant": null,
       "font_weight": null,
       "text_color": null,
       "text_decoration": null
      }
     },
     "335aef94966646f1aa72e6e7e059aef7": {
      "model_module": "@jupyter-widgets/controls",
      "model_module_version": "2.0.0",
      "model_name": "TextModel",
      "state": {
       "description": "Words",
       "layout": "IPY_MODEL_0b60f684e5c846b79ea79809b309652d",
       "placeholder": "",
       "style": "IPY_MODEL_8137ab41d6884db9a1629845d18ba8aa",
       "value": "500"
      }
     },
     "336ede237184486fbd68d23f0cb907d6": {
      "model_module": "@jupyter-widgets/controls",
      "model_module_version": "2.0.0",
      "model_name": "ButtonModel",
      "state": {
       "description": "Translate",
       "icon": "language",
       "layout": "IPY_MODEL_057d4403d8fa4fcaba1c05537cb9e009",
       "style": "IPY_MODEL_4688acaf8f6641399e535ffa5ed73d2d",
       "tooltip": "Click and translate the details for this section"
      }
     },
     "351f1443a208478ebd8b2bfc3dddc6f7": {
      "model_module": "@jupyter-widgets/controls",
      "model_module_version": "2.0.0",
      "model_name": "VBoxModel",
      "state": {
       "children": [
        "IPY_MODEL_ac0935855063441993ec26c28f2871f2",
        "IPY_MODEL_213db28c9a16426e8739ded79af35ad5",
        "IPY_MODEL_7e931a93dbc64acea4cedc5d2adbd6a8",
        "IPY_MODEL_e809698eb26b47c784e646d0800fc5c5",
        "IPY_MODEL_d6ecf112dde94630ab2fb3fb782e46ea"
       ],
       "layout": "IPY_MODEL_2772852c995441148c8654d00a020e84"
      }
     },
     "355e827c87584a20820b8cf7aad9656f": {
      "model_module": "@jupyter-widgets/controls",
      "model_module_version": "2.0.0",
      "model_name": "VBoxModel",
      "state": {
       "children": [
        "IPY_MODEL_4a5d149b78994719814a656d4006b12e",
        "IPY_MODEL_9f9fa5d9595d4b0d8b4fe5f0fbe6f5a6",
        "IPY_MODEL_818526e637b8479286906754402e105d",
        "IPY_MODEL_6393e50a003b43c49d60123488f9e365",
        "IPY_MODEL_b403b34675e040858d525697c670d625"
       ],
       "layout": "IPY_MODEL_c09a3051c4e444c9b0502bbf5bcb95f3"
      }
     },
     "35a15d05e7b14f238253644689e3a1d8": {
      "model_module": "@jupyter-widgets/base",
      "model_module_version": "2.0.0",
      "model_name": "LayoutModel",
      "state": {
       "justify_content": "flex-start",
       "width": "90%"
      }
     },
     "35b369abb4dc4c5080f3799f35646ef1": {
      "model_module": "@jupyter-widgets/controls",
      "model_module_version": "2.0.0",
      "model_name": "ButtonModel",
      "state": {
       "description": "Summarize",
       "icon": "radiation",
       "layout": "IPY_MODEL_a2ab2af039a14b5eba31546410764a88",
       "style": "IPY_MODEL_4e8905c00b1246ddae533f20ed19f4b7",
       "tooltip": "Summarize this section based on the topic and intro"
      }
     },
     "3606349d005c4b17b60907ef8bb39e30": {
      "model_module": "@jupyter-widgets/controls",
      "model_module_version": "2.0.0",
      "model_name": "HTMLStyleModel",
      "state": {
       "description_width": "",
       "font_size": null,
       "text_color": null
      }
     },
     "366ef21eccac4884851b58cc1c4132f4": {
      "model_module": "@jupyter-widgets/base",
      "model_module_version": "2.0.0",
      "model_name": "LayoutModel",
      "state": {
       "justify_content": "flex-start",
       "width": "90%"
      }
     },
     "36db5f82fcae4ff8b273effffe8667f8": {
      "model_module": "@jupyter-widgets/base",
      "model_module_version": "2.0.0",
      "model_name": "LayoutModel",
      "state": {}
     },
     "36fccc2d27da458287cc349f5bfccf93": {
      "model_module": "@jupyter-widgets/base",
      "model_module_version": "2.0.0",
      "model_name": "LayoutModel",
      "state": {
       "justify_content": "flex-start",
       "width": "90%"
      }
     },
     "372d63ad38b54c519302747bdffeb5a3": {
      "model_module": "@jupyter-widgets/controls",
      "model_module_version": "2.0.0",
      "model_name": "VBoxModel",
      "state": {
       "children": [
        "IPY_MODEL_3f5fb5c8b49d4c81b32da6080c98a0cf"
       ],
       "layout": "IPY_MODEL_3ee26bde4b8d45ac9369535a2afc089b"
      }
     },
     "3976fe28592141a286774b3503ea7164": {
      "model_module": "@jupyter-widgets/output",
      "model_module_version": "1.0.0",
      "model_name": "OutputModel",
      "state": {
       "layout": "IPY_MODEL_d7f35d9ae80549b9b75ed4a7555cc006"
      }
     },
     "39b936071c414c27821bbab00e3cc359": {
      "model_module": "@jupyter-widgets/controls",
      "model_module_version": "2.0.0",
      "model_name": "HTMLModel",
      "state": {
       "layout": "IPY_MODEL_f76ac1af31e746cd8509e210bbc80f19",
       "style": "IPY_MODEL_d7ddba38a672466b969073ab48194279",
       "value": "Understanding how the triplet network, an example-based explanation model, works in the context of AI-based liver cancer analysis."
      }
     },
     "3a11d61efdf346dc84eb3a578b4a57fb": {
      "model_module": "@jupyter-widgets/output",
      "model_module_version": "1.0.0",
      "model_name": "OutputModel",
      "state": {
       "layout": "IPY_MODEL_93daa7dd68904d368b9fee6d0356cf4e"
      }
     },
     "3a5293fc35e049d5b033356410bffaa2": {
      "model_module": "@jupyter-widgets/controls",
      "model_module_version": "2.0.0",
      "model_name": "TextStyleModel",
      "state": {
       "description_width": "50px",
       "font_size": null,
       "text_color": null
      }
     },
     "3adbec0f5d3d42a286d8bc689a87a4bb": {
      "model_module": "@jupyter-widgets/controls",
      "model_module_version": "2.0.0",
      "model_name": "ButtonStyleModel",
      "state": {
       "font_family": null,
       "font_size": null,
       "font_style": null,
       "font_variant": null,
       "font_weight": null,
       "text_color": null,
       "text_decoration": null
      }
     },
     "3b03efa0d7a447199da812c299bfb476": {
      "model_module": "@jupyter-widgets/base",
      "model_module_version": "2.0.0",
      "model_name": "LayoutModel",
      "state": {
       "justify_content": "flex-start",
       "width": "90%"
      }
     },
     "3b290c43dd5e4583bb639ecaba61e65b": {
      "model_module": "@jupyter-widgets/controls",
      "model_module_version": "2.0.0",
      "model_name": "ButtonModel",
      "state": {
       "description": "Summarize",
       "icon": "radiation",
       "layout": "IPY_MODEL_058987223d264f929711c007c2677e7c",
       "style": "IPY_MODEL_8770e40a413c45098436847a214f8690",
       "tooltip": "Summarize this section based on the topic and intro"
      }
     },
     "3b4e61bcebd84070bb79cacfc1e3d97c": {
      "model_module": "@jupyter-widgets/controls",
      "model_module_version": "2.0.0",
      "model_name": "TextStyleModel",
      "state": {
       "description_width": "50px",
       "font_size": null,
       "text_color": null
      }
     },
     "3b91f9811668474f93e29594951788fc": {
      "model_module": "@jupyter-widgets/controls",
      "model_module_version": "2.0.0",
      "model_name": "HTMLModel",
      "state": {
       "layout": "IPY_MODEL_d730e20131b442bfaa2a3446ad3faffb",
       "style": "IPY_MODEL_09fcaa3269564aa5b3beeb5da67ba4b8",
       "value": "A comprehensive discussion on various strategies to decode the complex workings of AI in pathological analysis of liver cancer."
      }
     },
     "3ba7168f3e4942c68b51b66d46e22895": {
      "model_module": "@jupyter-widgets/base",
      "model_module_version": "2.0.0",
      "model_name": "LayoutModel",
      "state": {}
     },
     "3bc6e87e288d43129bde47fe948d01a5": {
      "model_module": "@jupyter-widgets/controls",
      "model_module_version": "2.0.0",
      "model_name": "TextStyleModel",
      "state": {
       "description_width": "50px",
       "font_size": null,
       "text_color": null
      }
     },
     "3bf9ab3d69d44a91b5a3ae2adf2bb704": {
      "model_module": "@jupyter-widgets/base",
      "model_module_version": "2.0.0",
      "model_name": "LayoutModel",
      "state": {}
     },
     "3c5019c45f254404916299c83fac70f6": {
      "model_module": "@jupyter-widgets/controls",
      "model_module_version": "2.0.0",
      "model_name": "ButtonStyleModel",
      "state": {
       "font_family": null,
       "font_size": null,
       "font_style": null,
       "font_variant": null,
       "font_weight": null,
       "text_color": null,
       "text_decoration": null
      }
     },
     "3c8a946df8ed40e3b80c7dd662f89255": {
      "model_module": "@jupyter-widgets/base",
      "model_module_version": "2.0.0",
      "model_name": "LayoutModel",
      "state": {
       "width": "50%"
      }
     },
     "3c99bc44ebf041d998276254f3453eda": {
      "model_module": "@jupyter-widgets/base",
      "model_module_version": "2.0.0",
      "model_name": "LayoutModel",
      "state": {}
     },
     "3d7b5554221540c680c04ae495eb859f": {
      "model_module": "@jupyter-widgets/base",
      "model_module_version": "2.0.0",
      "model_name": "LayoutModel",
      "state": {
       "width": "50%"
      }
     },
     "3dd0818be0284bfcb3a9273aa66abf81": {
      "model_module": "@jupyter-widgets/controls",
      "model_module_version": "2.0.0",
      "model_name": "TextModel",
      "state": {
       "description": "Intro",
       "layout": "IPY_MODEL_df0989b940804b69bec684988fac7e53",
       "style": "IPY_MODEL_0af3cf41be894d50b211989ad7271c95",
       "value": "A detailed analysis of the existing challenges and limitations in the use of AI for liver cancer management."
      }
     },
     "3e2ce4c77193430f8485e3b011f528ae": {
      "model_module": "@jupyter-widgets/controls",
      "model_module_version": "2.0.0",
      "model_name": "VBoxModel",
      "state": {
       "children": [
        "IPY_MODEL_1159a394fa3c4e93b6384566ac040a0a"
       ],
       "layout": "IPY_MODEL_9a5cc64e421c4ac1b990856bf85fe2be"
      }
     },
     "3e5d2aaac29643b59d66e6f6dc1d6d4f": {
      "model_module": "@jupyter-widgets/controls",
      "model_module_version": "2.0.0",
      "model_name": "ButtonModel",
      "state": {
       "description": "Translate",
       "icon": "language",
       "layout": "IPY_MODEL_c86e4ba0255d4a45af76713e8b7c5dd6",
       "style": "IPY_MODEL_29f6b4839ea94a118955a154519041a3",
       "tooltip": "Click and translate the details for this section"
      }
     },
     "3e5eb8897f054df2b272f5cf9d2c7669": {
      "model_module": "@jupyter-widgets/controls",
      "model_module_version": "2.0.0",
      "model_name": "HBoxModel",
      "state": {
       "children": [
        "IPY_MODEL_d0337630be95449480a2d676681ea60e",
        "IPY_MODEL_205eddc83ec84b89ad65e56efd17a698"
       ],
       "layout": "IPY_MODEL_bfc9f589440f48dfaae52b7bace342de"
      }
     },
     "3eba07dd8c3b44928212497bae7fc1c8": {
      "model_module": "@jupyter-widgets/controls",
      "model_module_version": "2.0.0",
      "model_name": "HTMLModel",
      "state": {
       "layout": "IPY_MODEL_4b8023882293428bb5f37e1ead5de31a",
       "style": "IPY_MODEL_2fc46cc49bb94b5e87e240fa6f04d911",
       "value": "\n        <details open>\n            <summary>\n                Related References\n            </summary>\n            <div class='query_results'>\n                <ol>\n                    <li><h3>Quantitative analysis of artificial intelligence on liver cancer</h3>\n\n<ol>\n\n                <li>\n                    <details>\n                        <summary style='\n                background-color: rgba(0, 150, 0, 0.7143146);\n                color: white\n                ' title='With the development of medical big data and computer technology, artificial intelligence (AI) based on machine learning and deep learning has been widely used in current medical research (3-6). Through self-learning, summary, and induction of data, it can produce an intelligent reasoning system and choose the optimal solution to guide clinical decision-making (7). Original AI was based on traditional machine-learning methods, including support vector machine and random forest models, which all relied on human experience for learning and simple summary. As early as 2003, Hussain constructed a predictive system consisting of 12 genes, with Fisher’s linear classifier, for predicting early recurrence in patients with hepatocellular carcinoma (HCC) (8). During this period, most studies have focused on simple analyses of data, such as genes and molecules (9-11). With the standardization of imaging diagnosis and its important role in the clinical diagnosis of liver cancer, AI research based on imaging has emerged by extracting high-throughput features that cannot be detected and defined by human eyes from large-scale image data to establish an intelligent decision -making model to assist clinical decisionmaking (12, 13). In particular, deep learning based on convolutional neural networks (CNNs) has promoted progress in liver cancer research (14-19). '>\n                            Page 2, Region 5,\n                            Score 0.71\n                        </summary>\n                        With the development of medical big data and computer technology, artificial intelligence (AI) based on machine learning and deep learning has been widely used in current medical research (3-6). Through self-learning, summary, and induction of data, it can produce an intelligent reasoning system and choose the optimal solution to guide clinical decision-making (7). Original AI was based on traditional machine-learning methods, including support vector machine and random forest models, which all relied on human experience for learning and simple summary. As early as 2003, Hussain constructed a predictive system consisting of 12 genes, with Fisher’s linear classifier, for predicting early recurrence in patients with hepatocellular carcinoma (HCC) (8). During this period, most studies have focused on simple analyses of data, such as genes and molecules (9-11). With the standardization of imaging diagnosis and its important role in the clinical diagnosis of liver cancer, AI research based on imaging has emerged by extracting high-throughput features that cannot be detected and defined by human eyes from large-scale image data to establish an intelligent decision -making model to assist clinical decisionmaking (12, 13). In particular, deep learning based on convolutional neural networks (CNNs) has promoted progress in liver cancer research (14-19). \n                    </details>\n                </li>\n\n                \n                <li>\n                    <details>\n                        <summary style='\n                background-color: rgba(0, 150, 0, 0.88481003);\n                color: white\n                ' title='As more and more researchers are interested in the use of AI in liver cancer, a large number of related studies have started being published. For example, reviews describing an overview of deep learning, convolutional neural networks and other AI technologies applications in liver cancer (20-22), reviews on the applications of AI on assisted imaging in diagnosis, prognosis and detection of liver cancer (23-25), and explained the latest research, on limitations and future development trends of AI have all been recently published. However, current reviews may be unable to explore grasp the latest research trends and hotspots in this field because of lack of a large number of publications. Meanwhile, there is a lack of quantitative analysis of all '>\n                            Page 2, Region 6,\n                            Score 0.88\n                        </summary>\n                        As more and more researchers are interested in the use of AI in liver cancer, a large number of related studies have started being published. For example, reviews describing an overview of deep learning, convolutional neural networks and other AI technologies applications in liver cancer (20-22), reviews on the applications of AI on assisted imaging in diagnosis, prognosis and detection of liver cancer (23-25), and explained the latest research, on limitations and future development trends of AI have all been recently published. However, current reviews may be unable to explore grasp the latest research trends and hotspots in this field because of lack of a large number of publications. Meanwhile, there is a lack of quantitative analysis of all \n                    </details>\n                </li>\n\n                \n                <li>\n                    <details>\n                        <summary style='\n                background-color: rgba(0, 150, 0, 0.590077);\n                color: white\n                ' title='Therefore, we aimed to quantitatively analyze existing studies involving AI in liver cancer using bibliometrics to provide the current research progress, hotspots, and emerging trends for AI in liver cancer which may help researchers better understand grasp future research interest. Information was collated regarding countries/regions, institutions, authors, and journals with the highest citations and publications and keywords. '>\n                            Page 2, Region 8,\n                            Score 0.59\n                        </summary>\n                        Therefore, we aimed to quantitatively analyze existing studies involving AI in liver cancer using bibliometrics to provide the current research progress, hotspots, and emerging trends for AI in liver cancer which may help researchers better understand grasp future research interest. Information was collated regarding countries/regions, institutions, authors, and journals with the highest citations and publications and keywords. \n                    </details>\n                </li>\n\n                \n                <li>\n                    <details>\n                        <summary style='\n                background-color: rgba(0, 150, 0, 0.099060856);\n                color: white\n                ' title='According to our research area, which focuses on the applications of AI in liver cancer, we designed the following search items: the papers for analysis were restricted to those that (1) were written in '>\n                            Page 2, Region 13,\n                            Score 0.1\n                        </summary>\n                        According to our research area, which focuses on the applications of AI in liver cancer, we designed the following search items: the papers for analysis were restricted to those that (1) were written in \n                    </details>\n                </li>\n\n                \n                <li>\n                    <details>\n                        <summary style='\n                background-color: rgba(0, 150, 0, 0.3550833);\n                color: white\n                ' title='The analysis of the global trend of publications and citations and productive countries/regions is mainly to comprehensively understand the development trends of AI on liver cancer from beginning to end. The analysis of institutions, authors, and co-cited authors can quantitatively describe the strength of the cooperation between authors and institutions (30-32). Additionally, the analysis of top journals can analyze the level of cooperation and relationships in the concentrated fields of journals, which is beneficial to cross field cooperation in research (32). In particular, cluster co-occurrence analysis of keywords from different perspectives such as disease, data type, clinical goals, and clinical methods can help us understand the main topics and research trends in the current field of AI in liver cancer field. '>\n                            Page 3, Region 5,\n                            Score 0.36\n                        </summary>\n                        The analysis of the global trend of publications and citations and productive countries/regions is mainly to comprehensively understand the development trends of AI on liver cancer from beginning to end. The analysis of institutions, authors, and co-cited authors can quantitatively describe the strength of the cooperation between authors and institutions (30-32). Additionally, the analysis of top journals can analyze the level of cooperation and relationships in the concentrated fields of journals, which is beneficial to cross field cooperation in research (32). In particular, cluster co-occurrence analysis of keywords from different perspectives such as disease, data type, clinical goals, and clinical methods can help us understand the main topics and research trends in the current field of AI in liver cancer field. \n                    </details>\n                </li>\n\n                \n                <li>\n                    <details>\n                        <summary style='\n                background-color: rgba(0, 150, 0, 0.011849683);\n                color: white\n                ' title='TABLE 2 Top 10 institutes with publications researching the use of artificial intelligence in liver cancer. '>\n                            Page 5, Region 8,\n                            Score 0.01\n                        </summary>\n                        TABLE 2 Top 10 institutes with publications researching the use of artificial intelligence in liver cancer. \n                    </details>\n                </li>\n\n                \n                <li>\n                    <details>\n                        <summary style='\n                background-color: rgba(0, 150, 0, 0.03754294);\n                color: white\n                ' title='TABLE 3. The 10 most productive authors of publications researching the use of artificial intelligence in liver cancer. '>\n                            Page 6, Region 3,\n                            Score 0.04\n                        </summary>\n                        TABLE 3. The 10 most productive authors of publications researching the use of artificial intelligence in liver cancer. \n                    </details>\n                </li>\n\n                \n                <li>\n                    <details>\n                        <summary style='\n                background-color: rgba(0, 150, 0, 0.41772124);\n                color: white\n                ' title='In this quantitative study, in order to systematically and quantitatively analyze the research status of AI in liver cancer, and explore the future research trends and hotspots in this field, we used a bibliometrics method to analyze the current research status of AI in liver cancer in terms of publication and citation trends, countries/ regions and institutions, authors and co-cited authors, journals, cited references and co-citation references, and keywords. Ultimately, 1724 articles focusing on Al in liver cancer were collected from the WoSCC database and analyzed. '>\n                            Page 7, Region 5,\n                            Score 0.42\n                        </summary>\n                        In this quantitative study, in order to systematically and quantitatively analyze the research status of AI in liver cancer, and explore the future research trends and hotspots in this field, we used a bibliometrics method to analyze the current research status of AI in liver cancer in terms of publication and citation trends, countries/ regions and institutions, authors and co-cited authors, journals, cited references and co-citation references, and keywords. Ultimately, 1724 articles focusing on Al in liver cancer were collected from the WoSCC database and analyzed. \n                    </details>\n                </li>\n\n                \n                <li>\n                    <details>\n                        <summary style='\n                background-color: rgba(0, 150, 0, 0.52726555);\n                color: white\n                ' title='Regarding data type, studies of AI in liver cancer started from the simple data modeling of genetic or molecular data (9-11). With the development of medical imaging, research on medical imaging has been gradually increasing. CT, ultrasound, and MRI are the top three most used data types. First, this may because CT and MRI can be used as the basis for clinical treatment strategies for patients with liver cancer based on guidelines for liver cancer diagnosis. Moreover, ultrasound, as a screening method for patients at high risk of liver cancer, needs to be checked every six months. Therefore, the data volume of these three imaging methods has greatly increased, which has promoted the development of AI in liver cancer (37-39). Second, compared with MRI, CT has the advantages of fast inspection speed and cost-effectiveness, and is an indispensable and important imaging method in the diagnosis and treatment of liver cancer. Finally, although ultrasound is widely used in clinical practice, its image acquisition is seriously affected by the doctor’s operation technique and machine model, the resolution is low, and the processing is difficult. Therefore, it is used less often than CT. However, it is worth noting that contrast-enhanced ultrasound has now been included as a recommended imaging modality for the diagnosis of liver cancer (40, 41) and is also widely used in the development and prognostic evaluation of ultrasound-guided radiofrequency ablation. This suggests that we could pay attention to the important role of ultrasound in liver cancer clinics in future research. At the same time, few studies used pathological, genetic, and other clinical data (42-44). The main reason may be that the medical cost of genetic examination is high and the realization of AI in multiomics research is difficult. '>\n                            Page 8, Region 4,\n                            Score 0.53\n                        </summary>\n                        Regarding data type, studies of AI in liver cancer started from the simple data modeling of genetic or molecular data (9-11). With the development of medical imaging, research on medical imaging has been gradually increasing. CT, ultrasound, and MRI are the top three most used data types. First, this may because CT and MRI can be used as the basis for clinical treatment strategies for patients with liver cancer based on guidelines for liver cancer diagnosis. Moreover, ultrasound, as a screening method for patients at high risk of liver cancer, needs to be checked every six months. Therefore, the data volume of these three imaging methods has greatly increased, which has promoted the development of AI in liver cancer (37-39). Second, compared with MRI, CT has the advantages of fast inspection speed and cost-effectiveness, and is an indispensable and important imaging method in the diagnosis and treatment of liver cancer. Finally, although ultrasound is widely used in clinical practice, its image acquisition is seriously affected by the doctor’s operation technique and machine model, the resolution is low, and the processing is difficult. Therefore, it is used less often than CT. However, it is worth noting that contrast-enhanced ultrasound has now been included as a recommended imaging modality for the diagnosis of liver cancer (40, 41) and is also widely used in the development and prognostic evaluation of ultrasound-guided radiofrequency ablation. This suggests that we could pay attention to the important role of ultrasound in liver cancer clinics in future research. At the same time, few studies used pathological, genetic, and other clinical data (42-44). The main reason may be that the medical cost of genetic examination is high and the realization of AI in multiomics research is difficult. \n                    </details>\n                </li>\n\n                \n                <li>\n                    <details>\n                        <summary style='\n                background-color: rgba(0, 150, 0, 0.0);\n                color: white\n                ' title='of liver fibrosis, a unified MRE liver elasticity value for liver fibrosis with different etiologies has not been established (46-48). This also indicates that the use of AI to quantitatively analyze liver fibrosis by imaging is a problem worthy of further study. In studies of AI in fatty liver disease, ultrasound is the first choice, mainly because of its high sensitivity in the diagnosis of diffuse fatty liver, convenience, costeffectiveness, and safety, and plays an important role in judging the status of liver parenchyma. '>\n                            Page 8, Region 6,\n                            Score 0.0\n                        </summary>\n                        of liver fibrosis, a unified MRE liver elasticity value for liver fibrosis with different etiologies has not been established (46-48). This also indicates that the use of AI to quantitatively analyze liver fibrosis by imaging is a problem worthy of further study. In studies of AI in fatty liver disease, ultrasound is the first choice, mainly because of its high sensitivity in the diagnosis of diffuse fatty liver, convenience, costeffectiveness, and safety, and plays an important role in judging the status of liver parenchyma. \n                    </details>\n                </li>\n\n                \n                <li>\n                    <details>\n                        <summary style='\n                background-color: rgba(0, 150, 0, 0.14262526);\n                color: white\n                ' title='Studies on the treatment and prognosis of liver cancer mainly focused on the survival of a specific surgical method (59-66), such as radiofrequency ablation, transarterial chemoembolization and etc. Reports have proven that the modern therapies integrate a variety of neoadjuvant and adjuvant strategies have achieved dramatic improvements in survival, especially for patients with advanced HCC (66, 67). But the division of the patient population, the choice of potentially disclosing novel biomarkers still are controversies and the decision-making of precision treatment methods adapted to the specific patients, AI can play a role in this, but related research has not yet been seen. '>\n                            Page 8, Region 8,\n                            Score 0.14\n                        </summary>\n                        Studies on the treatment and prognosis of liver cancer mainly focused on the survival of a specific surgical method (59-66), such as radiofrequency ablation, transarterial chemoembolization and etc. Reports have proven that the modern therapies integrate a variety of neoadjuvant and adjuvant strategies have achieved dramatic improvements in survival, especially for patients with advanced HCC (66, 67). But the division of the patient population, the choice of potentially disclosing novel biomarkers still are controversies and the decision-making of precision treatment methods adapted to the specific patients, AI can play a role in this, but related research has not yet been seen. \n                    </details>\n                </li>\n\n                \n                <li>\n                    <details>\n                        <summary style='\n                background-color: rgba(0, 150, 0, 0.3286395);\n                color: white\n                ' title='Previous meta-analyses and literature reviews focused on the applications of specific technologies in liver cancer or the development status of specific liver disease (22-29), such as reviewing studies on AI on assisted imaging in the diagnosis, prognosis and detection of liver cancer, or explaining the latest research, limitations, and future development trends of AI in a '>\n                            Page 9, Region 5,\n                            Score 0.33\n                        </summary>\n                        Previous meta-analyses and literature reviews focused on the applications of specific technologies in liver cancer or the development status of specific liver disease (22-29), such as reviewing studies on AI on assisted imaging in the diagnosis, prognosis and detection of liver cancer, or explaining the latest research, limitations, and future development trends of AI in a \n                    </details>\n                </li>\n\n                \n                <li>\n                    <details>\n                        <summary style='\n                background-color: rgba(0, 150, 0, 0.2758103);\n                color: white\n                ' title='certain direction. However, they lack a quantitative analysis based on the available literatures. Therefore, a bibliometrics analysis was conducted in our study to summary the research status of AI in liver cancer. Bibliometrics analysis uses mathematical and statistical methods to study the literature system and bibliometric characteristics in a given field to mine the distribution structure, quantitative relationships, and changes of literature in this field. Visual display with the help of special software plays an important role in understanding the current development status and development trend of the field. However, our research also has limitations. First, we only included English articles in the WoSCC database and did not include articles in other databases or languages, which could lead to the omission of many studies. Second, keyword screening may not be perfect and could lead to omission of literature. '>\n                            Page 9, Region 6,\n                            Score 0.28\n                        </summary>\n                        certain direction. However, they lack a quantitative analysis based on the available literatures. Therefore, a bibliometrics analysis was conducted in our study to summary the research status of AI in liver cancer. Bibliometrics analysis uses mathematical and statistical methods to study the literature system and bibliometric characteristics in a given field to mine the distribution structure, quantitative relationships, and changes of literature in this field. Visual display with the help of special software plays an important role in understanding the current development status and development trend of the field. However, our research also has limitations. First, we only included English articles in the WoSCC database and did not include articles in other databases or languages, which could lead to the omission of many studies. Second, keyword screening may not be perfect and could lead to omission of literature. \n                    </details>\n                </li>\n\n                \n                <li>\n                    <details>\n                        <summary style='\n                background-color: rgba(0, 150, 0, 1.0);\n                color: white\n                ' title='This study used bibliometrics to conduct an in-depth analysis of the published literature on AI in liver cancer. The results showed that AI has undergone rapid development and has a wide application in the diagnosis and treatment of liver diseases, especially in China, which has one of the highest incidences of liver cancer compared to other countries the world. In addition, intelligent analysis of imaging data is the hotspot and focus of current research in this field. However, combined with the current clinical difficulties such as accurate screening of early-stage liver cancer patients and high-risk patients, and selection of reasonable treatment decisions for advanced liver cancer patients, the use of AI for the fusion analysis of multiple types data in the process of diagnosis and treatment of liver cancer and multi-modal treatment decision-making for liver cancer are still relatively rare, and may become a future research trend. '>\n                            Page 10, Region 2,\n                            Score 1.0\n                        </summary>\n                        This study used bibliometrics to conduct an in-depth analysis of the published literature on AI in liver cancer. The results showed that AI has undergone rapid development and has a wide application in the diagnosis and treatment of liver diseases, especially in China, which has one of the highest incidences of liver cancer compared to other countries the world. In addition, intelligent analysis of imaging data is the hotspot and focus of current research in this field. However, combined with the current clinical difficulties such as accurate screening of early-stage liver cancer patients and high-risk patients, and selection of reasonable treatment decisions for advanced liver cancer patients, the use of AI for the fusion analysis of multiple types data in the process of diagnosis and treatment of liver cancer and multi-modal treatment decision-making for liver cancer are still relatively rare, and may become a future research trend. \n                    </details>\n                </li>\n\n                \n</ol></li><li><h3>Artificial intelligence in liver diseases Improving diagnostics, prognostics and response prediction</h3>\n\n<ol>\n\n                <li>\n                    <details>\n                        <summary style='\n                background-color: rgba(0, 150, 0, 0.20789045);\n                color: white\n                ' title='To facilitate transformation of imaging data into clinically accessible information, Al may derive predictions in a more personalised fashion. Two categories of AI that have shown promise in liver imaging are radiomics (relying on classical ML) and DL systems (relying on CNNs) (Fig. 2A). Radiomics is a strongly supervised and expert-guided approach where hardcoded algorithms extract quantitative image features that are fed into an ML algorithm.°® In contrast, DL with a CNN constitutes an automatic feature extraction where the algorithm selflearns salient features and self-optimises parameters by running an input image through mathematical operations embedded in multiple layers.°°? Because both approaches aim to predict a pre-defined “ground truth,” they are considered supervised learning approaches. Herein, we review AI tools for liver imaging in segmentation, classification of disease severity and lesions, and outcome prediction. '>\n                            Page 5, Region 2,\n                            Score 0.21\n                        </summary>\n                        To facilitate transformation of imaging data into clinically accessible information, Al may derive predictions in a more personalised fashion. Two categories of AI that have shown promise in liver imaging are radiomics (relying on classical ML) and DL systems (relying on CNNs) (Fig. 2A). Radiomics is a strongly supervised and expert-guided approach where hardcoded algorithms extract quantitative image features that are fed into an ML algorithm.°® In contrast, DL with a CNN constitutes an automatic feature extraction where the algorithm selflearns salient features and self-optimises parameters by running an input image through mathematical operations embedded in multiple layers.°°? Because both approaches aim to predict a pre-defined “ground truth,” they are considered supervised learning approaches. Herein, we review AI tools for liver imaging in segmentation, classification of disease severity and lesions, and outcome prediction. \n                    </details>\n                </li>\n\n                \n</ol></li><li><h3>JOH 2022 Artificial intelligence for the prevention and clinical management of hepatocellular carcinoma</h3>\n\n<ol>\n\n                <li>\n                    <details>\n                        <summary style='\n                background-color: rgba(0, 150, 0, 0.16710022);\n                color: white\n                ' title='Owing to the broad heterogeneity in HCC risk factors and pathogenesis, established strategies for prediction and prognostication are still limited. Recently, artificial intelligence (AI) has emerged as a unique opportunity to improve the full spectrum of HCC clinical care, by: i) improving the prediction of future HCC risk in patients with established liver disease; ii) improving the accuracy of HCC '>\n                            Page 1, Region 12,\n                            Score 0.17\n                        </summary>\n                        Owing to the broad heterogeneity in HCC risk factors and pathogenesis, established strategies for prediction and prognostication are still limited. Recently, artificial intelligence (AI) has emerged as a unique opportunity to improve the full spectrum of HCC clinical care, by: i) improving the prediction of future HCC risk in patients with established liver disease; ii) improving the accuracy of HCC \n                    </details>\n                </li>\n\n                \n</ol></li><li><h3>Artificial Intelligence in Hepatology Ready for the Primetime</h3>\n\n<ol>\n\n                <li>\n                    <details>\n                        <summary style='\n                background-color: rgba(0, 150, 0, 0.00078214135);\n                color: white\n                ' title='Artificial Intelligence (AI) is a mathematical process of computer mediating designing of algorithms to support human intelligence. AI in hepatology has shown tremendous promise to plan appropriate management and hence improve treatment outcomes. The field of AI is in a very early phase with limited clinical use. AI tools such as machine learning, deep learning, and ‘big data’ are in a continuous phase of evolution, presently being applied for clinical and basic research. In this review, we have summarized various AI applications in hepatology, the pitfalls and AI's future implications. Different AI models and algorithms are under study using clinical, laboratory, endoscopic and imaging parameters to diagnose and manage liver diseases and mass lesions. AI has helped to reduce human errors and improve treatment protocols. Further research and validation are required for future use of AI in hepatology. (J Ciin Exp HepaTor 2023;13:149-161) '>\n                            Page 1, Region 4,\n                            Score 0.0\n                        </summary>\n                        Artificial Intelligence (AI) is a mathematical process of computer mediating designing of algorithms to support human intelligence. AI in hepatology has shown tremendous promise to plan appropriate management and hence improve treatment outcomes. The field of AI is in a very early phase with limited clinical use. AI tools such as machine learning, deep learning, and ‘big data’ are in a continuous phase of evolution, presently being applied for clinical and basic research. In this review, we have summarized various AI applications in hepatology, the pitfalls and AI's future implications. Different AI models and algorithms are under study using clinical, laboratory, endoscopic and imaging parameters to diagnose and manage liver diseases and mass lesions. AI has helped to reduce human errors and improve treatment protocols. Further research and validation are required for future use of AI in hepatology. (J Ciin Exp HepaTor 2023;13:149-161) \n                    </details>\n                </li>\n\n                \n                <li>\n                    <details>\n                        <summary style='\n                background-color: rgba(0, 150, 0, 0.026537294);\n                color: white\n                ' title='n recent years, the development of Artificial Intelli[= (AI) in the fields of gastroenterology and hepa tology has made remarkable progress. The use of AI is studied in gastroenterology for the endoscopic evaluation of Barrett's oesophagus, oesophageal and gastric malignancies, colorectal polyp detection and characterization, evaluation of inflammatory bowel disease and capsule endoscopy for obscure gastrointestinal bleed! (Table 1). With the increased development and usage of AI in gastroenterology, research in the field of hepatology also has accelerated. AI in hepatology can be used to detect liver fibrosis, diagnose non-alcoholic fatty liver disease (NAFLD), differentiate focal liver lesions, diagnose hepatocellular cancer, prognosticate chronic liver disease (CLD) '>\n                            Page 1, Region 5,\n                            Score 0.03\n                        </summary>\n                        n recent years, the development of Artificial Intelli[= (AI) in the fields of gastroenterology and hepa tology has made remarkable progress. The use of AI is studied in gastroenterology for the endoscopic evaluation of Barrett's oesophagus, oesophageal and gastric malignancies, colorectal polyp detection and characterization, evaluation of inflammatory bowel disease and capsule endoscopy for obscure gastrointestinal bleed! (Table 1). With the increased development and usage of AI in gastroenterology, research in the field of hepatology also has accelerated. AI in hepatology can be used to detect liver fibrosis, diagnose non-alcoholic fatty liver disease (NAFLD), differentiate focal liver lesions, diagnose hepatocellular cancer, prognosticate chronic liver disease (CLD) \n                    </details>\n                </li>\n\n                \n                <li>\n                    <details>\n                        <summary style='\n                background-color: rgba(0, 150, 0, 0.4140871);\n                color: white\n                ' title='AI is an upcoming promising technology that is rapidly becoming an essential part of patient management. Applications of AI have expanded in all branches of medicines, especially endoscopy and hepatology. The conglomeration of data which can be clinical/laboratory, multi-omics, natural language processing (NLP) and Image recognition (both radiology-based and pathology-based) has contributed to the prediction of fibrosis, classification of liver masses and prediction of treatment response and transplant outcomes. ’® In this review the majority of studies mentioned focussed on diagnosis part. There are very few studies that help to predict treatment response, post-liver transplant response, and prediction of hepatotoxicity in newer drug development and more studies are needed. AI also helps for realtime biomonitoring, by identification of patients at high risk of clinical decompensation and hospital admission, so that timely intervention can be done for high-risk patients. With the increasing advancement of image capture and storage, AI will bring striking changes to the diagnosis of various liver diseases with the ‘big data’ being available. However, there are many hurdles to overcome, which researchers will do in the near future using validation studies and molecular research. It is expected that gastroenterology and hepatology will be one of the first areas in medicine to introduce AI tools on a wide-scale basis, due to its inherent reliance on endoscopic and radiological imaging. Hence, GI and liver specialists should be proud that our field sets the ground for AI development in medicine. '>\n                            Page 11, Region 6,\n                            Score 0.41\n                        </summary>\n                        AI is an upcoming promising technology that is rapidly becoming an essential part of patient management. Applications of AI have expanded in all branches of medicines, especially endoscopy and hepatology. The conglomeration of data which can be clinical/laboratory, multi-omics, natural language processing (NLP) and Image recognition (both radiology-based and pathology-based) has contributed to the prediction of fibrosis, classification of liver masses and prediction of treatment response and transplant outcomes. ’® In this review the majority of studies mentioned focussed on diagnosis part. There are very few studies that help to predict treatment response, post-liver transplant response, and prediction of hepatotoxicity in newer drug development and more studies are needed. AI also helps for realtime biomonitoring, by identification of patients at high risk of clinical decompensation and hospital admission, so that timely intervention can be done for high-risk patients. With the increasing advancement of image capture and storage, AI will bring striking changes to the diagnosis of various liver diseases with the ‘big data’ being available. However, there are many hurdles to overcome, which researchers will do in the near future using validation studies and molecular research. It is expected that gastroenterology and hepatology will be one of the first areas in medicine to introduce AI tools on a wide-scale basis, due to its inherent reliance on endoscopic and radiological imaging. Hence, GI and liver specialists should be proud that our field sets the ground for AI development in medicine. \n                    </details>\n                </li>\n\n                \n</ol></li><li><h3>Development of a deep pathomics score for predicting hepatocellular carcinoma recurrence after liver transplantation</h3>\n\n<ol>\n\n                <li>\n                    <details>\n                        <summary style='\n                background-color: rgba(0, 150, 0, 0.11707821);\n                color: white\n                ' title='Recent advances in artificial intelligence (AI) methodologies have made great strides in automatically quantifying pathological patterns based on digital histological slides [18]. With the integration of digital slides into the pathology workflow, advanced algorithms and computeraided techniques expand and reinforce their utilization in tumor diagnosis, prognostic prediction and therapy targeting, which enable the interpretation of information beyond human limits and ultimately, improve patient management [19-21]. For HCC, survival indicators after liver resection were proposed based on weakly supervised deep learning methods, exhibiting high accuracy [22, 23]. With largely uncovered invisible information available from HCC histology, further integration of recurrence prediction models and AI algorithms in transplant patients suffering from HCC deserve to be explored. Moreover, a comprehensive research on correlation between HCC histological structures and prognosis is urgently needed. '>\n                            Page 3, Region 7,\n                            Score 0.12\n                        </summary>\n                        Recent advances in artificial intelligence (AI) methodologies have made great strides in automatically quantifying pathological patterns based on digital histological slides [18]. With the integration of digital slides into the pathology workflow, advanced algorithms and computeraided techniques expand and reinforce their utilization in tumor diagnosis, prognostic prediction and therapy targeting, which enable the interpretation of information beyond human limits and ultimately, improve patient management [19-21]. For HCC, survival indicators after liver resection were proposed based on weakly supervised deep learning methods, exhibiting high accuracy [22, 23]. With largely uncovered invisible information available from HCC histology, further integration of recurrence prediction models and AI algorithms in transplant patients suffering from HCC deserve to be explored. Moreover, a comprehensive research on correlation between HCC histological structures and prognosis is urgently needed. \n                    </details>\n                </li>\n\n                \n</ol></li>\n                </ol>\n            </div>\n        </details>\n        \n        <style>\n            .query_results {\n                max-height: 900px;\n                overflow-y: auto;\n                border: 1px solid gray;\n            }\n        </style>\n        "
      }
     },
     "3ee26bde4b8d45ac9369535a2afc089b": {
      "model_module": "@jupyter-widgets/base",
      "model_module_version": "2.0.0",
      "model_name": "LayoutModel",
      "state": {
       "height": "50%",
       "width": "50%"
      }
     },
     "3f5fb5c8b49d4c81b32da6080c98a0cf": {
      "model_module": "@jupyter-widgets/controls",
      "model_module_version": "2.0.0",
      "model_name": "HTMLModel",
      "state": {
       "layout": "IPY_MODEL_1ae4012ebfcd4ab699129c7f628bfa4e",
       "style": "IPY_MODEL_3606349d005c4b17b60907ef8bb39e30",
       "value": "Final thoughts on the current state of AI in liver cancer analysis and potential future developments in the field."
      }
     },
     "3f6ee735c7234635b817ee950003c28a": {
      "model_module": "@jupyter-widgets/base",
      "model_module_version": "2.0.0",
      "model_name": "LayoutModel",
      "state": {
       "justify_content": "flex-start",
       "width": "90%"
      }
     },
     "3f756b5705ad41cda80bb6b225146f7a": {
      "model_module": "@jupyter-widgets/base",
      "model_module_version": "2.0.0",
      "model_name": "LayoutModel",
      "state": {
       "justify_content": "flex-start",
       "width": "90%"
      }
     },
     "3ffe5e91c08a4d70b11d60037b977c0e": {
      "model_module": "@jupyter-widgets/base",
      "model_module_version": "2.0.0",
      "model_name": "LayoutModel",
      "state": {
       "justify_content": "flex-start",
       "width": "90%"
      }
     },
     "4081e83e111441bc95e6e9c393c754aa": {
      "model_module": "@jupyter-widgets/controls",
      "model_module_version": "2.0.0",
      "model_name": "TextModel",
      "state": {
       "description": "Prompt",
       "layout": "IPY_MODEL_491a890a07f94c52bb80d9fbdbcd6a15",
       "placeholder": "",
       "style": "IPY_MODEL_16e3ceaa60ba4aad853a6788de82807e"
      }
     },
     "42203842dd2f4672987941183851abf4": {
      "model_module": "@jupyter-widgets/controls",
      "model_module_version": "2.0.0",
      "model_name": "TextStyleModel",
      "state": {
       "description_width": "50px",
       "font_size": null,
       "text_color": null
      }
     },
     "42ca5da06f09464dbfab757b6df04b56": {
      "model_module": "@jupyter-widgets/base",
      "model_module_version": "2.0.0",
      "model_name": "LayoutModel",
      "state": {
       "justify_content": "flex-start",
       "width": "90%"
      }
     },
     "4335a7e85ea9428797ca866309bce750": {
      "model_module": "@jupyter-widgets/base",
      "model_module_version": "2.0.0",
      "model_name": "LayoutModel",
      "state": {
       "justify_content": "flex-start",
       "width": "90%"
      }
     },
     "4368538e5cfa4a86abd1bb58c3779f9e": {
      "model_module": "@jupyter-widgets/controls",
      "model_module_version": "2.0.0",
      "model_name": "TextModel",
      "state": {
       "description": "Words",
       "layout": "IPY_MODEL_e2838fb6812d4588b2630060fab787a6",
       "placeholder": "",
       "style": "IPY_MODEL_d7cbaf32f23a4cd9808a5b59f8ea1a0e",
       "value": "500"
      }
     },
     "44244ac771d34012b660233308f1e10d": {
      "model_module": "@jupyter-widgets/controls",
      "model_module_version": "2.0.0",
      "model_name": "TextStyleModel",
      "state": {
       "description_width": "50px",
       "font_size": null,
       "text_color": null
      }
     },
     "449c12d5ea2a42df9d66cba6f7e0699a": {
      "model_module": "@jupyter-widgets/base",
      "model_module_version": "2.0.0",
      "model_name": "LayoutModel",
      "state": {}
     },
     "44d1dea7044246639a1e6e44274cb6cf": {
      "model_module": "@jupyter-widgets/controls",
      "model_module_version": "2.0.0",
      "model_name": "HTMLModel",
      "state": {
       "layout": "IPY_MODEL_617affe8e70441e488554446afa5f833",
       "style": "IPY_MODEL_f9ecad0954bd4bb0bcd2a42c1e19f8b6",
       "value": "A thorough comparison of supervised, weakly supervised, and unsupervised learning approaches in AI for liver cancer analysis."
      }
     },
     "453eb083ee2347aaa0488e87a125f680": {
      "model_module": "@jupyter-widgets/controls",
      "model_module_version": "2.0.0",
      "model_name": "TextStyleModel",
      "state": {
       "description_width": "50px",
       "font_size": null,
       "text_color": null
      }
     },
     "45f0dfaabae5487d92c82d0ad4827929": {
      "model_module": "@jupyter-widgets/controls",
      "model_module_version": "2.0.0",
      "model_name": "ButtonModel",
      "state": {
       "description": "Translate",
       "icon": "language",
       "layout": "IPY_MODEL_d7701cef7d2c4d5997fb9f56e2e02cd3",
       "style": "IPY_MODEL_985a658d9fb54dcabb5cd1067f86c030",
       "tooltip": "Click and translate the details for this section"
      }
     },
     "463d51bbde6045be97e0b58ac55eecc1": {
      "model_module": "@jupyter-widgets/controls",
      "model_module_version": "2.0.0",
      "model_name": "ButtonStyleModel",
      "state": {
       "font_family": null,
       "font_size": null,
       "font_style": null,
       "font_variant": null,
       "font_weight": null,
       "text_color": null,
       "text_decoration": null
      }
     },
     "4688acaf8f6641399e535ffa5ed73d2d": {
      "model_module": "@jupyter-widgets/controls",
      "model_module_version": "2.0.0",
      "model_name": "ButtonStyleModel",
      "state": {
       "font_family": null,
       "font_size": null,
       "font_style": null,
       "font_variant": null,
       "font_weight": null,
       "text_color": null,
       "text_decoration": null
      }
     },
     "469b7a45af9f4a61a34af9d83bc12124": {
      "model_module": "@jupyter-widgets/controls",
      "model_module_version": "2.0.0",
      "model_name": "TextStyleModel",
      "state": {
       "description_width": "50px",
       "font_size": null,
       "text_color": null
      }
     },
     "46ea1cee297d46bca0b328c564de909f": {
      "model_module": "@jupyter-widgets/base",
      "model_module_version": "2.0.0",
      "model_name": "LayoutModel",
      "state": {}
     },
     "47bcbc94386a4f9491ff3116d965d788": {
      "model_module": "@jupyter-widgets/base",
      "model_module_version": "2.0.0",
      "model_name": "LayoutModel",
      "state": {}
     },
     "47c8c8eb4c70420faa51a77900213d1a": {
      "model_module": "@jupyter-widgets/controls",
      "model_module_version": "2.0.0",
      "model_name": "TextModel",
      "state": {
       "description": "Prompt",
       "layout": "IPY_MODEL_55774bbdcc6f49dd87d4598d787a690e",
       "placeholder": "",
       "style": "IPY_MODEL_cb982a6cf539403e92bbd2c213882e4a"
      }
     },
     "47cde4de304c4ffd92b8d07621c29b1a": {
      "model_module": "@jupyter-widgets/controls",
      "model_module_version": "2.0.0",
      "model_name": "TextStyleModel",
      "state": {
       "description_width": "50px",
       "font_size": null,
       "text_color": null
      }
     },
     "47ce3aa8dcda45699cff158a9ee3ee3b": {
      "model_module": "@jupyter-widgets/base",
      "model_module_version": "2.0.0",
      "model_name": "LayoutModel",
      "state": {}
     },
     "47eb860748ed446585e546f1b310061a": {
      "model_module": "@jupyter-widgets/base",
      "model_module_version": "2.0.0",
      "model_name": "LayoutModel",
      "state": {
       "justify_content": "flex-start",
       "width": "90%"
      }
     },
     "47f399110d974d2492d50a2bf9ce720e": {
      "model_module": "@jupyter-widgets/base",
      "model_module_version": "2.0.0",
      "model_name": "LayoutModel",
      "state": {
       "width": "50%"
      }
     },
     "48712a51d2374dbdb0507d5c750bf276": {
      "model_module": "@jupyter-widgets/controls",
      "model_module_version": "2.0.0",
      "model_name": "TextStyleModel",
      "state": {
       "description_width": "50px",
       "font_size": null,
       "text_color": null
      }
     },
     "491a890a07f94c52bb80d9fbdbcd6a15": {
      "model_module": "@jupyter-widgets/base",
      "model_module_version": "2.0.0",
      "model_name": "LayoutModel",
      "state": {
       "justify_content": "flex-start",
       "width": "90%"
      }
     },
     "4934915c4bc3483f98a5c0fb83eb8825": {
      "model_module": "@jupyter-widgets/controls",
      "model_module_version": "2.0.0",
      "model_name": "TextStyleModel",
      "state": {
       "description_width": "50px",
       "font_size": null,
       "text_color": null
      }
     },
     "493598660dff40f9baa52d434983ee73": {
      "model_module": "@jupyter-widgets/controls",
      "model_module_version": "2.0.0",
      "model_name": "TextStyleModel",
      "state": {
       "description_width": "50px",
       "font_size": null,
       "text_color": null
      }
     },
     "4970eef8c416405b87313dce65cbb577": {
      "model_module": "@jupyter-widgets/controls",
      "model_module_version": "2.0.0",
      "model_name": "TextStyleModel",
      "state": {
       "description_width": "50px",
       "font_size": null,
       "text_color": null
      }
     },
     "4a5d149b78994719814a656d4006b12e": {
      "model_module": "@jupyter-widgets/controls",
      "model_module_version": "2.0.0",
      "model_name": "ButtonModel",
      "state": {
       "description": "Summarize",
       "icon": "radiation",
       "layout": "IPY_MODEL_d38521e81c9b4269b0085e65705625d0",
       "style": "IPY_MODEL_9cd79e38c3ee479ca40c26e2fe1fd66f",
       "tooltip": "Summarize this section based on the topic and intro"
      }
     },
     "4ac75b846b984589aacb48c0159da26c": {
      "model_module": "@jupyter-widgets/controls",
      "model_module_version": "2.0.0",
      "model_name": "TextModel",
      "state": {
       "description": "Words",
       "layout": "IPY_MODEL_3f6ee735c7234635b817ee950003c28a",
       "placeholder": "",
       "style": "IPY_MODEL_c915b8cb913e45adb98e23ac87aaa798",
       "value": "500"
      }
     },
     "4ae52a15a22f4a7ea26e710c243319ea": {
      "model_module": "@jupyter-widgets/output",
      "model_module_version": "1.0.0",
      "model_name": "OutputModel",
      "state": {
       "layout": "IPY_MODEL_b4f9abeb2f1b4be2aa7650ba89a38037"
      }
     },
     "4b419b8fb25d46029c4db002320bfc6c": {
      "model_module": "@jupyter-widgets/base",
      "model_module_version": "2.0.0",
      "model_name": "LayoutModel",
      "state": {
       "justify_content": "flex-start",
       "width": "90%"
      }
     },
     "4b8023882293428bb5f37e1ead5de31a": {
      "model_module": "@jupyter-widgets/base",
      "model_module_version": "2.0.0",
      "model_name": "LayoutModel",
      "state": {}
     },
     "4bba896d381b46d5b31657a600eeb027": {
      "model_module": "@jupyter-widgets/controls",
      "model_module_version": "2.0.0",
      "model_name": "TextModel",
      "state": {
       "description": "Intro",
       "layout": "IPY_MODEL_89fc72cb874a4863bf485d655dfcff96",
       "style": "IPY_MODEL_644b2c80b7a24ef6ae1a846a8160bf77",
       "value": "Exploration of AI's role in identifying predictive indicators for therapy response in liver cancer treatment."
      }
     },
     "4c2329f849a3486788710a32dae3916a": {
      "model_module": "@jupyter-widgets/controls",
      "model_module_version": "2.0.0",
      "model_name": "ButtonModel",
      "state": {
       "description": "Summarize",
       "icon": "radiation",
       "layout": "IPY_MODEL_7d237b4139234a6682693e48f9f0a8bb",
       "style": "IPY_MODEL_6980dc0844ac477195bfab5cbb5f40f0",
       "tooltip": "Summarize this section based on the topic and intro"
      }
     },
     "4c6fd114467347fc98243e9b2be65233": {
      "model_module": "@jupyter-widgets/controls",
      "model_module_version": "2.0.0",
      "model_name": "VBoxModel",
      "state": {
       "children": [
        "IPY_MODEL_3284030d31e64ae7a3cb83d40a41d3c5",
        "IPY_MODEL_a7180dbdfb004a5f9a1e594aa978959a",
        "IPY_MODEL_4bba896d381b46d5b31657a600eeb027",
        "IPY_MODEL_83cdb27a43a9439085b6ca2499e2191e",
        "IPY_MODEL_e2fa33433fae4bb2b8be74d53b0c66bd"
       ],
       "layout": "IPY_MODEL_87fe65d1e7f6427f8623c0e1079166fb"
      }
     },
     "4c8c60b87308433589369c0c35f3dad3": {
      "model_module": "@jupyter-widgets/base",
      "model_module_version": "2.0.0",
      "model_name": "LayoutModel",
      "state": {}
     },
     "4cda9c928bc7414a954c31ee09c764a5": {
      "model_module": "@jupyter-widgets/base",
      "model_module_version": "2.0.0",
      "model_name": "LayoutModel",
      "state": {}
     },
     "4dd73ee56a8d40beb58ab201d64744ee": {
      "model_module": "@jupyter-widgets/controls",
      "model_module_version": "2.0.0",
      "model_name": "TextModel",
      "state": {
       "description": "Words",
       "layout": "IPY_MODEL_690ccdc08eb840daa37f24fcca01421e",
       "placeholder": "",
       "style": "IPY_MODEL_e8b0425c5ab94defb175e9f92b94df32",
       "value": "500"
      }
     },
     "4dea036fa9a244edb93017403ce646ed": {
      "model_module": "@jupyter-widgets/base",
      "model_module_version": "2.0.0",
      "model_name": "LayoutModel",
      "state": {
       "width": "50%"
      }
     },
     "4dfd25a0a30747deb74666c5322c9500": {
      "model_module": "@jupyter-widgets/controls",
      "model_module_version": "2.0.0",
      "model_name": "TextModel",
      "state": {
       "description": "Intro",
       "layout": "IPY_MODEL_35a15d05e7b14f238253644689e3a1d8",
       "style": "IPY_MODEL_7470a218e0324e1a85dd5169b9556b21",
       "value": "A comparative study of different AI models like support vector machines, random forests and deep learning for liver cancer analysis."
      }
     },
     "4e4c827fad3540eb96fbe5aa91e71bbc": {
      "model_module": "@jupyter-widgets/controls",
      "model_module_version": "2.0.0",
      "model_name": "TextModel",
      "state": {
       "description": "Title",
       "layout": "IPY_MODEL_5832f728b1424d8f92136e93d50b7a39",
       "style": "IPY_MODEL_469b7a45af9f4a61a34af9d83bc12124",
       "value": "0: Unraveling the “black-box” of artificial intelligence-based pathological analysis of liver cancer"
      }
     },
     "4e8905c00b1246ddae533f20ed19f4b7": {
      "model_module": "@jupyter-widgets/controls",
      "model_module_version": "2.0.0",
      "model_name": "ButtonStyleModel",
      "state": {
       "button_color": "orange",
       "font_family": null,
       "font_size": null,
       "font_style": null,
       "font_variant": null,
       "font_weight": null,
       "text_color": null,
       "text_decoration": null
      }
     },
     "4eac3a390a494f4ca781ea44edc70a50": {
      "model_module": "@jupyter-widgets/output",
      "model_module_version": "1.0.0",
      "model_name": "OutputModel",
      "state": {
       "layout": "IPY_MODEL_a210c9c96313471bb059f1ebffdfe264"
      }
     },
     "4ec7eff182d844a98d54fabb958e4e90": {
      "model_module": "@jupyter-widgets/controls",
      "model_module_version": "2.0.0",
      "model_name": "TextModel",
      "state": {
       "description": "Title",
       "layout": "IPY_MODEL_f0971140e9cf4eb88e69a3594fe8fcff",
       "style": "IPY_MODEL_0cc3d0e102ef4bbabd0ea379a34bd6cd",
       "value": "3.1.3.2: Image captioning with visual explanation"
      }
     },
     "4f04212edcbe4d93a51d09b727223a11": {
      "model_module": "@jupyter-widgets/controls",
      "model_module_version": "2.0.0",
      "model_name": "TextStyleModel",
      "state": {
       "description_width": "50px",
       "font_size": null,
       "text_color": null
      }
     },
     "4f44345d035f499b9ac39e3969f7e673": {
      "model_module": "@jupyter-widgets/base",
      "model_module_version": "2.0.0",
      "model_name": "LayoutModel",
      "state": {}
     },
     "5017489860a14c3ab5a3c97ad7d559f4": {
      "model_module": "@jupyter-widgets/base",
      "model_module_version": "2.0.0",
      "model_name": "LayoutModel",
      "state": {
       "height": "50%",
       "width": "50%"
      }
     },
     "5038e397a684435ebefb7ea93f2050bc": {
      "model_module": "@jupyter-widgets/base",
      "model_module_version": "2.0.0",
      "model_name": "LayoutModel",
      "state": {
       "height": "50%",
       "width": "50%"
      }
     },
     "506e516208b141f38eb99e95d19680c8": {
      "model_module": "@jupyter-widgets/controls",
      "model_module_version": "2.0.0",
      "model_name": "TextStyleModel",
      "state": {
       "description_width": "50px",
       "font_size": null,
       "text_color": null
      }
     },
     "507616c6824f4717a829a04e4e98dc3f": {
      "model_module": "@jupyter-widgets/controls",
      "model_module_version": "2.0.0",
      "model_name": "ButtonStyleModel",
      "state": {
       "font_family": null,
       "font_size": null,
       "font_style": null,
       "font_variant": null,
       "font_weight": null,
       "text_color": null,
       "text_decoration": null
      }
     },
     "50b0683c840d48acbd4cf7e402f0807d": {
      "model_module": "@jupyter-widgets/controls",
      "model_module_version": "2.0.0",
      "model_name": "TextStyleModel",
      "state": {
       "description_width": "50px",
       "font_size": null,
       "text_color": null
      }
     },
     "50d8ec878d9c47c5b961b973f23f0222": {
      "model_module": "@jupyter-widgets/controls",
      "model_module_version": "2.0.0",
      "model_name": "ButtonModel",
      "state": {
       "description": "Translate",
       "icon": "language",
       "layout": "IPY_MODEL_46ea1cee297d46bca0b328c564de909f",
       "style": "IPY_MODEL_dca4def965a84aaf8cad25d3d5408f69",
       "tooltip": "Click and translate the details for this section"
      }
     },
     "50e0a0f5c50d4feb8342847f6f5dcbf2": {
      "model_module": "@jupyter-widgets/base",
      "model_module_version": "2.0.0",
      "model_name": "LayoutModel",
      "state": {}
     },
     "5164e93dc60b4fc79309ffb0aff0242f": {
      "model_module": "@jupyter-widgets/base",
      "model_module_version": "2.0.0",
      "model_name": "LayoutModel",
      "state": {}
     },
     "51dd1a568ca644f0ba0c6bc5d01de05c": {
      "model_module": "@jupyter-widgets/controls",
      "model_module_version": "2.0.0",
      "model_name": "ButtonModel",
      "state": {
       "description": "Translate",
       "icon": "language",
       "layout": "IPY_MODEL_15860aa5dd20433d92cd7ed4f463dec8",
       "style": "IPY_MODEL_1b266b388ebd410d87550251f98a4a8f",
       "tooltip": "Click and translate the details for this section"
      }
     },
     "5279f1e6a68145f9a30d908802c304c8": {
      "model_module": "@jupyter-widgets/controls",
      "model_module_version": "2.0.0",
      "model_name": "VBoxModel",
      "state": {
       "children": [
        "IPY_MODEL_3b91f9811668474f93e29594951788fc"
       ],
       "layout": "IPY_MODEL_a98f06d75b0d444b80f6252a5608e74a"
      }
     },
     "53f5135226c44520888cb5642143a783": {
      "model_module": "@jupyter-widgets/controls",
      "model_module_version": "2.0.0",
      "model_name": "VBoxModel",
      "state": {
       "children": [
        "IPY_MODEL_567324591973498a955eb16db570c082",
        "IPY_MODEL_bd4eaeed46c1428fb55e6a998101490a",
        "IPY_MODEL_3dd0818be0284bfcb3a9273aa66abf81",
        "IPY_MODEL_4368538e5cfa4a86abd1bb58c3779f9e",
        "IPY_MODEL_b9898fa33cd242fb8f756498b808dde5"
       ],
       "layout": "IPY_MODEL_32ce677b0ab647ae88ed514cd2768644"
      }
     },
     "54a9b56ed0c24a46957710230d3074a4": {
      "model_module": "@jupyter-widgets/base",
      "model_module_version": "2.0.0",
      "model_name": "LayoutModel",
      "state": {
       "width": "50%"
      }
     },
     "54c17e3ba8cb43aba002ee249aa13fde": {
      "model_module": "@jupyter-widgets/base",
      "model_module_version": "2.0.0",
      "model_name": "LayoutModel",
      "state": {}
     },
     "54d7c5e57d0845909f874ccf8d1c5ac3": {
      "model_module": "@jupyter-widgets/output",
      "model_module_version": "1.0.0",
      "model_name": "OutputModel",
      "state": {
       "layout": "IPY_MODEL_caeb101e4b1a4368a7a419a93da09582"
      }
     },
     "55774bbdcc6f49dd87d4598d787a690e": {
      "model_module": "@jupyter-widgets/base",
      "model_module_version": "2.0.0",
      "model_name": "LayoutModel",
      "state": {
       "justify_content": "flex-start",
       "width": "90%"
      }
     },
     "55851080cf5e4451af18c19af9c6dfae": {
      "model_module": "@jupyter-widgets/base",
      "model_module_version": "2.0.0",
      "model_name": "LayoutModel",
      "state": {
       "justify_content": "flex-start",
       "width": "90%"
      }
     },
     "55cd3497c18d4738802c2c2e3dcde11b": {
      "model_module": "@jupyter-widgets/controls",
      "model_module_version": "2.0.0",
      "model_name": "HTMLStyleModel",
      "state": {
       "description_width": "",
       "font_size": null,
       "text_color": null
      }
     },
     "567324591973498a955eb16db570c082": {
      "model_module": "@jupyter-widgets/controls",
      "model_module_version": "2.0.0",
      "model_name": "ButtonModel",
      "state": {
       "description": "Summarize",
       "icon": "radiation",
       "layout": "IPY_MODEL_6d3ddc19900741f5b48fdcebf3c5c08d",
       "style": "IPY_MODEL_dc6edd9c05d54c44828a3633991af190",
       "tooltip": "Summarize this section based on the topic and intro"
      }
     },
     "56bf25126dcc428586142101a8cc68b9": {
      "model_module": "@jupyter-widgets/base",
      "model_module_version": "2.0.0",
      "model_name": "LayoutModel",
      "state": {
       "justify_content": "flex-start",
       "width": "90%"
      }
     },
     "56e99019f62044c089ca92877382e3bf": {
      "model_module": "@jupyter-widgets/base",
      "model_module_version": "2.0.0",
      "model_name": "LayoutModel",
      "state": {}
     },
     "57609b27a8374c809ec8fc98e8796117": {
      "model_module": "@jupyter-widgets/controls",
      "model_module_version": "2.0.0",
      "model_name": "ButtonModel",
      "state": {
       "description": "Translate",
       "icon": "language",
       "layout": "IPY_MODEL_c5977b424ab644f9a544a1ecd1de4748",
       "style": "IPY_MODEL_5cb27c0623de4517a317973ccb66fef8",
       "tooltip": "Click and translate the details for this section"
      }
     },
     "57751185b80c43ca9d27220cd2510859": {
      "model_module": "@jupyter-widgets/base",
      "model_module_version": "2.0.0",
      "model_name": "LayoutModel",
      "state": {}
     },
     "58299e91cd82480a8763ca1411b09301": {
      "model_module": "@jupyter-widgets/controls",
      "model_module_version": "2.0.0",
      "model_name": "TextStyleModel",
      "state": {
       "description_width": "50px",
       "font_size": null,
       "text_color": null
      }
     },
     "5832f728b1424d8f92136e93d50b7a39": {
      "model_module": "@jupyter-widgets/base",
      "model_module_version": "2.0.0",
      "model_name": "LayoutModel",
      "state": {
       "justify_content": "flex-start",
       "width": "90%"
      }
     },
     "590d0a1c4e844737959cf9d68ee1ec0a": {
      "model_module": "@jupyter-widgets/base",
      "model_module_version": "2.0.0",
      "model_name": "LayoutModel",
      "state": {
       "justify_content": "flex-start",
       "width": "90%"
      }
     },
     "59627e1012824bb097033ae5a541e5cc": {
      "model_module": "@jupyter-widgets/controls",
      "model_module_version": "2.0.0",
      "model_name": "TextModel",
      "state": {
       "description": "Intro",
       "layout": "IPY_MODEL_0aefcbc13c9c4c4e94a2ce5a3519ac3d",
       "style": "IPY_MODEL_2c2703fe045d42e09588825bf6908098",
       "value": "Understanding how the triplet network, an example-based explanation model, works in the context of AI-based liver cancer analysis."
      }
     },
     "5998a7c5765249dd802566a58a336a06": {
      "model_module": "@jupyter-widgets/controls",
      "model_module_version": "2.0.0",
      "model_name": "VBoxModel",
      "state": {
       "children": [
        "IPY_MODEL_d650dcffb7e747a495320d6a7af0a1a6",
        "IPY_MODEL_91dd83dba4654a65af5d14d0792dfb39",
        "IPY_MODEL_e4480eb126334f22bd7da9efcc367add",
        "IPY_MODEL_fd3f778a58014caf802f664ec1ecbe99",
        "IPY_MODEL_4ae52a15a22f4a7ea26e710c243319ea"
       ],
       "layout": "IPY_MODEL_1de881f9a6494bb1b257b8954c18e0aa"
      }
     },
     "59aa718678fa46c9a06d8de82111b10c": {
      "model_module": "@jupyter-widgets/base",
      "model_module_version": "2.0.0",
      "model_name": "LayoutModel",
      "state": {
       "height": "50%",
       "width": "50%"
      }
     },
     "59f92846098947638382da6b8e1bbc91": {
      "model_module": "@jupyter-widgets/controls",
      "model_module_version": "2.0.0",
      "model_name": "ButtonModel",
      "state": {
       "description": "Summarize",
       "icon": "radiation",
       "layout": "IPY_MODEL_ff220d5b36f94fcc8aeb57ff41b971fa",
       "style": "IPY_MODEL_fbea0682b9964469884b6452061f4fc4",
       "tooltip": "Summarize this section based on the topic and intro"
      }
     },
     "5a0935a205a04ff7b684a6e49a4ea010": {
      "model_module": "@jupyter-widgets/controls",
      "model_module_version": "2.0.0",
      "model_name": "VBoxModel",
      "state": {
       "children": [
        "IPY_MODEL_b246e09f47fe46c3ba0f3f83b3377721"
       ],
       "layout": "IPY_MODEL_b8e38086131f42aa9b936bbe8c73da78"
      }
     },
     "5a1be67ab0c246f7aca80ce46a289496": {
      "model_module": "@jupyter-widgets/base",
      "model_module_version": "2.0.0",
      "model_name": "LayoutModel",
      "state": {}
     },
     "5a3aa8f622474b0b98a3ea40695d7274": {
      "model_module": "@jupyter-widgets/base",
      "model_module_version": "2.0.0",
      "model_name": "LayoutModel",
      "state": {
       "width": "50%"
      }
     },
     "5a442a046fa847a4aac15c4f4c6933f8": {
      "model_module": "@jupyter-widgets/controls",
      "model_module_version": "2.0.0",
      "model_name": "TextStyleModel",
      "state": {
       "description_width": "50px",
       "font_size": null,
       "text_color": null
      }
     },
     "5a9a8ca47f954a2c85128dc3db1923ed": {
      "model_module": "@jupyter-widgets/base",
      "model_module_version": "2.0.0",
      "model_name": "LayoutModel",
      "state": {}
     },
     "5bb8c5eb09c0495ebc0453d2ebec79f9": {
      "model_module": "@jupyter-widgets/controls",
      "model_module_version": "2.0.0",
      "model_name": "TextStyleModel",
      "state": {
       "description_width": "50px",
       "font_size": null,
       "text_color": null
      }
     },
     "5cb27c0623de4517a317973ccb66fef8": {
      "model_module": "@jupyter-widgets/controls",
      "model_module_version": "2.0.0",
      "model_name": "ButtonStyleModel",
      "state": {
       "font_family": null,
       "font_size": null,
       "font_style": null,
       "font_variant": null,
       "font_weight": null,
       "text_color": null,
       "text_decoration": null
      }
     },
     "5ceaea4a897f447184b6c250b4b9820e": {
      "model_module": "@jupyter-widgets/controls",
      "model_module_version": "2.0.0",
      "model_name": "TextStyleModel",
      "state": {
       "description_width": "50px",
       "font_size": null,
       "text_color": null
      }
     },
     "5d6857b080e8421692d499f3c128d8b5": {
      "model_module": "@jupyter-widgets/base",
      "model_module_version": "2.0.0",
      "model_name": "LayoutModel",
      "state": {
       "justify_content": "flex-start",
       "width": "90%"
      }
     },
     "5d8dfc810f624474ababd4de84338c89": {
      "model_module": "@jupyter-widgets/controls",
      "model_module_version": "2.0.0",
      "model_name": "HTMLStyleModel",
      "state": {
       "description_width": "",
       "font_size": null,
       "text_color": null
      }
     },
     "5deb9fe01d424eee8f07be7f1280cb48": {
      "model_module": "@jupyter-widgets/controls",
      "model_module_version": "2.0.0",
      "model_name": "TextModel",
      "state": {
       "description": "Prompt",
       "layout": "IPY_MODEL_edde0ef659cb4f53a605fd3880a336bc",
       "placeholder": "",
       "style": "IPY_MODEL_9c61a0c494e7455ba5133bd37a8ccda2"
      }
     },
     "5f813e4ab1594e0cb59e59e0557de9c9": {
      "model_module": "@jupyter-widgets/controls",
      "model_module_version": "2.0.0",
      "model_name": "TextStyleModel",
      "state": {
       "description_width": "50px",
       "font_size": null,
       "text_color": null
      }
     },
     "5feef5e601474e268d729c9cea6b1f15": {
      "model_module": "@jupyter-widgets/controls",
      "model_module_version": "2.0.0",
      "model_name": "ButtonModel",
      "state": {
       "description": "Translate",
       "icon": "language",
       "layout": "IPY_MODEL_2a223540ef5a47b9a0edd267749d36c5",
       "style": "IPY_MODEL_21bbcf9311f144beae9735cfa4a32df3",
       "tooltip": "Click and translate the details for this section"
      }
     },
     "6092a317a7f443e598c92045b3610198": {
      "model_module": "@jupyter-widgets/controls",
      "model_module_version": "2.0.0",
      "model_name": "TextStyleModel",
      "state": {
       "description_width": "50px",
       "font_size": null,
       "text_color": null
      }
     },
     "617affe8e70441e488554446afa5f833": {
      "model_module": "@jupyter-widgets/base",
      "model_module_version": "2.0.0",
      "model_name": "LayoutModel",
      "state": {}
     },
     "6211dcce8a0f4268969f2e554b706d2a": {
      "model_module": "@jupyter-widgets/controls",
      "model_module_version": "2.0.0",
      "model_name": "ButtonModel",
      "state": {
       "description": "Summarize",
       "icon": "radiation",
       "layout": "IPY_MODEL_d4eb44e672a14f55a9934608406647d2",
       "style": "IPY_MODEL_e50a24d6aa2046de9b71c52b440b4c9e",
       "tooltip": "Summarize this section based on the topic and intro"
      }
     },
     "6282530fa7ce47b1844672815016062a": {
      "model_module": "@jupyter-widgets/controls",
      "model_module_version": "2.0.0",
      "model_name": "TextModel",
      "state": {
       "description": "Intro",
       "layout": "IPY_MODEL_839214e1f579431cb59918bc1447083c",
       "style": "IPY_MODEL_d576020fc88a4306a521ac2c86eb1cd9",
       "value": "Discussion on post hoc explanations, which provide insights into AI decisions after they have been made in the context of liver cancer analysis."
      }
     },
     "63189726c6f4487183bdb1c9cf618a26": {
      "model_module": "@jupyter-widgets/base",
      "model_module_version": "2.0.0",
      "model_name": "LayoutModel",
      "state": {}
     },
     "63397d3dcec64a7b9a5138ca60908e49": {
      "model_module": "@jupyter-widgets/base",
      "model_module_version": "2.0.0",
      "model_name": "LayoutModel",
      "state": {}
     },
     "635d9c9278294e27b6a9aea2618ef75c": {
      "model_module": "@jupyter-widgets/controls",
      "model_module_version": "2.0.0",
      "model_name": "HBoxModel",
      "state": {
       "children": [
        "IPY_MODEL_6bd94b8a942a44b68aaa04913944b176",
        "IPY_MODEL_372d63ad38b54c519302747bdffeb5a3"
       ],
       "layout": "IPY_MODEL_8f5f5382ac01460ba0915dfb574f5c13"
      }
     },
     "6393e50a003b43c49d60123488f9e365": {
      "model_module": "@jupyter-widgets/controls",
      "model_module_version": "2.0.0",
      "model_name": "TextModel",
      "state": {
       "description": "Words",
       "layout": "IPY_MODEL_47eb860748ed446585e546f1b310061a",
       "placeholder": "",
       "style": "IPY_MODEL_bb98578f72964062a5eb71e321c31c13",
       "value": "500"
      }
     },
     "63b80f8ce154473390f66983355ba9e2": {
      "model_module": "@jupyter-widgets/controls",
      "model_module_version": "2.0.0",
      "model_name": "TextStyleModel",
      "state": {
       "description_width": "50px",
       "font_size": null,
       "text_color": null
      }
     },
     "642a64a94cd244c58aa820f901c157ac": {
      "model_module": "@jupyter-widgets/controls",
      "model_module_version": "2.0.0",
      "model_name": "TextModel",
      "state": {
       "description": "Prompt",
       "layout": "IPY_MODEL_bd8c6ff361c34c07b52999cd0906873f",
       "placeholder": "",
       "style": "IPY_MODEL_acb55e0ff3214c4ebcd27eff146affc2"
      }
     },
     "644b2c80b7a24ef6ae1a846a8160bf77": {
      "model_module": "@jupyter-widgets/controls",
      "model_module_version": "2.0.0",
      "model_name": "TextStyleModel",
      "state": {
       "description_width": "50px",
       "font_size": null,
       "text_color": null
      }
     },
     "645b1596799448758e10ba876310ebb0": {
      "model_module": "@jupyter-widgets/base",
      "model_module_version": "2.0.0",
      "model_name": "LayoutModel",
      "state": {}
     },
     "64765485c774453ab6a157678df839d6": {
      "model_module": "@jupyter-widgets/controls",
      "model_module_version": "2.0.0",
      "model_name": "HBoxModel",
      "state": {
       "children": [
        "IPY_MODEL_983fe7bbc0e143e7b9c172b13177c91f",
        "IPY_MODEL_20d1aa64411e45c9adf7f8e89a900b99"
       ],
       "layout": "IPY_MODEL_56e99019f62044c089ca92877382e3bf"
      }
     },
     "6526224b02984a5bb8c2cb5a41b80778": {
      "model_module": "@jupyter-widgets/controls",
      "model_module_version": "2.0.0",
      "model_name": "TextModel",
      "state": {
       "description": "Words",
       "layout": "IPY_MODEL_f2608e0a3bc44038b5cb80af42f8b77f",
       "placeholder": "",
       "style": "IPY_MODEL_6d54c3f70fce45c4af626d60a7abe334",
       "value": "500"
      }
     },
     "65d25cde60c5494d8b08508c50320d5e": {
      "model_module": "@jupyter-widgets/controls",
      "model_module_version": "2.0.0",
      "model_name": "HTMLModel",
      "state": {
       "layout": "IPY_MODEL_3c99bc44ebf041d998276254f3453eda",
       "style": "IPY_MODEL_adb608558b90447a8561749259763e4f",
       "value": "A detailed analysis of the existing challenges and limitations in the use of AI for liver cancer management."
      }
     },
     "65eecaeaf20e4efe9ffbde51934ccc47": {
      "model_module": "@jupyter-widgets/controls",
      "model_module_version": "2.0.0",
      "model_name": "TextStyleModel",
      "state": {
       "description_width": "50px",
       "font_size": null,
       "text_color": null
      }
     },
     "6639f483f4024f2781eba11076dd8ab2": {
      "model_module": "@jupyter-widgets/base",
      "model_module_version": "2.0.0",
      "model_name": "LayoutModel",
      "state": {
       "width": "50%"
      }
     },
     "66bf05397ece4bfcaf849f137e7d015c": {
      "model_module": "@jupyter-widgets/output",
      "model_module_version": "1.0.0",
      "model_name": "OutputModel",
      "state": {
       "layout": "IPY_MODEL_d401ed7e3d39472983638a96b4b16731"
      }
     },
     "674cd71104bd4960a3a0556b186ebaeb": {
      "model_module": "@jupyter-widgets/controls",
      "model_module_version": "2.0.0",
      "model_name": "ButtonStyleModel",
      "state": {
       "font_family": null,
       "font_size": null,
       "font_style": null,
       "font_variant": null,
       "font_weight": null,
       "text_color": null,
       "text_decoration": null
      }
     },
     "677420110794443ca6782dad11293abb": {
      "model_module": "@jupyter-widgets/base",
      "model_module_version": "2.0.0",
      "model_name": "LayoutModel",
      "state": {
       "justify_content": "flex-start",
       "width": "90%"
      }
     },
     "678e3ec872d74014b8b7d9aa375a7989": {
      "model_module": "@jupyter-widgets/controls",
      "model_module_version": "2.0.0",
      "model_name": "TextModel",
      "state": {
       "description": "Intro",
       "layout": "IPY_MODEL_e3295ffb6dfc4eaab22fe9caadaa6045",
       "style": "IPY_MODEL_138d6b2cd7794d1dafaabeecff76be9c",
       "value": "Exploring how AI uses examples to provide explanations for its decisions in liver cancer analysis."
      }
     },
     "67a69de98e314aaf85935fe9579469cd": {
      "model_module": "@jupyter-widgets/base",
      "model_module_version": "2.0.0",
      "model_name": "LayoutModel",
      "state": {}
     },
     "67bff18709264e769df9b3b88339098d": {
      "model_module": "@jupyter-widgets/base",
      "model_module_version": "2.0.0",
      "model_name": "LayoutModel",
      "state": {
       "justify_content": "flex-start",
       "width": "90%"
      }
     },
     "685b013daea1468fa0ee118858973322": {
      "model_module": "@jupyter-widgets/controls",
      "model_module_version": "2.0.0",
      "model_name": "TextModel",
      "state": {
       "description": "Prompt",
       "layout": "IPY_MODEL_69edff0c07864daebcd47fd58d582123",
       "placeholder": "",
       "style": "IPY_MODEL_3b4e61bcebd84070bb79cacfc1e3d97c"
      }
     },
     "68ec4a6a6d034874a946bbc2c822fb81": {
      "model_module": "@jupyter-widgets/base",
      "model_module_version": "2.0.0",
      "model_name": "LayoutModel",
      "state": {
       "height": "50%",
       "width": "50%"
      }
     },
     "690ccdc08eb840daa37f24fcca01421e": {
      "model_module": "@jupyter-widgets/base",
      "model_module_version": "2.0.0",
      "model_name": "LayoutModel",
      "state": {
       "justify_content": "flex-start",
       "width": "90%"
      }
     },
     "6980dc0844ac477195bfab5cbb5f40f0": {
      "model_module": "@jupyter-widgets/controls",
      "model_module_version": "2.0.0",
      "model_name": "ButtonStyleModel",
      "state": {
       "font_family": null,
       "font_size": null,
       "font_style": null,
       "font_variant": null,
       "font_weight": null,
       "text_color": null,
       "text_decoration": null
      }
     },
     "69cafe0b760e4ab98abebdff1ac53213": {
      "model_module": "@jupyter-widgets/base",
      "model_module_version": "2.0.0",
      "model_name": "LayoutModel",
      "state": {}
     },
     "69cc4ee057824e04911479d1797c9456": {
      "model_module": "@jupyter-widgets/controls",
      "model_module_version": "2.0.0",
      "model_name": "TextModel",
      "state": {
       "description": "Words",
       "layout": "IPY_MODEL_c6e07f15792d4e8c9f117d7c098f0ed5",
       "placeholder": "",
       "style": "IPY_MODEL_1cd458d737c34f3bb3908337fc032a78",
       "value": "500"
      }
     },
     "69edff0c07864daebcd47fd58d582123": {
      "model_module": "@jupyter-widgets/base",
      "model_module_version": "2.0.0",
      "model_name": "LayoutModel",
      "state": {
       "justify_content": "flex-start",
       "width": "90%"
      }
     },
     "6a4fddbcf75e45a0b8f2913d2ebde2d9": {
      "model_module": "@jupyter-widgets/base",
      "model_module_version": "2.0.0",
      "model_name": "LayoutModel",
      "state": {
       "justify_content": "flex-start",
       "width": "90%"
      }
     },
     "6a8a122d907d4feca9333e679855541a": {
      "model_module": "@jupyter-widgets/controls",
      "model_module_version": "2.0.0",
      "model_name": "VBoxModel",
      "state": {
       "children": [
        "IPY_MODEL_2ed3a7167d344d03a9a9d515790020e8",
        "IPY_MODEL_d565d4fb0c1c43bf9c6cde9981e5cb14",
        "IPY_MODEL_bfa0c67c4d934ccd83f9247ae2f78ea2",
        "IPY_MODEL_f6cfcc22c1d94867b7c10892b2d01bbf",
        "IPY_MODEL_01b91c4b75eb4d0c88eb7da1faa2cf1f"
       ],
       "layout": "IPY_MODEL_8913334d0a70473a88d0160ca064e8dc"
      }
     },
     "6aa63818b3544474b1fb8bdbacde2f87": {
      "model_module": "@jupyter-widgets/controls",
      "model_module_version": "2.0.0",
      "model_name": "TextModel",
      "state": {
       "description": "Prompt",
       "layout": "IPY_MODEL_ffa1f3f3b6354afa990eb75ee1dc5b6a",
       "placeholder": "",
       "style": "IPY_MODEL_d49c5e0c1fd8469795b496207b522deb"
      }
     },
     "6abc18da6a1743e187b0e6d36752eae5": {
      "model_module": "@jupyter-widgets/base",
      "model_module_version": "2.0.0",
      "model_name": "LayoutModel",
      "state": {
       "height": "50%",
       "width": "50%"
      }
     },
     "6bd94b8a942a44b68aaa04913944b176": {
      "model_module": "@jupyter-widgets/controls",
      "model_module_version": "2.0.0",
      "model_name": "VBoxModel",
      "state": {
       "children": [
        "IPY_MODEL_59f92846098947638382da6b8e1bbc91",
        "IPY_MODEL_6db701ae396240e6b2d8e7763fe8b697",
        "IPY_MODEL_851baa55e2d04cfeab1a5b225876ece1",
        "IPY_MODEL_abb47e34bb4f4d4eb350be5186a92b82",
        "IPY_MODEL_54d7c5e57d0845909f874ccf8d1c5ac3"
       ],
       "layout": "IPY_MODEL_a8b58bc5a4644f9bbe0bcafb102aa10a"
      }
     },
     "6bfe98091fac424793c4d3a56b05a19d": {
      "model_module": "@jupyter-widgets/base",
      "model_module_version": "2.0.0",
      "model_name": "LayoutModel",
      "state": {
       "justify_content": "flex-start",
       "width": "90%"
      }
     },
     "6c0343bda3b1475fbbd5d0321d6c5bfd": {
      "model_module": "@jupyter-widgets/controls",
      "model_module_version": "2.0.0",
      "model_name": "TextStyleModel",
      "state": {
       "description_width": "50px",
       "font_size": null,
       "text_color": null
      }
     },
     "6d24c40de949407e99ac8383a02c6b8e": {
      "model_module": "@jupyter-widgets/controls",
      "model_module_version": "2.0.0",
      "model_name": "VBoxModel",
      "state": {
       "children": [
        "IPY_MODEL_4c2329f849a3486788710a32dae3916a",
        "IPY_MODEL_9a14d1920d484cb4b07e370f1bedb545",
        "IPY_MODEL_b9b3426ea1e84bf1a6f0202f80c3101e",
        "IPY_MODEL_8ed643bfad1f452c8902c7d54ca709a9",
        "IPY_MODEL_f60fde6a6c9e4c34ba79cb71b753b337"
       ],
       "layout": "IPY_MODEL_733ba10c67c94d4b81d8117617d58b99"
      }
     },
     "6d3ddc19900741f5b48fdcebf3c5c08d": {
      "model_module": "@jupyter-widgets/base",
      "model_module_version": "2.0.0",
      "model_name": "LayoutModel",
      "state": {}
     },
     "6d4bd3e73319421f81bf3c3679c8408f": {
      "model_module": "@jupyter-widgets/controls",
      "model_module_version": "2.0.0",
      "model_name": "TextStyleModel",
      "state": {
       "description_width": "50px",
       "font_size": null,
       "text_color": null
      }
     },
     "6d54c3f70fce45c4af626d60a7abe334": {
      "model_module": "@jupyter-widgets/controls",
      "model_module_version": "2.0.0",
      "model_name": "TextStyleModel",
      "state": {
       "description_width": "50px",
       "font_size": null,
       "text_color": null
      }
     },
     "6d6f78599a294b32a13ec271f4c33aba": {
      "model_module": "@jupyter-widgets/controls",
      "model_module_version": "2.0.0",
      "model_name": "ButtonStyleModel",
      "state": {
       "font_family": null,
       "font_size": null,
       "font_style": null,
       "font_variant": null,
       "font_weight": null,
       "text_color": null,
       "text_decoration": null
      }
     },
     "6d94e8e664bf4069872414f275230360": {
      "model_module": "@jupyter-widgets/controls",
      "model_module_version": "2.0.0",
      "model_name": "HTMLStyleModel",
      "state": {
       "description_width": "",
       "font_size": null,
       "text_color": null
      }
     },
     "6db701ae396240e6b2d8e7763fe8b697": {
      "model_module": "@jupyter-widgets/controls",
      "model_module_version": "2.0.0",
      "model_name": "TextModel",
      "state": {
       "description": "Title",
       "layout": "IPY_MODEL_82cd0726065749d59c09c3567995d575",
       "style": "IPY_MODEL_f4f7eda0536a41e7892bdb665d0f9ee1",
       "value": "4: Conclusion and future applications"
      }
     },
     "6e477cea5f904675a53623d5594efe19": {
      "model_module": "@jupyter-widgets/base",
      "model_module_version": "2.0.0",
      "model_name": "LayoutModel",
      "state": {}
     },
     "6e5363ff5a8b440f89ea451dda29269f": {
      "model_module": "@jupyter-widgets/base",
      "model_module_version": "2.0.0",
      "model_name": "LayoutModel",
      "state": {
       "justify_content": "flex-start",
       "width": "90%"
      }
     },
     "6eb40a311d1f4903bf5f7214868d60e4": {
      "model_module": "@jupyter-widgets/base",
      "model_module_version": "2.0.0",
      "model_name": "LayoutModel",
      "state": {
       "justify_content": "flex-start",
       "width": "90%"
      }
     },
     "6eb886ef0dc441b7a38391c7af3ac55b": {
      "model_module": "@jupyter-widgets/controls",
      "model_module_version": "2.0.0",
      "model_name": "VBoxModel",
      "state": {
       "children": [
        "IPY_MODEL_b8447ba31de34e29b666e58f0e239247"
       ],
       "layout": "IPY_MODEL_be3a55a716d743dab62b72722e1230a1"
      }
     },
     "6ef81647d1384e66aca2cb81c0ac3428": {
      "model_module": "@jupyter-widgets/base",
      "model_module_version": "2.0.0",
      "model_name": "LayoutModel",
      "state": {
       "justify_content": "flex-start",
       "width": "90%"
      }
     },
     "6f1b588834a24de3ad5be23c240bc774": {
      "model_module": "@jupyter-widgets/base",
      "model_module_version": "2.0.0",
      "model_name": "LayoutModel",
      "state": {}
     },
     "6f9d3b1e644447bb9649a87704482242": {
      "model_module": "@jupyter-widgets/base",
      "model_module_version": "2.0.0",
      "model_name": "LayoutModel",
      "state": {
       "width": "50%"
      }
     },
     "70d3e83df0a34bd284c1a2b68795c518": {
      "model_module": "@jupyter-widgets/controls",
      "model_module_version": "2.0.0",
      "model_name": "ButtonStyleModel",
      "state": {
       "font_family": null,
       "font_size": null,
       "font_style": null,
       "font_variant": null,
       "font_weight": null,
       "text_color": null,
       "text_decoration": null
      }
     },
     "71a25545edc64f09939cede6cca2ea95": {
      "model_module": "@jupyter-widgets/base",
      "model_module_version": "2.0.0",
      "model_name": "LayoutModel",
      "state": {}
     },
     "71c26967456649fe8960c4a0d9b9747e": {
      "model_module": "@jupyter-widgets/base",
      "model_module_version": "2.0.0",
      "model_name": "LayoutModel",
      "state": {
       "justify_content": "flex-start",
       "width": "90%"
      }
     },
     "725df4fd0ef94faf9f0807846e50cdcd": {
      "model_module": "@jupyter-widgets/controls",
      "model_module_version": "2.0.0",
      "model_name": "ButtonStyleModel",
      "state": {
       "font_family": null,
       "font_size": null,
       "font_style": null,
       "font_variant": null,
       "font_weight": null,
       "text_color": null,
       "text_decoration": null
      }
     },
     "731f63228e84478f835bd4583c5a1aea": {
      "model_module": "@jupyter-widgets/controls",
      "model_module_version": "2.0.0",
      "model_name": "VBoxModel",
      "state": {
       "children": [
        "IPY_MODEL_a2377fbdcbc04d1ebb3e6c39568bdb6a"
       ],
       "layout": "IPY_MODEL_8ddf82b0e76b475eb5a91c7cb7e0c000"
      }
     },
     "733ba10c67c94d4b81d8117617d58b99": {
      "model_module": "@jupyter-widgets/base",
      "model_module_version": "2.0.0",
      "model_name": "LayoutModel",
      "state": {
       "width": "50%"
      }
     },
     "7437513152e34524a8fc5b08f8345f37": {
      "model_module": "@jupyter-widgets/controls",
      "model_module_version": "2.0.0",
      "model_name": "ButtonModel",
      "state": {
       "description": "Translate",
       "icon": "language",
       "layout": "IPY_MODEL_cd3c9e61b48a4826884350a46a655cbe",
       "style": "IPY_MODEL_463d51bbde6045be97e0b58ac55eecc1",
       "tooltip": "Click and translate the details for this section"
      }
     },
     "7470a218e0324e1a85dd5169b9556b21": {
      "model_module": "@jupyter-widgets/controls",
      "model_module_version": "2.0.0",
      "model_name": "TextStyleModel",
      "state": {
       "description_width": "50px",
       "font_size": null,
       "text_color": null
      }
     },
     "74b81e78bcd347488b2447655dd62ab0": {
      "model_module": "@jupyter-widgets/base",
      "model_module_version": "2.0.0",
      "model_name": "LayoutModel",
      "state": {
       "width": "50%"
      }
     },
     "74c6bf40214e4e14beade17663320a73": {
      "model_module": "@jupyter-widgets/controls",
      "model_module_version": "2.0.0",
      "model_name": "HBoxModel",
      "state": {
       "children": [
        "IPY_MODEL_b6a1136587174a8cbecb6436d2d382cf",
        "IPY_MODEL_da02a7e8a2764149ac146ce2dad075a0"
       ],
       "layout": "IPY_MODEL_04e3abada98748688a813765ae81b883"
      }
     },
     "75877880c488495e96eaf260a0efe0aa": {
      "model_module": "@jupyter-widgets/base",
      "model_module_version": "2.0.0",
      "model_name": "LayoutModel",
      "state": {}
     },
     "75a02c9eb9994bd1bc2acc4040cf0b49": {
      "model_module": "@jupyter-widgets/controls",
      "model_module_version": "2.0.0",
      "model_name": "TextModel",
      "state": {
       "description": "Prompt",
       "layout": "IPY_MODEL_da5adbb1c9a84fd492fbcca003760d19",
       "placeholder": "",
       "style": "IPY_MODEL_91a4dfc43bcf45cc856187c277e70db3"
      }
     },
     "75f0538572394ceeb9ed4f8e02012076": {
      "model_module": "@jupyter-widgets/controls",
      "model_module_version": "2.0.0",
      "model_name": "ButtonStyleModel",
      "state": {
       "font_family": null,
       "font_size": null,
       "font_style": null,
       "font_variant": null,
       "font_weight": null,
       "text_color": null,
       "text_decoration": null
      }
     },
     "7683f0c3f435401b88326a0dd9b540ba": {
      "model_module": "@jupyter-widgets/controls",
      "model_module_version": "2.0.0",
      "model_name": "ButtonModel",
      "state": {
       "description": "Translate",
       "icon": "language",
       "layout": "IPY_MODEL_016e5703d03a47d9a076501d1bc75087",
       "style": "IPY_MODEL_de61b41797a84ecaba9fbcbde5b4ce8b",
       "tooltip": "Click and translate the details for this section"
      }
     },
     "7848a6c2d24f41d1a71c63e06c65b800": {
      "model_module": "@jupyter-widgets/base",
      "model_module_version": "2.0.0",
      "model_name": "LayoutModel",
      "state": {}
     },
     "787584b6c0144ced9263614a62ee6378": {
      "model_module": "@jupyter-widgets/controls",
      "model_module_version": "2.0.0",
      "model_name": "TextStyleModel",
      "state": {
       "description_width": "50px",
       "font_size": null,
       "text_color": null
      }
     },
     "78ba8b0e6c714f44bb934bbef3a86a0d": {
      "model_module": "@jupyter-widgets/controls",
      "model_module_version": "2.0.0",
      "model_name": "HTMLModel",
      "state": {
       "layout": "IPY_MODEL_8704ba927ff44e7cb3e89c2cc7e8f9b6",
       "style": "IPY_MODEL_9bfb014396724096812232eb8cc2d022",
       "value": "Insight into how AI can generate textual descriptions for pathological images in liver cancer analysis."
      }
     },
     "78fb2dda269f49b6b4ff46d0b0b5c40c": {
      "model_module": "@jupyter-widgets/base",
      "model_module_version": "2.0.0",
      "model_name": "LayoutModel",
      "state": {
       "height": "50%",
       "width": "50%"
      }
     },
     "79605eb5fc584fc9891f5aa28237c38b": {
      "model_module": "@jupyter-widgets/controls",
      "model_module_version": "2.0.0",
      "model_name": "ButtonModel",
      "state": {
       "description": "Summarize",
       "icon": "radiation",
       "layout": "IPY_MODEL_aa48df61191a41d7a59d0103257bdab6",
       "style": "IPY_MODEL_da466cd7d19f40ce91fb653c88d2f99d",
       "tooltip": "Summarize this section based on the topic and intro"
      }
     },
     "79a4d30537774ac2b99e4e4314b362e2": {
      "model_module": "@jupyter-widgets/controls",
      "model_module_version": "2.0.0",
      "model_name": "TextStyleModel",
      "state": {
       "description_width": "50px",
       "font_size": null,
       "text_color": null
      }
     },
     "79fa19cdc6d0421eb29b139545b6efc0": {
      "model_module": "@jupyter-widgets/base",
      "model_module_version": "2.0.0",
      "model_name": "LayoutModel",
      "state": {
       "width": "50%"
      }
     },
     "7c1a53161a554496a5cf4c722bd5aee1": {
      "model_module": "@jupyter-widgets/output",
      "model_module_version": "1.0.0",
      "model_name": "OutputModel",
      "state": {
       "layout": "IPY_MODEL_47bcbc94386a4f9491ff3116d965d788"
      }
     },
     "7c222887fd2643958a69958725d48b8d": {
      "model_module": "@jupyter-widgets/controls",
      "model_module_version": "2.0.0",
      "model_name": "TextModel",
      "state": {
       "description": "Words",
       "layout": "IPY_MODEL_99d9de37cc27487ca5d7253e6d6472ba",
       "placeholder": "",
       "style": "IPY_MODEL_4f04212edcbe4d93a51d09b727223a11",
       "value": "500"
      }
     },
     "7c23b0566ade40dd95e76eac3795e303": {
      "model_module": "@jupyter-widgets/controls",
      "model_module_version": "2.0.0",
      "model_name": "VBoxModel",
      "state": {
       "children": [
        "IPY_MODEL_a2400c67a0984996bbbe21c98e33a7f8",
        "IPY_MODEL_1e14b5f53a8e4378be7e72f6d329de42",
        "IPY_MODEL_6282530fa7ce47b1844672815016062a",
        "IPY_MODEL_335aef94966646f1aa72e6e7e059aef7",
        "IPY_MODEL_7c1a53161a554496a5cf4c722bd5aee1"
       ],
       "layout": "IPY_MODEL_6f9d3b1e644447bb9649a87704482242"
      }
     },
     "7c4404e41466453d81e8ef76144c07e2": {
      "model_module": "@jupyter-widgets/base",
      "model_module_version": "2.0.0",
      "model_name": "LayoutModel",
      "state": {}
     },
     "7c82bfada66c4f2e837686cb7d0d3023": {
      "model_module": "@jupyter-widgets/controls",
      "model_module_version": "2.0.0",
      "model_name": "TextModel",
      "state": {
       "description": "Title",
       "layout": "IPY_MODEL_f5de5395c2ae48d88e1de7ec8ffd877f",
       "style": "IPY_MODEL_15aaac86d7bd4ced9b79c5ee0c16dda6",
       "value": "3.2.1.3: Multiple instance learning-based approaches"
      }
     },
     "7d237b4139234a6682693e48f9f0a8bb": {
      "model_module": "@jupyter-widgets/base",
      "model_module_version": "2.0.0",
      "model_name": "LayoutModel",
      "state": {}
     },
     "7db01bfe5a6e4786aa272fbb4cfe285b": {
      "model_module": "@jupyter-widgets/base",
      "model_module_version": "2.0.0",
      "model_name": "LayoutModel",
      "state": {
       "justify_content": "flex-start",
       "width": "90%"
      }
     },
     "7e931a93dbc64acea4cedc5d2adbd6a8": {
      "model_module": "@jupyter-widgets/controls",
      "model_module_version": "2.0.0",
      "model_name": "TextModel",
      "state": {
       "description": "Intro",
       "layout": "IPY_MODEL_e942e535e0804889a81928469f03eab6",
       "style": "IPY_MODEL_c1b65877d8ef4406be4ad2b9bc521ec1",
       "value": "Insight into how AI can generate textual descriptions for pathological images in liver cancer analysis."
      }
     },
     "7ed1d0dfcbab452baa2d148a8a8785b4": {
      "model_module": "@jupyter-widgets/controls",
      "model_module_version": "2.0.0",
      "model_name": "VBoxModel",
      "state": {
       "children": [
        "IPY_MODEL_e48db4861f474cfabca60c50e473b0f6"
       ],
       "layout": "IPY_MODEL_6abc18da6a1743e187b0e6d36752eae5"
      }
     },
     "807c844466b64606956fa4f25e9aa502": {
      "model_module": "@jupyter-widgets/controls",
      "model_module_version": "2.0.0",
      "model_name": "ButtonStyleModel",
      "state": {
       "font_family": null,
       "font_size": null,
       "font_style": null,
       "font_variant": null,
       "font_weight": null,
       "text_color": null,
       "text_decoration": null
      }
     },
     "80d9b7b682944f54a0603d7554d988df": {
      "model_module": "@jupyter-widgets/controls",
      "model_module_version": "2.0.0",
      "model_name": "ButtonModel",
      "state": {
       "description": "Summarize",
       "icon": "radiation",
       "layout": "IPY_MODEL_69cafe0b760e4ab98abebdff1ac53213",
       "style": "IPY_MODEL_073df46f430647c0910c9947916d131e",
       "tooltip": "Summarize this section based on the topic and intro"
      }
     },
     "8137ab41d6884db9a1629845d18ba8aa": {
      "model_module": "@jupyter-widgets/controls",
      "model_module_version": "2.0.0",
      "model_name": "TextStyleModel",
      "state": {
       "description_width": "50px",
       "font_size": null,
       "text_color": null
      }
     },
     "814633a8581b406d964836dcbce05be7": {
      "model_module": "@jupyter-widgets/base",
      "model_module_version": "2.0.0",
      "model_name": "LayoutModel",
      "state": {}
     },
     "816aaa79b2f342c39c834791fcebc3f1": {
      "model_module": "@jupyter-widgets/controls",
      "model_module_version": "2.0.0",
      "model_name": "HTMLModel",
      "state": {
       "layout": "IPY_MODEL_fcc57b276c184708b2d01234033b178c",
       "style": "IPY_MODEL_b6a5c4c322ea4d9ab37ec22c81919f35",
       "value": "An in-depth look into model-based explanations for AI's decision-making process in liver cancer analysis."
      }
     },
     "81766d521d2b4f5296f63fda471bcdcb": {
      "model_module": "@jupyter-widgets/controls",
      "model_module_version": "2.0.0",
      "model_name": "ButtonModel",
      "state": {
       "description": "Translate",
       "icon": "language",
       "layout": "IPY_MODEL_63397d3dcec64a7b9a5138ca60908e49",
       "style": "IPY_MODEL_8fd2336b52b246b8add3fde2d680e158",
       "tooltip": "Click and translate the details for this section"
      }
     },
     "818526e637b8479286906754402e105d": {
      "model_module": "@jupyter-widgets/controls",
      "model_module_version": "2.0.0",
      "model_name": "TextModel",
      "state": {
       "description": "Intro",
       "layout": "IPY_MODEL_3ffe5e91c08a4d70b11d60037b977c0e",
       "style": "IPY_MODEL_a9ea9babbe3848718d29b18639554c80",
       "value": "A comprehensive discussion on various strategies to decode the complex workings of AI in pathological analysis of liver cancer."
      }
     },
     "8298373e092e4a39b3d18a0a66f68081": {
      "model_module": "@jupyter-widgets/base",
      "model_module_version": "2.0.0",
      "model_name": "LayoutModel",
      "state": {}
     },
     "82cd0726065749d59c09c3567995d575": {
      "model_module": "@jupyter-widgets/base",
      "model_module_version": "2.0.0",
      "model_name": "LayoutModel",
      "state": {
       "justify_content": "flex-start",
       "width": "90%"
      }
     },
     "839214e1f579431cb59918bc1447083c": {
      "model_module": "@jupyter-widgets/base",
      "model_module_version": "2.0.0",
      "model_name": "LayoutModel",
      "state": {
       "justify_content": "flex-start",
       "width": "90%"
      }
     },
     "83cdb27a43a9439085b6ca2499e2191e": {
      "model_module": "@jupyter-widgets/controls",
      "model_module_version": "2.0.0",
      "model_name": "TextModel",
      "state": {
       "description": "Words",
       "layout": "IPY_MODEL_a1d444b05fb0426cb54d3f70f058962c",
       "placeholder": "",
       "style": "IPY_MODEL_787584b6c0144ced9263614a62ee6378",
       "value": "500"
      }
     },
     "8470facda54f45ce913ee299c5ae6dd9": {
      "model_module": "@jupyter-widgets/controls",
      "model_module_version": "2.0.0",
      "model_name": "VBoxModel",
      "state": {
       "children": [
        "IPY_MODEL_a8863c3067554433961a26061d958da4"
       ],
       "layout": "IPY_MODEL_5017489860a14c3ab5a3c97ad7d559f4"
      }
     },
     "84b498ba26c0497a99bbdb02e462ca86": {
      "model_module": "@jupyter-widgets/base",
      "model_module_version": "2.0.0",
      "model_name": "LayoutModel",
      "state": {}
     },
     "84caa05eb9e9403b97c063a4f1ac8bc3": {
      "model_module": "@jupyter-widgets/controls",
      "model_module_version": "2.0.0",
      "model_name": "HTMLModel",
      "state": {
       "layout": "IPY_MODEL_a2777a423e76494db4610d923863288a",
       "style": "IPY_MODEL_32dfb3a7d2bb49acba9a029b62dcfdbf",
       "value": "Discussion on how AI combines textual descriptions with visual explanations for a comprehensive understanding of liver cancer pathology."
      }
     },
     "851baa55e2d04cfeab1a5b225876ece1": {
      "model_module": "@jupyter-widgets/controls",
      "model_module_version": "2.0.0",
      "model_name": "TextModel",
      "state": {
       "description": "Intro",
       "layout": "IPY_MODEL_298ec2f0710447138c0d0db2b8c51642",
       "style": "IPY_MODEL_a7fedc31f22044da80cd905fe76758ff",
       "value": "Final thoughts on the current state of AI in liver cancer analysis and potential future developments in the field."
      }
     },
     "855069f159074e96b562260ee4ec386e": {
      "model_module": "@jupyter-widgets/base",
      "model_module_version": "2.0.0",
      "model_name": "LayoutModel",
      "state": {}
     },
     "86307950b48a429587cad05dae60ffb6": {
      "model_module": "@jupyter-widgets/base",
      "model_module_version": "2.0.0",
      "model_name": "LayoutModel",
      "state": {
       "justify_content": "flex-start",
       "width": "90%"
      }
     },
     "8656c485a1e0412983982f2943576cc9": {
      "model_module": "@jupyter-widgets/base",
      "model_module_version": "2.0.0",
      "model_name": "LayoutModel",
      "state": {
       "width": "50%"
      }
     },
     "8676f9ecc3944264846483b55547e5c7": {
      "model_module": "@jupyter-widgets/controls",
      "model_module_version": "2.0.0",
      "model_name": "ButtonStyleModel",
      "state": {
       "font_family": null,
       "font_size": null,
       "font_style": null,
       "font_variant": null,
       "font_weight": null,
       "text_color": null,
       "text_decoration": null
      }
     },
     "869876914ad4485bbf0b3c51c08efa70": {
      "model_module": "@jupyter-widgets/controls",
      "model_module_version": "2.0.0",
      "model_name": "VBoxModel",
      "state": {
       "children": [
        "IPY_MODEL_c0b89644f9f04ecdbe15c63fd8fef829"
       ],
       "layout": "IPY_MODEL_b2a40d2332d54269b64ca2e4870c10d7"
      }
     },
     "8704ba927ff44e7cb3e89c2cc7e8f9b6": {
      "model_module": "@jupyter-widgets/base",
      "model_module_version": "2.0.0",
      "model_name": "LayoutModel",
      "state": {}
     },
     "8770e40a413c45098436847a214f8690": {
      "model_module": "@jupyter-widgets/controls",
      "model_module_version": "2.0.0",
      "model_name": "ButtonStyleModel",
      "state": {
       "font_family": null,
       "font_size": null,
       "font_style": null,
       "font_variant": null,
       "font_weight": null,
       "text_color": null,
       "text_decoration": null
      }
     },
     "87fe65d1e7f6427f8623c0e1079166fb": {
      "model_module": "@jupyter-widgets/base",
      "model_module_version": "2.0.0",
      "model_name": "LayoutModel",
      "state": {
       "width": "50%"
      }
     },
     "880afc85e21b43aaaa7891a4d3c200c4": {
      "model_module": "@jupyter-widgets/controls",
      "model_module_version": "2.0.0",
      "model_name": "ButtonStyleModel",
      "state": {
       "font_family": null,
       "font_size": null,
       "font_style": null,
       "font_variant": null,
       "font_weight": null,
       "text_color": null,
       "text_decoration": null
      }
     },
     "88626cca1d6a41e1bbf2c953903a10c6": {
      "model_module": "@jupyter-widgets/controls",
      "model_module_version": "2.0.0",
      "model_name": "HTMLModel",
      "state": {
       "layout": "IPY_MODEL_c2873495f5644ceebbe2144cd4acb167",
       "style": "IPY_MODEL_24299a8aaf694503b088b233afb9c0c6",
       "value": "Exploration of how prototypes are used as examples to explain AI decisions in liver cancer analysis."
      }
     },
     "8913334d0a70473a88d0160ca064e8dc": {
      "model_module": "@jupyter-widgets/base",
      "model_module_version": "2.0.0",
      "model_name": "LayoutModel",
      "state": {
       "width": "50%"
      }
     },
     "89fc72cb874a4863bf485d655dfcff96": {
      "model_module": "@jupyter-widgets/base",
      "model_module_version": "2.0.0",
      "model_name": "LayoutModel",
      "state": {
       "justify_content": "flex-start",
       "width": "90%"
      }
     },
     "8a54032974d44d9490e9466adf770f62": {
      "model_module": "@jupyter-widgets/controls",
      "model_module_version": "2.0.0",
      "model_name": "TextStyleModel",
      "state": {
       "description_width": "50px",
       "font_size": null,
       "text_color": null
      }
     },
     "8a710d4822b3417bb18e8da4a9234f77": {
      "model_module": "@jupyter-widgets/base",
      "model_module_version": "2.0.0",
      "model_name": "LayoutModel",
      "state": {
       "height": "50%",
       "width": "50%"
      }
     },
     "8b2c46a6fad8401e821b66a9e5947d2a": {
      "model_module": "@jupyter-widgets/controls",
      "model_module_version": "2.0.0",
      "model_name": "VBoxModel",
      "state": {
       "children": [
        "IPY_MODEL_65d25cde60c5494d8b08508c50320d5e"
       ],
       "layout": "IPY_MODEL_b452d3a5b7ce4d2d9f7ad0c3cf309e9c"
      }
     },
     "8c436954ec2c494e83651a62376e3bc2": {
      "model_module": "@jupyter-widgets/controls",
      "model_module_version": "2.0.0",
      "model_name": "TextModel",
      "state": {
       "description": "Title",
       "layout": "IPY_MODEL_a72fa66f211546569e34d3c89a3f167c",
       "style": "IPY_MODEL_96173806c5224dbcb106b00270491284",
       "value": "1.2: Molecular profiling of liver cancer via AI"
      }
     },
     "8c9c0bf8c294438eba582f4f758d2b1a": {
      "model_module": "@jupyter-widgets/controls",
      "model_module_version": "2.0.0",
      "model_name": "TextModel",
      "state": {
       "description": "Intro",
       "layout": "IPY_MODEL_245021aeec9e43319b90b01d22ff9a7b",
       "style": "IPY_MODEL_506e516208b141f38eb99e95d19680c8",
       "value": "Discussion on how multiple instance learning-based approaches contribute to visual explanations in AI-based liver cancer analysis."
      }
     },
     "8dada747252a4347827de55728c0ddc0": {
      "model_module": "@jupyter-widgets/controls",
      "model_module_version": "2.0.0",
      "model_name": "ButtonStyleModel",
      "state": {
       "font_family": null,
       "font_size": null,
       "font_style": null,
       "font_variant": null,
       "font_weight": null,
       "text_color": null,
       "text_decoration": null
      }
     },
     "8db0878a9709475b904a35007fd71a4f": {
      "model_module": "@jupyter-widgets/controls",
      "model_module_version": "2.0.0",
      "model_name": "TextModel",
      "state": {
       "description": "Prompt",
       "layout": "IPY_MODEL_d5e6bc58bffb41f3acf9b96bf595bc8e",
       "placeholder": "",
       "style": "IPY_MODEL_3a5293fc35e049d5b033356410bffaa2"
      }
     },
     "8ddf82b0e76b475eb5a91c7cb7e0c000": {
      "model_module": "@jupyter-widgets/base",
      "model_module_version": "2.0.0",
      "model_name": "LayoutModel",
      "state": {
       "height": "50%",
       "width": "50%"
      }
     },
     "8df89940c27d4b0bab716a5a423c2023": {
      "model_module": "@jupyter-widgets/base",
      "model_module_version": "2.0.0",
      "model_name": "LayoutModel",
      "state": {}
     },
     "8ec91e13b3b94cdbb99c2d69ea30f71c": {
      "model_module": "@jupyter-widgets/controls",
      "model_module_version": "2.0.0",
      "model_name": "TextStyleModel",
      "state": {
       "description_width": "50px",
       "font_size": null,
       "text_color": null
      }
     },
     "8ed643bfad1f452c8902c7d54ca709a9": {
      "model_module": "@jupyter-widgets/controls",
      "model_module_version": "2.0.0",
      "model_name": "TextModel",
      "state": {
       "description": "Words",
       "layout": "IPY_MODEL_93463c6a946f41ef9fc1b2c5b590f699",
       "placeholder": "",
       "style": "IPY_MODEL_14d5f88ac6f44d3693f262fae3b502a2",
       "value": "500"
      }
     },
     "8f5f5382ac01460ba0915dfb574f5c13": {
      "model_module": "@jupyter-widgets/base",
      "model_module_version": "2.0.0",
      "model_name": "LayoutModel",
      "state": {}
     },
     "8f81c3bf1d674770b8280d0ee8c71c91": {
      "model_module": "@jupyter-widgets/controls",
      "model_module_version": "2.0.0",
      "model_name": "VBoxModel",
      "state": {
       "children": [
        "IPY_MODEL_11a0b4e026d94a2d9f420ed3367d79da"
       ],
       "layout": "IPY_MODEL_96b1b4ea3fff49028759c06b89ac8639"
      }
     },
     "8fd2336b52b246b8add3fde2d680e158": {
      "model_module": "@jupyter-widgets/controls",
      "model_module_version": "2.0.0",
      "model_name": "ButtonStyleModel",
      "state": {
       "font_family": null,
       "font_size": null,
       "font_style": null,
       "font_variant": null,
       "font_weight": null,
       "text_color": null,
       "text_decoration": null
      }
     },
     "8fe395a6af534255b9fed15b835e2dae": {
      "model_module": "@jupyter-widgets/controls",
      "model_module_version": "2.0.0",
      "model_name": "ButtonModel",
      "state": {
       "description": "Translate",
       "icon": "language",
       "layout": "IPY_MODEL_e9d44e84392b45aba7edf53f5b805241",
       "style": "IPY_MODEL_f95d73c3c1b648cf9a81ac243ec39abe",
       "tooltip": "Click and translate the details for this section"
      }
     },
     "91a4dfc43bcf45cc856187c277e70db3": {
      "model_module": "@jupyter-widgets/controls",
      "model_module_version": "2.0.0",
      "model_name": "TextStyleModel",
      "state": {
       "description_width": "50px",
       "font_size": null,
       "text_color": null
      }
     },
     "91c2a03c28e74448a0f019c274868ff8": {
      "model_module": "@jupyter-widgets/controls",
      "model_module_version": "2.0.0",
      "model_name": "VBoxModel",
      "state": {
       "children": [
        "IPY_MODEL_3b290c43dd5e4583bb639ecaba61e65b",
        "IPY_MODEL_f5be092bd5584c1c9a1fa1648a5f0e2f",
        "IPY_MODEL_e86a2d055a6a4aa1bb241f26aae3ca9e",
        "IPY_MODEL_69cc4ee057824e04911479d1797c9456",
        "IPY_MODEL_0bdbfe6c03d64990af589a380b477b56"
       ],
       "layout": "IPY_MODEL_91d9c140281f4ba8bc13f48793719868"
      }
     },
     "91d9c140281f4ba8bc13f48793719868": {
      "model_module": "@jupyter-widgets/base",
      "model_module_version": "2.0.0",
      "model_name": "LayoutModel",
      "state": {
       "width": "50%"
      }
     },
     "91dd83dba4654a65af5d14d0792dfb39": {
      "model_module": "@jupyter-widgets/controls",
      "model_module_version": "2.0.0",
      "model_name": "TextModel",
      "state": {
       "description": "Title",
       "layout": "IPY_MODEL_29699d5ebee346d6a7ef394f39c682fd",
       "style": "IPY_MODEL_3bc6e87e288d43129bde47fe948d01a5",
       "value": "1: Current advances of AI-based approaches for clinical management of liver cancer"
      }
     },
     "91ffe0637e734dec811df300c5d7459b": {
      "model_module": "@jupyter-widgets/controls",
      "model_module_version": "2.0.0",
      "model_name": "HBoxModel",
      "state": {
       "children": [
        "IPY_MODEL_e1a5ec736f594f7785f24cfecd94578e",
        "IPY_MODEL_869876914ad4485bbf0b3c51c08efa70"
       ],
       "layout": "IPY_MODEL_c0e4d6c2753741b0880a682ae3b7dda2"
      }
     },
     "931570d7ddd140198210d330c30eb9b5": {
      "model_module": "@jupyter-widgets/controls",
      "model_module_version": "2.0.0",
      "model_name": "ButtonModel",
      "state": {
       "description": "Translate",
       "icon": "language",
       "layout": "IPY_MODEL_bd7ad5a7fe6544c3ae8a3fd7e8b092de",
       "style": "IPY_MODEL_507616c6824f4717a829a04e4e98dc3f",
       "tooltip": "Click and translate the details for this section"
      }
     },
     "93463c6a946f41ef9fc1b2c5b590f699": {
      "model_module": "@jupyter-widgets/base",
      "model_module_version": "2.0.0",
      "model_name": "LayoutModel",
      "state": {
       "justify_content": "flex-start",
       "width": "90%"
      }
     },
     "935cb750d37c45af9d3a5f4f12e61524": {
      "model_module": "@jupyter-widgets/controls",
      "model_module_version": "2.0.0",
      "model_name": "TextStyleModel",
      "state": {
       "description_width": "50px",
       "font_size": null,
       "text_color": null
      }
     },
     "937f8bc0b5e947e7ad98fbb56e0fd424": {
      "model_module": "@jupyter-widgets/controls",
      "model_module_version": "2.0.0",
      "model_name": "HTMLStyleModel",
      "state": {
       "description_width": "",
       "font_size": null,
       "text_color": null
      }
     },
     "93daa7dd68904d368b9fee6d0356cf4e": {
      "model_module": "@jupyter-widgets/base",
      "model_module_version": "2.0.0",
      "model_name": "LayoutModel",
      "state": {}
     },
     "9416efdcbc3a45b292728854262fd7d8": {
      "model_module": "@jupyter-widgets/controls",
      "model_module_version": "2.0.0",
      "model_name": "TextStyleModel",
      "state": {
       "description_width": "50px",
       "font_size": null,
       "text_color": null
      }
     },
     "944133fb406d42bca181cc55fc9db69f": {
      "model_module": "@jupyter-widgets/base",
      "model_module_version": "2.0.0",
      "model_name": "LayoutModel",
      "state": {
       "justify_content": "flex-start",
       "width": "90%"
      }
     },
     "946e1ba6d4644627b0891729fecb521f": {
      "model_module": "@jupyter-widgets/controls",
      "model_module_version": "2.0.0",
      "model_name": "TextModel",
      "state": {
       "description": "Title",
       "layout": "IPY_MODEL_4335a7e85ea9428797ca866309bce750",
       "style": "IPY_MODEL_10312395aab04150a5c60b69b5bd9d07",
       "value": "1.1: AI-based prognostication of liver cancer"
      }
     },
     "9504f64903b24e1abeb75dba898c3808": {
      "model_module": "@jupyter-widgets/base",
      "model_module_version": "2.0.0",
      "model_name": "LayoutModel",
      "state": {}
     },
     "953f46b63c184270a4e544766680bf60": {
      "model_module": "@jupyter-widgets/controls",
      "model_module_version": "2.0.0",
      "model_name": "TextModel",
      "state": {
       "description": "Prompt",
       "layout": "IPY_MODEL_d9bc3d0936084117815a086df97c8ab0",
       "placeholder": "",
       "style": "IPY_MODEL_6d4bd3e73319421f81bf3c3679c8408f"
      }
     },
     "96173806c5224dbcb106b00270491284": {
      "model_module": "@jupyter-widgets/controls",
      "model_module_version": "2.0.0",
      "model_name": "TextStyleModel",
      "state": {
       "description_width": "50px",
       "font_size": null,
       "text_color": null
      }
     },
     "965795d64b974e7aa147863ff52691d1": {
      "model_module": "@jupyter-widgets/controls",
      "model_module_version": "2.0.0",
      "model_name": "ButtonStyleModel",
      "state": {
       "font_family": null,
       "font_size": null,
       "font_style": null,
       "font_variant": null,
       "font_weight": null,
       "text_color": null,
       "text_decoration": null
      }
     },
     "96b1b4ea3fff49028759c06b89ac8639": {
      "model_module": "@jupyter-widgets/base",
      "model_module_version": "2.0.0",
      "model_name": "LayoutModel",
      "state": {
       "height": "50%",
       "width": "50%"
      }
     },
     "96e7917b941d495da7e1ef0f8974a609": {
      "model_module": "@jupyter-widgets/controls",
      "model_module_version": "2.0.0",
      "model_name": "VBoxModel",
      "state": {
       "children": [
        "IPY_MODEL_88626cca1d6a41e1bbf2c953903a10c6"
       ],
       "layout": "IPY_MODEL_fb7c031422e149a8bd000399579acfba"
      }
     },
     "96ec301dde1f4374b31d21ad787b5750": {
      "model_module": "@jupyter-widgets/controls",
      "model_module_version": "2.0.0",
      "model_name": "ButtonModel",
      "state": {
       "description": "Translate",
       "icon": "language",
       "layout": "IPY_MODEL_ee843807590d45e8b0b01caf11cbc542",
       "style": "IPY_MODEL_880afc85e21b43aaaa7891a4d3c200c4",
       "tooltip": "Click and translate the details for this section"
      }
     },
     "96fb32f7dfd7432eac57fea58195c35d": {
      "model_module": "@jupyter-widgets/controls",
      "model_module_version": "2.0.0",
      "model_name": "ButtonModel",
      "state": {
       "description": "Summarize",
       "icon": "radiation",
       "layout": "IPY_MODEL_bf058f73ab2048ab9bc14ecba91e4915",
       "style": "IPY_MODEL_17bd7ed9cf1c4a578b643b0dc6019d41",
       "tooltip": "Summarize this section based on the topic and intro"
      }
     },
     "971a3b9e645e45faafb47bd56deec2ae": {
      "model_module": "@jupyter-widgets/controls",
      "model_module_version": "2.0.0",
      "model_name": "TextStyleModel",
      "state": {
       "description_width": "50px",
       "font_size": null,
       "text_color": null
      }
     },
     "97568ce415eb452d96a88ad0f8d044b6": {
      "model_module": "@jupyter-widgets/controls",
      "model_module_version": "2.0.0",
      "model_name": "TextModel",
      "state": {
       "description": "Words",
       "layout": "IPY_MODEL_36fccc2d27da458287cc349f5bfccf93",
       "placeholder": "",
       "style": "IPY_MODEL_f9374e96e43d487393f7d5f78439cad1",
       "value": "500"
      }
     },
     "97c9037813ed4b5ea3060bd179e485c2": {
      "model_module": "@jupyter-widgets/controls",
      "model_module_version": "2.0.0",
      "model_name": "TextModel",
      "state": {
       "description": "Words",
       "layout": "IPY_MODEL_dd75e4c34feb4b0e8f977ecb832d2d59",
       "placeholder": "",
       "style": "IPY_MODEL_8a54032974d44d9490e9466adf770f62",
       "value": "500"
      }
     },
     "980dc1291aa54b09b9b145d3fa1fa984": {
      "model_module": "@jupyter-widgets/controls",
      "model_module_version": "2.0.0",
      "model_name": "TextStyleModel",
      "state": {
       "description_width": "50px",
       "font_size": null,
       "text_color": null
      }
     },
     "983fe7bbc0e143e7b9c172b13177c91f": {
      "model_module": "@jupyter-widgets/controls",
      "model_module_version": "2.0.0",
      "model_name": "VBoxModel",
      "state": {
       "children": [
        "IPY_MODEL_96fb32f7dfd7432eac57fea58195c35d",
        "IPY_MODEL_4ec7eff182d844a98d54fabb958e4e90",
        "IPY_MODEL_a6cfb8c5bece478b85f67d02209e0dee",
        "IPY_MODEL_e603e920092e40058270e3a0a1f4c381",
        "IPY_MODEL_c6c9a9c0503a4f58b4ec00a1069f05df"
       ],
       "layout": "IPY_MODEL_aef39d77ce43477b9131433b1853c4db"
      }
     },
     "985a658d9fb54dcabb5cd1067f86c030": {
      "model_module": "@jupyter-widgets/controls",
      "model_module_version": "2.0.0",
      "model_name": "ButtonStyleModel",
      "state": {
       "font_family": null,
       "font_size": null,
       "font_style": null,
       "font_variant": null,
       "font_weight": null,
       "text_color": null,
       "text_decoration": null
      }
     },
     "98a5fbf4e7c24d1d9e9aaf45c7d4f1d4": {
      "model_module": "@jupyter-widgets/controls",
      "model_module_version": "2.0.0",
      "model_name": "HTMLModel",
      "state": {
       "layout": "IPY_MODEL_e9479a478a3e4f769d6df1e161ebcfb2",
       "style": "IPY_MODEL_1c70d096925440c290cd5109f8648a26",
       "value": "A comparative study of different AI models like support vector machines, random forests and deep learning for liver cancer analysis."
      }
     },
     "994ed28039ae4c639ec635fe8ba8ac7e": {
      "model_module": "@jupyter-widgets/controls",
      "model_module_version": "2.0.0",
      "model_name": "TextModel",
      "state": {
       "description": "Prompt",
       "layout": "IPY_MODEL_1f2407c55ac34ed789544d73bd901a71",
       "placeholder": "",
       "style": "IPY_MODEL_ee46c7a9d56247c08e4ed2ee99119671"
      }
     },
     "998a62dc98584fed8b2e44ca0f9882b9": {
      "model_module": "@jupyter-widgets/base",
      "model_module_version": "2.0.0",
      "model_name": "LayoutModel",
      "state": {}
     },
     "99d9de37cc27487ca5d7253e6d6472ba": {
      "model_module": "@jupyter-widgets/base",
      "model_module_version": "2.0.0",
      "model_name": "LayoutModel",
      "state": {
       "justify_content": "flex-start",
       "width": "90%"
      }
     },
     "9a14d1920d484cb4b07e370f1bedb545": {
      "model_module": "@jupyter-widgets/controls",
      "model_module_version": "2.0.0",
      "model_name": "TextModel",
      "state": {
       "description": "Title",
       "layout": "IPY_MODEL_3f756b5705ad41cda80bb6b225146f7a",
       "style": "IPY_MODEL_0c8418bb30bd4ca39fbcd82ba2c5456f",
       "value": "3.1.2: Supervised learning vs. weakly supervised learning vs. unsupervised learning"
      }
     },
     "9a5cc64e421c4ac1b990856bf85fe2be": {
      "model_module": "@jupyter-widgets/base",
      "model_module_version": "2.0.0",
      "model_name": "LayoutModel",
      "state": {
       "height": "50%",
       "width": "50%"
      }
     },
     "9b329dc03b594939a0ae31e3f92277b2": {
      "model_module": "@jupyter-widgets/base",
      "model_module_version": "2.0.0",
      "model_name": "LayoutModel",
      "state": {
       "justify_content": "flex-start",
       "width": "90%"
      }
     },
     "9bbae3940fc148bbabf7c58b5e5c8a75": {
      "model_module": "@jupyter-widgets/controls",
      "model_module_version": "2.0.0",
      "model_name": "TextStyleModel",
      "state": {
       "description_width": "50px",
       "font_size": null,
       "text_color": null
      }
     },
     "9bfb014396724096812232eb8cc2d022": {
      "model_module": "@jupyter-widgets/controls",
      "model_module_version": "2.0.0",
      "model_name": "HTMLStyleModel",
      "state": {
       "description_width": "",
       "font_size": null,
       "text_color": null
      }
     },
     "9c2ae665eae249cd98d83a96fb84aa26": {
      "model_module": "@jupyter-widgets/controls",
      "model_module_version": "2.0.0",
      "model_name": "TextModel",
      "state": {
       "description": "Words",
       "layout": "IPY_MODEL_26534e4c1c124a8795b15f8424483699",
       "placeholder": "",
       "style": "IPY_MODEL_935cb750d37c45af9d3a5f4f12e61524",
       "value": "500"
      }
     },
     "9c61a0c494e7455ba5133bd37a8ccda2": {
      "model_module": "@jupyter-widgets/controls",
      "model_module_version": "2.0.0",
      "model_name": "TextStyleModel",
      "state": {
       "description_width": "50px",
       "font_size": null,
       "text_color": null
      }
     },
     "9c7437f72de5419084a4e122d2308267": {
      "model_module": "@jupyter-widgets/controls",
      "model_module_version": "2.0.0",
      "model_name": "ButtonModel",
      "state": {
       "description": "Summarize",
       "icon": "radiation",
       "layout": "IPY_MODEL_174ce9d9c3124fa5b036c9f75aef9b6e",
       "style": "IPY_MODEL_e6f9b66ece8a42e69f32eff3abd5918d",
       "tooltip": "Summarize this section based on the topic and intro"
      }
     },
     "9cd79e38c3ee479ca40c26e2fe1fd66f": {
      "model_module": "@jupyter-widgets/controls",
      "model_module_version": "2.0.0",
      "model_name": "ButtonStyleModel",
      "state": {
       "font_family": null,
       "font_size": null,
       "font_style": null,
       "font_variant": null,
       "font_weight": null,
       "text_color": null,
       "text_decoration": null
      }
     },
     "9d187ee3ed6d442898fc30167027348c": {
      "model_module": "@jupyter-widgets/base",
      "model_module_version": "2.0.0",
      "model_name": "LayoutModel",
      "state": {}
     },
     "9ef52886fcca45e2b4de3ec34ba43aa4": {
      "model_module": "@jupyter-widgets/controls",
      "model_module_version": "2.0.0",
      "model_name": "VBoxModel",
      "state": {
       "children": [
        "IPY_MODEL_ff9956e0c32c43f7bf40cbcf98ee9a77"
       ],
       "layout": "IPY_MODEL_8a710d4822b3417bb18e8da4a9234f77"
      }
     },
     "9f9fa5d9595d4b0d8b4fe5f0fbe6f5a6": {
      "model_module": "@jupyter-widgets/controls",
      "model_module_version": "2.0.0",
      "model_name": "TextModel",
      "state": {
       "description": "Title",
       "layout": "IPY_MODEL_2a232ebdac244750970de5bcdc612b1d",
       "style": "IPY_MODEL_ad8d6134d848404f8a6bce2066e02f18",
       "value": "3: Strategies for unraveling the “black-box” of AI-based pathological analysis of liver cancer"
      }
     },
     "9feac508eb1b4bfeb27bac18fee9f21f": {
      "model_module": "@jupyter-widgets/base",
      "model_module_version": "2.0.0",
      "model_name": "LayoutModel",
      "state": {
       "justify_content": "flex-start",
       "width": "90%"
      }
     },
     "9fee8a1d68874010bf83f9ef380f2574": {
      "model_module": "@jupyter-widgets/controls",
      "model_module_version": "2.0.0",
      "model_name": "TextStyleModel",
      "state": {
       "description_width": "50px",
       "font_size": null,
       "text_color": null
      }
     },
     "a08164ffcc8345648307ff3895834851": {
      "model_module": "@jupyter-widgets/controls",
      "model_module_version": "2.0.0",
      "model_name": "VBoxModel",
      "state": {
       "children": [
        "IPY_MODEL_0be65da133a54e73b1cc68c3f31f5138"
       ],
       "layout": "IPY_MODEL_78fb2dda269f49b6b4ff46d0b0b5c40c"
      }
     },
     "a1698ddaeb904349921d20bd465d58e0": {
      "model_module": "@jupyter-widgets/base",
      "model_module_version": "2.0.0",
      "model_name": "LayoutModel",
      "state": {
       "justify_content": "flex-start",
       "width": "90%"
      }
     },
     "a19ebc25a3d646349d47641f3dc3b76e": {
      "model_module": "@jupyter-widgets/base",
      "model_module_version": "2.0.0",
      "model_name": "LayoutModel",
      "state": {}
     },
     "a1d444b05fb0426cb54d3f70f058962c": {
      "model_module": "@jupyter-widgets/base",
      "model_module_version": "2.0.0",
      "model_name": "LayoutModel",
      "state": {
       "justify_content": "flex-start",
       "width": "90%"
      }
     },
     "a210c9c96313471bb059f1ebffdfe264": {
      "model_module": "@jupyter-widgets/base",
      "model_module_version": "2.0.0",
      "model_name": "LayoutModel",
      "state": {}
     },
     "a2377fbdcbc04d1ebb3e6c39568bdb6a": {
      "model_module": "@jupyter-widgets/controls",
      "model_module_version": "2.0.0",
      "model_name": "HTMLModel",
      "state": {
       "layout": "IPY_MODEL_2089cd851b6049a5a042182e0b8cc9b1",
       "style": "IPY_MODEL_5d8dfc810f624474ababd4de84338c89",
       "value": "Exploring how AI uses examples to provide explanations for its decisions in liver cancer analysis."
      }
     },
     "a2400c67a0984996bbbe21c98e33a7f8": {
      "model_module": "@jupyter-widgets/controls",
      "model_module_version": "2.0.0",
      "model_name": "ButtonModel",
      "state": {
       "description": "Summarize",
       "icon": "radiation",
       "layout": "IPY_MODEL_ea419c6686b8435b8be1d18251e55838",
       "style": "IPY_MODEL_00c987801ccd4a1ebcfccaf5841715b5",
       "tooltip": "Summarize this section based on the topic and intro"
      }
     },
     "a2777a423e76494db4610d923863288a": {
      "model_module": "@jupyter-widgets/base",
      "model_module_version": "2.0.0",
      "model_name": "LayoutModel",
      "state": {}
     },
     "a29fab39073549c994125efdb33c28f9": {
      "model_module": "@jupyter-widgets/base",
      "model_module_version": "2.0.0",
      "model_name": "LayoutModel",
      "state": {
       "justify_content": "flex-start",
       "width": "90%"
      }
     },
     "a2ab2af039a14b5eba31546410764a88": {
      "model_module": "@jupyter-widgets/base",
      "model_module_version": "2.0.0",
      "model_name": "LayoutModel",
      "state": {}
     },
     "a2b288df43114e64b7618dcc7bebe8dd": {
      "model_module": "@jupyter-widgets/controls",
      "model_module_version": "2.0.0",
      "model_name": "ButtonModel",
      "state": {
       "description": "Summarize",
       "icon": "radiation",
       "layout": "IPY_MODEL_814633a8581b406d964836dcbce05be7",
       "style": "IPY_MODEL_aeb4570509394964a1772e94ed97439c",
       "tooltip": "Summarize this section based on the topic and intro"
      }
     },
     "a3552d33bda24e62a6684620646c9cc9": {
      "model_module": "@jupyter-widgets/base",
      "model_module_version": "2.0.0",
      "model_name": "LayoutModel",
      "state": {
       "justify_content": "flex-start",
       "width": "90%"
      }
     },
     "a36cd0fbcc3f46e6bae08530ce8c8a7f": {
      "model_module": "@jupyter-widgets/controls",
      "model_module_version": "2.0.0",
      "model_name": "TextModel",
      "state": {
       "description": "Prompt",
       "layout": "IPY_MODEL_b9b1dda5da654c9ba07e9b4f02fae9a8",
       "placeholder": "",
       "style": "IPY_MODEL_5f813e4ab1594e0cb59e59e0557de9c9"
      }
     },
     "a3edf5f4a42f49d08d557444b323190c": {
      "model_module": "@jupyter-widgets/base",
      "model_module_version": "2.0.0",
      "model_name": "LayoutModel",
      "state": {}
     },
     "a4d75136c9004bbdb3692d0e60a12296": {
      "model_module": "@jupyter-widgets/base",
      "model_module_version": "2.0.0",
      "model_name": "LayoutModel",
      "state": {
       "justify_content": "flex-start",
       "width": "90%"
      }
     },
     "a5309e9119484416bfdb69331128fd53": {
      "model_module": "@jupyter-widgets/base",
      "model_module_version": "2.0.0",
      "model_name": "LayoutModel",
      "state": {
       "height": "50%",
       "width": "50%"
      }
     },
     "a58066695fe7405db525464ae152aa06": {
      "model_module": "@jupyter-widgets/base",
      "model_module_version": "2.0.0",
      "model_name": "LayoutModel",
      "state": {}
     },
     "a5d6e975ee094c1ea14f7cbe6cac4154": {
      "model_module": "@jupyter-widgets/controls",
      "model_module_version": "2.0.0",
      "model_name": "TextModel",
      "state": {
       "description": "Prompt",
       "layout": "IPY_MODEL_590d0a1c4e844737959cf9d68ee1ec0a",
       "placeholder": "",
       "style": "IPY_MODEL_79a4d30537774ac2b99e4e4314b362e2"
      }
     },
     "a5e00c55ec60489391a9a3a75f72fcfc": {
      "model_module": "@jupyter-widgets/controls",
      "model_module_version": "2.0.0",
      "model_name": "HBoxModel",
      "state": {
       "children": [
        "IPY_MODEL_6d24c40de949407e99ac8383a02c6b8e",
        "IPY_MODEL_c6c27f9cc8ea40a9b04603905e13a4e3"
       ],
       "layout": "IPY_MODEL_2d87c240aad14db8acb253ceba27f521"
      }
     },
     "a6cfb8c5bece478b85f67d02209e0dee": {
      "model_module": "@jupyter-widgets/controls",
      "model_module_version": "2.0.0",
      "model_name": "TextModel",
      "state": {
       "description": "Intro",
       "layout": "IPY_MODEL_a95325cadc8a40cab9ea3466b0bc5fcd",
       "style": "IPY_MODEL_f740711f559b41d1ab0623526389f68d",
       "value": "Discussion on how AI combines textual descriptions with visual explanations for a comprehensive understanding of liver cancer pathology."
      }
     },
     "a7180dbdfb004a5f9a1e594aa978959a": {
      "model_module": "@jupyter-widgets/controls",
      "model_module_version": "2.0.0",
      "model_name": "TextModel",
      "state": {
       "description": "Title",
       "layout": "IPY_MODEL_e5206e0f19f3423bbc6beb2a87d6cb4b",
       "style": "IPY_MODEL_f563bd5e1fbc4255abff46a6800e130d",
       "value": "1.3: Exploring predictive indicators for therapy response"
      }
     },
     "a72fa66f211546569e34d3c89a3f167c": {
      "model_module": "@jupyter-widgets/base",
      "model_module_version": "2.0.0",
      "model_name": "LayoutModel",
      "state": {
       "justify_content": "flex-start",
       "width": "90%"
      }
     },
     "a7fb3db33e7041eeba7a79249c00ad7f": {
      "model_module": "@jupyter-widgets/controls",
      "model_module_version": "2.0.0",
      "model_name": "TextModel",
      "state": {
       "description": "Prompt",
       "layout": "IPY_MODEL_1db65d8d57e9417596e185166ddde904",
       "placeholder": "",
       "style": "IPY_MODEL_6c0343bda3b1475fbbd5d0321d6c5bfd"
      }
     },
     "a7fedc31f22044da80cd905fe76758ff": {
      "model_module": "@jupyter-widgets/controls",
      "model_module_version": "2.0.0",
      "model_name": "TextStyleModel",
      "state": {
       "description_width": "50px",
       "font_size": null,
       "text_color": null
      }
     },
     "a8863c3067554433961a26061d958da4": {
      "model_module": "@jupyter-widgets/controls",
      "model_module_version": "2.0.0",
      "model_name": "HTMLModel",
      "state": {
       "layout": "IPY_MODEL_2746418292da407b806a609bd17d1779",
       "style": "IPY_MODEL_cd4dbfdfc7fd45f0923d2b61b312034c",
       "value": "Exploring how example-based explanations can be used in post hoc analysis of AI's decisions in liver cancer."
      }
     },
     "a8b58bc5a4644f9bbe0bcafb102aa10a": {
      "model_module": "@jupyter-widgets/base",
      "model_module_version": "2.0.0",
      "model_name": "LayoutModel",
      "state": {
       "width": "50%"
      }
     },
     "a95325cadc8a40cab9ea3466b0bc5fcd": {
      "model_module": "@jupyter-widgets/base",
      "model_module_version": "2.0.0",
      "model_name": "LayoutModel",
      "state": {
       "justify_content": "flex-start",
       "width": "90%"
      }
     },
     "a98f06d75b0d444b80f6252a5608e74a": {
      "model_module": "@jupyter-widgets/base",
      "model_module_version": "2.0.0",
      "model_name": "LayoutModel",
      "state": {
       "height": "50%",
       "width": "50%"
      }
     },
     "a9c6620601a1427ab79bf9783d26825e": {
      "model_module": "@jupyter-widgets/controls",
      "model_module_version": "2.0.0",
      "model_name": "TextStyleModel",
      "state": {
       "description_width": "50px",
       "font_size": null,
       "text_color": null
      }
     },
     "a9ea9babbe3848718d29b18639554c80": {
      "model_module": "@jupyter-widgets/controls",
      "model_module_version": "2.0.0",
      "model_name": "TextStyleModel",
      "state": {
       "description_width": "50px",
       "font_size": null,
       "text_color": null
      }
     },
     "aa48df61191a41d7a59d0103257bdab6": {
      "model_module": "@jupyter-widgets/base",
      "model_module_version": "2.0.0",
      "model_name": "LayoutModel",
      "state": {}
     },
     "ab2d3dc97636447c9052ad7de54bc340": {
      "model_module": "@jupyter-widgets/controls",
      "model_module_version": "2.0.0",
      "model_name": "ButtonModel",
      "state": {
       "description": "Translate",
       "icon": "language",
       "layout": "IPY_MODEL_75877880c488495e96eaf260a0efe0aa",
       "style": "IPY_MODEL_cc1413789cdd4803ba18771ae5a817ba",
       "tooltip": "Click and translate the details for this section"
      }
     },
     "abb47e34bb4f4d4eb350be5186a92b82": {
      "model_module": "@jupyter-widgets/controls",
      "model_module_version": "2.0.0",
      "model_name": "TextModel",
      "state": {
       "description": "Words",
       "layout": "IPY_MODEL_e05c47268d034afd80585a4ab6352b4c",
       "placeholder": "",
       "style": "IPY_MODEL_9bbae3940fc148bbabf7c58b5e5c8a75",
       "value": "500"
      }
     },
     "abba28932095437cb8f2307111ea55a2": {
      "model_module": "@jupyter-widgets/base",
      "model_module_version": "2.0.0",
      "model_name": "LayoutModel",
      "state": {}
     },
     "ac0935855063441993ec26c28f2871f2": {
      "model_module": "@jupyter-widgets/controls",
      "model_module_version": "2.0.0",
      "model_name": "ButtonModel",
      "state": {
       "description": "Summarize",
       "icon": "radiation",
       "layout": "IPY_MODEL_3140e8ba73914b05af80720029696f33",
       "style": "IPY_MODEL_c5dcee9a20094e2a8ecb9c593f6ecbcc",
       "tooltip": "Summarize this section based on the topic and intro"
      }
     },
     "ac1e83c1273044b5841056afcf1c6d8a": {
      "model_module": "@jupyter-widgets/controls",
      "model_module_version": "2.0.0",
      "model_name": "ButtonStyleModel",
      "state": {
       "font_family": null,
       "font_size": null,
       "font_style": null,
       "font_variant": null,
       "font_weight": null,
       "text_color": null,
       "text_decoration": null
      }
     },
     "acb55e0ff3214c4ebcd27eff146affc2": {
      "model_module": "@jupyter-widgets/controls",
      "model_module_version": "2.0.0",
      "model_name": "TextStyleModel",
      "state": {
       "description_width": "50px",
       "font_size": null,
       "text_color": null
      }
     },
     "ad16e654ffc1470ca4ebbaf7949466df": {
      "model_module": "@jupyter-widgets/controls",
      "model_module_version": "2.0.0",
      "model_name": "TextModel",
      "state": {
       "description": "Title",
       "layout": "IPY_MODEL_1a184e08e986471080589d3ff8d17b99",
       "style": "IPY_MODEL_65eecaeaf20e4efe9ffbde51934ccc47",
       "value": "3.1.3: Textual explanation"
      }
     },
     "ad2161afe6eb417cb445aec65f34c35b": {
      "model_module": "@jupyter-widgets/output",
      "model_module_version": "1.0.0",
      "model_name": "OutputModel",
      "state": {
       "layout": "IPY_MODEL_9504f64903b24e1abeb75dba898c3808"
      }
     },
     "ad8d6134d848404f8a6bce2066e02f18": {
      "model_module": "@jupyter-widgets/controls",
      "model_module_version": "2.0.0",
      "model_name": "TextStyleModel",
      "state": {
       "description_width": "50px",
       "font_size": null,
       "text_color": null
      }
     },
     "adb608558b90447a8561749259763e4f": {
      "model_module": "@jupyter-widgets/controls",
      "model_module_version": "2.0.0",
      "model_name": "HTMLStyleModel",
      "state": {
       "description_width": "",
       "font_size": null,
       "text_color": null
      }
     },
     "adde15207ba7404b85f75cdca4488236": {
      "model_module": "@jupyter-widgets/base",
      "model_module_version": "2.0.0",
      "model_name": "LayoutModel",
      "state": {
       "justify_content": "flex-start",
       "width": "90%"
      }
     },
     "adf190db615141d48557c985d8a50146": {
      "model_module": "@jupyter-widgets/controls",
      "model_module_version": "2.0.0",
      "model_name": "HBoxModel",
      "state": {
       "children": [
        "IPY_MODEL_06d0fa2e1d214e2b92acacce29198da6",
        "IPY_MODEL_c01e90f9637f46eebb1b7d8d5d8f6008"
       ],
       "layout": "IPY_MODEL_0dd0eb6494bb413fb85fec750c2dbbd6"
      }
     },
     "ae15670be0424f8a8f5961835c2a3e9a": {
      "model_module": "@jupyter-widgets/controls",
      "model_module_version": "2.0.0",
      "model_name": "TextModel",
      "state": {
       "description": "Intro",
       "layout": "IPY_MODEL_d2ecd981285e46ab86e1637a8c2fe7bd",
       "style": "IPY_MODEL_50b0683c840d48acbd4cf7e402f0807d",
       "value": "Understanding of perturbation-based approaches for providing visual explanations in AI-based liver cancer analysis."
      }
     },
     "ae36820227bc423897323e367a463d30": {
      "model_module": "@jupyter-widgets/controls",
      "model_module_version": "2.0.0",
      "model_name": "HTMLStyleModel",
      "state": {
       "description_width": "",
       "font_size": null,
       "text_color": null
      }
     },
     "ae3f23f1b4fa437ca3bab82f060f487b": {
      "model_module": "@jupyter-widgets/controls",
      "model_module_version": "2.0.0",
      "model_name": "TextModel",
      "state": {
       "description": "Title",
       "layout": "IPY_MODEL_033e401192b5430390597b98860329bb",
       "style": "IPY_MODEL_f2d820cbb74d4c439a03c3d4edbe6936",
       "value": "3.2.1: Visual explanation (saliency mapping, pathologist-in-the-loop)"
      }
     },
     "ae69dc39f41842eba6d5a6bd62fa3ac2": {
      "model_module": "@jupyter-widgets/controls",
      "model_module_version": "2.0.0",
      "model_name": "VBoxModel",
      "state": {
       "children": [
        "IPY_MODEL_d1b08c18f7804e82995aecaba36b8087",
        "IPY_MODEL_c6d70be33fa6430a905cbfa6f26e4434",
        "IPY_MODEL_de7ab1584eff48a6b70703cc28d0a631",
        "IPY_MODEL_97c9037813ed4b5ea3060bd179e485c2",
        "IPY_MODEL_b115f11dbb1a4c54ac058c7220b710dd"
       ],
       "layout": "IPY_MODEL_5a3aa8f622474b0b98a3ea40695d7274"
      }
     },
     "ae6fe1ac54cc42e4b89476b673673526": {
      "model_module": "@jupyter-widgets/base",
      "model_module_version": "2.0.0",
      "model_name": "LayoutModel",
      "state": {}
     },
     "aea261ecef3149e183515553360300a5": {
      "model_module": "@jupyter-widgets/controls",
      "model_module_version": "2.0.0",
      "model_name": "VBoxModel",
      "state": {
       "children": [
        "IPY_MODEL_39b936071c414c27821bbab00e3cc359"
       ],
       "layout": "IPY_MODEL_099d123ffecf44118f0d15a90fc7f111"
      }
     },
     "aeb4570509394964a1772e94ed97439c": {
      "model_module": "@jupyter-widgets/controls",
      "model_module_version": "2.0.0",
      "model_name": "ButtonStyleModel",
      "state": {
       "font_family": null,
       "font_size": null,
       "font_style": null,
       "font_variant": null,
       "font_weight": null,
       "text_color": null,
       "text_decoration": null
      }
     },
     "aef39d77ce43477b9131433b1853c4db": {
      "model_module": "@jupyter-widgets/base",
      "model_module_version": "2.0.0",
      "model_name": "LayoutModel",
      "state": {
       "width": "50%"
      }
     },
     "af7bfd26e0c54c0c974de78b59500fcc": {
      "model_module": "@jupyter-widgets/controls",
      "model_module_version": "2.0.0",
      "model_name": "TextStyleModel",
      "state": {
       "description_width": "50px",
       "font_size": null,
       "text_color": null
      }
     },
     "afe53cd54d104e2ab45726108f396d6c": {
      "model_module": "@jupyter-widgets/controls",
      "model_module_version": "2.0.0",
      "model_name": "HBoxModel",
      "state": {
       "children": [
        "IPY_MODEL_5998a7c5765249dd802566a58a336a06",
        "IPY_MODEL_c5a60d20e298444091c3dfe222b9f28f"
       ],
       "layout": "IPY_MODEL_25e8ab67183247e5ba2154ee7452fd03"
      }
     },
     "b0564879609749eeace3a96642d5d88c": {
      "model_module": "@jupyter-widgets/controls",
      "model_module_version": "2.0.0",
      "model_name": "TextStyleModel",
      "state": {
       "description_width": "50px",
       "font_size": null,
       "text_color": null
      }
     },
     "b115f11dbb1a4c54ac058c7220b710dd": {
      "model_module": "@jupyter-widgets/output",
      "model_module_version": "1.0.0",
      "model_name": "OutputModel",
      "state": {
       "layout": "IPY_MODEL_028fd547023f490fa1dcd2a11c6f2a06"
      }
     },
     "b168bbe8be1f4fadbb81edc57309dc7e": {
      "model_module": "@jupyter-widgets/base",
      "model_module_version": "2.0.0",
      "model_name": "LayoutModel",
      "state": {}
     },
     "b1f683729b44468d8ed738cf9ae4f58f": {
      "model_module": "@jupyter-widgets/controls",
      "model_module_version": "2.0.0",
      "model_name": "TextModel",
      "state": {
       "description": "Prompt",
       "layout": "IPY_MODEL_1014460e154e455eab8c6c8f6125ca01",
       "placeholder": "",
       "style": "IPY_MODEL_a9c6620601a1427ab79bf9783d26825e"
      }
     },
     "b246e09f47fe46c3ba0f3f83b3377721": {
      "model_module": "@jupyter-widgets/controls",
      "model_module_version": "2.0.0",
      "model_name": "HTMLModel",
      "state": {
       "layout": "IPY_MODEL_fb2fa6e32b204011910047688f9c9935",
       "style": "IPY_MODEL_55cd3497c18d4738802c2c2e3dcde11b",
       "value": "A comprehensive exploration of the current advances, challenges, and strategies in applying AI for pathological analysis of liver cancer."
      }
     },
     "b2a40d2332d54269b64ca2e4870c10d7": {
      "model_module": "@jupyter-widgets/base",
      "model_module_version": "2.0.0",
      "model_name": "LayoutModel",
      "state": {
       "height": "50%",
       "width": "50%"
      }
     },
     "b2ac0fe7ca624792818a52835a1f4d15": {
      "model_module": "@jupyter-widgets/controls",
      "model_module_version": "2.0.0",
      "model_name": "ButtonStyleModel",
      "state": {
       "font_family": null,
       "font_size": null,
       "font_style": null,
       "font_variant": null,
       "font_weight": null,
       "text_color": null,
       "text_decoration": null
      }
     },
     "b2eb424af8354ff9b37c80698e4df103": {
      "model_module": "@jupyter-widgets/controls",
      "model_module_version": "2.0.0",
      "model_name": "HBoxModel",
      "state": {
       "children": [
        "IPY_MODEL_53f5135226c44520888cb5642143a783",
        "IPY_MODEL_8b2c46a6fad8401e821b66a9e5947d2a"
       ],
       "layout": "IPY_MODEL_c4590c0676a04c7c9e0786611e9c9d85"
      }
     },
     "b3b62e07df234db1840dc3043affc188": {
      "model_module": "@jupyter-widgets/controls",
      "model_module_version": "2.0.0",
      "model_name": "TextModel",
      "state": {
       "description": "Words",
       "layout": "IPY_MODEL_366ef21eccac4884851b58cc1c4132f4",
       "placeholder": "",
       "style": "IPY_MODEL_58299e91cd82480a8763ca1411b09301",
       "value": "500"
      }
     },
     "b403b34675e040858d525697c670d625": {
      "model_module": "@jupyter-widgets/output",
      "model_module_version": "1.0.0",
      "model_name": "OutputModel",
      "state": {
       "layout": "IPY_MODEL_ea3d3841a85a42b19ef7c9c572ef3024"
      }
     },
     "b452d3a5b7ce4d2d9f7ad0c3cf309e9c": {
      "model_module": "@jupyter-widgets/base",
      "model_module_version": "2.0.0",
      "model_name": "LayoutModel",
      "state": {
       "height": "50%",
       "width": "50%"
      }
     },
     "b487413c2fec4bb38998307625d26694": {
      "model_module": "@jupyter-widgets/controls",
      "model_module_version": "2.0.0",
      "model_name": "ButtonModel",
      "state": {
       "description": "Translate",
       "icon": "language",
       "layout": "IPY_MODEL_4c8c60b87308433589369c0c35f3dad3",
       "style": "IPY_MODEL_6d6f78599a294b32a13ec271f4c33aba",
       "tooltip": "Click and translate the details for this section"
      }
     },
     "b4f9abeb2f1b4be2aa7650ba89a38037": {
      "model_module": "@jupyter-widgets/base",
      "model_module_version": "2.0.0",
      "model_name": "LayoutModel",
      "state": {}
     },
     "b5051b17c8fa44ceb9a84ff80075b7e9": {
      "model_module": "@jupyter-widgets/base",
      "model_module_version": "2.0.0",
      "model_name": "LayoutModel",
      "state": {}
     },
     "b5636dabf3664fe5be7eff8dbd8cc26a": {
      "model_module": "@jupyter-widgets/controls",
      "model_module_version": "2.0.0",
      "model_name": "ButtonStyleModel",
      "state": {
       "font_family": null,
       "font_size": null,
       "font_style": null,
       "font_variant": null,
       "font_weight": null,
       "text_color": null,
       "text_decoration": null
      }
     },
     "b579fa857d364eaaafea39cb10970430": {
      "model_module": "@jupyter-widgets/controls",
      "model_module_version": "2.0.0",
      "model_name": "TextModel",
      "state": {
       "description": "Prompt",
       "layout": "IPY_MODEL_86307950b48a429587cad05dae60ffb6",
       "placeholder": "",
       "style": "IPY_MODEL_cc265be5d5ee4d48a66f71072b77ebdd"
      }
     },
     "b58ec5487f7d4608b42dc3cba8870f71": {
      "model_module": "@jupyter-widgets/controls",
      "model_module_version": "2.0.0",
      "model_name": "TextStyleModel",
      "state": {
       "description_width": "50px",
       "font_size": null,
       "text_color": null
      }
     },
     "b5f5e407bad8454c8c597bdd3539355a": {
      "model_module": "@jupyter-widgets/controls",
      "model_module_version": "2.0.0",
      "model_name": "TextStyleModel",
      "state": {
       "description_width": "50px",
       "font_size": null,
       "text_color": null
      }
     },
     "b61e1d3af8dc406ea43785427adf7a83": {
      "model_module": "@jupyter-widgets/controls",
      "model_module_version": "2.0.0",
      "model_name": "ButtonModel",
      "state": {
       "description": "Summarize",
       "icon": "radiation",
       "layout": "IPY_MODEL_d4a58e6e40e14dcc900dda46bbba8238",
       "style": "IPY_MODEL_3c5019c45f254404916299c83fac70f6",
       "tooltip": "Summarize this section based on the topic and intro"
      }
     },
     "b6730de4d2c14343980bea6119bd01dc": {
      "model_module": "@jupyter-widgets/controls",
      "model_module_version": "2.0.0",
      "model_name": "HBoxModel",
      "state": {
       "children": [
        "IPY_MODEL_355e827c87584a20820b8cf7aad9656f",
        "IPY_MODEL_5279f1e6a68145f9a30d908802c304c8"
       ],
       "layout": "IPY_MODEL_5a1be67ab0c246f7aca80ce46a289496"
      }
     },
     "b6a1136587174a8cbecb6436d2d382cf": {
      "model_module": "@jupyter-widgets/controls",
      "model_module_version": "2.0.0",
      "model_name": "VBoxModel",
      "state": {
       "children": [
        "IPY_MODEL_79605eb5fc584fc9891f5aa28237c38b",
        "IPY_MODEL_f75be0df04fa49ddb1304acc23aac0ee",
        "IPY_MODEL_ae15670be0424f8a8f5961835c2a3e9a",
        "IPY_MODEL_1f7c68be78bb4819bc534ebafecd4c09",
        "IPY_MODEL_01705b4852ad4952889bfaba7920d434"
       ],
       "layout": "IPY_MODEL_8656c485a1e0412983982f2943576cc9"
      }
     },
     "b6a5c4c322ea4d9ab37ec22c81919f35": {
      "model_module": "@jupyter-widgets/controls",
      "model_module_version": "2.0.0",
      "model_name": "HTMLStyleModel",
      "state": {
       "description_width": "",
       "font_size": null,
       "text_color": null
      }
     },
     "b7578b2f93c64c38a979c9a1f0cf5a63": {
      "model_module": "@jupyter-widgets/controls",
      "model_module_version": "2.0.0",
      "model_name": "TextModel",
      "state": {
       "description": "Intro",
       "layout": "IPY_MODEL_2211499abdb14394b086c90bcc81d740",
       "style": "IPY_MODEL_b58ec5487f7d4608b42dc3cba8870f71",
       "value": "An in-depth look into model-based explanations for AI's decision-making process in liver cancer analysis."
      }
     },
     "b77f3f30a44c49cfb3b8b180b40b505b": {
      "model_module": "@jupyter-widgets/base",
      "model_module_version": "2.0.0",
      "model_name": "LayoutModel",
      "state": {}
     },
     "b7c0b8df0d8a4ff99bdce7f42c51b3b3": {
      "model_module": "@jupyter-widgets/controls",
      "model_module_version": "2.0.0",
      "model_name": "TextStyleModel",
      "state": {
       "description_width": "50px",
       "font_size": null,
       "text_color": null
      }
     },
     "b8447ba31de34e29b666e58f0e239247": {
      "model_module": "@jupyter-widgets/controls",
      "model_module_version": "2.0.0",
      "model_name": "HTMLModel",
      "state": {
       "layout": "IPY_MODEL_a3edf5f4a42f49d08d557444b323190c",
       "style": "IPY_MODEL_08a4ce43435e4a0c83686174dfc45cc9",
       "value": "Exploration of visual explanation techniques like saliency mapping and pathologist-in-the-loop in AI-based liver cancer analysis."
      }
     },
     "b88769be95a84327b6993045d08b7cdc": {
      "model_module": "@jupyter-widgets/controls",
      "model_module_version": "2.0.0",
      "model_name": "VBoxModel",
      "state": {
       "children": [
        "IPY_MODEL_e70f2ead5f624bd997b838d509cae456",
        "IPY_MODEL_c60766453cd94b709c99e1bfd80a22a2",
        "IPY_MODEL_b7578b2f93c64c38a979c9a1f0cf5a63",
        "IPY_MODEL_0106e862b44c4d26b87b587e57006204",
        "IPY_MODEL_ad2161afe6eb417cb445aec65f34c35b"
       ],
       "layout": "IPY_MODEL_3c8a946df8ed40e3b80c7dd662f89255"
      }
     },
     "b8e38086131f42aa9b936bbe8c73da78": {
      "model_module": "@jupyter-widgets/base",
      "model_module_version": "2.0.0",
      "model_name": "LayoutModel",
      "state": {
       "height": "50%",
       "width": "50%"
      }
     },
     "b93de0e6fb09472c88a959708de1f373": {
      "model_module": "@jupyter-widgets/base",
      "model_module_version": "2.0.0",
      "model_name": "LayoutModel",
      "state": {
       "justify_content": "flex-start",
       "width": "90%"
      }
     },
     "b9898fa33cd242fb8f756498b808dde5": {
      "model_module": "@jupyter-widgets/output",
      "model_module_version": "1.0.0",
      "model_name": "OutputModel",
      "state": {
       "layout": "IPY_MODEL_3bf9ab3d69d44a91b5a3ae2adf2bb704"
      }
     },
     "b9b1dda5da654c9ba07e9b4f02fae9a8": {
      "model_module": "@jupyter-widgets/base",
      "model_module_version": "2.0.0",
      "model_name": "LayoutModel",
      "state": {
       "justify_content": "flex-start",
       "width": "90%"
      }
     },
     "b9b3426ea1e84bf1a6f0202f80c3101e": {
      "model_module": "@jupyter-widgets/controls",
      "model_module_version": "2.0.0",
      "model_name": "TextModel",
      "state": {
       "description": "Intro",
       "layout": "IPY_MODEL_6bfe98091fac424793c4d3a56b05a19d",
       "style": "IPY_MODEL_5ceaea4a897f447184b6c250b4b9820e",
       "value": "A thorough comparison of supervised, weakly supervised, and unsupervised learning approaches in AI for liver cancer analysis."
      }
     },
     "b9eea598504f4c28b7053755d9838040": {
      "model_module": "@jupyter-widgets/output",
      "model_module_version": "1.0.0",
      "model_name": "OutputModel",
      "state": {
       "layout": "IPY_MODEL_07a61df22d204af4a9fc9c5762d5bba6"
      }
     },
     "ba179bbfe1c34df2a3c59e7f03945553": {
      "model_module": "@jupyter-widgets/base",
      "model_module_version": "2.0.0",
      "model_name": "LayoutModel",
      "state": {
       "justify_content": "flex-start",
       "width": "90%"
      }
     },
     "bb98578f72964062a5eb71e321c31c13": {
      "model_module": "@jupyter-widgets/controls",
      "model_module_version": "2.0.0",
      "model_name": "TextStyleModel",
      "state": {
       "description_width": "50px",
       "font_size": null,
       "text_color": null
      }
     },
     "bd4eaeed46c1428fb55e6a998101490a": {
      "model_module": "@jupyter-widgets/controls",
      "model_module_version": "2.0.0",
      "model_name": "TextModel",
      "state": {
       "description": "Title",
       "layout": "IPY_MODEL_f4e0aced51c646cca30de06ae55a572c",
       "style": "IPY_MODEL_ea7e236c0d164e01bb9de833d1f9670a",
       "value": "2: Current challenges limiting AI-based approaches in the management of liver cancer"
      }
     },
     "bd7ad5a7fe6544c3ae8a3fd7e8b092de": {
      "model_module": "@jupyter-widgets/base",
      "model_module_version": "2.0.0",
      "model_name": "LayoutModel",
      "state": {}
     },
     "bd8c6ff361c34c07b52999cd0906873f": {
      "model_module": "@jupyter-widgets/base",
      "model_module_version": "2.0.0",
      "model_name": "LayoutModel",
      "state": {
       "justify_content": "flex-start",
       "width": "90%"
      }
     },
     "be3a55a716d743dab62b72722e1230a1": {
      "model_module": "@jupyter-widgets/base",
      "model_module_version": "2.0.0",
      "model_name": "LayoutModel",
      "state": {
       "height": "50%",
       "width": "50%"
      }
     },
     "bf058f73ab2048ab9bc14ecba91e4915": {
      "model_module": "@jupyter-widgets/base",
      "model_module_version": "2.0.0",
      "model_name": "LayoutModel",
      "state": {}
     },
     "bf5cf3ab30544a27ab9ddbf468f74a4c": {
      "model_module": "@jupyter-widgets/base",
      "model_module_version": "2.0.0",
      "model_name": "LayoutModel",
      "state": {}
     },
     "bfa0c67c4d934ccd83f9247ae2f78ea2": {
      "model_module": "@jupyter-widgets/controls",
      "model_module_version": "2.0.0",
      "model_name": "TextModel",
      "state": {
       "description": "Intro",
       "layout": "IPY_MODEL_faf17cd5bb944237816526da5068dc1b",
       "style": "IPY_MODEL_23c971c0087945b5acd3e1839783af03",
       "value": "Exploring how example-based explanations can be used in post hoc analysis of AI's decisions in liver cancer."
      }
     },
     "bfc9f589440f48dfaae52b7bace342de": {
      "model_module": "@jupyter-widgets/base",
      "model_module_version": "2.0.0",
      "model_name": "LayoutModel",
      "state": {}
     },
     "bffe95c64245430780024525ec4856c0": {
      "model_module": "@jupyter-widgets/controls",
      "model_module_version": "2.0.0",
      "model_name": "HTMLStyleModel",
      "state": {
       "description_width": "",
       "font_size": null,
       "text_color": null
      }
     },
     "c01e90f9637f46eebb1b7d8d5d8f6008": {
      "model_module": "@jupyter-widgets/controls",
      "model_module_version": "2.0.0",
      "model_name": "VBoxModel",
      "state": {
       "children": [
        "IPY_MODEL_cad196a6fd4f4f2e91436351bda22fd4"
       ],
       "layout": "IPY_MODEL_0b2eb5b409854fbfa15e69a23d62ea8d"
      }
     },
     "c057017e99334d879b745e4f72d24552": {
      "model_module": "@jupyter-widgets/controls",
      "model_module_version": "2.0.0",
      "model_name": "TextStyleModel",
      "state": {
       "description_width": "50px",
       "font_size": null,
       "text_color": null
      }
     },
     "c09a3051c4e444c9b0502bbf5bcb95f3": {
      "model_module": "@jupyter-widgets/base",
      "model_module_version": "2.0.0",
      "model_name": "LayoutModel",
      "state": {
       "width": "50%"
      }
     },
     "c0b89644f9f04ecdbe15c63fd8fef829": {
      "model_module": "@jupyter-widgets/controls",
      "model_module_version": "2.0.0",
      "model_name": "HTMLModel",
      "state": {
       "layout": "IPY_MODEL_8df89940c27d4b0bab716a5a423c2023",
       "style": "IPY_MODEL_d3d3e5382ae842b687898446277bb8ea",
       "value": "Discussion on how multiple instance learning-based approaches contribute to visual explanations in AI-based liver cancer analysis."
      }
     },
     "c0e4d6c2753741b0880a682ae3b7dda2": {
      "model_module": "@jupyter-widgets/base",
      "model_module_version": "2.0.0",
      "model_name": "LayoutModel",
      "state": {}
     },
     "c144691790114d3a8539f6ff53db842e": {
      "model_module": "@jupyter-widgets/controls",
      "model_module_version": "2.0.0",
      "model_name": "VBoxModel",
      "state": {
       "children": [
        "IPY_MODEL_816aaa79b2f342c39c834791fcebc3f1"
       ],
       "layout": "IPY_MODEL_68ec4a6a6d034874a946bbc2c822fb81"
      }
     },
     "c183dedbea5849649b77c0b08c30710a": {
      "model_module": "@jupyter-widgets/output",
      "model_module_version": "1.0.0",
      "model_name": "OutputModel",
      "state": {
       "layout": "IPY_MODEL_ef85d7be6a504b28b4fe36426f30c239"
      }
     },
     "c19393afb61f40b6b65fb47a00bb6364": {
      "model_module": "@jupyter-widgets/controls",
      "model_module_version": "2.0.0",
      "model_name": "HBoxModel",
      "state": {
       "children": [
        "IPY_MODEL_c5caf56f7df54144b4c6a2f62609c0ac",
        "IPY_MODEL_9ef52886fcca45e2b4de3ec34ba43aa4"
       ],
       "layout": "IPY_MODEL_bf5cf3ab30544a27ab9ddbf468f74a4c"
      }
     },
     "c1a71593b88045b4ba4e9bf8fdb8533f": {
      "model_module": "@jupyter-widgets/base",
      "model_module_version": "2.0.0",
      "model_name": "LayoutModel",
      "state": {}
     },
     "c1b65877d8ef4406be4ad2b9bc521ec1": {
      "model_module": "@jupyter-widgets/controls",
      "model_module_version": "2.0.0",
      "model_name": "TextStyleModel",
      "state": {
       "description_width": "50px",
       "font_size": null,
       "text_color": null
      }
     },
     "c1cac5f20a5b4f98b00bf99a404279fb": {
      "model_module": "@jupyter-widgets/controls",
      "model_module_version": "2.0.0",
      "model_name": "ButtonModel",
      "state": {
       "description": "Translate",
       "icon": "language",
       "layout": "IPY_MODEL_cd8f4b5eb65c4bcda20d16580b44d2dc",
       "style": "IPY_MODEL_8dada747252a4347827de55728c0ddc0",
       "tooltip": "Click and translate the details for this section"
      }
     },
     "c276721fb0da46048ef579d5a26a9981": {
      "model_module": "@jupyter-widgets/base",
      "model_module_version": "2.0.0",
      "model_name": "LayoutModel",
      "state": {
       "justify_content": "flex-start",
       "width": "90%"
      }
     },
     "c285af7bbf9b42fda6eaffc46b673a1d": {
      "model_module": "@jupyter-widgets/base",
      "model_module_version": "2.0.0",
      "model_name": "LayoutModel",
      "state": {}
     },
     "c2873495f5644ceebbe2144cd4acb167": {
      "model_module": "@jupyter-widgets/base",
      "model_module_version": "2.0.0",
      "model_name": "LayoutModel",
      "state": {}
     },
     "c2a0abd315e947359f3d10ce19be06fc": {
      "model_module": "@jupyter-widgets/controls",
      "model_module_version": "2.0.0",
      "model_name": "VBoxModel",
      "state": {
       "children": [
        "IPY_MODEL_6211dcce8a0f4268969f2e554b706d2a",
        "IPY_MODEL_ad16e654ffc1470ca4ebbaf7949466df",
        "IPY_MODEL_2450bedcb04e41ad89d5d7c5d407c4d8",
        "IPY_MODEL_7c222887fd2643958a69958725d48b8d",
        "IPY_MODEL_2fe9ef7db2fd44e8a52b3c75f9a2864e"
       ],
       "layout": "IPY_MODEL_74b81e78bcd347488b2447655dd62ab0"
      }
     },
     "c34d037ed6f14120beb7c5a9310e6293": {
      "model_module": "@jupyter-widgets/base",
      "model_module_version": "2.0.0",
      "model_name": "LayoutModel",
      "state": {
       "justify_content": "flex-start",
       "width": "90%"
      }
     },
     "c35c2848381a42e598039d8b8daf314b": {
      "model_module": "@jupyter-widgets/controls",
      "model_module_version": "2.0.0",
      "model_name": "VBoxModel",
      "state": {
       "children": [
        "IPY_MODEL_78ba8b0e6c714f44bb934bbef3a86a0d"
       ],
       "layout": "IPY_MODEL_12c61a7f46df4e84a1b41324c61a369b"
      }
     },
     "c3f69ae0228344598e5acbce10ccf138": {
      "model_module": "@jupyter-widgets/controls",
      "model_module_version": "2.0.0",
      "model_name": "TextModel",
      "state": {
       "description": "Words",
       "layout": "IPY_MODEL_5d6857b080e8421692d499f3c128d8b5",
       "placeholder": "",
       "style": "IPY_MODEL_f5092fb8180a4d3eaeab9d2863cfa7b1",
       "value": "500"
      }
     },
     "c40ec2a7f2ce4fd1bc4dc0000a75e6f0": {
      "model_module": "@jupyter-widgets/controls",
      "model_module_version": "2.0.0",
      "model_name": "TextModel",
      "state": {
       "description": "Title",
       "layout": "IPY_MODEL_05b18dd482614473b860a259150b3d47",
       "style": "IPY_MODEL_2774359756674c2a98325c499d08f9d8",
       "value": "3.1.1: Support vector machine or random forests vs. deep learning"
      }
     },
     "c4590c0676a04c7c9e0786611e9c9d85": {
      "model_module": "@jupyter-widgets/base",
      "model_module_version": "2.0.0",
      "model_name": "LayoutModel",
      "state": {}
     },
     "c5977b424ab644f9a544a1ecd1de4748": {
      "model_module": "@jupyter-widgets/base",
      "model_module_version": "2.0.0",
      "model_name": "LayoutModel",
      "state": {}
     },
     "c5a60d20e298444091c3dfe222b9f28f": {
      "model_module": "@jupyter-widgets/controls",
      "model_module_version": "2.0.0",
      "model_name": "VBoxModel",
      "state": {
       "children": [
        "IPY_MODEL_c79698ef2cb6490286f207bff14a6c96"
       ],
       "layout": "IPY_MODEL_59aa718678fa46c9a06d8de82111b10c"
      }
     },
     "c5c0589b9d314c12887f1706b41a897e": {
      "model_module": "@jupyter-widgets/controls",
      "model_module_version": "2.0.0",
      "model_name": "TextModel",
      "state": {
       "description": "Intro",
       "layout": "IPY_MODEL_944133fb406d42bca181cc55fc9db69f",
       "style": "IPY_MODEL_493598660dff40f9baa52d434983ee73",
       "value": "Insights into how AI is leveraged for molecular profiling of liver cancer for personalized treatment strategies."
      }
     },
     "c5caf56f7df54144b4c6a2f62609c0ac": {
      "model_module": "@jupyter-widgets/controls",
      "model_module_version": "2.0.0",
      "model_name": "VBoxModel",
      "state": {
       "children": [
        "IPY_MODEL_a2b288df43114e64b7618dcc7bebe8dd",
        "IPY_MODEL_8c436954ec2c494e83651a62376e3bc2",
        "IPY_MODEL_c5c0589b9d314c12887f1706b41a897e",
        "IPY_MODEL_c3f69ae0228344598e5acbce10ccf138",
        "IPY_MODEL_21ea8fa648fd4d2fb492b4231b8ab18e"
       ],
       "layout": "IPY_MODEL_47f399110d974d2492d50a2bf9ce720e"
      }
     },
     "c5dcee9a20094e2a8ecb9c593f6ecbcc": {
      "model_module": "@jupyter-widgets/controls",
      "model_module_version": "2.0.0",
      "model_name": "ButtonStyleModel",
      "state": {
       "font_family": null,
       "font_size": null,
       "font_style": null,
       "font_variant": null,
       "font_weight": null,
       "text_color": null,
       "text_decoration": null
      }
     },
     "c60766453cd94b709c99e1bfd80a22a2": {
      "model_module": "@jupyter-widgets/controls",
      "model_module_version": "2.0.0",
      "model_name": "TextModel",
      "state": {
       "description": "Title",
       "layout": "IPY_MODEL_9feac508eb1b4bfeb27bac18fee9f21f",
       "style": "IPY_MODEL_44244ac771d34012b660233308f1e10d",
       "value": "3.1: Model-based explanation"
      }
     },
     "c684f6b8b2584570ac61f721c5d37a9d": {
      "model_module": "@jupyter-widgets/base",
      "model_module_version": "2.0.0",
      "model_name": "LayoutModel",
      "state": {
       "justify_content": "flex-start",
       "width": "90%"
      }
     },
     "c6c27f9cc8ea40a9b04603905e13a4e3": {
      "model_module": "@jupyter-widgets/controls",
      "model_module_version": "2.0.0",
      "model_name": "VBoxModel",
      "state": {
       "children": [
        "IPY_MODEL_44d1dea7044246639a1e6e44274cb6cf"
       ],
       "layout": "IPY_MODEL_d9552524d7d444a982aa395dc4cdb50f"
      }
     },
     "c6c9a9c0503a4f58b4ec00a1069f05df": {
      "model_module": "@jupyter-widgets/output",
      "model_module_version": "1.0.0",
      "model_name": "OutputModel",
      "state": {
       "layout": "IPY_MODEL_5a9a8ca47f954a2c85128dc3db1923ed"
      }
     },
     "c6d70be33fa6430a905cbfa6f26e4434": {
      "model_module": "@jupyter-widgets/controls",
      "model_module_version": "2.0.0",
      "model_name": "TextModel",
      "state": {
       "description": "Title",
       "layout": "IPY_MODEL_7db01bfe5a6e4786aa272fbb4cfe285b",
       "style": "IPY_MODEL_63b80f8ce154473390f66983355ba9e2",
       "value": "3.2.1.1: Backpropagation-based approaches"
      }
     },
     "c6e07f15792d4e8c9f117d7c098f0ed5": {
      "model_module": "@jupyter-widgets/base",
      "model_module_version": "2.0.0",
      "model_name": "LayoutModel",
      "state": {
       "justify_content": "flex-start",
       "width": "90%"
      }
     },
     "c76e273c9c814179815a034967ffe34e": {
      "model_module": "@jupyter-widgets/controls",
      "model_module_version": "2.0.0",
      "model_name": "ButtonModel",
      "state": {
       "description": "Summarize",
       "icon": "radiation",
       "layout": "IPY_MODEL_dea1010457614f50a43dbe98cacf0060",
       "style": "IPY_MODEL_11566a1aaa8546ceb39b1188103bca4d",
       "tooltip": "Summarize this section based on the topic and intro"
      }
     },
     "c79698ef2cb6490286f207bff14a6c96": {
      "model_module": "@jupyter-widgets/controls",
      "model_module_version": "2.0.0",
      "model_name": "HTMLModel",
      "state": {
       "layout": "IPY_MODEL_b5051b17c8fa44ceb9a84ff80075b7e9",
       "style": "IPY_MODEL_bffe95c64245430780024525ec4856c0",
       "value": "An overview of the latest developments in AI technologies and their applications in the clinical management of liver cancer."
      }
     },
     "c7dcb381287c48b7a3021d0652378dc6": {
      "model_module": "@jupyter-widgets/controls",
      "model_module_version": "2.0.0",
      "model_name": "TextModel",
      "state": {
       "description": "Words",
       "layout": "IPY_MODEL_ba179bbfe1c34df2a3c59e7f03945553",
       "placeholder": "",
       "style": "IPY_MODEL_47cde4de304c4ffd92b8d07621c29b1a",
       "value": "500"
      }
     },
     "c86e4ba0255d4a45af76713e8b7c5dd6": {
      "model_module": "@jupyter-widgets/base",
      "model_module_version": "2.0.0",
      "model_name": "LayoutModel",
      "state": {}
     },
     "c8c9e48ead1a4018be5bbdfda9993707": {
      "model_module": "@jupyter-widgets/base",
      "model_module_version": "2.0.0",
      "model_name": "LayoutModel",
      "state": {}
     },
     "c915b8cb913e45adb98e23ac87aaa798": {
      "model_module": "@jupyter-widgets/controls",
      "model_module_version": "2.0.0",
      "model_name": "TextStyleModel",
      "state": {
       "description_width": "50px",
       "font_size": null,
       "text_color": null
      }
     },
     "c9c34c729a7846c887dcc8b31413767b": {
      "model_module": "@jupyter-widgets/controls",
      "model_module_version": "2.0.0",
      "model_name": "VBoxModel",
      "state": {
       "children": [
        "IPY_MODEL_efdcbb4c22cf457cacb07c0fef4988ef",
        "IPY_MODEL_ae3f23f1b4fa437ca3bab82f060f487b",
        "IPY_MODEL_2e822429fbbe4e68bb7bd3cbec360a15",
        "IPY_MODEL_4ac75b846b984589aacb48c0159da26c",
        "IPY_MODEL_3976fe28592141a286774b3503ea7164"
       ],
       "layout": "IPY_MODEL_04e59b8b241b45ac99d9f1dc35fb0e3e"
      }
     },
     "ca8937edc0b14faa90a96b4614c859ba": {
      "model_module": "@jupyter-widgets/controls",
      "model_module_version": "2.0.0",
      "model_name": "TextModel",
      "state": {
       "description": "Prompt",
       "layout": "IPY_MODEL_d00666f95e044cf1af3c74dcd82be442",
       "placeholder": "",
       "style": "IPY_MODEL_f7805226f3fc401896096513f2a25a62"
      }
     },
     "caa3a82241ab494e9f8f02db11e34c2b": {
      "model_module": "@jupyter-widgets/controls",
      "model_module_version": "2.0.0",
      "model_name": "HBoxModel",
      "state": {
       "children": [
        "IPY_MODEL_b88769be95a84327b6993045d08b7cdc",
        "IPY_MODEL_c144691790114d3a8539f6ff53db842e"
       ],
       "layout": "IPY_MODEL_67a69de98e314aaf85935fe9579469cd"
      }
     },
     "cad196a6fd4f4f2e91436351bda22fd4": {
      "model_module": "@jupyter-widgets/controls",
      "model_module_version": "2.0.0",
      "model_name": "VBoxModel",
      "state": {
       "children": [
        "IPY_MODEL_3eba07dd8c3b44928212497bae7fc1c8"
       ],
       "layout": "IPY_MODEL_63189726c6f4487183bdb1c9cf618a26"
      }
     },
     "caeb101e4b1a4368a7a419a93da09582": {
      "model_module": "@jupyter-widgets/base",
      "model_module_version": "2.0.0",
      "model_name": "LayoutModel",
      "state": {}
     },
     "cb982a6cf539403e92bbd2c213882e4a": {
      "model_module": "@jupyter-widgets/controls",
      "model_module_version": "2.0.0",
      "model_name": "TextStyleModel",
      "state": {
       "description_width": "50px",
       "font_size": null,
       "text_color": null
      }
     },
     "cc034296c07149c888fe1b26324eda72": {
      "model_module": "@jupyter-widgets/base",
      "model_module_version": "2.0.0",
      "model_name": "LayoutModel",
      "state": {}
     },
     "cc1413789cdd4803ba18771ae5a817ba": {
      "model_module": "@jupyter-widgets/controls",
      "model_module_version": "2.0.0",
      "model_name": "ButtonStyleModel",
      "state": {
       "font_family": null,
       "font_size": null,
       "font_style": null,
       "font_variant": null,
       "font_weight": null,
       "text_color": null,
       "text_decoration": null
      }
     },
     "cc265be5d5ee4d48a66f71072b77ebdd": {
      "model_module": "@jupyter-widgets/controls",
      "model_module_version": "2.0.0",
      "model_name": "TextStyleModel",
      "state": {
       "description_width": "50px",
       "font_size": null,
       "text_color": null
      }
     },
     "cc96fc590e684693bdb5556f469d61a2": {
      "model_module": "@jupyter-widgets/controls",
      "model_module_version": "2.0.0",
      "model_name": "TextModel",
      "state": {
       "description": "Title",
       "layout": "IPY_MODEL_6eb40a311d1f4903bf5f7214868d60e4",
       "style": "IPY_MODEL_9416efdcbc3a45b292728854262fd7d8",
       "value": "3.1.4.2: Prototypes"
      }
     },
     "cd3c9e61b48a4826884350a46a655cbe": {
      "model_module": "@jupyter-widgets/base",
      "model_module_version": "2.0.0",
      "model_name": "LayoutModel",
      "state": {}
     },
     "cd4dbfdfc7fd45f0923d2b61b312034c": {
      "model_module": "@jupyter-widgets/controls",
      "model_module_version": "2.0.0",
      "model_name": "HTMLStyleModel",
      "state": {
       "description_width": "",
       "font_size": null,
       "text_color": null
      }
     },
     "cd8f4b5eb65c4bcda20d16580b44d2dc": {
      "model_module": "@jupyter-widgets/base",
      "model_module_version": "2.0.0",
      "model_name": "LayoutModel",
      "state": {}
     },
     "cdac3d056fd84af2892df61d8d5f87a4": {
      "model_module": "@jupyter-widgets/base",
      "model_module_version": "2.0.0",
      "model_name": "LayoutModel",
      "state": {}
     },
     "ce00439e6bb64376a5c300d36f45c684": {
      "model_module": "@jupyter-widgets/controls",
      "model_module_version": "2.0.0",
      "model_name": "TextModel",
      "state": {
       "description": "Intro",
       "layout": "IPY_MODEL_42ca5da06f09464dbfab757b6df04b56",
       "style": "IPY_MODEL_108d5ba746e54fb1a6f73d9131705d98",
       "value": "Discussion on how AI is being used to predict the progression and outcome of liver cancer."
      }
     },
     "d00666f95e044cf1af3c74dcd82be442": {
      "model_module": "@jupyter-widgets/base",
      "model_module_version": "2.0.0",
      "model_name": "LayoutModel",
      "state": {
       "justify_content": "flex-start",
       "width": "90%"
      }
     },
     "d0337630be95449480a2d676681ea60e": {
      "model_module": "@jupyter-widgets/controls",
      "model_module_version": "2.0.0",
      "model_name": "VBoxModel",
      "state": {
       "children": [
        "IPY_MODEL_80d9b7b682944f54a0603d7554d988df",
        "IPY_MODEL_c40ec2a7f2ce4fd1bc4dc0000a75e6f0",
        "IPY_MODEL_4dfd25a0a30747deb74666c5322c9500",
        "IPY_MODEL_97568ce415eb452d96a88ad0f8d044b6",
        "IPY_MODEL_3a11d61efdf346dc84eb3a578b4a57fb"
       ],
       "layout": "IPY_MODEL_54a9b56ed0c24a46957710230d3074a4"
      }
     },
     "d17127e9ebd14c29a955799a9c12e2d2": {
      "model_module": "@jupyter-widgets/controls",
      "model_module_version": "2.0.0",
      "model_name": "VBoxModel",
      "state": {
       "children": [
        "IPY_MODEL_006c72e7a3344b689695abc5152c9248",
        "IPY_MODEL_2d4d92a885c54d5cb4ec738fef51d9f7",
        "IPY_MODEL_59627e1012824bb097033ae5a541e5cc",
        "IPY_MODEL_c7dcb381287c48b7a3021d0652378dc6",
        "IPY_MODEL_11c5e56b6aa44a94a60de4bf918ae498"
       ],
       "layout": "IPY_MODEL_3d7b5554221540c680c04ae495eb859f"
      }
     },
     "d17f28bcc4ea4e76bfadf344970be7ff": {
      "model_module": "@jupyter-widgets/base",
      "model_module_version": "2.0.0",
      "model_name": "LayoutModel",
      "state": {}
     },
     "d1b08c18f7804e82995aecaba36b8087": {
      "model_module": "@jupyter-widgets/controls",
      "model_module_version": "2.0.0",
      "model_name": "ButtonModel",
      "state": {
       "description": "Summarize",
       "icon": "radiation",
       "layout": "IPY_MODEL_2ca9f9237aa64201b7ca8370c1ae569e",
       "style": "IPY_MODEL_33598cfd05834544ab94669d88130af5",
       "tooltip": "Summarize this section based on the topic and intro"
      }
     },
     "d2ecd981285e46ab86e1637a8c2fe7bd": {
      "model_module": "@jupyter-widgets/base",
      "model_module_version": "2.0.0",
      "model_name": "LayoutModel",
      "state": {
       "justify_content": "flex-start",
       "width": "90%"
      }
     },
     "d304f8ddf4654896bc4b37d1fa4b9662": {
      "model_module": "@jupyter-widgets/controls",
      "model_module_version": "2.0.0",
      "model_name": "HBoxModel",
      "state": {
       "children": [
        "IPY_MODEL_7c23b0566ade40dd95e76eac3795e303",
        "IPY_MODEL_e3ef9661ed894a16b93326fa8521c4e6"
       ],
       "layout": "IPY_MODEL_a58066695fe7405db525464ae152aa06"
      }
     },
     "d38521e81c9b4269b0085e65705625d0": {
      "model_module": "@jupyter-widgets/base",
      "model_module_version": "2.0.0",
      "model_name": "LayoutModel",
      "state": {}
     },
     "d3a2264f416c49bcb701ba9432f54c8f": {
      "model_module": "@jupyter-widgets/controls",
      "model_module_version": "2.0.0",
      "model_name": "TextStyleModel",
      "state": {
       "description_width": "50px",
       "font_size": null,
       "text_color": null
      }
     },
     "d3d3e5382ae842b687898446277bb8ea": {
      "model_module": "@jupyter-widgets/controls",
      "model_module_version": "2.0.0",
      "model_name": "HTMLStyleModel",
      "state": {
       "description_width": "",
       "font_size": null,
       "text_color": null
      }
     },
     "d401ed7e3d39472983638a96b4b16731": {
      "model_module": "@jupyter-widgets/base",
      "model_module_version": "2.0.0",
      "model_name": "LayoutModel",
      "state": {}
     },
     "d49c5e0c1fd8469795b496207b522deb": {
      "model_module": "@jupyter-widgets/controls",
      "model_module_version": "2.0.0",
      "model_name": "TextStyleModel",
      "state": {
       "description_width": "50px",
       "font_size": null,
       "text_color": null
      }
     },
     "d4a58e6e40e14dcc900dda46bbba8238": {
      "model_module": "@jupyter-widgets/base",
      "model_module_version": "2.0.0",
      "model_name": "LayoutModel",
      "state": {}
     },
     "d4eb44e672a14f55a9934608406647d2": {
      "model_module": "@jupyter-widgets/base",
      "model_module_version": "2.0.0",
      "model_name": "LayoutModel",
      "state": {}
     },
     "d565d4fb0c1c43bf9c6cde9981e5cb14": {
      "model_module": "@jupyter-widgets/controls",
      "model_module_version": "2.0.0",
      "model_name": "TextModel",
      "state": {
       "description": "Title",
       "layout": "IPY_MODEL_f23c28249be24426a7cf429b3e7f00fd",
       "style": "IPY_MODEL_31af881af1d9436d8df7bcfb62f7e6b1",
       "value": "3.2.3: Example-based explanation"
      }
     },
     "d576020fc88a4306a521ac2c86eb1cd9": {
      "model_module": "@jupyter-widgets/controls",
      "model_module_version": "2.0.0",
      "model_name": "TextStyleModel",
      "state": {
       "description_width": "50px",
       "font_size": null,
       "text_color": null
      }
     },
     "d5ad7fe2eb8640ed879933a64dd3a85e": {
      "model_module": "@jupyter-widgets/controls",
      "model_module_version": "2.0.0",
      "model_name": "ButtonModel",
      "state": {
       "description": "Translate",
       "icon": "language",
       "layout": "IPY_MODEL_9d187ee3ed6d442898fc30167027348c",
       "style": "IPY_MODEL_965795d64b974e7aa147863ff52691d1",
       "tooltip": "Click and translate the details for this section"
      }
     },
     "d5e6bc58bffb41f3acf9b96bf595bc8e": {
      "model_module": "@jupyter-widgets/base",
      "model_module_version": "2.0.0",
      "model_name": "LayoutModel",
      "state": {
       "justify_content": "flex-start",
       "width": "90%"
      }
     },
     "d650dcffb7e747a495320d6a7af0a1a6": {
      "model_module": "@jupyter-widgets/controls",
      "model_module_version": "2.0.0",
      "model_name": "ButtonModel",
      "state": {
       "description": "Summarize",
       "icon": "radiation",
       "layout": "IPY_MODEL_142c082f74134b2289d15486bd623a6a",
       "style": "IPY_MODEL_70d3e83df0a34bd284c1a2b68795c518",
       "tooltip": "Summarize this section based on the topic and intro"
      }
     },
     "d65ed9516d9447dc88f1d9ed61c5dbc7": {
      "model_module": "@jupyter-widgets/controls",
      "model_module_version": "2.0.0",
      "model_name": "HBoxModel",
      "state": {
       "children": [
        "IPY_MODEL_4c6fd114467347fc98243e9b2be65233",
        "IPY_MODEL_8f81c3bf1d674770b8280d0ee8c71c91"
       ],
       "layout": "IPY_MODEL_3ba7168f3e4942c68b51b66d46e22895"
      }
     },
     "d6ecf112dde94630ab2fb3fb782e46ea": {
      "model_module": "@jupyter-widgets/output",
      "model_module_version": "1.0.0",
      "model_name": "OutputModel",
      "state": {
       "layout": "IPY_MODEL_6f1b588834a24de3ad5be23c240bc774"
      }
     },
     "d718052931e5495aadf0e154ad7e0fa6": {
      "model_module": "@jupyter-widgets/controls",
      "model_module_version": "2.0.0",
      "model_name": "ButtonStyleModel",
      "state": {
       "font_family": null,
       "font_size": null,
       "font_style": null,
       "font_variant": null,
       "font_weight": null,
       "text_color": null,
       "text_decoration": null
      }
     },
     "d730e20131b442bfaa2a3446ad3faffb": {
      "model_module": "@jupyter-widgets/base",
      "model_module_version": "2.0.0",
      "model_name": "LayoutModel",
      "state": {}
     },
     "d75a3ef7096d480fbfcaa4aa0c2df79d": {
      "model_module": "@jupyter-widgets/base",
      "model_module_version": "2.0.0",
      "model_name": "LayoutModel",
      "state": {}
     },
     "d7701cef7d2c4d5997fb9f56e2e02cd3": {
      "model_module": "@jupyter-widgets/base",
      "model_module_version": "2.0.0",
      "model_name": "LayoutModel",
      "state": {}
     },
     "d7cbaf32f23a4cd9808a5b59f8ea1a0e": {
      "model_module": "@jupyter-widgets/controls",
      "model_module_version": "2.0.0",
      "model_name": "TextStyleModel",
      "state": {
       "description_width": "50px",
       "font_size": null,
       "text_color": null
      }
     },
     "d7d2733124e048e1b9a6066517cdb738": {
      "model_module": "@jupyter-widgets/controls",
      "model_module_version": "2.0.0",
      "model_name": "TextStyleModel",
      "state": {
       "description_width": "50px",
       "font_size": null,
       "text_color": null
      }
     },
     "d7ddba38a672466b969073ab48194279": {
      "model_module": "@jupyter-widgets/controls",
      "model_module_version": "2.0.0",
      "model_name": "HTMLStyleModel",
      "state": {
       "description_width": "",
       "font_size": null,
       "text_color": null
      }
     },
     "d7f35d9ae80549b9b75ed4a7555cc006": {
      "model_module": "@jupyter-widgets/base",
      "model_module_version": "2.0.0",
      "model_name": "LayoutModel",
      "state": {}
     },
     "d9552524d7d444a982aa395dc4cdb50f": {
      "model_module": "@jupyter-widgets/base",
      "model_module_version": "2.0.0",
      "model_name": "LayoutModel",
      "state": {
       "height": "50%",
       "width": "50%"
      }
     },
     "d9bc3d0936084117815a086df97c8ab0": {
      "model_module": "@jupyter-widgets/base",
      "model_module_version": "2.0.0",
      "model_name": "LayoutModel",
      "state": {
       "justify_content": "flex-start",
       "width": "90%"
      }
     },
     "d9c37fe6bba54f31866dd0f97ffc5eee": {
      "model_module": "@jupyter-widgets/controls",
      "model_module_version": "2.0.0",
      "model_name": "TextStyleModel",
      "state": {
       "description_width": "50px",
       "font_size": null,
       "text_color": null
      }
     },
     "da02a7e8a2764149ac146ce2dad075a0": {
      "model_module": "@jupyter-widgets/controls",
      "model_module_version": "2.0.0",
      "model_name": "VBoxModel",
      "state": {
       "children": [
        "IPY_MODEL_e400b07e7a94475fb6bc8b31b4b121ac"
       ],
       "layout": "IPY_MODEL_a5309e9119484416bfdb69331128fd53"
      }
     },
     "da466cd7d19f40ce91fb653c88d2f99d": {
      "model_module": "@jupyter-widgets/controls",
      "model_module_version": "2.0.0",
      "model_name": "ButtonStyleModel",
      "state": {
       "font_family": null,
       "font_size": null,
       "font_style": null,
       "font_variant": null,
       "font_weight": null,
       "text_color": null,
       "text_decoration": null
      }
     },
     "da5adbb1c9a84fd492fbcca003760d19": {
      "model_module": "@jupyter-widgets/base",
      "model_module_version": "2.0.0",
      "model_name": "LayoutModel",
      "state": {
       "justify_content": "flex-start",
       "width": "90%"
      }
     },
     "dbe6864c47b647a0a7c2f63dc43696ba": {
      "model_module": "@jupyter-widgets/controls",
      "model_module_version": "2.0.0",
      "model_name": "ButtonModel",
      "state": {
       "description": "Translate",
       "icon": "language",
       "layout": "IPY_MODEL_e9b04e14977c4b15b7e831ec09332ca0",
       "style": "IPY_MODEL_807c844466b64606956fa4f25e9aa502",
       "tooltip": "Click and translate the details for this section"
      }
     },
     "dc6edd9c05d54c44828a3633991af190": {
      "model_module": "@jupyter-widgets/controls",
      "model_module_version": "2.0.0",
      "model_name": "ButtonStyleModel",
      "state": {
       "font_family": null,
       "font_size": null,
       "font_style": null,
       "font_variant": null,
       "font_weight": null,
       "text_color": null,
       "text_decoration": null
      }
     },
     "dca4def965a84aaf8cad25d3d5408f69": {
      "model_module": "@jupyter-widgets/controls",
      "model_module_version": "2.0.0",
      "model_name": "ButtonStyleModel",
      "state": {
       "font_family": null,
       "font_size": null,
       "font_style": null,
       "font_variant": null,
       "font_weight": null,
       "text_color": null,
       "text_decoration": null
      }
     },
     "dd2c64f7d47645cea419ad58833279de": {
      "model_module": "@jupyter-widgets/controls",
      "model_module_version": "2.0.0",
      "model_name": "TextModel",
      "state": {
       "description": "Intro",
       "layout": "IPY_MODEL_000ca209b3fc4d9db57b78f8499c274f",
       "style": "IPY_MODEL_4934915c4bc3483f98a5c0fb83eb8825",
       "value": "A comprehensive exploration of the current advances, challenges, and strategies in applying AI for pathological analysis of liver cancer."
      }
     },
     "dd7227c39f1a4fb0b72ca21c1d1e2e62": {
      "model_module": "@jupyter-widgets/base",
      "model_module_version": "2.0.0",
      "model_name": "LayoutModel",
      "state": {
       "justify_content": "flex-start",
       "width": "90%"
      }
     },
     "dd75e4c34feb4b0e8f977ecb832d2d59": {
      "model_module": "@jupyter-widgets/base",
      "model_module_version": "2.0.0",
      "model_name": "LayoutModel",
      "state": {
       "justify_content": "flex-start",
       "width": "90%"
      }
     },
     "de4704786c6f448d8a22f9f37cecd09b": {
      "model_module": "@jupyter-widgets/controls",
      "model_module_version": "2.0.0",
      "model_name": "ButtonModel",
      "state": {
       "description": "Translate",
       "icon": "language",
       "layout": "IPY_MODEL_ae6fe1ac54cc42e4b89476b673673526",
       "style": "IPY_MODEL_725df4fd0ef94faf9f0807846e50cdcd",
       "tooltip": "Click and translate the details for this section"
      }
     },
     "de61b41797a84ecaba9fbcbde5b4ce8b": {
      "model_module": "@jupyter-widgets/controls",
      "model_module_version": "2.0.0",
      "model_name": "ButtonStyleModel",
      "state": {
       "font_family": null,
       "font_size": null,
       "font_style": null,
       "font_variant": null,
       "font_weight": null,
       "text_color": null,
       "text_decoration": null
      }
     },
     "de7ab1584eff48a6b70703cc28d0a631": {
      "model_module": "@jupyter-widgets/controls",
      "model_module_version": "2.0.0",
      "model_name": "TextModel",
      "state": {
       "description": "Intro",
       "layout": "IPY_MODEL_a3552d33bda24e62a6684620646c9cc9",
       "style": "IPY_MODEL_b7c0b8df0d8a4ff99bdce7f42c51b3b3",
       "value": "Insight into backpropagation-based approaches for visual explanation in AI-based liver cancer analysis."
      }
     },
     "de7d81c225a24a7099d19f05b2369cc2": {
      "model_module": "@jupyter-widgets/controls",
      "model_module_version": "2.0.0",
      "model_name": "HTMLStyleModel",
      "state": {
       "description_width": "",
       "font_size": null,
       "text_color": null
      }
     },
     "dea1010457614f50a43dbe98cacf0060": {
      "model_module": "@jupyter-widgets/base",
      "model_module_version": "2.0.0",
      "model_name": "LayoutModel",
      "state": {}
     },
     "dee019d461ad4b158552ed3447e48fb6": {
      "model_module": "@jupyter-widgets/controls",
      "model_module_version": "2.0.0",
      "model_name": "TextModel",
      "state": {
       "description": "Prompt",
       "layout": "IPY_MODEL_677420110794443ca6782dad11293abb",
       "placeholder": "",
       "style": "IPY_MODEL_980dc1291aa54b09b9b145d3fa1fa984"
      }
     },
     "df0989b940804b69bec684988fac7e53": {
      "model_module": "@jupyter-widgets/base",
      "model_module_version": "2.0.0",
      "model_name": "LayoutModel",
      "state": {
       "justify_content": "flex-start",
       "width": "90%"
      }
     },
     "dfac01806352444e9bcea24b16fd07b5": {
      "model_module": "@jupyter-widgets/controls",
      "model_module_version": "2.0.0",
      "model_name": "TextModel",
      "state": {
       "description": "Title",
       "layout": "IPY_MODEL_67bff18709264e769df9b3b88339098d",
       "style": "IPY_MODEL_b5f5e407bad8454c8c597bdd3539355a",
       "value": "3.1.4: Example-based explanation"
      }
     },
     "e05c47268d034afd80585a4ab6352b4c": {
      "model_module": "@jupyter-widgets/base",
      "model_module_version": "2.0.0",
      "model_name": "LayoutModel",
      "state": {
       "justify_content": "flex-start",
       "width": "90%"
      }
     },
     "e1a5ec736f594f7785f24cfecd94578e": {
      "model_module": "@jupyter-widgets/controls",
      "model_module_version": "2.0.0",
      "model_name": "VBoxModel",
      "state": {
       "children": [
        "IPY_MODEL_fc58da73ec9b4b65866c55c8ae9e2d53",
        "IPY_MODEL_7c82bfada66c4f2e837686cb7d0d3023",
        "IPY_MODEL_8c9c0bf8c294438eba582f4f758d2b1a",
        "IPY_MODEL_b3b62e07df234db1840dc3043affc188",
        "IPY_MODEL_b9eea598504f4c28b7053755d9838040"
       ],
       "layout": "IPY_MODEL_6639f483f4024f2781eba11076dd8ab2"
      }
     },
     "e2838fb6812d4588b2630060fab787a6": {
      "model_module": "@jupyter-widgets/base",
      "model_module_version": "2.0.0",
      "model_name": "LayoutModel",
      "state": {
       "justify_content": "flex-start",
       "width": "90%"
      }
     },
     "e2fa33433fae4bb2b8be74d53b0c66bd": {
      "model_module": "@jupyter-widgets/output",
      "model_module_version": "1.0.0",
      "model_name": "OutputModel",
      "state": {
       "layout": "IPY_MODEL_cc034296c07149c888fe1b26324eda72"
      }
     },
     "e3295ffb6dfc4eaab22fe9caadaa6045": {
      "model_module": "@jupyter-widgets/base",
      "model_module_version": "2.0.0",
      "model_name": "LayoutModel",
      "state": {
       "justify_content": "flex-start",
       "width": "90%"
      }
     },
     "e396003947ac4f7b87b9311c44dd4a3d": {
      "model_module": "@jupyter-widgets/controls",
      "model_module_version": "2.0.0",
      "model_name": "HBoxModel",
      "state": {
       "children": [
        "IPY_MODEL_1990955f6ac944e5ab720093c49df6ef",
        "IPY_MODEL_5a0935a205a04ff7b684a6e49a4ea010"
       ],
       "layout": "IPY_MODEL_f9c51a2074104e939fcb6651a03697c7"
      }
     },
     "e3ef9661ed894a16b93326fa8521c4e6": {
      "model_module": "@jupyter-widgets/controls",
      "model_module_version": "2.0.0",
      "model_name": "VBoxModel",
      "state": {
       "children": [
        "IPY_MODEL_1be4961b78d648a08687817737253474"
       ],
       "layout": "IPY_MODEL_23ef8a629d444ea1980933d3fb3d6529"
      }
     },
     "e400b07e7a94475fb6bc8b31b4b121ac": {
      "model_module": "@jupyter-widgets/controls",
      "model_module_version": "2.0.0",
      "model_name": "HTMLModel",
      "state": {
       "layout": "IPY_MODEL_50e0a0f5c50d4feb8342847f6f5dcbf2",
       "style": "IPY_MODEL_ae36820227bc423897323e367a463d30",
       "value": "Understanding of perturbation-based approaches for providing visual explanations in AI-based liver cancer analysis."
      }
     },
     "e44596f3a494484aaf112d86f5d9fe17": {
      "model_module": "@jupyter-widgets/base",
      "model_module_version": "2.0.0",
      "model_name": "LayoutModel",
      "state": {}
     },
     "e4480eb126334f22bd7da9efcc367add": {
      "model_module": "@jupyter-widgets/controls",
      "model_module_version": "2.0.0",
      "model_name": "TextModel",
      "state": {
       "description": "Intro",
       "layout": "IPY_MODEL_c34d037ed6f14120beb7c5a9310e6293",
       "style": "IPY_MODEL_6092a317a7f443e598c92045b3610198",
       "value": "An overview of the latest developments in AI technologies and their applications in the clinical management of liver cancer."
      }
     },
     "e48db4861f474cfabca60c50e473b0f6": {
      "model_module": "@jupyter-widgets/controls",
      "model_module_version": "2.0.0",
      "model_name": "HTMLModel",
      "state": {
       "layout": "IPY_MODEL_36db5f82fcae4ff8b273effffe8667f8",
       "style": "IPY_MODEL_04fe286fcafd4d30adc3f38cd2f16e9e",
       "value": "Understanding how textual explanations can be generated from AI models for liver cancer analysis."
      }
     },
     "e4c11dc189234e7abfefe1fa88fb370f": {
      "model_module": "@jupyter-widgets/base",
      "model_module_version": "2.0.0",
      "model_name": "LayoutModel",
      "state": {
       "justify_content": "flex-start",
       "width": "90%"
      }
     },
     "e50a24d6aa2046de9b71c52b440b4c9e": {
      "model_module": "@jupyter-widgets/controls",
      "model_module_version": "2.0.0",
      "model_name": "ButtonStyleModel",
      "state": {
       "font_family": null,
       "font_size": null,
       "font_style": null,
       "font_variant": null,
       "font_weight": null,
       "text_color": null,
       "text_decoration": null
      }
     },
     "e5206e0f19f3423bbc6beb2a87d6cb4b": {
      "model_module": "@jupyter-widgets/base",
      "model_module_version": "2.0.0",
      "model_name": "LayoutModel",
      "state": {
       "justify_content": "flex-start",
       "width": "90%"
      }
     },
     "e603e920092e40058270e3a0a1f4c381": {
      "model_module": "@jupyter-widgets/controls",
      "model_module_version": "2.0.0",
      "model_name": "TextModel",
      "state": {
       "description": "Words",
       "layout": "IPY_MODEL_b93de0e6fb09472c88a959708de1f373",
       "placeholder": "",
       "style": "IPY_MODEL_d9c37fe6bba54f31866dd0f97ffc5eee",
       "value": "500"
      }
     },
     "e6f9b66ece8a42e69f32eff3abd5918d": {
      "model_module": "@jupyter-widgets/controls",
      "model_module_version": "2.0.0",
      "model_name": "ButtonStyleModel",
      "state": {
       "font_family": null,
       "font_size": null,
       "font_style": null,
       "font_variant": null,
       "font_weight": null,
       "text_color": null,
       "text_decoration": null
      }
     },
     "e70f2ead5f624bd997b838d509cae456": {
      "model_module": "@jupyter-widgets/controls",
      "model_module_version": "2.0.0",
      "model_name": "ButtonModel",
      "state": {
       "description": "Summarize",
       "icon": "radiation",
       "layout": "IPY_MODEL_71a25545edc64f09939cede6cca2ea95",
       "style": "IPY_MODEL_b2ac0fe7ca624792818a52835a1f4d15",
       "tooltip": "Summarize this section based on the topic and intro"
      }
     },
     "e737300d79e1400ab25496fafa23ffd3": {
      "model_module": "@jupyter-widgets/base",
      "model_module_version": "2.0.0",
      "model_name": "LayoutModel",
      "state": {
       "height": "50%",
       "width": "50%"
      }
     },
     "e809698eb26b47c784e646d0800fc5c5": {
      "model_module": "@jupyter-widgets/controls",
      "model_module_version": "2.0.0",
      "model_name": "TextModel",
      "state": {
       "description": "Words",
       "layout": "IPY_MODEL_a29fab39073549c994125efdb33c28f9",
       "placeholder": "",
       "style": "IPY_MODEL_b0564879609749eeace3a96642d5d88c",
       "value": "500"
      }
     },
     "e86a2d055a6a4aa1bb241f26aae3ca9e": {
      "model_module": "@jupyter-widgets/controls",
      "model_module_version": "2.0.0",
      "model_name": "TextModel",
      "state": {
       "description": "Intro",
       "layout": "IPY_MODEL_3214b1fe3bf54ae984d0a0196c475dc8",
       "style": "IPY_MODEL_d7d2733124e048e1b9a6066517cdb738",
       "value": "Insight into how textual explanations can be used in post hoc analysis of AI's decisions in liver cancer."
      }
     },
     "e88edd431ba3466c8f0e9354f0347922": {
      "model_module": "@jupyter-widgets/controls",
      "model_module_version": "2.0.0",
      "model_name": "TextModel",
      "state": {
       "description": "Prompt",
       "layout": "IPY_MODEL_c276721fb0da46048ef579d5a26a9981",
       "placeholder": "",
       "style": "IPY_MODEL_4970eef8c416405b87313dce65cbb577"
      }
     },
     "e8b0425c5ab94defb175e9f92b94df32": {
      "model_module": "@jupyter-widgets/controls",
      "model_module_version": "2.0.0",
      "model_name": "TextStyleModel",
      "state": {
       "description_width": "50px",
       "font_size": null,
       "text_color": null
      }
     },
     "e942e535e0804889a81928469f03eab6": {
      "model_module": "@jupyter-widgets/base",
      "model_module_version": "2.0.0",
      "model_name": "LayoutModel",
      "state": {
       "justify_content": "flex-start",
       "width": "90%"
      }
     },
     "e9479a478a3e4f769d6df1e161ebcfb2": {
      "model_module": "@jupyter-widgets/base",
      "model_module_version": "2.0.0",
      "model_name": "LayoutModel",
      "state": {}
     },
     "e99a0ed627ba43c482d3a2b6fa7e71f2": {
      "model_module": "@jupyter-widgets/controls",
      "model_module_version": "2.0.0",
      "model_name": "VBoxModel",
      "state": {
       "children": [
        "IPY_MODEL_b61e1d3af8dc406ea43785427adf7a83",
        "IPY_MODEL_cc96fc590e684693bdb5556f469d61a2",
        "IPY_MODEL_faeeba3eb34a412294a219e1667c9023",
        "IPY_MODEL_ecac7ace497945fdb86008c5a3e66465",
        "IPY_MODEL_057f9346252e45dbb2e6b06234a5c10a"
       ],
       "layout": "IPY_MODEL_79fa19cdc6d0421eb29b139545b6efc0"
      }
     },
     "e9b04e14977c4b15b7e831ec09332ca0": {
      "model_module": "@jupyter-widgets/base",
      "model_module_version": "2.0.0",
      "model_name": "LayoutModel",
      "state": {}
     },
     "e9d44e84392b45aba7edf53f5b805241": {
      "model_module": "@jupyter-widgets/base",
      "model_module_version": "2.0.0",
      "model_name": "LayoutModel",
      "state": {}
     },
     "ea3d3841a85a42b19ef7c9c572ef3024": {
      "model_module": "@jupyter-widgets/base",
      "model_module_version": "2.0.0",
      "model_name": "LayoutModel",
      "state": {}
     },
     "ea419c6686b8435b8be1d18251e55838": {
      "model_module": "@jupyter-widgets/base",
      "model_module_version": "2.0.0",
      "model_name": "LayoutModel",
      "state": {}
     },
     "ea7e236c0d164e01bb9de833d1f9670a": {
      "model_module": "@jupyter-widgets/controls",
      "model_module_version": "2.0.0",
      "model_name": "TextStyleModel",
      "state": {
       "description_width": "50px",
       "font_size": null,
       "text_color": null
      }
     },
     "eb060c89e52c44039abd13f8e62ffb31": {
      "model_module": "@jupyter-widgets/controls",
      "model_module_version": "2.0.0",
      "model_name": "HBoxModel",
      "state": {
       "children": [
        "IPY_MODEL_c2a0abd315e947359f3d10ce19be06fc",
        "IPY_MODEL_7ed1d0dfcbab452baa2d148a8a8785b4"
       ],
       "layout": "IPY_MODEL_d75a3ef7096d480fbfcaa4aa0c2df79d"
      }
     },
     "eb92baeaaa564b3fb91c20a08d0c3add": {
      "model_module": "@jupyter-widgets/base",
      "model_module_version": "2.0.0",
      "model_name": "LayoutModel",
      "state": {}
     },
     "ec299218aadb48628c52141feb462984": {
      "model_module": "@jupyter-widgets/controls",
      "model_module_version": "2.0.0",
      "model_name": "TextStyleModel",
      "state": {
       "description_width": "50px",
       "font_size": null,
       "text_color": null
      }
     },
     "ecac7ace497945fdb86008c5a3e66465": {
      "model_module": "@jupyter-widgets/controls",
      "model_module_version": "2.0.0",
      "model_name": "TextModel",
      "state": {
       "description": "Words",
       "layout": "IPY_MODEL_3b03efa0d7a447199da812c299bfb476",
       "placeholder": "",
       "style": "IPY_MODEL_8ec91e13b3b94cdbb99c2d69ea30f71c",
       "value": "500"
      }
     },
     "edde0ef659cb4f53a605fd3880a336bc": {
      "model_module": "@jupyter-widgets/base",
      "model_module_version": "2.0.0",
      "model_name": "LayoutModel",
      "state": {
       "justify_content": "flex-start",
       "width": "90%"
      }
     },
     "ee46c7a9d56247c08e4ed2ee99119671": {
      "model_module": "@jupyter-widgets/controls",
      "model_module_version": "2.0.0",
      "model_name": "TextStyleModel",
      "state": {
       "description_width": "50px",
       "font_size": null,
       "text_color": null
      }
     },
     "ee843807590d45e8b0b01caf11cbc542": {
      "model_module": "@jupyter-widgets/base",
      "model_module_version": "2.0.0",
      "model_name": "LayoutModel",
      "state": {}
     },
     "ef85d7be6a504b28b4fe36426f30c239": {
      "model_module": "@jupyter-widgets/base",
      "model_module_version": "2.0.0",
      "model_name": "LayoutModel",
      "state": {}
     },
     "efdcbb4c22cf457cacb07c0fef4988ef": {
      "model_module": "@jupyter-widgets/controls",
      "model_module_version": "2.0.0",
      "model_name": "ButtonModel",
      "state": {
       "description": "Summarize",
       "icon": "radiation",
       "layout": "IPY_MODEL_6e477cea5f904675a53623d5594efe19",
       "style": "IPY_MODEL_8676f9ecc3944264846483b55547e5c7",
       "tooltip": "Summarize this section based on the topic and intro"
      }
     },
     "f029733ff53c4bfe8311b94353a4950e": {
      "model_module": "@jupyter-widgets/controls",
      "model_module_version": "2.0.0",
      "model_name": "HBoxModel",
      "state": {
       "children": [
        "IPY_MODEL_e99a0ed627ba43c482d3a2b6fa7e71f2",
        "IPY_MODEL_96e7917b941d495da7e1ef0f8974a609"
       ],
       "layout": "IPY_MODEL_cdac3d056fd84af2892df61d8d5f87a4"
      }
     },
     "f0971140e9cf4eb88e69a3594fe8fcff": {
      "model_module": "@jupyter-widgets/base",
      "model_module_version": "2.0.0",
      "model_name": "LayoutModel",
      "state": {
       "justify_content": "flex-start",
       "width": "90%"
      }
     },
     "f0ed8a0a15764ccc9056daa23a4a159b": {
      "model_module": "@jupyter-widgets/controls",
      "model_module_version": "2.0.0",
      "model_name": "HTMLStyleModel",
      "state": {
       "description_width": "",
       "font_size": null,
       "text_color": null
      }
     },
     "f13415e68eb34f03acba8edabce6ce3d": {
      "model_module": "@jupyter-widgets/controls",
      "model_module_version": "2.0.0",
      "model_name": "TextModel",
      "state": {
       "description": "Prompt",
       "layout": "IPY_MODEL_c684f6b8b2584570ac61f721c5d37a9d",
       "placeholder": "",
       "style": "IPY_MODEL_42203842dd2f4672987941183851abf4"
      }
     },
     "f23c28249be24426a7cf429b3e7f00fd": {
      "model_module": "@jupyter-widgets/base",
      "model_module_version": "2.0.0",
      "model_name": "LayoutModel",
      "state": {
       "justify_content": "flex-start",
       "width": "90%"
      }
     },
     "f2608e0a3bc44038b5cb80af42f8b77f": {
      "model_module": "@jupyter-widgets/base",
      "model_module_version": "2.0.0",
      "model_name": "LayoutModel",
      "state": {
       "justify_content": "flex-start",
       "width": "90%"
      }
     },
     "f2d820cbb74d4c439a03c3d4edbe6936": {
      "model_module": "@jupyter-widgets/controls",
      "model_module_version": "2.0.0",
      "model_name": "TextStyleModel",
      "state": {
       "description_width": "50px",
       "font_size": null,
       "text_color": null
      }
     },
     "f4e0aced51c646cca30de06ae55a572c": {
      "model_module": "@jupyter-widgets/base",
      "model_module_version": "2.0.0",
      "model_name": "LayoutModel",
      "state": {
       "justify_content": "flex-start",
       "width": "90%"
      }
     },
     "f4f7eda0536a41e7892bdb665d0f9ee1": {
      "model_module": "@jupyter-widgets/controls",
      "model_module_version": "2.0.0",
      "model_name": "TextStyleModel",
      "state": {
       "description_width": "50px",
       "font_size": null,
       "text_color": null
      }
     },
     "f5092fb8180a4d3eaeab9d2863cfa7b1": {
      "model_module": "@jupyter-widgets/controls",
      "model_module_version": "2.0.0",
      "model_name": "TextStyleModel",
      "state": {
       "description_width": "50px",
       "font_size": null,
       "text_color": null
      }
     },
     "f563bd5e1fbc4255abff46a6800e130d": {
      "model_module": "@jupyter-widgets/controls",
      "model_module_version": "2.0.0",
      "model_name": "TextStyleModel",
      "state": {
       "description_width": "50px",
       "font_size": null,
       "text_color": null
      }
     },
     "f5be092bd5584c1c9a1fa1648a5f0e2f": {
      "model_module": "@jupyter-widgets/controls",
      "model_module_version": "2.0.0",
      "model_name": "TextModel",
      "state": {
       "description": "Title",
       "layout": "IPY_MODEL_56bf25126dcc428586142101a8cc68b9",
       "style": "IPY_MODEL_5bb8c5eb09c0495ebc0453d2ebec79f9",
       "value": "3.2.2: Textual explanation"
      }
     },
     "f5de5395c2ae48d88e1de7ec8ffd877f": {
      "model_module": "@jupyter-widgets/base",
      "model_module_version": "2.0.0",
      "model_name": "LayoutModel",
      "state": {
       "justify_content": "flex-start",
       "width": "90%"
      }
     },
     "f60fde6a6c9e4c34ba79cb71b753b337": {
      "model_module": "@jupyter-widgets/output",
      "model_module_version": "1.0.0",
      "model_name": "OutputModel",
      "state": {
       "layout": "IPY_MODEL_24ca3f8df4214b67bbef2d1369fbd926"
      }
     },
     "f6cfcc22c1d94867b7c10892b2d01bbf": {
      "model_module": "@jupyter-widgets/controls",
      "model_module_version": "2.0.0",
      "model_name": "TextModel",
      "state": {
       "description": "Words",
       "layout": "IPY_MODEL_6a4fddbcf75e45a0b8f2913d2ebde2d9",
       "placeholder": "",
       "style": "IPY_MODEL_c057017e99334d879b745e4f72d24552",
       "value": "500"
      }
     },
     "f740711f559b41d1ab0623526389f68d": {
      "model_module": "@jupyter-widgets/controls",
      "model_module_version": "2.0.0",
      "model_name": "TextStyleModel",
      "state": {
       "description_width": "50px",
       "font_size": null,
       "text_color": null
      }
     },
     "f75be0df04fa49ddb1304acc23aac0ee": {
      "model_module": "@jupyter-widgets/controls",
      "model_module_version": "2.0.0",
      "model_name": "TextModel",
      "state": {
       "description": "Title",
       "layout": "IPY_MODEL_6e5363ff5a8b440f89ea451dda29269f",
       "style": "IPY_MODEL_af7bfd26e0c54c0c974de78b59500fcc",
       "value": "3.2.1.2: Perturbation-based approaches"
      }
     },
     "f76ac1af31e746cd8509e210bbc80f19": {
      "model_module": "@jupyter-widgets/base",
      "model_module_version": "2.0.0",
      "model_name": "LayoutModel",
      "state": {}
     },
     "f7805226f3fc401896096513f2a25a62": {
      "model_module": "@jupyter-widgets/controls",
      "model_module_version": "2.0.0",
      "model_name": "TextStyleModel",
      "state": {
       "description_width": "50px",
       "font_size": null,
       "text_color": null
      }
     },
     "f7877afbc48f4f4487b90de392d24dc2": {
      "model_module": "@jupyter-widgets/controls",
      "model_module_version": "2.0.0",
      "model_name": "TextStyleModel",
      "state": {
       "description_width": "50px",
       "font_size": null,
       "text_color": null
      }
     },
     "f7ba06315d5d40878d6ba31ee96926cc": {
      "model_module": "@jupyter-widgets/controls",
      "model_module_version": "2.0.0",
      "model_name": "TextModel",
      "state": {
       "description": "Prompt",
       "layout": "IPY_MODEL_1ecc6e0f1f1044d79f08d21b7ddefa3c",
       "placeholder": "",
       "style": "IPY_MODEL_20058c222e1e4c548d772199f27bb2f9"
      }
     },
     "f9374e96e43d487393f7d5f78439cad1": {
      "model_module": "@jupyter-widgets/controls",
      "model_module_version": "2.0.0",
      "model_name": "TextStyleModel",
      "state": {
       "description_width": "50px",
       "font_size": null,
       "text_color": null
      }
     },
     "f95d73c3c1b648cf9a81ac243ec39abe": {
      "model_module": "@jupyter-widgets/controls",
      "model_module_version": "2.0.0",
      "model_name": "ButtonStyleModel",
      "state": {
       "font_family": null,
       "font_size": null,
       "font_style": null,
       "font_variant": null,
       "font_weight": null,
       "text_color": null,
       "text_decoration": null
      }
     },
     "f9c51a2074104e939fcb6651a03697c7": {
      "model_module": "@jupyter-widgets/base",
      "model_module_version": "2.0.0",
      "model_name": "LayoutModel",
      "state": {}
     },
     "f9ecad0954bd4bb0bcd2a42c1e19f8b6": {
      "model_module": "@jupyter-widgets/controls",
      "model_module_version": "2.0.0",
      "model_name": "HTMLStyleModel",
      "state": {
       "description_width": "",
       "font_size": null,
       "text_color": null
      }
     },
     "faeeba3eb34a412294a219e1667c9023": {
      "model_module": "@jupyter-widgets/controls",
      "model_module_version": "2.0.0",
      "model_name": "TextModel",
      "state": {
       "description": "Intro",
       "layout": "IPY_MODEL_dd7227c39f1a4fb0b72ca21c1d1e2e62",
       "style": "IPY_MODEL_2cb92c8b449b4b6386a35fe80ed522b4",
       "value": "Exploration of how prototypes are used as examples to explain AI decisions in liver cancer analysis."
      }
     },
     "faf17cd5bb944237816526da5068dc1b": {
      "model_module": "@jupyter-widgets/base",
      "model_module_version": "2.0.0",
      "model_name": "LayoutModel",
      "state": {
       "justify_content": "flex-start",
       "width": "90%"
      }
     },
     "fb2fa6e32b204011910047688f9c9935": {
      "model_module": "@jupyter-widgets/base",
      "model_module_version": "2.0.0",
      "model_name": "LayoutModel",
      "state": {}
     },
     "fb7c031422e149a8bd000399579acfba": {
      "model_module": "@jupyter-widgets/base",
      "model_module_version": "2.0.0",
      "model_name": "LayoutModel",
      "state": {
       "height": "50%",
       "width": "50%"
      }
     },
     "fbea0682b9964469884b6452061f4fc4": {
      "model_module": "@jupyter-widgets/controls",
      "model_module_version": "2.0.0",
      "model_name": "ButtonStyleModel",
      "state": {
       "font_family": null,
       "font_size": null,
       "font_style": null,
       "font_variant": null,
       "font_weight": null,
       "text_color": null,
       "text_decoration": null
      }
     },
     "fc58da73ec9b4b65866c55c8ae9e2d53": {
      "model_module": "@jupyter-widgets/controls",
      "model_module_version": "2.0.0",
      "model_name": "ButtonModel",
      "state": {
       "description": "Summarize",
       "icon": "radiation",
       "layout": "IPY_MODEL_5164e93dc60b4fc79309ffb0aff0242f",
       "style": "IPY_MODEL_3134ff727a714d49aab78a5dd439e4bd",
       "tooltip": "Summarize this section based on the topic and intro"
      }
     },
     "fcc57b276c184708b2d01234033b178c": {
      "model_module": "@jupyter-widgets/base",
      "model_module_version": "2.0.0",
      "model_name": "LayoutModel",
      "state": {}
     },
     "fd3f778a58014caf802f664ec1ecbe99": {
      "model_module": "@jupyter-widgets/controls",
      "model_module_version": "2.0.0",
      "model_name": "TextModel",
      "state": {
       "description": "Words",
       "layout": "IPY_MODEL_55851080cf5e4451af18c19af9c6dfae",
       "placeholder": "",
       "style": "IPY_MODEL_2c77a21532c94601a29409ce8108f8f5",
       "value": "500"
      }
     },
     "ff03c4e603444cffac7872404a9968c4": {
      "model_module": "@jupyter-widgets/controls",
      "model_module_version": "2.0.0",
      "model_name": "HBoxModel",
      "state": {
       "children": [
        "IPY_MODEL_d17127e9ebd14c29a955799a9c12e2d2",
        "IPY_MODEL_aea261ecef3149e183515553360300a5"
       ],
       "layout": "IPY_MODEL_22f397f0b87348b38656596e95da1165"
      }
     },
     "ff220d5b36f94fcc8aeb57ff41b971fa": {
      "model_module": "@jupyter-widgets/base",
      "model_module_version": "2.0.0",
      "model_name": "LayoutModel",
      "state": {}
     },
     "ff9956e0c32c43f7bf40cbcf98ee9a77": {
      "model_module": "@jupyter-widgets/controls",
      "model_module_version": "2.0.0",
      "model_name": "HTMLModel",
      "state": {
       "layout": "IPY_MODEL_7c4404e41466453d81e8ef76144c07e2",
       "style": "IPY_MODEL_f0ed8a0a15764ccc9056daa23a4a159b",
       "value": "Insights into how AI is leveraged for molecular profiling of liver cancer for personalized treatment strategies."
      }
     },
     "ffa1f3f3b6354afa990eb75ee1dc5b6a": {
      "model_module": "@jupyter-widgets/base",
      "model_module_version": "2.0.0",
      "model_name": "LayoutModel",
      "state": {
       "justify_content": "flex-start",
       "width": "90%"
      }
     }
    },
    "version_major": 2,
    "version_minor": 0
   }
  }
 },
 "nbformat": 4,
 "nbformat_minor": 5
}
