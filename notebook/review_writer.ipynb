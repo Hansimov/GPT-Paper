{
 "cells": [
  {
   "cell_type": "code",
   "execution_count": 23,
   "id": "6bd0166d-e107-4dc3-a95d-f72a5357e3d2",
   "metadata": {
    "editable": true,
    "slideshow": {
     "slide_type": ""
    },
    "tags": []
   },
   "outputs": [
    {
     "name": "stdout",
     "output_type": "stream",
     "text": [
      "The autoreload extension is already loaded. To reload it, use:\n",
      "  %reload_ext autoreload\n",
      "Repo path:   [/mnt/sh_flex_storage/home/zehanyu/repos/GPT-Paper]\n",
      "Working dir: [/mnt/sh_flex_storage/home/zehanyu/repos/GPT-Paper/notebook]\n",
      "Now: [2023-09-05 18:59:11.750587]\n"
     ]
    }
   ],
   "source": [
    "%load_ext autoreload\n",
    "%autoreload\n",
    "%run -i \"startup.py\""
   ]
  },
  {
   "cell_type": "markdown",
   "id": "df4cf78b-92a0-4d92-9584-9b64ec8d9d3f",
   "metadata": {
    "editable": true,
    "jupyter": {
     "source_hidden": true
    },
    "slideshow": {
     "slide_type": ""
    },
    "tags": [
     "outline"
    ]
   },
   "source": [
    "Title: Unraveling the “black-box” of artificial intelligence-based pathological analysis of liver cancer\n",
    "\n",
    "# 1. Current advances of AI-based approaches for clinical management of liver cancer\n",
    "\n",
    "## 1.1 AI-based prognostication of liver cancer\n",
    "\n",
    "## 1.2 Molecular profiling of liver cancer via AI\n",
    "\n",
    "## 1.3 Exploring predictive indicators for therapy response\n",
    "\n",
    "# 2. Current challenges limiting AI-based approaches in the management of liver cancer\n",
    "\n",
    "(One paragraph highlighting the urgent need to explain the “black box” of deeplearning)\n",
    "\n",
    "# 3. Strategies for unraveling the “black-box” of AI-based pathological analysis of liver cancer\n",
    "\n",
    "## 3.1 Model-based explanation\n",
    "### 3.1.1 Support vector machine or random forests vs. deep learning\n",
    "### 3.1.2 Supervised learning vs. weakly supervised learning vs. unsupervised learning\n",
    "### 3.1.3 Textual explanation\n",
    "#### 3.1.3.1 Image captioning\n",
    "#### 3.1.3.2 Image captioning with visual explanation\n",
    "### 3.1.4 Example-based explanation \n",
    "#### 3.1.4.1 Triplet network\n",
    "#### 3.1.4.2 Prototypes\n",
    "\n",
    "## 3.2 Post hoc explanation\n",
    "\n",
    "### 3.2.1 Visual explanation (saliency mapping, pathologist-in-the-loop)\n",
    "#### 3.2.1.1 Backpropagation-based approaches\n",
    "      Including class activation mapping (CAM) and gradient-weighted class activation mapping (Grad-CAM)\n",
    "#### 3.2.1.2 Perturbation-based approaches\n",
    "      Including Occlusion sensitivity map (OSM), local interpretable model-agnostic explannations (LIME)\n",
    "#### 3.2.1.3 Multiple instance learning-based approaches\n",
    "\n",
    "### 3.2.2 Textual explanation\n",
    "   Testing with concept activation vectors (TCAV)\n",
    "### 3.2.3 Example-based explanation\n",
    "\n",
    "# 4. Conclusion and future applications"
   ]
  },
  {
   "cell_type": "code",
   "execution_count": 3,
   "id": "769fe72e-848f-4766-b89d-1aa91183f615",
   "metadata": {
    "editable": true,
    "slideshow": {
     "slide_type": ""
    },
    "tags": []
   },
   "outputs": [],
   "source": [
    "ipynb_name = \"review_writer.ipynb\"\n",
    "markdown_cells = get_notebook_cells(notebook_path=ipynb_name, cell_types=[\"markdown\"])\n",
    "outline_cells = [\n",
    "    cell for cell in markdown_cells if \"outline\" in cell[\"metadata\"][\"tags\"]\n",
    "]\n",
    "outline_content = \"\".join([cell[\"source\"] for cell in outline_cells])"
   ]
  },
  {
   "cell_type": "code",
   "execution_count": 4,
   "id": "193d8a37-cb0c-4096-be66-55539ae48bf0",
   "metadata": {
    "collapsed": true,
    "jupyter": {
     "outputs_hidden": true
    }
   },
   "outputs": [
    {
     "name": "stdout",
     "output_type": "stream",
     "text": [
      "Prompt Tokens count: [420]\n",
      "[\n",
      "    {\n",
      "        \"idx\": 1,\n",
      "        \"level\": \"1\",\n",
      "        \"title\": \"Current advances of AI-based approaches for clinical management of liver cancer\",\n",
      "        \"intro\": \"This section discusses the latest advancements in the use of AI for managing liver cancer.\"\n",
      "    },\n",
      "    {\n",
      "        \"idx\": 2,\n",
      "        \"level\": \"1.1\",\n",
      "        \"title\": \"AI-based prognostication of liver cancer\",\n",
      "        \"intro\": \"This subsection focuses on the use of AI in predicting the progression and prognosis of liver cancer.\"\n",
      "    },\n",
      "    {\n",
      "        \"idx\": 3,\n",
      "        \"level\": \"1.2\",\n",
      "        \"title\": \"Molecular profiling of liver cancer via AI\",\n",
      "        \"intro\": \"This subsection examines how AI is used for molecular profiling of liver cancer.\"\n",
      "    },\n",
      "    {\n",
      "        \"idx\": 4,\n",
      "        \"level\": \"1.3\",\n",
      "        \"title\": \"Exploring predictive indicators for therapy response\",\n",
      "        \"intro\": \"This subsection explores the AI-based indicators for predicting the response to liver cancer therapy.\"\n",
      "    },\n",
      "    {\n",
      "        \"idx\": 5,\n",
      "        \"level\": \"2\",\n",
      "        \"title\": \"Current challenges limiting AI-based approaches in the management of liver cancer\",\n",
      "        \"intro\": \"This section highlights the challenges and limitations of using AI in managing liver cancer.\"\n",
      "    },\n",
      "    {\n",
      "        \"idx\": 6,\n",
      "        \"level\": \"3\",\n",
      "        \"title\": \"Strategies for unraveling the “black-box” of AI-based pathological analysis of liver cancer\",\n",
      "        \"intro\": \"This section proposes strategies for understanding the complex mechanisms of AI in pathological analysis of liver cancer.\"\n",
      "    },\n",
      "    {\n",
      "        \"idx\": 7,\n",
      "        \"level\": \"3.1\",\n",
      "        \"title\": \"Model-based explanation\",\n",
      "        \"intro\": \"This subsection elaborates on the explanations based on AI models.\"\n",
      "    },\n",
      "    {\n",
      "        \"idx\": 8,\n",
      "        \"level\": \"3.1.1\",\n",
      "        \"title\": \"Support vector machine or random forests vs. deep learning\",\n",
      "        \"intro\": \"This sub-subsection compares and contrasts support vector machines or random forests with deep learning.\"\n",
      "    },\n",
      "    {\n",
      "        \"idx\": 9,\n",
      "        \"level\": \"3.1.2\",\n",
      "        \"title\": \"Supervised learning vs. weakly supervised learning vs. unsupervised learning\",\n",
      "        \"intro\": \"This sub-subsection discusses the differences and applications of supervised, weakly supervised, and unsupervised learning.\"\n",
      "    },\n",
      "    {\n",
      "        \"idx\": 10,\n",
      "        \"level\": \"3.1.3\",\n",
      "        \"title\": \"Textual explanation\",\n",
      "        \"intro\": \"This sub-subsection discusses textual explanations in AI models.\"\n",
      "    },\n",
      "    {\n",
      "        \"idx\": 11,\n",
      "        \"level\": \"3.1.3.1\",\n",
      "        \"title\": \"Image captioning\",\n",
      "        \"intro\": \"This sub-sub-subsection examines the use of image captioning in AI explanations.\"\n",
      "    },\n",
      "    {\n",
      "        \"idx\": 12,\n",
      "        \"level\": \"3.1.3.2\",\n",
      "        \"title\": \"Image captioning with visual explanation\",\n",
      "        \"intro\": \"This sub-sub-subsection discusses the use of visual explanations in image captioning.\"\n",
      "    },\n",
      "    {\n",
      "        \"idx\": 13,\n",
      "        \"level\": \"3.1.4\",\n",
      "        \"title\": \"Example-based explanation\",\n",
      "        \"intro\": \"This sub-subsection explores the use of examples in explaining AI models.\"\n",
      "    },\n",
      "    {\n",
      "        \"idx\": 14,\n",
      "        \"level\": \"3.1.4.1\",\n",
      "        \"title\": \"Triplet network\",\n",
      "        \"intro\": \"This sub-sub-subsection discusses the role of triplet networks in example-based explanations.\"\n",
      "    },\n",
      "    {\n",
      "        \"idx\": 15,\n",
      "        \"level\": \"3.1.4.2\",\n",
      "        \"title\": \"Prototypes\",\n",
      "        \"intro\": \"This sub-sub-subsection examines the use of prototypes in example-based explanations.\"\n",
      "    },\n",
      "    {\n",
      "        \"idx\": 16,\n",
      "        \"level\": \"3.2\",\n",
      "        \"title\": \"Post hoc explanation\",\n",
      "        \"intro\": \"This subsection discusses explanations that are generated after the AI model has made a prediction.\"\n",
      "    },\n",
      "    {\n",
      "        \"idx\": 17,\n",
      "        \"level\": \"3.2.1\",\n",
      "        \"title\": \"Visual explanation (saliency mapping, pathologist-in-the-loop)\",\n",
      "        \"intro\": \"This sub-subsection discusses visual explanations, including saliency mapping and pathologist-in-the-loop.\"\n",
      "    },\n",
      "    {\n",
      "        \"idx\": 18,\n",
      "        \"level\": \"3.2.1.1\",\n",
      "        \"title\": \"Backpropagation-based approaches\",\n",
      "        \"intro\": \"This sub-sub-subsection discusses backpropagation-based approaches for visual\n",
      "Response Tokens count: [1000] [stop]\n",
      "Continue ...\n",
      "Prompt Tokens count: [1]\n",
      "[\n",
      "    {\n",
      "        \"idx\": 19,\n",
      "        \"level\": \"3.2.1.2\",\n",
      "        \"title\": \"Perturbation-based approaches\",\n",
      "        \"intro\": \"This sub-sub-subsection discusses perturbation-based approaches for visual explanations.\"\n",
      "    },\n",
      "    {\n",
      "        \"idx\": 20,\n",
      "        \"level\": \"3.2.1.3\",\n",
      "        \"title\": \"Multiple instance learning-based approaches\",\n",
      "        \"intro\": \"This sub-sub-subsection explores the use of multiple instance learning-based approaches for visual explanations.\"\n",
      "    },\n",
      "    {\n",
      "        \"idx\": 21,\n",
      "        \"level\": \"3.2.2\",\n",
      "        \"title\": \"Textual explanation\",\n",
      "        \"intro\": \"This sub-subsection discusses the use of textual explanations in post hoc explanations.\"\n",
      "    },\n",
      "    {\n",
      "        \"idx\": 22,\n",
      "        \"level\": \"3.2.3\",\n",
      "        \"title\": \"Example-based explanation\",\n",
      "        \"intro\": \"This sub-subsection explores the use of examples in post hoc explanations.\"\n",
      "    },\n",
      "    {\n",
      "        \"idx\": 23,\n",
      "        \"level\": \"4\",\n",
      "        \"title\": \"Conclusion and future applications\",\n",
      "        \"intro\": \"This section concludes the paper and discusses potential future applications of AI in pathological analysis of liver cancer.\"\n",
      "    }\n",
      "]\n",
      "Response Tokens count: [267] [stop]\n"
     ]
    }
   ],
   "source": [
    "markdown_filler.clear_history_messages()\n",
    "markdown_filler_res = markdown_filler.chat(outline_content)\n",
    "while markdown_filler.response_tokens_count >= 950:\n",
    "    print(\"Continue ...\")\n",
    "    sleep(1)\n",
    "    markdown_filler_res += markdown_filler.chat(\"Continue\", memory=True)"
   ]
  },
  {
   "cell_type": "raw",
   "id": "942bbdb9-1bb2-496a-9881-bc542f4e7779",
   "metadata": {},
   "source": [
    "A typical workflow of generate a detailed review of a section title:\n",
    "- [Agent] markdown_filler: Fill in the outline with intros, and structuralize it to JSON.\n",
    "- [Agent] Synonymer: Generate similar texts for each sub-section\n",
    "- [Program] Retrieve and Re-rank from local embbedings of docs\n",
    "- [Agent] Summarizer: Summarize the above content into a section\n",
    "- [Agent] Polisher: Polish the content of the section"
   ]
  },
  {
   "cell_type": "code",
   "execution_count": 2,
   "id": "2b1b7a65-e177-4250-abc2-647b65ef9bba",
   "metadata": {
    "scrolled": true
   },
   "outputs": [],
   "source": []
  },
  {
   "cell_type": "code",
   "execution_count": 12,
   "id": "167fc03e-58c6-4ba6-aa97-ae2cdd53a99a",
   "metadata": {
    "scrolled": true
   },
   "outputs": [
    {
     "name": "stdout",
     "output_type": "stream",
     "text": [
      "28 queries after combined.\n"
     ]
    }
   ],
   "source": [
    "section_1_1 = (\n",
    "    \"Current advances of AI-based approaches for clinical management of liver cancer\"\n",
    ")\n",
    "section_1_1_intro = \"latest advancements in the use of AI for managing liver cancer.\"\n",
    "section_1_1_queries = retriever.query_multi([section_1_1, section_1_1_intro])"
   ]
  },
  {
   "cell_type": "code",
   "execution_count": 22,
   "id": "db03713d-55bb-4a58-b7fc-4d57b7c6c57f",
   "metadata": {
    "collapsed": true,
    "jupyter": {
     "outputs_hidden": true
    },
    "scrolled": true
   },
   "outputs": [
    {
     "data": {
      "text/plain": [
       "[{'pdf_name': 'Quantitative analysis of artificial intelligence on liver cancer',\n",
       "  'page_idx': 8,\n",
       "  'region_idx': 8,\n",
       "  'text': 'Studies on the treatment and prognosis of liver cancer mainly focused on the survival of a specific surgical method (59-66), such as radiofrequency ablation, transarterial chemoembolization and etc.\\nReports have proven that the modern therapies integrate a variety of neoadjuvant and adjuvant strategies have achieved dramatic improvements in survival, especially for patients with advanced HCC (66, 67).\\nBut the division of the patient population, the choice of potentially disclosing novel biomarkers still are controversies and the decision-making of precision treatment methods adapted to the specific patients, AI can play a role in this, but related research has not yet been seen.'},\n",
       " {'pdf_name': 'Quantitative analysis of artificial intelligence on liver cancer',\n",
       "  'page_idx': 2,\n",
       "  'region_idx': 6,\n",
       "  'text': 'As more and more researchers are interested in the use of AI in liver cancer, a large number of related studies have started being published.\\nFor example, reviews describing an overview of deep learning, convolutional neural networks and other AI technologies applications in liver cancer (20-22), reviews on the applications of AI on assisted imaging in diagnosis, prognosis and detection of liver cancer (23-25), and explained the latest research, on limitations and future development trends of AI have all been recently published.\\nHowever, current reviews may be unable to explore grasp the latest research trends and hotspots in this field because of lack of a large number of publications.\\nMeanwhile, there is a lack of quantitative analysis of all'},\n",
       " {'pdf_name': 'Quantitative analysis of artificial intelligence on liver cancer',\n",
       "  'page_idx': 7,\n",
       "  'region_idx': 6,\n",
       "  'text': 'Research on AI in liver cancer mainly started in 2003 and entered a stage of rapid development in 2017.\\nChina is the most productive country with 35.33% of total publications; however, the USA ranked first according to the H-index, citations, and average citations per paper.\\nIt is notable that China, as a country with a high incidence of liver cancer, has a high number of studies on AI in liver cancer.\\nHowever, most studies in China have limited impact, which may need further improvement from topic selection and research implementation.\\nThe League Of European Research Universities is the most productive institution, followed by Sun Yat Sen University and Zhejiang University.\\nThis is consistent with the conclusion of the most productive country above.\\nWe also found that cooperation'},\n",
       " {'pdf_name': 'Quantitative analysis of artificial intelligence on liver cancer',\n",
       "  'page_idx': 2,\n",
       "  'region_idx': 5,\n",
       "  'text': 'With the development of medical big data and computer technology, artificial intelligence (AI) based on machine learning and deep learning has been widely used in current medical research (3-6).\\nThrough self-learning, summary, and induction of data, it can produce an intelligent reasoning system and choose the optimal solution to guide clinical decision-making (7).\\nOriginal AI was based on traditional machine-learning methods, including support vector machine and random forest models, which all relied on human experience for learning and simple summary.\\nAs early as 2003, Hussain constructed a predictive system consisting of 12 genes, with Fisher’s linear classifier, for predicting early recurrence in patients with hepatocellular carcinoma (HCC) (8).\\nDuring this period, most studies have focused on simple analyses of data, such as genes and molecules (9-11).\\nWith the standardization of imaging diagnosis and its important role in the clinical diagnosis of liver cancer, AI research based on imaging has emerged by extracting high-throughput features that cannot be detected and defined by human eyes from large-scale image data to establish an intelligent decision -making model to assist clinical decisionmaking (12, 13).\\nIn particular, deep learning based on convolutional neural networks (CNNs) has promoted progress in liver cancer research (14-19).'},\n",
       " {'pdf_name': 'Artificial Intelligence in Hepatology Ready for the Primetime',\n",
       "  'page_idx': 1,\n",
       "  'region_idx': 5,\n",
       "  'text': \"n recent years, the development of Artificial Intelli[= (AI) in the fields of gastroenterology and hepa tology has made remarkable progress.\\nThe use of AI is studied in gastroenterology for the endoscopic evaluation of Barrett's oesophagus, oesophageal and gastric malignancies, colorectal polyp detection and characterization, evaluation of inflammatory bowel disease and capsule endoscopy for obscure gastrointestinal bleed!\\n(Table 1).\\nWith the increased development and usage of AI in gastroenterology, research in the field of hepatology also has accelerated.\\nAI in hepatology can be used to detect liver fibrosis, diagnose non-alcoholic fatty liver disease (NAFLD), differentiate focal liver lesions, diagnose hepatocellular cancer, prognosticate chronic liver disease (CLD)\"},\n",
       " {'pdf_name': 'Quantitative analysis of artificial intelligence on liver cancer',\n",
       "  'page_idx': 9,\n",
       "  'region_idx': 5,\n",
       "  'text': 'Previous meta-analyses and literature reviews focused on the applications of specific technologies in liver cancer or the development status of specific liver disease (22-29), such as reviewing studies on AI on assisted imaging in the diagnosis, prognosis and detection of liver cancer, or explaining the latest research, limitations, and future development trends of AI in a'},\n",
       " {'pdf_name': 'Quantitative analysis of artificial intelligence on liver cancer',\n",
       "  'page_idx': 2,\n",
       "  'region_idx': 8,\n",
       "  'text': 'Therefore, we aimed to quantitatively analyze existing studies involving AI in liver cancer using bibliometrics to provide the current research progress, hotspots, and emerging trends for AI in liver cancer which may help researchers better understand grasp future research interest.\\nInformation was collated regarding countries/regions, institutions, authors, and journals with the highest citations and publications and keywords.'},\n",
       " {'pdf_name': 'Quantitative analysis of artificial intelligence on liver cancer',\n",
       "  'page_idx': 3,\n",
       "  'region_idx': 5,\n",
       "  'text': 'The analysis of the global trend of publications and citations and productive countries/regions is mainly to comprehensively understand the development trends of AI on liver cancer from beginning to end.\\nThe analysis of institutions, authors, and co-cited authors can quantitatively describe the strength of the cooperation between authors and institutions (30-32).\\nAdditionally, the analysis of top journals can analyze the level of cooperation and relationships in the concentrated fields of journals, which is beneficial to cross field cooperation in research (32).\\nIn particular, cluster co-occurrence analysis of keywords from different perspectives such as disease, data type, clinical goals, and clinical methods can help us understand the main topics and research trends in the current field of AI in liver cancer field.'},\n",
       " {'pdf_name': 'JOH 2022 Artificial intelligence for the prevention and clinical management of hepatocellular carcinoma',\n",
       "  'page_idx': 6,\n",
       "  'region_idx': 13,\n",
       "  'text': 'A growing body of research has applied AI approaches to improve HCC risk prediction, and to more accurately detect and risk stratify existing HCC tumours, based on EHR data, radiomics approaches, and molecular or histopathological biomarkers.'},\n",
       " {'pdf_name': 'JOH 2022 Artificial intelligence for the prevention and clinical management of hepatocellular carcinoma',\n",
       "  'page_idx': 4,\n",
       "  'region_idx': 4,\n",
       "  'text': 'Another rapidly growing area of research is focused on improved characterisation of indeterminate liver lesions.\\nIn clinical practice, when an abdominal ultrasound shows a new liver lesion, a patient is typically referred for further imaging, with contrast-enhanced CT or MRI.\\nBased on the fulfilment of specific radiologic criteria, certain liver lesions may be considered as having pathognomonic features of HCC, and thus do not require liver biopsy for further histological confirmation.\\nHowever, liver nodules imaged by CT or MRI often demonstrate indeterminate features, for which current recommendations include either liver biopsy or close interval follow-up with serial imaging.”° This practice is sub-optimal, resulting in numerous imaging studies, patient stress, and the potential for delayed diagnoses of liver cancer.\\nFor this reason, a growing body of recent literature has explored AI approaches to improve risk stratification of indeterminate liver lesions, to facilitate earlier and more accurate detection of HCC.'},\n",
       " {'pdf_name': 'Quantitative analysis of artificial intelligence on liver cancer',\n",
       "  'page_idx': 1,\n",
       "  'region_idx': 11,\n",
       "  'text': 'Objective: To provide the current research progress, hotspots, and emerging trends for Al in liver cancer, we have compiled a relative comprehensive and quantitative report on the research of liver disease using artificial intelligence by employing bibliometrics in this study.'},\n",
       " {'pdf_name': 'Quantitative analysis of artificial intelligence on liver cancer',\n",
       "  'page_idx': 5,\n",
       "  'region_idx': 8,\n",
       "  'text': 'TABLE 2 Top 10 institutes with publications researching the use of artificial intelligence in liver cancer.'},\n",
       " {'pdf_name': 'Quantitative analysis of artificial intelligence on liver cancer',\n",
       "  'page_idx': 7,\n",
       "  'region_idx': 5,\n",
       "  'text': 'In this quantitative study, in order to systematically and quantitatively analyze the research status of AI in liver cancer, and explore the future research trends and hotspots in this field, we used a bibliometrics method to analyze the current research status of AI in liver cancer in terms of publication and citation trends, countries/ regions and institutions, authors and co-cited authors, journals, cited references and co-citation references, and keywords.\\nUltimately, 1724 articles focusing on Al in liver cancer were collected from the WoSCC database and analyzed.'},\n",
       " {'pdf_name': 'JOH 2022 Artificial intelligence for the prevention and clinical management of hepatocellular carcinoma',\n",
       "  'page_idx': 1,\n",
       "  'region_idx': 8,\n",
       "  'text': 'Hepatocellular carcinoma (HCC) currently represents the fifth most common malignancy and the thirdleading cause of cancer-related death worldwide, with incidence and mortality rates that are increasing.\\nRecently, artificial intelligence (AI) has emerged as a unique opportunity to improve the full spectrum of HCC clinical care, by improving HCC risk prediction, diagnosis, and prognostication.\\nAl approaches include computational search algorithms, machine learning (ML) and deep learning (DL) models.\\nML consists of a computer running repeated iterations of models, in order to progressively improve performance of a specific task, such as classifying an outcome.\\nDL models are a subtype of ML, based on neural network structures that are inspired by the neuroanatomy of the human brain.\\nA growing body of recent data now apply DL models to diverse data sources — including electronic health record data, imaging modalities, histopathology and molecular biomarkers - to improve the accuracy of HCC risk prediction, detection and prediction of treatment response.\\nDespite the promise of these early results, future research is still needed to standardise AI data, and to improve both the generalisability and interpretability of results.\\nIf such challenges can be overcome, Al has the potential to profoundly change the way in which care is provided to patients with or at risk of HCC.'},\n",
       " {'pdf_name': 'Quantitative analysis of artificial intelligence on liver cancer',\n",
       "  'page_idx': 4,\n",
       "  'region_idx': 2,\n",
       "  'text': 'FIGURE 2 Global trend of publications and citations on artificial intelligence research in liver cancer from 2003 to 2022.'},\n",
       " {'pdf_name': 'Quantitative analysis of artificial intelligence on liver cancer',\n",
       "  'page_idx': 10,\n",
       "  'region_idx': 2,\n",
       "  'text': 'This study used bibliometrics to conduct an in-depth analysis of the published literature on AI in liver cancer.\\nThe results showed that AI has undergone rapid development and has a wide application in the diagnosis and treatment of liver diseases, especially in China, which has one of the highest incidences of liver cancer compared to other countries the world.\\nIn addition, intelligent analysis of imaging data is the hotspot and focus of current research in this field.\\nHowever, combined with the current clinical difficulties such as accurate screening of early-stage liver cancer patients and high-risk patients, and selection of reasonable treatment decisions for advanced liver cancer patients, the use of AI for the fusion analysis of multiple types data in the process of diagnosis and treatment of liver cancer and multi-modal treatment decision-making for liver cancer are still relatively rare, and may become a future research trend.'},\n",
       " {'pdf_name': 'JOH 2022 Artificial intelligence for the prevention and clinical management of hepatocellular carcinoma',\n",
       "  'page_idx': 1,\n",
       "  'region_idx': 12,\n",
       "  'text': 'Owing to the broad heterogeneity in HCC risk factors and pathogenesis, established strategies for prediction and prognostication are still limited.\\nRecently, artificial intelligence (AI) has emerged as a unique opportunity to improve the full spectrum of HCC clinical care, by: i) improving the prediction of future HCC risk in patients with established liver disease; ii) improving the accuracy of HCC'},\n",
       " {'pdf_name': 'Artificial Intelligence in Hepatology Ready for the Primetime',\n",
       "  'page_idx': 11,\n",
       "  'region_idx': 6,\n",
       "  'text': 'AI is an upcoming promising technology that is rapidly becoming an essential part of patient management.\\nApplications of AI have expanded in all branches of medicines, especially endoscopy and hepatology.\\nThe conglomeration of data which can be clinical/laboratory, multi-omics, natural language processing (NLP) and Image recognition (both radiology-based and pathology-based) has contributed to the prediction of fibrosis, classification of liver masses and prediction of treatment response and transplant outcomes.\\n’® In this review the majority of studies mentioned focussed on diagnosis part.\\nThere are very few studies that help to predict treatment response, post-liver transplant response, and prediction of hepatotoxicity in newer drug development and more studies are needed.\\nAI also helps for realtime biomonitoring, by identification of patients at high risk of clinical decompensation and hospital admission, so that timely intervention can be done for high-risk patients.\\nWith the increasing advancement of image capture and storage, AI will bring striking changes to the diagnosis of various liver diseases with the ‘big data’ being available.\\nHowever, there are many hurdles to overcome, which researchers will do in the near future using validation studies and molecular research.\\nIt is expected that gastroenterology and hepatology will be one of the first areas in medicine to introduce AI tools on a wide-scale basis, due to its inherent reliance on endoscopic and radiological imaging.\\nHence, GI and liver specialists should be proud that our field sets the ground for AI development in medicine.'},\n",
       " {'pdf_name': 'Artificial intelligence in liver diseases Improving diagnostics, prognostics and response prediction',\n",
       "  'page_idx': 5,\n",
       "  'region_idx': 2,\n",
       "  'text': 'To facilitate transformation of imaging data into clinically accessible information, Al may derive predictions in a more personalised fashion.\\nTwo categories of AI that have shown promise in liver imaging are radiomics (relying on classical ML) and DL systems (relying on CNNs) (Fig.\\n2A).\\nRadiomics is a strongly supervised and expert-guided approach where hardcoded algorithms extract quantitative image features that are fed into an ML algorithm.°® In contrast, DL with a CNN constitutes an automatic feature extraction where the algorithm selflearns salient features and self-optimises parameters by running an input image through mathematical operations embedded in multiple layers.°°?\\nBecause both approaches aim to predict a pre-defined “ground truth,” they are considered supervised learning approaches.\\nHerein, we review AI tools for liver imaging in segmentation, classification of disease severity and lesions, and outcome prediction.'},\n",
       " {'pdf_name': 'Quantitative analysis of artificial intelligence on liver cancer',\n",
       "  'page_idx': 3,\n",
       "  'region_idx': 11,\n",
       "  'text': 'A total of 1724 papers were collected from WoSCC database inception according to our data searching strategy, including 1547 original articles and 177 reviews (Figure 1).\\nResearch on AI in liver cancer started in 2003 and has increased every year (Figure 2).\\nResearch has advanced especially rapidly from 2017, accounting for almost 70% of all publications.\\nAs of the search date, all papers have been cited 27049 times, and the H-index and average citations per item are 67 and 15.69, respectively.\\nThe H-index (36) is a mixed index which could be used as a significant indicator of appraising both the number and level of academic output of a scientific researcher, country, journal, or institution.'},\n",
       " {'pdf_name': 'Quantitative analysis of artificial intelligence on liver cancer',\n",
       "  'page_idx': 6,\n",
       "  'region_idx': 3,\n",
       "  'text': 'TABLE 3.\\nThe 10 most productive authors of publications researching the use of artificial intelligence in liver cancer.'},\n",
       " {'pdf_name': 'JOH 2022 Artificial intelligence for the prevention and clinical management of hepatocellular carcinoma',\n",
       "  'page_idx': 3,\n",
       "  'region_idx': 5,\n",
       "  'text': 'It has been posited that improved HCC risk prediction models leveraging AI techniques could be used to personalise HCC surveillance strategies by improving risk stratification of patients with chronic liver disease.\\nFor example, Ioannou and colleagues found that targeting patients with the uppermost 51% of their NN-derived HCC risk score would include 80% of patients who would develop HCC within the subsequent 3 years.° Such an approach could be useful in resource-limited settings that do not have sufficient capacity for regular HCC surveillance in all at-risk patients.\\nHowever, to date, the clinical utility of this and other Al-based scores for predicting risk of HCC is unclear, particularly as these data have limited generalisability, given their reliance on the size and diversity of the training dataset.'},\n",
       " {'pdf_name': 'Quantitative analysis of artificial intelligence on liver cancer',\n",
       "  'page_idx': 3,\n",
       "  'region_idx': 15,\n",
       "  'text': 'More than 2000 institutions have participated in research on AI in liver cancer, and the top 10 institutions with the highest contribution are shown in Table 2.\\nThe top three institutions were the League Of European Research Universities, Sun Yat Sen University, and Zhejiang University with a total of 109, 62, and 58 articles.\\nFigure 4'},\n",
       " {'pdf_name': 'Development of a deep pathomics score for predicting hepatocellular carcinoma recurrence after liver transplantation',\n",
       "  'page_idx': 3,\n",
       "  'region_idx': 7,\n",
       "  'text': 'Recent advances in artificial intelligence (AI) methodologies have made great strides in automatically quantifying pathological patterns based on digital histological slides [18].\\nWith the integration of digital slides into the pathology workflow, advanced algorithms and computeraided techniques expand and reinforce their utilization in tumor diagnosis, prognostic prediction and therapy targeting, which enable the interpretation of information beyond human limits and ultimately, improve patient management [19-21].\\nFor HCC, survival indicators after liver resection were proposed based on weakly supervised deep learning methods, exhibiting high accuracy [22, 23].\\nWith largely uncovered invisible information available from HCC histology, further integration of recurrence prediction models and AI algorithms in transplant patients suffering from HCC deserve to be explored.\\nMoreover, a comprehensive research on correlation between HCC histological structures and prognosis is urgently needed.'},\n",
       " {'pdf_name': 'Quantitative analysis of artificial intelligence on liver cancer',\n",
       "  'page_idx': 8,\n",
       "  'region_idx': 4,\n",
       "  'text': 'Regarding data type, studies of AI in liver cancer started from the simple data modeling of genetic or molecular data (9-11).\\nWith the development of medical imaging, research on medical imaging has been gradually increasing.\\nCT, ultrasound, and MRI are the top three most used data types.\\nFirst, this may because CT and MRI can be used as the basis for clinical treatment strategies for patients with liver cancer based on guidelines for liver cancer diagnosis.\\nMoreover, ultrasound, as a screening method for patients at high risk of liver cancer, needs to be checked every six months.\\nTherefore, the data volume of these three imaging methods has greatly increased, which has promoted the development of AI in liver cancer (37-39).\\nSecond, compared with MRI, CT has the advantages of fast inspection speed and cost-effectiveness, and is an indispensable and important imaging method in the diagnosis and treatment of liver cancer.\\nFinally, although ultrasound is widely used in clinical practice, its image acquisition is seriously affected by the doctor’s operation technique and machine model, the resolution is low, and the processing is difficult.\\nTherefore, it is used less often than CT.\\nHowever, it is worth noting that contrast-enhanced ultrasound has now been included as a recommended imaging modality for the diagnosis of liver cancer (40, 41) and is also widely used in the development and prognostic evaluation of ultrasound-guided radiofrequency ablation.\\nThis suggests that we could pay attention to the important role of ultrasound in liver cancer clinics in future research.\\nAt the same time, few studies used pathological, genetic, and other clinical data (42-44).\\nThe main reason may be that the medical cost of genetic examination is high and the realization of AI in multiomics research is difficult.'},\n",
       " {'pdf_name': 'Artificial Intelligence in Hepatology Ready for the Primetime',\n",
       "  'page_idx': 1,\n",
       "  'region_idx': 4,\n",
       "  'text': \"Artificial Intelligence (AI) is a mathematical process of computer mediating designing of algorithms to support human intelligence.\\nAI in hepatology has shown tremendous promise to plan appropriate management and hence improve treatment outcomes.\\nThe field of AI is in a very early phase with limited clinical use.\\nAI tools such as machine learning, deep learning, and ‘big data’ are in a continuous phase of evolution, presently being applied for clinical and basic research.\\nIn this review, we have summarized various AI applications in hepatology, the pitfalls and AI's future implications.\\nDifferent AI models and algorithms are under study using clinical, laboratory, endoscopic and imaging parameters to diagnose and manage liver diseases and mass lesions.\\nAI has helped to reduce human errors and improve treatment protocols.\\nFurther research and validation are required for future use of AI in hepatology.\\n(J Ciin Exp HepaTor 2023;13:149-161)\"},\n",
       " {'pdf_name': 'Exploring pathological signatures for predicting the recurrence of early-stage hepatocellular carcinoma based on deep learning',\n",
       "  'page_idx': 9,\n",
       "  'region_idx': 6,\n",
       "  'text': 'The emergence of AI has reformed multiple aspects of cancer management.\\nThe combination of deep learning and'},\n",
       " {'pdf_name': 'JOH 2022 Artificial intelligence for the prevention and clinical management of hepatocellular carcinoma',\n",
       "  'page_idx': 11,\n",
       "  'region_idx': 6,\n",
       "  'text': \"Prospective studies are needed to fully demonstrate the potential of AI to improve the clinical care of patients with HCC.\\nIn other medical areas, several Al-based randomised clinical trials have already been conducted.\\nAs such, in endoscopy, numerous randomised clinical trials have evaluated the impact of computer-aided systems on physicians’ performance in diagnosing intestinal adenoma or indicating blind spots of colonoscopy.’*°° The need to incorporate these new developments prompted the research community to extend the widely used SPIRIT and CONSORT guidelines for the use of Al methods in 2020.°'°?\\nAccording to ClinicalTrials.gov (https:// clinicaltrials.gov/), there are currently 6 ongoing trials involving AI for the management of HCC.\\nA research group at the University of Hong Kong is comparing an algorithm designed to diagnose HCC from CT images against the standard diagnostic procedure that relies on the LI-RADS criteria (NCT04843176).°?\\nA multicentre study from France is prospectively developing an AI algorithm in a non-randomised clinical trial.\\nThe research group uses clinical, biological and ultrasound data to\"}]"
      ]
     },
     "execution_count": 22,
     "metadata": {},
     "output_type": "execute_result"
    }
   ],
   "source": [
    "section_1_1_queries"
   ]
  },
  {
   "cell_type": "code",
   "execution_count": 24,
   "id": "0584f796-4bb1-4814-af20-6ad5fff56b53",
   "metadata": {
    "scrolled": true
   },
   "outputs": [
    {
     "name": "stdout",
     "output_type": "stream",
     "text": [
      "Prompt Tokens count: [5222]\n",
      "# Topic: Current advances of AI-based approaches for clinical management of liver cancer\n",
      "\n",
      "# Statement: \n",
      "Research on AI in liver cancer began in 2003 and has seen rapid development since 2017, with a surge in publications and a focus on imaging data analysis [1,3]. AI has been widely used in the diagnosis and treatment of liver diseases, especially in China, which has one of the highest incidences of liver cancer [16]. The integration of AI and medical imaging has become a research hotspot, with technologies like deep learning and convolutional neural networks playing a key role [4,15]. AI is being applied to improve HCC risk prediction, more accurately detect and risk stratify existing HCC tumours, and facilitate earlier and more accurate detection of indeterminate liver lesions [9,10]. Despite the promising early results, future research is needed to standardize AI data and improve both the generalizability and interpretability of results [14].\n",
      "\n",
      "# References:\n",
      "[1] 'Quantitative analysis of artificial intelligence on liver cancer': Page 7, Region 6\n",
      "[2] 'Quantitative analysis of artificial intelligence on liver cancer': Page 2, Region 6\n",
      "[3] 'Quantitative analysis of artificial intelligence on liver cancer': Page 7, Region 5\n",
      "[4] 'Quantitative analysis of artificial intelligence on liver cancer': Page 2, Region 5\n",
      "[9] 'JOH 2022 Artificial intelligence for the prevention and clinical management of hepatocellular carcinoma': Page 6, Region 13\n",
      "[10] 'JOH 2022 Artificial intelligence for the prevention and clinical management of hepatocellular carcinoma': Page 4, Region 4\n",
      "[14] 'JOH 2022 Artificial intelligence for the prevention and clinical management of hepatocellular carcinoma': Page 1, Region 8\n",
      "[15] 'Quantitative analysis of artificial intelligence on liver cancer': Page 8, Region 4\n",
      "[16] 'Quantitative analysis of artificial intelligence on liver cancer': Page 10, Region 2\n",
      "\n",
      "Response Tokens count: [421] [stop]\n",
      "Prompt Tokens count: [421]\n",
      "# 主题：基于人工智能的肝癌临床管理的当前进展\n",
      "\n",
      "# 声明：\n",
      "肝癌领域的人工智能研究始于2003年，并自2017年以来迅速发展，出现了大量出版物，并侧重于影像数据分析[1,3]。人工智能已广泛应用于肝病的诊断和治疗，尤其在中国，该国肝癌发病率较高[16]。将人工智能与医学影像整合已成为研究热点，深度学习和卷积神经网络等技术发挥了关键作用[4,15]。人工智能被应用于改善肝细胞癌（HCC）风险预测，更准确地检测和风险分层现有的HCC肿瘤，并促进对不明确的肝脏病变的更早和更准确的检测[9,10]。尽管初步结果令人鼓舞，但未来研究需要标准化人工智能数据，并提高结果的普适性和可解释性[14]。\n",
      "\n",
      "# 参考文献：\n",
      "[1] 《肝癌人工智能定量分析》：第7页，第6区\n",
      "[2] 《肝癌人工智能定量分析》：第2页，第6区\n",
      "[3] 《肝癌人工智能定量分析》：第7页，第5区\n",
      "[4] 《肝癌人工智能定量分析》：第2页，第5区\n",
      "[9] 《JOH 2022年 肝细胞癌预防和临床管理的人工智能》：第6页，第13区\n",
      "[10] 《JOH 2022年 肝细胞癌预防和临床管理的人工智能》：第4页，第4区\n",
      "[14] 《JOH 2022年 肝细胞癌预防和临床管理的人工智能》：第1页，第8区\n",
      "[15] 《肝癌人工智能定量分析》：第8页，第4区\n",
      "[16] 《肝癌人工智能定量分析》：第10页，第2区\n",
      "Response Tokens count: [664] [stop]\n"
     ]
    }
   ],
   "source": [
    "section_1_1_sum_res, section_1_1_trans_res = summarize_and_translate_section(\n",
    "    section_1_1, section_1_1_queries\n",
    ")"
   ]
  },
  {
   "cell_type": "code",
   "execution_count": 6,
   "id": "8de500c7-55eb-45ca-b5f5-4ddbba46ff33",
   "metadata": {
    "scrolled": true
   },
   "outputs": [
    {
     "name": "stdout",
     "output_type": "stream",
     "text": [
      "Prompt Tokens count: [3031]\n",
      "```\n",
      "Topic: Current advances of AI-based approaches for clinical management of liver cancer, AI-based prognostication of liver cancer\n",
      "\n",
      "Statement: Artificial Intelligence (AI) has shown significant progress in the clinical management and prognostication of liver cancer. The integration of AI in liver cancer research, particularly in China which has one of the highest incidences of liver cancer, has been rapidly developing. AI applications have expanded in all branches of medicine, especially endoscopy and hepatology, contributing to the prediction of fibrosis, classification of liver masses, and prediction of treatment response and transplant outcomes. Intelligent analysis of imaging data has become a research hotspot, with AI methodologies making strides in quantifying pathological patterns based on digital histological slides. This approach has improved patient management by enabling the interpretation of information beyond human limits. AI also helps in real-time biomonitoring, identifying patients at high risk of clinical decompensation and hospital admission for timely intervention. However, the use of AI for the fusion analysis of multiple types of data in the diagnosis and treatment of liver cancer and multi-modal treatment decision-making for liver cancer are still relatively rare. There is also an urgent need for comprehensive research on the correlation between liver cancer histological structures and prognosis. Despite the challenges, AI is expected to bring striking changes to the diagnosis of various liver diseases with the availability of 'big data'. AI has also been used in the prediction of future liver cancer risk in patients with established liver disease, improving the accuracy of hepatocellular carcinoma (HCC) prognosis. With the development of medical big data and computer technology, AI based on machine learning and deep learning has been widely used in current medical research, guiding clinical decision-making. However, more studies are needed to fully demonstrate the potential of AI to improve the clinical care of patients with HCC.\n",
      "```\n",
      "Response Tokens count: [365]\n"
     ]
    }
   ],
   "source": [
    "section_1_1_sum_prompt = section_sum_prompt_template(\n",
    "    section_1_1, section_1_1_queries_str\n",
    ")\n",
    "section_1_1_sum_res = section_summarizer.chat(section_1_1_sum_prompt)\n",
    "# display(section_1_1_sum_res)\n",
    "# translator.chat(section_1, show_prompt=True)"
   ]
  },
  {
   "cell_type": "code",
   "execution_count": 7,
   "id": "c1971af0-21ce-4848-9820-bf37d1c51f16",
   "metadata": {
    "scrolled": true
   },
   "outputs": [
    {
     "name": "stdout",
     "output_type": "stream",
     "text": [
      "Prompt Tokens count: [365]\n",
      "主题：基于人工智能的肝癌临床管理和预后的当前进展，以及基于人工智能的肝癌预后分析\n",
      "\n",
      "陈述：人工智能（AI）在肝癌的临床管理和预后分析方面取得了显著进展。在肝癌研究中，特别是在肝癌发病率较高的中国，AI的应用迅速发展。AI应用已经在医学的各个领域得到了扩展，特别是内窥镜和肝脏病学领域，在肝纤维化的预测、肝脏肿块的分类以及治疗反应和移植结果的预测方面发挥了作用。智能分析影像数据已经成为研究的热点，AI方法在基于数字组织学切片的病理模式定量分析方面取得了进展。这一方法通过超越人类限制来解释信息，改善了患者的管理。AI还有助于实时生物监测，识别高风险患者，及时干预以防止临床恶化和住院。然而，在肝癌的诊断和治疗中，多种类型数据融合分析以及肝癌的多模式治疗决策的应用仍然相对较少。还迫切需要开展关于肝癌组织结构与预后相关性的综合研究。尽管存在挑战，但随着“大数据”的可用性，预计AI将对各种肝脏疾病的诊断带来显著变革。AI还被用于预测已确诊肝脏疾病患者未来患肝细胞癌（HCC）的风险，提高了HCC预后的准确性。随着医疗大数据和计算机技术的发展，基于机器学习和深度学习的AI已经广泛应用于当前医学研究，引导临床决策。然而，还需要更多研究来充分展示AI改善HCC患者临床护理潜力。\n",
      "Response Tokens count: [676]\n"
     ]
    }
   ],
   "source": [
    "section_1_1_trans_res = translator.chat(section_1_1_sum_res)"
   ]
  },
  {
   "cell_type": "code",
   "execution_count": 8,
   "id": "80c4f97d-6418-4771-b40c-d22801a82e0b",
   "metadata": {
    "collapsed": true,
    "jupyter": {
     "outputs_hidden": true
    },
    "scrolled": true
   },
   "outputs": [
    {
     "data": {
      "text/plain": [
       "\"This study used bibliometrics to conduct an in-depth analysis of the published literature on AI in liver cancer.\\nThe results showed that AI has undergone rapid development and has a wide application in the diagnosis and treatment of liver diseases, especially in China, which has one of the highest incidences of liver cancer compared to other countries the world.\\nIn addition, intelligent analysis of imaging data is the hotspot and focus of current research in this field.\\nHowever, combined with the current clinical difficulties such as accurate screening of early-stage liver cancer patients and high-risk patients, and selection of reasonable treatment decisions for advanced liver cancer patients, the use of AI for the fusion analysis of multiple types data in the process of diagnosis and treatment of liver cancer and multi-modal treatment decision-making for liver cancer are still relatively rare, and may become a future research trend.\\n\\nTherefore, we aimed to quantitatively analyze existing studies involving AI in liver cancer using bibliometrics to provide the current research progress, hotspots, and emerging trends for AI in liver cancer which may help researchers better understand grasp future research interest.\\nInformation was collated regarding countries/regions, institutions, authors, and journals with the highest citations and publications and keywords.\\n\\nAs more and more researchers are interested in the use of AI in liver cancer, a large number of related studies have started being published.\\nFor example, reviews describing an overview of deep learning, convolutional neural networks and other AI technologies applications in liver cancer (20-22), reviews on the applications of AI on assisted imaging in diagnosis, prognosis and detection of liver cancer (23-25), and explained the latest research, on limitations and future development trends of AI have all been recently published.\\nHowever, current reviews may be unable to explore grasp the latest research trends and hotspots in this field because of lack of a large number of publications.\\nMeanwhile, there is a lack of quantitative analysis of all\\n\\nRegarding data type, studies of AI in liver cancer started from the simple data modeling of genetic or molecular data (9-11).\\nWith the development of medical imaging, research on medical imaging has been gradually increasing.\\nCT, ultrasound, and MRI are the top three most used data types.\\nFirst, this may because CT and MRI can be used as the basis for clinical treatment strategies for patients with liver cancer based on guidelines for liver cancer diagnosis.\\nMoreover, ultrasound, as a screening method for patients at high risk of liver cancer, needs to be checked every six months.\\nTherefore, the data volume of these three imaging methods has greatly increased, which has promoted the development of AI in liver cancer (37-39).\\nSecond, compared with MRI, CT has the advantages of fast inspection speed and cost-effectiveness, and is an indispensable and important imaging method in the diagnosis and treatment of liver cancer.\\nFinally, although ultrasound is widely used in clinical practice, its image acquisition is seriously affected by the doctor’s operation technique and machine model, the resolution is low, and the processing is difficult.\\nTherefore, it is used less often than CT.\\nHowever, it is worth noting that contrast-enhanced ultrasound has now been included as a recommended imaging modality for the diagnosis of liver cancer (40, 41) and is also widely used in the development and prognostic evaluation of ultrasound-guided radiofrequency ablation.\\nThis suggests that we could pay attention to the important role of ultrasound in liver cancer clinics in future research.\\nAt the same time, few studies used pathological, genetic, and other clinical data (42-44).\\nThe main reason may be that the medical cost of genetic examination is high and the realization of AI in multiomics research is difficult.\\n\\nWith the development of medical big data and computer technology, artificial intelligence (AI) based on machine learning and deep learning has been widely used in current medical research (3-6).\\nThrough self-learning, summary, and induction of data, it can produce an intelligent reasoning system and choose the optimal solution to guide clinical decision-making (7).\\nOriginal AI was based on traditional machine-learning methods, including support vector machine and random forest models, which all relied on human experience for learning and simple summary.\\nAs early as 2003, Hussain constructed a predictive system consisting of 12 genes, with Fisher’s linear classifier, for predicting early recurrence in patients with hepatocellular carcinoma (HCC) (8).\\nDuring this period, most studies have focused on simple analyses of data, such as genes and molecules (9-11).\\nWith the standardization of imaging diagnosis and its important role in the clinical diagnosis of liver cancer, AI research based on imaging has emerged by extracting high-throughput features that cannot be detected and defined by human eyes from large-scale image data to establish an intelligent decision -making model to assist clinical decisionmaking (12, 13).\\nIn particular, deep learning based on convolutional neural networks (CNNs) has promoted progress in liver cancer research (14-19).\\n\\nAI is an upcoming promising technology that is rapidly becoming an essential part of patient management.\\nApplications of AI have expanded in all branches of medicines, especially endoscopy and hepatology.\\nThe conglomeration of data which can be clinical/laboratory, multi-omics, natural language processing (NLP) and Image recognition (both radiology-based and pathology-based) has contributed to the prediction of fibrosis, classification of liver masses and prediction of treatment response and transplant outcomes.\\n’® In this review the majority of studies mentioned focussed on diagnosis part.\\nThere are very few studies that help to predict treatment response, post-liver transplant response, and prediction of hepatotoxicity in newer drug development and more studies are needed.\\nAI also helps for realtime biomonitoring, by identification of patients at high risk of clinical decompensation and hospital admission, so that timely intervention can be done for high-risk patients.\\nWith the increasing advancement of image capture and storage, AI will bring striking changes to the diagnosis of various liver diseases with the ‘big data’ being available.\\nHowever, there are many hurdles to overcome, which researchers will do in the near future using validation studies and molecular research.\\nIt is expected that gastroenterology and hepatology will be one of the first areas in medicine to introduce AI tools on a wide-scale basis, due to its inherent reliance on endoscopic and radiological imaging.\\nHence, GI and liver specialists should be proud that our field sets the ground for AI development in medicine.\\n\\nThe analysis of the global trend of publications and citations and productive countries/regions is mainly to comprehensively understand the development trends of AI on liver cancer from beginning to end.\\nThe analysis of institutions, authors, and co-cited authors can quantitatively describe the strength of the cooperation between authors and institutions (30-32).\\nAdditionally, the analysis of top journals can analyze the level of cooperation and relationships in the concentrated fields of journals, which is beneficial to cross field cooperation in research (32).\\nIn particular, cluster co-occurrence analysis of keywords from different perspectives such as disease, data type, clinical goals, and clinical methods can help us understand the main topics and research trends in the current field of AI in liver cancer field.\\n\\nRecent advances in artificial intelligence (AI) methodologies have made great strides in automatically quantifying pathological patterns based on digital histological slides [18].\\nWith the integration of digital slides into the pathology workflow, advanced algorithms and computeraided techniques expand and reinforce their utilization in tumor diagnosis, prognostic prediction and therapy targeting, which enable the interpretation of information beyond human limits and ultimately, improve patient management [19-21].\\nFor HCC, survival indicators after liver resection were proposed based on weakly supervised deep learning methods, exhibiting high accuracy [22, 23].\\nWith largely uncovered invisible information available from HCC histology, further integration of recurrence prediction models and AI algorithms in transplant patients suffering from HCC deserve to be explored.\\nMoreover, a comprehensive research on correlation between HCC histological structures and prognosis is urgently needed.\\n\\nAnother rapidly growing area of research is focused on improved characterisation of indeterminate liver lesions.\\nIn clinical practice, when an abdominal ultrasound shows a new liver lesion, a patient is typically referred for further imaging, with contrast-enhanced CT or MRI.\\nBased on the fulfilment of specific radiologic criteria, certain liver lesions may be considered as having pathognomonic features of HCC, and thus do not require liver biopsy for further histological confirmation.\\nHowever, liver nodules imaged by CT or MRI often demonstrate indeterminate features, for which current recommendations include either liver biopsy or close interval follow-up with serial imaging.”° This practice is sub-optimal, resulting in numerous imaging studies, patient stress, and the potential for delayed diagnoses of liver cancer.\\nFor this reason, a growing body of recent literature has explored AI approaches to improve risk stratification of indeterminate liver lesions, to facilitate earlier and more accurate detection of HCC.\\n\\nObjective: To provide the current research progress, hotspots, and emerging trends for Al in liver cancer, we have compiled a relative comprehensive and quantitative report on the research of liver disease using artificial intelligence by employing bibliometrics in this study.\\n\\nSince immune therapy has pioneered a new era of antitumoral systematic treatment [34], the expression of immune checkpoint molecules has been great significance to the prognosis of liver cancer [35].\\n\\nIn this quantitative study, in order to systematically and quantitatively analyze the research status of AI in liver cancer, and explore the future research trends and hotspots in this field, we used a bibliometrics method to analyze the current research status of AI in liver cancer in terms of publication and citation trends, countries/ regions and institutions, authors and co-cited authors, journals, cited references and co-citation references, and keywords.\\nUltimately, 1724 articles focusing on Al in liver cancer were collected from the WoSCC database and analyzed.\\n\\nPrevious meta-analyses and literature reviews focused on the applications of specific technologies in liver cancer or the development status of specific liver disease (22-29), such as reviewing studies on AI on assisted imaging in the diagnosis, prognosis and detection of liver cancer, or explaining the latest research, limitations, and future development trends of AI in a\\n\\nArtificial Intelligence (AI) is a mathematical process of computer mediating designing of algorithms to support human intelligence.\\nAI in hepatology has shown tremendous promise to plan appropriate management and hence improve treatment outcomes.\\nThe field of AI is in a very early phase with limited clinical use.\\nAI tools such as machine learning, deep learning, and ‘big data’ are in a continuous phase of evolution, presently being applied for clinical and basic research.\\nIn this review, we have summarized various AI applications in hepatology, the pitfalls and AI's future implications.\\nDifferent AI models and algorithms are under study using clinical, laboratory, endoscopic and imaging parameters to diagnose and manage liver diseases and mass lesions.\\nAI has helped to reduce human errors and improve treatment protocols.\\nFurther research and validation are required for future use of AI in hepatology.\\n(J Ciin Exp HepaTor 2023;13:149-161)\\n\\nStudies on the treatment and prognosis of liver cancer mainly focused on the survival of a specific surgical method (59-66), such as radiofrequency ablation, transarterial chemoembolization and etc.\\nReports have proven that the modern therapies integrate a variety of neoadjuvant and adjuvant strategies have achieved dramatic improvements in survival, especially for patients with advanced HCC (66, 67).\\nBut the division of the patient population, the choice of potentially disclosing novel biomarkers still are controversies and the decision-making of precision treatment methods adapted to the specific patients, AI can play a role in this, but related research has not yet been seen.\\n\\nFIGURE 2 Global trend of publications and citations on artificial intelligence research in liver cancer from 2003 to 2022.\\n\\ndevelopment of multimodal treatment plans for liver cancer could become the major trend of future research in Al in liver cancer.\\n\\nOwing to the broad heterogeneity in HCC risk factors and pathogenesis, established strategies for prediction and prognostication are still limited.\\nRecently, artificial intelligence (AI) has emerged as a unique opportunity to improve the full spectrum of HCC clinical care, by: i) improving the prediction of future HCC risk in patients with established liver disease; ii) improving the accuracy of HCC\\n\\n66.\\nPetrowsky H, Fritsch R, Guckenberger M, De Oliveira ML, Dutkowski P, Clavien PA. Modern therapeutic approaches for the treatment of malignant liver tumours.\\nNat Rev Gastroenterol Hepatol (2020) 17(12):755-72. doi: 10.1038/s41575-020-0314-8\\n\\nA growing body of research has applied AI approaches to improve HCC risk prediction, and to more accurately detect and risk stratify existing HCC tumours, based on EHR data, radiomics approaches, and molecular or histopathological biomarkers.\""
      ]
     },
     "metadata": {},
     "output_type": "display_data"
    }
   ],
   "source": [
    "section_1_2 = \"Current advances of AI-based approaches for clinical management of liver cancer, Molecular profiling of liver cancer via AI\"\n",
    "section_1_2_queries_str = \"\\n\\n\".join(retriver.query(section_1_2))\n",
    "display(section_1_2_queries_str)"
   ]
  },
  {
   "cell_type": "code",
   "execution_count": 9,
   "id": "b3507c82-7999-4985-be1d-df0597f0f3e6",
   "metadata": {},
   "outputs": [
    {
     "name": "stdout",
     "output_type": "stream",
     "text": [
      "Prompt Tokens count: [2736]\n",
      "```\n",
      "Topic: Current advances of AI-based approaches for clinical management of liver cancer, Molecular profiling of liver cancer via AI\n",
      "\n",
      "Statement: Artificial Intelligence (AI) has made significant strides in the clinical management of liver cancer and molecular profiling of the disease. The rapid development and wide application of AI have been particularly notable in the diagnosis and treatment of liver diseases in China, which has one of the highest incidences of liver cancer globally. AI's intelligent analysis of imaging data has become a key focus of current research in this field. However, the use of AI for the fusion analysis of multiple types of data in the diagnosis and treatment of liver cancer, and multi-modal treatment decision-making for liver cancer, are still relatively rare, indicating potential areas for future research. \n",
      "\n",
      "AI research in liver cancer began with the simple data modeling of genetic or molecular data and has gradually expanded with the development of medical imaging. AI has been instrumental in extracting high-throughput features that cannot be detected and defined by human eyes from large-scale image data, establishing intelligent decision-making models that assist in clinical decision-making. \n",
      "\n",
      "AI applications in hepatology have shown tremendous promise in planning appropriate management and improving treatment outcomes. These applications have helped to reduce human errors and improve treatment protocols. AI tools such as machine learning, deep learning, and 'big data' are being applied for clinical and basic research, with different AI models and algorithms under study using clinical, laboratory, endoscopic, and imaging parameters to diagnose and manage liver diseases and mass lesions. \n",
      "\n",
      "AI methodologies have made great strides in automatically quantifying pathological patterns based on digital histological slides. This has facilitated the integration of digital slides into the pathology workflow, expanding and reinforcing their utilization in tumor diagnosis, prognostic prediction, and therapy targeting. This approach has improved patient management by enabling the interpretation of information beyond human limits. \n",
      "\n",
      "With the development of medical big data and computer technology, AI based on machine learning and deep learning has been widely used in current medical research. AI has emerged as a unique opportunity to improve the full spectrum of hepatocellular carcinoma (HCC) clinical care by improving the prediction of future HCC risk in patients with established liver disease and improving the accuracy of HCC prognosis. A growing body of research has applied AI approaches to improve HCC risk prediction and to more accurately detect and risk stratify existing HCC tumors, based on EHR data, radiomics approaches, and molecular or histopathological biomarkers.\n",
      "```\n",
      "Response Tokens count: [493]\n",
      "Prompt Tokens count: [493]\n",
      "主题：基于人工智能的肝癌临床管理和肝癌分子特征分析的当前进展\n",
      "\n",
      "陈述：人工智能（AI）在肝癌的临床管理和分子特征分析方面取得了显著进展。AI的快速发展和广泛应用在全球范围内肝癌的诊断和治疗中特别引人注目，尤其是在肝癌患病率较高的中国。AI对影像数据的智能分析已成为当前研究领域的重要焦点。然而，在肝癌的诊断和治疗中，多种类型数据融合分析以及肝癌的多模式治疗决策的应用仍然相对较少，这表明了未来研究的潜在领域。\n",
      "\n",
      "肝癌的AI研究始于对遗传或分子数据的简单数据建模，随着医学影像技术的发展逐渐扩展。AI在从大规模图像数据中提取人眼无法检测和定义的高通量特征方面发挥了关键作用，建立了有助于临床决策的智能决策模型。\n",
      "\n",
      "在肝脏病学领域，AI应用在规划适当的治疗管理和改善治疗结果方面表现出巨大潜力。这些应用有助于减少人为错误并改善治疗方案。机器学习、深度学习和“大数据”等AI工具被应用于临床和基础研究，利用临床、实验室、内窥镜和影像参数研究不同的AI模型和算法，以诊断和管理肝脏疾病和肝脏肿块。\n",
      "\n",
      "AI方法已在基于数字组织学切片的自动量化病理模式方面取得了巨大进展。这有助于将数字切片整合到病理学工作流程中，扩展和加强它们在肿瘤诊断、预后预测和治疗靶向中的应用。这一方法通过超越人类限制来解释信息，改善了患者管理。\n",
      "\n",
      "随着医疗大数据和计算机技术的发展，基于机器学习和深度学习的AI已广泛应用于当前医学研究。AI已成为通过改善已确诊肝脏疾病患者未来肝细胞癌（HCC）风险预测和提高HCC预后准确性来改善全方位的HCC临床护理的独特机会。越来越多的研究应用AI方法来改进HCC风险预测，并根据电子健康记录数据、放射学方法以及分子或组织病理学标志物更准确地检测和风险分层现有的HCC肿瘤。\n",
      "Response Tokens count: [906]\n"
     ]
    }
   ],
   "source": [
    "section_1_2_sum_prompt = section_sum_prompt_template(\n",
    "    section_1_2, section_1_2_queries_str\n",
    ")\n",
    "section_1_2_sum_res = section_summarizer.chat(section_1_2_sum_prompt)\n",
    "section_1_2_trans_res = translator.chat(section_1_2_sum_res)"
   ]
  },
  {
   "cell_type": "code",
   "execution_count": 3,
   "id": "e6ab23ec-0055-4b12-9d12-e339b733ab85",
   "metadata": {
    "collapsed": true,
    "jupyter": {
     "outputs_hidden": true
    },
    "scrolled": true
   },
   "outputs": [
    {
     "data": {
      "text/plain": [
       "\"Recent advances in artificial intelligence (AI) methodologies have made great strides in automatically quantifying pathological patterns based on digital histological slides [18].\\nWith the integration of digital slides into the pathology workflow, advanced algorithms and computeraided techniques expand and reinforce their utilization in tumor diagnosis, prognostic prediction and therapy targeting, which enable the interpretation of information beyond human limits and ultimately, improve patient management [19-21].\\nFor HCC, survival indicators after liver resection were proposed based on weakly supervised deep learning methods, exhibiting high accuracy [22, 23].\\nWith largely uncovered invisible information available from HCC histology, further integration of recurrence prediction models and AI algorithms in transplant patients suffering from HCC deserve to be explored.\\nMoreover, a comprehensive research on correlation between HCC histological structures and prognosis is urgently needed.\\n\\nAI is an upcoming promising technology that is rapidly becoming an essential part of patient management.\\nApplications of AI have expanded in all branches of medicines, especially endoscopy and hepatology.\\nThe conglomeration of data which can be clinical/laboratory, multi-omics, natural language processing (NLP) and Image recognition (both radiology-based and pathology-based) has contributed to the prediction of fibrosis, classification of liver masses and prediction of treatment response and transplant outcomes.\\n’® In this review the majority of studies mentioned focussed on diagnosis part.\\nThere are very few studies that help to predict treatment response, post-liver transplant response, and prediction of hepatotoxicity in newer drug development and more studies are needed.\\nAI also helps for realtime biomonitoring, by identification of patients at high risk of clinical decompensation and hospital admission, so that timely intervention can be done for high-risk patients.\\nWith the increasing advancement of image capture and storage, AI will bring striking changes to the diagnosis of various liver diseases with the ‘big data’ being available.\\nHowever, there are many hurdles to overcome, which researchers will do in the near future using validation studies and molecular research.\\nIt is expected that gastroenterology and hepatology will be one of the first areas in medicine to introduce AI tools on a wide-scale basis, due to its inherent reliance on endoscopic and radiological imaging.\\nHence, GI and liver specialists should be proud that our field sets the ground for AI development in medicine.\\n\\nThis study used bibliometrics to conduct an in-depth analysis of the published literature on AI in liver cancer.\\nThe results showed that AI has undergone rapid development and has a wide application in the diagnosis and treatment of liver diseases, especially in China, which has one of the highest incidences of liver cancer compared to other countries the world.\\nIn addition, intelligent analysis of imaging data is the hotspot and focus of current research in this field.\\nHowever, combined with the current clinical difficulties such as accurate screening of early-stage liver cancer patients and high-risk patients, and selection of reasonable treatment decisions for advanced liver cancer patients, the use of AI for the fusion analysis of multiple types data in the process of diagnosis and treatment of liver cancer and multi-modal treatment decision-making for liver cancer are still relatively rare, and may become a future research trend.\\n\\nWith the development of medical big data and computer technology, artificial intelligence (AI) based on machine learning and deep learning has been widely used in current medical research (3-6).\\nThrough self-learning, summary, and induction of data, it can produce an intelligent reasoning system and choose the optimal solution to guide clinical decision-making (7).\\nOriginal AI was based on traditional machine-learning methods, including support vector machine and random forest models, which all relied on human experience for learning and simple summary.\\nAs early as 2003, Hussain constructed a predictive system consisting of 12 genes, with Fisher’s linear classifier, for predicting early recurrence in patients with hepatocellular carcinoma (HCC) (8).\\nDuring this period, most studies have focused on simple analyses of data, such as genes and molecules (9-11).\\nWith the standardization of imaging diagnosis and its important role in the clinical diagnosis of liver cancer, AI research based on imaging has emerged by extracting high-throughput features that cannot be detected and defined by human eyes from large-scale image data to establish an intelligent decision -making model to assist clinical decisionmaking (12, 13).\\nIn particular, deep learning based on convolutional neural networks (CNNs) has promoted progress in liver cancer research (14-19).\\n\\nOwing to the broad heterogeneity in HCC risk factors and pathogenesis, established strategies for prediction and prognostication are still limited.\\nRecently, artificial intelligence (AI) has emerged as a unique opportunity to improve the full spectrum of HCC clinical care, by: i) improving the prediction of future HCC risk in patients with established liver disease; ii) improving the accuracy of HCC\\n\\nAnother rapidly growing area of research is focused on improved characterisation of indeterminate liver lesions.\\nIn clinical practice, when an abdominal ultrasound shows a new liver lesion, a patient is typically referred for further imaging, with contrast-enhanced CT or MRI.\\nBased on the fulfilment of specific radiologic criteria, certain liver lesions may be considered as having pathognomonic features of HCC, and thus do not require liver biopsy for further histological confirmation.\\nHowever, liver nodules imaged by CT or MRI often demonstrate indeterminate features, for which current recommendations include either liver biopsy or close interval follow-up with serial imaging.”° This practice is sub-optimal, resulting in numerous imaging studies, patient stress, and the potential for delayed diagnoses of liver cancer.\\nFor this reason, a growing body of recent literature has explored AI approaches to improve risk stratification of indeterminate liver lesions, to facilitate earlier and more accurate detection of HCC.\\n\\nTherefore, we aimed to quantitatively analyze existing studies involving AI in liver cancer using bibliometrics to provide the current research progress, hotspots, and emerging trends for AI in liver cancer which may help researchers better understand grasp future research interest.\\nInformation was collated regarding countries/regions, institutions, authors, and journals with the highest citations and publications and keywords.\\n\\nStudies on the treatment and prognosis of liver cancer mainly focused on the survival of a specific surgical method (59-66), such as radiofrequency ablation, transarterial chemoembolization and etc.\\nReports have proven that the modern therapies integrate a variety of neoadjuvant and adjuvant strategies have achieved dramatic improvements in survival, especially for patients with advanced HCC (66, 67).\\nBut the division of the patient population, the choice of potentially disclosing novel biomarkers still are controversies and the decision-making of precision treatment methods adapted to the specific patients, AI can play a role in this, but related research has not yet been seen.\\n\\nAs more and more researchers are interested in the use of AI in liver cancer, a large number of related studies have started being published.\\nFor example, reviews describing an overview of deep learning, convolutional neural networks and other AI technologies applications in liver cancer (20-22), reviews on the applications of AI on assisted imaging in diagnosis, prognosis and detection of liver cancer (23-25), and explained the latest research, on limitations and future development trends of AI have all been recently published.\\nHowever, current reviews may be unable to explore grasp the latest research trends and hotspots in this field because of lack of a large number of publications.\\nMeanwhile, there is a lack of quantitative analysis of all\\n\\nArtificial Intelligence (AI) is a mathematical process of computer mediating designing of algorithms to support human intelligence.\\nAI in hepatology has shown tremendous promise to plan appropriate management and hence improve treatment outcomes.\\nThe field of AI is in a very early phase with limited clinical use.\\nAI tools such as machine learning, deep learning, and ‘big data’ are in a continuous phase of evolution, presently being applied for clinical and basic research.\\nIn this review, we have summarized various AI applications in hepatology, the pitfalls and AI's future implications.\\nDifferent AI models and algorithms are under study using clinical, laboratory, endoscopic and imaging parameters to diagnose and manage liver diseases and mass lesions.\\nAI has helped to reduce human errors and improve treatment protocols.\\nFurther research and validation are required for future use of AI in hepatology.\\n(J Ciin Exp HepaTor 2023;13:149-161)\\n\\nPatients with liver disease, particularly those with liver cancer, undergo multiple imaging studies to establish a diagnosis, preoperatively plan interventions, and monitor response to therapy (Table S2).\\nEach of these imaging studies contain numerous data points that could be potentially analysed to improve predictions.\\nHowever, there is a formidable challenge in transforming this burden of clinical and imaging data into something of clinical value.\\n\\nRegarding data type, studies of AI in liver cancer started from the simple data modeling of genetic or molecular data (9-11).\\nWith the development of medical imaging, research on medical imaging has been gradually increasing.\\nCT, ultrasound, and MRI are the top three most used data types.\\nFirst, this may because CT and MRI can be used as the basis for clinical treatment strategies for patients with liver cancer based on guidelines for liver cancer diagnosis.\\nMoreover, ultrasound, as a screening method for patients at high risk of liver cancer, needs to be checked every six months.\\nTherefore, the data volume of these three imaging methods has greatly increased, which has promoted the development of AI in liver cancer (37-39).\\nSecond, compared with MRI, CT has the advantages of fast inspection speed and cost-effectiveness, and is an indispensable and important imaging method in the diagnosis and treatment of liver cancer.\\nFinally, although ultrasound is widely used in clinical practice, its image acquisition is seriously affected by the doctor’s operation technique and machine model, the resolution is low, and the processing is difficult.\\nTherefore, it is used less often than CT.\\nHowever, it is worth noting that contrast-enhanced ultrasound has now been included as a recommended imaging modality for the diagnosis of liver cancer (40, 41) and is also widely used in the development and prognostic evaluation of ultrasound-guided radiofrequency ablation.\\nThis suggests that we could pay attention to the important role of ultrasound in liver cancer clinics in future research.\\nAt the same time, few studies used pathological, genetic, and other clinical data (42-44).\\nThe main reason may be that the medical cost of genetic examination is high and the realization of AI in multiomics research is difficult.\\n\\nThe analysis of the global trend of publications and citations and productive countries/regions is mainly to comprehensively understand the development trends of AI on liver cancer from beginning to end.\\nThe analysis of institutions, authors, and co-cited authors can quantitatively describe the strength of the cooperation between authors and institutions (30-32).\\nAdditionally, the analysis of top journals can analyze the level of cooperation and relationships in the concentrated fields of journals, which is beneficial to cross field cooperation in research (32).\\nIn particular, cluster co-occurrence analysis of keywords from different perspectives such as disease, data type, clinical goals, and clinical methods can help us understand the main topics and research trends in the current field of AI in liver cancer field.\\n\\nTo facilitate transformation of imaging data into clinically accessible information, Al may derive predictions in a more personalised fashion.\\nTwo categories of AI that have shown promise in liver imaging are radiomics (relying on classical ML) and DL systems (relying on CNNs) (Fig.\\n2A).\\nRadiomics is a strongly supervised and expert-guided approach where hardcoded algorithms extract quantitative image features that are fed into an ML algorithm.°® In contrast, DL with a CNN constitutes an automatic feature extraction where the algorithm selflearns salient features and self-optimises parameters by running an input image through mathematical operations embedded in multiple layers.°°?\\nBecause both approaches aim to predict a pre-defined “ground truth,” they are considered supervised learning approaches.\\nHerein, we review AI tools for liver imaging in segmentation, classification of disease severity and lesions, and outcome prediction.\\n\\nIt is hoped that AI will profoundly change the way we care for patients with HCC.\\nAlthough significant progress has been made during the last decade, improvements in HCC risk prediction, diagnosis and response prediction are still critically needed.\\nSeveral challenges remain to fully implement such technologies in clinical practice, including the need to develop robust approaches for structured data collection, sharing and storage, and the need to\\n\\nWhile these concepts are still hypothetical, it will be important to integrate Al-based algorithms into current and future clinical trials, in order to prove that they are valuable tools to predict responses to first-line therapy and to predict early progression.\\nImplementing these steps will depend on access to biological samples and clinical data within large clinical trials, and will require acceptance of these concepts and further that these data are made accessible to the clinician scientists who are contributing patients to these trials.\\nTo that end, collaborative networks based on trust and united in the collective aim of improving patient outcomes need to be implemented not only between clinicians but also with industry.\\nNevertheless, it is paramount for any model developed and trained within the framework of a clinical trial to be thoroughly validated in diverse, real-world patient populations before clinical implementation, to address possible biases introduced by the trial’s inclusion criteria.\\nMoreover, Al-based algorithms and any resultant clinical tools must also be constructed with appropriate stakeholder engagement and oversight, to ensure that validated algorithms are standardised according to protocol and that they are used in the correct clinical contexts, and further that data output is interpreted properly to maximise clinical benefit.\\nCorrectly interpretating data output from an Al-based clinical tool will in turn require appropriate training and awareness, both amongst the public and clinical providers.\\n\\nHepatocellular carcinoma (HCC) is among the leading causes of cancer incidence and death.\\nDespite decades of research and development of new treatment options, the overall outcomes of patients with HCC continue to remain poor.\\nThere are areas of unmet need in risk prediction, early diagnosis, accurate prognostication, and individualized treatments for patients with HCC.\\nRecent years have seen an explosive growth in the application of artificial intelligence (AI) technology in medical research, with the field of HCC being no exception.\\nAmong the various AI-based machine learning algorithms, deep learning algorithms are considered state-of-the-art techniques for handling and processing complex multimodal data ranging from routine clinical variables to high-resolution medical images.\\nThis article will provide a comprehensive review of the recently published studies that have applied deep learning for risk prediction, diagnosis, prognostication, and treatment planning for patients with HCC.\\n\\nIt has been posited that improved HCC risk prediction models leveraging AI techniques could be used to personalise HCC surveillance strategies by improving risk stratification of patients with chronic liver disease.\\nFor example, Ioannou and colleagues found that targeting patients with the uppermost 51% of their NN-derived HCC risk score would include 80% of patients who would develop HCC within the subsequent 3 years.° Such an approach could be useful in resource-limited settings that do not have sufficient capacity for regular HCC surveillance in all at-risk patients.\\nHowever, to date, the clinical utility of this and other Al-based scores for predicting risk of HCC is unclear, particularly as these data have limited generalisability, given their reliance on the size and diversity of the training dataset.\\n\\nIn this quantitative study, in order to systematically and quantitatively analyze the research status of AI in liver cancer, and explore the future research trends and hotspots in this field, we used a bibliometrics method to analyze the current research status of AI in liver cancer in terms of publication and citation trends, countries/ regions and institutions, authors and co-cited authors, journals, cited references and co-citation references, and keywords.\\nUltimately, 1724 articles focusing on Al in liver cancer were collected from the WoSCC database and analyzed.\\n\\nA growing body of research has applied AI approaches to improve HCC risk prediction, and to more accurately detect and risk stratify existing HCC tumours, based on EHR data, radiomics approaches, and molecular or histopathological biomarkers.\""
      ]
     },
     "metadata": {},
     "output_type": "display_data"
    }
   ],
   "source": [
    "section_1_3 = \"Current advances of AI-based approaches for clinical management of liver cancer, Exploring predictive indicators for therapy response\"\n",
    "section_1_3_queries_str = \"\\n\\n\".join(retriver.query(section_1_3))\n",
    "display(section_1_3_queries_str)"
   ]
  },
  {
   "cell_type": "code",
   "execution_count": 4,
   "id": "9d84140d-dd25-46d9-ad7f-becf6926c347",
   "metadata": {},
   "outputs": [
    {
     "name": "stdout",
     "output_type": "stream",
     "text": [
      "Prompt Tokens count: [3374]\n",
      "```\n",
      "Topic: Current advances of AI-based approaches for clinical management of liver cancer, Exploring predictive indicators for therapy response\n",
      "Statement: Recent advances in artificial intelligence (AI) methodologies have significantly contributed to the clinical management of liver cancer. AI has been integrated into the pathology workflow, aiding in tumor diagnosis, prognostic prediction, and therapy targeting. In particular, for hepatocellular carcinoma (HCC), survival indicators after liver resection have been proposed based on weakly supervised deep learning methods. AI has also been applied in predicting treatment response and transplant outcomes in hepatology. However, more studies are needed to further explore these areas. \n",
      "\n",
      "AI has also been used for real-time biomonitoring, identifying patients at high risk of clinical decompensation and hospital admission, allowing for timely intervention. The integration of AI in hepatology is still in its early phase, with ongoing research and validation required for its future use. \n",
      "\n",
      "The use of AI in liver cancer has been widely explored, with a focus on the diagnosis and treatment of liver diseases. AI research based on imaging has emerged, extracting high-throughput features from large-scale image data to establish an intelligent decision-making model. AI has shown promise in liver imaging, particularly in segmentation, classification of disease severity and lesions, and outcome prediction. \n",
      "\n",
      "Despite the significant progress made, improvements in HCC risk prediction, diagnosis, and response prediction are still critically needed. AI-based algorithms and resultant clinical tools must be thoroughly validated in diverse, real-world patient populations before clinical implementation. Overall, AI has shown tremendous promise in the clinical management of liver cancer. However, further research is needed to fully implement such technologies in clinical practice.\n",
      "```\n",
      "Response Tokens count: [336]\n",
      "Prompt Tokens count: [336]\n",
      "话题：基于人工智能的临床肝癌管理的最新进展，探索治疗反应的预测指标\n",
      "陈述：最近人工智能（AI）方法的进步在很大程度上促进了肝癌的临床管理。AI已经融入了病理学工作流程，帮助进行肿瘤诊断、预后预测和治疗定位。特别是对于肝细胞癌（HCC），已经提出了基于弱监督深度学习方法的肝切除后生存指标。AI还应用于预测肝病学中的治疗反应和移植结果。然而，需要进行更多研究来进一步探讨这些领域。\n",
      "\n",
      "AI还被用于实时生物监测，识别处于临床失调和住院风险较高的患者，以便及时干预。AI在肝病学中的应用仍处于早期阶段，需要进行持续的研究和验证以备将来使用。\n",
      "\n",
      "AI在肝癌中的应用已经广泛探讨，重点放在肝病的诊断和治疗上。基于影像的AI研究已经涌现出来，从大规模图像数据中提取高通量特征以建立智能决策模型。AI在肝脏影像学中显示出潜力，特别是在分割、疾病严重程度和病变分类以及结果预测方面。\n",
      "\n",
      "尽管取得了显著进展，但仍急需改进HCC的风险预测、诊断和治疗反应预测。在临床实施之前，基于AI的算法和相应的临床工具必须在多样化的真实患者群体中进行彻底验证。总的来说，AI在肝癌的临床管理中表现出巨大的潜力，但需要进一步研究才能完全将这些技术应用于临床实践中。\n",
      "Response Tokens count: [626]\n"
     ]
    }
   ],
   "source": [
    "section_1_3_sum_prompt = section_sum_prompt_template(\n",
    "    section_1_3, section_1_3_queries_str\n",
    ")\n",
    "section_1_3_sum_res = section_summarizer.chat(section_1_3_sum_prompt)\n",
    "section_1_3_trans_res = translator.chat(section_1_3_sum_res)"
   ]
  },
  {
   "cell_type": "code",
   "execution_count": 5,
   "id": "8967c921-1964-4218-8f61-ed17f4874991",
   "metadata": {
    "collapsed": true,
    "jupyter": {
     "outputs_hidden": true
    },
    "scrolled": true
   },
   "outputs": [
    {
     "data": {
      "text/plain": [
       "['Model-based explanation refers to models, e.g.\\na linear regression model or a support vector machine, that are simple enough to be understood, but sophisticated enough to fit a relationship between input and output well (Murdoch et al., 2019).\\nThese are often the traditional machine learning models.\\nExamples of modelbased explanation enforce the use of a limited amount of features (i.e., sparsity), or enforce a human to be able to internally reason',\n",
       " 'Specific DL methods are considered ‘black-box’ models, so it is not easy to understand the processing of data.\\nThis has prohibited physicians from finding potential confounding variables.\\nThere has been much published about ‘black-box’ warning of algorithms.”* AI use can be ethically challenging, as patient preferences cannot be machine learnt.\\nAlso, in case of misdiagnosis, who shall be legally responsible - whether the endoscopist, the clinician or the programmer is still undecided?\\nMoreover, the racial distinction might be necessary for certain areas (as fibrosis in viral hepatitis), and it may be an inherent bias in AI.\\nSo, different population groups must be considered in developing and validating AI tools, to increase their sensitivity, specificity and accuracy.',\n",
       " 'There are several key issues to address before DL-based AI models can be universally implemented in real world clinical practice settings.\\nDue to their complexity, DL models are traditionally considered to be “black-box” models, meaning humans cannot understand how the DL models make their predictions.\\nInterpretability of the DL models are crucial for physicians to accept and trust them in everyday clinical practice, and for troubleshooting and improving the models for rare cases.\\nThis is being addressed by recent developments in various “explainable AI” techniques but currently there is no clear consensus on the best methodology.\\nAnother potential limitation is the generalizability of the individual DL algorithms.\\nConcerns have been raised that AI algorithms developed at highly specialized academic medical centers using their own patients’ data may over-represent certain groups of patients and not accurately reflect the real-world population of patients seen at local community hospitals.\\nFinally, AI models, like other prediction models, are often not publicly available, limiting external validation.\\nIndependent validation of the proposed model and comparison to old models are as important as deriving new models.\\nLarge-scale,',\n",
       " 'Background and Objective: Machine learning (ML) models are increasingly being utilized in oncology research for use in the clinic.\\nHowever, while more complicated models may provide improvements in predictive or prognostic power, a hurdle to their adoption are limits of model interpretability, wherein the inner workings can be perceived as a “black box”.\\nExplainable artificial intelligence (XAT) frameworks including Local Interpretable Model-agnostic Explanations (LIME) and SHapley Additive exPlanations (SHAP) are novel, model-agnostic approaches that aim to provide insight into the inner workings of the “black box” by producing quantitative visualizations of how model predictions are calculated.\\nIn doing so, XAI can transform complicated ML models into easily understandable charts and interpretable sets of rules, which can give providers with an intuitive understanding of the knowledge generated, thus facilitating the deployment of such models in routine clinical workflows.',\n",
       " 'an explanation that is not completely faithful to what the original model computes: If the explanation explains 90% true to the model, that means that 10% is untrue (Rudin, 2019).\\nFurthermore, an explanation may not make sense or provide enough detail to understand what the black box is doing.\\nFor example, a saliency map of the class with the highest probability may look similar to a saliency map of a class with a lower probability.\\nRudin therefore advices to use interpretable model-based XAI instead, such as the prototype network discussed in Section 3.3.3.',\n",
       " 'With the development of medical big data and computer technology, artificial intelligence (AI) based on machine learning and deep learning has been widely used in current medical research (3-6).\\nThrough self-learning, summary, and induction of data, it can produce an intelligent reasoning system and choose the optimal solution to guide clinical decision-making (7).\\nOriginal AI was based on traditional machine-learning methods, including support vector machine and random forest models, which all relied on human experience for learning and simple summary.\\nAs early as 2003, Hussain constructed a predictive system consisting of 12 genes, with Fisher’s linear classifier, for predicting early recurrence in patients with hepatocellular carcinoma (HCC) (8).\\nDuring this period, most studies have focused on simple analyses of data, such as genes and molecules (9-11).\\nWith the standardization of imaging diagnosis and its important role in the clinical diagnosis of liver cancer, AI research based on imaging has emerged by extracting high-throughput features that cannot be detected and defined by human eyes from large-scale image data to establish an intelligent decision -making model to assist clinical decisionmaking (12, 13).\\nIn particular, deep learning based on convolutional neural networks (CNNs) has promoted progress in liver cancer research (14-19).',\n",
       " '[H2] Explainable Al.\\nCPATH solutions based on deep learning models are often described as ‘black boxes’, indicating that because of the nature of these systems (being trained rather than explicitly programmed), it is very difficult for humans to understand the exact underlying functioning of the system [159].\\nAs a result, correcting certain erroneous behaviors may be more difficult, and acceptance by humans (as well as regulatory approval) may be hampered [123].\\nThis problem has given rise to research on ‘explainable Al’, in which techniques are developed that enable better understanding of the functioning of deep learning models.\\nCurrent state-of-the-art of methods that can shed light inside the black box have been extensively reviewed elsewhere [124].\\nInterestingly, the authors of that survey [124] conclude that there is no consensus on the exact meaning of the term ‘explainable’, as it has different requirements in different contexts and for different stakeholders.\\nAlthough techniques for improving the explainability of Al will support acceptance by the community, the emphasis that should be placed on precise understanding of the mechanics of the technology, rather than on the functioning of the system as a whole in the context in which it is used [125], is debatable, especially when such systems are integrated into the clinical workflow of pathology diagnostics.\\nRigorous validation and quality assurance and checking procedures will be critical to prove the correct functioning of CPATH solutions, both at initial market entrance and also after future updates.\\nThis topic is highly relevant to regulatory bodies such as the FDA, which has recently',\n",
       " 'Analyzing a trained model (i.e., a neural network in deep learning) to achieve insight into learned relationships is referred to as post hoc explanation.\\nAn important distinction between post hoc explanation and model-based explanation is that the former trains a neural network and subsequently attempts to explain the behavior of the ensuing black box network, whereas the latter forces the neural network to be explainable.',\n",
       " 'This dilemma of models losing interpretability as complexity increases has led to so called “explainable artificial intelligence (XAI)” techniques, which broadly seek to improve understanding of complex models by using interpretable visualizations and sets of rules to represent the inner workings of the ML “black box” and pinpoint the most salient and consequential features of the models (Figure 1) (6-8).\\nThe way XAI works differs based on the type of data it is explaining.\\nIn structured data analysis, XAI aims to identify the variables (and their interactions) that influenced the model output.\\nIn image analysis, XAI aims to identify the regions of interest which influenced the model output.\\nCommonly used XAI frameworks include Local Interpretable Model-agnostic Explanations (LIME) (9) and SHapley',\n",
       " 'Convolutional neural networks are generally seen as “black boxes”.\\n(16) Indeed, data are processed through complex layers of computation, and it is difficult to identify the most relevant features used by trained models for sample classification.\\n(16) This lack of interpretability is considered a major limitation of deep learning-based networks.\\nWe used an innovative approach allowing extraction of the most pertinent image tiles and their subsequent analysis by trained pathologists.\\nWe show that the classification obtained is at least partly based on pathological features known to be associated with the clinical outcome of HCC, such as the macrotrabecular architectural pattern, the presence of intratumoral immune infiltration, or high levels of cellular',\n",
       " 'Since the focus of our survey is on XAI methods for deep learning, model-based explanation by enforcing sparsity or simulatability is infeasible.\\nDeep learning uses a deep neural network, typically with thousands to millions of weights, which is neither sparse, nor suited for a human to internally simulate and reason about the models entire decision making.\\nHowever, one of the methods mentioned by Murdoch et al.\\n(2019) was model-based feature engineering, i.e., automated approaches for constructing explainable features.',\n",
       " 'Model-based explanation is by definition model-specific (Adadi and Berrada, 2018), but model-specific explanation is not necessary model-based.\\nSome post hoc saliency mapping techniques are examples of techniques that are specific to a certain class of convolutional neural networks (CNNs), but are not model-based explanation methods (Murdoch et al., 2019).',\n",
       " 'In terms of methods used, some studies used traditional algorithms (51-53), such as support vector machine and random forests models, which were mainly concentrated in the early research stage.\\nSince 2012, deep learning with CNNs has been widely used in the field, involving common tasks in the field of machine learning',\n",
       " 'to identify important radiomic features) (36).\\nIn total, these explanations of radiomic models allows providers to better understand what the model is looking at, which eases application to the clinic by presenting them as more than abstract “black boxes”.',\n",
       " 'Explainable AI is however an active field of research and many aim to open the black boxes of NNs.\\nThe main strands of work are making the networks “transparent”, learning the semantics of',\n",
       " 'The first distinction we make is model-based explanation versus post hoc explanation (Fig.\\n1).',\n",
       " 'The distinction between model-specific and model-agnostic explanation is related to that between model-based and post hoc explanation (Adadi and Berrada, 2018), but there are some nuanced differences.',\n",
       " 'There has been a call for approaches to better understand the black box.\\nSuch approaches are commonly referred to as inter',\n",
       " 'Since model-based techniques embed the explanation in the design of the neural network, it is obvious that these explanations are relatively costly to produce.',\n",
       " 'Neural networks typically consist of many layers connected via many nonlinear intertwined relations.\\nEven if one is to inspect all these layers and describe their relations, it is unfeasibly to fully comprehend how the neural network came to its decision.\\nTherefore, deep learning is often considered a ‘black box’.\\nConcern is mounting in various fields of application that these black boxes may be biased in some way, and that such bias goes unnoticed.\\nEspecially in medical applications, this can have far-reaching consequences.']"
      ]
     },
     "metadata": {},
     "output_type": "display_data"
    }
   ],
   "source": [
    "section_2_1_1 = \"Model-based explanation of Strategies for unraveling the “black-box” of AI-based, a comparison of Support vector machine, random forests and deep learning\"\n",
    "section_2_1_1_queries_str, _ = retrieve_doc(section_2_1_1)"
   ]
  },
  {
   "cell_type": "code",
   "execution_count": 6,
   "id": "377de270-6a1c-429d-8684-7126a2a8357b",
   "metadata": {},
   "outputs": [
    {
     "name": "stdout",
     "output_type": "stream",
     "text": [
      "Prompt Tokens count: [2379]\n",
      "```\n",
      "Topic: Model-based explanation of Strategies for unraveling the “black-box” of AI-based, a comparison of Support vector machine, random forests and deep learning\n",
      "Statement: In the realm of artificial intelligence (AI), model-based explanation refers to models that are simple enough to be understood, yet sophisticated enough to fit a relationship between input and output well. These are often the traditional machine learning models such as support vector machine and random forests. However, as AI has advanced, the integration of deep learning (DL) methods has become prevalent, and these specific DL methods are often considered as 'black-box' models due to their complexity, making it difficult for humans to understand how the DL models make their predictions. \n",
      "\n",
      "This complexity and lack of interpretability have been seen as hurdles to the adoption of more sophisticated models, leading to the development of explainable artificial intelligence (XAI) techniques. XAI frameworks, including Local Interpretable Model-agnostic Explanations (LIME) and SHapley Additive exPlanations (SHAP), aim to provide insight into the inner workings of the 'black box' by producing quantitative visualizations of how model predictions are calculated. These XAI techniques seek to transform complex ML models into easily understandable charts and interpretable sets of rules, facilitating the deployment of such models in routine clinical workflows.\n",
      "\n",
      "However, despite the development of XAI techniques, several key issues remain to be addressed before DL-based AI models can be universally implemented in real-world clinical practice settings. These include concerns about the generalizability of individual DL algorithms, the need for independent validation and comparison of the proposed models, and the necessity for rigorous validation and quality assurance procedures to prove the correct functioning of these AI solutions. \n",
      "\n",
      "In conclusion, while support vector machines and random forests provide a level of interpretability, the complexity of deep learning models often makes them appear as 'black boxes'. However, the development of XAI techniques is beginning to unravel these 'black boxes', providing a greater understanding of how these models function and paving the way for their wider adoption in various fields, including medical research and clinical decision-making.\n",
      "```\n",
      "Response Tokens count: [427]\n",
      "Prompt Tokens count: [427]\n",
      "话题：模型解释策略，揭示基于AI的“黑匣子”的方法，支持向量机、随机森林和深度学习的比较\n",
      "陈述：在人工智能（AI）领域，模型解释是指足够简单以被理解，同时又足够复杂以很好地拟合输入和输出关系的模型。这些通常是传统的机器学习模型，如支持向量机和随机森林。然而，随着AI的发展，深度学习（DL）方法的整合变得普遍，而这些特定的DL方法通常被视为“黑匣子”模型，因为它们的复杂性，使人难以理解DL模型如何进行预测。\n",
      "\n",
      "这种复杂性和缺乏可解释性被视为采用更复杂模型的障碍，导致了可解释人工智能（XAI）技术的发展。XAI框架，包括局部可解释的模型无关解释（LIME）和SHapley可加性解释（SHAP），旨在通过生成模型预测如何计算的定量可视化来提供对“黑匣子”内部工作原理的洞察。这些XAI技术试图将复杂的ML模型转化为易于理解的图表和可解释的规则集，促进这些模型在常规临床工作流程中的部署。\n",
      "\n",
      "然而，尽管XAI技术的发展，深度学习模型在实际临床实践环境中普遍实施之前仍然需要解决一些关键问题。这些问题包括对个体DL算法的泛化性的担忧，对提出的模型进行独立验证和比较的需求，以及为证明这些AI解决方案的正确功能而进行严格的验证和质量保证程序的必要性。\n",
      "\n",
      "总之，虽然支持向量机和随机森林提供了一定程度的可解释性，但深度学习模型的复杂性通常使它们看起来像“黑匣子”。然而，XAI技术的发展正开始揭示这些“黑匣子”，提供了对这些模型如何运作的更深入的理解，并为它们在各个领域，包括医学研究和临床决策制定，更广泛地采用铺平了道路。\n",
      "Response Tokens count: [723]\n"
     ]
    }
   ],
   "source": [
    "section_2_1_1_sum, section_2_1_1_sum_trans = summarize_and_translate_section(\n",
    "    section_2_1_1,\n",
    "    section_2_1_1_queries_str,\n",
    "    word_count=600,\n",
    "    extra_prompt=\"\"\"\n",
    "    你应当重点陈述 SVM、random forests 和 deep learning 的对比。\n",
    "    \"\"\",\n",
    ")"
   ]
  },
  {
   "cell_type": "code",
   "execution_count": 3,
   "id": "3a9f953e-ba9b-4a65-b009-59389d257c53",
   "metadata": {
    "collapsed": true,
    "jupyter": {
     "outputs_hidden": true
    },
    "scrolled": true
   },
   "outputs": [
    {
     "data": {
      "text/plain": [
       "['Textual explanation is a form of XAI that provides textual descriptions.\\nSuch descriptions include relatively simple characteristics (e.g.\\n‘spiculated mass’), up to entire medical reports.\\nWe will describe three types of textual explanation: image captioning, image captioning with visual explanation, and testing with concept attribution.',\n",
       " 'This study used bibliometrics to conduct an in-depth analysis of the published literature on AI in liver cancer.\\nThe results showed that AI has undergone rapid development and has a wide application in the diagnosis and treatment of liver diseases, especially in China, which has one of the highest incidences of liver cancer compared to other countries the world.\\nIn addition, intelligent analysis of imaging data is the hotspot and focus of current research in this field.\\nHowever, combined with the current clinical difficulties such as accurate screening of early-stage liver cancer patients and high-risk patients, and selection of reasonable treatment decisions for advanced liver cancer patients, the use of AI for the fusion analysis of multiple types data in the process of diagnosis and treatment of liver cancer and multi-modal treatment decision-making for liver cancer are still relatively rare, and may become a future research trend.',\n",
       " 'Recent advances in artificial intelligence (AI) methodologies have made great strides in automatically quantifying pathological patterns based on digital histological slides [18].\\nWith the integration of digital slides into the pathology workflow, advanced algorithms and computeraided techniques expand and reinforce their utilization in tumor diagnosis, prognostic prediction and therapy targeting, which enable the interpretation of information beyond human limits and ultimately, improve patient management [19-21].\\nFor HCC, survival indicators after liver resection were proposed based on weakly supervised deep learning methods, exhibiting high accuracy [22, 23].\\nWith largely uncovered invisible information available from HCC histology, further integration of recurrence prediction models and AI algorithms in transplant patients suffering from HCC deserve to be explored.\\nMoreover, a comprehensive research on correlation between HCC histological structures and prognosis is urgently needed.',\n",
       " 'Regarding data type, studies of AI in liver cancer started from the simple data modeling of genetic or molecular data (9-11).\\nWith the development of medical imaging, research on medical imaging has been gradually increasing.\\nCT, ultrasound, and MRI are the top three most used data types.\\nFirst, this may because CT and MRI can be used as the basis for clinical treatment strategies for patients with liver cancer based on guidelines for liver cancer diagnosis.\\nMoreover, ultrasound, as a screening method for patients at high risk of liver cancer, needs to be checked every six months.\\nTherefore, the data volume of these three imaging methods has greatly increased, which has promoted the development of AI in liver cancer (37-39).\\nSecond, compared with MRI, CT has the advantages of fast inspection speed and cost-effectiveness, and is an indispensable and important imaging method in the diagnosis and treatment of liver cancer.\\nFinally, although ultrasound is widely used in clinical practice, its image acquisition is seriously affected by the doctor’s operation technique and machine model, the resolution is low, and the processing is difficult.\\nTherefore, it is used less often than CT.\\nHowever, it is worth noting that contrast-enhanced ultrasound has now been included as a recommended imaging modality for the diagnosis of liver cancer (40, 41) and is also widely used in the development and prognostic evaluation of ultrasound-guided radiofrequency ablation.\\nThis suggests that we could pay attention to the important role of ultrasound in liver cancer clinics in future research.\\nAt the same time, few studies used pathological, genetic, and other clinical data (42-44).\\nThe main reason may be that the medical cost of genetic examination is high and the realization of AI in multiomics research is difficult.',\n",
       " 'Specific DL methods are considered ‘black-box’ models, so it is not easy to understand the processing of data.\\nThis has prohibited physicians from finding potential confounding variables.\\nThere has been much published about ‘black-box’ warning of algorithms.”* AI use can be ethically challenging, as patient preferences cannot be machine learnt.\\nAlso, in case of misdiagnosis, who shall be legally responsible - whether the endoscopist, the clinician or the programmer is still undecided?\\nMoreover, the racial distinction might be necessary for certain areas (as fibrosis in viral hepatitis), and it may be an inherent bias in AI.\\nSo, different population groups must be considered in developing and validating AI tools, to increase their sensitivity, specificity and accuracy.',\n",
       " 'The analysis of the global trend of publications and citations and productive countries/regions is mainly to comprehensively understand the development trends of AI on liver cancer from beginning to end.\\nThe analysis of institutions, authors, and co-cited authors can quantitatively describe the strength of the cooperation between authors and institutions (30-32).\\nAdditionally, the analysis of top journals can analyze the level of cooperation and relationships in the concentrated fields of journals, which is beneficial to cross field cooperation in research (32).\\nIn particular, cluster co-occurrence analysis of keywords from different perspectives such as disease, data type, clinical goals, and clinical methods can help us understand the main topics and research trends in the current field of AI in liver cancer field.',\n",
       " 'Background and Objective: Machine learning (ML) models are increasingly being utilized in oncology research for use in the clinic.\\nHowever, while more complicated models may provide improvements in predictive or prognostic power, a hurdle to their adoption are limits of model interpretability, wherein the inner workings can be perceived as a “black box”.\\nExplainable artificial intelligence (XAT) frameworks including Local Interpretable Model-agnostic Explanations (LIME) and SHapley Additive exPlanations (SHAP) are novel, model-agnostic approaches that aim to provide insight into the inner workings of the “black box” by producing quantitative visualizations of how model predictions are calculated.\\nIn doing so, XAI can transform complicated ML models into easily understandable charts and interpretable sets of rules, which can give providers with an intuitive understanding of the knowledge generated, thus facilitating the deployment of such models in routine clinical workflows.',\n",
       " 'AI is an upcoming promising technology that is rapidly becoming an essential part of patient management.\\nApplications of AI have expanded in all branches of medicines, especially endoscopy and hepatology.\\nThe conglomeration of data which can be clinical/laboratory, multi-omics, natural language processing (NLP) and Image recognition (both radiology-based and pathology-based) has contributed to the prediction of fibrosis, classification of liver masses and prediction of treatment response and transplant outcomes.\\n’® In this review the majority of studies mentioned focussed on diagnosis part.\\nThere are very few studies that help to predict treatment response, post-liver transplant response, and prediction of hepatotoxicity in newer drug development and more studies are needed.\\nAI also helps for realtime biomonitoring, by identification of patients at high risk of clinical decompensation and hospital admission, so that timely intervention can be done for high-risk patients.\\nWith the increasing advancement of image capture and storage, AI will bring striking changes to the diagnosis of various liver diseases with the ‘big data’ being available.\\nHowever, there are many hurdles to overcome, which researchers will do in the near future using validation studies and molecular research.\\nIt is expected that gastroenterology and hepatology will be one of the first areas in medicine to introduce AI tools on a wide-scale basis, due to its inherent reliance on endoscopic and radiological imaging.\\nHence, GI and liver specialists should be proud that our field sets the ground for AI development in medicine.',\n",
       " 'There are several key issues to address before DL-based AI models can be universally implemented in real world clinical practice settings.\\nDue to their complexity, DL models are traditionally considered to be “black-box” models, meaning humans cannot understand how the DL models make their predictions.\\nInterpretability of the DL models are crucial for physicians to accept and trust them in everyday clinical practice, and for troubleshooting and improving the models for rare cases.\\nThis is being addressed by recent developments in various “explainable AI” techniques but currently there is no clear consensus on the best methodology.\\nAnother potential limitation is the generalizability of the individual DL algorithms.\\nConcerns have been raised that AI algorithms developed at highly specialized academic medical centers using their own patients’ data may over-represent certain groups of patients and not accurately reflect the real-world population of patients seen at local community hospitals.\\nFinally, AI models, like other prediction models, are often not publicly available, limiting external validation.\\nIndependent validation of the proposed model and comparison to old models are as important as deriving new models.\\nLarge-scale,',\n",
       " 'Studies on the treatment and prognosis of liver cancer mainly focused on the survival of a specific surgical method (59-66), such as radiofrequency ablation, transarterial chemoembolization and etc.\\nReports have proven that the modern therapies integrate a variety of neoadjuvant and adjuvant strategies have achieved dramatic improvements in survival, especially for patients with advanced HCC (66, 67).\\nBut the division of the patient population, the choice of potentially disclosing novel biomarkers still are controversies and the decision-making of precision treatment methods adapted to the specific patients, AI can play a role in this, but related research has not yet been seen.',\n",
       " 'As more and more researchers are interested in the use of AI in liver cancer, a large number of related studies have started being published.\\nFor example, reviews describing an overview of deep learning, convolutional neural networks and other AI technologies applications in liver cancer (20-22), reviews on the applications of AI on assisted imaging in diagnosis, prognosis and detection of liver cancer (23-25), and explained the latest research, on limitations and future development trends of AI have all been recently published.\\nHowever, current reviews may be unable to explore grasp the latest research trends and hotspots in this field because of lack of a large number of publications.\\nMeanwhile, there is a lack of quantitative analysis of all',\n",
       " 'certain direction.\\nHowever, they lack a quantitative analysis based on the available literatures.\\nTherefore, a bibliometrics analysis was conducted in our study to summary the research status of AI in liver cancer.\\nBibliometrics analysis uses mathematical and statistical methods to study the literature system and bibliometric characteristics in a given field to mine the distribution structure, quantitative relationships, and changes of literature in this field.\\nVisual display with the help of special software plays an important role in understanding the current development status and development trend of the field.\\nHowever, our research also has limitations.\\nFirst, we only included English articles in the WoSCC database and did not include articles in other databases or languages, which could lead to the omission of many studies.\\nSecond, keyword screening may not be perfect and could lead to omission of literature.',\n",
       " 'Previous meta-analyses and literature reviews focused on the applications of specific technologies in liver cancer or the development status of specific liver disease (22-29), such as reviewing studies on AI on assisted imaging in the diagnosis, prognosis and detection of liver cancer, or explaining the latest research, limitations, and future development trends of AI in a',\n",
       " 'Therefore, we aimed to quantitatively analyze existing studies involving AI in liver cancer using bibliometrics to provide the current research progress, hotspots, and emerging trends for AI in liver cancer which may help researchers better understand grasp future research interest.\\nInformation was collated regarding countries/regions, institutions, authors, and journals with the highest citations and publications and keywords.',\n",
       " 'literature in this field.\\nAdditionally, a summary and quantitative analyses of the global development trend and research hotspots of AI in liver cancer is of great importance for future research.\\nBibliometrics is a method of information visualization which can achieve quantitative analysis of literature in a specific research field in a worldwide context through statistical methods and visualizing the results with the help of software (26-29).\\nBibliometrics plays an important role in sorting out development trends and research hotspots of a given field and has been widely used in many fields (26-29).',\n",
       " 'Another rapidly growing area of research is focused on improved characterisation of indeterminate liver lesions.\\nIn clinical practice, when an abdominal ultrasound shows a new liver lesion, a patient is typically referred for further imaging, with contrast-enhanced CT or MRI.\\nBased on the fulfilment of specific radiologic criteria, certain liver lesions may be considered as having pathognomonic features of HCC, and thus do not require liver biopsy for further histological confirmation.\\nHowever, liver nodules imaged by CT or MRI often demonstrate indeterminate features, for which current recommendations include either liver biopsy or close interval follow-up with serial imaging.”° This practice is sub-optimal, resulting in numerous imaging studies, patient stress, and the potential for delayed diagnoses of liver cancer.\\nFor this reason, a growing body of recent literature has explored AI approaches to improve risk stratification of indeterminate liver lesions, to facilitate earlier and more accurate detection of HCC.',\n",
       " 'Optimistically, ML/DL systems could help resolve the diagnostic, prognostic and predictive issues that limit liver histopathology image analysis.\\nThis would improve and facilitate clinical trials in liver disease in which inclusion criteria, patient strata and histological endpoints are often manually defined by pathologists and therefore subject to intra- and inter-observer variability.\\n*° As in other disease contexts, there is a place in clinical decision making for invasive tissue-based diagnostics.\\nML/DL approaches could conceivably improve the consistency, quality and amount of information which researchers and healthcare providers can extract from this tissue.\\nThe benefits of these ML/DL approaches to histopathological analysis may incentivise patients to undergo an invasive procedure such as liver biopsy.\\nHowever, for some problems in the management of liver disease, non-invasive radiology images, instead of invasive diagnostics, can be analysed to unveil biomarkers.\\nIn the following section, we will review the state of the art in ML/DL approaches applied to such radiology data.',\n",
       " 'In this quantitative study, in order to systematically and quantitatively analyze the research status of AI in liver cancer, and explore the future research trends and hotspots in this field, we used a bibliometrics method to analyze the current research status of AI in liver cancer in terms of publication and citation trends, countries/ regions and institutions, authors and co-cited authors, journals, cited references and co-citation references, and keywords.\\nUltimately, 1724 articles focusing on Al in liver cancer were collected from the WoSCC database and analyzed.',\n",
       " 'In most human cancers, prognosis is strongly related to pathological criteria.\\n(2) Indeed, the histological analysis of tumor tissues provides crucial information for the stratification of patients and treatment  allocation.\\n(2) The recent development of slide digitization and computational/mathematical image processing promises to improve and standardize various pathological and morphological analyses, and may also facilitate the extraction of “hidden” imaging features potentially providing useful clinical and/or biological information.\\n(3) In a recent pioneering study simulating routine pathology workflows, a subset of deep learning-based algorithms outperformed a panel of 11 pathologists at detecting lymph node metastases of breast cancers.\\n(4) Coudray and coworkers have also shown that neural networks applied on whole-slide digitized histological images (WSls) can diagnose the main histological subtypes of non-small cell lung cancer and predict the mutational status of various genes (e.g.\\nSTK11, EGFR).\\n(5) There is growing evidence to suggest that the computational processing of WSls will refine the prediction of patient prognosis, thereby improving treatment allocation.\\n(6, 7) Yu and coworkers have demonstrated that digital image analysis software can extract significant prognostic features from hematein and eosin-stained slides in lung cancer.\\n(6) Convolutional neural networks have also been reported to predict the aggressiveness of various human malignancies.\\n(7, 8)',\n",
       " 'In these two previous studies, pathological signatures were directly generated and extracted by traditional CNNs.\\nCNNs are usually regarded as a “black box”, in which the data are processed through complex computing layers; thus, it is difficult to concretize and interpret the relevant features of samples.\\nIn the present research, we manually input abundant signatures of the most relevant tiles, automatically screened the signatures with the recurrence time as the labels via LASSO Cox regression, and visually presented the weight of each signature.\\nThis procedure bypassed the need for the manual recognition of numerous postprocess tiles.\\nIn addition, the image signatures that came from empirical utilization ensured the feasibility (36, 37).']"
      ]
     },
     "metadata": {},
     "output_type": "display_data"
    }
   ],
   "source": [
    "section_3_1_3_1 = \"Textual (Image captioning) explanation of Strategies for unraveling the “black-box” of AI-based pathological analysis of liver cancer\"\n",
    "section_3_1_3_1_queries_str, section_3_1_3_1_queries = retrieve_doc(section_3_1_3_1)"
   ]
  },
  {
   "cell_type": "code",
   "execution_count": 4,
   "id": "14503dcb-6aee-4fab-94eb-83a336ffba32",
   "metadata": {},
   "outputs": [
    {
     "name": "stdout",
     "output_type": "stream",
     "text": [
      "Prompt Tokens count: [3477]\n",
      "```\n",
      "Topic: Textual (Image captioning) explanation of Strategies for unraveling the “black-box” of AI-based pathological analysis of liver cancer\n",
      "Statement: Artificial Intelligence (AI) has seen rapid development and wide application in the diagnosis and treatment of liver diseases, particularly liver cancer. A significant focus of current research is the intelligent analysis of imaging data, such as CT, ultrasound, and MRI scans. However, the use of AI in the fusion analysis of multiple types of data in the diagnosis and treatment process of liver cancer is still relatively rare. The integration of digital slides into the pathology workflow has enabled the interpretation of information beyond human limits, improving patient management. Still, the \"black-box\" nature of specific Deep Learning (DL) methods makes it challenging to understand the data processing, which can inhibit the identification of potential confounding variables. Explainable AI (XAI) frameworks such as Local Interpretable Model-agnostic Explanations (LIME) and SHapley Additive exPlanations (SHAP) aim to provide insight into the inner workings of the \"black box\", transforming complicated Machine Learning (ML) models into easily understandable charts and interpretable sets of rules. This facilitates the deployment of such models in routine clinical workflows. Despite this, there are several key issues to address before DL-based AI models can be universally implemented in real-world clinical practice settings. This includes the interpretability of the DL models and the generalizability of the individual DL algorithms. Furthermore, AI models are often not publicly available, limiting external validation. The future of AI in liver cancer research looks promising, with the expectation of overcoming current hurdles through validation studies and molecular research.\n",
      "```\n",
      "Response Tokens count: [338]\n",
      "Prompt Tokens count: [338]\n",
      "主题：AI基础肝癌病理分析\"黑匣子\"揭秘的文本（图像说明）\n",
      "陈述：人工智能（AI）在肝病诊断和治疗，特别是肝癌领域，已经取得了迅猛的发展和广泛的应用。当前研究的一个重要焦点是对影像数据的智能分析，如CT、超声和MRI扫描。然而，在肝癌的诊断和治疗过程中，将AI用于多种数据的融合分析仍然相对罕见。数字切片的整合进入病理学工作流程使信息的解释超越了人类的限制，改善了患者管理。然而，特定深度学习（DL）方法的\"黑匣子\"性质使理解数据处理变得具有挑战性，这可能会阻碍潜在混淆变量的识别。可解释人工智能（XAI）框架，如局部可解释模型无关解释（LIME）和SHapley可加性解释（SHAP），旨在提供对\"黑匣子\"内部运作的洞察，将复杂的机器学习（ML）模型转化为易于理解的图表和可解释的规则集。这有助于将这些模型部署到例行的临床工作流程中。尽管如此，在DL基础的AI模型可以在实际临床实践环境中得到普遍应用之前，还有一些关键问题需要解决。这包括DL模型的可解释性以及各个DL算法的泛化能力。此外，AI模型通常不向公众开放，限制了外部验证。肝癌研究中AI的未来看似充满希望，通过验证研究和分子研究来克服当前的障碍是预期的。\n",
      "Response Tokens count: [568]\n"
     ]
    }
   ],
   "source": [
    "section_3_1_3_1_sum, section_3_1_3_1_sum_trans = summarize_and_translate_section(\n",
    "    section_3_1_3_1,\n",
    "    section_3_1_3_1_queries_str,\n",
    "    word_count=500,\n",
    "    extra_prompt=\"\"\"\n",
    "    你应当重点论述 Textual (Image captioning) 的机理和作用。\n",
    "    \"\"\",\n",
    ")"
   ]
  },
  {
   "cell_type": "code",
   "execution_count": 4,
   "id": "5ced81a1-6bb8-4f64-a011-a5ec97f96664",
   "metadata": {
    "collapsed": true,
    "jupyter": {
     "outputs_hidden": true
    },
    "scrolled": true
   },
   "outputs": [
    {
     "data": {
      "text/plain": [
       "['Textual explanation is a form of XAI that provides textual descriptions.\\nSuch descriptions include relatively simple characteristics (e.g.\\n‘spiculated mass’), up to entire medical reports.\\nWe will describe three types of textual explanation: image captioning, image captioning with visual explanation, and testing with concept attribution.',\n",
       " 'These conflicting results demonstrate that more research is desired for visual explanation techniques in medical image analysis.\\nFor textual and example-based XAI, such rigorous comparison studies have not yet been performed.',\n",
       " 'Background and Objective: Machine learning (ML) models are increasingly being utilized in oncology research for use in the clinic.\\nHowever, while more complicated models may provide improvements in predictive or prognostic power, a hurdle to their adoption are limits of model interpretability, wherein the inner workings can be perceived as a “black box”.\\nExplainable artificial intelligence (XAT) frameworks including Local Interpretable Model-agnostic Explanations (LIME) and SHapley Additive exPlanations (SHAP) are novel, model-agnostic approaches that aim to provide insight into the inner workings of the “black box” by producing quantitative visualizations of how model predictions are calculated.\\nIn doing so, XAI can transform complicated ML models into easily understandable charts and interpretable sets of rules, which can give providers with an intuitive understanding of the knowledge generated, thus facilitating the deployment of such models in routine clinical workflows.',\n",
       " 'In case of textual explanation, validity can be assessed by comparing the generated textual explanation to the ground truth text.\\nIn case of example-based explanation, validity can be assessed by comparing relevant characteristics of found examples, such as patient or clinicopathological characteristics.\\nTo the best of our knowledge, there have not been such rigorous studies on validity performed for textual explanation and for example-based variation as there are for visual explanation (Arun et al., 2021).\\nHence, more research in this area is desired.',\n",
       " 'There are several key issues to address before DL-based AI models can be universally implemented in real world clinical practice settings.\\nDue to their complexity, DL models are traditionally considered to be “black-box” models, meaning humans cannot understand how the DL models make their predictions.\\nInterpretability of the DL models are crucial for physicians to accept and trust them in everyday clinical practice, and for troubleshooting and improving the models for rare cases.\\nThis is being addressed by recent developments in various “explainable AI” techniques but currently there is no clear consensus on the best methodology.\\nAnother potential limitation is the generalizability of the individual DL algorithms.\\nConcerns have been raised that AI algorithms developed at highly specialized academic medical centers using their own patients’ data may over-represent certain groups of patients and not accurately reflect the real-world population of patients seen at local community hospitals.\\nFinally, AI models, like other prediction models, are often not publicly available, limiting external validation.\\nIndependent validation of the proposed model and comparison to old models are as important as deriving new models.\\nLarge-scale,',\n",
       " 'An overview of papers using textual explanation in medical imaging is shown in Table 3.',\n",
       " 'In these two previous studies, pathological signatures were directly generated and extracted by traditional CNNs.\\nCNNs are usually regarded as a “black box”, in which the data are processed through complex computing layers; thus, it is difficult to concretize and interpret the relevant features of samples.\\nIn the present research, we manually input abundant signatures of the most relevant tiles, automatically screened the signatures with the recurrence time as the labels via LASSO Cox regression, and visually presented the weight of each signature.\\nThis procedure bypassed the need for the manual recognition of numerous postprocess tiles.\\nIn addition, the image signatures that came from empirical utilization ensured the feasibility (36, 37).',\n",
       " \"specifically, there have been surveys focused uniquely on transparent techniques for medical imaging.\\nThe interpretability methods to explain deep learning models were categorized in detail based on technical similarities, along with the progress made on the corresponding evaluation approaches in ref.\\n°.\\nAnother overview of deep learning-based XAI in medical image analysis is presented in ref.\\n*°, considering a variety of techniques that were adapted or developed to generate visual, textual, and example-based explanations in the medical domain.\\nSome of the observed trends and remarks in this survey match our perspective and recommendations in the design of transparent methods for medical imaging, including the lack of evaluation as a standard practice, the user-dependent nature of explanations, and the importance of active collaboration with experts to include domain information.\\nInstead of proposing a general perspective in a broad range of healthcare problems, some reviews focus on specific topics of medical image analysis.\\nTransparent ML for human experts in cancer diagnosis with Al is reviewed in ref.\\n'° with a focus on 2 aspects: ML model characteristics that are important in cancer prediction and treatment; and the application of ML in cancer cases.\\nThese two aspects are similar to our proposed theme “Interpretability” and “task”, but we summarize the two themes in the general medical image analysis area instead of limiting to cancer studies, include more on recent studies (starting from 2012), and focus on more recent ML techniques such as Convolution Neural Networks (CNNs).\\nLikewise, transparent ML in cancer detection is also reviewed in ref.\\n°° and structured following the same aspects of generic transparent ML techniques, such as Local vs.\\nGlobal and Ad-Hoc vs. Post-Hoc.\\ndistinctions\",\n",
       " 'The stakes of medical decision making are often high.\\nNot surprisingly, medical experts have voiced their concern about the black box nature of deep learning (Jia et al., 2020), which is the current state of the art in medical image analysis (Litjens et al., 2017; Meijering, 2020; Shen et al., 2017).\\nFurthermore, regulations such as the European Union’s General Data Protection Regulation (GDPR, Article 15) require the right of patients to receive meaningful information about how a decision was rendered.',\n",
       " 'AI is an upcoming promising technology that is rapidly becoming an essential part of patient management.\\nApplications of AI have expanded in all branches of medicines, especially endoscopy and hepatology.\\nThe conglomeration of data which can be clinical/laboratory, multi-omics, natural language processing (NLP) and Image recognition (both radiology-based and pathology-based) has contributed to the prediction of fibrosis, classification of liver masses and prediction of treatment response and transplant outcomes.\\n’® In this review the majority of studies mentioned focussed on diagnosis part.\\nThere are very few studies that help to predict treatment response, post-liver transplant response, and prediction of hepatotoxicity in newer drug development and more studies are needed.\\nAI also helps for realtime biomonitoring, by identification of patients at high risk of clinical decompensation and hospital admission, so that timely intervention can be done for high-risk patients.\\nWith the increasing advancement of image capture and storage, AI will bring striking changes to the diagnosis of various liver diseases with the ‘big data’ being available.\\nHowever, there are many hurdles to overcome, which researchers will do in the near future using validation studies and molecular research.\\nIt is expected that gastroenterology and hepatology will be one of the first areas in medicine to introduce AI tools on a wide-scale basis, due to its inherent reliance on endoscopic and radiological imaging.\\nHence, GI and liver specialists should be proud that our field sets the ground for AI development in medicine.',\n",
       " 'literature in this field.\\nAdditionally, a summary and quantitative analyses of the global development trend and research hotspots of AI in liver cancer is of great importance for future research.\\nBibliometrics is a method of information visualization which can achieve quantitative analysis of literature in a specific research field in a worldwide context through statistical methods and visualizing the results with the help of software (26-29).\\nBibliometrics plays an important role in sorting out development trends and research hotspots of a given field and has been widely used in many fields (26-29).',\n",
       " 'Regarding data type, studies of AI in liver cancer started from the simple data modeling of genetic or molecular data (9-11).\\nWith the development of medical imaging, research on medical imaging has been gradually increasing.\\nCT, ultrasound, and MRI are the top three most used data types.\\nFirst, this may because CT and MRI can be used as the basis for clinical treatment strategies for patients with liver cancer based on guidelines for liver cancer diagnosis.\\nMoreover, ultrasound, as a screening method for patients at high risk of liver cancer, needs to be checked every six months.\\nTherefore, the data volume of these three imaging methods has greatly increased, which has promoted the development of AI in liver cancer (37-39).\\nSecond, compared with MRI, CT has the advantages of fast inspection speed and cost-effectiveness, and is an indispensable and important imaging method in the diagnosis and treatment of liver cancer.\\nFinally, although ultrasound is widely used in clinical practice, its image acquisition is seriously affected by the doctor’s operation technique and machine model, the resolution is low, and the processing is difficult.\\nTherefore, it is used less often than CT.\\nHowever, it is worth noting that contrast-enhanced ultrasound has now been included as a recommended imaging modality for the diagnosis of liver cancer (40, 41) and is also widely used in the development and prognostic evaluation of ultrasound-guided radiofrequency ablation.\\nThis suggests that we could pay attention to the important role of ultrasound in liver cancer clinics in future research.\\nAt the same time, few studies used pathological, genetic, and other clinical data (42-44).\\nThe main reason may be that the medical cost of genetic examination is high and the realization of AI in multiomics research is difficult.',\n",
       " 'With the development of medical big data and computer technology, artificial intelligence (AI) based on machine learning and deep learning has been widely used in current medical research (3-6).\\nThrough self-learning, summary, and induction of data, it can produce an intelligent reasoning system and choose the optimal solution to guide clinical decision-making (7).\\nOriginal AI was based on traditional machine-learning methods, including support vector machine and random forest models, which all relied on human experience for learning and simple summary.\\nAs early as 2003, Hussain constructed a predictive system consisting of 12 genes, with Fisher’s linear classifier, for predicting early recurrence in patients with hepatocellular carcinoma (HCC) (8).\\nDuring this period, most studies have focused on simple analyses of data, such as genes and molecules (9-11).\\nWith the standardization of imaging diagnosis and its important role in the clinical diagnosis of liver cancer, AI research based on imaging has emerged by extracting high-throughput features that cannot be detected and defined by human eyes from large-scale image data to establish an intelligent decision -making model to assist clinical decisionmaking (12, 13).\\nIn particular, deep learning based on convolutional neural networks (CNNs) has promoted progress in liver cancer research (14-19).',\n",
       " 'Recent advances in artificial intelligence (AI) methodologies have made great strides in automatically quantifying pathological patterns based on digital histological slides [18].\\nWith the integration of digital slides into the pathology workflow, advanced algorithms and computeraided techniques expand and reinforce their utilization in tumor diagnosis, prognostic prediction and therapy targeting, which enable the interpretation of information beyond human limits and ultimately, improve patient management [19-21].\\nFor HCC, survival indicators after liver resection were proposed based on weakly supervised deep learning methods, exhibiting high accuracy [22, 23].\\nWith largely uncovered invisible information available from HCC histology, further integration of recurrence prediction models and AI algorithms in transplant patients suffering from HCC deserve to be explored.\\nMoreover, a comprehensive research on correlation between HCC histological structures and prognosis is urgently needed.',\n",
       " 'To facilitate transformation of imaging data into clinically accessible information, Al may derive predictions in a more personalised fashion.\\nTwo categories of AI that have shown promise in liver imaging are radiomics (relying on classical ML) and DL systems (relying on CNNs) (Fig.\\n2A).\\nRadiomics is a strongly supervised and expert-guided approach where hardcoded algorithms extract quantitative image features that are fed into an ML algorithm.°® In contrast, DL with a CNN constitutes an automatic feature extraction where the algorithm selflearns salient features and self-optimises parameters by running an input image through mathematical operations embedded in multiple layers.°°?\\nBecause both approaches aim to predict a pre-defined “ground truth,” they are considered supervised learning approaches.\\nHerein, we review AI tools for liver imaging in segmentation, classification of disease severity and lesions, and outcome prediction.',\n",
       " 'certain direction.\\nHowever, they lack a quantitative analysis based on the available literatures.\\nTherefore, a bibliometrics analysis was conducted in our study to summary the research status of AI in liver cancer.\\nBibliometrics analysis uses mathematical and statistical methods to study the literature system and bibliometric characteristics in a given field to mine the distribution structure, quantitative relationships, and changes of literature in this field.\\nVisual display with the help of special software plays an important role in understanding the current development status and development trend of the field.\\nHowever, our research also has limitations.\\nFirst, we only included English articles in the WoSCC database and did not include articles in other databases or languages, which could lead to the omission of many studies.\\nSecond, keyword screening may not be perfect and could lead to omission of literature.',\n",
       " 'Figure 1 Use of XAI in visualizing the inside of the “black box”.\\nXAI, explainable artificial intelligence.',\n",
       " 'This study used bibliometrics to conduct an in-depth analysis of the published literature on AI in liver cancer.\\nThe results showed that AI has undergone rapid development and has a wide application in the diagnosis and treatment of liver diseases, especially in China, which has one of the highest incidences of liver cancer compared to other countries the world.\\nIn addition, intelligent analysis of imaging data is the hotspot and focus of current research in this field.\\nHowever, combined with the current clinical difficulties such as accurate screening of early-stage liver cancer patients and high-risk patients, and selection of reasonable treatment decisions for advanced liver cancer patients, the use of AI for the fusion analysis of multiple types data in the process of diagnosis and treatment of liver cancer and multi-modal treatment decision-making for liver cancer are still relatively rare, and may become a future research trend.',\n",
       " 'In most human cancers, prognosis is strongly related to pathological criteria.\\n(2) Indeed, the histological analysis of tumor tissues provides crucial information for the stratification of patients and treatment  allocation.\\n(2) The recent development of slide digitization and computational/mathematical image processing promises to improve and standardize various pathological and morphological analyses, and may also facilitate the extraction of “hidden” imaging features potentially providing useful clinical and/or biological information.\\n(3) In a recent pioneering study simulating routine pathology workflows, a subset of deep learning-based algorithms outperformed a panel of 11 pathologists at detecting lymph node metastases of breast cancers.\\n(4) Coudray and coworkers have also shown that neural networks applied on whole-slide digitized histological images (WSls) can diagnose the main histological subtypes of non-small cell lung cancer and predict the mutational status of various genes (e.g.\\nSTK11, EGFR).\\n(5) There is growing evidence to suggest that the computational processing of WSls will refine the prediction of patient prognosis, thereby improving treatment allocation.\\n(6, 7) Yu and coworkers have demonstrated that digital image analysis software can extract significant prognostic features from hematein and eosin-stained slides in lung cancer.\\n(6) Convolutional neural networks have also been reported to predict the aggressiveness of various human malignancies.\\n(7, 8)',\n",
       " 'Overview of eXplainable AI (XAI) techniques used in medical image analysis, classified by the framework from Section 2.']"
      ]
     },
     "metadata": {},
     "output_type": "display_data"
    }
   ],
   "source": [
    "section_3_1_3_2 = \"Textual (Image captioning with visual explanation) explanation of Strategies for unraveling the “black-box” of AI-based pathological analysis of liver cancer\"\n",
    "section_3_1_3_2_queries_str, section_3_1_3_2_queries = retrieve_doc(section_3_1_3_2)"
   ]
  },
  {
   "cell_type": "code",
   "execution_count": 4,
   "id": "b509f264-ef60-422b-8711-25bd6d3a5efd",
   "metadata": {},
   "outputs": [
    {
     "name": "stdout",
     "output_type": "stream",
     "text": [
      "Prompt Tokens count: [3359]\n",
      "```\n",
      "Topic: Textual (Image captioning with visual explanation) explanation of Strategies for unraveling the “black-box” of AI-based pathological analysis of liver cancer\n",
      "\n",
      "Statement: The application of artificial intelligence (AI) in oncology, particularly in the pathological analysis of liver cancer, is rapidly expanding. However, the complexity of these AI models, often perceived as a \"black box\", presents a challenge to their wider adoption. Explainable AI (XAI) frameworks, such as Local Interpretable Model-agnostic Explanations (LIME) and SHapley Additive exPlanations (SHAP), are emerging strategies that aim to demystify the \"black box\" by providing quantitative visualizations of how model predictions are calculated.\n",
      "\n",
      "One form of XAI is textual explanation, which includes image captioning with visual explanation. This approach provides textual descriptions of the characteristics identified in images by the AI, transforming complex machine learning models into easily understandable charts and interpretable rules. This can provide healthcare providers with an intuitive understanding of the knowledge generated by the AI, facilitating the deployment of these models in routine clinical workflows.\n",
      "\n",
      "However, the validity of these textual explanations is an area requiring further research. This can be assessed by comparing the generated textual explanation to the ground truth text. Rigorous comparison studies have not yet been performed for textual and example-based XAI, indicating a need for more research in this area.\n",
      "\n",
      "In addition, the use of AI in the analysis of medical imaging, such as CT, ultrasound, and MRI scans, has been gradually increasing, with these being the top three most used data types in AI research on liver cancer. The development of AI in liver cancer research has been significantly advanced by deep learning based on convolutional neural networks (CNNs), although these are often regarded as a \"black box\".\n",
      "\n",
      "In conclusion, textual explanation, particularly image captioning with visual explanation, is a promising strategy for unraveling the “black-box” of AI-based pathological analysis of liver cancer. However, more research is needed to validate these explanations and to further develop and refine these XAI techniques.```\n",
      "Response Tokens count: [422]\n",
      "Prompt Tokens count: [422]\n",
      "话题：AI基础的肝癌病理分析的文本（带有视觉解释）解释策略\n",
      "\n",
      "声明：人工智能（AI）在肿瘤学中，特别是在肝癌的病理分析中的应用正在迅速扩展。然而，这些AI模型的复杂性，通常被视为“黑盒子”，对其更广泛的采用构成了挑战。可解释AI（XAI）框架，如局部可解释的模型不可知解释（LIME）和SHapley可加性解释（SHAP），是旨在通过提供模型预测如何计算的数量化可视化来揭示“黑盒子”的新兴策略。\n",
      "\n",
      "一种XAI形式是文本解释，其中包括带有视觉解释的图像字幕。这种方法提供了AI在图像中识别的特征的文本描述，将复杂的机器学习模型转化为容易理解的图表和可解释的规则。这可以使医疗提供者直观地了解AI生成的知识，促进这些模型在日常临床工作流程中的部署。\n",
      "\n",
      "然而，这些文本解释的有效性是一个需要进一步研究的领域。可以通过比较生成的文本解释与事实文本来评估这一点。对于文本和基于示例的XAI，尚未进行严格的比较研究，这表明需要在这个领域进行更多的研究。\n",
      "\n",
      "此外，人工智能在医学影像分析中的应用，如CT、超声和MRI扫描，逐渐增加，这些是关于肝癌的AI研究中使用最多的三种数据类型。卷积神经网络（CNN）为基础的深度学习已经显著推动了肝癌研究中的AI发展，尽管它们通常被视为“黑盒子”。\n",
      "\n",
      "总之，文本解释，特别是带有视觉解释的图像字幕，是揭示AI基础的肝癌病理分析“黑盒子”的有希望的策略。然而，需要进行更多的研究来验证这些解释，并进一步发展和完善这些XAI技术。\n",
      "Response Tokens count: [678]\n"
     ]
    }
   ],
   "source": [
    "section_3_1_3_2_sum, section_3_1_3_2_sum_trans = summarize_and_translate_section(\n",
    "    section_3_1_3_2,\n",
    "    section_3_1_3_2_queries_str,\n",
    "    word_count=600,\n",
    "    extra_prompt=\"\"\"\n",
    "    你应当重点论述 Textual (Image captioning with visual explanation) 的机理和作用。\n",
    "    \"\"\",\n",
    ")"
   ]
  },
  {
   "cell_type": "code",
   "execution_count": 5,
   "id": "7c43d13a-ed92-4438-8477-99167c5cc90d",
   "metadata": {},
   "outputs": [
    {
     "name": "stdout",
     "output_type": "stream",
     "text": [
      "Total 29 queries after combined.\n"
     ]
    }
   ],
   "source": [
    "section_3_1_3_combined_queries_str, _ = combine_query_results(\n",
    "    section_3_1_3_1_queries, section_3_1_3_2_queries\n",
    ")"
   ]
  },
  {
   "cell_type": "code",
   "execution_count": 6,
   "id": "f08d4fb8-716d-46e2-89be-c8165e2a8551",
   "metadata": {},
   "outputs": [
    {
     "name": "stdout",
     "output_type": "stream",
     "text": [
      "Topic: Textual explanation of Strategies for unraveling the “black-box” of AI-based pathological analysis of liver cancer\n",
      "Statement: Artificial Intelligence (AI) has been increasingly utilized in the diagnosis and treatment of liver cancer, particularly in China. The intelligent analysis of imaging data in liver cancer research is a current hot topic. However, the use of AI for fusion analysis of multiple types of data in liver cancer diagnosis and treatment is still relatively rare. AI technologies such as radiomics and deep learning systems have shown promise in liver imaging, aiding in disease severity classification, lesion segmentation, and outcome prediction. However, Convolutional Neural Networks (CNNs), a type of deep learning, are often viewed as a “black box” due to their complex data processing layers. Explainable AI (XAI) techniques are being developed to make these models more interpretable and transparent. AI also has potential in improving the consistency and quality of information extracted from tissue, which could help in clinical decision making. However, there are concerns about the generalizability and interpretability of AI models, and the potential for bias in their development. Despite these challenges, AI is expected to play a significant role in the future of liver cancer research and treatment.\n",
      "主题：揭开AI基础的肝癌病理分析“黑匣子”的策略\n",
      "\n",
      "陈述：人工智能（AI）在肝癌的诊断和治疗中的应用逐渐增多，尤其在中国。在肝癌研究中，智能分析影像数据是当前热门话题。然而，利用AI进行肝癌诊断和治疗中多种数据类型的融合分析仍相对罕见。AI技术，如放射学和深度学习系统，在肝脏影像方面显示出潜力，有助于疾病严重程度分类、病变分割和结果预测。然而，卷积神经网络（CNNs），一种深度学习类型，由于其复杂的数据处理层，常被视为“黑匣子”。可解释的人工智能（XAI）技术正在发展中，以使这些模型更具解释性和透明性。AI还有潜力改善从组织中提取的信息的一致性和质量，这有助于临床决策。然而，人们对AI模型的泛化能力和解释性，以及其开发中潜在的偏见存在担忧。尽管存在这些挑战，但预计AI将在肝癌研究和治疗的未来发挥重要作用。\n"
     ]
    }
   ],
   "source": [
    "section_3_1_3_comp_topic = \"Textual explanation of Strategies for unraveling the “black-box” of AI-based pathological analysis of liver cancer\"\n",
    "section_3_1_3_comp, section_3_1_3_comp_trans = summarize_and_translate_section(\n",
    "    section_3_1_3_comp_topic,\n",
    "    section_3_1_3_combined_queries_str,\n",
    "    word_count=400,\n",
    "    extra_prompt=\"\"\"\n",
    "    你应该避免介绍背景。你只需要论述在 Textual explanation 中 ，Image captioning 和 Image captioning with visual explanation的差别。\n",
    "    \"\"\",\n",
    ")"
   ]
  },
  {
   "cell_type": "code",
   "execution_count": null,
   "id": "28249706-7a66-4c31-917b-80e6f1c620ac",
   "metadata": {},
   "outputs": [],
   "source": [
    "\"Example-based (Triplet network) explanation of Strategies for unraveling the “black-box” of AI-based pathological analysis of liver cancer\""
   ]
  }
 ],
 "metadata": {
  "kernelspec": {
   "display_name": "Python 3 (ipykernel)",
   "language": "python",
   "name": "python3"
  },
  "language_info": {
   "codemirror_mode": {
    "name": "ipython",
    "version": 3
   },
   "file_extension": ".py",
   "mimetype": "text/x-python",
   "name": "python",
   "nbconvert_exporter": "python",
   "pygments_lexer": "ipython3",
   "version": "3.11.4"
  },
  "widgets": {
   "application/vnd.jupyter.widget-state+json": {
    "state": {},
    "version_major": 2,
    "version_minor": 0
   }
  }
 },
 "nbformat": 4,
 "nbformat_minor": 5
}
