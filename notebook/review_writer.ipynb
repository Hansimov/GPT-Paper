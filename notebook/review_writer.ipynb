{
 "cells": [
  {
   "cell_type": "code",
   "execution_count": 5,
   "id": "6bd0166d-e107-4dc3-a95d-f72a5357e3d2",
   "metadata": {
    "editable": true,
    "slideshow": {
     "slide_type": ""
    },
    "tags": []
   },
   "outputs": [
    {
     "name": "stdout",
     "output_type": "stream",
     "text": [
      "The autoreload extension is already loaded. To reload it, use:\n",
      "  %reload_ext autoreload\n",
      "Repo path:   [/mnt/sh_flex_storage/home/zehanyu/repos/GPT-Paper]\n",
      "Working dir: [/mnt/sh_flex_storage/home/zehanyu/repos/GPT-Paper/notebook]\n",
      "Now: [2023-09-08 17:35:26.034316]\n"
     ]
    }
   ],
   "source": [
    "%load_ext autoreload\n",
    "%autoreload\n",
    "%run -i \"startup.py\""
   ]
  },
  {
   "cell_type": "markdown",
   "id": "df4cf78b-92a0-4d92-9584-9b64ec8d9d3f",
   "metadata": {
    "editable": true,
    "jupyter": {
     "source_hidden": true
    },
    "slideshow": {
     "slide_type": ""
    },
    "tags": [
     "outline"
    ]
   },
   "source": [
    "Title: Unraveling the “black-box” of artificial intelligence-based pathological analysis of liver cancer\n",
    "\n",
    "# 1. Current advances of AI-based approaches for clinical management of liver cancer\n",
    "\n",
    "## 1.1 AI-based prognostication of liver cancer\n",
    "\n",
    "## 1.2 Molecular profiling of liver cancer via AI\n",
    "\n",
    "## 1.3 Exploring predictive indicators for therapy response\n",
    "\n",
    "# 2. Current challenges limiting AI-based approaches in the management of liver cancer\n",
    "\n",
    "(One paragraph highlighting the urgent need to explain the “black box” of deeplearning)\n",
    "\n",
    "# 3. Strategies for unraveling the “black-box” of AI-based pathological analysis of liver cancer\n",
    "\n",
    "## 3.1 Model-based explanation\n",
    "### 3.1.1 Support vector machine or random forests vs. deep learning\n",
    "### 3.1.2 Supervised learning vs. weakly supervised learning vs. unsupervised learning\n",
    "### 3.1.3 Textual explanation\n",
    "#### 3.1.3.1 Image captioning\n",
    "#### 3.1.3.2 Image captioning with visual explanation\n",
    "### 3.1.4 Example-based explanation \n",
    "#### 3.1.4.1 Triplet network\n",
    "#### 3.1.4.2 Prototypes\n",
    "\n",
    "## 3.2 Post hoc explanation\n",
    "\n",
    "### 3.2.1 Visual explanation (saliency mapping, pathologist-in-the-loop)\n",
    "#### 3.2.1.1 Backpropagation-based approaches\n",
    "      Including class activation mapping (CAM) and gradient-weighted class activation mapping (Grad-CAM)\n",
    "#### 3.2.1.2 Perturbation-based approaches\n",
    "      Including Occlusion sensitivity map (OSM), local interpretable model-agnostic explannations (LIME)\n",
    "#### 3.2.1.3 Multiple instance learning-based approaches\n",
    "\n",
    "### 3.2.2 Textual explanation\n",
    "   Testing with concept activation vectors (TCAV)\n",
    "### 3.2.3 Example-based explanation\n",
    "\n",
    "# 4. Conclusion and future applications"
   ]
  },
  {
   "cell_type": "code",
   "execution_count": 2,
   "id": "769fe72e-848f-4766-b89d-1aa91183f615",
   "metadata": {
    "editable": true,
    "slideshow": {
     "slide_type": ""
    },
    "tags": []
   },
   "outputs": [],
   "source": [
    "ipynb_name = \"review_writer.ipynb\"\n",
    "markdown_cells = get_notebook_cells(notebook_path=ipynb_name, cell_types=[\"markdown\"])\n",
    "outline_cells = [\n",
    "    cell for cell in markdown_cells if \"outline\" in cell[\"metadata\"][\"tags\"]\n",
    "]\n",
    "outline_content = \"\".join([cell[\"source\"] for cell in outline_cells])"
   ]
  },
  {
   "cell_type": "code",
   "execution_count": 6,
   "id": "193d8a37-cb0c-4096-be66-55539ae48bf0",
   "metadata": {
    "collapsed": true,
    "jupyter": {
     "outputs_hidden": true
    },
    "scrolled": true
   },
   "outputs": [
    {
     "name": "stdout",
     "output_type": "stream",
     "text": [
      "Prompt Tokens count: [709]\n",
      "[\n",
      "    {\n",
      "        \"idx\": 0,\n",
      "        \"level\": \"0\",\n",
      "        \"title\": \"Unraveling the “black-box” of artificial intelligence-based pathological analysis of liver cancer\",\n",
      "        \"intro\": \"A comprehensive exploration of the current advances, challenges, and strategies in applying AI for pathological analysis of liver cancer.\"\n",
      "    },\n",
      "    {\n",
      "        \"idx\": 1,\n",
      "        \"level\": \"1\",\n",
      "        \"title\": \"Current advances of AI-based approaches for clinical management of liver cancer\",\n",
      "        \"intro\": \"An overview of the latest developments in AI technologies and their applications in the clinical management of liver cancer.\"\n",
      "    },\n",
      "    {\n",
      "        \"idx\": 2,\n",
      "        \"level\": \"1.1\",\n",
      "        \"title\": \"AI-based prognostication of liver cancer\",\n",
      "        \"intro\": \"Discussion on how AI is being used to predict the progression and outcome of liver cancer.\"\n",
      "    },\n",
      "    {\n",
      "        \"idx\": 3,\n",
      "        \"level\": \"1.2\",\n",
      "        \"title\": \"Molecular profiling of liver cancer via AI\",\n",
      "        \"intro\": \"Insights into how AI is leveraged for molecular profiling of liver cancer for personalized treatment strategies.\"\n",
      "    },\n",
      "    {\n",
      "        \"idx\": 4,\n",
      "        \"level\": \"1.3\",\n",
      "        \"title\": \"Exploring predictive indicators for therapy response\",\n",
      "        \"intro\": \"Exploration of AI's role in identifying predictive indicators for therapy response in liver cancer treatment.\"\n",
      "    },\n",
      "    {\n",
      "        \"idx\": 5,\n",
      "        \"level\": \"2\",\n",
      "        \"title\": \"Current challenges limiting AI-based approaches in the management of liver cancer\",\n",
      "        \"intro\": \"A detailed analysis of the existing challenges and limitations in the use of AI for liver cancer management.\"\n",
      "    },\n",
      "    {\n",
      "        \"idx\": 6,\n",
      "        \"level\": \"3\",\n",
      "        \"title\": \"Strategies for unraveling the “black-box” of AI-based pathological analysis of liver cancer\",\n",
      "        \"intro\": \"A comprehensive discussion on various strategies to decode the complex workings of AI in pathological analysis of liver cancer.\"\n",
      "    },\n",
      "    {\n",
      "        \"idx\": 7,\n",
      "        \"level\": \"3.1\",\n",
      "        \"title\": \"Model-based explanation\",\n",
      "        \"intro\": \"An in-depth look into model-based explanations for AI's decision-making process in liver cancer analysis.\"\n",
      "    },\n",
      "    {\n",
      "        \"idx\": 8,\n",
      "        \"level\": \"3.1.1\",\n",
      "        \"title\": \"Support vector machine or random forests vs. deep learning\",\n",
      "        \"intro\": \"A comparative study of different AI models like support vector machines, random forests and deep learning for liver cancer analysis.\"\n",
      "    },\n",
      "    {\n",
      "        \"idx\": 9,\n",
      "        \"level\": \"3.1.2\",\n",
      "        \"title\": \"Supervised learning vs. weakly supervised learning vs. unsupervised learning\",\n",
      "        \"intro\": \"A thorough comparison of supervised, weakly supervised, and unsupervised learning approaches in AI for liver cancer analysis.\"\n",
      "    },\n",
      "    {\n",
      "        \"idx\": 10,\n",
      "        \"level\": \"3.1.3\",\n",
      "        \"title\": \"Textual explanation\",\n",
      "        \"intro\": \"Understanding how textual explanations can be generated from AI models for liver cancer analysis.\"\n",
      "    },\n",
      "    {\n",
      "        \"idx\": 11,\n",
      "        \"level\": \"3.1.3.1\",\n",
      "        \"title\": \"Image captioning\",\n",
      "        \"intro\": \"Insight into how AI can generate textual descriptions for pathological images in liver cancer analysis.\"\n",
      "    },\n",
      "    {\n",
      "        \"idx\": 12,\n",
      "        \"level\": \"3.1.3.2\",\n",
      "        \"title\": \"Image captioning with visual explanation\",\n",
      "        \"intro\": \"Discussion on how AI combines textual descriptions with visual explanations for a comprehensive understanding of liver cancer pathology.\"\n",
      "    },\n",
      "    {\n",
      "        \"idx\": 13,\n",
      "        \"level\": \"3.1.4\",\n",
      "        \"title\": \"Example-based explanation\",\n",
      "        \"intro\": \"Exploring how AI uses examples to provide explanations for its decisions in liver cancer analysis.\"\n",
      "    },\n",
      "    {\n",
      "        \"idx\": 14,\n",
      "        \"level\": \"3.1.4.1\",\n",
      "        \"title\": \"Triplet network\",\n",
      "        \"intro\": \"Understanding how the triplet network, an example-based explanation model, works in the context of AI-based liver cancer analysis.\"\n",
      "    },\n",
      "    {\n",
      "        \"idx\": 15,\n",
      "        \"level\": \"3.1.4.2\",\n",
      "        \"title\": \"Prototypes\",\n",
      "        \"intro\": \"Exploration of how prototypes are used as examples to explain AI decisions in liver cancer analysis.\"\n",
      "    },\n",
      "    {\n",
      "        \"idx\": 16,\n",
      "        \"level\": \"3.2\",\n",
      "        \"title\": \"Post hoc explanation\",\n",
      "        \"intro\": \"Discussion on post hoc explanations, which provide insights into AI decisions after they have been\n",
      "Response Tokens count: [1000] [stop]\n",
      "Continue ...\n",
      "Prompt Tokens count: [1717]\n",
      "[\n",
      "    ...\n",
      "    {\n",
      "        \"idx\": 16,\n",
      "        \"level\": \"3.2\",\n",
      "        \"title\": \"Post hoc explanation\",\n",
      "        \"intro\": \"Discussion on post hoc explanations, which provide insights into AI decisions after they have been made in the context of liver cancer analysis.\"\n",
      "    },\n",
      "    {\n",
      "        \"idx\": 17,\n",
      "        \"level\": \"3.2.1\",\n",
      "        \"title\": \"Visual explanation (saliency mapping, pathologist-in-the-loop)\",\n",
      "        \"intro\": \"Exploration of visual explanation techniques like saliency mapping and pathologist-in-the-loop in AI-based liver cancer analysis.\"\n",
      "    },\n",
      "    {\n",
      "        \"idx\": 18,\n",
      "        \"level\": \"3.2.1.1\",\n",
      "        \"title\": \"Backpropagation-based approaches\",\n",
      "        \"intro\": \"Insight into backpropagation-based approaches for visual explanation in AI-based liver cancer analysis.\"\n",
      "    },\n",
      "    {\n",
      "        \"idx\": 19,\n",
      "        \"level\": \"3.2.1.2\",\n",
      "        \"title\": \"Perturbation-based approaches\",\n",
      "        \"intro\": \"Understanding of perturbation-based approaches for providing visual explanations in AI-based liver cancer analysis.\"\n",
      "    },\n",
      "    {\n",
      "        \"idx\": 20,\n",
      "        \"level\": \"3.2.1.3\",\n",
      "        \"title\": \"Multiple instance learning-based approaches\",\n",
      "        \"intro\": \"Discussion on how multiple instance learning-based approaches contribute to visual explanations in AI-based liver cancer analysis.\"\n",
      "    },\n",
      "    {\n",
      "        \"idx\": 21,\n",
      "        \"level\": \"3.2.2\",\n",
      "        \"title\": \"Textual explanation\",\n",
      "        \"intro\": \"Insight into how textual explanations can be used in post hoc analysis of AI's decisions in liver cancer.\"\n",
      "    },\n",
      "    {\n",
      "        \"idx\": 22,\n",
      "        \"level\": \"3.2.3\",\n",
      "        \"title\": \"Example-based explanation\",\n",
      "        \"intro\": \"Exploring how example-based explanations can be used in post hoc analysis of AI's decisions in liver cancer.\"\n",
      "    },\n",
      "    {\n",
      "        \"idx\": 23,\n",
      "        \"level\": \"4\",\n",
      "        \"title\": \"Conclusion and future applications\",\n",
      "        \"intro\": \"Final thoughts on the current state of AI in liver cancer analysis and potential future developments in the field.\"\n",
      "    }\n",
      "]\n",
      "Response Tokens count: [474] [stop]\n"
     ]
    }
   ],
   "source": [
    "outline_filler.clear_history_messages()\n",
    "outline_filler_res = outline_filler.chat(outline_content, continous=True)"
   ]
  },
  {
   "cell_type": "raw",
   "id": "942bbdb9-1bb2-496a-9881-bc542f4e7779",
   "metadata": {},
   "source": [
    "A typical workflow of generate a detailed review of a section title:\n",
    "- [Agent] outline_filler: Fill in the outline with intros, and structuralize it to JSON with idx and levels.\n",
    "- [Agent] Synonymer: Generate similar texts for each sub-section\n",
    "- [Program] Retrieve and Re-rank from local embbedings of docs\n",
    "- [Agent] Summarizer: Summarize the above content into a section\n",
    "- [Agent] Polisher: Polish the content of the section"
   ]
  },
  {
   "cell_type": "code",
   "execution_count": 3,
   "id": "725ecc57-3a03-4931-b56d-16297893b51f",
   "metadata": {
    "collapsed": true,
    "jupyter": {
     "outputs_hidden": true
    },
    "scrolled": true
   },
   "outputs": [
    {
     "data": {
      "text/plain": [
       "[{'idx': 0,\n",
       "  'level': '0',\n",
       "  'title': 'Unraveling the “black-box” of artificial intelligence-based pathological analysis of liver cancer',\n",
       "  'intro': 'A comprehensive exploration of the current advances, challenges, and strategies in applying AI for pathological analysis of liver cancer.'},\n",
       " {'idx': 1,\n",
       "  'level': '1',\n",
       "  'title': 'Current advances of AI-based approaches for clinical management of liver cancer',\n",
       "  'intro': 'An overview of the latest developments in AI technologies and their applications in the clinical management of liver cancer.'},\n",
       " {'idx': 2,\n",
       "  'level': '1.1',\n",
       "  'title': 'AI-based prognostication of liver cancer',\n",
       "  'intro': 'Discussion on how AI is being used to predict the progression and outcome of liver cancer.'},\n",
       " {'idx': 3,\n",
       "  'level': '1.2',\n",
       "  'title': 'Molecular profiling of liver cancer via AI',\n",
       "  'intro': 'Insights into how AI is leveraged for molecular profiling of liver cancer for personalized treatment strategies.'},\n",
       " {'idx': 4,\n",
       "  'level': '1.3',\n",
       "  'title': 'Exploring predictive indicators for therapy response',\n",
       "  'intro': \"Exploration of AI's role in identifying predictive indicators for therapy response in liver cancer treatment.\"},\n",
       " {'idx': 5,\n",
       "  'level': '2',\n",
       "  'title': 'Current challenges limiting AI-based approaches in the management of liver cancer',\n",
       "  'intro': 'A detailed analysis of the existing challenges and limitations in the use of AI for liver cancer management.'},\n",
       " {'idx': 6,\n",
       "  'level': '3',\n",
       "  'title': 'Strategies for unraveling the “black-box” of AI-based pathological analysis of liver cancer',\n",
       "  'intro': 'A comprehensive discussion on various strategies to decode the complex workings of AI in pathological analysis of liver cancer.'},\n",
       " {'idx': 7,\n",
       "  'level': '3.1',\n",
       "  'title': 'Model-based explanation',\n",
       "  'intro': \"An in-depth look into model-based explanations for AI's decision-making process in liver cancer analysis.\"},\n",
       " {'idx': 8,\n",
       "  'level': '3.1.1',\n",
       "  'title': 'Support vector machine or random forests vs. deep learning',\n",
       "  'intro': 'A comparative study of different AI models like support vector machines, random forests and deep learning for liver cancer analysis.'},\n",
       " {'idx': 9,\n",
       "  'level': '3.1.2',\n",
       "  'title': 'Supervised learning vs. weakly supervised learning vs. unsupervised learning',\n",
       "  'intro': 'A thorough comparison of supervised, weakly supervised, and unsupervised learning approaches in AI for liver cancer analysis.'},\n",
       " {'idx': 10,\n",
       "  'level': '3.1.3',\n",
       "  'title': 'Textual explanation',\n",
       "  'intro': 'Understanding how textual explanations can be generated from AI models for liver cancer analysis.'},\n",
       " {'idx': 11,\n",
       "  'level': '3.1.3.1',\n",
       "  'title': 'Image captioning',\n",
       "  'intro': 'Insight into how AI can generate textual descriptions for pathological images in liver cancer analysis.'},\n",
       " {'idx': 12,\n",
       "  'level': '3.1.3.2',\n",
       "  'title': 'Image captioning with visual explanation',\n",
       "  'intro': 'Discussion on how AI combines textual descriptions with visual explanations for a comprehensive understanding of liver cancer pathology.'},\n",
       " {'idx': 13,\n",
       "  'level': '3.1.4',\n",
       "  'title': 'Example-based explanation',\n",
       "  'intro': 'Exploring how AI uses examples to provide explanations for its decisions in liver cancer analysis.'},\n",
       " {'idx': 14,\n",
       "  'level': '3.1.4.1',\n",
       "  'title': 'Triplet network',\n",
       "  'intro': 'Understanding how the triplet network, an example-based explanation model, works in the context of AI-based liver cancer analysis.'},\n",
       " {'idx': 15,\n",
       "  'level': '3.1.4.2',\n",
       "  'title': 'Prototypes',\n",
       "  'intro': 'Exploration of how prototypes are used as examples to explain AI decisions in liver cancer analysis.'},\n",
       " {'idx': 16,\n",
       "  'level': '3.2',\n",
       "  'title': 'Post hoc explanation',\n",
       "  'intro': 'Discussion on post hoc explanations, which provide insights into AI decisions after they have been made in the context of liver cancer analysis.'},\n",
       " {'idx': 17,\n",
       "  'level': '3.2.1',\n",
       "  'title': 'Visual explanation (saliency mapping, pathologist-in-the-loop)',\n",
       "  'intro': 'Exploration of visual explanation techniques like saliency mapping and pathologist-in-the-loop in AI-based liver cancer analysis.'},\n",
       " {'idx': 18,\n",
       "  'level': '3.2.1.1',\n",
       "  'title': 'Backpropagation-based approaches',\n",
       "  'intro': 'Insight into backpropagation-based approaches for visual explanation in AI-based liver cancer analysis.'},\n",
       " {'idx': 19,\n",
       "  'level': '3.2.1.2',\n",
       "  'title': 'Perturbation-based approaches',\n",
       "  'intro': 'Understanding of perturbation-based approaches for providing visual explanations in AI-based liver cancer analysis.'},\n",
       " {'idx': 20,\n",
       "  'level': '3.2.1.3',\n",
       "  'title': 'Multiple instance learning-based approaches',\n",
       "  'intro': 'Discussion on how multiple instance learning-based approaches contribute to visual explanations in AI-based liver cancer analysis.'},\n",
       " {'idx': 21,\n",
       "  'level': '3.2.2',\n",
       "  'title': 'Textual explanation',\n",
       "  'intro': \"Insight into how textual explanations can be used in post hoc analysis of AI's decisions in liver cancer.\"},\n",
       " {'idx': 22,\n",
       "  'level': '3.2.3',\n",
       "  'title': 'Example-based explanation',\n",
       "  'intro': \"Exploring how example-based explanations can be used in post hoc analysis of AI's decisions in liver cancer.\"},\n",
       " {'idx': 23,\n",
       "  'level': '4',\n",
       "  'title': 'Conclusion and future applications',\n",
       "  'intro': 'Final thoughts on the current state of AI in liver cancer analysis and potential future developments in the field.'}]"
      ]
     },
     "metadata": {},
     "output_type": "display_data"
    }
   ],
   "source": [
    "outline_details_json_path = \"data/review_outline_details.json\"\n",
    "with open(outline_details_json_path, \"r\", encoding=\"utf-8\") as rf:\n",
    "    outline_details_data = json.load(rf)\n",
    "display(outline_details_data)"
   ]
  },
  {
   "cell_type": "code",
   "execution_count": 6,
   "id": "3ca948c2-d240-45e2-91b9-d4f99bcac84a",
   "metadata": {},
   "outputs": [
    {
     "data": {
      "application/vnd.jupyter.widget-view+json": {
       "model_id": "0fc9e7c6355b46fcb03636bb7bf4be8c",
       "version_major": 2,
       "version_minor": 0
      },
      "text/plain": [
       "VBox(children=(Button(description='Summarize', icon='radiation', style=ButtonStyle(), tooltip='Summarize this …"
      ]
     },
     "metadata": {},
     "output_type": "display_data"
    }
   ],
   "source": [
    "section_1 = (\n",
    "    \"Current advances of AI-based approaches for clinical management of liver cancer\"\n",
    ")\n",
    "section_1_intro = \"An overview of the latest developments in AI technologies and their applications in the clinical management of liver cancer.\"\n",
    "section_viewer = SectionViewer(title=section_1, intro=section_1_intro)\n",
    "section_viewer.display()"
   ]
  },
  {
   "cell_type": "code",
   "execution_count": 6,
   "id": "0584f796-4bb1-4814-af20-6ad5fff56b53",
   "metadata": {},
   "outputs": [
    {
     "data": {
      "application/vnd.jupyter.widget-view+json": {
       "model_id": "178f482e30ab43de9f2c5b0537bd65b0",
       "version_major": 2,
       "version_minor": 0
      },
      "text/plain": [
       "HBox(children=(Accordion(children=(VBox(children=(Button(description='Summarize', icon='radiation', style=Butt…"
      ]
     },
     "metadata": {},
     "output_type": "display_data"
    }
   ],
   "source": [
    "article_viewer = ArticleViewer()\n",
    "article_viewer.display()"
   ]
  }
 ],
 "metadata": {
  "kernelspec": {
   "display_name": "Python 3 (ipykernel)",
   "language": "python",
   "name": "python3"
  },
  "language_info": {
   "codemirror_mode": {
    "name": "ipython",
    "version": 3
   },
   "file_extension": ".py",
   "mimetype": "text/x-python",
   "name": "python",
   "nbconvert_exporter": "python",
   "pygments_lexer": "ipython3",
   "version": "3.11.4"
  },
  "widgets": {
   "application/vnd.jupyter.widget-state+json": {
    "state": {
     "01fc1ac72a0d48c5bd177bfb034c8991": {
      "model_module": "@jupyter-widgets/controls",
      "model_module_version": "2.0.0",
      "model_name": "ButtonModel",
      "state": {
       "description": "Translate",
       "icon": "language",
       "layout": "IPY_MODEL_4e3bfe06265f459d803f7d619ef9d84b",
       "style": "IPY_MODEL_248d73576ee74af4aa35c75b19db153b",
       "tooltip": "Click and translate the details for this section"
      }
     },
     "020096f1a3bd460482c8eb81725be017": {
      "model_module": "@jupyter-widgets/controls",
      "model_module_version": "2.0.0",
      "model_name": "TextModel",
      "state": {
       "description": "Title",
       "layout": "IPY_MODEL_37bc44af66944cffa8e7ea4c949eaccc",
       "style": "IPY_MODEL_c349136d2a9e4dab935e7185826bc3b7",
       "value": "Current advances of AI-based approaches for clinical management of liver cancer"
      }
     },
     "03fade06b8c149598939d70c0fce2dfe": {
      "model_module": "@jupyter-widgets/controls",
      "model_module_version": "2.0.0",
      "model_name": "VBoxModel",
      "state": {
       "children": [
        "IPY_MODEL_b4c5a1002fec4e4d820c2807ff751707",
        "IPY_MODEL_76e430bbcae7469a938437a9e163cec9",
        "IPY_MODEL_4be0c18396f34cafb21b8c69a256cc85",
        "IPY_MODEL_6c8e6d2014f2464bb261af7f8a374f3c",
        "IPY_MODEL_6f472f5337254fa187c02b8a8274dfc1"
       ],
       "layout": "IPY_MODEL_1b76c5207250462295be27d6a947ae8f"
      }
     },
     "04a96c4797c64d19badbf8dd7839cabf": {
      "model_module": "@jupyter-widgets/controls",
      "model_module_version": "2.0.0",
      "model_name": "TextModel",
      "state": {
       "description": "Prompt",
       "layout": "IPY_MODEL_854372009b6540f1bef1889e931b6e5d",
       "placeholder": "",
       "style": "IPY_MODEL_2665e791da7f45fcbed05e30acf220c1"
      }
     },
     "05979e8bed644a45ab083947c49d4957": {
      "model_module": "@jupyter-widgets/controls",
      "model_module_version": "2.0.0",
      "model_name": "ButtonStyleModel",
      "state": {
       "font_family": null,
       "font_size": null,
       "font_style": null,
       "font_variant": null,
       "font_weight": null,
       "text_color": null,
       "text_decoration": null
      }
     },
     "08014545857845a49031dc991851cf89": {
      "model_module": "@jupyter-widgets/controls",
      "model_module_version": "2.0.0",
      "model_name": "ButtonStyleModel",
      "state": {
       "font_family": null,
       "font_size": null,
       "font_style": null,
       "font_variant": null,
       "font_weight": null,
       "text_color": null,
       "text_decoration": null
      }
     },
     "08ca9f8e88ca44e4a588c6a05781a1a2": {
      "model_module": "@jupyter-widgets/controls",
      "model_module_version": "2.0.0",
      "model_name": "TextStyleModel",
      "state": {
       "description_width": "50px",
       "font_size": null,
       "text_color": null
      }
     },
     "0a55003e3c61423b838b5052c40a1535": {
      "model_module": "@jupyter-widgets/controls",
      "model_module_version": "2.0.0",
      "model_name": "VBoxModel",
      "state": {
       "children": [
        "IPY_MODEL_12e31b02cb604dd2a1688720deaf5373",
        "IPY_MODEL_020096f1a3bd460482c8eb81725be017",
        "IPY_MODEL_d54635041bca47bbbe3115e453c80310",
        "IPY_MODEL_04a96c4797c64d19badbf8dd7839cabf",
        "IPY_MODEL_7a5971787bf54b3cbd99ab6b6c620fa9"
       ],
       "layout": "IPY_MODEL_fa103ecd4f1d4b01a03b38722834b3c6"
      }
     },
     "0aa1625532f24dc29fab99add44426e7": {
      "model_module": "@jupyter-widgets/base",
      "model_module_version": "2.0.0",
      "model_name": "LayoutModel",
      "state": {
       "justify_content": "flex-start",
       "width": "90%"
      }
     },
     "0ac9352af5da419d83523f8634b0be3b": {
      "model_module": "@jupyter-widgets/controls",
      "model_module_version": "2.0.0",
      "model_name": "TextStyleModel",
      "state": {
       "description_width": "50px",
       "font_size": null,
       "text_color": null
      }
     },
     "0ba5abb171bc47ed9e72e3002d59f4f6": {
      "model_module": "@jupyter-widgets/base",
      "model_module_version": "2.0.0",
      "model_name": "LayoutModel",
      "state": {}
     },
     "0cd99a706c2b40f1a662c18327b06afa": {
      "model_module": "@jupyter-widgets/base",
      "model_module_version": "2.0.0",
      "model_name": "LayoutModel",
      "state": {}
     },
     "0d24c358197547cb8009471964ff8ccb": {
      "model_module": "@jupyter-widgets/base",
      "model_module_version": "2.0.0",
      "model_name": "LayoutModel",
      "state": {}
     },
     "11cb21a0304348f3b51f788a10e368eb": {
      "model_module": "@jupyter-widgets/controls",
      "model_module_version": "2.0.0",
      "model_name": "TextModel",
      "state": {
       "description": "Intro",
       "layout": "IPY_MODEL_6ab5c556808e4131b1c6aaaa54b4f4b0",
       "style": "IPY_MODEL_43b4d6b214de4712b9257a9dcda78205",
       "value": "A detailed analysis of the existing challenges and limitations in the use of AI for liver cancer management."
      }
     },
     "11f91e1a03d64782a5acc32f8ef8c41a": {
      "model_module": "@jupyter-widgets/controls",
      "model_module_version": "2.0.0",
      "model_name": "TextModel",
      "state": {
       "description": "Prompt",
       "layout": "IPY_MODEL_bf9f71c944974eb1972ab01d2f18773c",
       "placeholder": "",
       "style": "IPY_MODEL_9c08cddcb2ca43ba98984e2a574c7851"
      }
     },
     "120ca41dc7954449b788715b8423a849": {
      "model_module": "@jupyter-widgets/base",
      "model_module_version": "2.0.0",
      "model_name": "LayoutModel",
      "state": {}
     },
     "12e31b02cb604dd2a1688720deaf5373": {
      "model_module": "@jupyter-widgets/controls",
      "model_module_version": "2.0.0",
      "model_name": "ButtonModel",
      "state": {
       "description": "Summarize",
       "icon": "radiation",
       "layout": "IPY_MODEL_b0611e74d33e407fbe3f11aa6ca710e0",
       "style": "IPY_MODEL_8a77a10d2c9a435eb4e3631253fc4a9f",
       "tooltip": "Summarize this section based on the topic and intro"
      }
     },
     "178f482e30ab43de9f2c5b0537bd65b0": {
      "model_module": "@jupyter-widgets/controls",
      "model_module_version": "2.0.0",
      "model_name": "HBoxModel",
      "state": {
       "children": [
        "IPY_MODEL_27250c735746443f95bc553a01f3e48e",
        "IPY_MODEL_f2b336db47644ad188472f305f7670ec"
       ],
       "layout": "IPY_MODEL_b17d6e22739a4274aba417ddd20167f6"
      }
     },
     "188af66d49bc475591ca5b690c0253e0": {
      "model_module": "@jupyter-widgets/controls",
      "model_module_version": "2.0.0",
      "model_name": "TextStyleModel",
      "state": {
       "description_width": "50px",
       "font_size": null,
       "text_color": null
      }
     },
     "1a276137b4e14a8780c3c5498711b7e9": {
      "model_module": "@jupyter-widgets/controls",
      "model_module_version": "2.0.0",
      "model_name": "TextStyleModel",
      "state": {
       "description_width": "",
       "font_size": null,
       "text_color": null
      }
     },
     "1a41742d7cf44ddb93f33cc85379c520": {
      "model_module": "@jupyter-widgets/base",
      "model_module_version": "2.0.0",
      "model_name": "LayoutModel",
      "state": {
       "justify_content": "flex-start",
       "width": "90%"
      }
     },
     "1a80571eae9942d0be3a5a62f4500d36": {
      "model_module": "@jupyter-widgets/base",
      "model_module_version": "2.0.0",
      "model_name": "LayoutModel",
      "state": {}
     },
     "1a9cd046f00c42e2ab8b419ee7870f0d": {
      "model_module": "@jupyter-widgets/controls",
      "model_module_version": "2.0.0",
      "model_name": "TextStyleModel",
      "state": {
       "description_width": "50px",
       "font_size": null,
       "text_color": null
      }
     },
     "1b6868163f204a7fbe41e3bd5270fb9a": {
      "model_module": "@jupyter-widgets/controls",
      "model_module_version": "2.0.0",
      "model_name": "TextModel",
      "state": {
       "layout": "IPY_MODEL_8dfa3554b59841829bd555ec11c57b0b",
       "style": "IPY_MODEL_bed154b7d56d49368afc93e51b916ce4",
       "value": "An overview of the latest developments in AI technologies and their applications in the clinical management of liver cancer."
      }
     },
     "1b76c5207250462295be27d6a947ae8f": {
      "model_module": "@jupyter-widgets/base",
      "model_module_version": "2.0.0",
      "model_name": "LayoutModel",
      "state": {}
     },
     "1c70adf60b474e2697155e669b6e632d": {
      "model_module": "@jupyter-widgets/controls",
      "model_module_version": "2.0.0",
      "model_name": "ButtonModel",
      "state": {
       "description": "Translate",
       "icon": "language",
       "layout": "IPY_MODEL_120ca41dc7954449b788715b8423a849",
       "style": "IPY_MODEL_36611195a91e426eb44fcac65385b37e",
       "tooltip": "Click and translate the details for this section"
      }
     },
     "1fbcb6a08dbd4fafbc965a64dea6732d": {
      "model_module": "@jupyter-widgets/base",
      "model_module_version": "2.0.0",
      "model_name": "LayoutModel",
      "state": {}
     },
     "2204b91acf694237abb4c6626658aeef": {
      "model_module": "@jupyter-widgets/controls",
      "model_module_version": "2.0.0",
      "model_name": "TextModel",
      "state": {
       "layout": "IPY_MODEL_d1eed8c8e3804bdcac84ce3e67fbb45f",
       "style": "IPY_MODEL_993827f002fa4cc2b4e03cd2b9840422",
       "value": "A comprehensive discussion on various strategies to decode the complex workings of AI in pathological analysis of liver cancer."
      }
     },
     "248d73576ee74af4aa35c75b19db153b": {
      "model_module": "@jupyter-widgets/controls",
      "model_module_version": "2.0.0",
      "model_name": "ButtonStyleModel",
      "state": {
       "font_family": null,
       "font_size": null,
       "font_style": null,
       "font_variant": null,
       "font_weight": null,
       "text_color": null,
       "text_decoration": null
      }
     },
     "24aa1dfe9e38450f9719f1497bf7ef69": {
      "model_module": "@jupyter-widgets/controls",
      "model_module_version": "2.0.0",
      "model_name": "TextModel",
      "state": {
       "description": "Prompt",
       "layout": "IPY_MODEL_fb240a1145114b8f864e83ec42206fe8",
       "placeholder": "",
       "style": "IPY_MODEL_e9462e17c4d84d2396f4a47d741ab3fa"
      }
     },
     "25ca28ce80c7432dbfe6eee500dc6f77": {
      "model_module": "@jupyter-widgets/controls",
      "model_module_version": "2.0.0",
      "model_name": "ButtonStyleModel",
      "state": {
       "font_family": null,
       "font_size": null,
       "font_style": null,
       "font_variant": null,
       "font_weight": null,
       "text_color": null,
       "text_decoration": null
      }
     },
     "2653ab2fb97247f3b15ca71fb8490128": {
      "model_module": "@jupyter-widgets/base",
      "model_module_version": "2.0.0",
      "model_name": "LayoutModel",
      "state": {}
     },
     "2665e791da7f45fcbed05e30acf220c1": {
      "model_module": "@jupyter-widgets/controls",
      "model_module_version": "2.0.0",
      "model_name": "TextStyleModel",
      "state": {
       "description_width": "50px",
       "font_size": null,
       "text_color": null
      }
     },
     "27250c735746443f95bc553a01f3e48e": {
      "model_module": "@jupyter-widgets/controls",
      "model_module_version": "2.0.0",
      "model_name": "AccordionModel",
      "state": {
       "children": [
        "IPY_MODEL_813c7725430c4743861e092b879e20d7",
        "IPY_MODEL_f257c5107f88418bba20da7ddd75b3c7",
        "IPY_MODEL_03fade06b8c149598939d70c0fce2dfe",
        "IPY_MODEL_fb35d670d4914a558086365b6a73aa77"
       ],
       "layout": "IPY_MODEL_ac064843ec364b03876484e9c1beecbf",
       "selected_index": 1,
       "titles": [
        "1 Current advances of AI-based approaches for clinical management of liver cancer",
        "2 Current challenges limiting AI-based approaches in the management of liver cancer",
        "3 Strategies for unraveling the “black-box” of AI-based pathological analysis of liver cancer",
        "4 Conclusion and future applications"
       ]
      }
     },
     "27968ae852d04c3fa863265444daee41": {
      "model_module": "@jupyter-widgets/controls",
      "model_module_version": "2.0.0",
      "model_name": "ButtonStyleModel",
      "state": {
       "button_color": "darkgreen",
       "font_family": null,
       "font_size": null,
       "font_style": null,
       "font_variant": null,
       "font_weight": null,
       "text_color": null,
       "text_decoration": null
      }
     },
     "2b080dca6763489d9b2414f3c936f19a": {
      "model_module": "@jupyter-widgets/controls",
      "model_module_version": "2.0.0",
      "model_name": "TextModel",
      "state": {
       "description": "Intro",
       "layout": "IPY_MODEL_456cc6b8cf02496eac02812810c5250d",
       "style": "IPY_MODEL_727a437f7b9149669645e7788ab5b90d",
       "value": "An overview of the latest developments in AI technologies and their applications in the clinical management of liver cancer."
      }
     },
     "2d10a75dab6e4014b83d55c29504dc85": {
      "model_module": "@jupyter-widgets/base",
      "model_module_version": "2.0.0",
      "model_name": "LayoutModel",
      "state": {}
     },
     "2d4fcac843994b369e743c519561e306": {
      "model_module": "@jupyter-widgets/base",
      "model_module_version": "2.0.0",
      "model_name": "LayoutModel",
      "state": {}
     },
     "3013d3d3259a4d2da3f8b3d4d8a91aaf": {
      "model_module": "@jupyter-widgets/base",
      "model_module_version": "2.0.0",
      "model_name": "LayoutModel",
      "state": {}
     },
     "301acd5bb91946659e3fe84827e50dbc": {
      "model_module": "@jupyter-widgets/controls",
      "model_module_version": "2.0.0",
      "model_name": "ButtonModel",
      "state": {
       "description": "Summarize",
       "icon": "radiation",
       "layout": "IPY_MODEL_7d065a6e4df44bf28a65287893415d5b",
       "style": "IPY_MODEL_c609d17d20e94cdf917f047c3afe92c8",
       "tooltip": "Summarize this section based on the topic and intro"
      }
     },
     "30d82c2780a7472d91b16ff7996a6ca8": {
      "model_module": "@jupyter-widgets/controls",
      "model_module_version": "2.0.0",
      "model_name": "ButtonModel",
      "state": {
       "description": "Translate",
       "icon": "language",
       "layout": "IPY_MODEL_7a6db3e736174f459093392d239194f0",
       "style": "IPY_MODEL_05979e8bed644a45ab083947c49d4957",
       "tooltip": "Click and translate the details for this section"
      }
     },
     "31dea2368a98460e84d105ccf2f59d3a": {
      "model_module": "@jupyter-widgets/output",
      "model_module_version": "1.0.0",
      "model_name": "OutputModel",
      "state": {
       "layout": "IPY_MODEL_3013d3d3259a4d2da3f8b3d4d8a91aaf"
      }
     },
     "350a5228fe844f3dae688e6063517c9c": {
      "model_module": "@jupyter-widgets/controls",
      "model_module_version": "2.0.0",
      "model_name": "TextStyleModel",
      "state": {
       "description_width": "50px",
       "font_size": null,
       "text_color": null
      }
     },
     "3551bb7240ba471d9652323cd3a7ee96": {
      "model_module": "@jupyter-widgets/controls",
      "model_module_version": "2.0.0",
      "model_name": "ButtonModel",
      "state": {
       "description": "Translate",
       "icon": "language",
       "layout": "IPY_MODEL_0cd99a706c2b40f1a662c18327b06afa",
       "style": "IPY_MODEL_25ca28ce80c7432dbfe6eee500dc6f77",
       "tooltip": "Click and translate the details for this section"
      }
     },
     "36611195a91e426eb44fcac65385b37e": {
      "model_module": "@jupyter-widgets/controls",
      "model_module_version": "2.0.0",
      "model_name": "ButtonStyleModel",
      "state": {
       "font_family": null,
       "font_size": null,
       "font_style": null,
       "font_variant": null,
       "font_weight": null,
       "text_color": null,
       "text_decoration": null
      }
     },
     "36f637579c6c4251973f47523401f283": {
      "model_module": "@jupyter-widgets/base",
      "model_module_version": "2.0.0",
      "model_name": "LayoutModel",
      "state": {}
     },
     "37bc44af66944cffa8e7ea4c949eaccc": {
      "model_module": "@jupyter-widgets/base",
      "model_module_version": "2.0.0",
      "model_name": "LayoutModel",
      "state": {
       "justify_content": "flex-start",
       "width": "90%"
      }
     },
     "38fea24757df4188804ada8e3359e41f": {
      "model_module": "@jupyter-widgets/controls",
      "model_module_version": "2.0.0",
      "model_name": "VBoxModel",
      "state": {
       "children": [
        "IPY_MODEL_a66350b95d104118a5c6b8409a289983",
        "IPY_MODEL_dee420a2277046738596b14e7ffff9ea",
        "IPY_MODEL_7b44ff1e77db42ef819685c42b7c8201",
        "IPY_MODEL_24aa1dfe9e38450f9719f1497bf7ef69",
        "IPY_MODEL_44f5c0f9319a4a5286ba95b59b6b23ce"
       ],
       "layout": "IPY_MODEL_47d67230786848899cab17f719351d3c"
      }
     },
     "3992980dbc8b4ea4b5a151d840c890e0": {
      "model_module": "@jupyter-widgets/base",
      "model_module_version": "2.0.0",
      "model_name": "LayoutModel",
      "state": {
       "justify_content": "flex-start",
       "width": "90%"
      }
     },
     "3e262dcdf71443c992cf82f8a69ee003": {
      "model_module": "@jupyter-widgets/controls",
      "model_module_version": "2.0.0",
      "model_name": "ButtonModel",
      "state": {
       "description": "Summarize",
       "icon": "radiation",
       "layout": "IPY_MODEL_36f637579c6c4251973f47523401f283",
       "style": "IPY_MODEL_4347b2b7280f45bba2f4a3c00ce08298",
       "tooltip": "Summarize this section based on the topic and intro"
      }
     },
     "425fcde4233249fe9ed92cd2d4ae5b9a": {
      "model_module": "@jupyter-widgets/controls",
      "model_module_version": "2.0.0",
      "model_name": "ButtonModel",
      "state": {
       "description": "Translate",
       "icon": "language",
       "layout": "IPY_MODEL_1a80571eae9942d0be3a5a62f4500d36",
       "style": "IPY_MODEL_5e04119d4f1543b98b21966f70cda3db",
       "tooltip": "Click and translate the details for this section"
      }
     },
     "4347b2b7280f45bba2f4a3c00ce08298": {
      "model_module": "@jupyter-widgets/controls",
      "model_module_version": "2.0.0",
      "model_name": "ButtonStyleModel",
      "state": {
       "font_family": null,
       "font_size": null,
       "font_style": null,
       "font_variant": null,
       "font_weight": null,
       "text_color": null,
       "text_decoration": null
      }
     },
     "43b4d6b214de4712b9257a9dcda78205": {
      "model_module": "@jupyter-widgets/controls",
      "model_module_version": "2.0.0",
      "model_name": "TextStyleModel",
      "state": {
       "description_width": "50px",
       "font_size": null,
       "text_color": null
      }
     },
     "44403c1586ea415d987680758c01ac75": {
      "model_module": "@jupyter-widgets/controls",
      "model_module_version": "2.0.0",
      "model_name": "TextStyleModel",
      "state": {
       "description_width": "50px",
       "font_size": null,
       "text_color": null
      }
     },
     "44f5c0f9319a4a5286ba95b59b6b23ce": {
      "model_module": "@jupyter-widgets/output",
      "model_module_version": "1.0.0",
      "model_name": "OutputModel",
      "state": {
       "layout": "IPY_MODEL_f22e3c294a52438d8e2c5af882825e36"
      }
     },
     "456cc6b8cf02496eac02812810c5250d": {
      "model_module": "@jupyter-widgets/base",
      "model_module_version": "2.0.0",
      "model_name": "LayoutModel",
      "state": {
       "justify_content": "flex-start",
       "width": "90%"
      }
     },
     "45a21c7df576457db49d282cbcc56a61": {
      "model_module": "@jupyter-widgets/controls",
      "model_module_version": "2.0.0",
      "model_name": "TextStyleModel",
      "state": {
       "description_width": "50px",
       "font_size": null,
       "text_color": null
      }
     },
     "47d67230786848899cab17f719351d3c": {
      "model_module": "@jupyter-widgets/base",
      "model_module_version": "2.0.0",
      "model_name": "LayoutModel",
      "state": {}
     },
     "4873422f8bbb49a5af16331c55cc57d2": {
      "model_module": "@jupyter-widgets/base",
      "model_module_version": "2.0.0",
      "model_name": "LayoutModel",
      "state": {}
     },
     "4be0c18396f34cafb21b8c69a256cc85": {
      "model_module": "@jupyter-widgets/controls",
      "model_module_version": "2.0.0",
      "model_name": "TextModel",
      "state": {
       "description": "Intro",
       "layout": "IPY_MODEL_bf7beba5428c4552ac7af5573840c5c8",
       "style": "IPY_MODEL_554024fd4bc84acc9fbcc5f6c7da9db8",
       "value": "A comprehensive discussion on various strategies to decode the complex workings of AI in pathological analysis of liver cancer."
      }
     },
     "4c27edb9474c45e09a16ac3c6e86e217": {
      "model_module": "@jupyter-widgets/controls",
      "model_module_version": "2.0.0",
      "model_name": "TextModel",
      "state": {
       "description": "Title",
       "layout": "IPY_MODEL_d398e416216846db95ca160c56401d7f",
       "style": "IPY_MODEL_350a5228fe844f3dae688e6063517c9c",
       "value": "Current challenges limiting AI-based approaches in the management of liver cancer"
      }
     },
     "4e3bfe06265f459d803f7d619ef9d84b": {
      "model_module": "@jupyter-widgets/base",
      "model_module_version": "2.0.0",
      "model_name": "LayoutModel",
      "state": {}
     },
     "50c203f2eda84e8aa3b357b27a342c14": {
      "model_module": "@jupyter-widgets/base",
      "model_module_version": "2.0.0",
      "model_name": "LayoutModel",
      "state": {
       "justify_content": "flex-start",
       "width": "90%"
      }
     },
     "5136c1645f67422faa2273bebf69230f": {
      "model_module": "@jupyter-widgets/output",
      "model_module_version": "1.0.0",
      "model_name": "OutputModel",
      "state": {
       "layout": "IPY_MODEL_bd3fea88353a41c89b7aeb1ef1771785"
      }
     },
     "51406ba0432546caa55e0f893db6780f": {
      "model_module": "@jupyter-widgets/controls",
      "model_module_version": "2.0.0",
      "model_name": "TextModel",
      "state": {
       "description": "Title",
       "layout": "IPY_MODEL_1a41742d7cf44ddb93f33cc85379c520",
       "style": "IPY_MODEL_08ca9f8e88ca44e4a588c6a05781a1a2",
       "value": "Current advances of AI-based approaches for clinical management of liver cancer"
      }
     },
     "554024fd4bc84acc9fbcc5f6c7da9db8": {
      "model_module": "@jupyter-widgets/controls",
      "model_module_version": "2.0.0",
      "model_name": "TextStyleModel",
      "state": {
       "description_width": "50px",
       "font_size": null,
       "text_color": null
      }
     },
     "57e075f4b5674631865d2834a0fc3e2e": {
      "model_module": "@jupyter-widgets/base",
      "model_module_version": "2.0.0",
      "model_name": "LayoutModel",
      "state": {}
     },
     "58c8e954157f49379079c95791a109c7": {
      "model_module": "@jupyter-widgets/controls",
      "model_module_version": "2.0.0",
      "model_name": "HBoxModel",
      "state": {
       "children": [
        "IPY_MODEL_bd03ea5faed147d59b97daa33d500093",
        "IPY_MODEL_72f61a2b38f6417a960257057501e510"
       ],
       "layout": "IPY_MODEL_a8ff6b06f9a042d0a094be1324813400"
      }
     },
     "5b0f3f4594774000a81f610f1a7c14d2": {
      "model_module": "@jupyter-widgets/controls",
      "model_module_version": "2.0.0",
      "model_name": "TextStyleModel",
      "state": {
       "description_width": "50px",
       "font_size": null,
       "text_color": null
      }
     },
     "5c9092c297ba46058485debea36a1019": {
      "model_module": "@jupyter-widgets/controls",
      "model_module_version": "2.0.0",
      "model_name": "ButtonStyleModel",
      "state": {
       "font_family": null,
       "font_size": null,
       "font_style": null,
       "font_variant": null,
       "font_weight": null,
       "text_color": null,
       "text_decoration": null
      }
     },
     "5e04119d4f1543b98b21966f70cda3db": {
      "model_module": "@jupyter-widgets/controls",
      "model_module_version": "2.0.0",
      "model_name": "ButtonStyleModel",
      "state": {
       "font_family": null,
       "font_size": null,
       "font_style": null,
       "font_variant": null,
       "font_weight": null,
       "text_color": null,
       "text_decoration": null
      }
     },
     "6129dd8810cf4a52af835e618ecab907": {
      "model_module": "@jupyter-widgets/controls",
      "model_module_version": "2.0.0",
      "model_name": "TextStyleModel",
      "state": {
       "description_width": "",
       "font_size": null,
       "text_color": null
      }
     },
     "620d51af616048bc959bc79d7eac493d": {
      "model_module": "@jupyter-widgets/base",
      "model_module_version": "2.0.0",
      "model_name": "LayoutModel",
      "state": {}
     },
     "65ed9db52530478f8e42673b44ddbe7b": {
      "model_module": "@jupyter-widgets/base",
      "model_module_version": "2.0.0",
      "model_name": "LayoutModel",
      "state": {
       "justify_content": "flex-start",
       "width": "90%"
      }
     },
     "6ab5c556808e4131b1c6aaaa54b4f4b0": {
      "model_module": "@jupyter-widgets/base",
      "model_module_version": "2.0.0",
      "model_name": "LayoutModel",
      "state": {
       "justify_content": "flex-start",
       "width": "90%"
      }
     },
     "6b655260fd81488f9ce2ca2420894539": {
      "model_module": "@jupyter-widgets/controls",
      "model_module_version": "2.0.0",
      "model_name": "TextModel",
      "state": {
       "description": "Intro",
       "layout": "IPY_MODEL_0aa1625532f24dc29fab99add44426e7",
       "style": "IPY_MODEL_e001dc86c68c41d68263eda9ae46e7e8",
       "value": "Final thoughts on the current state of AI in liver cancer analysis and potential future developments in the field."
      }
     },
     "6c8e6d2014f2464bb261af7f8a374f3c": {
      "model_module": "@jupyter-widgets/controls",
      "model_module_version": "2.0.0",
      "model_name": "TextModel",
      "state": {
       "description": "Prompt",
       "layout": "IPY_MODEL_50c203f2eda84e8aa3b357b27a342c14",
       "placeholder": "",
       "style": "IPY_MODEL_45a21c7df576457db49d282cbcc56a61"
      }
     },
     "6da1ff43515a4dab93da7063d96ffcb9": {
      "model_module": "@jupyter-widgets/output",
      "model_module_version": "1.0.0",
      "model_name": "OutputModel",
      "state": {
       "layout": "IPY_MODEL_93efafab0282418b9e8c8dc7e6e912ed"
      }
     },
     "6f472f5337254fa187c02b8a8274dfc1": {
      "model_module": "@jupyter-widgets/output",
      "model_module_version": "1.0.0",
      "model_name": "OutputModel",
      "state": {
       "layout": "IPY_MODEL_0d24c358197547cb8009471964ff8ccb"
      }
     },
     "727a437f7b9149669645e7788ab5b90d": {
      "model_module": "@jupyter-widgets/controls",
      "model_module_version": "2.0.0",
      "model_name": "TextStyleModel",
      "state": {
       "description_width": "50px",
       "font_size": null,
       "text_color": null
      }
     },
     "728e6187d4594625924b75f34e38258d": {
      "model_module": "@jupyter-widgets/base",
      "model_module_version": "2.0.0",
      "model_name": "LayoutModel",
      "state": {}
     },
     "72f61a2b38f6417a960257057501e510": {
      "model_module": "@jupyter-widgets/output",
      "model_module_version": "1.0.0",
      "model_name": "OutputModel",
      "state": {
       "layout": "IPY_MODEL_57e075f4b5674631865d2834a0fc3e2e"
      }
     },
     "73a7459664594b3e884e5031f7058707": {
      "model_module": "@jupyter-widgets/controls",
      "model_module_version": "2.0.0",
      "model_name": "TextModel",
      "state": {
       "description": "Intro",
       "layout": "IPY_MODEL_96589b3af7c040afa65311c1c66c55f2",
       "style": "IPY_MODEL_188af66d49bc475591ca5b690c0253e0",
       "value": "A detailed analysis of the existing challenges and limitations in the use of AI for liver cancer management."
      }
     },
     "765c2bb265404e31a31dc0bca84b2bcc": {
      "model_module": "@jupyter-widgets/base",
      "model_module_version": "2.0.0",
      "model_name": "LayoutModel",
      "state": {}
     },
     "76e430bbcae7469a938437a9e163cec9": {
      "model_module": "@jupyter-widgets/controls",
      "model_module_version": "2.0.0",
      "model_name": "TextModel",
      "state": {
       "description": "Title",
       "layout": "IPY_MODEL_65ed9db52530478f8e42673b44ddbe7b",
       "style": "IPY_MODEL_0ac9352af5da419d83523f8634b0be3b",
       "value": "Strategies for unraveling the “black-box” of AI-based pathological analysis of liver cancer"
      }
     },
     "7919bcf991674fba9481099aa7047a00": {
      "model_module": "@jupyter-widgets/controls",
      "model_module_version": "2.0.0",
      "model_name": "TextStyleModel",
      "state": {
       "description_width": "50px",
       "font_size": null,
       "text_color": null
      }
     },
     "7a5971787bf54b3cbd99ab6b6c620fa9": {
      "model_module": "@jupyter-widgets/output",
      "model_module_version": "1.0.0",
      "model_name": "OutputModel",
      "state": {
       "layout": "IPY_MODEL_b8a74f64db2c4793b66dbdbbc866a36d"
      }
     },
     "7a6db3e736174f459093392d239194f0": {
      "model_module": "@jupyter-widgets/base",
      "model_module_version": "2.0.0",
      "model_name": "LayoutModel",
      "state": {}
     },
     "7b44ff1e77db42ef819685c42b7c8201": {
      "model_module": "@jupyter-widgets/controls",
      "model_module_version": "2.0.0",
      "model_name": "TextModel",
      "state": {
       "description": "Intro",
       "layout": "IPY_MODEL_8e0c7462a4ac4865819feb427f4985d3",
       "style": "IPY_MODEL_fe2216782a5449c2ab77fd76a2959fdf",
       "value": "Final thoughts on the current state of AI in liver cancer analysis and potential future developments in the field."
      }
     },
     "7ba24f98ea3f4476932565fb6cec1ebb": {
      "model_module": "@jupyter-widgets/controls",
      "model_module_version": "2.0.0",
      "model_name": "VBoxModel",
      "state": {
       "children": [
        "IPY_MODEL_3e262dcdf71443c992cf82f8a69ee003",
        "IPY_MODEL_9de760d99df64938b9cb36cb0c3cc2b1",
        "IPY_MODEL_c0ad9b28595b4b3f8f15c2a37fcecd9c",
        "IPY_MODEL_d3c85481a3814923b22c728f63930242",
        "IPY_MODEL_31dea2368a98460e84d105ccf2f59d3a"
       ],
       "layout": "IPY_MODEL_bf9c328be1e64ecf902863438c64fa50"
      }
     },
     "7d065a6e4df44bf28a65287893415d5b": {
      "model_module": "@jupyter-widgets/base",
      "model_module_version": "2.0.0",
      "model_name": "LayoutModel",
      "state": {}
     },
     "7de847aecb484092a40e826eed3838ee": {
      "model_module": "@jupyter-widgets/base",
      "model_module_version": "2.0.0",
      "model_name": "LayoutModel",
      "state": {}
     },
     "7ebfb9db7b4d45ea905489731a01f02b": {
      "model_module": "@jupyter-widgets/controls",
      "model_module_version": "2.0.0",
      "model_name": "ButtonStyleModel",
      "state": {
       "font_family": null,
       "font_size": null,
       "font_style": null,
       "font_variant": null,
       "font_weight": null,
       "text_color": null,
       "text_decoration": null
      }
     },
     "7eef9ada5c2942b593b0ef4928f980ee": {
      "model_module": "@jupyter-widgets/controls",
      "model_module_version": "2.0.0",
      "model_name": "ButtonModel",
      "state": {
       "description": "Translate",
       "icon": "language",
       "layout": "IPY_MODEL_fec50c0a0da14ff1ae35a96e9dbb91b1",
       "style": "IPY_MODEL_996928cfeafa46afb25139f6ce3195d9",
       "tooltip": "Click and translate the details for this section"
      }
     },
     "813c7725430c4743861e092b879e20d7": {
      "model_module": "@jupyter-widgets/controls",
      "model_module_version": "2.0.0",
      "model_name": "VBoxModel",
      "state": {
       "children": [
        "IPY_MODEL_8a43b0c240de4fedaf250077453d32a4",
        "IPY_MODEL_51406ba0432546caa55e0f893db6780f",
        "IPY_MODEL_2b080dca6763489d9b2414f3c936f19a",
        "IPY_MODEL_11f91e1a03d64782a5acc32f8ef8c41a",
        "IPY_MODEL_cc39d5f7634b495bbe95ee577e38eb40"
       ],
       "layout": "IPY_MODEL_7de847aecb484092a40e826eed3838ee"
      }
     },
     "84008825eeeb4737af34b0fb65bde0db": {
      "model_module": "@jupyter-widgets/base",
      "model_module_version": "2.0.0",
      "model_name": "LayoutModel",
      "state": {
       "justify_content": "flex-start",
       "width": "90%"
      }
     },
     "84535a26372d4895a2bb073c68df56cc": {
      "model_module": "@jupyter-widgets/base",
      "model_module_version": "2.0.0",
      "model_name": "LayoutModel",
      "state": {
       "justify_content": "flex-start",
       "width": "90%"
      }
     },
     "854372009b6540f1bef1889e931b6e5d": {
      "model_module": "@jupyter-widgets/base",
      "model_module_version": "2.0.0",
      "model_name": "LayoutModel",
      "state": {
       "justify_content": "flex-start",
       "width": "90%"
      }
     },
     "870f3d9f1dcd41a0b523d5d271d04a79": {
      "model_module": "@jupyter-widgets/controls",
      "model_module_version": "2.0.0",
      "model_name": "TextModel",
      "state": {
       "description": "Prompt",
       "layout": "IPY_MODEL_d481e0a10a494d55b6ee37a5955f1997",
       "placeholder": "",
       "style": "IPY_MODEL_d13bb09eb13f47f7bdf0ea7fdcdd7b69"
      }
     },
     "88db0fda83384f6784fa6993bca6c085": {
      "model_module": "@jupyter-widgets/base",
      "model_module_version": "2.0.0",
      "model_name": "LayoutModel",
      "state": {
       "justify_content": "flex-start",
       "width": "90%"
      }
     },
     "8a43b0c240de4fedaf250077453d32a4": {
      "model_module": "@jupyter-widgets/controls",
      "model_module_version": "2.0.0",
      "model_name": "ButtonModel",
      "state": {
       "description": "Summarize",
       "icon": "radiation",
       "layout": "IPY_MODEL_0ba5abb171bc47ed9e72e3002d59f4f6",
       "style": "IPY_MODEL_b7cd21e5358242da91b60fcece159eff",
       "tooltip": "Summarize this section based on the topic and intro"
      }
     },
     "8a77a10d2c9a435eb4e3631253fc4a9f": {
      "model_module": "@jupyter-widgets/controls",
      "model_module_version": "2.0.0",
      "model_name": "ButtonStyleModel",
      "state": {
       "font_family": null,
       "font_size": null,
       "font_style": null,
       "font_variant": null,
       "font_weight": null,
       "text_color": null,
       "text_decoration": null
      }
     },
     "8b33811793414e9da99968eb2bb47c8d": {
      "model_module": "@jupyter-widgets/base",
      "model_module_version": "2.0.0",
      "model_name": "LayoutModel",
      "state": {}
     },
     "8dfa3554b59841829bd555ec11c57b0b": {
      "model_module": "@jupyter-widgets/base",
      "model_module_version": "2.0.0",
      "model_name": "LayoutModel",
      "state": {}
     },
     "8e0c7462a4ac4865819feb427f4985d3": {
      "model_module": "@jupyter-widgets/base",
      "model_module_version": "2.0.0",
      "model_name": "LayoutModel",
      "state": {
       "justify_content": "flex-start",
       "width": "90%"
      }
     },
     "913efd6c32ff40fcb049ca0d76d53a9d": {
      "model_module": "@jupyter-widgets/controls",
      "model_module_version": "2.0.0",
      "model_name": "TextStyleModel",
      "state": {
       "description_width": "50px",
       "font_size": null,
       "text_color": null
      }
     },
     "919cf4b7d56a474b9e532a0718dbac04": {
      "model_module": "@jupyter-widgets/controls",
      "model_module_version": "2.0.0",
      "model_name": "ButtonModel",
      "state": {
       "description": "Translate",
       "icon": "language",
       "layout": "IPY_MODEL_2653ab2fb97247f3b15ca71fb8490128",
       "style": "IPY_MODEL_e18acf4b3c2f4d0ebfb3e88d1360a8f2",
       "tooltip": "Click and translate the details for this section"
      }
     },
     "921c06a1750f424e8ef88991da6e07ae": {
      "model_module": "@jupyter-widgets/controls",
      "model_module_version": "2.0.0",
      "model_name": "TextModel",
      "state": {
       "description": "Prompt",
       "layout": "IPY_MODEL_3992980dbc8b4ea4b5a151d840c890e0",
       "placeholder": "",
       "style": "IPY_MODEL_1a9cd046f00c42e2ab8b419ee7870f0d"
      }
     },
     "93efafab0282418b9e8c8dc7e6e912ed": {
      "model_module": "@jupyter-widgets/base",
      "model_module_version": "2.0.0",
      "model_name": "LayoutModel",
      "state": {}
     },
     "95825f5c0a414af0b37941c2b16d3ec4": {
      "model_module": "@jupyter-widgets/controls",
      "model_module_version": "2.0.0",
      "model_name": "TextStyleModel",
      "state": {
       "description_width": "50px",
       "font_size": null,
       "text_color": null
      }
     },
     "96589b3af7c040afa65311c1c66c55f2": {
      "model_module": "@jupyter-widgets/base",
      "model_module_version": "2.0.0",
      "model_name": "LayoutModel",
      "state": {
       "justify_content": "flex-start",
       "width": "90%"
      }
     },
     "993827f002fa4cc2b4e03cd2b9840422": {
      "model_module": "@jupyter-widgets/controls",
      "model_module_version": "2.0.0",
      "model_name": "TextStyleModel",
      "state": {
       "description_width": "",
       "font_size": null,
       "text_color": null
      }
     },
     "996928cfeafa46afb25139f6ce3195d9": {
      "model_module": "@jupyter-widgets/controls",
      "model_module_version": "2.0.0",
      "model_name": "ButtonStyleModel",
      "state": {
       "font_family": null,
       "font_size": null,
       "font_style": null,
       "font_variant": null,
       "font_weight": null,
       "text_color": null,
       "text_decoration": null
      }
     },
     "9c08cddcb2ca43ba98984e2a574c7851": {
      "model_module": "@jupyter-widgets/controls",
      "model_module_version": "2.0.0",
      "model_name": "TextStyleModel",
      "state": {
       "description_width": "50px",
       "font_size": null,
       "text_color": null
      }
     },
     "9de760d99df64938b9cb36cb0c3cc2b1": {
      "model_module": "@jupyter-widgets/controls",
      "model_module_version": "2.0.0",
      "model_name": "TextModel",
      "state": {
       "description": "Title",
       "layout": "IPY_MODEL_88db0fda83384f6784fa6993bca6c085",
       "style": "IPY_MODEL_7919bcf991674fba9481099aa7047a00",
       "value": "Strategies for unraveling the “black-box” of AI-based pathological analysis of liver cancer"
      }
     },
     "9fde8c4468614b5184b6e3d054880007": {
      "model_module": "@jupyter-widgets/base",
      "model_module_version": "2.0.0",
      "model_name": "LayoutModel",
      "state": {
       "justify_content": "flex-start",
       "width": "90%"
      }
     },
     "9ffabfafacb041f29c8772b0eb62e24c": {
      "model_module": "@jupyter-widgets/controls",
      "model_module_version": "2.0.0",
      "model_name": "TextStyleModel",
      "state": {
       "description_width": "50px",
       "font_size": null,
       "text_color": null
      }
     },
     "a11bfeeb4d7e44f4b05b467a2712fd52": {
      "model_module": "@jupyter-widgets/controls",
      "model_module_version": "2.0.0",
      "model_name": "TextStyleModel",
      "state": {
       "description_width": "50px",
       "font_size": null,
       "text_color": null
      }
     },
     "a66350b95d104118a5c6b8409a289983": {
      "model_module": "@jupyter-widgets/controls",
      "model_module_version": "2.0.0",
      "model_name": "ButtonModel",
      "state": {
       "description": "Summarize",
       "icon": "radiation",
       "layout": "IPY_MODEL_728e6187d4594625924b75f34e38258d",
       "style": "IPY_MODEL_5c9092c297ba46058485debea36a1019",
       "tooltip": "Summarize this section based on the topic and intro"
      }
     },
     "a69c310772a04da9bd0aae1a71c969e8": {
      "model_module": "@jupyter-widgets/base",
      "model_module_version": "2.0.0",
      "model_name": "LayoutModel",
      "state": {
       "justify_content": "flex-start",
       "width": "90%"
      }
     },
     "a8ff6b06f9a042d0a094be1324813400": {
      "model_module": "@jupyter-widgets/base",
      "model_module_version": "2.0.0",
      "model_name": "LayoutModel",
      "state": {}
     },
     "aa96b06eb21442ecac78dd600ebe4043": {
      "model_module": "@jupyter-widgets/base",
      "model_module_version": "2.0.0",
      "model_name": "LayoutModel",
      "state": {}
     },
     "ac064843ec364b03876484e9c1beecbf": {
      "model_module": "@jupyter-widgets/base",
      "model_module_version": "2.0.0",
      "model_name": "LayoutModel",
      "state": {}
     },
     "aea7e19878894fa7bdd32c26f26c6ae3": {
      "model_module": "@jupyter-widgets/output",
      "model_module_version": "1.0.0",
      "model_name": "OutputModel",
      "state": {
       "layout": "IPY_MODEL_1fbcb6a08dbd4fafbc965a64dea6732d",
       "outputs": [
        {
         "name": "stdout",
         "output_type": "stream",
         "text": "Prompt Tokens count: [4254]\n# Topic: A detailed analysis of the existing challenges and limitations in the use of AI for liver cancer management.\n\n# Summary:\n\nArtificial intelligence (AI) based on machine learning and deep learning has been widely used in liver cancer research. Initially, AI relied on traditional machine learning methods, but with the development of medical imaging, AI research based on imaging has emerged. Deep learning, specifically convolutional neural networks (CNNs), has played a significant role in liver cancer research. However, there are several challenges and limitations in the use of AI for liver cancer management.\n\nOne challenge is the overfitting of data and limited explainability of deep learning models. DL models heavily rely on the size and diversity of their training dataset, which can lead to poor generalizability. The explainability of DL models is also a concern as they often lack transparency in their decision-making process.\n\nAnother limitation is the lack of large-scale publications and quantitative analysis in the field of AI for liver cancer. While there have been reviews and studies on the applications of AI in liver cancer, they may not capture the latest research trends and hotspots due to a limited number of publications. Quantitative analysis using bibliometrics can provide a better understanding of the current research progress, hotspots, and emerging trends in AI for liver cancer.\n\nThe type of data used in AI research for liver cancer is also a challenge. Initially, studies focused on genetic or molecular data, but with the development of medical imaging, research on medical imaging has increased. CT, ultrasound, and MRI are the most commonly used data types. CT and MRI serve as the basis for clinical treatment strategies, while ultrasound is used for screening high-risk patients. However, there are limitations in ultrasound imaging due to factors like operator technique and resolution.\n\nFurthermore, there is a lack of research on the treatment and prognosis of liver cancer using AI. Most studies have focused on the survival of specific surgical methods, but there is a need for research on precision treatment methods and the use of AI for multi-modal treatment decision-making.\n\nIn summary, while AI has shown promise in liver cancer research, there are challenges and limitations that need to be addressed. These include the overfitting and explainability of deep learning models, the need for quantitative analysis and a larger number of publications, limitations in data types and imaging techniques, and the lack of research on treatment and prognosis. Overcoming these challenges will pave the way for the effective use of AI in liver cancer management.\n\n# References:\n[1] Quantitative analysis of artificial intelligence on liver cancer: Page 2, Page 3, Page 5, Page 6, Page 7, Page 8, Page 9, Page 10\n[2] JOH 2022 Artificial intelligence for the prevention and clinical management of hepatocellular carcinoma: Page 2\n[3] Artificial Intelligence in Hepatology Ready for the Primetime: Page 1, Page 11\nResponse Tokens count: [590] [stop]\n"
        }
       ]
      }
     },
     "b0611e74d33e407fbe3f11aa6ca710e0": {
      "model_module": "@jupyter-widgets/base",
      "model_module_version": "2.0.0",
      "model_name": "LayoutModel",
      "state": {}
     },
     "b0814ce265fa4a4e9d1863694218b64b": {
      "model_module": "@jupyter-widgets/base",
      "model_module_version": "2.0.0",
      "model_name": "LayoutModel",
      "state": {}
     },
     "b17d6e22739a4274aba417ddd20167f6": {
      "model_module": "@jupyter-widgets/base",
      "model_module_version": "2.0.0",
      "model_name": "LayoutModel",
      "state": {}
     },
     "b42f0d30340e436b9b21ef997665b323": {
      "model_module": "@jupyter-widgets/controls",
      "model_module_version": "2.0.0",
      "model_name": "ButtonModel",
      "state": {
       "description": "Summarize",
       "icon": "radiation",
       "layout": "IPY_MODEL_8b33811793414e9da99968eb2bb47c8d",
       "style": "IPY_MODEL_27968ae852d04c3fa863265444daee41",
       "tooltip": "Summarize this section based on the topic and intro"
      }
     },
     "b4c5a1002fec4e4d820c2807ff751707": {
      "model_module": "@jupyter-widgets/controls",
      "model_module_version": "2.0.0",
      "model_name": "ButtonModel",
      "state": {
       "description": "Summarize",
       "icon": "radiation",
       "layout": "IPY_MODEL_aa96b06eb21442ecac78dd600ebe4043",
       "style": "IPY_MODEL_d6912dec26224974a145690dcdf5a687",
       "tooltip": "Summarize this section based on the topic and intro"
      }
     },
     "b7cd21e5358242da91b60fcece159eff": {
      "model_module": "@jupyter-widgets/controls",
      "model_module_version": "2.0.0",
      "model_name": "ButtonStyleModel",
      "state": {
       "font_family": null,
       "font_size": null,
       "font_style": null,
       "font_variant": null,
       "font_weight": null,
       "text_color": null,
       "text_decoration": null
      }
     },
     "b8a41b9016fa469dbc9dc7a83a4d3f26": {
      "model_module": "@jupyter-widgets/controls",
      "model_module_version": "2.0.0",
      "model_name": "TextModel",
      "state": {
       "description": "Title",
       "layout": "IPY_MODEL_a69c310772a04da9bd0aae1a71c969e8",
       "style": "IPY_MODEL_44403c1586ea415d987680758c01ac75",
       "value": "Conclusion and future applications"
      }
     },
     "b8a74f64db2c4793b66dbdbbc866a36d": {
      "model_module": "@jupyter-widgets/base",
      "model_module_version": "2.0.0",
      "model_name": "LayoutModel",
      "state": {}
     },
     "b9e13efa99a64ae79de3e7e5dc3592b8": {
      "model_module": "@jupyter-widgets/base",
      "model_module_version": "2.0.0",
      "model_name": "LayoutModel",
      "state": {}
     },
     "bc45521b2e06456bbe15c3caa13b1c21": {
      "model_module": "@jupyter-widgets/base",
      "model_module_version": "2.0.0",
      "model_name": "LayoutModel",
      "state": {}
     },
     "bd03ea5faed147d59b97daa33d500093": {
      "model_module": "@jupyter-widgets/controls",
      "model_module_version": "2.0.0",
      "model_name": "AccordionModel",
      "state": {
       "children": [
        "IPY_MODEL_1b6868163f204a7fbe41e3bd5270fb9a",
        "IPY_MODEL_db827cd83e26424aa05608c4b3da5057",
        "IPY_MODEL_2204b91acf694237abb4c6626658aeef",
        "IPY_MODEL_c5f6b181a2ad45aa97db31a9c1b9d633"
       ],
       "layout": "IPY_MODEL_f61c8e4c8a644079b85daae6892d80ff",
       "titles": [
        "1 Current advances of AI-based approaches for clinical management of liver cancer",
        "2 Current challenges limiting AI-based approaches in the management of liver cancer",
        "3 Strategies for unraveling the “black-box” of AI-based pathological analysis of liver cancer",
        "4 Conclusion and future applications"
       ]
      }
     },
     "bd3fea88353a41c89b7aeb1ef1771785": {
      "model_module": "@jupyter-widgets/base",
      "model_module_version": "2.0.0",
      "model_name": "LayoutModel",
      "state": {}
     },
     "be443704b23d44458c9461582e9af97e": {
      "model_module": "@jupyter-widgets/controls",
      "model_module_version": "2.0.0",
      "model_name": "TextStyleModel",
      "state": {
       "description_width": "50px",
       "font_size": null,
       "text_color": null
      }
     },
     "bed154b7d56d49368afc93e51b916ce4": {
      "model_module": "@jupyter-widgets/controls",
      "model_module_version": "2.0.0",
      "model_name": "TextStyleModel",
      "state": {
       "description_width": "",
       "font_size": null,
       "text_color": null
      }
     },
     "bf7beba5428c4552ac7af5573840c5c8": {
      "model_module": "@jupyter-widgets/base",
      "model_module_version": "2.0.0",
      "model_name": "LayoutModel",
      "state": {
       "justify_content": "flex-start",
       "width": "90%"
      }
     },
     "bf9c328be1e64ecf902863438c64fa50": {
      "model_module": "@jupyter-widgets/base",
      "model_module_version": "2.0.0",
      "model_name": "LayoutModel",
      "state": {}
     },
     "bf9f71c944974eb1972ab01d2f18773c": {
      "model_module": "@jupyter-widgets/base",
      "model_module_version": "2.0.0",
      "model_name": "LayoutModel",
      "state": {
       "justify_content": "flex-start",
       "width": "90%"
      }
     },
     "c0ad9b28595b4b3f8f15c2a37fcecd9c": {
      "model_module": "@jupyter-widgets/controls",
      "model_module_version": "2.0.0",
      "model_name": "TextModel",
      "state": {
       "description": "Intro",
       "layout": "IPY_MODEL_84008825eeeb4737af34b0fb65bde0db",
       "style": "IPY_MODEL_5b0f3f4594774000a81f610f1a7c14d2",
       "value": "A comprehensive discussion on various strategies to decode the complex workings of AI in pathological analysis of liver cancer."
      }
     },
     "c349136d2a9e4dab935e7185826bc3b7": {
      "model_module": "@jupyter-widgets/controls",
      "model_module_version": "2.0.0",
      "model_name": "TextStyleModel",
      "state": {
       "description_width": "50px",
       "font_size": null,
       "text_color": null
      }
     },
     "c5f6b181a2ad45aa97db31a9c1b9d633": {
      "model_module": "@jupyter-widgets/controls",
      "model_module_version": "2.0.0",
      "model_name": "TextModel",
      "state": {
       "layout": "IPY_MODEL_620d51af616048bc959bc79d7eac493d",
       "style": "IPY_MODEL_1a276137b4e14a8780c3c5498711b7e9",
       "value": "Final thoughts on the current state of AI in liver cancer analysis and potential future developments in the field."
      }
     },
     "c609d17d20e94cdf917f047c3afe92c8": {
      "model_module": "@jupyter-widgets/controls",
      "model_module_version": "2.0.0",
      "model_name": "ButtonStyleModel",
      "state": {
       "font_family": null,
       "font_size": null,
       "font_style": null,
       "font_variant": null,
       "font_weight": null,
       "text_color": null,
       "text_decoration": null
      }
     },
     "cb26d50f12bd4ccf8646de81d3256cd1": {
      "model_module": "@jupyter-widgets/controls",
      "model_module_version": "2.0.0",
      "model_name": "ButtonModel",
      "state": {
       "description": "Translate",
       "icon": "language",
       "layout": "IPY_MODEL_bc45521b2e06456bbe15c3caa13b1c21",
       "style": "IPY_MODEL_7ebfb9db7b4d45ea905489731a01f02b",
       "tooltip": "Click and translate the details for this section"
      }
     },
     "cc39d5f7634b495bbe95ee577e38eb40": {
      "model_module": "@jupyter-widgets/output",
      "model_module_version": "1.0.0",
      "model_name": "OutputModel",
      "state": {
       "layout": "IPY_MODEL_b9e13efa99a64ae79de3e7e5dc3592b8"
      }
     },
     "d13bb09eb13f47f7bdf0ea7fdcdd7b69": {
      "model_module": "@jupyter-widgets/controls",
      "model_module_version": "2.0.0",
      "model_name": "TextStyleModel",
      "state": {
       "description_width": "50px",
       "font_size": null,
       "text_color": null
      }
     },
     "d13da143602e41cda78a6ca0930ed5f4": {
      "model_module": "@jupyter-widgets/output",
      "model_module_version": "1.0.0",
      "model_name": "OutputModel",
      "state": {
       "layout": "IPY_MODEL_4873422f8bbb49a5af16331c55cc57d2"
      }
     },
     "d1eed8c8e3804bdcac84ce3e67fbb45f": {
      "model_module": "@jupyter-widgets/base",
      "model_module_version": "2.0.0",
      "model_name": "LayoutModel",
      "state": {}
     },
     "d398e416216846db95ca160c56401d7f": {
      "model_module": "@jupyter-widgets/base",
      "model_module_version": "2.0.0",
      "model_name": "LayoutModel",
      "state": {
       "justify_content": "flex-start",
       "width": "90%"
      }
     },
     "d3c85481a3814923b22c728f63930242": {
      "model_module": "@jupyter-widgets/controls",
      "model_module_version": "2.0.0",
      "model_name": "TextModel",
      "state": {
       "description": "Prompt",
       "layout": "IPY_MODEL_84535a26372d4895a2bb073c68df56cc",
       "placeholder": "",
       "style": "IPY_MODEL_913efd6c32ff40fcb049ca0d76d53a9d"
      }
     },
     "d481e0a10a494d55b6ee37a5955f1997": {
      "model_module": "@jupyter-widgets/base",
      "model_module_version": "2.0.0",
      "model_name": "LayoutModel",
      "state": {
       "justify_content": "flex-start",
       "width": "90%"
      }
     },
     "d54635041bca47bbbe3115e453c80310": {
      "model_module": "@jupyter-widgets/controls",
      "model_module_version": "2.0.0",
      "model_name": "TextModel",
      "state": {
       "description": "Intro",
       "layout": "IPY_MODEL_e84913e2a56a4f6a90e2aff7652c3531",
       "style": "IPY_MODEL_9ffabfafacb041f29c8772b0eb62e24c",
       "value": "An overview of the latest developments in AI technologies and their applications in the clinical management of liver cancer."
      }
     },
     "d67c36afa90443efb707b5a880c89876": {
      "model_module": "@jupyter-widgets/controls",
      "model_module_version": "2.0.0",
      "model_name": "TextModel",
      "state": {
       "description": "Title",
       "layout": "IPY_MODEL_f8b83cada4ff4eb7b9cc2c2e8964421e",
       "style": "IPY_MODEL_a11bfeeb4d7e44f4b05b467a2712fd52",
       "value": "Current challenges limiting AI-based approaches in the management of liver cancer"
      }
     },
     "d6912dec26224974a145690dcdf5a687": {
      "model_module": "@jupyter-widgets/controls",
      "model_module_version": "2.0.0",
      "model_name": "ButtonStyleModel",
      "state": {
       "font_family": null,
       "font_size": null,
       "font_style": null,
       "font_variant": null,
       "font_weight": null,
       "text_color": null,
       "text_decoration": null
      }
     },
     "db827cd83e26424aa05608c4b3da5057": {
      "model_module": "@jupyter-widgets/controls",
      "model_module_version": "2.0.0",
      "model_name": "TextModel",
      "state": {
       "layout": "IPY_MODEL_e584c50947ba459684f8e9264822ebcc",
       "style": "IPY_MODEL_6129dd8810cf4a52af835e618ecab907",
       "value": "A detailed analysis of the existing challenges and limitations in the use of AI for liver cancer management."
      }
     },
     "dee420a2277046738596b14e7ffff9ea": {
      "model_module": "@jupyter-widgets/controls",
      "model_module_version": "2.0.0",
      "model_name": "TextModel",
      "state": {
       "description": "Title",
       "layout": "IPY_MODEL_feb3c76a1d234f699cbcb45b228dac3f",
       "style": "IPY_MODEL_be443704b23d44458c9461582e9af97e",
       "value": "Conclusion and future applications"
      }
     },
     "e001dc86c68c41d68263eda9ae46e7e8": {
      "model_module": "@jupyter-widgets/controls",
      "model_module_version": "2.0.0",
      "model_name": "TextStyleModel",
      "state": {
       "description_width": "50px",
       "font_size": null,
       "text_color": null
      }
     },
     "e18acf4b3c2f4d0ebfb3e88d1360a8f2": {
      "model_module": "@jupyter-widgets/controls",
      "model_module_version": "2.0.0",
      "model_name": "ButtonStyleModel",
      "state": {
       "font_family": null,
       "font_size": null,
       "font_style": null,
       "font_variant": null,
       "font_weight": null,
       "text_color": null,
       "text_decoration": null
      }
     },
     "e2a4044902f740d1befe2565751802b8": {
      "model_module": "@jupyter-widgets/controls",
      "model_module_version": "2.0.0",
      "model_name": "ButtonModel",
      "state": {
       "description": "Summarize",
       "icon": "radiation",
       "layout": "IPY_MODEL_765c2bb265404e31a31dc0bca84b2bcc",
       "style": "IPY_MODEL_08014545857845a49031dc991851cf89",
       "tooltip": "Summarize this section based on the topic and intro"
      }
     },
     "e584c50947ba459684f8e9264822ebcc": {
      "model_module": "@jupyter-widgets/base",
      "model_module_version": "2.0.0",
      "model_name": "LayoutModel",
      "state": {}
     },
     "e5bd4ae298f6475c9fbeb0b18a232d2e": {
      "model_module": "@jupyter-widgets/controls",
      "model_module_version": "2.0.0",
      "model_name": "TextModel",
      "state": {
       "description": "Prompt",
       "layout": "IPY_MODEL_9fde8c4468614b5184b6e3d054880007",
       "placeholder": "",
       "style": "IPY_MODEL_95825f5c0a414af0b37941c2b16d3ec4"
      }
     },
     "e7ef4ec9c4ee4beeb09af3447a0d5dfd": {
      "model_module": "@jupyter-widgets/base",
      "model_module_version": "2.0.0",
      "model_name": "LayoutModel",
      "state": {}
     },
     "e84913e2a56a4f6a90e2aff7652c3531": {
      "model_module": "@jupyter-widgets/base",
      "model_module_version": "2.0.0",
      "model_name": "LayoutModel",
      "state": {
       "justify_content": "flex-start",
       "width": "90%"
      }
     },
     "e9462e17c4d84d2396f4a47d741ab3fa": {
      "model_module": "@jupyter-widgets/controls",
      "model_module_version": "2.0.0",
      "model_name": "TextStyleModel",
      "state": {
       "description_width": "50px",
       "font_size": null,
       "text_color": null
      }
     },
     "eb5bb3d5349a4506be08cfe4a680a6fb": {
      "model_module": "@jupyter-widgets/controls",
      "model_module_version": "2.0.0",
      "model_name": "VBoxModel",
      "state": {
       "children": [
        "IPY_MODEL_301acd5bb91946659e3fe84827e50dbc",
        "IPY_MODEL_d67c36afa90443efb707b5a880c89876",
        "IPY_MODEL_73a7459664594b3e884e5031f7058707",
        "IPY_MODEL_921c06a1750f424e8ef88991da6e07ae",
        "IPY_MODEL_6da1ff43515a4dab93da7063d96ffcb9"
       ],
       "layout": "IPY_MODEL_e7ef4ec9c4ee4beeb09af3447a0d5dfd"
      }
     },
     "f22e3c294a52438d8e2c5af882825e36": {
      "model_module": "@jupyter-widgets/base",
      "model_module_version": "2.0.0",
      "model_name": "LayoutModel",
      "state": {}
     },
     "f257c5107f88418bba20da7ddd75b3c7": {
      "model_module": "@jupyter-widgets/controls",
      "model_module_version": "2.0.0",
      "model_name": "VBoxModel",
      "state": {
       "children": [
        "IPY_MODEL_b42f0d30340e436b9b21ef997665b323",
        "IPY_MODEL_4c27edb9474c45e09a16ac3c6e86e217",
        "IPY_MODEL_11cb21a0304348f3b51f788a10e368eb",
        "IPY_MODEL_e5bd4ae298f6475c9fbeb0b18a232d2e",
        "IPY_MODEL_aea7e19878894fa7bdd32c26f26c6ae3"
       ],
       "layout": "IPY_MODEL_2d4fcac843994b369e743c519561e306"
      }
     },
     "f2b336db47644ad188472f305f7670ec": {
      "model_module": "@jupyter-widgets/output",
      "model_module_version": "1.0.0",
      "model_name": "OutputModel",
      "state": {
       "layout": "IPY_MODEL_b0814ce265fa4a4e9d1863694218b64b"
      }
     },
     "f61c8e4c8a644079b85daae6892d80ff": {
      "model_module": "@jupyter-widgets/base",
      "model_module_version": "2.0.0",
      "model_name": "LayoutModel",
      "state": {}
     },
     "f8b83cada4ff4eb7b9cc2c2e8964421e": {
      "model_module": "@jupyter-widgets/base",
      "model_module_version": "2.0.0",
      "model_name": "LayoutModel",
      "state": {
       "justify_content": "flex-start",
       "width": "90%"
      }
     },
     "fa103ecd4f1d4b01a03b38722834b3c6": {
      "model_module": "@jupyter-widgets/base",
      "model_module_version": "2.0.0",
      "model_name": "LayoutModel",
      "state": {}
     },
     "fb240a1145114b8f864e83ec42206fe8": {
      "model_module": "@jupyter-widgets/base",
      "model_module_version": "2.0.0",
      "model_name": "LayoutModel",
      "state": {
       "justify_content": "flex-start",
       "width": "90%"
      }
     },
     "fb35d670d4914a558086365b6a73aa77": {
      "model_module": "@jupyter-widgets/controls",
      "model_module_version": "2.0.0",
      "model_name": "VBoxModel",
      "state": {
       "children": [
        "IPY_MODEL_e2a4044902f740d1befe2565751802b8",
        "IPY_MODEL_b8a41b9016fa469dbc9dc7a83a4d3f26",
        "IPY_MODEL_6b655260fd81488f9ce2ca2420894539",
        "IPY_MODEL_870f3d9f1dcd41a0b523d5d271d04a79",
        "IPY_MODEL_d13da143602e41cda78a6ca0930ed5f4"
       ],
       "layout": "IPY_MODEL_2d10a75dab6e4014b83d55c29504dc85"
      }
     },
     "fe2216782a5449c2ab77fd76a2959fdf": {
      "model_module": "@jupyter-widgets/controls",
      "model_module_version": "2.0.0",
      "model_name": "TextStyleModel",
      "state": {
       "description_width": "50px",
       "font_size": null,
       "text_color": null
      }
     },
     "feb3c76a1d234f699cbcb45b228dac3f": {
      "model_module": "@jupyter-widgets/base",
      "model_module_version": "2.0.0",
      "model_name": "LayoutModel",
      "state": {
       "justify_content": "flex-start",
       "width": "90%"
      }
     },
     "fec50c0a0da14ff1ae35a96e9dbb91b1": {
      "model_module": "@jupyter-widgets/base",
      "model_module_version": "2.0.0",
      "model_name": "LayoutModel",
      "state": {}
     }
    },
    "version_major": 2,
    "version_minor": 0
   }
  }
 },
 "nbformat": 4,
 "nbformat_minor": 5
}
