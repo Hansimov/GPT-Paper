{
 "cells": [
  {
   "cell_type": "code",
   "execution_count": null,
   "id": "6bd0166d-e107-4dc3-a95d-f72a5357e3d2",
   "metadata": {
    "editable": true,
    "slideshow": {
     "slide_type": ""
    },
    "tags": [
     "env"
    ]
   },
   "outputs": [],
   "source": [
    "# Run this cell when initialized\n",
    "%load_ext autoreload\n",
    "%autoreload\n",
    "\n",
    "import datetime\n",
    "import os\n",
    "import sys\n",
    "from pathlib import Path\n",
    "import logging\n",
    "import ipynbname\n",
    "\n",
    "repo_path = Path(os.path.abspath(\".\")).parent\n",
    "if str(repo_path) not in sys.path:\n",
    "    sys.path.append(str(repo_path))\n",
    "work_dir = Path().absolute()\n",
    "ipynb_path = ipynbname.path()\n",
    "\n",
    "import jupyter_black\n",
    "import ipywidgets as widgets\n",
    "from importlib import reload\n",
    "from IPython.display import display as dp\n",
    "from IPython.display import Javascript\n",
    "from ipywidgets import Image as wImage\n",
    "from ipywidgets import HBox, Layout\n",
    "from utils.logger import logger\n",
    "from termcolor import colored\n",
    "\n",
    "\n",
    "jupyter_black.load(lab=True)\n",
    "logger.note(f\"Repo path:   [{repo_path}]\")\n",
    "logger.note(f\"Working dir: [{work_dir}]\")\n",
    "logger.note(f\"Notebook Path: [{ipynb_path}]\")\n",
    "logger.note(f\"Now: [{datetime.datetime.now()}]\")"
   ]
  },
  {
   "cell_type": "code",
   "execution_count": null,
   "id": "1739b204-98a3-4775-ba26-c27609c98816",
   "metadata": {
    "editable": true,
    "jupyterlab-hide-cells:hidden": true,
    "slideshow": {
     "slide_type": ""
    },
    "tags": []
   },
   "outputs": [],
   "source": [
    "from notebook_ui import set_background\n",
    "\n",
    "# pdf_dir = \"Deep learning predicts postsurgical recurrence of hepatocellular carcinoma from digital histopathologic images\"\n",
    "\n",
    "pdf_dir = \"2308.09687 - Graph of Thoughts\"\n",
    "\n",
    "image_paths = [\n",
    "    f\n",
    "    for f in (\n",
    "        repo_path\n",
    "        / \"pdfs\"\n",
    "        / pdf_dir\n",
    "        / \"queries\"\n",
    "        / \"Tree of Thoughts vs Graph of Thoughts\"\n",
    "    ).glob(\"*.png\")\n",
    "]\n",
    "images = [\n",
    "    wImage(value=image_path.open(\"rb\").read(), format=\"png\", width=400)\n",
    "    for image_path in image_paths\n",
    "]\n",
    "\n",
    "dp(HBox(images))\n",
    "set_background(\"black\")"
   ]
  },
  {
   "cell_type": "code",
   "execution_count": null,
   "id": "81278999-a9bc-4416-9a55-c6f7306e049e",
   "metadata": {
    "editable": true,
    "slideshow": {
     "slide_type": ""
    },
    "tags": []
   },
   "outputs": [],
   "source": [
    "pdf_root = Path(os.path.abspath(\".\")).parent / \"pdfs\"\n",
    "print(f\"PDFs root: {str(pdf_root)}\")\n",
    "\n",
    "pdf_paths = pdf_root.glob(\"*.pdf\")\n",
    "pdf_path_checkboxes = [\n",
    "    widgets.Checkbox(\n",
    "        value=False,\n",
    "        description=pdf_path.name,\n",
    "        disabled=False,\n",
    "        indent=False,\n",
    "        layout=widgets.Layout(width=\"auto\"),\n",
    "    )\n",
    "    for pdf_path in pdf_paths\n",
    "]\n",
    "\n",
    "for pdf_path_checkbox in pdf_path_checkboxes:\n",
    "    dp(pdf_path_checkbox)"
   ]
  },
  {
   "cell_type": "code",
   "execution_count": null,
   "id": "dc07ad82-2aae-4114-b21d-bbb88b9ec642",
   "metadata": {
    "editable": true,
    "slideshow": {
     "slide_type": ""
    },
    "tags": []
   },
   "outputs": [],
   "source": [
    "for pdf_path_checkbox in pdf_path_checkboxes:\n",
    "    if pdf_path_checkbox.value:\n",
    "        logger.mesg(pdf_path_checkbox.description)"
   ]
  },
  {
   "cell_type": "code",
   "execution_count": null,
   "id": "52f3412b-4807-4014-9b71-2af6362a70c6",
   "metadata": {},
   "outputs": [],
   "source": [
    "%autoreload\n",
    "import asyncio\n",
    "import nest_asyncio\n",
    "\n",
    "nest_asyncio.apply()\n",
    "\n",
    "from agents.openai import OpenAIAgent\n",
    "\n",
    "asyncio.set_event_loop_policy(asyncio.WindowsSelectorEventLoopPolicy())\n",
    "\n",
    "agent = OpenAIAgent()\n",
    "\n",
    "asyncio.run(agent.test_prompt())"
   ]
  },
  {
   "cell_type": "markdown",
   "id": "2edd2249-03b5-4aa9-b3c3-ff71252691ff",
   "metadata": {},
   "source": [
    "## This is a title block."
   ]
  },
  {
   "cell_type": "markdown",
   "id": "bce80c78-f9d6-4e1a-b0d4-3e4c30dc355a",
   "metadata": {},
   "source": [
    "This is a text block"
   ]
  },
  {
   "cell_type": "code",
   "execution_count": null,
   "id": "46439120-7630-4e20-9b2d-2fbda883d785",
   "metadata": {},
   "outputs": [],
   "source": [
    "%autoreload\n",
    "from cells import get_cell_index\n",
    "\n",
    "print(get_cell_index())"
   ]
  }
 ],
 "metadata": {
  "kernelspec": {
   "display_name": "Python 3 (ipykernel)",
   "language": "python",
   "name": "python3"
  },
  "language_info": {
   "codemirror_mode": {
    "name": "ipython",
    "version": 3
   },
   "file_extension": ".py",
   "mimetype": "text/x-python",
   "name": "python",
   "nbconvert_exporter": "python",
   "pygments_lexer": "ipython3",
   "version": "3.9.5"
  }
 },
 "nbformat": 4,
 "nbformat_minor": 5
}
