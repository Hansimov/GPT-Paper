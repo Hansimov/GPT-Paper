{
 "cells": [
  {
   "cell_type": "code",
   "execution_count": 1,
   "id": "6bd0166d-e107-4dc3-a95d-f72a5357e3d2",
   "metadata": {
    "editable": true,
    "slideshow": {
     "slide_type": ""
    },
    "tags": []
   },
   "outputs": [
    {
     "data": {
      "text/html": [
       "\n",
       "                <script type=\"application/javascript\" id=\"jupyter_black\">\n",
       "                (function() {\n",
       "                    if (window.IPython === undefined) {\n",
       "                        return\n",
       "                    }\n",
       "                    var msg = \"WARNING: it looks like you might have loaded \" +\n",
       "                        \"jupyter_black in a non-lab notebook with \" +\n",
       "                        \"`is_lab=True`. Please double check, and if \" +\n",
       "                        \"loading with `%load_ext` please review the README!\"\n",
       "                    console.log(msg)\n",
       "                    alert(msg)\n",
       "                })()\n",
       "                </script>\n",
       "                "
      ],
      "text/plain": [
       "<IPython.core.display.HTML object>"
      ]
     },
     "metadata": {},
     "output_type": "display_data"
    },
    {
     "name": "stdout",
     "output_type": "stream",
     "text": [
      "Repo path:   [/mnt/sh_flex_storage/home/zehanyu/repos/GPT-Paper]\n",
      "Working dir: [/mnt/sh_flex_storage/home/zehanyu/repos/GPT-Paper/notebook]\n",
      "Now: [2023-09-12 22:59:13.564998]\n"
     ]
    },
    {
     "data": {
      "application/vnd.jupyter.widget-view+json": {
       "model_id": "dbb88bc360554336b01ccddede3eb95e",
       "version_major": 2,
       "version_minor": 0
      },
      "text/plain": [
       "VBox(children=(HBox(children=(Button(description='Retrieve All', icon='wikipedia-w', layout=Layout(width='auto…"
      ]
     },
     "metadata": {},
     "output_type": "display_data"
    },
    {
     "data": {
      "application/vnd.jupyter.widget-view+json": {
       "model_id": "0d6aa9e46f214cc089ea92648ef3f254",
       "version_major": 2,
       "version_minor": 0
      },
      "text/plain": [
       "HBox(children=(VBox(children=(HBox(children=(HTML(value='0', layout=Layout(border_bottom='1px solid purple', b…"
      ]
     },
     "metadata": {},
     "output_type": "display_data"
    },
    {
     "data": {
      "application/vnd.jupyter.widget-view+json": {
       "model_id": "702daf4abbb84699afb966bd0ee34476",
       "version_major": 2,
       "version_minor": 0
      },
      "text/plain": [
       "HBox(children=(VBox(children=(HBox(children=(HTML(value='1', layout=Layout(border_bottom='1px solid purple', b…"
      ]
     },
     "metadata": {},
     "output_type": "display_data"
    },
    {
     "data": {
      "application/vnd.jupyter.widget-view+json": {
       "model_id": "6f1bd87fd1d54335ae14aa4314083e5f",
       "version_major": 2,
       "version_minor": 0
      },
      "text/plain": [
       "HBox(children=(VBox(children=(HBox(children=(HTML(value='1.1', layout=Layout(border_bottom='1px solid purple',…"
      ]
     },
     "metadata": {},
     "output_type": "display_data"
    },
    {
     "data": {
      "application/vnd.jupyter.widget-view+json": {
       "model_id": "b82a1a623413454cbdcd6a9d20410e05",
       "version_major": 2,
       "version_minor": 0
      },
      "text/plain": [
       "HBox(children=(VBox(children=(HBox(children=(HTML(value='1.2', layout=Layout(border_bottom='1px solid purple',…"
      ]
     },
     "metadata": {},
     "output_type": "display_data"
    },
    {
     "data": {
      "application/vnd.jupyter.widget-view+json": {
       "model_id": "96a8bc0c6e534c358538448328d89473",
       "version_major": 2,
       "version_minor": 0
      },
      "text/plain": [
       "HBox(children=(VBox(children=(HBox(children=(HTML(value='1.3', layout=Layout(border_bottom='1px solid purple',…"
      ]
     },
     "metadata": {},
     "output_type": "display_data"
    },
    {
     "data": {
      "application/vnd.jupyter.widget-view+json": {
       "model_id": "4128a72212f443a7b971bd1ee4fe9224",
       "version_major": 2,
       "version_minor": 0
      },
      "text/plain": [
       "HBox(children=(VBox(children=(HBox(children=(HTML(value='2', layout=Layout(border_bottom='1px solid purple', b…"
      ]
     },
     "metadata": {},
     "output_type": "display_data"
    },
    {
     "data": {
      "application/vnd.jupyter.widget-view+json": {
       "model_id": "19a9e27ebeda47eb902245b3b222f314",
       "version_major": 2,
       "version_minor": 0
      },
      "text/plain": [
       "HBox(children=(VBox(children=(HBox(children=(HTML(value='3', layout=Layout(border_bottom='1px solid purple', b…"
      ]
     },
     "metadata": {},
     "output_type": "display_data"
    },
    {
     "data": {
      "application/vnd.jupyter.widget-view+json": {
       "model_id": "d13533ab546d46ae930d05ba0411044d",
       "version_major": 2,
       "version_minor": 0
      },
      "text/plain": [
       "HBox(children=(VBox(children=(HBox(children=(HTML(value='3.1', layout=Layout(border_bottom='1px solid purple',…"
      ]
     },
     "metadata": {},
     "output_type": "display_data"
    },
    {
     "data": {
      "application/vnd.jupyter.widget-view+json": {
       "model_id": "dd323e37c8c74bccbd3d4617df6e1ac9",
       "version_major": 2,
       "version_minor": 0
      },
      "text/plain": [
       "HBox(children=(VBox(children=(HBox(children=(HTML(value='3.1.1', layout=Layout(border_bottom='1px solid purple…"
      ]
     },
     "metadata": {},
     "output_type": "display_data"
    },
    {
     "data": {
      "application/vnd.jupyter.widget-view+json": {
       "model_id": "5cac36562907423683229e7cf4c5ea4d",
       "version_major": 2,
       "version_minor": 0
      },
      "text/plain": [
       "HBox(children=(VBox(children=(HBox(children=(HTML(value='3.1.2', layout=Layout(border_bottom='1px solid purple…"
      ]
     },
     "metadata": {},
     "output_type": "display_data"
    },
    {
     "data": {
      "application/vnd.jupyter.widget-view+json": {
       "model_id": "08d51d90ed8b435db08bdc3c0d5e2b7c",
       "version_major": 2,
       "version_minor": 0
      },
      "text/plain": [
       "HBox(children=(VBox(children=(HBox(children=(HTML(value='3.1.3', layout=Layout(border_bottom='1px solid purple…"
      ]
     },
     "metadata": {},
     "output_type": "display_data"
    },
    {
     "data": {
      "application/vnd.jupyter.widget-view+json": {
       "model_id": "a46fada1b6e14e3c8f37b3fce909742e",
       "version_major": 2,
       "version_minor": 0
      },
      "text/plain": [
       "HBox(children=(VBox(children=(HBox(children=(HTML(value='3.1.3.1', layout=Layout(border_bottom='1px solid purp…"
      ]
     },
     "metadata": {},
     "output_type": "display_data"
    },
    {
     "data": {
      "application/vnd.jupyter.widget-view+json": {
       "model_id": "19dbd65edf4742e886c1e2cc9df1cba2",
       "version_major": 2,
       "version_minor": 0
      },
      "text/plain": [
       "HBox(children=(VBox(children=(HBox(children=(HTML(value='3.1.3.2', layout=Layout(border_bottom='1px solid purp…"
      ]
     },
     "metadata": {},
     "output_type": "display_data"
    },
    {
     "data": {
      "application/vnd.jupyter.widget-view+json": {
       "model_id": "656bca0eba8a490cbcceed6df2ae9295",
       "version_major": 2,
       "version_minor": 0
      },
      "text/plain": [
       "HBox(children=(VBox(children=(HBox(children=(HTML(value='3.1.4', layout=Layout(border_bottom='1px solid purple…"
      ]
     },
     "metadata": {},
     "output_type": "display_data"
    },
    {
     "data": {
      "application/vnd.jupyter.widget-view+json": {
       "model_id": "aa9e9f66263340c89cf59d2854b28486",
       "version_major": 2,
       "version_minor": 0
      },
      "text/plain": [
       "HBox(children=(VBox(children=(HBox(children=(HTML(value='3.1.4.1', layout=Layout(border_bottom='1px solid purp…"
      ]
     },
     "metadata": {},
     "output_type": "display_data"
    },
    {
     "data": {
      "application/vnd.jupyter.widget-view+json": {
       "model_id": "7b72ca3059fe42a5a801370b1fcc4226",
       "version_major": 2,
       "version_minor": 0
      },
      "text/plain": [
       "HBox(children=(VBox(children=(HBox(children=(HTML(value='3.1.4.2', layout=Layout(border_bottom='1px solid purp…"
      ]
     },
     "metadata": {},
     "output_type": "display_data"
    },
    {
     "data": {
      "application/vnd.jupyter.widget-view+json": {
       "model_id": "e85ee469a50f4e2ea3e8795208f7c157",
       "version_major": 2,
       "version_minor": 0
      },
      "text/plain": [
       "HBox(children=(VBox(children=(HBox(children=(HTML(value='3.2', layout=Layout(border_bottom='1px solid purple',…"
      ]
     },
     "metadata": {},
     "output_type": "display_data"
    },
    {
     "data": {
      "application/vnd.jupyter.widget-view+json": {
       "model_id": "64938560f2e34bc2bd4fd4d210f42d0f",
       "version_major": 2,
       "version_minor": 0
      },
      "text/plain": [
       "HBox(children=(VBox(children=(HBox(children=(HTML(value='3.2.1', layout=Layout(border_bottom='1px solid purple…"
      ]
     },
     "metadata": {},
     "output_type": "display_data"
    },
    {
     "data": {
      "application/vnd.jupyter.widget-view+json": {
       "model_id": "11c37448cb9e42a3a5fd4dae9168357a",
       "version_major": 2,
       "version_minor": 0
      },
      "text/plain": [
       "HBox(children=(VBox(children=(HBox(children=(HTML(value='3.2.1.1', layout=Layout(border_bottom='1px solid purp…"
      ]
     },
     "metadata": {},
     "output_type": "display_data"
    },
    {
     "data": {
      "application/vnd.jupyter.widget-view+json": {
       "model_id": "68c2757cdd8240fd85d66cf08265fc31",
       "version_major": 2,
       "version_minor": 0
      },
      "text/plain": [
       "HBox(children=(VBox(children=(HBox(children=(HTML(value='3.2.1.2', layout=Layout(border_bottom='1px solid purp…"
      ]
     },
     "metadata": {},
     "output_type": "display_data"
    },
    {
     "data": {
      "application/vnd.jupyter.widget-view+json": {
       "model_id": "d9dc510d4399433dad25f47da6ffcfa6",
       "version_major": 2,
       "version_minor": 0
      },
      "text/plain": [
       "HBox(children=(VBox(children=(HBox(children=(HTML(value='3.2.1.3', layout=Layout(border_bottom='1px solid purp…"
      ]
     },
     "metadata": {},
     "output_type": "display_data"
    },
    {
     "data": {
      "application/vnd.jupyter.widget-view+json": {
       "model_id": "1c3ce72505f94d38b546174e72c2e0b3",
       "version_major": 2,
       "version_minor": 0
      },
      "text/plain": [
       "HBox(children=(VBox(children=(HBox(children=(HTML(value='3.2.2', layout=Layout(border_bottom='1px solid purple…"
      ]
     },
     "metadata": {},
     "output_type": "display_data"
    },
    {
     "data": {
      "application/vnd.jupyter.widget-view+json": {
       "model_id": "2f22ca5e8d8f4e6e8d22edc924ebcd5d",
       "version_major": 2,
       "version_minor": 0
      },
      "text/plain": [
       "HBox(children=(VBox(children=(HBox(children=(HTML(value='3.2.3', layout=Layout(border_bottom='1px solid purple…"
      ]
     },
     "metadata": {},
     "output_type": "display_data"
    },
    {
     "data": {
      "application/vnd.jupyter.widget-view+json": {
       "model_id": "9efdb81cf66f480f8ed1fd8c19c26032",
       "version_major": 2,
       "version_minor": 0
      },
      "text/plain": [
       "HBox(children=(VBox(children=(HBox(children=(HTML(value='4', layout=Layout(border_bottom='1px solid purple', b…"
      ]
     },
     "metadata": {},
     "output_type": "display_data"
    }
   ],
   "source": [
    "%load_ext autoreload\n",
    "%autoreload\n",
    "%run -i \"startup.py\"\n",
    "\n",
    "section_viewer_tree = SectionViewerTree(\"cancer_review\")"
   ]
  },
  {
   "cell_type": "raw",
   "id": "5cf1b7d4-6892-42c7-b6b7-9a74b6edbd79",
   "metadata": {
    "editable": true,
    "jupyter": {
     "source_hidden": true
    },
    "slideshow": {
     "slide_type": ""
    },
    "tags": [
     "outline"
    ]
   },
   "source": [
    "Title: Unraveling the “black-box” of artificial intelligence-based pathological analysis of liver cancer\n",
    "\n",
    "# 1. Current advances of AI-based approaches for clinical management of liver cancer\n",
    "\n",
    "## 1.1 AI-based prognostication of liver cancer\n",
    "\n",
    "## 1.2 Molecular profiling of liver cancer via AI\n",
    "\n",
    "## 1.3 Exploring predictive indicators for therapy response\n",
    "\n",
    "# 2. Current challenges limiting AI-based approaches in the management of liver cancer\n",
    "\n",
    "(One paragraph highlighting the urgent need to explain the “black box” of deeplearning)\n",
    "\n",
    "# 3. Strategies for unraveling the “black-box” of AI-based pathological analysis of liver cancer\n",
    "\n",
    "## 3.1 Model-based explanation\n",
    "### 3.1.1 Support vector machine or random forests vs. deep learning\n",
    "### 3.1.2 Supervised learning vs. weakly supervised learning vs. unsupervised learning\n",
    "### 3.1.3 Textual explanation\n",
    "#### 3.1.3.1 Image captioning\n",
    "#### 3.1.3.2 Image captioning with visual explanation\n",
    "### 3.1.4 Example-based explanation \n",
    "#### 3.1.4.1 Triplet network\n",
    "#### 3.1.4.2 Prototypes\n",
    "\n",
    "## 3.2 Post hoc explanation\n",
    "\n",
    "### 3.2.1 Visual explanation (saliency mapping, pathologist-in-the-loop)\n",
    "#### 3.2.1.1 Backpropagation-based approaches\n",
    "      Including class activation mapping (CAM) and gradient-weighted class activation mapping (Grad-CAM)\n",
    "#### 3.2.1.2 Perturbation-based approaches\n",
    "      Including Occlusion sensitivity map (OSM), local interpretable model-agnostic explannations (LIME)\n",
    "#### 3.2.1.3 Multiple instance learning-based approaches\n",
    "\n",
    "### 3.2.2 Textual explanation\n",
    "   Testing with concept activation vectors (TCAV)\n",
    "### 3.2.3 Example-based explanation\n",
    "\n",
    "# 4. Conclusion and future applications"
   ]
  },
  {
   "cell_type": "code",
   "execution_count": 2,
   "id": "769fe72e-848f-4766-b89d-1aa91183f615",
   "metadata": {
    "editable": true,
    "slideshow": {
     "slide_type": ""
    },
    "tags": []
   },
   "outputs": [],
   "source": [
    "ipynb_name = \"review_writer.ipynb\"\n",
    "markdown_cells = get_notebook_cells(notebook_path=ipynb_name, cell_types=[\"markdown\"])\n",
    "outline_cells = [\n",
    "    cell for cell in markdown_cells if \"outline\" in cell[\"metadata\"][\"tags\"]\n",
    "]\n",
    "outline_content = \"\".join([cell[\"source\"] for cell in outline_cells])"
   ]
  },
  {
   "cell_type": "code",
   "execution_count": 6,
   "id": "193d8a37-cb0c-4096-be66-55539ae48bf0",
   "metadata": {
    "collapsed": true,
    "jupyter": {
     "outputs_hidden": true
    },
    "scrolled": true
   },
   "outputs": [
    {
     "name": "stdout",
     "output_type": "stream",
     "text": [
      "Prompt Tokens count: [709]\n",
      "[\n",
      "    {\n",
      "        \"idx\": 0,\n",
      "        \"level\": \"0\",\n",
      "        \"title\": \"Unraveling the “black-box” of artificial intelligence-based pathological analysis of liver cancer\",\n",
      "        \"intro\": \"A comprehensive exploration of the current advances, challenges, and strategies in applying AI for pathological analysis of liver cancer.\"\n",
      "    },\n",
      "    {\n",
      "        \"idx\": 1,\n",
      "        \"level\": \"1\",\n",
      "        \"title\": \"Current advances of AI-based approaches for clinical management of liver cancer\",\n",
      "        \"intro\": \"An overview of the latest developments in AI technologies and their applications in the clinical management of liver cancer.\"\n",
      "    },\n",
      "    {\n",
      "        \"idx\": 2,\n",
      "        \"level\": \"1.1\",\n",
      "        \"title\": \"AI-based prognostication of liver cancer\",\n",
      "        \"intro\": \"Discussion on how AI is being used to predict the progression and outcome of liver cancer.\"\n",
      "    },\n",
      "    {\n",
      "        \"idx\": 3,\n",
      "        \"level\": \"1.2\",\n",
      "        \"title\": \"Molecular profiling of liver cancer via AI\",\n",
      "        \"intro\": \"Insights into how AI is leveraged for molecular profiling of liver cancer for personalized treatment strategies.\"\n",
      "    },\n",
      "    {\n",
      "        \"idx\": 4,\n",
      "        \"level\": \"1.3\",\n",
      "        \"title\": \"Exploring predictive indicators for therapy response\",\n",
      "        \"intro\": \"Exploration of AI's role in identifying predictive indicators for therapy response in liver cancer treatment.\"\n",
      "    },\n",
      "    {\n",
      "        \"idx\": 5,\n",
      "        \"level\": \"2\",\n",
      "        \"title\": \"Current challenges limiting AI-based approaches in the management of liver cancer\",\n",
      "        \"intro\": \"A detailed analysis of the existing challenges and limitations in the use of AI for liver cancer management.\"\n",
      "    },\n",
      "    {\n",
      "        \"idx\": 6,\n",
      "        \"level\": \"3\",\n",
      "        \"title\": \"Strategies for unraveling the “black-box” of AI-based pathological analysis of liver cancer\",\n",
      "        \"intro\": \"A comprehensive discussion on various strategies to decode the complex workings of AI in pathological analysis of liver cancer.\"\n",
      "    },\n",
      "    {\n",
      "        \"idx\": 7,\n",
      "        \"level\": \"3.1\",\n",
      "        \"title\": \"Model-based explanation\",\n",
      "        \"intro\": \"An in-depth look into model-based explanations for AI's decision-making process in liver cancer analysis.\"\n",
      "    },\n",
      "    {\n",
      "        \"idx\": 8,\n",
      "        \"level\": \"3.1.1\",\n",
      "        \"title\": \"Support vector machine or random forests vs. deep learning\",\n",
      "        \"intro\": \"A comparative study of different AI models like support vector machines, random forests and deep learning for liver cancer analysis.\"\n",
      "    },\n",
      "    {\n",
      "        \"idx\": 9,\n",
      "        \"level\": \"3.1.2\",\n",
      "        \"title\": \"Supervised learning vs. weakly supervised learning vs. unsupervised learning\",\n",
      "        \"intro\": \"A thorough comparison of supervised, weakly supervised, and unsupervised learning approaches in AI for liver cancer analysis.\"\n",
      "    },\n",
      "    {\n",
      "        \"idx\": 10,\n",
      "        \"level\": \"3.1.3\",\n",
      "        \"title\": \"Textual explanation\",\n",
      "        \"intro\": \"Understanding how textual explanations can be generated from AI models for liver cancer analysis.\"\n",
      "    },\n",
      "    {\n",
      "        \"idx\": 11,\n",
      "        \"level\": \"3.1.3.1\",\n",
      "        \"title\": \"Image captioning\",\n",
      "        \"intro\": \"Insight into how AI can generate textual descriptions for pathological images in liver cancer analysis.\"\n",
      "    },\n",
      "    {\n",
      "        \"idx\": 12,\n",
      "        \"level\": \"3.1.3.2\",\n",
      "        \"title\": \"Image captioning with visual explanation\",\n",
      "        \"intro\": \"Discussion on how AI combines textual descriptions with visual explanations for a comprehensive understanding of liver cancer pathology.\"\n",
      "    },\n",
      "    {\n",
      "        \"idx\": 13,\n",
      "        \"level\": \"3.1.4\",\n",
      "        \"title\": \"Example-based explanation\",\n",
      "        \"intro\": \"Exploring how AI uses examples to provide explanations for its decisions in liver cancer analysis.\"\n",
      "    },\n",
      "    {\n",
      "        \"idx\": 14,\n",
      "        \"level\": \"3.1.4.1\",\n",
      "        \"title\": \"Triplet network\",\n",
      "        \"intro\": \"Understanding how the triplet network, an example-based explanation model, works in the context of AI-based liver cancer analysis.\"\n",
      "    },\n",
      "    {\n",
      "        \"idx\": 15,\n",
      "        \"level\": \"3.1.4.2\",\n",
      "        \"title\": \"Prototypes\",\n",
      "        \"intro\": \"Exploration of how prototypes are used as examples to explain AI decisions in liver cancer analysis.\"\n",
      "    },\n",
      "    {\n",
      "        \"idx\": 16,\n",
      "        \"level\": \"3.2\",\n",
      "        \"title\": \"Post hoc explanation\",\n",
      "        \"intro\": \"Discussion on post hoc explanations, which provide insights into AI decisions after they have been\n",
      "Response Tokens count: [1000] [stop]\n",
      "Continue ...\n",
      "Prompt Tokens count: [1717]\n",
      "[\n",
      "    ...\n",
      "    {\n",
      "        \"idx\": 16,\n",
      "        \"level\": \"3.2\",\n",
      "        \"title\": \"Post hoc explanation\",\n",
      "        \"intro\": \"Discussion on post hoc explanations, which provide insights into AI decisions after they have been made in the context of liver cancer analysis.\"\n",
      "    },\n",
      "    {\n",
      "        \"idx\": 17,\n",
      "        \"level\": \"3.2.1\",\n",
      "        \"title\": \"Visual explanation (saliency mapping, pathologist-in-the-loop)\",\n",
      "        \"intro\": \"Exploration of visual explanation techniques like saliency mapping and pathologist-in-the-loop in AI-based liver cancer analysis.\"\n",
      "    },\n",
      "    {\n",
      "        \"idx\": 18,\n",
      "        \"level\": \"3.2.1.1\",\n",
      "        \"title\": \"Backpropagation-based approaches\",\n",
      "        \"intro\": \"Insight into backpropagation-based approaches for visual explanation in AI-based liver cancer analysis.\"\n",
      "    },\n",
      "    {\n",
      "        \"idx\": 19,\n",
      "        \"level\": \"3.2.1.2\",\n",
      "        \"title\": \"Perturbation-based approaches\",\n",
      "        \"intro\": \"Understanding of perturbation-based approaches for providing visual explanations in AI-based liver cancer analysis.\"\n",
      "    },\n",
      "    {\n",
      "        \"idx\": 20,\n",
      "        \"level\": \"3.2.1.3\",\n",
      "        \"title\": \"Multiple instance learning-based approaches\",\n",
      "        \"intro\": \"Discussion on how multiple instance learning-based approaches contribute to visual explanations in AI-based liver cancer analysis.\"\n",
      "    },\n",
      "    {\n",
      "        \"idx\": 21,\n",
      "        \"level\": \"3.2.2\",\n",
      "        \"title\": \"Textual explanation\",\n",
      "        \"intro\": \"Insight into how textual explanations can be used in post hoc analysis of AI's decisions in liver cancer.\"\n",
      "    },\n",
      "    {\n",
      "        \"idx\": 22,\n",
      "        \"level\": \"3.2.3\",\n",
      "        \"title\": \"Example-based explanation\",\n",
      "        \"intro\": \"Exploring how example-based explanations can be used in post hoc analysis of AI's decisions in liver cancer.\"\n",
      "    },\n",
      "    {\n",
      "        \"idx\": 23,\n",
      "        \"level\": \"4\",\n",
      "        \"title\": \"Conclusion and future applications\",\n",
      "        \"intro\": \"Final thoughts on the current state of AI in liver cancer analysis and potential future developments in the field.\"\n",
      "    }\n",
      "]\n",
      "Response Tokens count: [474] [stop]\n"
     ]
    }
   ],
   "source": [
    "outline_filler.clear_history_messages()\n",
    "outline_filler_res = outline_filler.chat(outline_content, continous=True)"
   ]
  },
  {
   "cell_type": "raw",
   "id": "942bbdb9-1bb2-496a-9881-bc542f4e7779",
   "metadata": {},
   "source": [
    "A typical workflow of generate a detailed review of a section title:\n",
    "- [Agent] outline_filler: Fill in the outline with intros, and structuralize it to JSON with idx and levels.\n",
    "- [Agent] Synonymer: Generate similar texts for each sub-section\n",
    "- [Program] Retrieve and Re-rank from local embbedings of docs\n",
    "- [Agent] Summarizer: Summarize the above content into a section\n",
    "- [Agent] Polisher: Polish the content of the section"
   ]
  },
  {
   "cell_type": "code",
   "execution_count": null,
   "id": "725ecc57-3a03-4931-b56d-16297893b51f",
   "metadata": {
    "scrolled": true
   },
   "outputs": [],
   "source": [
    "outline_details_json_path = \"data/review_outline_details.json\"\n",
    "with open(outline_details_json_path, \"r\", encoding=\"utf-8\") as rf:\n",
    "    outline_details_data = json.load(rf)\n",
    "display(outline_details_data)"
   ]
  }
 ],
 "metadata": {
  "kernelspec": {
   "display_name": "Python 3 (ipykernel)",
   "language": "python",
   "name": "python3"
  },
  "language_info": {
   "codemirror_mode": {
    "name": "ipython",
    "version": 3
   },
   "file_extension": ".py",
   "mimetype": "text/x-python",
   "name": "python",
   "nbconvert_exporter": "python",
   "pygments_lexer": "ipython3",
   "version": "3.11.4"
  },
  "widgets": {
   "application/vnd.jupyter.widget-state+json": {
    "state": {
     "001ec03eac03450f897cf344f532ee7b": {
      "model_module": "@jupyter-widgets/controls",
      "model_module_version": "2.0.0",
      "model_name": "TextStyleModel",
      "state": {
       "description_width": "",
       "font_size": null,
       "text_color": null
      }
     },
     "00209553231042f2a5081ac9e0b00f40": {
      "model_module": "@jupyter-widgets/controls",
      "model_module_version": "2.0.0",
      "model_name": "HTMLStyleModel",
      "state": {
       "description_width": "",
       "font_size": null,
       "text_color": null
      }
     },
     "00a4797cbc7d4a7e9e85de60817906bc": {
      "model_module": "@jupyter-widgets/controls",
      "model_module_version": "2.0.0",
      "model_name": "HTMLStyleModel",
      "state": {
       "description_width": "",
       "font_size": null,
       "text_color": null
      }
     },
     "00acaf9e47d449c49830fcbda5e9bc0b": {
      "model_module": "@jupyter-widgets/base",
      "model_module_version": "2.0.0",
      "model_name": "LayoutModel",
      "state": {
       "justify_content": "flex-start",
       "width": "90%"
      }
     },
     "00c4ae749d2d4c65a37fbcd4491ac8d0": {
      "model_module": "@jupyter-widgets/controls",
      "model_module_version": "2.0.0",
      "model_name": "ButtonModel",
      "state": {
       "description": "Summarize",
       "icon": "rocket",
       "layout": "IPY_MODEL_2d354d4cc9b24e97ab59c6956782fea2",
       "style": "IPY_MODEL_e4b9ac43170945cc8869f83206913f7c",
       "tooltip": "Summarize this section based on the topic and intro"
      }
     },
     "00f29a9019ed4c87b57eccc9b918b5da": {
      "model_module": "@jupyter-widgets/controls",
      "model_module_version": "2.0.0",
      "model_name": "TextStyleModel",
      "state": {
       "description_width": "",
       "font_size": null,
       "text_color": null
      }
     },
     "015649e789f0414db6b650b355068875": {
      "model_module": "@jupyter-widgets/controls",
      "model_module_version": "2.0.0",
      "model_name": "TextModel",
      "state": {
       "layout": "IPY_MODEL_556862f011034ee1a8c35aee7f53bea1",
       "placeholder": "20",
       "style": "IPY_MODEL_28028ef2024a485f91a9694e61d32691",
       "value": "20"
      }
     },
     "015a2c01d7f2479c81256cd08d728507": {
      "model_module": "@jupyter-widgets/controls",
      "model_module_version": "2.0.0",
      "model_name": "HBoxModel",
      "state": {
       "children": [
        "IPY_MODEL_8e2342e03e4542a6b158177406cbfdba",
        "IPY_MODEL_7080aa62c6bf4601a56b2dfdcf43e89f"
       ],
       "layout": "IPY_MODEL_eae30a19f6fc4317b0cbfde1b9bf45ba"
      }
     },
     "0166db9506b54f459b71fa1e9f802945": {
      "model_module": "@jupyter-widgets/controls",
      "model_module_version": "2.0.0",
      "model_name": "VBoxModel",
      "state": {
       "children": [
        "IPY_MODEL_d1494a2b17da4322ab236fa2b2031384",
        "IPY_MODEL_52740a82689947a4a8b10403803d1096"
       ],
       "layout": "IPY_MODEL_90002fef25954f28a1049159061de3cc"
      }
     },
     "018885ca0621429aa19a0ccbf6b56efc": {
      "model_module": "@jupyter-widgets/controls",
      "model_module_version": "2.0.0",
      "model_name": "HTMLModel",
      "state": {
       "layout": "IPY_MODEL_8a3ceabed8544945983cf01536569c5a",
       "style": "IPY_MODEL_dc8cc0f530c943aca29d9ade20095db4",
       "value": "3.2.1.1"
      }
     },
     "01a58463c4c341bd8ff51edbc5795087": {
      "model_module": "@jupyter-widgets/controls",
      "model_module_version": "2.0.0",
      "model_name": "HBoxModel",
      "state": {
       "children": [
        "IPY_MODEL_6c436ccc7b27402c86f39c43143a9690",
        "IPY_MODEL_a8950ca00a254807a09bbba1111fbea7"
       ],
       "layout": "IPY_MODEL_308a15eb422241bbb3f08845b70c4963"
      }
     },
     "01b6d9f8e9f846bf8010b59d439dc838": {
      "model_module": "@jupyter-widgets/controls",
      "model_module_version": "2.0.0",
      "model_name": "HTMLStyleModel",
      "state": {
       "description_width": "",
       "font_size": null,
       "text_color": null
      }
     },
     "020fce248b8a4f4f9be0e89131d6b219": {
      "model_module": "@jupyter-widgets/controls",
      "model_module_version": "2.0.0",
      "model_name": "TextModel",
      "state": {
       "layout": "IPY_MODEL_ed9385ea99fc4c87a47d629b4dd91d27",
       "style": "IPY_MODEL_26a4873fa43b4eacb9c9eb978891c059",
       "value": "Exploring how example-based explanations can be used in post hoc analysis of AI's decisions in liver cancer."
      }
     },
     "02352a8837b6403596bfb6e5057849b2": {
      "model_module": "@jupyter-widgets/base",
      "model_module_version": "2.0.0",
      "model_name": "LayoutModel",
      "state": {
       "justify_content": "flex-start",
       "width": "60px"
      }
     },
     "0280edc2d60b45129cedb25d41082078": {
      "model_module": "@jupyter-widgets/controls",
      "model_module_version": "2.0.0",
      "model_name": "HTMLStyleModel",
      "state": {
       "description_width": "",
       "font_size": null,
       "text_color": null
      }
     },
     "028f7153ca1249618155cc32a9bef706": {
      "model_module": "@jupyter-widgets/controls",
      "model_module_version": "2.0.0",
      "model_name": "VBoxModel",
      "state": {
       "children": [
        "IPY_MODEL_4a18de614b6e453a9646715bc5cba120",
        "IPY_MODEL_a038566017584211879ed69cb924b5a2"
       ],
       "layout": "IPY_MODEL_901be33698d74524b965a9ec9962ff0a"
      }
     },
     "0291e632582e43319c48ee1e4b75af5c": {
      "model_module": "@jupyter-widgets/base",
      "model_module_version": "2.0.0",
      "model_name": "LayoutModel",
      "state": {
       "justify_content": "flex-start"
      }
     },
     "029e0b9df1a14cc4a0f6ce8d7447cf99": {
      "model_module": "@jupyter-widgets/controls",
      "model_module_version": "2.0.0",
      "model_name": "HTMLStyleModel",
      "state": {
       "description_width": "",
       "font_size": null,
       "text_color": null
      }
     },
     "02c9110272b04e5d8eb53764e01a9239": {
      "model_module": "@jupyter-widgets/controls",
      "model_module_version": "2.0.0",
      "model_name": "HBoxModel",
      "state": {
       "children": [
        "IPY_MODEL_7bd05d5d31d64a3a9a11ab6c4b306d73",
        "IPY_MODEL_44a741caecc7454abce1591b1fc1b089"
       ],
       "layout": "IPY_MODEL_da1f395915094851ad0e28d465bcd8d4"
      }
     },
     "02d3a38e00c047c888246b4b3580813a": {
      "model_module": "@jupyter-widgets/controls",
      "model_module_version": "2.0.0",
      "model_name": "HBoxModel",
      "state": {
       "children": [
        "IPY_MODEL_13bef3e2c80b405fb051578df57398ae",
        "IPY_MODEL_ab159da0e9854761918e6fe5d8925b62",
        "IPY_MODEL_b6170bb89edc464a9542b517c1f14588"
       ],
       "layout": "IPY_MODEL_9803722a89d74585b9083dbf6805d366"
      }
     },
     "0329500f836943caa53f8dfb153ad3fd": {
      "model_module": "@jupyter-widgets/base",
      "model_module_version": "2.0.0",
      "model_name": "LayoutModel",
      "state": {
       "justify_content": "flex-start",
       "width": "40px"
      }
     },
     "032c4cf9b5ab42a18262476798b7b581": {
      "model_module": "@jupyter-widgets/controls",
      "model_module_version": "2.0.0",
      "model_name": "HBoxModel",
      "state": {
       "children": [
        "IPY_MODEL_b856ac99ac114d82b77c4c117e92d67d",
        "IPY_MODEL_2c0596c477f54cc5b7b3528aceca11f3",
        "IPY_MODEL_ea23bff627d747e78b2a0544209662be"
       ],
       "layout": "IPY_MODEL_044d201a86c447edbdc818c64c550e6e"
      }
     },
     "035123df12404390b78160621101d829": {
      "model_module": "@jupyter-widgets/controls",
      "model_module_version": "2.0.0",
      "model_name": "ButtonStyleModel",
      "state": {
       "font_family": null,
       "font_size": null,
       "font_style": null,
       "font_variant": null,
       "font_weight": null,
       "text_color": null,
       "text_decoration": null
      }
     },
     "03b23b5aa1d6403485a3394f433e2ea1": {
      "model_module": "@jupyter-widgets/base",
      "model_module_version": "2.0.0",
      "model_name": "LayoutModel",
      "state": {}
     },
     "03ebf955ed57410abe814626ac5fdea7": {
      "model_module": "@jupyter-widgets/controls",
      "model_module_version": "2.0.0",
      "model_name": "TextModel",
      "state": {
       "layout": "IPY_MODEL_06f9a59165f7470e971015d8b490e7af",
       "style": "IPY_MODEL_46171a730e414646aa687e4b9b561a6c",
       "value": "Insight into how AI can generate textual descriptions for pathological images in liver cancer analysis."
      }
     },
     "03fb723f80224ee0a96308ec1e748ab0": {
      "model_module": "@jupyter-widgets/controls",
      "model_module_version": "2.0.0",
      "model_name": "TextModel",
      "state": {
       "description": "Prompt",
       "layout": "IPY_MODEL_71176b0e184b42f089ec648d2af3c44b",
       "placeholder": "",
       "style": "IPY_MODEL_746cf2194da74ca4a61a7ca887b38c9b"
      }
     },
     "044d201a86c447edbdc818c64c550e6e": {
      "model_module": "@jupyter-widgets/base",
      "model_module_version": "2.0.0",
      "model_name": "LayoutModel",
      "state": {}
     },
     "0479ddbebf024718ae6c4d4fc142b6fb": {
      "model_module": "@jupyter-widgets/controls",
      "model_module_version": "2.0.0",
      "model_name": "ButtonStyleModel",
      "state": {
       "font_family": null,
       "font_size": null,
       "font_style": null,
       "font_variant": null,
       "font_weight": null,
       "text_color": null,
       "text_decoration": null
      }
     },
     "047abb74598e4d5b942ad96c191c2dfd": {
      "model_module": "@jupyter-widgets/controls",
      "model_module_version": "2.0.0",
      "model_name": "HTMLModel",
      "state": {
       "layout": "IPY_MODEL_2b9a307786c94af0bf6f38245c5a510b",
       "style": "IPY_MODEL_d11b2fb6a9fb4a1aab8d078f313f076f",
       "value": "words:"
      }
     },
     "04f50df3a64f4e18bc17447f6af3579d": {
      "model_module": "@jupyter-widgets/controls",
      "model_module_version": "2.0.0",
      "model_name": "HBoxModel",
      "state": {
       "children": [
        "IPY_MODEL_1607c407060a4ccbbfa752f5213bab78",
        "IPY_MODEL_4f5fc51ad63046eda6e075f80104da0d"
       ],
       "layout": "IPY_MODEL_4ed398ec309944f1ac35d18ef11e6fc9"
      }
     },
     "055a4db0a0a64757b121451ae631642c": {
      "model_module": "@jupyter-widgets/controls",
      "model_module_version": "2.0.0",
      "model_name": "HTMLStyleModel",
      "state": {
       "description_width": "",
       "font_size": null,
       "text_color": null
      }
     },
     "056f1fa7f3d34d35b0fe04080d524cfe": {
      "model_module": "@jupyter-widgets/controls",
      "model_module_version": "2.0.0",
      "model_name": "HTMLModel",
      "state": {
       "layout": "IPY_MODEL_1371877083924cd09d483dd468178027",
       "style": "IPY_MODEL_16104203f6964321b51a3e2af2bb608f",
       "value": "1.2"
      }
     },
     "05a03405e62b4a03a4bc461524c87d85": {
      "model_module": "@jupyter-widgets/controls",
      "model_module_version": "2.0.0",
      "model_name": "VBoxModel",
      "state": {
       "children": [
        "IPY_MODEL_e13eb85935a1416398846bea53344a8c",
        "IPY_MODEL_cd70080011b6451897e00c6ded730189"
       ],
       "layout": "IPY_MODEL_b3b168f5a2f6424297bdd455902b8717"
      }
     },
     "05a7543edf0344a38df1d0ba47422dd0": {
      "model_module": "@jupyter-widgets/controls",
      "model_module_version": "2.0.0",
      "model_name": "VBoxModel",
      "state": {
       "children": [
        "IPY_MODEL_ab32165bba7c4de8a6a6efe42f319b4e",
        "IPY_MODEL_b029e93a68264a48b3e83d8ca41eb1e4"
       ],
       "layout": "IPY_MODEL_60645af4508b4eedae80501dfaf9d335"
      }
     },
     "05c2c7adb3b946cea3c6f8dfbf96751f": {
      "model_module": "@jupyter-widgets/base",
      "model_module_version": "2.0.0",
      "model_name": "LayoutModel",
      "state": {
       "height": "50%",
       "width": "50%"
      }
     },
     "05cd25b1c6ae45cab4fc9116cdd2650b": {
      "model_module": "@jupyter-widgets/controls",
      "model_module_version": "2.0.0",
      "model_name": "HTMLStyleModel",
      "state": {
       "description_width": "",
       "font_size": null,
       "text_color": null
      }
     },
     "05efa27e6eb74ce08027cef17dfbe1e6": {
      "model_module": "@jupyter-widgets/controls",
      "model_module_version": "2.0.0",
      "model_name": "HBoxModel",
      "state": {
       "children": [
        "IPY_MODEL_ea487eb80dbc43fab6478a39a9f72528",
        "IPY_MODEL_1908a88e488849a48525101e6e7155d5"
       ],
       "layout": "IPY_MODEL_58e9e555c29b4f5ca6e4bce82673d26a"
      }
     },
     "06f9a59165f7470e971015d8b490e7af": {
      "model_module": "@jupyter-widgets/base",
      "model_module_version": "2.0.0",
      "model_name": "LayoutModel",
      "state": {
       "border_bottom": "1px solid transparent",
       "border_left": "1px solid transparent",
       "border_right": "1px solid transparent",
       "border_top": "1px solid transparent",
       "justify_content": "flex-start",
       "width": "99%"
      }
     },
     "072306e748724da3b6b50074a49c8efa": {
      "model_module": "@jupyter-widgets/controls",
      "model_module_version": "2.0.0",
      "model_name": "ButtonStyleModel",
      "state": {
       "font_family": null,
       "font_size": null,
       "font_style": null,
       "font_variant": null,
       "font_weight": null,
       "text_color": null,
       "text_decoration": null
      }
     },
     "07243e9be1d548f4ac566e9c58113bd0": {
      "model_module": "@jupyter-widgets/controls",
      "model_module_version": "2.0.0",
      "model_name": "HTMLStyleModel",
      "state": {
       "description_width": "",
       "font_size": null,
       "text_color": null
      }
     },
     "074a03d8e1b94a3db49f7f6d5dc54356": {
      "model_module": "@jupyter-widgets/controls",
      "model_module_version": "2.0.0",
      "model_name": "HTMLStyleModel",
      "state": {
       "description_width": "",
       "font_size": null,
       "text_color": null
      }
     },
     "074e703de5934f24be18050c8a177122": {
      "model_module": "@jupyter-widgets/base",
      "model_module_version": "2.0.0",
      "model_name": "LayoutModel",
      "state": {}
     },
     "076e6470615e441aa5e27c23d3bafc3c": {
      "model_module": "@jupyter-widgets/base",
      "model_module_version": "2.0.0",
      "model_name": "LayoutModel",
      "state": {
       "justify_content": "flex-start",
       "width": "40px"
      }
     },
     "079faf67e1fd42a8a78dafd61299eac9": {
      "model_module": "@jupyter-widgets/controls",
      "model_module_version": "2.0.0",
      "model_name": "HBoxModel",
      "state": {
       "children": [
        "IPY_MODEL_42aa02d6a1df469e85d897ce33c8358d",
        "IPY_MODEL_e8e5d6a0c6554027a1ff9e0271259363"
       ],
       "layout": "IPY_MODEL_26b95f697c47406f9a4ae63e701181b5"
      }
     },
     "07a669fe526643ccba726a7a0d8ee916": {
      "model_module": "@jupyter-widgets/controls",
      "model_module_version": "2.0.0",
      "model_name": "HBoxModel",
      "state": {
       "children": [
        "IPY_MODEL_10aa5589abf44e4d9e89b7e1aaf36010",
        "IPY_MODEL_1f032d7252cf42c38a3f8311d4c52bd0"
       ],
       "layout": "IPY_MODEL_1dab8bbf86f2425cadae52b849e3ad86"
      }
     },
     "07a8a26ca1f64bdda1751c331e22f373": {
      "model_module": "@jupyter-widgets/controls",
      "model_module_version": "2.0.0",
      "model_name": "TextModel",
      "state": {
       "layout": "IPY_MODEL_8d476244d8aa40769ced7c7817a7db1a",
       "style": "IPY_MODEL_2f6823fc975143e3a79e2765b8f1a849",
       "value": "An overview of the latest developments in AI technologies and their applications in the clinical management of liver cancer."
      }
     },
     "07d9e07991694059b649a6004d6a348a": {
      "model_module": "@jupyter-widgets/controls",
      "model_module_version": "2.0.0",
      "model_name": "HBoxModel",
      "state": {
       "children": [
        "IPY_MODEL_1b3313bc937149f982e3fbaa63a790c8",
        "IPY_MODEL_9da5e1aa956a4d00a7929c4f0f78693f"
       ],
       "layout": "IPY_MODEL_de557220d5d64ad8836587aacf3863d8"
      }
     },
     "08809d31487047a894a8065e7715d0ea": {
      "model_module": "@jupyter-widgets/controls",
      "model_module_version": "2.0.0",
      "model_name": "HTMLStyleModel",
      "state": {
       "description_width": "",
       "font_size": null,
       "text_color": null
      }
     },
     "08a3418289604fa4bca1bd6ec973282b": {
      "model_module": "@jupyter-widgets/controls",
      "model_module_version": "2.0.0",
      "model_name": "TextStyleModel",
      "state": {
       "description_width": "",
       "font_size": null,
       "text_color": null
      }
     },
     "08a7075788d549f3b3151bd2cd36aed1": {
      "model_module": "@jupyter-widgets/controls",
      "model_module_version": "2.0.0",
      "model_name": "HBoxModel",
      "state": {
       "children": [
        "IPY_MODEL_e8c54e4554b44a1ab8728aaf2a1ab74d",
        "IPY_MODEL_35b0e84c6ea441c0b2935c60613b1a34"
       ],
       "layout": "IPY_MODEL_72bf69ab00ea4ca5b6241ed5939b8f53"
      }
     },
     "08bb42ed085947ad9d28a98536346049": {
      "model_module": "@jupyter-widgets/controls",
      "model_module_version": "2.0.0",
      "model_name": "HBoxModel",
      "state": {
       "children": [
        "IPY_MODEL_0dae52edf52744cd8fb527cc1bd845f2",
        "IPY_MODEL_29a12c1d1b2741efaaea5fbe1e8b36cb"
       ],
       "layout": "IPY_MODEL_8040a871df114198955c1bedf5e0fafa"
      }
     },
     "08be747eeabd418aa0b49a488d8ee7bf": {
      "model_module": "@jupyter-widgets/base",
      "model_module_version": "2.0.0",
      "model_name": "LayoutModel",
      "state": {}
     },
     "08d51d90ed8b435db08bdc3c0d5e2b7c": {
      "model_module": "@jupyter-widgets/controls",
      "model_module_version": "2.0.0",
      "model_name": "HBoxModel",
      "state": {
       "children": [
        "IPY_MODEL_173acc35ce13417f82366205d72b749d",
        "IPY_MODEL_80abb094aeff4b09887f6a41aef38697"
       ],
       "layout": "IPY_MODEL_8b23899302e44642a723ad5ad8fd1da1"
      }
     },
     "090a4d61ef5e4d65a9b819ed8f8365ad": {
      "model_module": "@jupyter-widgets/base",
      "model_module_version": "2.0.0",
      "model_name": "LayoutModel",
      "state": {}
     },
     "092f702f96094ba6a8dd6e5eb7a3a0bd": {
      "model_module": "@jupyter-widgets/base",
      "model_module_version": "2.0.0",
      "model_name": "LayoutModel",
      "state": {
       "justify_content": "flex-start"
      }
     },
     "0931f331c696426e9cc04b5d2b4aa694": {
      "model_module": "@jupyter-widgets/base",
      "model_module_version": "2.0.0",
      "model_name": "LayoutModel",
      "state": {}
     },
     "09544505e5074e84bf379c7411eceae5": {
      "model_module": "@jupyter-widgets/controls",
      "model_module_version": "2.0.0",
      "model_name": "TextStyleModel",
      "state": {
       "background": "#000000",
       "description_width": "50px",
       "font_size": null,
       "text_color": null
      }
     },
     "09bc2512226444af914e483e1711eae3": {
      "model_module": "@jupyter-widgets/base",
      "model_module_version": "2.0.0",
      "model_name": "LayoutModel",
      "state": {
       "display": "none"
      }
     },
     "09c631a1e6964e5ea3f47601c37d7e11": {
      "model_module": "@jupyter-widgets/controls",
      "model_module_version": "2.0.0",
      "model_name": "TextStyleModel",
      "state": {
       "background": "transparent",
       "description_width": "50px",
       "font_size": null,
       "text_color": null
      }
     },
     "09dce995b1bd4b3aadd0706f017d4268": {
      "model_module": "@jupyter-widgets/controls",
      "model_module_version": "2.0.0",
      "model_name": "HBoxModel",
      "state": {
       "children": [
        "IPY_MODEL_015649e789f0414db6b650b355068875",
        "IPY_MODEL_330063ce055646d184875f0d8e68a6c3"
       ],
       "layout": "IPY_MODEL_b4a52d1ebe494cffa8ea68f4710719b4"
      }
     },
     "09eecce47ef040f1ad9bb15e40e6dc35": {
      "model_module": "@jupyter-widgets/controls",
      "model_module_version": "2.0.0",
      "model_name": "TextModel",
      "state": {
       "layout": "IPY_MODEL_53e9d6f917934301ab41f665bb9cffc9",
       "style": "IPY_MODEL_f5df48451a1e4ac3833abe5fde8b40bc",
       "value": "Current advances of AI-based approaches for clinical management of liver cancer"
      }
     },
     "0a1ea1113fbb4226be026598eda7c584": {
      "model_module": "@jupyter-widgets/base",
      "model_module_version": "2.0.0",
      "model_name": "LayoutModel",
      "state": {}
     },
     "0a70ac2ab59b4b92bcd0152cad0bb3ea": {
      "model_module": "@jupyter-widgets/controls",
      "model_module_version": "2.0.0",
      "model_name": "HTMLModel",
      "state": {
       "layout": "IPY_MODEL_4b98169c05ea4c739514b2ab9989c5d3",
       "style": "IPY_MODEL_8a411590884f4c6c981bcc7537b9e627",
       "value": " to "
      }
     },
     "0a882a52049b467c8c86341a406d1794": {
      "model_module": "@jupyter-widgets/controls",
      "model_module_version": "2.0.0",
      "model_name": "ButtonStyleModel",
      "state": {
       "font_family": null,
       "font_size": null,
       "font_style": null,
       "font_variant": null,
       "font_weight": null,
       "text_color": null,
       "text_decoration": null
      }
     },
     "0a938cb8a7f74671a3fb607711a4a4ab": {
      "model_module": "@jupyter-widgets/base",
      "model_module_version": "2.0.0",
      "model_name": "LayoutModel",
      "state": {
       "justify_content": "flex-start"
      }
     },
     "0a9ae41be7954c7eb7eab74b7a329733": {
      "model_module": "@jupyter-widgets/controls",
      "model_module_version": "2.0.0",
      "model_name": "TextStyleModel",
      "state": {
       "description_width": "50px",
       "font_size": null,
       "text_color": null
      }
     },
     "0a9b1fec40d44fecafe33684c30f37a0": {
      "model_module": "@jupyter-widgets/controls",
      "model_module_version": "2.0.0",
      "model_name": "HTMLStyleModel",
      "state": {
       "description_width": "",
       "font_size": null,
       "text_color": null
      }
     },
     "0ac4e7bd4fd6463c9ec04c84334acf1b": {
      "model_module": "@jupyter-widgets/controls",
      "model_module_version": "2.0.0",
      "model_name": "HBoxModel",
      "state": {
       "children": [
        "IPY_MODEL_1e6e68381a7441ada5d11e982b45bbc4",
        "IPY_MODEL_0b4764c690f94d658e1623e24c95df1d",
        "IPY_MODEL_8c68f9a8db1e41819581d1685b531069"
       ],
       "layout": "IPY_MODEL_8fba69a831c24746b98dda5875dab5a0"
      }
     },
     "0af8a834042e47c58ca9e3e98d672698": {
      "model_module": "@jupyter-widgets/base",
      "model_module_version": "2.0.0",
      "model_name": "LayoutModel",
      "state": {
       "justify_content": "flex-start",
       "width": "40px"
      }
     },
     "0b1e4919227342c1b10153a7ab99bae8": {
      "model_module": "@jupyter-widgets/controls",
      "model_module_version": "2.0.0",
      "model_name": "ButtonStyleModel",
      "state": {
       "font_family": null,
       "font_size": null,
       "font_style": null,
       "font_variant": null,
       "font_weight": null,
       "text_color": null,
       "text_decoration": null
      }
     },
     "0b1fbd3b6b8f4e99aa2699531a90d501": {
      "model_module": "@jupyter-widgets/controls",
      "model_module_version": "2.0.0",
      "model_name": "HTMLStyleModel",
      "state": {
       "description_width": "",
       "font_size": null,
       "text_color": null
      }
     },
     "0b299614897044b2b9a84e832c89d98e": {
      "model_module": "@jupyter-widgets/controls",
      "model_module_version": "2.0.0",
      "model_name": "HTMLStyleModel",
      "state": {
       "description_width": "",
       "font_size": null,
       "text_color": null
      }
     },
     "0b4764c690f94d658e1623e24c95df1d": {
      "model_module": "@jupyter-widgets/controls",
      "model_module_version": "2.0.0",
      "model_name": "TextModel",
      "state": {
       "layout": "IPY_MODEL_bf22e0193677449d89083834d6683889",
       "placeholder": "",
       "style": "IPY_MODEL_c85d789a84084a568edfed4555cb3988",
       "value": "500"
      }
     },
     "0b49c1feebad4416bc712e2277ef5848": {
      "model_module": "@jupyter-widgets/controls",
      "model_module_version": "2.0.0",
      "model_name": "HBoxModel",
      "state": {
       "children": [
        "IPY_MODEL_3ec8faa0e5bc4abea238faa29e516146",
        "IPY_MODEL_09eecce47ef040f1ad9bb15e40e6dc35"
       ],
       "layout": "IPY_MODEL_f046a2d3553d4df6a27e6343f424eb23"
      }
     },
     "0b6d50bf5b164021b7736f803127eaea": {
      "model_module": "@jupyter-widgets/controls",
      "model_module_version": "2.0.0",
      "model_name": "HTMLModel",
      "state": {
       "layout": "IPY_MODEL_20adf0eb56ce4795af202db631e96a2c",
       "style": "IPY_MODEL_794f9d77447c45ba82fc799a19302923",
       "value": " to "
      }
     },
     "0bb5108c93254b3dbed7311c52b38272": {
      "model_module": "@jupyter-widgets/base",
      "model_module_version": "2.0.0",
      "model_name": "LayoutModel",
      "state": {
       "justify_content": "flex-start",
       "width": "60px"
      }
     },
     "0c33e9dfd386475cbad2afd03a1c383d": {
      "model_module": "@jupyter-widgets/controls",
      "model_module_version": "2.0.0",
      "model_name": "ButtonModel",
      "state": {
       "description": "Retrieve",
       "icon": "list",
       "layout": "IPY_MODEL_800c221bba114729b70233528cc7c241",
       "style": "IPY_MODEL_ee53ce5921294fd6945bf20a1520bbdb",
       "tooltip": "Retrieve related references"
      }
     },
     "0c8ec2c7f72c4afaafd337fac1b7e3e6": {
      "model_module": "@jupyter-widgets/base",
      "model_module_version": "2.0.0",
      "model_name": "LayoutModel",
      "state": {
       "justify_content": "flex-start",
       "width": "90%"
      }
     },
     "0c9d0bb65a114816b500d5f54ddaa0c9": {
      "model_module": "@jupyter-widgets/controls",
      "model_module_version": "2.0.0",
      "model_name": "HTMLModel",
      "state": {
       "layout": "IPY_MODEL_20dc0ae9494e46a8944b46d876fcbb74",
       "style": "IPY_MODEL_a22eae82b8f44d0bb6a79aef48ef4ba4",
       "value": "queries,"
      }
     },
     "0cb497172b06417590f526c8520c2ff9": {
      "model_module": "@jupyter-widgets/base",
      "model_module_version": "2.0.0",
      "model_name": "LayoutModel",
      "state": {}
     },
     "0cd4c11f7d58478cb577e35676dfac83": {
      "model_module": "@jupyter-widgets/controls",
      "model_module_version": "2.0.0",
      "model_name": "VBoxModel",
      "state": {
       "children": [
        "IPY_MODEL_9231ac9a57304f08806995f01c38b149",
        "IPY_MODEL_ef0de6b76f8b4634ae8831d14e5413b4"
       ],
       "layout": "IPY_MODEL_442bff00b9524d01a2e2c7b3a09baf5e"
      }
     },
     "0d18ea5016454fcb8999c4c5f713e4d1": {
      "model_module": "@jupyter-widgets/controls",
      "model_module_version": "2.0.0",
      "model_name": "ButtonStyleModel",
      "state": {
       "font_family": null,
       "font_size": null,
       "font_style": null,
       "font_variant": null,
       "font_weight": null,
       "text_color": null,
       "text_decoration": null
      }
     },
     "0d542c19faba4cb7ac909d7410b18fa3": {
      "model_module": "@jupyter-widgets/controls",
      "model_module_version": "2.0.0",
      "model_name": "TextStyleModel",
      "state": {
       "background": "transparent",
       "description_width": "50px",
       "font_size": null,
       "text_color": null
      }
     },
     "0d6797a057cd4ca3aa4f2a7d36e74b8c": {
      "model_module": "@jupyter-widgets/controls",
      "model_module_version": "2.0.0",
      "model_name": "ButtonStyleModel",
      "state": {
       "font_family": null,
       "font_size": null,
       "font_style": null,
       "font_variant": null,
       "font_weight": null,
       "text_color": null,
       "text_decoration": null
      }
     },
     "0d6aa9e46f214cc089ea92648ef3f254": {
      "model_module": "@jupyter-widgets/controls",
      "model_module_version": "2.0.0",
      "model_name": "HBoxModel",
      "state": {
       "children": [
        "IPY_MODEL_5a838ff9d2ab45098c136599fec63d69",
        "IPY_MODEL_91153e57234241d383eab52e30a1870b"
       ],
       "layout": "IPY_MODEL_ff541291c92845c7b5533ceac4ea9f27"
      }
     },
     "0dae52edf52744cd8fb527cc1bd845f2": {
      "model_module": "@jupyter-widgets/controls",
      "model_module_version": "2.0.0",
      "model_name": "ButtonModel",
      "state": {
       "description": "Summarize",
       "icon": "rocket",
       "layout": "IPY_MODEL_14f44bb8298b461c93591c6c7fef6c8a",
       "style": "IPY_MODEL_dae36e2a8ed94a30abf47249dc19a91f",
       "tooltip": "Summarize this section based on the topic and intro"
      }
     },
     "0e517c72b8044fb5a1014a3401139243": {
      "model_module": "@jupyter-widgets/controls",
      "model_module_version": "2.0.0",
      "model_name": "TextStyleModel",
      "state": {
       "description_width": "50px",
       "font_size": null,
       "text_color": null
      }
     },
     "0e52025b2c74465393dda78d92f11a15": {
      "model_module": "@jupyter-widgets/base",
      "model_module_version": "2.0.0",
      "model_name": "LayoutModel",
      "state": {
       "justify_content": "flex-start"
      }
     },
     "0e55df71830341b68469ee1b98e8edcb": {
      "model_module": "@jupyter-widgets/controls",
      "model_module_version": "2.0.0",
      "model_name": "ButtonStyleModel",
      "state": {
       "font_family": null,
       "font_size": null,
       "font_style": null,
       "font_variant": null,
       "font_weight": null,
       "text_color": null,
       "text_decoration": null
      }
     },
     "0e6c4804312f4d10993fcea8e1ac3693": {
      "model_module": "@jupyter-widgets/controls",
      "model_module_version": "2.0.0",
      "model_name": "ButtonModel",
      "state": {
       "description": "Translate",
       "icon": "language",
       "layout": "IPY_MODEL_f7f0d99b36864d929a5cef0a5da1abbf",
       "style": "IPY_MODEL_b00148e0956245bd8cda136abbd4d868",
       "tooltip": "Click and translate the details for this section"
      }
     },
     "0e8221f115874c409c1d882c99bd9e35": {
      "model_module": "@jupyter-widgets/controls",
      "model_module_version": "2.0.0",
      "model_name": "HTMLStyleModel",
      "state": {
       "description_width": "",
       "font_size": null,
       "text_color": null
      }
     },
     "0e958d5e26734a8a8291aacab08e55c7": {
      "model_module": "@jupyter-widgets/base",
      "model_module_version": "2.0.0",
      "model_name": "LayoutModel",
      "state": {}
     },
     "0ead527375fb46e5adf00cbf2f6c7418": {
      "model_module": "@jupyter-widgets/controls",
      "model_module_version": "2.0.0",
      "model_name": "TextStyleModel",
      "state": {
       "background": "transparent",
       "description_width": "50px",
       "font_size": null,
       "text_color": null
      }
     },
     "0f36c5892fae4ffcb9b1c47f0e22f323": {
      "model_module": "@jupyter-widgets/base",
      "model_module_version": "2.0.0",
      "model_name": "LayoutModel",
      "state": {
       "justify_content": "flex-start"
      }
     },
     "0f98ec76ef15452a93bf87b6bbdf1093": {
      "model_module": "@jupyter-widgets/controls",
      "model_module_version": "2.0.0",
      "model_name": "ButtonStyleModel",
      "state": {
       "font_family": null,
       "font_size": null,
       "font_style": null,
       "font_variant": null,
       "font_weight": null,
       "text_color": null,
       "text_decoration": null
      }
     },
     "0fb4f24e9e10450f9a279677e42b5b7a": {
      "model_module": "@jupyter-widgets/base",
      "model_module_version": "2.0.0",
      "model_name": "LayoutModel",
      "state": {
       "display": "none"
      }
     },
     "0fe5cdbac8c94d30a7464e5c77d8dbed": {
      "model_module": "@jupyter-widgets/base",
      "model_module_version": "2.0.0",
      "model_name": "LayoutModel",
      "state": {}
     },
     "1069942dbdd14a6eae5cb2c01bcbdc58": {
      "model_module": "@jupyter-widgets/base",
      "model_module_version": "2.0.0",
      "model_name": "LayoutModel",
      "state": {
       "justify_content": "flex-start"
      }
     },
     "10aa5589abf44e4d9e89b7e1aaf36010": {
      "model_module": "@jupyter-widgets/controls",
      "model_module_version": "2.0.0",
      "model_name": "ButtonModel",
      "state": {
       "description": "Retrieve",
       "icon": "list",
       "layout": "IPY_MODEL_2d354d4cc9b24e97ab59c6956782fea2",
       "style": "IPY_MODEL_829c897908fc4c0eba0898c92324c43f",
       "tooltip": "Retrieve related references"
      }
     },
     "10b5a17617784ef0a934de2fcad1fd6e": {
      "model_module": "@jupyter-widgets/base",
      "model_module_version": "2.0.0",
      "model_name": "LayoutModel",
      "state": {
       "border_bottom": "1px solid purple",
       "border_left": "1px solid purple",
       "border_right": "1px solid purple",
       "border_top": "1px solid purple",
       "justify_content": "flex-start",
       "width": "auto"
      }
     },
     "111b9b03b9824cf5a5853cf25f4c1152": {
      "model_module": "@jupyter-widgets/base",
      "model_module_version": "2.0.0",
      "model_name": "LayoutModel",
      "state": {
       "justify_content": "flex-start",
       "width": "40px"
      }
     },
     "112a80c3013346709d225883aef60d0a": {
      "model_module": "@jupyter-widgets/controls",
      "model_module_version": "2.0.0",
      "model_name": "TextStyleModel",
      "state": {
       "description_width": "50px",
       "font_size": null,
       "text_color": null
      }
     },
     "11c37448cb9e42a3a5fd4dae9168357a": {
      "model_module": "@jupyter-widgets/controls",
      "model_module_version": "2.0.0",
      "model_name": "HBoxModel",
      "state": {
       "children": [
        "IPY_MODEL_589774f40c414fdaa5762a39d399ac23",
        "IPY_MODEL_05a7543edf0344a38df1d0ba47422dd0"
       ],
       "layout": "IPY_MODEL_1b023b9da484442abbf106ac3600d726"
      }
     },
     "121227161fe3401e94588bfba35fd13f": {
      "model_module": "@jupyter-widgets/controls",
      "model_module_version": "2.0.0",
      "model_name": "HBoxModel",
      "state": {
       "children": [
        "IPY_MODEL_aa0d433922c64fd09f5f60d17c05526a",
        "IPY_MODEL_4afe2450b0e34abdacf61de2c8be679a"
       ],
       "layout": "IPY_MODEL_aa8cdff0c4bf41fb9f09c1fa0be0c72e"
      }
     },
     "122483f099414561b2404b49e1ddb96c": {
      "model_module": "@jupyter-widgets/controls",
      "model_module_version": "2.0.0",
      "model_name": "HTMLStyleModel",
      "state": {
       "description_width": "",
       "font_size": null,
       "text_color": null
      }
     },
     "1233ac581b614ffbb315586f82062578": {
      "model_module": "@jupyter-widgets/base",
      "model_module_version": "2.0.0",
      "model_name": "LayoutModel",
      "state": {
       "justify_content": "flex-start",
       "width": "60px"
      }
     },
     "1245347034b54adfa2e5c39c3452e5d8": {
      "model_module": "@jupyter-widgets/controls",
      "model_module_version": "2.0.0",
      "model_name": "TextModel",
      "state": {
       "layout": "IPY_MODEL_88c998980bb0437c878ca4b03469fb0c",
       "style": "IPY_MODEL_09c631a1e6964e5ea3f47601c37d7e11",
       "value": "A comprehensive exploration of the current advances, challenges, and strategies in applying AI for pathological analysis of liver cancer."
      }
     },
     "127aef136b3249f09ffe14b9ee632bfb": {
      "model_module": "@jupyter-widgets/base",
      "model_module_version": "2.0.0",
      "model_name": "LayoutModel",
      "state": {
       "border_bottom": "1px solid purple",
       "border_left": "1px solid purple",
       "border_right": "1px solid purple",
       "border_top": "1px solid purple",
       "justify_content": "flex-start",
       "width": "99%"
      }
     },
     "12a1df39058a4e8aa6ca87fbd090cc99": {
      "model_module": "@jupyter-widgets/controls",
      "model_module_version": "2.0.0",
      "model_name": "TextStyleModel",
      "state": {
       "background": "#000000",
       "description_width": "50px",
       "font_size": null,
       "text_color": null
      }
     },
     "12c4c5c327b840cb9afb4e8cfa74e5e4": {
      "model_module": "@jupyter-widgets/base",
      "model_module_version": "2.0.0",
      "model_name": "LayoutModel",
      "state": {}
     },
     "12d47b1570434e1b83dde8b3bd9e5e62": {
      "model_module": "@jupyter-widgets/controls",
      "model_module_version": "2.0.0",
      "model_name": "ButtonModel",
      "state": {
       "description": "Translate",
       "icon": "language",
       "layout": "IPY_MODEL_7a64f8241c5b4f4bafb4b732da2d731a",
       "style": "IPY_MODEL_3556c773a7a74204baafef2cf77fe983",
       "tooltip": "Click and translate the details for this section"
      }
     },
     "130a41aaf961489caa97ba4d5044fa9c": {
      "model_module": "@jupyter-widgets/base",
      "model_module_version": "2.0.0",
      "model_name": "LayoutModel",
      "state": {}
     },
     "1332c4c675e64149808d52307f276091": {
      "model_module": "@jupyter-widgets/controls",
      "model_module_version": "2.0.0",
      "model_name": "HTMLStyleModel",
      "state": {
       "description_width": "",
       "font_size": null,
       "text_color": null
      }
     },
     "134f0070dd604c129fab3cc25f325174": {
      "model_module": "@jupyter-widgets/controls",
      "model_module_version": "2.0.0",
      "model_name": "ButtonStyleModel",
      "state": {
       "font_family": null,
       "font_size": null,
       "font_style": null,
       "font_variant": null,
       "font_weight": null,
       "text_color": null,
       "text_decoration": null
      }
     },
     "1350f53218e346069b0dcd613659ac2c": {
      "model_module": "@jupyter-widgets/controls",
      "model_module_version": "2.0.0",
      "model_name": "HTMLStyleModel",
      "state": {
       "description_width": "",
       "font_size": null,
       "text_color": null
      }
     },
     "1371877083924cd09d483dd468178027": {
      "model_module": "@jupyter-widgets/base",
      "model_module_version": "2.0.0",
      "model_name": "LayoutModel",
      "state": {
       "border_bottom": "1px solid purple",
       "border_left": "1px solid purple",
       "border_right": "1px solid purple",
       "border_top": "1px solid purple",
       "justify_content": "flex-start",
       "width": "auto"
      }
     },
     "13851666df494c3a819794211e1488e5": {
      "model_module": "@jupyter-widgets/controls",
      "model_module_version": "2.0.0",
      "model_name": "ButtonModel",
      "state": {
       "description": "Translate",
       "icon": "language",
       "layout": "IPY_MODEL_c0c77f5c658044ff9f0d83f236f60659",
       "style": "IPY_MODEL_f83d793589bd4578b4c1def9864e0e36",
       "tooltip": "Click and translate the details for this section"
      }
     },
     "13bef3e2c80b405fb051578df57398ae": {
      "model_module": "@jupyter-widgets/controls",
      "model_module_version": "2.0.0",
      "model_name": "HTMLModel",
      "state": {
       "layout": "IPY_MODEL_37452d359a9c4ad3aed78dc4cb1b6a06",
       "style": "IPY_MODEL_055a4db0a0a64757b121451ae631642c",
       "value": " to "
      }
     },
     "13bf3fab6a1049c4ba93fafc4ff9d254": {
      "model_module": "@jupyter-widgets/base",
      "model_module_version": "2.0.0",
      "model_name": "LayoutModel",
      "state": {}
     },
     "13e620ad9be94051b61d08bbb1c4e7bd": {
      "model_module": "@jupyter-widgets/controls",
      "model_module_version": "2.0.0",
      "model_name": "HBoxModel",
      "state": {
       "children": [
        "IPY_MODEL_018885ca0621429aa19a0ccbf6b56efc",
        "IPY_MODEL_36ab6b4520ba4de0ae55c484b9572d47"
       ],
       "layout": "IPY_MODEL_70deb70356064ad2a5d1df785f21a097"
      }
     },
     "1423a73817cc405f985796300cb2c970": {
      "model_module": "@jupyter-widgets/base",
      "model_module_version": "2.0.0",
      "model_name": "LayoutModel",
      "state": {}
     },
     "1439247db92d4952bd07834fea70ec0e": {
      "model_module": "@jupyter-widgets/controls",
      "model_module_version": "2.0.0",
      "model_name": "HTMLStyleModel",
      "state": {
       "description_width": "",
       "font_size": null,
       "text_color": null
      }
     },
     "144248b3b48d4346a4bb21a1d53cc803": {
      "model_module": "@jupyter-widgets/controls",
      "model_module_version": "2.0.0",
      "model_name": "TextModel",
      "state": {
       "layout": "IPY_MODEL_433c32cb7bf14fd69bf812e69da62b9a",
       "style": "IPY_MODEL_233be6e06aa94bf0b3989de38ec53440",
       "value": "Insight into how textual explanations can be used in post hoc analysis of AI's decisions in liver cancer."
      }
     },
     "147ff05b77764811b52837f0828c3829": {
      "model_module": "@jupyter-widgets/base",
      "model_module_version": "2.0.0",
      "model_name": "LayoutModel",
      "state": {
       "justify_content": "flex-start",
       "width": "90%"
      }
     },
     "14ea5b7bf8ed4b73b31ca4e5c758cfb0": {
      "model_module": "@jupyter-widgets/controls",
      "model_module_version": "2.0.0",
      "model_name": "HTMLModel",
      "state": {
       "layout": "IPY_MODEL_bd31d4bffbaf46f5bdcff8cf877d7cd0",
       "style": "IPY_MODEL_ffa20c975df142bcb99c2e5c86513e5f",
       "value": "queries,"
      }
     },
     "14f44bb8298b461c93591c6c7fef6c8a": {
      "model_module": "@jupyter-widgets/base",
      "model_module_version": "2.0.0",
      "model_name": "LayoutModel",
      "state": {
       "width": "auto"
      }
     },
     "156114680ed644d59c22c4d3c9ea7793": {
      "model_module": "@jupyter-widgets/controls",
      "model_module_version": "2.0.0",
      "model_name": "HBoxModel",
      "state": {
       "children": [
        "IPY_MODEL_c5fbed4cfa684f11aa6ba4a2995f74f2",
        "IPY_MODEL_892ec602137f4b1d9651d8ea7b5b620a"
       ],
       "layout": "IPY_MODEL_d37b9b66201648b9bf14d1450c680ec6"
      }
     },
     "158889b253964100822d7082633b50ba": {
      "model_module": "@jupyter-widgets/controls",
      "model_module_version": "2.0.0",
      "model_name": "TextModel",
      "state": {
       "layout": "IPY_MODEL_076e6470615e441aa5e27c23d3bafc3c",
       "placeholder": "20",
       "style": "IPY_MODEL_56504cf356174c1cb193d08566683fa4",
       "value": "20"
      }
     },
     "159694b277fd498c8131c1e46fb18381": {
      "model_module": "@jupyter-widgets/controls",
      "model_module_version": "2.0.0",
      "model_name": "VBoxModel",
      "state": {
       "children": [
        "IPY_MODEL_56aaacc0796344a2a2e528559c2c8c11",
        "IPY_MODEL_397d90e113c04dd39e816779777a2e38"
       ],
       "layout": "IPY_MODEL_b6355bce68ee4bf494821d59d887ce6b"
      }
     },
     "15a86128895b4ee6968114aac9c2b74d": {
      "model_module": "@jupyter-widgets/controls",
      "model_module_version": "2.0.0",
      "model_name": "ButtonModel",
      "state": {
       "description": "Translate",
       "icon": "language",
       "layout": "IPY_MODEL_cb00b851c0024981a2e22bc5fae89c2d",
       "style": "IPY_MODEL_990e95a29b8946e7bda0a7ec2a20baa8",
       "tooltip": "Click and translate the details for this section"
      }
     },
     "15d88b84f2524ed68a4f43c2fdfb4fcd": {
      "model_module": "@jupyter-widgets/controls",
      "model_module_version": "2.0.0",
      "model_name": "TextStyleModel",
      "state": {
       "description_width": "",
       "font_size": null,
       "text_color": null
      }
     },
     "15dbd59905fa42d5880d57937a6cca56": {
      "model_module": "@jupyter-widgets/output",
      "model_module_version": "1.0.0",
      "model_name": "OutputModel",
      "state": {
       "layout": "IPY_MODEL_d1f390cfd20f4adfa2fae6d43e10fae6"
      }
     },
     "16020ec4be854ef0951a95a7b59bff83": {
      "model_module": "@jupyter-widgets/base",
      "model_module_version": "2.0.0",
      "model_name": "LayoutModel",
      "state": {
       "width": "50%"
      }
     },
     "1607c407060a4ccbbfa752f5213bab78": {
      "model_module": "@jupyter-widgets/controls",
      "model_module_version": "2.0.0",
      "model_name": "TextModel",
      "state": {
       "layout": "IPY_MODEL_1eea5f140de44431b6fcbf24b6df0718",
       "placeholder": "20",
       "style": "IPY_MODEL_d64836cc910c44e4bec631b90d6cb569",
       "value": "20"
      }
     },
     "16104203f6964321b51a3e2af2bb608f": {
      "model_module": "@jupyter-widgets/controls",
      "model_module_version": "2.0.0",
      "model_name": "HTMLStyleModel",
      "state": {
       "description_width": "",
       "font_size": null,
       "text_color": null
      }
     },
     "1637c361c7314e27928fdca34cc7f67a": {
      "model_module": "@jupyter-widgets/controls",
      "model_module_version": "2.0.0",
      "model_name": "HTMLModel",
      "state": {
       "layout": "IPY_MODEL_af404ae431d94bd8820be562d61c87fb",
       "style": "IPY_MODEL_fdf545d9c791403b89d6e7c5fe87de15",
       "value": "queries,"
      }
     },
     "164b4acd26e84748b47558b0bb0e9b2d": {
      "model_module": "@jupyter-widgets/base",
      "model_module_version": "2.0.0",
      "model_name": "LayoutModel",
      "state": {
       "width": "auto"
      }
     },
     "165761d8e48c46fb985cb9dbaac62c01": {
      "model_module": "@jupyter-widgets/controls",
      "model_module_version": "2.0.0",
      "model_name": "HBoxModel",
      "state": {
       "children": [
        "IPY_MODEL_07a669fe526643ccba726a7a0d8ee916",
        "IPY_MODEL_cc5c99acc7be43f6a6853a745cd6035d"
       ],
       "layout": "IPY_MODEL_b461d741a056427b96858b09442f2fe1"
      }
     },
     "1673d309290b4012a37b1cb443dcd181": {
      "model_module": "@jupyter-widgets/controls",
      "model_module_version": "2.0.0",
      "model_name": "HBoxModel",
      "state": {
       "children": [
        "IPY_MODEL_cc4683e73f654b2aaa43db49b7d0cda1",
        "IPY_MODEL_7b47f99c5cfe4e76bb4478285b11aa2d"
       ],
       "layout": "IPY_MODEL_d1172afce1314e168c5f0ee703f11330"
      }
     },
     "16a02c9334b343af80bb43420344c3ca": {
      "model_module": "@jupyter-widgets/base",
      "model_module_version": "2.0.0",
      "model_name": "LayoutModel",
      "state": {}
     },
     "16a59cb50387450b993be7fa507bee43": {
      "model_module": "@jupyter-widgets/controls",
      "model_module_version": "2.0.0",
      "model_name": "TextStyleModel",
      "state": {
       "description_width": "50px",
       "font_size": null,
       "text_color": null
      }
     },
     "16b43cd7bcbe41d5b6939ab73cbb1e5f": {
      "model_module": "@jupyter-widgets/controls",
      "model_module_version": "2.0.0",
      "model_name": "HTMLStyleModel",
      "state": {
       "description_width": "",
       "font_size": null,
       "text_color": null
      }
     },
     "16efcf86183e4320946487500742240d": {
      "model_module": "@jupyter-widgets/base",
      "model_module_version": "2.0.0",
      "model_name": "LayoutModel",
      "state": {}
     },
     "16f68c5c206444968b7f4933c43ff18c": {
      "model_module": "@jupyter-widgets/controls",
      "model_module_version": "2.0.0",
      "model_name": "HTMLStyleModel",
      "state": {
       "description_width": "",
       "font_size": null,
       "text_color": null
      }
     },
     "170b91f7caab4ab7aecd7d2036c067f6": {
      "model_module": "@jupyter-widgets/controls",
      "model_module_version": "2.0.0",
      "model_name": "HBoxModel",
      "state": {
       "children": [
        "IPY_MODEL_1ce60b2a604f49db802252ec2c53d9fd",
        "IPY_MODEL_21555523d588491fb7ed301c30814ee8"
       ],
       "layout": "IPY_MODEL_aaaaf3702e4144809fc817349a4c4912"
      }
     },
     "17354a320e234996ba034dd76d50a8e3": {
      "model_module": "@jupyter-widgets/controls",
      "model_module_version": "2.0.0",
      "model_name": "HBoxModel",
      "state": {
       "children": [
        "IPY_MODEL_228852de384e44f3961623d0e798fa04",
        "IPY_MODEL_7a8a8d03b4114c66bcdc38861e6750c7"
       ],
       "layout": "IPY_MODEL_cb946d88dbc44e8eb7212f803d67f536"
      }
     },
     "173acc35ce13417f82366205d72b749d": {
      "model_module": "@jupyter-widgets/controls",
      "model_module_version": "2.0.0",
      "model_name": "VBoxModel",
      "state": {
       "children": [
        "IPY_MODEL_d0ee1a8e67f847dd87c7dadd1fa4f24d",
        "IPY_MODEL_92cf2b4897de49128b7ef25cd77184e3"
       ],
       "layout": "IPY_MODEL_7f268efbad6e407abc95059efb544bc4"
      }
     },
     "17c202650c784b2ab19fc85f0b9b97fc": {
      "model_module": "@jupyter-widgets/base",
      "model_module_version": "2.0.0",
      "model_name": "LayoutModel",
      "state": {
       "justify_content": "flex-start",
       "width": "90%"
      }
     },
     "184fbbbb0f274f398ddd46b3babcb029": {
      "model_module": "@jupyter-widgets/base",
      "model_module_version": "2.0.0",
      "model_name": "LayoutModel",
      "state": {}
     },
     "18e567c931c74837adbb26e608c56e5f": {
      "model_module": "@jupyter-widgets/base",
      "model_module_version": "2.0.0",
      "model_name": "LayoutModel",
      "state": {
       "justify_content": "flex-start"
      }
     },
     "19033201228042f2ab6dabda40a019ea": {
      "model_module": "@jupyter-widgets/controls",
      "model_module_version": "2.0.0",
      "model_name": "ButtonModel",
      "state": {
       "description": "Summarize",
       "icon": "rocket",
       "layout": "IPY_MODEL_f7f0d99b36864d929a5cef0a5da1abbf",
       "style": "IPY_MODEL_8c8b10e0a7a241afa061909179d15479",
       "tooltip": "Summarize this section based on the topic and intro"
      }
     },
     "1908a88e488849a48525101e6e7155d5": {
      "model_module": "@jupyter-widgets/controls",
      "model_module_version": "2.0.0",
      "model_name": "HBoxModel",
      "state": {
       "children": [
        "IPY_MODEL_2c276a12ea0c4a8d9763fe526e899070",
        "IPY_MODEL_30d5f2eed13e45bc9846ce49ced5934f"
       ],
       "layout": "IPY_MODEL_a3de3d35cd8a4a269c39f8d7e5ead3b6"
      }
     },
     "190be858322047a6b7a73817ec885fb7": {
      "model_module": "@jupyter-widgets/base",
      "model_module_version": "2.0.0",
      "model_name": "LayoutModel",
      "state": {}
     },
     "19130c8b04b0405989b0cacf5ccdf6d3": {
      "model_module": "@jupyter-widgets/controls",
      "model_module_version": "2.0.0",
      "model_name": "ButtonModel",
      "state": {
       "description": "Translate",
       "icon": "language",
       "layout": "IPY_MODEL_3e3e9407c04f48648561798af81472c1",
       "style": "IPY_MODEL_36e8d9b768ce45cd8fb094cde7c5f417",
       "tooltip": "Click and translate the details for this section"
      }
     },
     "192481e2c22a4e6dbf99284e51a8ed90": {
      "model_module": "@jupyter-widgets/controls",
      "model_module_version": "2.0.0",
      "model_name": "TextStyleModel",
      "state": {
       "background": "transparent",
       "description_width": "50px",
       "font_size": null,
       "text_color": null
      }
     },
     "1938d259f4124ce68fd30a6bcce81018": {
      "model_module": "@jupyter-widgets/base",
      "model_module_version": "2.0.0",
      "model_name": "LayoutModel",
      "state": {}
     },
     "19a9e27ebeda47eb902245b3b222f314": {
      "model_module": "@jupyter-widgets/controls",
      "model_module_version": "2.0.0",
      "model_name": "HBoxModel",
      "state": {
       "children": [
        "IPY_MODEL_96eeb77e386d4a7882a2d2c95229acf4",
        "IPY_MODEL_d6c89d6ec48446898ff4915424d59f0d"
       ],
       "layout": "IPY_MODEL_d12a39dcf7c048b9acb39f71993c507e"
      }
     },
     "19c18b7ec6da446ab3462fdb3a25c9a9": {
      "model_module": "@jupyter-widgets/base",
      "model_module_version": "2.0.0",
      "model_name": "LayoutModel",
      "state": {}
     },
     "19dbd65edf4742e886c1e2cc9df1cba2": {
      "model_module": "@jupyter-widgets/controls",
      "model_module_version": "2.0.0",
      "model_name": "HBoxModel",
      "state": {
       "children": [
        "IPY_MODEL_0cd4c11f7d58478cb577e35676dfac83",
        "IPY_MODEL_159694b277fd498c8131c1e46fb18381"
       ],
       "layout": "IPY_MODEL_2d47a4a56ace4ccbbf5cee13d6e9337b"
      }
     },
     "1a4e44a6df304bceaf204038881bd550": {
      "model_module": "@jupyter-widgets/controls",
      "model_module_version": "2.0.0",
      "model_name": "HTMLModel",
      "state": {
       "layout": "IPY_MODEL_ae63363a47a94bdba2bf95029df203c2",
       "style": "IPY_MODEL_bdcf9c208fe4467c8f2a1ff4dbafc517",
       "value": "words:"
      }
     },
     "1ae3a0e9600f4dfeaf74207bfc5b322a": {
      "model_module": "@jupyter-widgets/base",
      "model_module_version": "2.0.0",
      "model_name": "LayoutModel",
      "state": {
       "width": "50%"
      }
     },
     "1ae6f95338644519b207eb52e9881217": {
      "model_module": "@jupyter-widgets/base",
      "model_module_version": "2.0.0",
      "model_name": "LayoutModel",
      "state": {}
     },
     "1ae82f7425674772a811a67a47041a89": {
      "model_module": "@jupyter-widgets/base",
      "model_module_version": "2.0.0",
      "model_name": "LayoutModel",
      "state": {}
     },
     "1b023b9da484442abbf106ac3600d726": {
      "model_module": "@jupyter-widgets/base",
      "model_module_version": "2.0.0",
      "model_name": "LayoutModel",
      "state": {
       "border_bottom": "solid 1px gray",
       "border_left": "solid 1px gray",
       "border_right": "solid 1px gray",
       "border_top": "solid 1px gray"
      }
     },
     "1b0534d6767c420983df89baa770d76e": {
      "model_module": "@jupyter-widgets/base",
      "model_module_version": "2.0.0",
      "model_name": "LayoutModel",
      "state": {
       "justify_content": "flex-start",
       "width": "40px"
      }
     },
     "1b3313bc937149f982e3fbaa63a790c8": {
      "model_module": "@jupyter-widgets/controls",
      "model_module_version": "2.0.0",
      "model_name": "HBoxModel",
      "state": {
       "children": [
        "IPY_MODEL_23a9c39349cc4883988344794e601c69",
        "IPY_MODEL_17354a320e234996ba034dd76d50a8e3"
       ],
       "layout": "IPY_MODEL_e6e72c0eacd24936b58ceb00d28e9209"
      }
     },
     "1b4d569742614d47a2ac080a560370af": {
      "model_module": "@jupyter-widgets/controls",
      "model_module_version": "2.0.0",
      "model_name": "ButtonStyleModel",
      "state": {
       "font_family": null,
       "font_size": null,
       "font_style": null,
       "font_variant": null,
       "font_weight": null,
       "text_color": null,
       "text_decoration": null
      }
     },
     "1b536134732d4231b6f486d35581749d": {
      "model_module": "@jupyter-widgets/controls",
      "model_module_version": "2.0.0",
      "model_name": "TextModel",
      "state": {
       "description": "Prompt",
       "layout": "IPY_MODEL_86d18dcf11cb45958e36740129f1e9a6",
       "placeholder": "",
       "style": "IPY_MODEL_6b217567a81343a087ab107bc0db2b03"
      }
     },
     "1b83cf6712084bc59a5c0c6dff98cee2": {
      "model_module": "@jupyter-widgets/controls",
      "model_module_version": "2.0.0",
      "model_name": "TextModel",
      "state": {
       "layout": "IPY_MODEL_e77b14000818415aa6254f5a0c888f98",
       "placeholder": "",
       "style": "IPY_MODEL_7c1b8b45ddb04d3d8ba48b1987d0bb5b",
       "value": "500"
      }
     },
     "1b8580dc0fac400bbcbea7d6917762b9": {
      "model_module": "@jupyter-widgets/controls",
      "model_module_version": "2.0.0",
      "model_name": "ButtonModel",
      "state": {
       "description": "Retrieve All",
       "icon": "wikipedia-w",
       "layout": "IPY_MODEL_358449a0d69c488e8ad235d6543496b6",
       "style": "IPY_MODEL_840b206ac4374e5b96a29accea0f35e5",
       "tooltip": "Retrieve references for all sections with one click"
      }
     },
     "1c03e679c60747fc8438da22664c4bc6": {
      "model_module": "@jupyter-widgets/output",
      "model_module_version": "1.0.0",
      "model_name": "OutputModel",
      "state": {
       "layout": "IPY_MODEL_f426c182df7c48b3a43f21c2c2ff5f20"
      }
     },
     "1c262183ae57431dbcefe00d4b9d1369": {
      "model_module": "@jupyter-widgets/controls",
      "model_module_version": "2.0.0",
      "model_name": "TextModel",
      "state": {
       "layout": "IPY_MODEL_7891167f47d44a518b74b9b361ba87f0",
       "placeholder": "",
       "style": "IPY_MODEL_d7084147c837495496be3b2b19aeda42",
       "value": "500"
      }
     },
     "1c3ce72505f94d38b546174e72c2e0b3": {
      "model_module": "@jupyter-widgets/controls",
      "model_module_version": "2.0.0",
      "model_name": "HBoxModel",
      "state": {
       "children": [
        "IPY_MODEL_fe138d4c51a24494899724470b95ad61",
        "IPY_MODEL_3ac7f52f8baa4ed883aa9931aad0e07d"
       ],
       "layout": "IPY_MODEL_db783eb41d9f420db35f98b3fcc3c721"
      }
     },
     "1c547ae266a0446c8a807409b4b2c4e6": {
      "model_module": "@jupyter-widgets/controls",
      "model_module_version": "2.0.0",
      "model_name": "HBoxModel",
      "state": {
       "children": [
        "IPY_MODEL_a61ab278cf8441778e97e8afebf20a73",
        "IPY_MODEL_f04d65da60524de0aa90b8ddf12bbc09",
        "IPY_MODEL_aa973b0cc4624fe8aeb684fe0d23dc13"
       ],
       "layout": "IPY_MODEL_acd359f9144a4d1881dbcca2b310b160"
      }
     },
     "1c77a2a90525470887a4a75b1b8d1080": {
      "model_module": "@jupyter-widgets/controls",
      "model_module_version": "2.0.0",
      "model_name": "ButtonStyleModel",
      "state": {
       "font_family": null,
       "font_size": null,
       "font_style": null,
       "font_variant": null,
       "font_weight": null,
       "text_color": null,
       "text_decoration": null
      }
     },
     "1c958fff089942f39a8bdae6d1742a24": {
      "model_module": "@jupyter-widgets/base",
      "model_module_version": "2.0.0",
      "model_name": "LayoutModel",
      "state": {}
     },
     "1cb4bddfd1c54da281d5db430d94cf4f": {
      "model_module": "@jupyter-widgets/base",
      "model_module_version": "2.0.0",
      "model_name": "LayoutModel",
      "state": {
       "justify_content": "flex-start",
       "width": "40px"
      }
     },
     "1ce60b2a604f49db802252ec2c53d9fd": {
      "model_module": "@jupyter-widgets/controls",
      "model_module_version": "2.0.0",
      "model_name": "TextModel",
      "state": {
       "layout": "IPY_MODEL_9b952e367acd4253a7009b88a9fa31ef",
       "placeholder": "20",
       "style": "IPY_MODEL_1dcd64944b9f42008a7a80a34a177686",
       "value": "20"
      }
     },
     "1d61a529240f44a89a00be55a1241df6": {
      "model_module": "@jupyter-widgets/controls",
      "model_module_version": "2.0.0",
      "model_name": "HTMLModel",
      "state": {
       "layout": "IPY_MODEL_f46a712ff5844e4595b5ea864f8d8f9f",
       "style": "IPY_MODEL_8e4832b0b31a4cb09abb0b4a5e0bafb5",
       "value": "3.1.2"
      }
     },
     "1da6bf60f8404e7db6f9522657e188e9": {
      "model_module": "@jupyter-widgets/base",
      "model_module_version": "2.0.0",
      "model_name": "LayoutModel",
      "state": {}
     },
     "1dab8bbf86f2425cadae52b849e3ad86": {
      "model_module": "@jupyter-widgets/base",
      "model_module_version": "2.0.0",
      "model_name": "LayoutModel",
      "state": {
       "justify_content": "flex-start"
      }
     },
     "1dcd64944b9f42008a7a80a34a177686": {
      "model_module": "@jupyter-widgets/controls",
      "model_module_version": "2.0.0",
      "model_name": "TextStyleModel",
      "state": {
       "description_width": "",
       "font_size": null,
       "text_color": null
      }
     },
     "1e508ea8340e486d8fc71b7607a271d5": {
      "model_module": "@jupyter-widgets/controls",
      "model_module_version": "2.0.0",
      "model_name": "HTMLModel",
      "state": {
       "layout": "IPY_MODEL_28b5bfe2c2464b0e899d73d4e562dfc7",
       "style": "IPY_MODEL_074a03d8e1b94a3db49f7f6d5dc54356"
      }
     },
     "1e64328b2e5e420887e9e0c13b5b7e0a": {
      "model_module": "@jupyter-widgets/controls",
      "model_module_version": "2.0.0",
      "model_name": "TextModel",
      "state": {
       "layout": "IPY_MODEL_b56dcc4c3ef3437694ce91c99da7a2ce",
       "style": "IPY_MODEL_8a72f1f258df462d9a1eec04d6828c21",
       "value": "Understanding how the triplet network, an example-based explanation model, works in the context of AI-based liver cancer analysis."
      }
     },
     "1e6e68381a7441ada5d11e982b45bbc4": {
      "model_module": "@jupyter-widgets/controls",
      "model_module_version": "2.0.0",
      "model_name": "HTMLModel",
      "state": {
       "layout": "IPY_MODEL_e1b94af876614e3cbc2ae4162c8ec3b9",
       "style": "IPY_MODEL_c8a7e39761a84286825f943c5718109e",
       "value": " to "
      }
     },
     "1e9f1e2137be456f8a2ba9298e0420cb": {
      "model_module": "@jupyter-widgets/controls",
      "model_module_version": "2.0.0",
      "model_name": "ButtonModel",
      "state": {
       "description": "Summarize",
       "icon": "rocket",
       "layout": "IPY_MODEL_7a64f8241c5b4f4bafb4b732da2d731a",
       "style": "IPY_MODEL_8bfb8c2ac91c448390553eeb19a93de2",
       "tooltip": "Summarize this section based on the topic and intro"
      }
     },
     "1eb8fc250b5a4fc4a018b2d61dbe8e78": {
      "model_module": "@jupyter-widgets/base",
      "model_module_version": "2.0.0",
      "model_name": "LayoutModel",
      "state": {}
     },
     "1eea5f140de44431b6fcbf24b6df0718": {
      "model_module": "@jupyter-widgets/base",
      "model_module_version": "2.0.0",
      "model_name": "LayoutModel",
      "state": {
       "justify_content": "flex-start",
       "width": "40px"
      }
     },
     "1f032d7252cf42c38a3f8311d4c52bd0": {
      "model_module": "@jupyter-widgets/controls",
      "model_module_version": "2.0.0",
      "model_name": "HBoxModel",
      "state": {
       "children": [
        "IPY_MODEL_bbf8d0cf3e9b4f659e92e231b2334ea0",
        "IPY_MODEL_1637c361c7314e27928fdca34cc7f67a"
       ],
       "layout": "IPY_MODEL_7bce75e47df5419e8dbda0b7ed9ef525"
      }
     },
     "1f15639f83b24f3a8571ebfb1cfa287d": {
      "model_module": "@jupyter-widgets/controls",
      "model_module_version": "2.0.0",
      "model_name": "HBoxModel",
      "state": {
       "children": [
        "IPY_MODEL_4450e61e0c5d4829b75386b1932fdc5c",
        "IPY_MODEL_e21cdb758dab44d7a5f6334518d1d3c8"
       ],
       "layout": "IPY_MODEL_19c18b7ec6da446ab3462fdb3a25c9a9"
      }
     },
     "1f413103ebd74a4eb2d10594541c62e2": {
      "model_module": "@jupyter-widgets/controls",
      "model_module_version": "2.0.0",
      "model_name": "TextModel",
      "state": {
       "layout": "IPY_MODEL_6a70a89ec38a4fd9ad15a597e63b6ba4",
       "placeholder": "20",
       "style": "IPY_MODEL_a9a5df31dd0a439b89466927bd1a21af",
       "value": "20"
      }
     },
     "1f48bf69da3c4da4bba8878cdaf39868": {
      "model_module": "@jupyter-widgets/base",
      "model_module_version": "2.0.0",
      "model_name": "LayoutModel",
      "state": {
       "justify_content": "flex-start"
      }
     },
     "1fba3f54b9984337bd07fa2fd534e3ab": {
      "model_module": "@jupyter-widgets/controls",
      "model_module_version": "2.0.0",
      "model_name": "TextModel",
      "state": {
       "description": "Prompt",
       "layout": "IPY_MODEL_ac935cb942634cbda1b1c4f90cb14d4a",
       "placeholder": "",
       "style": "IPY_MODEL_0e517c72b8044fb5a1014a3401139243"
      }
     },
     "1fcc56a563e14a87bd6499ced37f9eeb": {
      "model_module": "@jupyter-widgets/controls",
      "model_module_version": "2.0.0",
      "model_name": "HTMLStyleModel",
      "state": {
       "description_width": "",
       "font_size": null,
       "text_color": null
      }
     },
     "1fd4c5df30c34560bb9ecd962fefa785": {
      "model_module": "@jupyter-widgets/base",
      "model_module_version": "2.0.0",
      "model_name": "LayoutModel",
      "state": {
       "border_bottom": "1px solid purple",
       "border_left": "1px solid purple",
       "border_right": "1px solid purple",
       "border_top": "1px solid purple",
       "justify_content": "flex-start",
       "width": "auto"
      }
     },
     "2002117e4ff649babb48d6df739da970": {
      "model_module": "@jupyter-widgets/output",
      "model_module_version": "1.0.0",
      "model_name": "OutputModel",
      "state": {
       "layout": "IPY_MODEL_2eb07bf32e754c3da8d64468e725edc2"
      }
     },
     "2012ba23ce6a431ea348dd39f4686c30": {
      "model_module": "@jupyter-widgets/controls",
      "model_module_version": "2.0.0",
      "model_name": "TextModel",
      "state": {
       "layout": "IPY_MODEL_0329500f836943caa53f8dfb153ad3fd",
       "placeholder": "20",
       "style": "IPY_MODEL_a4e4fb3171734ea683911efa250b0874",
       "value": "20"
      }
     },
     "2036c74bb4ea4c19bfd2583a1d6d1ffd": {
      "model_module": "@jupyter-widgets/base",
      "model_module_version": "2.0.0",
      "model_name": "LayoutModel",
      "state": {
       "justify_content": "flex-start"
      }
     },
     "2094108ca2e54f5d800f98768671d804": {
      "model_module": "@jupyter-widgets/base",
      "model_module_version": "2.0.0",
      "model_name": "LayoutModel",
      "state": {
       "width": "auto"
      }
     },
     "20a59229b004471486dd990034310609": {
      "model_module": "@jupyter-widgets/base",
      "model_module_version": "2.0.0",
      "model_name": "LayoutModel",
      "state": {
       "justify_content": "flex-start"
      }
     },
     "20adf0eb56ce4795af202db631e96a2c": {
      "model_module": "@jupyter-widgets/base",
      "model_module_version": "2.0.0",
      "model_name": "LayoutModel",
      "state": {}
     },
     "20dc0ae9494e46a8944b46d876fcbb74": {
      "model_module": "@jupyter-widgets/base",
      "model_module_version": "2.0.0",
      "model_name": "LayoutModel",
      "state": {}
     },
     "20e98b14095f4cd08e002f35d8550018": {
      "model_module": "@jupyter-widgets/base",
      "model_module_version": "2.0.0",
      "model_name": "LayoutModel",
      "state": {
       "width": "50%"
      }
     },
     "21319998f0d74f1abc90bee987addeaf": {
      "model_module": "@jupyter-widgets/base",
      "model_module_version": "2.0.0",
      "model_name": "LayoutModel",
      "state": {
       "border_bottom": "1px solid purple",
       "border_left": "1px solid purple",
       "border_right": "1px solid purple",
       "border_top": "1px solid purple",
       "justify_content": "flex-start",
       "width": "99%"
      }
     },
     "21555523d588491fb7ed301c30814ee8": {
      "model_module": "@jupyter-widgets/controls",
      "model_module_version": "2.0.0",
      "model_name": "HTMLModel",
      "state": {
       "layout": "IPY_MODEL_664cfa3ac37d47998076fd9ba31475e4",
       "style": "IPY_MODEL_796ff4f719c642aabc51fe1d5bd52a51",
       "value": "queries,"
      }
     },
     "2155f0ee59184e458fa7690339d76464": {
      "model_module": "@jupyter-widgets/base",
      "model_module_version": "2.0.0",
      "model_name": "LayoutModel",
      "state": {}
     },
     "219e8c3c61e4452884874bb98869e885": {
      "model_module": "@jupyter-widgets/controls",
      "model_module_version": "2.0.0",
      "model_name": "HTMLStyleModel",
      "state": {
       "description_width": "",
       "font_size": null,
       "text_color": null
      }
     },
     "21a38be6b0f44282aadb8c230dd2d219": {
      "model_module": "@jupyter-widgets/base",
      "model_module_version": "2.0.0",
      "model_name": "LayoutModel",
      "state": {}
     },
     "21c101eaaf9a4a6f8ba8a271fdf63b3c": {
      "model_module": "@jupyter-widgets/controls",
      "model_module_version": "2.0.0",
      "model_name": "TextModel",
      "state": {
       "layout": "IPY_MODEL_0bb5108c93254b3dbed7311c52b38272",
       "placeholder": "",
       "style": "IPY_MODEL_5b353b9fdec040148730352a98709acc",
       "value": "500"
      }
     },
     "21d12012a47344caa4d5bf7dab24394e": {
      "model_module": "@jupyter-widgets/base",
      "model_module_version": "2.0.0",
      "model_name": "LayoutModel",
      "state": {}
     },
     "21e22e40ace346b2b8c6511afd2536a6": {
      "model_module": "@jupyter-widgets/controls",
      "model_module_version": "2.0.0",
      "model_name": "HBoxModel",
      "state": {
       "children": [
        "IPY_MODEL_45b25436e3d142c9ad371e05dbf83696",
        "IPY_MODEL_ac993c101f6544d299537f5e6a4106ce"
       ],
       "layout": "IPY_MODEL_76eff17baf4c4062b492eb8e6590839c"
      }
     },
     "220b8c6985c94abf93af6e40c817d19b": {
      "model_module": "@jupyter-widgets/controls",
      "model_module_version": "2.0.0",
      "model_name": "TextStyleModel",
      "state": {
       "background": "#000000",
       "description_width": "50px",
       "font_size": null,
       "text_color": null
      }
     },
     "228852de384e44f3961623d0e798fa04": {
      "model_module": "@jupyter-widgets/controls",
      "model_module_version": "2.0.0",
      "model_name": "TextModel",
      "state": {
       "layout": "IPY_MODEL_490306adfc0f4b63940a85c10847c08e",
       "placeholder": "20",
       "style": "IPY_MODEL_a920932cd1ea4909a2d43c936e4f62f7",
       "value": "20"
      }
     },
     "228ede8185e3420d9fd15085141356cf": {
      "model_module": "@jupyter-widgets/base",
      "model_module_version": "2.0.0",
      "model_name": "LayoutModel",
      "state": {
       "height": "50%",
       "width": "50%"
      }
     },
     "2305741e1e0b4741a046f38c1b199591": {
      "model_module": "@jupyter-widgets/controls",
      "model_module_version": "2.0.0",
      "model_name": "VBoxModel",
      "state": {
       "children": [
        "IPY_MODEL_6744bc62a5c4449ea9a12c0d27d2d831",
        "IPY_MODEL_d6ae21663747475c81d0c46bfd64c848"
       ],
       "layout": "IPY_MODEL_31d5f1b08eb2430b8656649a7ad1f4c6"
      }
     },
     "230ebc4b612e48e588da416748b7d491": {
      "model_module": "@jupyter-widgets/base",
      "model_module_version": "2.0.0",
      "model_name": "LayoutModel",
      "state": {
       "justify_content": "flex-start",
       "width": "60px"
      }
     },
     "2313deff43364e489870a3afa96e9f86": {
      "model_module": "@jupyter-widgets/controls",
      "model_module_version": "2.0.0",
      "model_name": "HTMLModel",
      "state": {
       "layout": "IPY_MODEL_074e703de5934f24be18050c8a177122",
       "style": "IPY_MODEL_4623e5fb15b441119fe6f6248e1b133f",
       "value": "queries,"
      }
     },
     "232566e4f35c4f03bd8ef225a58da469": {
      "model_module": "@jupyter-widgets/base",
      "model_module_version": "2.0.0",
      "model_name": "LayoutModel",
      "state": {
       "display": "none"
      }
     },
     "233be6e06aa94bf0b3989de38ec53440": {
      "model_module": "@jupyter-widgets/controls",
      "model_module_version": "2.0.0",
      "model_name": "TextStyleModel",
      "state": {
       "background": "transparent",
       "description_width": "50px",
       "font_size": null,
       "text_color": null
      }
     },
     "23a9c39349cc4883988344794e601c69": {
      "model_module": "@jupyter-widgets/controls",
      "model_module_version": "2.0.0",
      "model_name": "ButtonModel",
      "state": {
       "description": "Retrieve",
       "icon": "list",
       "layout": "IPY_MODEL_3564b0dba0744b76b30281e1cfa6bf8b",
       "style": "IPY_MODEL_072306e748724da3b6b50074a49c8efa",
       "tooltip": "Retrieve related references"
      }
     },
     "23b5313f44ca4868bbf91e9736068384": {
      "model_module": "@jupyter-widgets/controls",
      "model_module_version": "2.0.0",
      "model_name": "HTMLStyleModel",
      "state": {
       "description_width": "",
       "font_size": null,
       "text_color": null
      }
     },
     "242974ea51cf4e989fc4223a0d859214": {
      "model_module": "@jupyter-widgets/controls",
      "model_module_version": "2.0.0",
      "model_name": "HTMLModel",
      "state": {
       "layout": "IPY_MODEL_c50c85f1f4344850ada4b45ef690b114",
       "style": "IPY_MODEL_eb853e74fb16440391842072a6f988de"
      }
     },
     "247dc0f2fdd444b3981d8e3bfacbb2e9": {
      "model_module": "@jupyter-widgets/base",
      "model_module_version": "2.0.0",
      "model_name": "LayoutModel",
      "state": {
       "height": "50%",
       "width": "50%"
      }
     },
     "248b7c5ef17b4734be4bc3de7e9f010e": {
      "model_module": "@jupyter-widgets/controls",
      "model_module_version": "2.0.0",
      "model_name": "TextStyleModel",
      "state": {
       "description_width": "50px",
       "font_size": null,
       "text_color": null
      }
     },
     "252e9cb3832d4dd1b2600872dc93cd8b": {
      "model_module": "@jupyter-widgets/controls",
      "model_module_version": "2.0.0",
      "model_name": "TextModel",
      "state": {
       "layout": "IPY_MODEL_75ec08506ea547f08165487fe7d26664",
       "placeholder": "20",
       "style": "IPY_MODEL_26b6de8e5f1f415b9b7e5bf99beb2f96",
       "value": "20"
      }
     },
     "254739ba6f6e4fdf9c55bdcd83ef3bf4": {
      "model_module": "@jupyter-widgets/controls",
      "model_module_version": "2.0.0",
      "model_name": "HBoxModel",
      "state": {
       "children": [
        "IPY_MODEL_72edd78ae4154c1cb217efca335fb303",
        "IPY_MODEL_3d4e75448646478e82cf080c83e4e532",
        "IPY_MODEL_baf2a2f651cb4ee6a1fec65a02dcf8e9"
       ],
       "layout": "IPY_MODEL_a855d49cd5ea473f99877e0773ee7a7d"
      }
     },
     "257be3af528243d1a9a7415daf801702": {
      "model_module": "@jupyter-widgets/controls",
      "model_module_version": "2.0.0",
      "model_name": "HBoxModel",
      "state": {
       "children": [
        "IPY_MODEL_cffb537fe016462097e4f26acabff25b",
        "IPY_MODEL_3cb6a2bbd5224754b70efd6ca5485aaf"
       ],
       "layout": "IPY_MODEL_dcba1655ae82440db06449d75536910f"
      }
     },
     "261c5db09c684318b52588acd33654a5": {
      "model_module": "@jupyter-widgets/controls",
      "model_module_version": "2.0.0",
      "model_name": "HTMLStyleModel",
      "state": {
       "description_width": "",
       "font_size": null,
       "text_color": null
      }
     },
     "26627e63825a4bdbb85bd8e119e07df9": {
      "model_module": "@jupyter-widgets/controls",
      "model_module_version": "2.0.0",
      "model_name": "HTMLStyleModel",
      "state": {
       "description_width": "",
       "font_size": null,
       "text_color": null
      }
     },
     "2671ed67f33247f685d2cc28fb78243c": {
      "model_module": "@jupyter-widgets/controls",
      "model_module_version": "2.0.0",
      "model_name": "VBoxModel",
      "state": {
       "children": [
        "IPY_MODEL_ded1e83666c947ff9c168ff2718df4b0",
        "IPY_MODEL_8963aecd7f2f44a78229ab0d181ce8db"
       ],
       "layout": "IPY_MODEL_84337047b00549a3af3dfc0bbcc9d64b"
      }
     },
     "26a21484805f433bb1f8f6fe7f935f1f": {
      "model_module": "@jupyter-widgets/base",
      "model_module_version": "2.0.0",
      "model_name": "LayoutModel",
      "state": {}
     },
     "26a4873fa43b4eacb9c9eb978891c059": {
      "model_module": "@jupyter-widgets/controls",
      "model_module_version": "2.0.0",
      "model_name": "TextStyleModel",
      "state": {
       "background": "transparent",
       "description_width": "50px",
       "font_size": null,
       "text_color": null
      }
     },
     "26b6de8e5f1f415b9b7e5bf99beb2f96": {
      "model_module": "@jupyter-widgets/controls",
      "model_module_version": "2.0.0",
      "model_name": "TextStyleModel",
      "state": {
       "description_width": "",
       "font_size": null,
       "text_color": null
      }
     },
     "26b95f697c47406f9a4ae63e701181b5": {
      "model_module": "@jupyter-widgets/base",
      "model_module_version": "2.0.0",
      "model_name": "LayoutModel",
      "state": {
       "justify_content": "flex-start"
      }
     },
     "2723639a171e42ad8fe699306120e813": {
      "model_module": "@jupyter-widgets/controls",
      "model_module_version": "2.0.0",
      "model_name": "TextModel",
      "state": {
       "layout": "IPY_MODEL_45d28eeaef8742118321f330dcadd798",
       "style": "IPY_MODEL_2a45cd3e421e453abb9444ad1af7af39",
       "value": "Understanding of perturbation-based approaches for providing visual explanations in AI-based liver cancer analysis."
      }
     },
     "27242ebfa1bd4d20ae6338eda9dcec32": {
      "model_module": "@jupyter-widgets/controls",
      "model_module_version": "2.0.0",
      "model_name": "VBoxModel",
      "state": {
       "children": [
        "IPY_MODEL_3cbd22e217e84604bc526a168346694f",
        "IPY_MODEL_7c5c468dee0b43029789fda3c05da1a0"
       ],
       "layout": "IPY_MODEL_70bb344a6fd743e8b217b5a38ddd2c48"
      }
     },
     "273c19578cdf49e78889c3962a03267a": {
      "model_module": "@jupyter-widgets/controls",
      "model_module_version": "2.0.0",
      "model_name": "TextModel",
      "state": {
       "description": "Prompt",
       "layout": "IPY_MODEL_8ac557ee8c55448cbff0ea75c8d4c8ac",
       "placeholder": "",
       "style": "IPY_MODEL_2cd10f2810b94e1ea02c644500473e3d"
      }
     },
     "27802b3c459340838685acd8bb60599f": {
      "model_module": "@jupyter-widgets/controls",
      "model_module_version": "2.0.0",
      "model_name": "HBoxModel",
      "state": {
       "children": [
        "IPY_MODEL_886c9b37238f4dceadc4a6c20c75b7b4",
        "IPY_MODEL_9297b26e6fd5434facb426f95a943d00"
       ],
       "layout": "IPY_MODEL_4dd833c2064247cfa172c0a8d91a0e8f"
      }
     },
     "2788ea9be89b4a409cd8e96deb29e379": {
      "model_module": "@jupyter-widgets/base",
      "model_module_version": "2.0.0",
      "model_name": "LayoutModel",
      "state": {
       "justify_content": "flex-start"
      }
     },
     "278a90b77dc14920927b2e6643f42ee3": {
      "model_module": "@jupyter-widgets/controls",
      "model_module_version": "2.0.0",
      "model_name": "TextStyleModel",
      "state": {
       "description_width": "50px",
       "font_size": null,
       "text_color": null
      }
     },
     "27a93d0a4f154775a57e632ec01e2c59": {
      "model_module": "@jupyter-widgets/controls",
      "model_module_version": "2.0.0",
      "model_name": "HTMLModel",
      "state": {
       "layout": "IPY_MODEL_2a1ada14c2754924938c44ebd9647c80",
       "style": "IPY_MODEL_7e5125ca310f4e168bfb8a8d1a419ce1",
       "value": "words:"
      }
     },
     "28028ef2024a485f91a9694e61d32691": {
      "model_module": "@jupyter-widgets/controls",
      "model_module_version": "2.0.0",
      "model_name": "TextStyleModel",
      "state": {
       "description_width": "",
       "font_size": null,
       "text_color": null
      }
     },
     "284bd34fceca401f8ff0b5abbd030c19": {
      "model_module": "@jupyter-widgets/controls",
      "model_module_version": "2.0.0",
      "model_name": "VBoxModel",
      "state": {
       "children": [
        "IPY_MODEL_ccf82f3effc84c7992016c464ea54243",
        "IPY_MODEL_f1470286d96a4194b9f6cea181212246"
       ],
       "layout": "IPY_MODEL_efa55350659f42f5bc509b9bddd98d5c"
      }
     },
     "2850e31b52f647e2947c682f0f0c0455": {
      "model_module": "@jupyter-widgets/controls",
      "model_module_version": "2.0.0",
      "model_name": "TextStyleModel",
      "state": {
       "description_width": "50px",
       "font_size": null,
       "text_color": null
      }
     },
     "28a5a552201240b783e4f1b712b84ff5": {
      "model_module": "@jupyter-widgets/controls",
      "model_module_version": "2.0.0",
      "model_name": "TextStyleModel",
      "state": {
       "description_width": "",
       "font_size": null,
       "text_color": null
      }
     },
     "28b5bfe2c2464b0e899d73d4e562dfc7": {
      "model_module": "@jupyter-widgets/base",
      "model_module_version": "2.0.0",
      "model_name": "LayoutModel",
      "state": {}
     },
     "28bb2ab27d9a4c16af61108bbf306fd5": {
      "model_module": "@jupyter-widgets/controls",
      "model_module_version": "2.0.0",
      "model_name": "ButtonModel",
      "state": {
       "description": "Retrieve",
       "icon": "list",
       "layout": "IPY_MODEL_ef4b8d52e7ba4a9eaf35a2c5d51214db",
       "style": "IPY_MODEL_0b1e4919227342c1b10153a7ab99bae8",
       "tooltip": "Retrieve related references"
      }
     },
     "293f652edce84a95b50fe21b30d86273": {
      "model_module": "@jupyter-widgets/base",
      "model_module_version": "2.0.0",
      "model_name": "LayoutModel",
      "state": {}
     },
     "29a12c1d1b2741efaaea5fbe1e8b36cb": {
      "model_module": "@jupyter-widgets/controls",
      "model_module_version": "2.0.0",
      "model_name": "HBoxModel",
      "state": {
       "children": [
        "IPY_MODEL_843220a096084afe94fb18db712c9ca2",
        "IPY_MODEL_a383394d3d5949558f4dcd7b16b2a3b9",
        "IPY_MODEL_ece62aaebb704aa1a1307030e5ae54df"
       ],
       "layout": "IPY_MODEL_4a842b66783242a39bde25b36ca411f7"
      }
     },
     "2a1ada14c2754924938c44ebd9647c80": {
      "model_module": "@jupyter-widgets/base",
      "model_module_version": "2.0.0",
      "model_name": "LayoutModel",
      "state": {}
     },
     "2a45cd3e421e453abb9444ad1af7af39": {
      "model_module": "@jupyter-widgets/controls",
      "model_module_version": "2.0.0",
      "model_name": "TextStyleModel",
      "state": {
       "background": "transparent",
       "description_width": "50px",
       "font_size": null,
       "text_color": null
      }
     },
     "2a5dd94617d64183a68d6a17caa1233f": {
      "model_module": "@jupyter-widgets/controls",
      "model_module_version": "2.0.0",
      "model_name": "TextStyleModel",
      "state": {
       "description_width": "",
       "font_size": null,
       "text_color": null
      }
     },
     "2a91d60730df40c1803664b0d5d8703e": {
      "model_module": "@jupyter-widgets/controls",
      "model_module_version": "2.0.0",
      "model_name": "HTMLModel",
      "state": {
       "layout": "IPY_MODEL_efa8eeeaa6e64c63bbe2029bd8ea1341",
       "style": "IPY_MODEL_f16ed70d4ce04abe9bb47d893440f7d0",
       "value": "3.1.3.2"
      }
     },
     "2acc36b60af5401487be9c743b747e77": {
      "model_module": "@jupyter-widgets/controls",
      "model_module_version": "2.0.0",
      "model_name": "HBoxModel",
      "state": {
       "children": [
        "IPY_MODEL_2c7044173010493091b59ff902f25055",
        "IPY_MODEL_b19200cac1fe49edb6d09df348c10b19"
       ],
       "layout": "IPY_MODEL_d707369941484c1eb918191e328a3662"
      }
     },
     "2b9a307786c94af0bf6f38245c5a510b": {
      "model_module": "@jupyter-widgets/base",
      "model_module_version": "2.0.0",
      "model_name": "LayoutModel",
      "state": {}
     },
     "2bf246661fae4106a74a5ac4532b9d71": {
      "model_module": "@jupyter-widgets/base",
      "model_module_version": "2.0.0",
      "model_name": "LayoutModel",
      "state": {
       "height": "50%",
       "width": "50%"
      }
     },
     "2c0596c477f54cc5b7b3528aceca11f3": {
      "model_module": "@jupyter-widgets/controls",
      "model_module_version": "2.0.0",
      "model_name": "TextModel",
      "state": {
       "layout": "IPY_MODEL_834e679555ad41d580146bbaeeb9a76b",
       "placeholder": "",
       "style": "IPY_MODEL_e4c951188eed47a0bb406683cf14e2ba",
       "value": "500"
      }
     },
     "2c090759be904994a5be7299cfc4e7a8": {
      "model_module": "@jupyter-widgets/base",
      "model_module_version": "2.0.0",
      "model_name": "LayoutModel",
      "state": {
       "display": "none"
      }
     },
     "2c276a12ea0c4a8d9763fe526e899070": {
      "model_module": "@jupyter-widgets/controls",
      "model_module_version": "2.0.0",
      "model_name": "ButtonModel",
      "state": {
       "description": "Summarize",
       "icon": "rocket",
       "layout": "IPY_MODEL_ef4b8d52e7ba4a9eaf35a2c5d51214db",
       "style": "IPY_MODEL_5d523333ff3d4b618176135286fab2a1",
       "tooltip": "Summarize this section based on the topic and intro"
      }
     },
     "2c7044173010493091b59ff902f25055": {
      "model_module": "@jupyter-widgets/controls",
      "model_module_version": "2.0.0",
      "model_name": "ButtonModel",
      "state": {
       "description": "Retrieve",
       "icon": "list",
       "layout": "IPY_MODEL_7a64f8241c5b4f4bafb4b732da2d731a",
       "style": "IPY_MODEL_d42351b663bf49718f72c4abf408472e",
       "tooltip": "Retrieve related references"
      }
     },
     "2c9ebbc85f7b4586be3904603d7775a6": {
      "model_module": "@jupyter-widgets/base",
      "model_module_version": "2.0.0",
      "model_name": "LayoutModel",
      "state": {}
     },
     "2cacfafab414470bb4b9531c91e704da": {
      "model_module": "@jupyter-widgets/base",
      "model_module_version": "2.0.0",
      "model_name": "LayoutModel",
      "state": {
       "justify_content": "flex-start"
      }
     },
     "2ccd7f1c977e41d59a26ce778c683407": {
      "model_module": "@jupyter-widgets/base",
      "model_module_version": "2.0.0",
      "model_name": "LayoutModel",
      "state": {
       "border_bottom": "solid 1px gray",
       "border_left": "solid 1px gray",
       "border_right": "solid 1px gray",
       "border_top": "solid 1px gray"
      }
     },
     "2cd10f2810b94e1ea02c644500473e3d": {
      "model_module": "@jupyter-widgets/controls",
      "model_module_version": "2.0.0",
      "model_name": "TextStyleModel",
      "state": {
       "description_width": "50px",
       "font_size": null,
       "text_color": null
      }
     },
     "2cf4bcc454fb402dae530013b99e38ec": {
      "model_module": "@jupyter-widgets/base",
      "model_module_version": "2.0.0",
      "model_name": "LayoutModel",
      "state": {}
     },
     "2d354d4cc9b24e97ab59c6956782fea2": {
      "model_module": "@jupyter-widgets/base",
      "model_module_version": "2.0.0",
      "model_name": "LayoutModel",
      "state": {
       "width": "auto"
      }
     },
     "2d47a4a56ace4ccbbf5cee13d6e9337b": {
      "model_module": "@jupyter-widgets/base",
      "model_module_version": "2.0.0",
      "model_name": "LayoutModel",
      "state": {
       "border_bottom": "solid 1px gray",
       "border_left": "solid 1px gray",
       "border_right": "solid 1px gray",
       "border_top": "solid 1px gray"
      }
     },
     "2d68df57dc98443ca595cf329fd2b33e": {
      "model_module": "@jupyter-widgets/controls",
      "model_module_version": "2.0.0",
      "model_name": "ButtonStyleModel",
      "state": {
       "font_family": null,
       "font_size": null,
       "font_style": null,
       "font_variant": null,
       "font_weight": null,
       "text_color": null,
       "text_decoration": null
      }
     },
     "2d6ada24832140e08810c2d5872cd8b2": {
      "model_module": "@jupyter-widgets/controls",
      "model_module_version": "2.0.0",
      "model_name": "HBoxModel",
      "state": {
       "children": [
        "IPY_MODEL_257be3af528243d1a9a7415daf801702",
        "IPY_MODEL_966e6fc2ca1a4c95ab7bcee620654cda"
       ],
       "layout": "IPY_MODEL_0f36c5892fae4ffcb9b1c47f0e22f323"
      }
     },
     "2d6de46d5f6a49c3a84fc0b49cee82fc": {
      "model_module": "@jupyter-widgets/base",
      "model_module_version": "2.0.0",
      "model_name": "LayoutModel",
      "state": {}
     },
     "2deb94299740495ca46e125fb3933001": {
      "model_module": "@jupyter-widgets/base",
      "model_module_version": "2.0.0",
      "model_name": "LayoutModel",
      "state": {}
     },
     "2e4cedade15144d69f13008aa21412c7": {
      "model_module": "@jupyter-widgets/controls",
      "model_module_version": "2.0.0",
      "model_name": "TextModel",
      "state": {
       "layout": "IPY_MODEL_be3fab13ada24b4cbcbf8e6801224e10",
       "placeholder": "",
       "style": "IPY_MODEL_2a5dd94617d64183a68d6a17caa1233f",
       "value": "500"
      }
     },
     "2e970847c5a24b7f993d56c1994dfbc1": {
      "model_module": "@jupyter-widgets/base",
      "model_module_version": "2.0.0",
      "model_name": "LayoutModel",
      "state": {
       "justify_content": "flex-start"
      }
     },
     "2eb07bf32e754c3da8d64468e725edc2": {
      "model_module": "@jupyter-widgets/base",
      "model_module_version": "2.0.0",
      "model_name": "LayoutModel",
      "state": {}
     },
     "2f22ca5e8d8f4e6e8d22edc924ebcd5d": {
      "model_module": "@jupyter-widgets/controls",
      "model_module_version": "2.0.0",
      "model_name": "HBoxModel",
      "state": {
       "children": [
        "IPY_MODEL_7220ed8de64d4a0c9b96c62214b2a67c",
        "IPY_MODEL_5a8469f782cc4db796532f9b8b69e511"
       ],
       "layout": "IPY_MODEL_2ccd7f1c977e41d59a26ce778c683407"
      }
     },
     "2f2333420a794c56bee6277e179df698": {
      "model_module": "@jupyter-widgets/base",
      "model_module_version": "2.0.0",
      "model_name": "LayoutModel",
      "state": {
       "border_bottom": "solid 1px gray",
       "border_left": "solid 1px gray",
       "border_right": "solid 1px gray",
       "border_top": "solid 1px gray"
      }
     },
     "2f35f6dfb6454618a5689c153dcee6b1": {
      "model_module": "@jupyter-widgets/controls",
      "model_module_version": "2.0.0",
      "model_name": "HTMLStyleModel",
      "state": {
       "description_width": "",
       "font_size": null,
       "text_color": null
      }
     },
     "2f6823fc975143e3a79e2765b8f1a849": {
      "model_module": "@jupyter-widgets/controls",
      "model_module_version": "2.0.0",
      "model_name": "TextStyleModel",
      "state": {
       "background": "transparent",
       "description_width": "50px",
       "font_size": null,
       "text_color": null
      }
     },
     "2f6ef22b720241b09088f8e2a4b1672e": {
      "model_module": "@jupyter-widgets/controls",
      "model_module_version": "2.0.0",
      "model_name": "TextModel",
      "state": {
       "description": "Prompt",
       "layout": "IPY_MODEL_2fd08012a53042098e13be7314681e7c",
       "placeholder": "",
       "style": "IPY_MODEL_9a50d91393fc4369bee1294d61a454f7"
      }
     },
     "2f8292fe5e9a411a96316942b32a105d": {
      "model_module": "@jupyter-widgets/base",
      "model_module_version": "2.0.0",
      "model_name": "LayoutModel",
      "state": {
       "border_bottom": "1px solid purple",
       "border_left": "1px solid purple",
       "border_right": "1px solid purple",
       "border_top": "1px solid purple",
       "justify_content": "flex-start",
       "width": "auto"
      }
     },
     "2fc0d33abfe44e4488e3b8052f7f78dc": {
      "model_module": "@jupyter-widgets/controls",
      "model_module_version": "2.0.0",
      "model_name": "TextModel",
      "state": {
       "layout": "IPY_MODEL_acf4a9a488cd4442b5f077b40113b2e9",
       "style": "IPY_MODEL_9a77c6763f42429788ae47d67080f73d",
       "value": "Exploration of visual explanation techniques like saliency mapping and pathologist-in-the-loop in AI-based liver cancer analysis."
      }
     },
     "2fd08012a53042098e13be7314681e7c": {
      "model_module": "@jupyter-widgets/base",
      "model_module_version": "2.0.0",
      "model_name": "LayoutModel",
      "state": {
       "justify_content": "flex-start",
       "width": "90%"
      }
     },
     "2fdf96553e694e248aed728198e741ba": {
      "model_module": "@jupyter-widgets/base",
      "model_module_version": "2.0.0",
      "model_name": "LayoutModel",
      "state": {
       "border_bottom": "solid 1px gray",
       "border_left": "solid 1px gray",
       "border_right": "solid 1px gray",
       "border_top": "solid 1px gray"
      }
     },
     "301eb220b14b4105ac3ab768128b9bc9": {
      "model_module": "@jupyter-widgets/controls",
      "model_module_version": "2.0.0",
      "model_name": "HTMLModel",
      "state": {
       "layout": "IPY_MODEL_8b1b2acbd1724f94a123b671f97bbfac",
       "style": "IPY_MODEL_00209553231042f2a5081ac9e0b00f40",
       "value": "3.1"
      }
     },
     "308a15eb422241bbb3f08845b70c4963": {
      "model_module": "@jupyter-widgets/base",
      "model_module_version": "2.0.0",
      "model_name": "LayoutModel",
      "state": {
       "justify_content": "flex-start"
      }
     },
     "30d5f2eed13e45bc9846ce49ced5934f": {
      "model_module": "@jupyter-widgets/controls",
      "model_module_version": "2.0.0",
      "model_name": "HBoxModel",
      "state": {
       "children": [
        "IPY_MODEL_9e4aa29edd8646299e0dc98ddce9d7b1",
        "IPY_MODEL_1b83cf6712084bc59a5c0c6dff98cee2",
        "IPY_MODEL_a846b5a8baf34e54ac53f59fb20ba6fa"
       ],
       "layout": "IPY_MODEL_cff74fceffdb48a09ea6276a783d6688"
      }
     },
     "3113913f17d6486f8414b7619a75bee3": {
      "model_module": "@jupyter-widgets/controls",
      "model_module_version": "2.0.0",
      "model_name": "TextStyleModel",
      "state": {
       "description_width": "",
       "font_size": null,
       "text_color": null
      }
     },
     "31170dacfb0444f9a5a07ee100d465f7": {
      "model_module": "@jupyter-widgets/base",
      "model_module_version": "2.0.0",
      "model_name": "LayoutModel",
      "state": {
       "justify_content": "flex-start",
       "width": "40px"
      }
     },
     "3133f44d4bb2474392dddab33c35514f": {
      "model_module": "@jupyter-widgets/output",
      "model_module_version": "1.0.0",
      "model_name": "OutputModel",
      "state": {
       "layout": "IPY_MODEL_d995e0b549ad4b798d4e7b489f14c0ca"
      }
     },
     "3137ebb25fb9421e81fc8d6104fbad44": {
      "model_module": "@jupyter-widgets/base",
      "model_module_version": "2.0.0",
      "model_name": "LayoutModel",
      "state": {}
     },
     "314f58353544487fafe4dd29f0499c88": {
      "model_module": "@jupyter-widgets/controls",
      "model_module_version": "2.0.0",
      "model_name": "HTMLModel",
      "state": {
       "layout": "IPY_MODEL_4ed91068a05544958f3857c352accd97",
       "style": "IPY_MODEL_d671e925050f4f7caee70e06b1c174ca",
       "value": "words:"
      }
     },
     "315674f0567341e89b324bf13ea5db2a": {
      "model_module": "@jupyter-widgets/controls",
      "model_module_version": "2.0.0",
      "model_name": "TextModel",
      "state": {
       "layout": "IPY_MODEL_70192adeed324ac9b776581c9ab24015",
       "style": "IPY_MODEL_901f93bd814547dabde7fa47cfce093d",
       "value": "Exploring how AI uses examples to provide explanations for its decisions in liver cancer analysis."
      }
     },
     "31a83b09d104417990aed293a4634adb": {
      "model_module": "@jupyter-widgets/controls",
      "model_module_version": "2.0.0",
      "model_name": "TextModel",
      "state": {
       "description": "Prompt",
       "layout": "IPY_MODEL_61a2f284667f4555aed67fc4e980cba0",
       "placeholder": "",
       "style": "IPY_MODEL_278a90b77dc14920927b2e6643f42ee3"
      }
     },
     "31d5f1b08eb2430b8656649a7ad1f4c6": {
      "model_module": "@jupyter-widgets/base",
      "model_module_version": "2.0.0",
      "model_name": "LayoutModel",
      "state": {
       "width": "50%"
      }
     },
     "31d71f3b182547eeaa7ca01b6934968b": {
      "model_module": "@jupyter-widgets/controls",
      "model_module_version": "2.0.0",
      "model_name": "HBoxModel",
      "state": {
       "children": [
        "IPY_MODEL_76b22975edff453380b5314d31051b92",
        "IPY_MODEL_9ba7c4ef25e64d41bf8f94b92b686cf4"
       ],
       "layout": "IPY_MODEL_6a9e2a5b4c7144d3a9e396c355e7aa68"
      }
     },
     "32319898973c4c78965d3733da17a218": {
      "model_module": "@jupyter-widgets/controls",
      "model_module_version": "2.0.0",
      "model_name": "VBoxModel",
      "state": {
       "children": [
        "IPY_MODEL_62abf560d56440c0bc0f1c673258b966",
        "IPY_MODEL_efe7336e85814bb695f08e11de38c3de"
       ],
       "layout": "IPY_MODEL_e60a378b7b4643d08ecb711faba8e6d0"
      }
     },
     "3275b5e2a58f45c6873064a91411072d": {
      "model_module": "@jupyter-widgets/base",
      "model_module_version": "2.0.0",
      "model_name": "LayoutModel",
      "state": {
       "justify_content": "flex-start",
       "width": "60px"
      }
     },
     "327cb31d739a4ac989e411dc678b4b6e": {
      "model_module": "@jupyter-widgets/controls",
      "model_module_version": "2.0.0",
      "model_name": "ButtonStyleModel",
      "state": {
       "font_family": null,
       "font_size": null,
       "font_style": null,
       "font_variant": null,
       "font_weight": null,
       "text_color": null,
       "text_decoration": null
      }
     },
     "32b53313f5d742dcb9d9a1ed6e59683a": {
      "model_module": "@jupyter-widgets/base",
      "model_module_version": "2.0.0",
      "model_name": "LayoutModel",
      "state": {}
     },
     "32ea2693136149428aa96b8b9701a934": {
      "model_module": "@jupyter-widgets/base",
      "model_module_version": "2.0.0",
      "model_name": "LayoutModel",
      "state": {
       "width": "50%"
      }
     },
     "330063ce055646d184875f0d8e68a6c3": {
      "model_module": "@jupyter-widgets/controls",
      "model_module_version": "2.0.0",
      "model_name": "HTMLModel",
      "state": {
       "layout": "IPY_MODEL_6ac2cbc4db5145b8b4b4bddd6fd2346f",
       "style": "IPY_MODEL_47ca2d714ba348cca0a37cfb9ccd4b12",
       "value": "queries,"
      }
     },
     "33098781dba642a4b171770f479ec421": {
      "model_module": "@jupyter-widgets/controls",
      "model_module_version": "2.0.0",
      "model_name": "HTMLModel",
      "state": {
       "layout": "IPY_MODEL_6b1c43443c1b4d2696333ccde9b4c9d9",
       "style": "IPY_MODEL_0b299614897044b2b9a84e832c89d98e"
      }
     },
     "335e86262a564c6ab325d71ad9d1c9b7": {
      "model_module": "@jupyter-widgets/base",
      "model_module_version": "2.0.0",
      "model_name": "LayoutModel",
      "state": {}
     },
     "336e0151cc044439b5d3d69445642ef8": {
      "model_module": "@jupyter-widgets/base",
      "model_module_version": "2.0.0",
      "model_name": "LayoutModel",
      "state": {}
     },
     "33de294f886f40dba36e4248002d124a": {
      "model_module": "@jupyter-widgets/base",
      "model_module_version": "2.0.0",
      "model_name": "LayoutModel",
      "state": {
       "justify_content": "flex-start"
      }
     },
     "33ebab6b0c064b28b0b14bdaa18f1a7b": {
      "model_module": "@jupyter-widgets/controls",
      "model_module_version": "2.0.0",
      "model_name": "TextModel",
      "state": {
       "description": "Prompt",
       "layout": "IPY_MODEL_87c8a6d8285741aeb45e6b7281eae9e4",
       "placeholder": "",
       "style": "IPY_MODEL_4c9afc3290d143a091d5dd06846b0906"
      }
     },
     "3435656d1bb34b8fa3fcbed3b6c44c0c": {
      "model_module": "@jupyter-widgets/base",
      "model_module_version": "2.0.0",
      "model_name": "LayoutModel",
      "state": {}
     },
     "3480efb715e743c689950f5d90c1d897": {
      "model_module": "@jupyter-widgets/controls",
      "model_module_version": "2.0.0",
      "model_name": "HTMLModel",
      "state": {
       "layout": "IPY_MODEL_1da6bf60f8404e7db6f9522657e188e9",
       "style": "IPY_MODEL_43e244eebdd345c1b7914541372dde53"
      }
     },
     "348f4cd9140b41468d5152bc33c819d0": {
      "model_module": "@jupyter-widgets/controls",
      "model_module_version": "2.0.0",
      "model_name": "HBoxModel",
      "state": {
       "children": [
        "IPY_MODEL_68d961ba0b054dcabcdec5b546acdc93",
        "IPY_MODEL_b21c40d3bf4a4fe68c0d20410c74b8f3",
        "IPY_MODEL_497878ed585844ffbee10f8494e4de04"
       ],
       "layout": "IPY_MODEL_5eb3a2596aa3400c96eb10d4f2b1e444"
      }
     },
     "34ac2ffc202d41bab35d008958419ab9": {
      "model_module": "@jupyter-widgets/base",
      "model_module_version": "2.0.0",
      "model_name": "LayoutModel",
      "state": {
       "justify_content": "flex-start"
      }
     },
     "34c19dcb91b34d5bbb0fe13d01482cf7": {
      "model_module": "@jupyter-widgets/controls",
      "model_module_version": "2.0.0",
      "model_name": "HTMLStyleModel",
      "state": {
       "description_width": "",
       "font_size": null,
       "text_color": null
      }
     },
     "3538b44ce50e4b728e3b3aea69adddca": {
      "model_module": "@jupyter-widgets/controls",
      "model_module_version": "2.0.0",
      "model_name": "HTMLStyleModel",
      "state": {
       "description_width": "",
       "font_size": null,
       "text_color": null
      }
     },
     "3556c773a7a74204baafef2cf77fe983": {
      "model_module": "@jupyter-widgets/controls",
      "model_module_version": "2.0.0",
      "model_name": "ButtonStyleModel",
      "state": {
       "font_family": null,
       "font_size": null,
       "font_style": null,
       "font_variant": null,
       "font_weight": null,
       "text_color": null,
       "text_decoration": null
      }
     },
     "3564b0dba0744b76b30281e1cfa6bf8b": {
      "model_module": "@jupyter-widgets/base",
      "model_module_version": "2.0.0",
      "model_name": "LayoutModel",
      "state": {
       "width": "auto"
      }
     },
     "3571db8abd124416bf7061d3b9924ec0": {
      "model_module": "@jupyter-widgets/controls",
      "model_module_version": "2.0.0",
      "model_name": "ButtonModel",
      "state": {
       "description": "Translate",
       "icon": "language",
       "layout": "IPY_MODEL_14f44bb8298b461c93591c6c7fef6c8a",
       "style": "IPY_MODEL_dd72407ec5c94a9091344c78031ef5af",
       "tooltip": "Click and translate the details for this section"
      }
     },
     "358449a0d69c488e8ad235d6543496b6": {
      "model_module": "@jupyter-widgets/base",
      "model_module_version": "2.0.0",
      "model_name": "LayoutModel",
      "state": {
       "width": "auto"
      }
     },
     "35b0e84c6ea441c0b2935c60613b1a34": {
      "model_module": "@jupyter-widgets/controls",
      "model_module_version": "2.0.0",
      "model_name": "TextModel",
      "state": {
       "layout": "IPY_MODEL_a7520775f8a14818887fab1bab7cc4be",
       "style": "IPY_MODEL_c88185fa61114c1fb43b43267e58b2d7",
       "value": "Strategies for unraveling the “black-box” of AI-based pathological analysis of liver cancer"
      }
     },
     "35bb6cebe0644ca2815a6a247f35dc48": {
      "model_module": "@jupyter-widgets/controls",
      "model_module_version": "2.0.0",
      "model_name": "HBoxModel",
      "state": {
       "children": [
        "IPY_MODEL_94da3f17f073478aa8d284a8a134be3e",
        "IPY_MODEL_3aaa0bc902c24461aad0a2744ee086e9"
       ],
       "layout": "IPY_MODEL_389b0a7bc9f447ee9abd4fee5e92011c"
      }
     },
     "363ba15b58ac475283676a67fe555516": {
      "model_module": "@jupyter-widgets/output",
      "model_module_version": "1.0.0",
      "model_name": "OutputModel",
      "state": {
       "layout": "IPY_MODEL_52aa9c3127664d8dbf2b5f03752a3fa7"
      }
     },
     "36ab6b4520ba4de0ae55c484b9572d47": {
      "model_module": "@jupyter-widgets/controls",
      "model_module_version": "2.0.0",
      "model_name": "TextModel",
      "state": {
       "layout": "IPY_MODEL_3c0e95cde75f402790c3e82b93427031",
       "style": "IPY_MODEL_c11f8526b7b2446eb69d3a3a7d736f65",
       "value": "Backpropagation-based approaches"
      }
     },
     "36e8d9b768ce45cd8fb094cde7c5f417": {
      "model_module": "@jupyter-widgets/controls",
      "model_module_version": "2.0.0",
      "model_name": "ButtonStyleModel",
      "state": {
       "font_family": null,
       "font_size": null,
       "font_style": null,
       "font_variant": null,
       "font_weight": null,
       "text_color": null,
       "text_decoration": null
      }
     },
     "37452d359a9c4ad3aed78dc4cb1b6a06": {
      "model_module": "@jupyter-widgets/base",
      "model_module_version": "2.0.0",
      "model_name": "LayoutModel",
      "state": {}
     },
     "377403025b804382aa5a5a262933ae3d": {
      "model_module": "@jupyter-widgets/controls",
      "model_module_version": "2.0.0",
      "model_name": "HTMLModel",
      "state": {
       "layout": "IPY_MODEL_9dd3411192414cde828fab1d89639075",
       "style": "IPY_MODEL_8db0c11299f94f8bbf3e7a9b6377ec00",
       "value": "queries,"
      }
     },
     "377968d1030d4545a805769d6dc07f0d": {
      "model_module": "@jupyter-widgets/controls",
      "model_module_version": "2.0.0",
      "model_name": "VBoxModel",
      "state": {
       "children": [
        "IPY_MODEL_af48e7b4b96b4c76b451cdedb4c3c36c",
        "IPY_MODEL_2002117e4ff649babb48d6df739da970"
       ],
       "layout": "IPY_MODEL_232566e4f35c4f03bd8ef225a58da469"
      }
     },
     "37ca2dd348fb494896609ad114ae2b07": {
      "model_module": "@jupyter-widgets/base",
      "model_module_version": "2.0.0",
      "model_name": "LayoutModel",
      "state": {}
     },
     "37da8e3bcf7745a39e6c74e87a9bc2f9": {
      "model_module": "@jupyter-widgets/base",
      "model_module_version": "2.0.0",
      "model_name": "LayoutModel",
      "state": {
       "height": "50%",
       "width": "50%"
      }
     },
     "37edba6b2dd44417b67f20f6331656f1": {
      "model_module": "@jupyter-widgets/controls",
      "model_module_version": "2.0.0",
      "model_name": "HTMLModel",
      "state": {
       "layout": "IPY_MODEL_a83e6282d0e1450a938c2a103fe081c9",
       "style": "IPY_MODEL_a219d36ed6844d6c82007f3ec4c280f8",
       "value": "words:"
      }
     },
     "380020f4f4324d70b372bac8bbf71e1a": {
      "model_module": "@jupyter-widgets/base",
      "model_module_version": "2.0.0",
      "model_name": "LayoutModel",
      "state": {}
     },
     "3826db45af6841b98a58c817f7c1f379": {
      "model_module": "@jupyter-widgets/base",
      "model_module_version": "2.0.0",
      "model_name": "LayoutModel",
      "state": {
       "border_bottom": "solid 1px gray",
       "border_left": "solid 1px gray",
       "border_right": "solid 1px gray",
       "border_top": "solid 1px gray"
      }
     },
     "389b0a7bc9f447ee9abd4fee5e92011c": {
      "model_module": "@jupyter-widgets/base",
      "model_module_version": "2.0.0",
      "model_name": "LayoutModel",
      "state": {
       "justify_content": "flex-start"
      }
     },
     "38e1a04e330e45d9911fded8bcf3f354": {
      "model_module": "@jupyter-widgets/base",
      "model_module_version": "2.0.0",
      "model_name": "LayoutModel",
      "state": {
       "justify_content": "flex-start",
       "width": "40px"
      }
     },
     "38e8414f0b46462284d3d76d24bacc2c": {
      "model_module": "@jupyter-widgets/controls",
      "model_module_version": "2.0.0",
      "model_name": "HTMLModel",
      "state": {
       "layout": "IPY_MODEL_b750fd63f37b4d9b9cc1456d35c9d560",
       "style": "IPY_MODEL_c2c5b907637b4db691a681a2bbc48f34",
       "value": "queries,"
      }
     },
     "38fa6375ebae4bfaa2b1802985af488d": {
      "model_module": "@jupyter-widgets/controls",
      "model_module_version": "2.0.0",
      "model_name": "HTMLModel",
      "state": {
       "layout": "IPY_MODEL_d103a67c4c1a4586a9d03b0bef48285b",
       "style": "IPY_MODEL_5d9448f491b445398c1c734ab9afdf83"
      }
     },
     "38fce8ecc0d24d93b78b354be5e0e400": {
      "model_module": "@jupyter-widgets/controls",
      "model_module_version": "2.0.0",
      "model_name": "ButtonModel",
      "state": {
       "description": "Summarize",
       "icon": "rocket",
       "layout": "IPY_MODEL_4a9ae682ffce45228b357ebab0686ffa",
       "style": "IPY_MODEL_a588b4cd4b2e48a3a9fe10d4cc297b05",
       "tooltip": "Summarize this section based on the topic and intro"
      }
     },
     "393a4c68553f49609ec25095ccff6728": {
      "model_module": "@jupyter-widgets/controls",
      "model_module_version": "2.0.0",
      "model_name": "HTMLStyleModel",
      "state": {
       "description_width": "",
       "font_size": null,
       "text_color": null
      }
     },
     "397d90e113c04dd39e816779777a2e38": {
      "model_module": "@jupyter-widgets/controls",
      "model_module_version": "2.0.0",
      "model_name": "HTMLModel",
      "state": {
       "layout": "IPY_MODEL_c1c3551cd23146dbaebe77bbe5aa36b6",
       "style": "IPY_MODEL_26627e63825a4bdbb85bd8e119e07df9"
      }
     },
     "3a416e9224db4d1cbfcc7a118040a815": {
      "model_module": "@jupyter-widgets/controls",
      "model_module_version": "2.0.0",
      "model_name": "TextModel",
      "state": {
       "layout": "IPY_MODEL_9eeaf1e1672242f9a72879b07909658b",
       "style": "IPY_MODEL_91b90ec2833846b29414f866f6151118",
       "value": "Exploration of how prototypes are used as examples to explain AI decisions in liver cancer analysis."
      }
     },
     "3aaa0bc902c24461aad0a2744ee086e9": {
      "model_module": "@jupyter-widgets/controls",
      "model_module_version": "2.0.0",
      "model_name": "HBoxModel",
      "state": {
       "children": [
        "IPY_MODEL_158889b253964100822d7082633b50ba",
        "IPY_MODEL_d85b570d2473440f9f1f66e1cf55b87e"
       ],
       "layout": "IPY_MODEL_f54c556d492e42f0a00a92e57b0b94fa"
      }
     },
     "3ac7f52f8baa4ed883aa9931aad0e07d": {
      "model_module": "@jupyter-widgets/controls",
      "model_module_version": "2.0.0",
      "model_name": "VBoxModel",
      "state": {
       "children": [
        "IPY_MODEL_144248b3b48d4346a4bb21a1d53cc803",
        "IPY_MODEL_79ae94e25aba4fbf8856f7936c70023a"
       ],
       "layout": "IPY_MODEL_37da8e3bcf7745a39e6c74e87a9bc2f9"
      }
     },
     "3ad48b2a8784400cb6026ad0f4cccd9b": {
      "model_module": "@jupyter-widgets/controls",
      "model_module_version": "2.0.0",
      "model_name": "HBoxModel",
      "state": {
       "children": [
        "IPY_MODEL_9db85c79f9554a1b9c971fd7ebf0c72a",
        "IPY_MODEL_46cf79ba86dc4fd7ba083c39c12c8083"
       ],
       "layout": "IPY_MODEL_443c40d7a2064547a0cb9fb5a8a64afa"
      }
     },
     "3af2352268f04de5bfad74125d16e2da": {
      "model_module": "@jupyter-widgets/controls",
      "model_module_version": "2.0.0",
      "model_name": "VBoxModel",
      "state": {
       "children": [
        "IPY_MODEL_2723639a171e42ad8fe699306120e813",
        "IPY_MODEL_a75ca074ef8d40cfb18f1fdfa92d52cc"
       ],
       "layout": "IPY_MODEL_05c2c7adb3b946cea3c6f8dfbf96751f"
      }
     },
     "3b3a315cdb1a4638b1cbc89e87a1c23b": {
      "model_module": "@jupyter-widgets/base",
      "model_module_version": "2.0.0",
      "model_name": "LayoutModel",
      "state": {}
     },
     "3bbb792835be4aa695fbb0c851fe800e": {
      "model_module": "@jupyter-widgets/output",
      "model_module_version": "1.0.0",
      "model_name": "OutputModel",
      "state": {
       "layout": "IPY_MODEL_3435656d1bb34b8fa3fcbed3b6c44c0c"
      }
     },
     "3c0e95cde75f402790c3e82b93427031": {
      "model_module": "@jupyter-widgets/base",
      "model_module_version": "2.0.0",
      "model_name": "LayoutModel",
      "state": {
       "border_bottom": "1px solid purple",
       "border_left": "1px solid purple",
       "border_right": "1px solid purple",
       "border_top": "1px solid purple",
       "justify_content": "flex-start",
       "width": "99%"
      }
     },
     "3cb6a2bbd5224754b70efd6ca5485aaf": {
      "model_module": "@jupyter-widgets/controls",
      "model_module_version": "2.0.0",
      "model_name": "HBoxModel",
      "state": {
       "children": [
        "IPY_MODEL_f521dc99c59d4e9087c5e76fd7c03a49",
        "IPY_MODEL_aa6cfd47b12a431197425664b8e6b0b6"
       ],
       "layout": "IPY_MODEL_c7ee3e808da2437b9f8881d3c0475497"
      }
     },
     "3cbaf10c9a804c92843473a97db439b2": {
      "model_module": "@jupyter-widgets/controls",
      "model_module_version": "2.0.0",
      "model_name": "TextModel",
      "state": {
       "description": "Prompt",
       "layout": "IPY_MODEL_0c8ec2c7f72c4afaafd337fac1b7e3e6",
       "placeholder": "",
       "style": "IPY_MODEL_112a80c3013346709d225883aef60d0a"
      }
     },
     "3cbd22e217e84604bc526a168346694f": {
      "model_module": "@jupyter-widgets/controls",
      "model_module_version": "2.0.0",
      "model_name": "TextModel",
      "state": {
       "layout": "IPY_MODEL_7241bfae983e483f8251829aeab486b2",
       "style": "IPY_MODEL_0d542c19faba4cb7ac909d7410b18fa3",
       "value": "Insights into how AI is leveraged for molecular profiling of liver cancer for personalized treatment strategies."
      }
     },
     "3cbef7b90406464b8734e4a5a41a69d4": {
      "model_module": "@jupyter-widgets/controls",
      "model_module_version": "2.0.0",
      "model_name": "HTMLModel",
      "state": {
       "layout": "IPY_MODEL_83aeeca617ae4d38850631da29cb8946",
       "style": "IPY_MODEL_8e88c4a63b6a469bbfc9691d015c2c9d",
       "value": " to "
      }
     },
     "3ccfaf6d789541889224fcf27e2538dc": {
      "model_module": "@jupyter-widgets/controls",
      "model_module_version": "2.0.0",
      "model_name": "HBoxModel",
      "state": {
       "children": [
        "IPY_MODEL_ba80b38ac95f4bfd81731eaee845d4dd",
        "IPY_MODEL_e7a3de44af4c4fc4a75d231c2c7ad791"
       ],
       "layout": "IPY_MODEL_f0fbe9c3663f473faff9d80096775743"
      }
     },
     "3ce11867cc434e2a96a9c916ac93d248": {
      "model_module": "@jupyter-widgets/controls",
      "model_module_version": "2.0.0",
      "model_name": "TextModel",
      "state": {
       "description": "Prompt",
       "layout": "IPY_MODEL_a4d0fe919b38461ebef2e277cec08053",
       "placeholder": "",
       "style": "IPY_MODEL_b2484a95685e4692bc67cbaadd5a8f8d"
      }
     },
     "3d1025193dff4210b769ae18f5596acf": {
      "model_module": "@jupyter-widgets/base",
      "model_module_version": "2.0.0",
      "model_name": "LayoutModel",
      "state": {}
     },
     "3d1950d543a541179c50bb5bd154d34a": {
      "model_module": "@jupyter-widgets/controls",
      "model_module_version": "2.0.0",
      "model_name": "HTMLStyleModel",
      "state": {
       "description_width": "",
       "font_size": null,
       "text_color": null
      }
     },
     "3d4e75448646478e82cf080c83e4e532": {
      "model_module": "@jupyter-widgets/controls",
      "model_module_version": "2.0.0",
      "model_name": "TextModel",
      "state": {
       "layout": "IPY_MODEL_9be550010b2348e6b4a1b7fe41795ecd",
       "placeholder": "",
       "style": "IPY_MODEL_8d3a36fbcf1944a89ce6f93af9e30c39",
       "value": "500"
      }
     },
     "3d692a1e754b40d59ec2029bc9127a78": {
      "model_module": "@jupyter-widgets/controls",
      "model_module_version": "2.0.0",
      "model_name": "HBoxModel",
      "state": {
       "children": [
        "IPY_MODEL_ea37febb691542bc9069924ec7aba2a5",
        "IPY_MODEL_ecfe61bac7d948ef883ea82bee0edda2"
       ],
       "layout": "IPY_MODEL_8a7a3eb3bafd4129815ebfb40094e4c0"
      }
     },
     "3d6af4a2444d47b39f6398e158fd5b44": {
      "model_module": "@jupyter-widgets/controls",
      "model_module_version": "2.0.0",
      "model_name": "ButtonStyleModel",
      "state": {
       "font_family": null,
       "font_size": null,
       "font_style": null,
       "font_variant": null,
       "font_weight": null,
       "text_color": null,
       "text_decoration": null
      }
     },
     "3db3975f5add45e3b0799809ec5343ce": {
      "model_module": "@jupyter-widgets/controls",
      "model_module_version": "2.0.0",
      "model_name": "TextStyleModel",
      "state": {
       "background": "#000000",
       "description_width": "50px",
       "font_size": null,
       "text_color": null
      }
     },
     "3e0cfe9b3112438cb69ff99ab779ddcf": {
      "model_module": "@jupyter-widgets/controls",
      "model_module_version": "2.0.0",
      "model_name": "TextModel",
      "state": {
       "layout": "IPY_MODEL_02352a8837b6403596bfb6e5057849b2",
       "placeholder": "",
       "style": "IPY_MODEL_c9d9c134412d431a874e4bc2a7ad0bbb",
       "value": "500"
      }
     },
     "3e11dd676ece4d9881caaca96a6a1783": {
      "model_module": "@jupyter-widgets/base",
      "model_module_version": "2.0.0",
      "model_name": "LayoutModel",
      "state": {}
     },
     "3e1b82e8a4ab4ded9b52772f4926b95a": {
      "model_module": "@jupyter-widgets/controls",
      "model_module_version": "2.0.0",
      "model_name": "ButtonStyleModel",
      "state": {
       "font_family": null,
       "font_size": null,
       "font_style": null,
       "font_variant": null,
       "font_weight": null,
       "text_color": null,
       "text_decoration": null
      }
     },
     "3e35fbd7b5b048a8a9bceb13b16db259": {
      "model_module": "@jupyter-widgets/controls",
      "model_module_version": "2.0.0",
      "model_name": "HTMLStyleModel",
      "state": {
       "description_width": "",
       "font_size": null,
       "text_color": null
      }
     },
     "3e3e9407c04f48648561798af81472c1": {
      "model_module": "@jupyter-widgets/base",
      "model_module_version": "2.0.0",
      "model_name": "LayoutModel",
      "state": {
       "width": "auto"
      }
     },
     "3e454e291d3f4316a8cd6beb99c32b07": {
      "model_module": "@jupyter-widgets/controls",
      "model_module_version": "2.0.0",
      "model_name": "ButtonStyleModel",
      "state": {
       "font_family": null,
       "font_size": null,
       "font_style": null,
       "font_variant": null,
       "font_weight": null,
       "text_color": null,
       "text_decoration": null
      }
     },
     "3e8263fb16074e749594475cf452d448": {
      "model_module": "@jupyter-widgets/base",
      "model_module_version": "2.0.0",
      "model_name": "LayoutModel",
      "state": {}
     },
     "3ec8faa0e5bc4abea238faa29e516146": {
      "model_module": "@jupyter-widgets/controls",
      "model_module_version": "2.0.0",
      "model_name": "HTMLModel",
      "state": {
       "layout": "IPY_MODEL_48290af2adde48268da83e37e91fbadf",
       "style": "IPY_MODEL_b62c7c3a5bf7441f9c30819a4b18d3b5",
       "value": "1"
      }
     },
     "3ef8269766274f4f99d64b1080c5bb21": {
      "model_module": "@jupyter-widgets/base",
      "model_module_version": "2.0.0",
      "model_name": "LayoutModel",
      "state": {
       "height": "50%",
       "width": "50%"
      }
     },
     "3f1bf5f59c014a11b07aade2bcbbcfb6": {
      "model_module": "@jupyter-widgets/controls",
      "model_module_version": "2.0.0",
      "model_name": "TextStyleModel",
      "state": {
       "description_width": "",
       "font_size": null,
       "text_color": null
      }
     },
     "3f5b85baa80c413685cdc35fd50e7567": {
      "model_module": "@jupyter-widgets/controls",
      "model_module_version": "2.0.0",
      "model_name": "VBoxModel",
      "state": {
       "children": [
        "IPY_MODEL_07a8a26ca1f64bdda1751c331e22f373",
        "IPY_MODEL_8eac2de45d594e199a658a434f012654"
       ],
       "layout": "IPY_MODEL_d63dd9ea92764d8a96d6c9d70cb9d4be"
      }
     },
     "3f7742224ce7497c8d29538ba038bd18": {
      "model_module": "@jupyter-widgets/base",
      "model_module_version": "2.0.0",
      "model_name": "LayoutModel",
      "state": {
       "border_bottom": "1px solid purple",
       "border_left": "1px solid purple",
       "border_right": "1px solid purple",
       "border_top": "1px solid purple",
       "justify_content": "flex-start",
       "width": "auto"
      }
     },
     "41173b8927624692bd772f3fa728335d": {
      "model_module": "@jupyter-widgets/base",
      "model_module_version": "2.0.0",
      "model_name": "LayoutModel",
      "state": {}
     },
     "4128a72212f443a7b971bd1ee4fe9224": {
      "model_module": "@jupyter-widgets/controls",
      "model_module_version": "2.0.0",
      "model_name": "HBoxModel",
      "state": {
       "children": [
        "IPY_MODEL_c684bd50d0cb4556a7bab6ff6229d629",
        "IPY_MODEL_32319898973c4c78965d3733da17a218"
       ],
       "layout": "IPY_MODEL_f7003c318e5b4389bd3ca2628b090c51"
      }
     },
     "41a2dcced756419bb0adc53904c08421": {
      "model_module": "@jupyter-widgets/base",
      "model_module_version": "2.0.0",
      "model_name": "LayoutModel",
      "state": {
       "border_bottom": "1px solid transparent",
       "border_left": "1px solid transparent",
       "border_right": "1px solid transparent",
       "border_top": "1px solid transparent",
       "justify_content": "flex-start",
       "width": "99%"
      }
     },
     "41a5168d82d14cc9829ec10bc036e62e": {
      "model_module": "@jupyter-widgets/controls",
      "model_module_version": "2.0.0",
      "model_name": "HTMLStyleModel",
      "state": {
       "description_width": "",
       "font_size": null,
       "text_color": null
      }
     },
     "41b1e9714e43403db139d9940b818113": {
      "model_module": "@jupyter-widgets/base",
      "model_module_version": "2.0.0",
      "model_name": "LayoutModel",
      "state": {
       "width": "50%"
      }
     },
     "41dc745299b04dfaa00c594c2e7382c1": {
      "model_module": "@jupyter-widgets/base",
      "model_module_version": "2.0.0",
      "model_name": "LayoutModel",
      "state": {
       "justify_content": "flex-start",
       "width": "40px"
      }
     },
     "41f50a55407e46889ce85bd647bc1f99": {
      "model_module": "@jupyter-widgets/controls",
      "model_module_version": "2.0.0",
      "model_name": "TextStyleModel",
      "state": {
       "description_width": "50px",
       "font_size": null,
       "text_color": null
      }
     },
     "41fef6ae6bfa41148819f4c90af7e3bb": {
      "model_module": "@jupyter-widgets/controls",
      "model_module_version": "2.0.0",
      "model_name": "TextModel",
      "state": {
       "description": "Prompt",
       "layout": "IPY_MODEL_a6a8cdeccc1d44989ee98e121ef74aee",
       "placeholder": "",
       "style": "IPY_MODEL_16a59cb50387450b993be7fa507bee43"
      }
     },
     "421bb2d3e8c44e9e8e4f2d45b6ff5a27": {
      "model_module": "@jupyter-widgets/base",
      "model_module_version": "2.0.0",
      "model_name": "LayoutModel",
      "state": {
       "border_bottom": "1px solid purple",
       "border_left": "1px solid purple",
       "border_right": "1px solid purple",
       "border_top": "1px solid purple",
       "justify_content": "flex-start",
       "width": "auto"
      }
     },
     "4234e6e2d8e4466a85943d7d86f38345": {
      "model_module": "@jupyter-widgets/base",
      "model_module_version": "2.0.0",
      "model_name": "LayoutModel",
      "state": {
       "height": "50%",
       "width": "50%"
      }
     },
     "425b088c096a4c56ba0c829d74168c5b": {
      "model_module": "@jupyter-widgets/base",
      "model_module_version": "2.0.0",
      "model_name": "LayoutModel",
      "state": {
       "justify_content": "flex-start"
      }
     },
     "429f3285cd4f46f8af61afbc895b908b": {
      "model_module": "@jupyter-widgets/base",
      "model_module_version": "2.0.0",
      "model_name": "LayoutModel",
      "state": {
       "justify_content": "flex-start"
      }
     },
     "42a75e7ac47143c3b17d88fef8fe8895": {
      "model_module": "@jupyter-widgets/base",
      "model_module_version": "2.0.0",
      "model_name": "LayoutModel",
      "state": {}
     },
     "42aa02d6a1df469e85d897ce33c8358d": {
      "model_module": "@jupyter-widgets/controls",
      "model_module_version": "2.0.0",
      "model_name": "HBoxModel",
      "state": {
       "children": [
        "IPY_MODEL_aacdd5a6b7b64f52a24e0deda48ccfc3",
        "IPY_MODEL_cae45b7697c446ec8bf0f76888e49284"
       ],
       "layout": "IPY_MODEL_e4b68a1154b64407a00d481981f86c7e"
      }
     },
     "42e2471d45c442118310d7d1074c93e7": {
      "model_module": "@jupyter-widgets/controls",
      "model_module_version": "2.0.0",
      "model_name": "HTMLStyleModel",
      "state": {
       "description_width": "",
       "font_size": null,
       "text_color": null
      }
     },
     "4320afc7c0014da9abdd868b61b13bca": {
      "model_module": "@jupyter-widgets/controls",
      "model_module_version": "2.0.0",
      "model_name": "HBoxModel",
      "state": {
       "children": [
        "IPY_MODEL_19033201228042f2ab6dabda40a019ea",
        "IPY_MODEL_f23d2f78667940f08148fcb705198067"
       ],
       "layout": "IPY_MODEL_2036c74bb4ea4c19bfd2583a1d6d1ffd"
      }
     },
     "433c32cb7bf14fd69bf812e69da62b9a": {
      "model_module": "@jupyter-widgets/base",
      "model_module_version": "2.0.0",
      "model_name": "LayoutModel",
      "state": {
       "border_bottom": "1px solid transparent",
       "border_left": "1px solid transparent",
       "border_right": "1px solid transparent",
       "border_top": "1px solid transparent",
       "justify_content": "flex-start",
       "width": "99%"
      }
     },
     "437e27f48e03437e9381f9bb40d60656": {
      "model_module": "@jupyter-widgets/controls",
      "model_module_version": "2.0.0",
      "model_name": "HTMLStyleModel",
      "state": {
       "description_width": "",
       "font_size": null,
       "text_color": null
      }
     },
     "4385391c92ba47c2834da2349fee1d0e": {
      "model_module": "@jupyter-widgets/controls",
      "model_module_version": "2.0.0",
      "model_name": "VBoxModel",
      "state": {
       "children": [
        "IPY_MODEL_2fc0d33abfe44e4488e3b8052f7f78dc",
        "IPY_MODEL_33098781dba642a4b171770f479ec421"
       ],
       "layout": "IPY_MODEL_4f867ff1b5334f0d93acb0a51826a367"
      }
     },
     "43d90e59e8ed497eb68b4c7eac0d348a": {
      "model_module": "@jupyter-widgets/base",
      "model_module_version": "2.0.0",
      "model_name": "LayoutModel",
      "state": {
       "justify_content": "flex-start"
      }
     },
     "43e244eebdd345c1b7914541372dde53": {
      "model_module": "@jupyter-widgets/controls",
      "model_module_version": "2.0.0",
      "model_name": "HTMLStyleModel",
      "state": {
       "description_width": "",
       "font_size": null,
       "text_color": null
      }
     },
     "43e9f51494844c978ccd8387ab8e1f21": {
      "model_module": "@jupyter-widgets/base",
      "model_module_version": "2.0.0",
      "model_name": "LayoutModel",
      "state": {
       "border_bottom": "1px solid purple",
       "border_left": "1px solid purple",
       "border_right": "1px solid purple",
       "border_top": "1px solid purple",
       "justify_content": "flex-start",
       "width": "99%"
      }
     },
     "442bff00b9524d01a2e2c7b3a09baf5e": {
      "model_module": "@jupyter-widgets/base",
      "model_module_version": "2.0.0",
      "model_name": "LayoutModel",
      "state": {
       "width": "50%"
      }
     },
     "443c40d7a2064547a0cb9fb5a8a64afa": {
      "model_module": "@jupyter-widgets/base",
      "model_module_version": "2.0.0",
      "model_name": "LayoutModel",
      "state": {}
     },
     "4450e61e0c5d4829b75386b1932fdc5c": {
      "model_module": "@jupyter-widgets/controls",
      "model_module_version": "2.0.0",
      "model_name": "HTMLModel",
      "state": {
       "layout": "IPY_MODEL_d11424081ca040dba0fcccdb888b0236",
       "style": "IPY_MODEL_d1bb6f3cd9c64954bc77dcbd6a77e08f",
       "value": "1.3"
      }
     },
     "449050646a33429691a94f26c430e31d": {
      "model_module": "@jupyter-widgets/output",
      "model_module_version": "1.0.0",
      "model_name": "OutputModel",
      "state": {
       "layout": "IPY_MODEL_2cf4bcc454fb402dae530013b99e38ec"
      }
     },
     "4497d9cd9620499b8b935a3c48a9b1de": {
      "model_module": "@jupyter-widgets/controls",
      "model_module_version": "2.0.0",
      "model_name": "TextModel",
      "state": {
       "layout": "IPY_MODEL_f70a5f46ead640209e022b1ac3b537c5",
       "style": "IPY_MODEL_d392a6a271f5462c8595f9da03cc85b2",
       "value": "A comprehensive discussion on various strategies to decode the complex workings of AI in pathological analysis of liver cancer."
      }
     },
     "44a741caecc7454abce1591b1fc1b089": {
      "model_module": "@jupyter-widgets/controls",
      "model_module_version": "2.0.0",
      "model_name": "HBoxModel",
      "state": {
       "children": [
        "IPY_MODEL_53d6f218694149aa87bc0e995de6c584",
        "IPY_MODEL_2e4cedade15144d69f13008aa21412c7",
        "IPY_MODEL_d7807bacb339486badc0ee980942e93e"
       ],
       "layout": "IPY_MODEL_cbd12fb4932842bd94a707338f4e1280"
      }
     },
     "44bcc4bea5ea453488224b0d85ab9fe3": {
      "model_module": "@jupyter-widgets/controls",
      "model_module_version": "2.0.0",
      "model_name": "HBoxModel",
      "state": {
       "children": [
        "IPY_MODEL_a28830a3b0e24a2d829acca41094a19f",
        "IPY_MODEL_47553e78fd034df8a29abea877844fea"
       ],
       "layout": "IPY_MODEL_befb3479f2d64427946bee913abaf024"
      }
     },
     "45b25436e3d142c9ad371e05dbf83696": {
      "model_module": "@jupyter-widgets/controls",
      "model_module_version": "2.0.0",
      "model_name": "ButtonModel",
      "state": {
       "description": "Retrieve",
       "icon": "list",
       "layout": "IPY_MODEL_cb00b851c0024981a2e22bc5fae89c2d",
       "style": "IPY_MODEL_8dfe0249a5104f3bb522cc08c92dab42",
       "tooltip": "Retrieve related references"
      }
     },
     "45d28eeaef8742118321f330dcadd798": {
      "model_module": "@jupyter-widgets/base",
      "model_module_version": "2.0.0",
      "model_name": "LayoutModel",
      "state": {
       "border_bottom": "1px solid transparent",
       "border_left": "1px solid transparent",
       "border_right": "1px solid transparent",
       "border_top": "1px solid transparent",
       "justify_content": "flex-start",
       "width": "99%"
      }
     },
     "4605849d63574becb5ad1700b23a63b0": {
      "model_module": "@jupyter-widgets/controls",
      "model_module_version": "2.0.0",
      "model_name": "TextModel",
      "state": {
       "layout": "IPY_MODEL_abbaea98d6ff414486dff63d27062b7f",
       "style": "IPY_MODEL_220b8c6985c94abf93af6e40c817d19b",
       "value": "Example-based explanation"
      }
     },
     "46171a730e414646aa687e4b9b561a6c": {
      "model_module": "@jupyter-widgets/controls",
      "model_module_version": "2.0.0",
      "model_name": "TextStyleModel",
      "state": {
       "background": "transparent",
       "description_width": "50px",
       "font_size": null,
       "text_color": null
      }
     },
     "4623e5fb15b441119fe6f6248e1b133f": {
      "model_module": "@jupyter-widgets/controls",
      "model_module_version": "2.0.0",
      "model_name": "HTMLStyleModel",
      "state": {
       "description_width": "",
       "font_size": null,
       "text_color": null
      }
     },
     "462a0eb3c40342fda8d64a7f06e87d67": {
      "model_module": "@jupyter-widgets/controls",
      "model_module_version": "2.0.0",
      "model_name": "TextModel",
      "state": {
       "description": "Prompt",
       "layout": "IPY_MODEL_ddd9d792de4a417a9b0daa5fa7a6e1f0",
       "placeholder": "",
       "style": "IPY_MODEL_248b7c5ef17b4734be4bc3de7e9f010e"
      }
     },
     "46441b8a850c4effb624d10437e759c7": {
      "model_module": "@jupyter-widgets/controls",
      "model_module_version": "2.0.0",
      "model_name": "ButtonStyleModel",
      "state": {
       "font_family": null,
       "font_size": null,
       "font_style": null,
       "font_variant": null,
       "font_weight": null,
       "text_color": null,
       "text_decoration": null
      }
     },
     "467cf58bb38e429b834ac3c5fc6de0df": {
      "model_module": "@jupyter-widgets/controls",
      "model_module_version": "2.0.0",
      "model_name": "HTMLStyleModel",
      "state": {
       "description_width": "",
       "font_size": null,
       "text_color": null
      }
     },
     "46cf79ba86dc4fd7ba083c39c12c8083": {
      "model_module": "@jupyter-widgets/controls",
      "model_module_version": "2.0.0",
      "model_name": "TextModel",
      "state": {
       "layout": "IPY_MODEL_a5f4230435a14d1d90f87be13445e0d0",
       "style": "IPY_MODEL_09544505e5074e84bf379c7411eceae5",
       "value": "Current challenges limiting AI-based approaches in the management of liver cancer"
      }
     },
     "46e04f54abdb400ea08888fd95525224": {
      "model_module": "@jupyter-widgets/controls",
      "model_module_version": "2.0.0",
      "model_name": "ButtonStyleModel",
      "state": {
       "font_family": null,
       "font_size": null,
       "font_style": null,
       "font_variant": null,
       "font_weight": null,
       "text_color": null,
       "text_decoration": null
      }
     },
     "473b8aa145244653b61ee81c3863dd79": {
      "model_module": "@jupyter-widgets/controls",
      "model_module_version": "2.0.0",
      "model_name": "HTMLModel",
      "state": {
       "layout": "IPY_MODEL_7ab73e98d5a943eea4202a40671851b9",
       "style": "IPY_MODEL_42e2471d45c442118310d7d1074c93e7",
       "value": "queries,"
      }
     },
     "47553e78fd034df8a29abea877844fea": {
      "model_module": "@jupyter-widgets/controls",
      "model_module_version": "2.0.0",
      "model_name": "TextModel",
      "state": {
       "layout": "IPY_MODEL_e7bc36a156b84d928a2203f17136a451",
       "style": "IPY_MODEL_8d7b2821a5e14078b3a09533cf052a9c",
       "value": "Textual explanation"
      }
     },
     "4772350fa85a48f9b3a41b28f7ca7bd1": {
      "model_module": "@jupyter-widgets/base",
      "model_module_version": "2.0.0",
      "model_name": "LayoutModel",
      "state": {
       "border_bottom": "1px solid purple",
       "border_left": "1px solid purple",
       "border_right": "1px solid purple",
       "border_top": "1px solid purple",
       "justify_content": "flex-start",
       "width": "99%"
      }
     },
     "47a662172a0044afa7210d9cb3009a97": {
      "model_module": "@jupyter-widgets/controls",
      "model_module_version": "2.0.0",
      "model_name": "TextModel",
      "state": {
       "layout": "IPY_MODEL_5bfa90c65d43423bbeb29bc8e00d7b19",
       "placeholder": "",
       "style": "IPY_MODEL_a201de2a0ece42dfb071ffab7b425d45",
       "value": "500"
      }
     },
     "47ca2d714ba348cca0a37cfb9ccd4b12": {
      "model_module": "@jupyter-widgets/controls",
      "model_module_version": "2.0.0",
      "model_name": "HTMLStyleModel",
      "state": {
       "description_width": "",
       "font_size": null,
       "text_color": null
      }
     },
     "480521eee3374b9993d31239fa45e443": {
      "model_module": "@jupyter-widgets/controls",
      "model_module_version": "2.0.0",
      "model_name": "HTMLStyleModel",
      "state": {
       "description_width": "",
       "font_size": null,
       "text_color": null
      }
     },
     "48290af2adde48268da83e37e91fbadf": {
      "model_module": "@jupyter-widgets/base",
      "model_module_version": "2.0.0",
      "model_name": "LayoutModel",
      "state": {
       "border_bottom": "1px solid purple",
       "border_left": "1px solid purple",
       "border_right": "1px solid purple",
       "border_top": "1px solid purple",
       "justify_content": "flex-start",
       "width": "auto"
      }
     },
     "483730a685fe4d7f98bf82ce6f322fd4": {
      "model_module": "@jupyter-widgets/controls",
      "model_module_version": "2.0.0",
      "model_name": "TextStyleModel",
      "state": {
       "background": "#000000",
       "description_width": "50px",
       "font_size": null,
       "text_color": null
      }
     },
     "483f4b9846904346bb61165400bee560": {
      "model_module": "@jupyter-widgets/base",
      "model_module_version": "2.0.0",
      "model_name": "LayoutModel",
      "state": {
       "justify_content": "flex-start"
      }
     },
     "4843ffdf19c6459cb041a495c3392b4e": {
      "model_module": "@jupyter-widgets/controls",
      "model_module_version": "2.0.0",
      "model_name": "HTMLModel",
      "state": {
       "layout": "IPY_MODEL_380020f4f4324d70b372bac8bbf71e1a",
       "style": "IPY_MODEL_52e016ae4d0148febaddabd34c7066ab"
      }
     },
     "4844bbc299184736b59087fcdaff7d3a": {
      "model_module": "@jupyter-widgets/controls",
      "model_module_version": "2.0.0",
      "model_name": "HBoxModel",
      "state": {
       "children": [
        "IPY_MODEL_3d692a1e754b40d59ec2029bc9127a78",
        "IPY_MODEL_eb5b28dcfe61450280eecc876bd67570"
       ],
       "layout": "IPY_MODEL_6bd434a693f74cf09cf19d994227fd9e"
      }
     },
     "48b53c0b722349b79052402b3d3a7c64": {
      "model_module": "@jupyter-widgets/base",
      "model_module_version": "2.0.0",
      "model_name": "LayoutModel",
      "state": {
       "border_bottom": "1px solid transparent",
       "border_left": "1px solid transparent",
       "border_right": "1px solid transparent",
       "border_top": "1px solid transparent",
       "justify_content": "flex-start",
       "width": "99%"
      }
     },
     "48c6c5f646c84f66bb916dd93921e7b4": {
      "model_module": "@jupyter-widgets/base",
      "model_module_version": "2.0.0",
      "model_name": "LayoutModel",
      "state": {}
     },
     "48de885b7eda48adb8579e43593f11f5": {
      "model_module": "@jupyter-widgets/base",
      "model_module_version": "2.0.0",
      "model_name": "LayoutModel",
      "state": {
       "border_bottom": "1px solid transparent",
       "border_left": "1px solid transparent",
       "border_right": "1px solid transparent",
       "border_top": "1px solid transparent",
       "display": "none",
       "justify_content": "flex-start",
       "width": "99%"
      }
     },
     "490306adfc0f4b63940a85c10847c08e": {
      "model_module": "@jupyter-widgets/base",
      "model_module_version": "2.0.0",
      "model_name": "LayoutModel",
      "state": {
       "justify_content": "flex-start",
       "width": "40px"
      }
     },
     "4905eaa5acb846f8a5b7b28862406789": {
      "model_module": "@jupyter-widgets/controls",
      "model_module_version": "2.0.0",
      "model_name": "ButtonStyleModel",
      "state": {
       "font_family": null,
       "font_size": null,
       "font_style": null,
       "font_variant": null,
       "font_weight": null,
       "text_color": null,
       "text_decoration": null
      }
     },
     "4906107abb4a4339815c9c56de233369": {
      "model_module": "@jupyter-widgets/base",
      "model_module_version": "2.0.0",
      "model_name": "LayoutModel",
      "state": {}
     },
     "493f214bdc2349c1b28e1b7f0cd5b01d": {
      "model_module": "@jupyter-widgets/controls",
      "model_module_version": "2.0.0",
      "model_name": "HTMLModel",
      "state": {
       "layout": "IPY_MODEL_3137ebb25fb9421e81fc8d6104fbad44",
       "style": "IPY_MODEL_3538b44ce50e4b728e3b3aea69adddca",
       "value": "queries,"
      }
     },
     "497878ed585844ffbee10f8494e4de04": {
      "model_module": "@jupyter-widgets/controls",
      "model_module_version": "2.0.0",
      "model_name": "HTMLModel",
      "state": {
       "layout": "IPY_MODEL_83235b3a9cb14a68a9c12fca53dd6ca7",
       "style": "IPY_MODEL_e184d5ec07b24a478b187c24b8b9c4b3",
       "value": "words:"
      }
     },
     "49c6b66bb4c1454db2b47eda42c7a870": {
      "model_module": "@jupyter-widgets/controls",
      "model_module_version": "2.0.0",
      "model_name": "ButtonModel",
      "state": {
       "description": "Summarize",
       "icon": "rocket",
       "layout": "IPY_MODEL_b2c70994891d4c0497295241fd02e935",
       "style": "IPY_MODEL_55376405a5dc44e19963987c7e99b275",
       "tooltip": "Summarize this section based on the topic and intro"
      }
     },
     "49eca79031e24d38ad0873671609e464": {
      "model_module": "@jupyter-widgets/controls",
      "model_module_version": "2.0.0",
      "model_name": "ButtonStyleModel",
      "state": {
       "font_family": null,
       "font_size": null,
       "font_style": null,
       "font_variant": null,
       "font_weight": null,
       "text_color": null,
       "text_decoration": null
      }
     },
     "4a18de614b6e453a9646715bc5cba120": {
      "model_module": "@jupyter-widgets/controls",
      "model_module_version": "2.0.0",
      "model_name": "HBoxModel",
      "state": {
       "children": [
        "IPY_MODEL_86cb79d7851f4a83974d71bed1396136",
        "IPY_MODEL_87ffa380d0d94df29618abdde0e0b2e6"
       ],
       "layout": "IPY_MODEL_7b26db62c0bf4c6987aa01a630384b1b"
      }
     },
     "4a266dc7fd614029b51db32d5032f94c": {
      "model_module": "@jupyter-widgets/output",
      "model_module_version": "1.0.0",
      "model_name": "OutputModel",
      "state": {
       "layout": "IPY_MODEL_d27c049b45374e2f952cb7db3d7bb870"
      }
     },
     "4a34fb86361944c29b3d04e548691628": {
      "model_module": "@jupyter-widgets/controls",
      "model_module_version": "2.0.0",
      "model_name": "TextStyleModel",
      "state": {
       "description_width": "",
       "font_size": null,
       "text_color": null
      }
     },
     "4a842b66783242a39bde25b36ca411f7": {
      "model_module": "@jupyter-widgets/base",
      "model_module_version": "2.0.0",
      "model_name": "LayoutModel",
      "state": {}
     },
     "4a9ae682ffce45228b357ebab0686ffa": {
      "model_module": "@jupyter-widgets/base",
      "model_module_version": "2.0.0",
      "model_name": "LayoutModel",
      "state": {
       "width": "auto"
      }
     },
     "4ac823fd6def4e96bd4c1330975d50ad": {
      "model_module": "@jupyter-widgets/controls",
      "model_module_version": "2.0.0",
      "model_name": "TextModel",
      "state": {
       "layout": "IPY_MODEL_e8523ee77dc7415893103fcccee16a12",
       "placeholder": "",
       "style": "IPY_MODEL_c76c272166dc4b09aa7c29f215785d32",
       "value": "500"
      }
     },
     "4afe2450b0e34abdacf61de2c8be679a": {
      "model_module": "@jupyter-widgets/controls",
      "model_module_version": "2.0.0",
      "model_name": "HBoxModel",
      "state": {
       "children": [
        "IPY_MODEL_663b06ea68ed4dc79bf0dc538665e2fe",
        "IPY_MODEL_4ac823fd6def4e96bd4c1330975d50ad",
        "IPY_MODEL_fe8d4d7268554fcdbe3bcf665be4a640"
       ],
       "layout": "IPY_MODEL_56822fcdd5934e0880da225f191b3ead"
      }
     },
     "4b215f18c97e452cb3ca355bd1486ddd": {
      "model_module": "@jupyter-widgets/controls",
      "model_module_version": "2.0.0",
      "model_name": "ButtonModel",
      "state": {
       "description": "Retrieve",
       "icon": "list",
       "layout": "IPY_MODEL_981e5a35632d46eeaaad390d1877f5bf",
       "style": "IPY_MODEL_0a882a52049b467c8c86341a406d1794",
       "tooltip": "Retrieve related references"
      }
     },
     "4b91bf7d21bf47eeb019030454d3127a": {
      "model_module": "@jupyter-widgets/controls",
      "model_module_version": "2.0.0",
      "model_name": "ButtonModel",
      "state": {
       "description": "Summarize",
       "icon": "rocket",
       "layout": "IPY_MODEL_981e5a35632d46eeaaad390d1877f5bf",
       "style": "IPY_MODEL_9716fac775984c6fbe639013c583a92b",
       "tooltip": "Summarize this section based on the topic and intro"
      }
     },
     "4b98169c05ea4c739514b2ab9989c5d3": {
      "model_module": "@jupyter-widgets/base",
      "model_module_version": "2.0.0",
      "model_name": "LayoutModel",
      "state": {}
     },
     "4bbeaada494945619aa3e667173d8c3f": {
      "model_module": "@jupyter-widgets/controls",
      "model_module_version": "2.0.0",
      "model_name": "ButtonStyleModel",
      "state": {
       "font_family": null,
       "font_size": null,
       "font_style": null,
       "font_variant": null,
       "font_weight": null,
       "text_color": null,
       "text_decoration": null
      }
     },
     "4bd8f83db99545d1be3b0dc2f6393d0f": {
      "model_module": "@jupyter-widgets/controls",
      "model_module_version": "2.0.0",
      "model_name": "TextModel",
      "state": {
       "layout": "IPY_MODEL_7c45abc07adf460082ccf4a463299ddd",
       "style": "IPY_MODEL_8900e77152df43e7975c7f7d32eafef7",
       "value": "Molecular profiling of liver cancer via AI"
      }
     },
     "4c27d2f291194c07a71f6a6ed8b0c4d9": {
      "model_module": "@jupyter-widgets/base",
      "model_module_version": "2.0.0",
      "model_name": "LayoutModel",
      "state": {
       "border_bottom": "solid 1px gray",
       "border_left": "solid 1px gray",
       "border_right": "solid 1px gray",
       "border_top": "solid 1px gray"
      }
     },
     "4c4f35cd09c34514bc26f711ecc77a47": {
      "model_module": "@jupyter-widgets/controls",
      "model_module_version": "2.0.0",
      "model_name": "HTMLModel",
      "state": {
       "layout": "IPY_MODEL_421bb2d3e8c44e9e8e4f2d45b6ff5a27",
       "style": "IPY_MODEL_1439247db92d4952bd07834fea70ec0e",
       "value": "3.1.4"
      }
     },
     "4c5384ac453349f7bc08d2d9dc2efecd": {
      "model_module": "@jupyter-widgets/controls",
      "model_module_version": "2.0.0",
      "model_name": "HTMLModel",
      "state": {
       "layout": "IPY_MODEL_b2ea27dc377e481780d63a99dd2a60b3",
       "style": "IPY_MODEL_532da31bdec0495da22f7ed77d9b957a"
      }
     },
     "4c9afc3290d143a091d5dd06846b0906": {
      "model_module": "@jupyter-widgets/controls",
      "model_module_version": "2.0.0",
      "model_name": "TextStyleModel",
      "state": {
       "description_width": "50px",
       "font_size": null,
       "text_color": null
      }
     },
     "4ce01eda926f4117be139ec643b45699": {
      "model_module": "@jupyter-widgets/controls",
      "model_module_version": "2.0.0",
      "model_name": "TextStyleModel",
      "state": {
       "background": "transparent",
       "description_width": "50px",
       "font_size": null,
       "text_color": null
      }
     },
     "4d2a27bcd5874cc8a4718c379082c2ab": {
      "model_module": "@jupyter-widgets/base",
      "model_module_version": "2.0.0",
      "model_name": "LayoutModel",
      "state": {
       "justify_content": "flex-start"
      }
     },
     "4d34edb45a374512994a9875161f35f2": {
      "model_module": "@jupyter-widgets/controls",
      "model_module_version": "2.0.0",
      "model_name": "TextModel",
      "state": {
       "layout": "IPY_MODEL_9434522dfff54bad8f2743c44c055b69",
       "style": "IPY_MODEL_dbb6c8c6438a4730a45c70a080bbe03a",
       "value": "Example-based explanation"
      }
     },
     "4dd833c2064247cfa172c0a8d91a0e8f": {
      "model_module": "@jupyter-widgets/base",
      "model_module_version": "2.0.0",
      "model_name": "LayoutModel",
      "state": {
       "justify_content": "flex-start"
      }
     },
     "4de6819d973f437b8e0512f14b4c03dc": {
      "model_module": "@jupyter-widgets/controls",
      "model_module_version": "2.0.0",
      "model_name": "HTMLModel",
      "state": {
       "layout": "IPY_MODEL_21d12012a47344caa4d5bf7dab24394e",
       "style": "IPY_MODEL_f81756545a9b4e57a7509638a66ea858",
       "value": " to "
      }
     },
     "4df46c4a2c664b64be4a4e66e2accd2b": {
      "model_module": "@jupyter-widgets/controls",
      "model_module_version": "2.0.0",
      "model_name": "HTMLModel",
      "state": {
       "layout": "IPY_MODEL_96ac8a0063ff4632a3cd27c6e41c3894",
       "style": "IPY_MODEL_cfaca426a6784c2ca016e95e101c58cf",
       "value": "words:"
      }
     },
     "4ec3df792f6747539a99b92b5b7314a7": {
      "model_module": "@jupyter-widgets/controls",
      "model_module_version": "2.0.0",
      "model_name": "HBoxModel",
      "state": {
       "children": [
        "IPY_MODEL_a1e6882128da452f8033286bead0d3b0",
        "IPY_MODEL_abdf342a5066466e8529c5f24386ce81"
       ],
       "layout": "IPY_MODEL_8a5303f0bf8e4f88b841844fe0e83b16"
      }
     },
     "4ed398ec309944f1ac35d18ef11e6fc9": {
      "model_module": "@jupyter-widgets/base",
      "model_module_version": "2.0.0",
      "model_name": "LayoutModel",
      "state": {}
     },
     "4ed91068a05544958f3857c352accd97": {
      "model_module": "@jupyter-widgets/base",
      "model_module_version": "2.0.0",
      "model_name": "LayoutModel",
      "state": {}
     },
     "4f1c5fdc3d8f48c3bfd9a7ab3efdfc4f": {
      "model_module": "@jupyter-widgets/controls",
      "model_module_version": "2.0.0",
      "model_name": "VBoxModel",
      "state": {
       "children": [
        "IPY_MODEL_cdd9c49163e749ea8fcc4143e458cd8b",
        "IPY_MODEL_3133f44d4bb2474392dddab33c35514f"
       ],
       "layout": "IPY_MODEL_3b3a315cdb1a4638b1cbc89e87a1c23b"
      }
     },
     "4f40cdbdfeda4f1ab7c155fa18d99f15": {
      "model_module": "@jupyter-widgets/controls",
      "model_module_version": "2.0.0",
      "model_name": "ButtonModel",
      "state": {
       "description": "Retrieve",
       "icon": "list",
       "layout": "IPY_MODEL_4a9ae682ffce45228b357ebab0686ffa",
       "style": "IPY_MODEL_d20be53820a342d9954f90587e0d9f97",
       "tooltip": "Retrieve related references"
      }
     },
     "4f5c8b38ce8a470694640a43d5ad8858": {
      "model_module": "@jupyter-widgets/base",
      "model_module_version": "2.0.0",
      "model_name": "LayoutModel",
      "state": {
       "border_bottom": "1px solid purple",
       "border_left": "1px solid purple",
       "border_right": "1px solid purple",
       "border_top": "1px solid purple",
       "justify_content": "flex-start",
       "width": "auto"
      }
     },
     "4f5fc51ad63046eda6e075f80104da0d": {
      "model_module": "@jupyter-widgets/controls",
      "model_module_version": "2.0.0",
      "model_name": "HTMLModel",
      "state": {
       "layout": "IPY_MODEL_ccaecd40223f4fad93a733e76f1b4504",
       "style": "IPY_MODEL_6a63bc1db2564d4f97c6518ad78d5a01",
       "value": "queries,"
      }
     },
     "4f867ff1b5334f0d93acb0a51826a367": {
      "model_module": "@jupyter-widgets/base",
      "model_module_version": "2.0.0",
      "model_name": "LayoutModel",
      "state": {
       "height": "50%",
       "width": "50%"
      }
     },
     "4f948f793f204dd9b1a884410087ca9f": {
      "model_module": "@jupyter-widgets/controls",
      "model_module_version": "2.0.0",
      "model_name": "HBoxModel",
      "state": {
       "children": [
        "IPY_MODEL_7547b1e527b0423ebc3a8aa90850337f",
        "IPY_MODEL_02c9110272b04e5d8eb53764e01a9239"
       ],
       "layout": "IPY_MODEL_e06bdd0fe2a54d148b5f2b33fd5617b0"
      }
     },
     "4fa67d79e2fe4d1b963cf8c49af14c56": {
      "model_module": "@jupyter-widgets/controls",
      "model_module_version": "2.0.0",
      "model_name": "ButtonModel",
      "state": {
       "description": "Translate",
       "icon": "language",
       "layout": "IPY_MODEL_2094108ca2e54f5d800f98768671d804",
       "style": "IPY_MODEL_89cf0725e85a4fbabe183a4acd3527e5",
       "tooltip": "Click and translate the details for this section"
      }
     },
     "50232cb733d345a1bf100ec97a4461b3": {
      "model_module": "@jupyter-widgets/base",
      "model_module_version": "2.0.0",
      "model_name": "LayoutModel",
      "state": {
       "display": "none"
      }
     },
     "50e60171692a427a876838d272fa7b85": {
      "model_module": "@jupyter-widgets/controls",
      "model_module_version": "2.0.0",
      "model_name": "HBoxModel",
      "state": {
       "children": [
        "IPY_MODEL_97b7329027b5474ab4f6cc3fa44420e0",
        "IPY_MODEL_9b3425ff3ba647239c2aabba8b4e1777",
        "IPY_MODEL_a3ae422e1be747cea581c286b4fc071c"
       ],
       "layout": "IPY_MODEL_2deb94299740495ca46e125fb3933001"
      }
     },
     "515b7087e94c4fc6aaab0ebd1995d7ab": {
      "model_module": "@jupyter-widgets/controls",
      "model_module_version": "2.0.0",
      "model_name": "ButtonModel",
      "state": {
       "description": "Retrieve",
       "icon": "list",
       "layout": "IPY_MODEL_f7f0d99b36864d929a5cef0a5da1abbf",
       "style": "IPY_MODEL_f4257add347d41348cb951c3879393ab",
       "tooltip": "Retrieve related references"
      }
     },
     "518b15d7d15a4f028a4f9277809c2e47": {
      "model_module": "@jupyter-widgets/controls",
      "model_module_version": "2.0.0",
      "model_name": "TextStyleModel",
      "state": {
       "background": "transparent",
       "description_width": "50px",
       "font_size": null,
       "text_color": null
      }
     },
     "51a34e9537d34057a027e133320ecd0b": {
      "model_module": "@jupyter-widgets/base",
      "model_module_version": "2.0.0",
      "model_name": "LayoutModel",
      "state": {
       "border_bottom": "1px solid purple",
       "border_left": "1px solid purple",
       "border_right": "1px solid purple",
       "border_top": "1px solid purple",
       "justify_content": "flex-start",
       "width": "auto"
      }
     },
     "51bafdbd498f4ba5a614fbba4682a262": {
      "model_module": "@jupyter-widgets/base",
      "model_module_version": "2.0.0",
      "model_name": "LayoutModel",
      "state": {
       "justify_content": "flex-start"
      }
     },
     "524d4f076586464cb3a7c3ec649bbf83": {
      "model_module": "@jupyter-widgets/controls",
      "model_module_version": "2.0.0",
      "model_name": "TextModel",
      "state": {
       "layout": "IPY_MODEL_4772350fa85a48f9b3a41b28f7ca7bd1",
       "style": "IPY_MODEL_bd441aa06452478598dca96ba8fab805",
       "value": "Visual explanation (saliency mapping, pathologist-in-the-loop)"
      }
     },
     "52621b2f17c44760b61e081fd7038bd5": {
      "model_module": "@jupyter-widgets/controls",
      "model_module_version": "2.0.0",
      "model_name": "HBoxModel",
      "state": {
       "children": [
        "IPY_MODEL_49c6b66bb4c1454db2b47eda42c7a870",
        "IPY_MODEL_50e60171692a427a876838d272fa7b85"
       ],
       "layout": "IPY_MODEL_0e52025b2c74465393dda78d92f11a15"
      }
     },
     "52740a82689947a4a8b10403803d1096": {
      "model_module": "@jupyter-widgets/controls",
      "model_module_version": "2.0.0",
      "model_name": "VBoxModel",
      "state": {
       "children": [
        "IPY_MODEL_165761d8e48c46fb985cb9dbaac62c01",
        "IPY_MODEL_ae002dd4004c41acbbdac065e388bf66"
       ],
       "layout": "IPY_MODEL_afe7ce4306ab446a9e6c5ba679aa2dd8"
      }
     },
     "52aa9c3127664d8dbf2b5f03752a3fa7": {
      "model_module": "@jupyter-widgets/base",
      "model_module_version": "2.0.0",
      "model_name": "LayoutModel",
      "state": {}
     },
     "52b53f578e9c4344b59e6bb6957abaf8": {
      "model_module": "@jupyter-widgets/controls",
      "model_module_version": "2.0.0",
      "model_name": "ButtonModel",
      "state": {
       "description": "Translate",
       "icon": "language",
       "layout": "IPY_MODEL_8053cfb70fa34c1c89d73a839abbb720",
       "style": "IPY_MODEL_035123df12404390b78160621101d829",
       "tooltip": "Click and translate the details for this section"
      }
     },
     "52e016ae4d0148febaddabd34c7066ab": {
      "model_module": "@jupyter-widgets/controls",
      "model_module_version": "2.0.0",
      "model_name": "HTMLStyleModel",
      "state": {
       "description_width": "",
       "font_size": null,
       "text_color": null
      }
     },
     "532da31bdec0495da22f7ed77d9b957a": {
      "model_module": "@jupyter-widgets/controls",
      "model_module_version": "2.0.0",
      "model_name": "HTMLStyleModel",
      "state": {
       "description_width": "",
       "font_size": null,
       "text_color": null
      }
     },
     "53bf7814999b427f8bde5120bbeb02c6": {
      "model_module": "@jupyter-widgets/base",
      "model_module_version": "2.0.0",
      "model_name": "LayoutModel",
      "state": {}
     },
     "53d6f218694149aa87bc0e995de6c584": {
      "model_module": "@jupyter-widgets/controls",
      "model_module_version": "2.0.0",
      "model_name": "HTMLModel",
      "state": {
       "layout": "IPY_MODEL_8e0b71b7b9a94f70ae23a6d27e860f60",
       "style": "IPY_MODEL_f3c91bae8da94ca3af7f9896ab3a379d",
       "value": " to "
      }
     },
     "53e9d6f917934301ab41f665bb9cffc9": {
      "model_module": "@jupyter-widgets/base",
      "model_module_version": "2.0.0",
      "model_name": "LayoutModel",
      "state": {
       "border_bottom": "1px solid purple",
       "border_left": "1px solid purple",
       "border_right": "1px solid purple",
       "border_top": "1px solid purple",
       "justify_content": "flex-start",
       "width": "99%"
      }
     },
     "54a36ae9936d41d6aeb2aaf69b742605": {
      "model_module": "@jupyter-widgets/controls",
      "model_module_version": "2.0.0",
      "model_name": "HTMLStyleModel",
      "state": {
       "description_width": "",
       "font_size": null,
       "text_color": null
      }
     },
     "5510e128f9e94c13b58ac9806a20ae3a": {
      "model_module": "@jupyter-widgets/controls",
      "model_module_version": "2.0.0",
      "model_name": "HBoxModel",
      "state": {
       "children": [
        "IPY_MODEL_bd6a34d40f96446d92f2087f95dae9fa",
        "IPY_MODEL_8daf200c4b824b52843fa229fb4ca99d"
       ],
       "layout": "IPY_MODEL_1423a73817cc405f985796300cb2c970"
      }
     },
     "55376405a5dc44e19963987c7e99b275": {
      "model_module": "@jupyter-widgets/controls",
      "model_module_version": "2.0.0",
      "model_name": "ButtonStyleModel",
      "state": {
       "font_family": null,
       "font_size": null,
       "font_style": null,
       "font_variant": null,
       "font_weight": null,
       "text_color": null,
       "text_decoration": null
      }
     },
     "553a8a0a62fa46debd36dd7ba0476a3b": {
      "model_module": "@jupyter-widgets/controls",
      "model_module_version": "2.0.0",
      "model_name": "HBoxModel",
      "state": {
       "children": [
        "IPY_MODEL_af5d31f0a3dc481f967ca3f2c69a0dd6",
        "IPY_MODEL_524d4f076586464cb3a7c3ec649bbf83"
       ],
       "layout": "IPY_MODEL_1ae82f7425674772a811a67a47041a89"
      }
     },
     "556862f011034ee1a8c35aee7f53bea1": {
      "model_module": "@jupyter-widgets/base",
      "model_module_version": "2.0.0",
      "model_name": "LayoutModel",
      "state": {
       "justify_content": "flex-start",
       "width": "40px"
      }
     },
     "557d21040ae1463aa5bedae028dc059d": {
      "model_module": "@jupyter-widgets/controls",
      "model_module_version": "2.0.0",
      "model_name": "HBoxModel",
      "state": {
       "children": [
        "IPY_MODEL_ba7c3063633a4baaa21f0c601931d954",
        "IPY_MODEL_90b4440e06174a489afc1a25ef6e2eca",
        "IPY_MODEL_4df46c4a2c664b64be4a4e66e2accd2b"
       ],
       "layout": "IPY_MODEL_cc10c8030b304810824d3297e312cd13"
      }
     },
     "561b69d158124ba493ce7986140ba88d": {
      "model_module": "@jupyter-widgets/controls",
      "model_module_version": "2.0.0",
      "model_name": "TextModel",
      "state": {
       "layout": "IPY_MODEL_c6a58ad560864b469efcffdad0801a4f",
       "placeholder": "",
       "style": "IPY_MODEL_a9b94f811bc74cd48b44e6462d71015c",
       "value": "500"
      }
     },
     "56504cf356174c1cb193d08566683fa4": {
      "model_module": "@jupyter-widgets/controls",
      "model_module_version": "2.0.0",
      "model_name": "TextStyleModel",
      "state": {
       "description_width": "",
       "font_size": null,
       "text_color": null
      }
     },
     "56822fcdd5934e0880da225f191b3ead": {
      "model_module": "@jupyter-widgets/base",
      "model_module_version": "2.0.0",
      "model_name": "LayoutModel",
      "state": {}
     },
     "569ec031725047d7887083f63fb32b07": {
      "model_module": "@jupyter-widgets/controls",
      "model_module_version": "2.0.0",
      "model_name": "HBoxModel",
      "state": {
       "children": [
        "IPY_MODEL_4b91bf7d21bf47eeb019030454d3127a",
        "IPY_MODEL_b5a2df4105404aa5bfd62f10af9deb71"
       ],
       "layout": "IPY_MODEL_092f702f96094ba6a8dd6e5eb7a3a0bd"
      }
     },
     "56a6a42fde2f46a3b82be6f4852796af": {
      "model_module": "@jupyter-widgets/controls",
      "model_module_version": "2.0.0",
      "model_name": "HTMLStyleModel",
      "state": {
       "description_width": "",
       "font_size": null,
       "text_color": null
      }
     },
     "56aaacc0796344a2a2e528559c2c8c11": {
      "model_module": "@jupyter-widgets/controls",
      "model_module_version": "2.0.0",
      "model_name": "TextModel",
      "state": {
       "layout": "IPY_MODEL_cca89f906c6e4c04bc57cb5a0ba069af",
       "style": "IPY_MODEL_192481e2c22a4e6dbf99284e51a8ed90",
       "value": "Discussion on how AI combines textual descriptions with visual explanations for a comprehensive understanding of liver cancer pathology."
      }
     },
     "56ef484a085f47ff8797a92177564340": {
      "model_module": "@jupyter-widgets/controls",
      "model_module_version": "2.0.0",
      "model_name": "HBoxModel",
      "state": {
       "children": [
        "IPY_MODEL_af849a92b09e4e85a98438a918854a02",
        "IPY_MODEL_121227161fe3401e94588bfba35fd13f"
       ],
       "layout": "IPY_MODEL_afe0ea2db73b481ca76d7a0e74f4a05e"
      }
     },
     "5769a076454244f38aeefce7bc3c2664": {
      "model_module": "@jupyter-widgets/controls",
      "model_module_version": "2.0.0",
      "model_name": "HTMLModel",
      "state": {
       "layout": "IPY_MODEL_4f5c8b38ce8a470694640a43d5ad8858",
       "style": "IPY_MODEL_7963dc7bc3e8478287d91680ee4ab2df",
       "value": "3.2.1.3"
      }
     },
     "57a0161dbdce475191daf704c701de91": {
      "model_module": "@jupyter-widgets/base",
      "model_module_version": "2.0.0",
      "model_name": "LayoutModel",
      "state": {
       "justify_content": "flex-start"
      }
     },
     "57c433095d4c4aa598a85ef63d901e73": {
      "model_module": "@jupyter-widgets/controls",
      "model_module_version": "2.0.0",
      "model_name": "TextStyleModel",
      "state": {
       "description_width": "",
       "font_size": null,
       "text_color": null
      }
     },
     "589774f40c414fdaa5762a39d399ac23": {
      "model_module": "@jupyter-widgets/controls",
      "model_module_version": "2.0.0",
      "model_name": "VBoxModel",
      "state": {
       "children": [
        "IPY_MODEL_13e620ad9be94051b61d08bbb1c4e7bd",
        "IPY_MODEL_84020b880472439880cf703dc2ef4464"
       ],
       "layout": "IPY_MODEL_cfa41d072d9b4c5887454baaedcbafe0"
      }
     },
     "58b07e2333044a0bb3f496289a450c0d": {
      "model_module": "@jupyter-widgets/base",
      "model_module_version": "2.0.0",
      "model_name": "LayoutModel",
      "state": {}
     },
     "58e758f4f43d40419b2ce6731206c99a": {
      "model_module": "@jupyter-widgets/base",
      "model_module_version": "2.0.0",
      "model_name": "LayoutModel",
      "state": {
       "justify_content": "flex-start"
      }
     },
     "58e98acbeb294081b87c6089f4fb7e0c": {
      "model_module": "@jupyter-widgets/controls",
      "model_module_version": "2.0.0",
      "model_name": "TextStyleModel",
      "state": {
       "background": "#000000",
       "description_width": "50px",
       "font_size": null,
       "text_color": null
      }
     },
     "58e9e555c29b4f5ca6e4bce82673d26a": {
      "model_module": "@jupyter-widgets/base",
      "model_module_version": "2.0.0",
      "model_name": "LayoutModel",
      "state": {
       "justify_content": "flex-start"
      }
     },
     "59053e9c963b404d81ab39d67be8b5a6": {
      "model_module": "@jupyter-widgets/controls",
      "model_module_version": "2.0.0",
      "model_name": "HTMLStyleModel",
      "state": {
       "description_width": "",
       "font_size": null,
       "text_color": null
      }
     },
     "59c4440d87744b978ce5206828ded511": {
      "model_module": "@jupyter-widgets/base",
      "model_module_version": "2.0.0",
      "model_name": "LayoutModel",
      "state": {
       "justify_content": "flex-start",
       "width": "40px"
      }
     },
     "59d94ba3dced45be9dcf53336067ee1a": {
      "model_module": "@jupyter-widgets/controls",
      "model_module_version": "2.0.0",
      "model_name": "TextModel",
      "state": {
       "layout": "IPY_MODEL_48de885b7eda48adb8579e43593f11f5",
       "style": "IPY_MODEL_c104004641754f3086878edcae132d8a",
       "value": "Discussion on post hoc explanations, which provide insights into AI decisions after they have been made in the context of liver cancer analysis."
      }
     },
     "5a0e72c94d46497786c5cabeefe996b9": {
      "model_module": "@jupyter-widgets/controls",
      "model_module_version": "2.0.0",
      "model_name": "TextModel",
      "state": {
       "layout": "IPY_MODEL_dcd341eedc124c608fcbc3dd60037da4",
       "style": "IPY_MODEL_6679e259966c4f36b37871d7e6590b7a",
       "value": "Unraveling the “black-box” of artificial intelligence-based pathological analysis of liver cancer"
      }
     },
     "5a1eefa4d1944cad85721d76c24b8aba": {
      "model_module": "@jupyter-widgets/base",
      "model_module_version": "2.0.0",
      "model_name": "LayoutModel",
      "state": {
       "width": "auto"
      }
     },
     "5a6450c3571949a4947fe57221ae4ada": {
      "model_module": "@jupyter-widgets/controls",
      "model_module_version": "2.0.0",
      "model_name": "HTMLStyleModel",
      "state": {
       "description_width": "",
       "font_size": null,
       "text_color": null
      }
     },
     "5a7987ab8c664180a412220ae5cb465f": {
      "model_module": "@jupyter-widgets/controls",
      "model_module_version": "2.0.0",
      "model_name": "HTMLModel",
      "state": {
       "layout": "IPY_MODEL_b8833b71a28c473b9a0b2753200c2dd6",
       "style": "IPY_MODEL_5a6450c3571949a4947fe57221ae4ada",
       "value": " to "
      }
     },
     "5a838ff9d2ab45098c136599fec63d69": {
      "model_module": "@jupyter-widgets/controls",
      "model_module_version": "2.0.0",
      "model_name": "VBoxModel",
      "state": {
       "children": [
        "IPY_MODEL_807123dd58c44362ac549196d023afd1",
        "IPY_MODEL_377968d1030d4545a805769d6dc07f0d"
       ],
       "layout": "IPY_MODEL_b897bb69ece441c596f78a2a10e778ff"
      }
     },
     "5a8469f782cc4db796532f9b8b69e511": {
      "model_module": "@jupyter-widgets/controls",
      "model_module_version": "2.0.0",
      "model_name": "VBoxModel",
      "state": {
       "children": [
        "IPY_MODEL_020fce248b8a4f4f9be0e89131d6b219",
        "IPY_MODEL_cfd3095538a54c99baab309bdfc4b2a8"
       ],
       "layout": "IPY_MODEL_f0dcf924ecd145e4953acfcdabe12f71"
      }
     },
     "5ab7dbcb03b5457094b15c3c80e3077b": {
      "model_module": "@jupyter-widgets/controls",
      "model_module_version": "2.0.0",
      "model_name": "TextModel",
      "state": {
       "layout": "IPY_MODEL_66dfed9b5bea4f4ab47e33714014e113",
       "style": "IPY_MODEL_ab0f89c3e9b244e2b2ae224297c15d63",
       "value": "Textual explanation"
      }
     },
     "5b353b9fdec040148730352a98709acc": {
      "model_module": "@jupyter-widgets/controls",
      "model_module_version": "2.0.0",
      "model_name": "TextStyleModel",
      "state": {
       "description_width": "",
       "font_size": null,
       "text_color": null
      }
     },
     "5bc1c918ac9b467fb298b68c12e25f0e": {
      "model_module": "@jupyter-widgets/base",
      "model_module_version": "2.0.0",
      "model_name": "LayoutModel",
      "state": {}
     },
     "5bfa90c65d43423bbeb29bc8e00d7b19": {
      "model_module": "@jupyter-widgets/base",
      "model_module_version": "2.0.0",
      "model_name": "LayoutModel",
      "state": {
       "justify_content": "flex-start",
       "width": "60px"
      }
     },
     "5cac36562907423683229e7cf4c5ea4d": {
      "model_module": "@jupyter-widgets/controls",
      "model_module_version": "2.0.0",
      "model_name": "HBoxModel",
      "state": {
       "children": [
        "IPY_MODEL_eb6205f386894fed8a2a5a52e278a299",
        "IPY_MODEL_284bd34fceca401f8ff0b5abbd030c19"
       ],
       "layout": "IPY_MODEL_4c27d2f291194c07a71f6a6ed8b0c4d9"
      }
     },
     "5cc4006ee91b4f9a8152635fc17b076b": {
      "model_module": "@jupyter-widgets/base",
      "model_module_version": "2.0.0",
      "model_name": "LayoutModel",
      "state": {
       "width": "auto"
      }
     },
     "5d51a9739be64eaf94b701fe74092ec9": {
      "model_module": "@jupyter-widgets/base",
      "model_module_version": "2.0.0",
      "model_name": "LayoutModel",
      "state": {
       "justify_content": "flex-start",
       "width": "40px"
      }
     },
     "5d523333ff3d4b618176135286fab2a1": {
      "model_module": "@jupyter-widgets/controls",
      "model_module_version": "2.0.0",
      "model_name": "ButtonStyleModel",
      "state": {
       "font_family": null,
       "font_size": null,
       "font_style": null,
       "font_variant": null,
       "font_weight": null,
       "text_color": null,
       "text_decoration": null
      }
     },
     "5d64ca4c8039405eb77f05cc945d7e75": {
      "model_module": "@jupyter-widgets/base",
      "model_module_version": "2.0.0",
      "model_name": "LayoutModel",
      "state": {
       "border_bottom": "solid 1px gray",
       "border_left": "solid 1px gray",
       "border_right": "solid 1px gray",
       "border_top": "solid 1px gray"
      }
     },
     "5d68f29b4c624dc984aed9c245aa4857": {
      "model_module": "@jupyter-widgets/controls",
      "model_module_version": "2.0.0",
      "model_name": "TextModel",
      "state": {
       "description": "Prompt",
       "layout": "IPY_MODEL_7367a299ff754ba38de7452c516575fc",
       "placeholder": "",
       "style": "IPY_MODEL_2850e31b52f647e2947c682f0f0c0455"
      }
     },
     "5d7784c00fc6444b9dd62032d61d7a13": {
      "model_module": "@jupyter-widgets/controls",
      "model_module_version": "2.0.0",
      "model_name": "ButtonStyleModel",
      "state": {
       "font_family": null,
       "font_size": null,
       "font_style": null,
       "font_variant": null,
       "font_weight": null,
       "text_color": null,
       "text_decoration": null
      }
     },
     "5d82923c29f74b4394084a45fa172d28": {
      "model_module": "@jupyter-widgets/controls",
      "model_module_version": "2.0.0",
      "model_name": "ButtonModel",
      "state": {
       "description": "Summarize",
       "icon": "rocket",
       "layout": "IPY_MODEL_cb00b851c0024981a2e22bc5fae89c2d",
       "style": "IPY_MODEL_cd13651b185d4db4b885fa27bd9db180",
       "tooltip": "Summarize this section based on the topic and intro"
      }
     },
     "5d9448f491b445398c1c734ab9afdf83": {
      "model_module": "@jupyter-widgets/controls",
      "model_module_version": "2.0.0",
      "model_name": "HTMLStyleModel",
      "state": {
       "description_width": "",
       "font_size": null,
       "text_color": null
      }
     },
     "5de8f511755d4010a4aae5c53f50f510": {
      "model_module": "@jupyter-widgets/controls",
      "model_module_version": "2.0.0",
      "model_name": "HTMLStyleModel",
      "state": {
       "description_width": "",
       "font_size": null,
       "text_color": null
      }
     },
     "5df8445377a64b95a6037358f03f868e": {
      "model_module": "@jupyter-widgets/base",
      "model_module_version": "2.0.0",
      "model_name": "LayoutModel",
      "state": {}
     },
     "5e5e41d4fd7f46f18514d64754d383cb": {
      "model_module": "@jupyter-widgets/controls",
      "model_module_version": "2.0.0",
      "model_name": "TextModel",
      "state": {
       "layout": "IPY_MODEL_0af8a834042e47c58ca9e3e98d672698",
       "placeholder": "20",
       "style": "IPY_MODEL_001ec03eac03450f897cf344f532ee7b",
       "value": "20"
      }
     },
     "5e78eea43c0f46339aa3b99c4bf5eaf5": {
      "model_module": "@jupyter-widgets/base",
      "model_module_version": "2.0.0",
      "model_name": "LayoutModel",
      "state": {
       "justify_content": "flex-start",
       "width": "90%"
      }
     },
     "5e7b5a507da948bbbce4e45d073fc9d6": {
      "model_module": "@jupyter-widgets/controls",
      "model_module_version": "2.0.0",
      "model_name": "HBoxModel",
      "state": {
       "children": [
        "IPY_MODEL_82c9ad94eb934cf58c9e7142925adfbe",
        "IPY_MODEL_70eea819a34e4f918c3dfafb987bde0b"
       ],
       "layout": "IPY_MODEL_3d1025193dff4210b769ae18f5596acf"
      }
     },
     "5eb3a2596aa3400c96eb10d4f2b1e444": {
      "model_module": "@jupyter-widgets/base",
      "model_module_version": "2.0.0",
      "model_name": "LayoutModel",
      "state": {}
     },
     "5eba2bc0521e405aa5ba8a2e11034f13": {
      "model_module": "@jupyter-widgets/controls",
      "model_module_version": "2.0.0",
      "model_name": "HTMLStyleModel",
      "state": {
       "description_width": "",
       "font_size": null,
       "text_color": null
      }
     },
     "5ecd640d000243199501f30be4fabc33": {
      "model_module": "@jupyter-widgets/controls",
      "model_module_version": "2.0.0",
      "model_name": "HBoxModel",
      "state": {
       "children": [
        "IPY_MODEL_9c08f186b85d4f0d9e5101e153d0a3db",
        "IPY_MODEL_254739ba6f6e4fdf9c55bdcd83ef3bf4"
       ],
       "layout": "IPY_MODEL_abf3c72312fd4ca2a76e863818a0d3f8"
      }
     },
     "5f08cff0172a4cb5b89c0bb7eaef3e72": {
      "model_module": "@jupyter-widgets/controls",
      "model_module_version": "2.0.0",
      "model_name": "HTMLStyleModel",
      "state": {
       "description_width": "",
       "font_size": null,
       "text_color": null
      }
     },
     "5f4beb4766874de69f925b8c13b670b9": {
      "model_module": "@jupyter-widgets/controls",
      "model_module_version": "2.0.0",
      "model_name": "HBoxModel",
      "state": {
       "children": [
        "IPY_MODEL_8e13cbac21b6441cb10f2a4124d30ca4",
        "IPY_MODEL_1c547ae266a0446c8a807409b4b2c4e6"
       ],
       "layout": "IPY_MODEL_68def347952f48fdb4e0000e1a16358a"
      }
     },
     "5f512b75b7854345bd757f8509233ea5": {
      "model_module": "@jupyter-widgets/base",
      "model_module_version": "2.0.0",
      "model_name": "LayoutModel",
      "state": {}
     },
     "5f6acd49062b475783eba036009a6781": {
      "model_module": "@jupyter-widgets/base",
      "model_module_version": "2.0.0",
      "model_name": "LayoutModel",
      "state": {}
     },
     "5fc57af1068d4c53b9e7e984f3cd4efd": {
      "model_module": "@jupyter-widgets/base",
      "model_module_version": "2.0.0",
      "model_name": "LayoutModel",
      "state": {
       "height": "50%",
       "width": "50%"
      }
     },
     "602aa17ad4b9483aab1ba3bd4e691f21": {
      "model_module": "@jupyter-widgets/controls",
      "model_module_version": "2.0.0",
      "model_name": "HTMLStyleModel",
      "state": {
       "description_width": "",
       "font_size": null,
       "text_color": null
      }
     },
     "6062f7a5819c4b569363d0de24d6f18a": {
      "model_module": "@jupyter-widgets/base",
      "model_module_version": "2.0.0",
      "model_name": "LayoutModel",
      "state": {
       "justify_content": "flex-start"
      }
     },
     "60645af4508b4eedae80501dfaf9d335": {
      "model_module": "@jupyter-widgets/base",
      "model_module_version": "2.0.0",
      "model_name": "LayoutModel",
      "state": {
       "height": "50%",
       "width": "50%"
      }
     },
     "61009cbfcb6941b29c7a0e7fdbb9a048": {
      "model_module": "@jupyter-widgets/controls",
      "model_module_version": "2.0.0",
      "model_name": "HBoxModel",
      "state": {
       "children": [
        "IPY_MODEL_4b215f18c97e452cb3ca355bd1486ddd",
        "IPY_MODEL_04f50df3a64f4e18bc17447f6af3579d"
       ],
       "layout": "IPY_MODEL_debe91d53fdd4aa28119badd7db33f69"
      }
     },
     "6142de1d489e41f0bbe541df4e7373ca": {
      "model_module": "@jupyter-widgets/controls",
      "model_module_version": "2.0.0",
      "model_name": "ButtonStyleModel",
      "state": {
       "font_family": null,
       "font_size": null,
       "font_style": null,
       "font_variant": null,
       "font_weight": null,
       "text_color": null,
       "text_decoration": null
      }
     },
     "6153bdfd8382433990a6ee7df3687d4b": {
      "model_module": "@jupyter-widgets/controls",
      "model_module_version": "2.0.0",
      "model_name": "TextStyleModel",
      "state": {
       "description_width": "",
       "font_size": null,
       "text_color": null
      }
     },
     "615fb29675264f29beaee2f35c297644": {
      "model_module": "@jupyter-widgets/controls",
      "model_module_version": "2.0.0",
      "model_name": "ButtonStyleModel",
      "state": {
       "font_family": null,
       "font_size": null,
       "font_style": null,
       "font_variant": null,
       "font_weight": null,
       "text_color": null,
       "text_decoration": null
      }
     },
     "61a2f284667f4555aed67fc4e980cba0": {
      "model_module": "@jupyter-widgets/base",
      "model_module_version": "2.0.0",
      "model_name": "LayoutModel",
      "state": {
       "justify_content": "flex-start",
       "width": "90%"
      }
     },
     "61dc29216cd044b79811e14c94f4d6db": {
      "model_module": "@jupyter-widgets/controls",
      "model_module_version": "2.0.0",
      "model_name": "ButtonStyleModel",
      "state": {
       "font_family": null,
       "font_size": null,
       "font_style": null,
       "font_variant": null,
       "font_weight": null,
       "text_color": null,
       "text_decoration": null
      }
     },
     "6215f4b5e9c548fa8cdcca27a68b07bb": {
      "model_module": "@jupyter-widgets/base",
      "model_module_version": "2.0.0",
      "model_name": "LayoutModel",
      "state": {
       "justify_content": "flex-start"
      }
     },
     "625728d66f8443878bd3022de4bebe19": {
      "model_module": "@jupyter-widgets/base",
      "model_module_version": "2.0.0",
      "model_name": "LayoutModel",
      "state": {}
     },
     "6265b4ad3d6c4167a0b4d2c40b571987": {
      "model_module": "@jupyter-widgets/base",
      "model_module_version": "2.0.0",
      "model_name": "LayoutModel",
      "state": {
       "border_bottom": "1px solid purple",
       "border_left": "1px solid purple",
       "border_right": "1px solid purple",
       "border_top": "1px solid purple",
       "justify_content": "flex-start",
       "width": "auto"
      }
     },
     "626c405c680048e6a23d87077d926aff": {
      "model_module": "@jupyter-widgets/controls",
      "model_module_version": "2.0.0",
      "model_name": "HBoxModel",
      "state": {
       "children": [
        "IPY_MODEL_869a9a5d3bd94b809da44e4846c95916",
        "IPY_MODEL_ffedde860ecb46078a98e87d0e98f040"
       ],
       "layout": "IPY_MODEL_7effc12e644d4ff0bfeb4e2eb5874840"
      }
     },
     "62778547168c45f7a2f08d571150d50f": {
      "model_module": "@jupyter-widgets/base",
      "model_module_version": "2.0.0",
      "model_name": "LayoutModel",
      "state": {
       "border_bottom": "1px solid purple",
       "border_left": "1px solid purple",
       "border_right": "1px solid purple",
       "border_top": "1px solid purple",
       "justify_content": "flex-start",
       "width": "auto"
      }
     },
     "62abf560d56440c0bc0f1c673258b966": {
      "model_module": "@jupyter-widgets/controls",
      "model_module_version": "2.0.0",
      "model_name": "TextModel",
      "state": {
       "layout": "IPY_MODEL_ae68ec58cd684d10ac9a70e4dc5bfc32",
       "style": "IPY_MODEL_d3a67047aa3d48ff8c4e56f5f7dd607a",
       "value": "A detailed analysis of the existing challenges and limitations in the use of AI for liver cancer management."
      }
     },
     "630347ba9c3f4eccb86a182578efc9c9": {
      "model_module": "@jupyter-widgets/base",
      "model_module_version": "2.0.0",
      "model_name": "LayoutModel",
      "state": {
       "border_bottom": "1px solid transparent",
       "border_left": "1px solid transparent",
       "border_right": "1px solid transparent",
       "border_top": "1px solid transparent",
       "justify_content": "flex-start",
       "width": "99%"
      }
     },
     "63a72c26f1bf40b7b9ecef9dfa68a076": {
      "model_module": "@jupyter-widgets/controls",
      "model_module_version": "2.0.0",
      "model_name": "HTMLStyleModel",
      "state": {
       "description_width": "",
       "font_size": null,
       "text_color": null
      }
     },
     "6466a5986fa44314abd3462a36ed0808": {
      "model_module": "@jupyter-widgets/controls",
      "model_module_version": "2.0.0",
      "model_name": "ButtonModel",
      "state": {
       "description": "Translate",
       "icon": "language",
       "layout": "IPY_MODEL_2d354d4cc9b24e97ab59c6956782fea2",
       "style": "IPY_MODEL_b27dbcb26aa744a7a9fe7aa10571f990",
       "tooltip": "Click and translate the details for this section"
      }
     },
     "64938560f2e34bc2bd4fd4d210f42d0f": {
      "model_module": "@jupyter-widgets/controls",
      "model_module_version": "2.0.0",
      "model_name": "HBoxModel",
      "state": {
       "children": [
        "IPY_MODEL_89b7b1d499e04b2f8ae7b3550ec50906",
        "IPY_MODEL_4385391c92ba47c2834da2349fee1d0e"
       ],
       "layout": "IPY_MODEL_2f2333420a794c56bee6277e179df698"
      }
     },
     "6536e04ca6cc40688637ecbe5443c4c8": {
      "model_module": "@jupyter-widgets/controls",
      "model_module_version": "2.0.0",
      "model_name": "TextModel",
      "state": {
       "layout": "IPY_MODEL_d66dd6a25e30486399ca3940ef569f6e",
       "placeholder": "",
       "style": "IPY_MODEL_ee58259e94e44b3887a653b34fa69382",
       "value": "500"
      }
     },
     "656bca0eba8a490cbcceed6df2ae9295": {
      "model_module": "@jupyter-widgets/controls",
      "model_module_version": "2.0.0",
      "model_name": "HBoxModel",
      "state": {
       "children": [
        "IPY_MODEL_e36acef6750b442abc733dde8465d5b3",
        "IPY_MODEL_c6595b27845a4d5a8a1cae648d08c095"
       ],
       "layout": "IPY_MODEL_3826db45af6841b98a58c817f7c1f379"
      }
     },
     "65766643c37045d288e263db40eae2ce": {
      "model_module": "@jupyter-widgets/controls",
      "model_module_version": "2.0.0",
      "model_name": "HBoxModel",
      "state": {
       "children": [
        "IPY_MODEL_0c33e9dfd386475cbad2afd03a1c383d",
        "IPY_MODEL_bc54e833d59c494998c9cf0fdd083d65"
       ],
       "layout": "IPY_MODEL_2e970847c5a24b7f993d56c1994dfbc1"
      }
     },
     "658f8b897c7c42f3bc8fa6907653ad4c": {
      "model_module": "@jupyter-widgets/base",
      "model_module_version": "2.0.0",
      "model_name": "LayoutModel",
      "state": {}
     },
     "65a6774661294e4f923055a28a23e3eb": {
      "model_module": "@jupyter-widgets/controls",
      "model_module_version": "2.0.0",
      "model_name": "HBoxModel",
      "state": {
       "children": [
        "IPY_MODEL_38fce8ecc0d24d93b78b354be5e0e400",
        "IPY_MODEL_0ac4e7bd4fd6463c9ec04c84334acf1b"
       ],
       "layout": "IPY_MODEL_733bad4bb8bb42e39e3501c5ccf9e9ef"
      }
     },
     "65f8628a87484a24947f613bcf9fba5a": {
      "model_module": "@jupyter-widgets/controls",
      "model_module_version": "2.0.0",
      "model_name": "TextStyleModel",
      "state": {
       "background": "transparent",
       "description_width": "50px",
       "font_size": null,
       "text_color": null
      }
     },
     "663b06ea68ed4dc79bf0dc538665e2fe": {
      "model_module": "@jupyter-widgets/controls",
      "model_module_version": "2.0.0",
      "model_name": "HTMLModel",
      "state": {
       "layout": "IPY_MODEL_0e958d5e26734a8a8291aacab08e55c7",
       "style": "IPY_MODEL_393a4c68553f49609ec25095ccff6728",
       "value": " to "
      }
     },
     "6640331c08fb4c19b7c001f1c974cfc4": {
      "model_module": "@jupyter-widgets/controls",
      "model_module_version": "2.0.0",
      "model_name": "HTMLStyleModel",
      "state": {
       "description_width": "",
       "font_size": null,
       "text_color": null
      }
     },
     "664cfa3ac37d47998076fd9ba31475e4": {
      "model_module": "@jupyter-widgets/base",
      "model_module_version": "2.0.0",
      "model_name": "LayoutModel",
      "state": {}
     },
     "6679e259966c4f36b37871d7e6590b7a": {
      "model_module": "@jupyter-widgets/controls",
      "model_module_version": "2.0.0",
      "model_name": "TextStyleModel",
      "state": {
       "background": "#000000",
       "description_width": "50px",
       "font_size": null,
       "text_color": null
      }
     },
     "667a2d4a85e84e14af59ebb27acc0173": {
      "model_module": "@jupyter-widgets/controls",
      "model_module_version": "2.0.0",
      "model_name": "TextStyleModel",
      "state": {
       "background": "#000000",
       "description_width": "50px",
       "font_size": null,
       "text_color": null
      }
     },
     "66dfed9b5bea4f4ab47e33714014e113": {
      "model_module": "@jupyter-widgets/base",
      "model_module_version": "2.0.0",
      "model_name": "LayoutModel",
      "state": {
       "border_bottom": "1px solid purple",
       "border_left": "1px solid purple",
       "border_right": "1px solid purple",
       "border_top": "1px solid purple",
       "justify_content": "flex-start",
       "width": "99%"
      }
     },
     "66f08477f3c24957b2ab160aef19083d": {
      "model_module": "@jupyter-widgets/controls",
      "model_module_version": "2.0.0",
      "model_name": "TextStyleModel",
      "state": {
       "background": "#000000",
       "description_width": "50px",
       "font_size": null,
       "text_color": null
      }
     },
     "6725fb8804404641a634d28fda689271": {
      "model_module": "@jupyter-widgets/controls",
      "model_module_version": "2.0.0",
      "model_name": "HTMLStyleModel",
      "state": {
       "description_width": "",
       "font_size": null,
       "text_color": null
      }
     },
     "673d1b3fa79e4b949da80a172b145be0": {
      "model_module": "@jupyter-widgets/controls",
      "model_module_version": "2.0.0",
      "model_name": "HTMLModel",
      "state": {
       "layout": "IPY_MODEL_a393bbc6b77e494f94a0df08be34195b",
       "style": "IPY_MODEL_c748e5a30e6047e78c228ae4c46e8408"
      }
     },
     "67417e6d7a564686894a95b0d6cc93f5": {
      "model_module": "@jupyter-widgets/base",
      "model_module_version": "2.0.0",
      "model_name": "LayoutModel",
      "state": {}
     },
     "6744bc62a5c4449ea9a12c0d27d2d831": {
      "model_module": "@jupyter-widgets/controls",
      "model_module_version": "2.0.0",
      "model_name": "HBoxModel",
      "state": {
       "children": [
        "IPY_MODEL_fdbdb05e5eca41559032e967b4c4c2d2",
        "IPY_MODEL_c5d3ae4967e5405d8c10e8a6347f6fd2"
       ],
       "layout": "IPY_MODEL_0931f331c696426e9cc04b5d2b4aa694"
      }
     },
     "67570c90298b4f93b93fcb2dabbd0b6b": {
      "model_module": "@jupyter-widgets/controls",
      "model_module_version": "2.0.0",
      "model_name": "TextStyleModel",
      "state": {
       "description_width": "50px",
       "font_size": null,
       "text_color": null
      }
     },
     "6758750e437444b5a3bf7cb6779f9c59": {
      "model_module": "@jupyter-widgets/controls",
      "model_module_version": "2.0.0",
      "model_name": "HBoxModel",
      "state": {
       "children": [
        "IPY_MODEL_c0a3e968ce4447ca9478a29dfa6bc093",
        "IPY_MODEL_bc14c602cf244d04bd166b532339a92c"
       ],
       "layout": "IPY_MODEL_53bf7814999b427f8bde5120bbeb02c6"
      }
     },
     "676c2933deda47e382308b86871c4b49": {
      "model_module": "@jupyter-widgets/base",
      "model_module_version": "2.0.0",
      "model_name": "LayoutModel",
      "state": {
       "border_bottom": "1px solid transparent",
       "border_left": "1px solid transparent",
       "border_right": "1px solid transparent",
       "border_top": "1px solid transparent",
       "justify_content": "flex-start",
       "width": "99%"
      }
     },
     "6795b4c4a2b74dd2add306842ac317c5": {
      "model_module": "@jupyter-widgets/controls",
      "model_module_version": "2.0.0",
      "model_name": "HBoxModel",
      "state": {
       "children": [
        "IPY_MODEL_056f1fa7f3d34d35b0fe04080d524cfe",
        "IPY_MODEL_4bd8f83db99545d1be3b0dc2f6393d0f"
       ],
       "layout": "IPY_MODEL_9f899821d6854e98b0d8e3a1ca2c89be"
      }
     },
     "67a583bacc914a5e9b76c6092bf6f789": {
      "model_module": "@jupyter-widgets/base",
      "model_module_version": "2.0.0",
      "model_name": "LayoutModel",
      "state": {
       "width": "auto"
      }
     },
     "67a77099aed44d90ab2d8eb1ba5e6960": {
      "model_module": "@jupyter-widgets/base",
      "model_module_version": "2.0.0",
      "model_name": "LayoutModel",
      "state": {}
     },
     "67bea39c2c114f72905f6542e3a859a5": {
      "model_module": "@jupyter-widgets/base",
      "model_module_version": "2.0.0",
      "model_name": "LayoutModel",
      "state": {
       "border_bottom": "1px solid purple",
       "border_left": "1px solid purple",
       "border_right": "1px solid purple",
       "border_top": "1px solid purple",
       "justify_content": "flex-start",
       "width": "99%"
      }
     },
     "67df2098c4f94a52a1144ea9adb7b84c": {
      "model_module": "@jupyter-widgets/controls",
      "model_module_version": "2.0.0",
      "model_name": "VBoxModel",
      "state": {
       "children": [
        "IPY_MODEL_5510e128f9e94c13b58ac9806a20ae3a",
        "IPY_MODEL_b7af421f51b6470a8dddb7d90ff4d791"
       ],
       "layout": "IPY_MODEL_7376586df98a4a988bcdd9147b5cae35"
      }
     },
     "6824504252464fb59eb9c9aae04ab621": {
      "model_module": "@jupyter-widgets/base",
      "model_module_version": "2.0.0",
      "model_name": "LayoutModel",
      "state": {
       "justify_content": "flex-start",
       "width": "90%"
      }
     },
     "68c2757cdd8240fd85d66cf08265fc31": {
      "model_module": "@jupyter-widgets/controls",
      "model_module_version": "2.0.0",
      "model_name": "HBoxModel",
      "state": {
       "children": [
        "IPY_MODEL_761cdb2b83414b868bf5046ee38909f9",
        "IPY_MODEL_3af2352268f04de5bfad74125d16e2da"
       ],
       "layout": "IPY_MODEL_e98f792abde54c19aef8f9f707b37067"
      }
     },
     "68cbcc33ff5b4bdc9e46455bcae590fe": {
      "model_module": "@jupyter-widgets/controls",
      "model_module_version": "2.0.0",
      "model_name": "TextStyleModel",
      "state": {
       "description_width": "",
       "font_size": null,
       "text_color": null
      }
     },
     "68d961ba0b054dcabcdec5b546acdc93": {
      "model_module": "@jupyter-widgets/controls",
      "model_module_version": "2.0.0",
      "model_name": "HTMLModel",
      "state": {
       "layout": "IPY_MODEL_dbd83080d67046ceb40763f7b22d2204",
       "style": "IPY_MODEL_d5b3084cbaca48afb6b382053adf24c1",
       "value": " to "
      }
     },
     "68def347952f48fdb4e0000e1a16358a": {
      "model_module": "@jupyter-widgets/base",
      "model_module_version": "2.0.0",
      "model_name": "LayoutModel",
      "state": {
       "justify_content": "flex-start"
      }
     },
     "69be35ed5c5d496a91b8b328dada47c0": {
      "model_module": "@jupyter-widgets/base",
      "model_module_version": "2.0.0",
      "model_name": "LayoutModel",
      "state": {
       "width": "50%"
      }
     },
     "6a207f3bb9c64d108f328f4eb5de7e9e": {
      "model_module": "@jupyter-widgets/base",
      "model_module_version": "2.0.0",
      "model_name": "LayoutModel",
      "state": {
       "justify_content": "flex-start"
      }
     },
     "6a40af03b6ee4f7aaf0452213c5b94a1": {
      "model_module": "@jupyter-widgets/base",
      "model_module_version": "2.0.0",
      "model_name": "LayoutModel",
      "state": {}
     },
     "6a63bc1db2564d4f97c6518ad78d5a01": {
      "model_module": "@jupyter-widgets/controls",
      "model_module_version": "2.0.0",
      "model_name": "HTMLStyleModel",
      "state": {
       "description_width": "",
       "font_size": null,
       "text_color": null
      }
     },
     "6a70a89ec38a4fd9ad15a597e63b6ba4": {
      "model_module": "@jupyter-widgets/base",
      "model_module_version": "2.0.0",
      "model_name": "LayoutModel",
      "state": {
       "justify_content": "flex-start",
       "width": "40px"
      }
     },
     "6a9e2a5b4c7144d3a9e396c355e7aa68": {
      "model_module": "@jupyter-widgets/base",
      "model_module_version": "2.0.0",
      "model_name": "LayoutModel",
      "state": {
       "justify_content": "flex-start"
      }
     },
     "6ab040e42ee74e758b96d41775c4ab74": {
      "model_module": "@jupyter-widgets/base",
      "model_module_version": "2.0.0",
      "model_name": "LayoutModel",
      "state": {}
     },
     "6ac2cbc4db5145b8b4b4bddd6fd2346f": {
      "model_module": "@jupyter-widgets/base",
      "model_module_version": "2.0.0",
      "model_name": "LayoutModel",
      "state": {}
     },
     "6af0b9c4c18b40ff94b2b7493ded1572": {
      "model_module": "@jupyter-widgets/controls",
      "model_module_version": "2.0.0",
      "model_name": "HBoxModel",
      "state": {
       "children": [
        "IPY_MODEL_1b8580dc0fac400bbcbea7d6917762b9",
        "IPY_MODEL_c568e6da60bc461f8f33ef3a119a0e71"
       ],
       "layout": "IPY_MODEL_12c4c5c327b840cb9afb4e8cfa74e5e4"
      }
     },
     "6b0df957682f4df58702f369113a92e6": {
      "model_module": "@jupyter-widgets/base",
      "model_module_version": "2.0.0",
      "model_name": "LayoutModel",
      "state": {
       "border_bottom": "solid 1px gray",
       "border_left": "solid 1px gray",
       "border_right": "solid 1px gray",
       "border_top": "solid 1px gray"
      }
     },
     "6b1c43443c1b4d2696333ccde9b4c9d9": {
      "model_module": "@jupyter-widgets/base",
      "model_module_version": "2.0.0",
      "model_name": "LayoutModel",
      "state": {}
     },
     "6b217567a81343a087ab107bc0db2b03": {
      "model_module": "@jupyter-widgets/controls",
      "model_module_version": "2.0.0",
      "model_name": "TextStyleModel",
      "state": {
       "description_width": "50px",
       "font_size": null,
       "text_color": null
      }
     },
     "6b3e6075d6ec425bb00adf4a8f013c7c": {
      "model_module": "@jupyter-widgets/controls",
      "model_module_version": "2.0.0",
      "model_name": "ButtonModel",
      "state": {
       "description": "Summarize",
       "icon": "rocket",
       "layout": "IPY_MODEL_8053cfb70fa34c1c89d73a839abbb720",
       "style": "IPY_MODEL_0d18ea5016454fcb8999c4c5f713e4d1",
       "tooltip": "Summarize this section based on the topic and intro"
      }
     },
     "6b6618c764dc42aebc16829fa68aa41b": {
      "model_module": "@jupyter-widgets/base",
      "model_module_version": "2.0.0",
      "model_name": "LayoutModel",
      "state": {}
     },
     "6b732fcad2394dff858179670c63da83": {
      "model_module": "@jupyter-widgets/controls",
      "model_module_version": "2.0.0",
      "model_name": "HTMLModel",
      "state": {
       "layout": "IPY_MODEL_cb8a60eacbac467390746b5e7959ca78",
       "style": "IPY_MODEL_76b6646f7a8f491f8326fb7a2ce6419d"
      }
     },
     "6bd434a693f74cf09cf19d994227fd9e": {
      "model_module": "@jupyter-widgets/base",
      "model_module_version": "2.0.0",
      "model_name": "LayoutModel",
      "state": {
       "justify_content": "flex-start"
      }
     },
     "6be3178add3648989f2b49ffa4b500b1": {
      "model_module": "@jupyter-widgets/base",
      "model_module_version": "2.0.0",
      "model_name": "LayoutModel",
      "state": {
       "border_bottom": "1px solid purple",
       "border_left": "1px solid purple",
       "border_right": "1px solid purple",
       "border_top": "1px solid purple",
       "justify_content": "flex-start",
       "width": "auto"
      }
     },
     "6c436ccc7b27402c86f39c43143a9690": {
      "model_module": "@jupyter-widgets/controls",
      "model_module_version": "2.0.0",
      "model_name": "ButtonModel",
      "state": {
       "description": "Summarize",
       "icon": "rocket",
       "layout": "IPY_MODEL_b14d28fb160740efb2ea4d8c66737495",
       "style": "IPY_MODEL_5d7784c00fc6444b9dd62032d61d7a13",
       "tooltip": "Summarize this section based on the topic and intro"
      }
     },
     "6c80996d16114257ac0979f8194cd352": {
      "model_module": "@jupyter-widgets/controls",
      "model_module_version": "2.0.0",
      "model_name": "HTMLModel",
      "state": {
       "layout": "IPY_MODEL_cb6843977db84739aa16d0109eb0b72f",
       "style": "IPY_MODEL_467cf58bb38e429b834ac3c5fc6de0df",
       "value": " to "
      }
     },
     "6d014806483f4958b49ef2f24cdc4fae": {
      "model_module": "@jupyter-widgets/controls",
      "model_module_version": "2.0.0",
      "model_name": "ButtonModel",
      "state": {
       "description": "Retrieve",
       "icon": "list",
       "layout": "IPY_MODEL_de0069c5549142f59894ca9ca2f5a64c",
       "style": "IPY_MODEL_ad44a1d4c269453e8453eaf860c12718",
       "tooltip": "Retrieve related references"
      }
     },
     "6d0c4b10aff74ace837ba58a1d773828": {
      "model_module": "@jupyter-widgets/base",
      "model_module_version": "2.0.0",
      "model_name": "LayoutModel",
      "state": {
       "height": "50%",
       "width": "50%"
      }
     },
     "6dda1fc1cb574c11896aaef3608409fc": {
      "model_module": "@jupyter-widgets/controls",
      "model_module_version": "2.0.0",
      "model_name": "HTMLStyleModel",
      "state": {
       "description_width": "",
       "font_size": null,
       "text_color": null
      }
     },
     "6e24c5da00004a7daa3ed5444fe35f2b": {
      "model_module": "@jupyter-widgets/controls",
      "model_module_version": "2.0.0",
      "model_name": "ButtonStyleModel",
      "state": {
       "font_family": null,
       "font_size": null,
       "font_style": null,
       "font_variant": null,
       "font_weight": null,
       "text_color": null,
       "text_decoration": null
      }
     },
     "6ec30db2653e475cadaf53b374514a47": {
      "model_module": "@jupyter-widgets/base",
      "model_module_version": "2.0.0",
      "model_name": "LayoutModel",
      "state": {}
     },
     "6f0dff3483f844a2a66e084dde957cfb": {
      "model_module": "@jupyter-widgets/controls",
      "model_module_version": "2.0.0",
      "model_name": "TextStyleModel",
      "state": {
       "background": "#000000",
       "description_width": "50px",
       "font_size": null,
       "text_color": null
      }
     },
     "6f1bd87fd1d54335ae14aa4314083e5f": {
      "model_module": "@jupyter-widgets/controls",
      "model_module_version": "2.0.0",
      "model_name": "HBoxModel",
      "state": {
       "children": [
        "IPY_MODEL_c305799dc47442f7829b31fefd6cfeab",
        "IPY_MODEL_f873419aa8884ccda9fd2ff44949fdee"
       ],
       "layout": "IPY_MODEL_7cb0cd8c5c8f4014a8ef5aea19ff3aea"
      }
     },
     "6f61ae5e258e43ac890a3714a854b816": {
      "model_module": "@jupyter-widgets/controls",
      "model_module_version": "2.0.0",
      "model_name": "VBoxModel",
      "state": {
       "children": [
        "IPY_MODEL_afe237b3ac5f46f78d23fda4668c0b58",
        "IPY_MODEL_3480efb715e743c689950f5d90c1d897"
       ],
       "layout": "IPY_MODEL_82cdb684556e4fd292735a015530f2b4"
      }
     },
     "6f7f1ae58d5c4ee192d542c385ab8c3e": {
      "model_module": "@jupyter-widgets/controls",
      "model_module_version": "2.0.0",
      "model_name": "HTMLStyleModel",
      "state": {
       "description_width": "",
       "font_size": null,
       "text_color": null
      }
     },
     "6f986c04edb64eee8d325d33f13632fd": {
      "model_module": "@jupyter-widgets/controls",
      "model_module_version": "2.0.0",
      "model_name": "ButtonModel",
      "state": {
       "description": "Summarize",
       "icon": "rocket",
       "layout": "IPY_MODEL_800c221bba114729b70233528cc7c241",
       "style": "IPY_MODEL_4905eaa5acb846f8a5b7b28862406789",
       "tooltip": "Summarize this section based on the topic and intro"
      }
     },
     "6fa71825b0c747ca994616ae68a8e8f5": {
      "model_module": "@jupyter-widgets/base",
      "model_module_version": "2.0.0",
      "model_name": "LayoutModel",
      "state": {
       "border_bottom": "1px solid purple",
       "border_left": "1px solid purple",
       "border_right": "1px solid purple",
       "border_top": "1px solid purple",
       "justify_content": "flex-start",
       "width": "99%"
      }
     },
     "6fad5d89d6944c4e9e724ac59e7ce32d": {
      "model_module": "@jupyter-widgets/base",
      "model_module_version": "2.0.0",
      "model_name": "LayoutModel",
      "state": {}
     },
     "6ffbd8825e03410fa64fd453bb35209f": {
      "model_module": "@jupyter-widgets/controls",
      "model_module_version": "2.0.0",
      "model_name": "HBoxModel",
      "state": {
       "children": [
        "IPY_MODEL_ae5f58cec33141699ca4a1165179516c",
        "IPY_MODEL_02d3a38e00c047c888246b4b3580813a"
       ],
       "layout": "IPY_MODEL_ef045d97a2f44d4da20488e7c0023d78"
      }
     },
     "70192adeed324ac9b776581c9ab24015": {
      "model_module": "@jupyter-widgets/base",
      "model_module_version": "2.0.0",
      "model_name": "LayoutModel",
      "state": {
       "border_bottom": "1px solid transparent",
       "border_left": "1px solid transparent",
       "border_right": "1px solid transparent",
       "border_top": "1px solid transparent",
       "display": "none",
       "justify_content": "flex-start",
       "width": "99%"
      }
     },
     "702daf4abbb84699afb966bd0ee34476": {
      "model_module": "@jupyter-widgets/controls",
      "model_module_version": "2.0.0",
      "model_name": "HBoxModel",
      "state": {
       "children": [
        "IPY_MODEL_bd615926d85e4743aff72d26260fe37c",
        "IPY_MODEL_3f5b85baa80c413685cdc35fd50e7567"
       ],
       "layout": "IPY_MODEL_c7020a6eb0fb4dfdb3122592d00900f8"
      }
     },
     "703307f5e61e457f9949d42abcc5805b": {
      "model_module": "@jupyter-widgets/output",
      "model_module_version": "1.0.0",
      "model_name": "OutputModel",
      "state": {
       "layout": "IPY_MODEL_954591f2aa4344d19aa1aad9d4ef8cf0"
      }
     },
     "7080aa62c6bf4601a56b2dfdcf43e89f": {
      "model_module": "@jupyter-widgets/controls",
      "model_module_version": "2.0.0",
      "model_name": "TextModel",
      "state": {
       "layout": "IPY_MODEL_67bea39c2c114f72905f6542e3a859a5",
       "style": "IPY_MODEL_483730a685fe4d7f98bf82ce6f322fd4",
       "value": "Triplet network"
      }
     },
     "70bb344a6fd743e8b217b5a38ddd2c48": {
      "model_module": "@jupyter-widgets/base",
      "model_module_version": "2.0.0",
      "model_name": "LayoutModel",
      "state": {
       "height": "50%",
       "width": "50%"
      }
     },
     "70deb70356064ad2a5d1df785f21a097": {
      "model_module": "@jupyter-widgets/base",
      "model_module_version": "2.0.0",
      "model_name": "LayoutModel",
      "state": {}
     },
     "70eb8a7be5ac4039a16fae354e3586f6": {
      "model_module": "@jupyter-widgets/base",
      "model_module_version": "2.0.0",
      "model_name": "LayoutModel",
      "state": {}
     },
     "70eea819a34e4f918c3dfafb987bde0b": {
      "model_module": "@jupyter-widgets/controls",
      "model_module_version": "2.0.0",
      "model_name": "HTMLModel",
      "state": {
       "layout": "IPY_MODEL_9bf5fabfb1fa4142884478469d54f2f6",
       "style": "IPY_MODEL_cf9b36b859e44287ae6cbc79951be405",
       "value": "queries,"
      }
     },
     "70f86e5c7cd94573842fb351cd803c42": {
      "model_module": "@jupyter-widgets/output",
      "model_module_version": "1.0.0",
      "model_name": "OutputModel",
      "state": {
       "layout": "IPY_MODEL_b4cf66c711504d11b3d0f95968675ddf"
      }
     },
     "71176b0e184b42f089ec648d2af3c44b": {
      "model_module": "@jupyter-widgets/base",
      "model_module_version": "2.0.0",
      "model_name": "LayoutModel",
      "state": {
       "justify_content": "flex-start",
       "width": "90%"
      }
     },
     "71259516736841a9bc8b3fe457cea863": {
      "model_module": "@jupyter-widgets/base",
      "model_module_version": "2.0.0",
      "model_name": "LayoutModel",
      "state": {}
     },
     "714489ce7b3f48b1802a5e683247bf14": {
      "model_module": "@jupyter-widgets/base",
      "model_module_version": "2.0.0",
      "model_name": "LayoutModel",
      "state": {
       "justify_content": "flex-start"
      }
     },
     "7150324fd1884b84a7a5055853bc043d": {
      "model_module": "@jupyter-widgets/base",
      "model_module_version": "2.0.0",
      "model_name": "LayoutModel",
      "state": {
       "height": "50%",
       "width": "50%"
      }
     },
     "71ae09a17b334499b58c6609968a4941": {
      "model_module": "@jupyter-widgets/base",
      "model_module_version": "2.0.0",
      "model_name": "LayoutModel",
      "state": {}
     },
     "71d0b51c3ec04860a1a30f5f24af3147": {
      "model_module": "@jupyter-widgets/controls",
      "model_module_version": "2.0.0",
      "model_name": "HBoxModel",
      "state": {
       "children": [
        "IPY_MODEL_f0bb7e97a70f4431b23ba663f97e425b",
        "IPY_MODEL_9a5fc3054c2e457eb5bad44a4ce54459"
       ],
       "layout": "IPY_MODEL_71ae09a17b334499b58c6609968a4941"
      }
     },
     "7220ed8de64d4a0c9b96c62214b2a67c": {
      "model_module": "@jupyter-widgets/controls",
      "model_module_version": "2.0.0",
      "model_name": "VBoxModel",
      "state": {
       "children": [
        "IPY_MODEL_f775b355a4e24d47acae4b285a63e8c2",
        "IPY_MODEL_ee8cbbfd2c91409b9054cf04e33fcd36"
       ],
       "layout": "IPY_MODEL_f4f0e14e39f54c12bee60bce527cb5a3"
      }
     },
     "7229b2fd1d9c472a9563a2164d1efe2c": {
      "model_module": "@jupyter-widgets/controls",
      "model_module_version": "2.0.0",
      "model_name": "HTMLModel",
      "state": {
       "layout": "IPY_MODEL_d81bb8aba54744e79c4a58405d1d3fed",
       "style": "IPY_MODEL_0b1fbd3b6b8f4e99aa2699531a90d501",
       "value": "queries,"
      }
     },
     "7241bfae983e483f8251829aeab486b2": {
      "model_module": "@jupyter-widgets/base",
      "model_module_version": "2.0.0",
      "model_name": "LayoutModel",
      "state": {
       "border_bottom": "1px solid transparent",
       "border_left": "1px solid transparent",
       "border_right": "1px solid transparent",
       "border_top": "1px solid transparent",
       "justify_content": "flex-start",
       "width": "99%"
      }
     },
     "7258ff7eff654f3fab7798c1e127cf78": {
      "model_module": "@jupyter-widgets/controls",
      "model_module_version": "2.0.0",
      "model_name": "HTMLStyleModel",
      "state": {
       "description_width": "",
       "font_size": null,
       "text_color": null
      }
     },
     "729c4f19c14e4a5689e6553e71484c85": {
      "model_module": "@jupyter-widgets/base",
      "model_module_version": "2.0.0",
      "model_name": "LayoutModel",
      "state": {
       "justify_content": "flex-start",
       "width": "40px"
      }
     },
     "72bf69ab00ea4ca5b6241ed5939b8f53": {
      "model_module": "@jupyter-widgets/base",
      "model_module_version": "2.0.0",
      "model_name": "LayoutModel",
      "state": {}
     },
     "72edd78ae4154c1cb217efca335fb303": {
      "model_module": "@jupyter-widgets/controls",
      "model_module_version": "2.0.0",
      "model_name": "HTMLModel",
      "state": {
       "layout": "IPY_MODEL_7fcc23242cf748ec9eb122dbb1b9989f",
       "style": "IPY_MODEL_54a36ae9936d41d6aeb2aaf69b742605",
       "value": " to "
      }
     },
     "733bad4bb8bb42e39e3501c5ccf9e9ef": {
      "model_module": "@jupyter-widgets/base",
      "model_module_version": "2.0.0",
      "model_name": "LayoutModel",
      "state": {
       "justify_content": "flex-start"
      }
     },
     "7367a299ff754ba38de7452c516575fc": {
      "model_module": "@jupyter-widgets/base",
      "model_module_version": "2.0.0",
      "model_name": "LayoutModel",
      "state": {
       "justify_content": "flex-start",
       "width": "90%"
      }
     },
     "7376586df98a4a988bcdd9147b5cae35": {
      "model_module": "@jupyter-widgets/base",
      "model_module_version": "2.0.0",
      "model_name": "LayoutModel",
      "state": {
       "width": "50%"
      }
     },
     "738cbd793cea4e17818175f2b7590058": {
      "model_module": "@jupyter-widgets/controls",
      "model_module_version": "2.0.0",
      "model_name": "HTMLStyleModel",
      "state": {
       "description_width": "",
       "font_size": null,
       "text_color": null
      }
     },
     "73acc2ea4e09421f86644b99eaf77c4f": {
      "model_module": "@jupyter-widgets/base",
      "model_module_version": "2.0.0",
      "model_name": "LayoutModel",
      "state": {}
     },
     "73b4b07e30aa4d6ea614833b92833aea": {
      "model_module": "@jupyter-widgets/base",
      "model_module_version": "2.0.0",
      "model_name": "LayoutModel",
      "state": {
       "border_bottom": "1px solid purple",
       "border_left": "1px solid purple",
       "border_right": "1px solid purple",
       "border_top": "1px solid purple",
       "justify_content": "flex-start",
       "width": "99%"
      }
     },
     "73eba650d8de4bd3a9a5433cbc845937": {
      "model_module": "@jupyter-widgets/controls",
      "model_module_version": "2.0.0",
      "model_name": "HTMLStyleModel",
      "state": {
       "description_width": "",
       "font_size": null,
       "text_color": null
      }
     },
     "73f0dd21d98e4b8aa9ae7103d721afc4": {
      "model_module": "@jupyter-widgets/base",
      "model_module_version": "2.0.0",
      "model_name": "LayoutModel",
      "state": {
       "justify_content": "flex-start",
       "width": "90%"
      }
     },
     "740f22d026104803a0e2e2d1acb07456": {
      "model_module": "@jupyter-widgets/controls",
      "model_module_version": "2.0.0",
      "model_name": "TextModel",
      "state": {
       "layout": "IPY_MODEL_6fa71825b0c747ca994616ae68a8e8f5",
       "style": "IPY_MODEL_963f435c81ff4269a849a2c3f5959af9",
       "value": "Supervised learning vs. weakly supervised learning vs. unsupervised learning"
      }
     },
     "746cf2194da74ca4a61a7ca887b38c9b": {
      "model_module": "@jupyter-widgets/controls",
      "model_module_version": "2.0.0",
      "model_name": "TextStyleModel",
      "state": {
       "description_width": "50px",
       "font_size": null,
       "text_color": null
      }
     },
     "74cd0b1b1f5c47d38046e0a568916a4a": {
      "model_module": "@jupyter-widgets/base",
      "model_module_version": "2.0.0",
      "model_name": "LayoutModel",
      "state": {}
     },
     "74f26bc08d2c4744b6b98a4316d68f61": {
      "model_module": "@jupyter-widgets/base",
      "model_module_version": "2.0.0",
      "model_name": "LayoutModel",
      "state": {}
     },
     "74f3797ab055406b9333e7cecea78208": {
      "model_module": "@jupyter-widgets/base",
      "model_module_version": "2.0.0",
      "model_name": "LayoutModel",
      "state": {
       "width": "auto"
      }
     },
     "7547b1e527b0423ebc3a8aa90850337f": {
      "model_module": "@jupyter-widgets/controls",
      "model_module_version": "2.0.0",
      "model_name": "HBoxModel",
      "state": {
       "children": [
        "IPY_MODEL_ac4cf0b61cf54b709054a0bc1edd7b90",
        "IPY_MODEL_5e7b5a507da948bbbce4e45d073fc9d6"
       ],
       "layout": "IPY_MODEL_d98e974e92164ef0a7b6ab807eb2df27"
      }
     },
     "757851dad6ec49acb111bffcd644dbba": {
      "model_module": "@jupyter-widgets/controls",
      "model_module_version": "2.0.0",
      "model_name": "HBoxModel",
      "state": {
       "children": [
        "IPY_MODEL_cf3ca2defbb64e06bf3cde5641b0d33d",
        "IPY_MODEL_e250b4165c7d4b8aa8d0bdad66942ea1"
       ],
       "layout": "IPY_MODEL_a82788a1026f4b37a37124b335be66b3"
      }
     },
     "75d07a4421d443d19d7df0e32ec4d74a": {
      "model_module": "@jupyter-widgets/controls",
      "model_module_version": "2.0.0",
      "model_name": "ButtonModel",
      "state": {
       "description": "Translate",
       "icon": "language",
       "layout": "IPY_MODEL_de0069c5549142f59894ca9ca2f5a64c",
       "style": "IPY_MODEL_1b4d569742614d47a2ac080a560370af",
       "tooltip": "Click and translate the details for this section"
      }
     },
     "75eab91dbc76456eb767cbe9b9f60afd": {
      "model_module": "@jupyter-widgets/base",
      "model_module_version": "2.0.0",
      "model_name": "LayoutModel",
      "state": {}
     },
     "75ec08506ea547f08165487fe7d26664": {
      "model_module": "@jupyter-widgets/base",
      "model_module_version": "2.0.0",
      "model_name": "LayoutModel",
      "state": {
       "justify_content": "flex-start",
       "width": "40px"
      }
     },
     "75f156884ed04dc4aa8f11b25df367fa": {
      "model_module": "@jupyter-widgets/controls",
      "model_module_version": "2.0.0",
      "model_name": "HTMLStyleModel",
      "state": {
       "description_width": "",
       "font_size": null,
       "text_color": null
      }
     },
     "761cdb2b83414b868bf5046ee38909f9": {
      "model_module": "@jupyter-widgets/controls",
      "model_module_version": "2.0.0",
      "model_name": "VBoxModel",
      "state": {
       "children": [
        "IPY_MODEL_9b9dc676f7174323b7820952a676cca9",
        "IPY_MODEL_f79c8779ac6b4350923629037b9057f4"
       ],
       "layout": "IPY_MODEL_c14ab3bf2edd4345912dcd3fa7eec613"
      }
     },
     "765f11b9a3114bd2a3e299dafdbe26ce": {
      "model_module": "@jupyter-widgets/controls",
      "model_module_version": "2.0.0",
      "model_name": "TextStyleModel",
      "state": {
       "description_width": "",
       "font_size": null,
       "text_color": null
      }
     },
     "76b22975edff453380b5314d31051b92": {
      "model_module": "@jupyter-widgets/controls",
      "model_module_version": "2.0.0",
      "model_name": "ButtonModel",
      "state": {
       "description": "Retrieve",
       "icon": "list",
       "layout": "IPY_MODEL_14f44bb8298b461c93591c6c7fef6c8a",
       "style": "IPY_MODEL_46e04f54abdb400ea08888fd95525224",
       "tooltip": "Retrieve related references"
      }
     },
     "76b6646f7a8f491f8326fb7a2ce6419d": {
      "model_module": "@jupyter-widgets/controls",
      "model_module_version": "2.0.0",
      "model_name": "HTMLStyleModel",
      "state": {
       "description_width": "",
       "font_size": null,
       "text_color": null
      }
     },
     "76eff17baf4c4062b492eb8e6590839c": {
      "model_module": "@jupyter-widgets/base",
      "model_module_version": "2.0.0",
      "model_name": "LayoutModel",
      "state": {
       "justify_content": "flex-start"
      }
     },
     "76fceb65c47f4a6c854b3227cc9109ea": {
      "model_module": "@jupyter-widgets/controls",
      "model_module_version": "2.0.0",
      "model_name": "HBoxModel",
      "state": {
       "children": [
        "IPY_MODEL_99f853f421ca45849df3e5eb5cca6f4c",
        "IPY_MODEL_7f598003f62b416d87c5c760472cb72c",
        "IPY_MODEL_047abb74598e4d5b942ad96c191c2dfd"
       ],
       "layout": "IPY_MODEL_fadbf60078214344b0debc59537e9c01"
      }
     },
     "7771c67c6efe44c29f1e6815711d99e6": {
      "model_module": "@jupyter-widgets/controls",
      "model_module_version": "2.0.0",
      "model_name": "HTMLModel",
      "state": {
       "layout": "IPY_MODEL_e5cbbe357e484a7eaaecf82c4c6fe9d3",
       "style": "IPY_MODEL_7f46c7717def492b83d3337010064186"
      }
     },
     "77cc8d52df5b4a809e558e252ee74e1d": {
      "model_module": "@jupyter-widgets/controls",
      "model_module_version": "2.0.0",
      "model_name": "TextStyleModel",
      "state": {
       "description_width": "",
       "font_size": null,
       "text_color": null
      }
     },
     "77cdf704febe4db09dc01427dd5fb877": {
      "model_module": "@jupyter-widgets/controls",
      "model_module_version": "2.0.0",
      "model_name": "ButtonStyleModel",
      "state": {
       "font_family": null,
       "font_size": null,
       "font_style": null,
       "font_variant": null,
       "font_weight": null,
       "text_color": null,
       "text_decoration": null
      }
     },
     "77e7adbe4d4844ab87b0a0b8a30b2e60": {
      "model_module": "@jupyter-widgets/controls",
      "model_module_version": "2.0.0",
      "model_name": "TextStyleModel",
      "state": {
       "background": "#000000",
       "description_width": "50px",
       "font_size": null,
       "text_color": null
      }
     },
     "785edc4f81fa4b4d80fa4b52ec75e420": {
      "model_module": "@jupyter-widgets/output",
      "model_module_version": "1.0.0",
      "model_name": "OutputModel",
      "state": {
       "layout": "IPY_MODEL_16efcf86183e4320946487500742240d"
      }
     },
     "7891167f47d44a518b74b9b361ba87f0": {
      "model_module": "@jupyter-widgets/base",
      "model_module_version": "2.0.0",
      "model_name": "LayoutModel",
      "state": {
       "justify_content": "flex-start",
       "width": "60px"
      }
     },
     "78a2f05584194df997a99d39100cda2f": {
      "model_module": "@jupyter-widgets/controls",
      "model_module_version": "2.0.0",
      "model_name": "ButtonModel",
      "state": {
       "description": "Retrieve",
       "icon": "list",
       "layout": "IPY_MODEL_b14d28fb160740efb2ea4d8c66737495",
       "style": "IPY_MODEL_0f98ec76ef15452a93bf87b6bbdf1093",
       "tooltip": "Retrieve related references"
      }
     },
     "79199b414f3e4a308f8a89f513e5b7f0": {
      "model_module": "@jupyter-widgets/base",
      "model_module_version": "2.0.0",
      "model_name": "LayoutModel",
      "state": {}
     },
     "794f9d77447c45ba82fc799a19302923": {
      "model_module": "@jupyter-widgets/controls",
      "model_module_version": "2.0.0",
      "model_name": "HTMLStyleModel",
      "state": {
       "description_width": "",
       "font_size": null,
       "text_color": null
      }
     },
     "79632380bb684f63b7e42988e48d5ca5": {
      "model_module": "@jupyter-widgets/controls",
      "model_module_version": "2.0.0",
      "model_name": "HTMLStyleModel",
      "state": {
       "description_width": "",
       "font_size": null,
       "text_color": null
      }
     },
     "7963dc7bc3e8478287d91680ee4ab2df": {
      "model_module": "@jupyter-widgets/controls",
      "model_module_version": "2.0.0",
      "model_name": "HTMLStyleModel",
      "state": {
       "description_width": "",
       "font_size": null,
       "text_color": null
      }
     },
     "79650b07b99d4d05ae9a8c5e8394e4d2": {
      "model_module": "@jupyter-widgets/controls",
      "model_module_version": "2.0.0",
      "model_name": "ButtonModel",
      "state": {
       "description": "Summarize",
       "icon": "rocket",
       "layout": "IPY_MODEL_5a1eefa4d1944cad85721d76c24b8aba",
       "style": "IPY_MODEL_df59cba918034a7d977abd12d6a7282f",
       "tooltip": "Summarize this section based on the topic and intro"
      }
     },
     "796ff4f719c642aabc51fe1d5bd52a51": {
      "model_module": "@jupyter-widgets/controls",
      "model_module_version": "2.0.0",
      "model_name": "HTMLStyleModel",
      "state": {
       "description_width": "",
       "font_size": null,
       "text_color": null
      }
     },
     "79854f0579bd4947a81ae79cf600f73d": {
      "model_module": "@jupyter-widgets/controls",
      "model_module_version": "2.0.0",
      "model_name": "ButtonModel",
      "state": {
       "description": "Translate",
       "icon": "language",
       "layout": "IPY_MODEL_8b0aae9afb4d41ebb780114ffc46c09a",
       "style": "IPY_MODEL_ee07a02b4a3e44ed93c71e565260c03d",
       "tooltip": "Click and translate the details for this section"
      }
     },
     "79ae94e25aba4fbf8856f7936c70023a": {
      "model_module": "@jupyter-widgets/controls",
      "model_module_version": "2.0.0",
      "model_name": "HTMLModel",
      "state": {
       "layout": "IPY_MODEL_9e5d5506c3a14ca7ae87d95ef547143d",
       "style": "IPY_MODEL_c385b52c3b8a4378b804ffd9b676be52"
      }
     },
     "79ef7fdd714045489915060974dd8783": {
      "model_module": "@jupyter-widgets/base",
      "model_module_version": "2.0.0",
      "model_name": "LayoutModel",
      "state": {}
     },
     "7a64f8241c5b4f4bafb4b732da2d731a": {
      "model_module": "@jupyter-widgets/base",
      "model_module_version": "2.0.0",
      "model_name": "LayoutModel",
      "state": {
       "width": "auto"
      }
     },
     "7a8a8d03b4114c66bcdc38861e6750c7": {
      "model_module": "@jupyter-widgets/controls",
      "model_module_version": "2.0.0",
      "model_name": "HTMLModel",
      "state": {
       "layout": "IPY_MODEL_336e0151cc044439b5d3d69445642ef8",
       "style": "IPY_MODEL_16b43cd7bcbe41d5b6939ab73cbb1e5f",
       "value": "queries,"
      }
     },
     "7a931ad2ca514e7dbce763a0f58ba5c1": {
      "model_module": "@jupyter-widgets/controls",
      "model_module_version": "2.0.0",
      "model_name": "ButtonModel",
      "state": {
       "description": "Summarize",
       "icon": "rocket",
       "layout": "IPY_MODEL_7ead0893f7c24433ad3b35c042885667",
       "style": "IPY_MODEL_f74d0354ac824fd0b636a3fd0ddc90d1",
       "tooltip": "Summarize this section based on the topic and intro"
      }
     },
     "7ab73e98d5a943eea4202a40671851b9": {
      "model_module": "@jupyter-widgets/base",
      "model_module_version": "2.0.0",
      "model_name": "LayoutModel",
      "state": {}
     },
     "7ac4b6f4dce343fc82ad75614962121f": {
      "model_module": "@jupyter-widgets/base",
      "model_module_version": "2.0.0",
      "model_name": "LayoutModel",
      "state": {}
     },
     "7aec7f7cc3ed491ba204910b1704ee2d": {
      "model_module": "@jupyter-widgets/controls",
      "model_module_version": "2.0.0",
      "model_name": "VBoxModel",
      "state": {
       "children": [
        "IPY_MODEL_6795b4c4a2b74dd2add306842ac317c5",
        "IPY_MODEL_b4d66afe15ae4dc2b6c0d461fea4f7a1"
       ],
       "layout": "IPY_MODEL_7af8b70a009c4478befaf52f3e7c649f"
      }
     },
     "7af7cf3f586942b4866e9ce98e3fb233": {
      "model_module": "@jupyter-widgets/controls",
      "model_module_version": "2.0.0",
      "model_name": "HTMLModel",
      "state": {
       "layout": "IPY_MODEL_7ac4b6f4dce343fc82ad75614962121f",
       "style": "IPY_MODEL_b9eee198773048da994df50a3ef9f4bc",
       "value": "words:"
      }
     },
     "7af8b70a009c4478befaf52f3e7c649f": {
      "model_module": "@jupyter-widgets/base",
      "model_module_version": "2.0.0",
      "model_name": "LayoutModel",
      "state": {
       "width": "50%"
      }
     },
     "7b061e35352345ab96ff89d1e81b59a1": {
      "model_module": "@jupyter-widgets/controls",
      "model_module_version": "2.0.0",
      "model_name": "VBoxModel",
      "state": {
       "children": [
        "IPY_MODEL_ad511f65aef741478cf35422370574f9",
        "IPY_MODEL_7771c67c6efe44c29f1e6815711d99e6"
       ],
       "layout": "IPY_MODEL_2bf246661fae4106a74a5ac4532b9d71"
      }
     },
     "7b26db62c0bf4c6987aa01a630384b1b": {
      "model_module": "@jupyter-widgets/base",
      "model_module_version": "2.0.0",
      "model_name": "LayoutModel",
      "state": {}
     },
     "7b47f99c5cfe4e76bb4478285b11aa2d": {
      "model_module": "@jupyter-widgets/controls",
      "model_module_version": "2.0.0",
      "model_name": "HBoxModel",
      "state": {
       "children": [
        "IPY_MODEL_1f413103ebd74a4eb2d10594541c62e2",
        "IPY_MODEL_88dacfb22dba49b999cdd52e22f40828"
       ],
       "layout": "IPY_MODEL_190be858322047a6b7a73817ec885fb7"
      }
     },
     "7b58baf773c74e2787d6ccaa72eac84b": {
      "model_module": "@jupyter-widgets/controls",
      "model_module_version": "2.0.0",
      "model_name": "ButtonModel",
      "state": {
       "description": "Summarize",
       "icon": "rocket",
       "layout": "IPY_MODEL_74f3797ab055406b9333e7cecea78208",
       "style": "IPY_MODEL_134f0070dd604c129fab3cc25f325174",
       "tooltip": "Summarize this section based on the topic and intro"
      }
     },
     "7b72ca3059fe42a5a801370b1fcc4226": {
      "model_module": "@jupyter-widgets/controls",
      "model_module_version": "2.0.0",
      "model_name": "HBoxModel",
      "state": {
       "children": [
        "IPY_MODEL_028f7153ca1249618155cc32a9bef706",
        "IPY_MODEL_c6ecd2b9a1314cd692a00ed3b709e661"
       ],
       "layout": "IPY_MODEL_82f60f0ef43b4399a2640080a145f629"
      }
     },
     "7b772ed27bdc42a5836919fd44bc5698": {
      "model_module": "@jupyter-widgets/controls",
      "model_module_version": "2.0.0",
      "model_name": "VBoxModel",
      "state": {
       "children": [
        "IPY_MODEL_2d6ada24832140e08810c2d5872cd8b2",
        "IPY_MODEL_1c03e679c60747fc8438da22664c4bc6"
       ],
       "layout": "IPY_MODEL_b245f43278704c4f926c8010215511f6"
      }
     },
     "7bc39acb305c4b0396427a8f513f7993": {
      "model_module": "@jupyter-widgets/controls",
      "model_module_version": "2.0.0",
      "model_name": "HTMLStyleModel",
      "state": {
       "description_width": "",
       "font_size": null,
       "text_color": null
      }
     },
     "7bce75e47df5419e8dbda0b7ed9ef525": {
      "model_module": "@jupyter-widgets/base",
      "model_module_version": "2.0.0",
      "model_name": "LayoutModel",
      "state": {}
     },
     "7bd05d5d31d64a3a9a11ab6c4b306d73": {
      "model_module": "@jupyter-widgets/controls",
      "model_module_version": "2.0.0",
      "model_name": "ButtonModel",
      "state": {
       "description": "Summarize",
       "icon": "rocket",
       "layout": "IPY_MODEL_164b4acd26e84748b47558b0bb0e9b2d",
       "style": "IPY_MODEL_e2394196262f47ad9c0bf9b0e18d6c25",
       "tooltip": "Summarize this section based on the topic and intro"
      }
     },
     "7c030456feb24f3e9c52cc8597c81b90": {
      "model_module": "@jupyter-widgets/base",
      "model_module_version": "2.0.0",
      "model_name": "LayoutModel",
      "state": {
       "justify_content": "flex-start",
       "width": "40px"
      }
     },
     "7c1b8b45ddb04d3d8ba48b1987d0bb5b": {
      "model_module": "@jupyter-widgets/controls",
      "model_module_version": "2.0.0",
      "model_name": "TextStyleModel",
      "state": {
       "description_width": "",
       "font_size": null,
       "text_color": null
      }
     },
     "7c45abc07adf460082ccf4a463299ddd": {
      "model_module": "@jupyter-widgets/base",
      "model_module_version": "2.0.0",
      "model_name": "LayoutModel",
      "state": {
       "border_bottom": "1px solid purple",
       "border_left": "1px solid purple",
       "border_right": "1px solid purple",
       "border_top": "1px solid purple",
       "justify_content": "flex-start",
       "width": "99%"
      }
     },
     "7c5c468dee0b43029789fda3c05da1a0": {
      "model_module": "@jupyter-widgets/controls",
      "model_module_version": "2.0.0",
      "model_name": "HTMLModel",
      "state": {
       "layout": "IPY_MODEL_2d6de46d5f6a49c3a84fc0b49cee82fc",
       "style": "IPY_MODEL_6f7f1ae58d5c4ee192d542c385ab8c3e"
      }
     },
     "7cb0cd8c5c8f4014a8ef5aea19ff3aea": {
      "model_module": "@jupyter-widgets/base",
      "model_module_version": "2.0.0",
      "model_name": "LayoutModel",
      "state": {
       "border_bottom": "solid 1px gray",
       "border_left": "solid 1px gray",
       "border_right": "solid 1px gray",
       "border_top": "solid 1px gray"
      }
     },
     "7d1ebba0243440ddbb9bcf2e2d5d88d7": {
      "model_module": "@jupyter-widgets/base",
      "model_module_version": "2.0.0",
      "model_name": "LayoutModel",
      "state": {}
     },
     "7d673be0c02f49fbab67be2420f2ffba": {
      "model_module": "@jupyter-widgets/controls",
      "model_module_version": "2.0.0",
      "model_name": "VBoxModel",
      "state": {
       "children": [
        "IPY_MODEL_1e64328b2e5e420887e9e0c13b5b7e0a",
        "IPY_MODEL_4c5384ac453349f7bc08d2d9dc2efecd"
       ],
       "layout": "IPY_MODEL_247dc0f2fdd444b3981d8e3bfacbb2e9"
      }
     },
     "7d875fa75b6d455b83febbe7538c394e": {
      "model_module": "@jupyter-widgets/controls",
      "model_module_version": "2.0.0",
      "model_name": "ButtonStyleModel",
      "state": {
       "font_family": null,
       "font_size": null,
       "font_style": null,
       "font_variant": null,
       "font_weight": null,
       "text_color": null,
       "text_decoration": null
      }
     },
     "7dc19c93fc1c4e40825b9843e958db6b": {
      "model_module": "@jupyter-widgets/controls",
      "model_module_version": "2.0.0",
      "model_name": "VBoxModel",
      "state": {
       "children": [
        "IPY_MODEL_ac70bb64b76042c98a1ee531e7e23744",
        "IPY_MODEL_2671ed67f33247f685d2cc28fb78243c"
       ],
       "layout": "IPY_MODEL_69be35ed5c5d496a91b8b328dada47c0"
      }
     },
     "7e5125ca310f4e168bfb8a8d1a419ce1": {
      "model_module": "@jupyter-widgets/controls",
      "model_module_version": "2.0.0",
      "model_name": "HTMLStyleModel",
      "state": {
       "description_width": "",
       "font_size": null,
       "text_color": null
      }
     },
     "7e909296ff4b4f5ebdcee0b74c2506fc": {
      "model_module": "@jupyter-widgets/controls",
      "model_module_version": "2.0.0",
      "model_name": "HBoxModel",
      "state": {
       "children": [
        "IPY_MODEL_90dcf689212542ba83be18847cf4e752",
        "IPY_MODEL_21c101eaaf9a4a6f8ba8a271fdf63b3c",
        "IPY_MODEL_a34dcad5bd4f45eba13090fcf8b43bd3"
       ],
       "layout": "IPY_MODEL_d427f23c98294c4f83c993788f6058f8"
      }
     },
     "7ead0893f7c24433ad3b35c042885667": {
      "model_module": "@jupyter-widgets/base",
      "model_module_version": "2.0.0",
      "model_name": "LayoutModel",
      "state": {
       "width": "auto"
      }
     },
     "7eb712b5e94d40c1808b3dd17354f128": {
      "model_module": "@jupyter-widgets/controls",
      "model_module_version": "2.0.0",
      "model_name": "TextStyleModel",
      "state": {
       "description_width": "",
       "font_size": null,
       "text_color": null
      }
     },
     "7effc12e644d4ff0bfeb4e2eb5874840": {
      "model_module": "@jupyter-widgets/base",
      "model_module_version": "2.0.0",
      "model_name": "LayoutModel",
      "state": {}
     },
     "7f10f8d5246a4e6094a61c15fcb1bc51": {
      "model_module": "@jupyter-widgets/base",
      "model_module_version": "2.0.0",
      "model_name": "LayoutModel",
      "state": {
       "justify_content": "flex-start",
       "width": "60px"
      }
     },
     "7f1350ead585452fb73bc4b984070502": {
      "model_module": "@jupyter-widgets/controls",
      "model_module_version": "2.0.0",
      "model_name": "TextStyleModel",
      "state": {
       "background": "transparent",
       "description_width": "50px",
       "font_size": null,
       "text_color": null
      }
     },
     "7f1f484a522749a585467e16b23ee032": {
      "model_module": "@jupyter-widgets/controls",
      "model_module_version": "2.0.0",
      "model_name": "HTMLModel",
      "state": {
       "layout": "IPY_MODEL_a771f9be40d74d8cb34afddd25e072f1",
       "style": "IPY_MODEL_75f156884ed04dc4aa8f11b25df367fa",
       "value": " to "
      }
     },
     "7f2453bb9855427a957bad672644f559": {
      "model_module": "@jupyter-widgets/controls",
      "model_module_version": "2.0.0",
      "model_name": "ButtonStyleModel",
      "state": {
       "font_family": null,
       "font_size": null,
       "font_style": null,
       "font_variant": null,
       "font_weight": null,
       "text_color": null,
       "text_decoration": null
      }
     },
     "7f268efbad6e407abc95059efb544bc4": {
      "model_module": "@jupyter-widgets/base",
      "model_module_version": "2.0.0",
      "model_name": "LayoutModel",
      "state": {
       "width": "50%"
      }
     },
     "7f46c7717def492b83d3337010064186": {
      "model_module": "@jupyter-widgets/controls",
      "model_module_version": "2.0.0",
      "model_name": "HTMLStyleModel",
      "state": {
       "description_width": "",
       "font_size": null,
       "text_color": null
      }
     },
     "7f598003f62b416d87c5c760472cb72c": {
      "model_module": "@jupyter-widgets/controls",
      "model_module_version": "2.0.0",
      "model_name": "TextModel",
      "state": {
       "layout": "IPY_MODEL_de007a41aad44787924519d7a3e10671",
       "placeholder": "",
       "style": "IPY_MODEL_15d88b84f2524ed68a4f43c2fdfb4fcd",
       "value": "500"
      }
     },
     "7fcc23242cf748ec9eb122dbb1b9989f": {
      "model_module": "@jupyter-widgets/base",
      "model_module_version": "2.0.0",
      "model_name": "LayoutModel",
      "state": {}
     },
     "7fcd6d9211334c24949e922fe31ddf47": {
      "model_module": "@jupyter-widgets/controls",
      "model_module_version": "2.0.0",
      "model_name": "HTMLStyleModel",
      "state": {
       "description_width": "",
       "font_size": null,
       "text_color": null
      }
     },
     "7fefe7ffce8b4e65b7919627c443b70e": {
      "model_module": "@jupyter-widgets/controls",
      "model_module_version": "2.0.0",
      "model_name": "ButtonModel",
      "state": {
       "description": "Translate",
       "icon": "language",
       "layout": "IPY_MODEL_67a583bacc914a5e9b76c6092bf6f789",
       "style": "IPY_MODEL_f6301eda044d4a9fbaf7dd22f08e731d",
       "tooltip": "Click and translate the details for this section"
      }
     },
     "7ffaa15d19074f8fbc5fee5fd1473ae4": {
      "model_module": "@jupyter-widgets/base",
      "model_module_version": "2.0.0",
      "model_name": "LayoutModel",
      "state": {}
     },
     "8008aae349ce42aca1ed3bb9c3cd35d9": {
      "model_module": "@jupyter-widgets/controls",
      "model_module_version": "2.0.0",
      "model_name": "HTMLModel",
      "state": {
       "layout": "IPY_MODEL_21a38be6b0f44282aadb8c230dd2d219",
       "style": "IPY_MODEL_1fcc56a563e14a87bd6499ced37f9eeb",
       "value": "words:"
      }
     },
     "800c221bba114729b70233528cc7c241": {
      "model_module": "@jupyter-widgets/base",
      "model_module_version": "2.0.0",
      "model_name": "LayoutModel",
      "state": {
       "width": "auto"
      }
     },
     "8040a871df114198955c1bedf5e0fafa": {
      "model_module": "@jupyter-widgets/base",
      "model_module_version": "2.0.0",
      "model_name": "LayoutModel",
      "state": {
       "justify_content": "flex-start"
      }
     },
     "8053cfb70fa34c1c89d73a839abbb720": {
      "model_module": "@jupyter-widgets/base",
      "model_module_version": "2.0.0",
      "model_name": "LayoutModel",
      "state": {
       "width": "auto"
      }
     },
     "807123dd58c44362ac549196d023afd1": {
      "model_module": "@jupyter-widgets/controls",
      "model_module_version": "2.0.0",
      "model_name": "HBoxModel",
      "state": {
       "children": [
        "IPY_MODEL_ddcccc539e4540bcada7b8b3b25ed488",
        "IPY_MODEL_5a0e72c94d46497786c5cabeefe996b9"
       ],
       "layout": "IPY_MODEL_5df8445377a64b95a6037358f03f868e"
      }
     },
     "80abb094aeff4b09887f6a41aef38697": {
      "model_module": "@jupyter-widgets/controls",
      "model_module_version": "2.0.0",
      "model_name": "VBoxModel",
      "state": {
       "children": [
        "IPY_MODEL_94e766a1721b41ab98dff8b22206f512",
        "IPY_MODEL_673d1b3fa79e4b949da80a172b145be0"
       ],
       "layout": "IPY_MODEL_6d0c4b10aff74ace837ba58a1d773828"
      }
     },
     "80cfd66bb49e4e84a40c5c56a9c59a4d": {
      "model_module": "@jupyter-widgets/controls",
      "model_module_version": "2.0.0",
      "model_name": "HBoxModel",
      "state": {
       "children": [
        "IPY_MODEL_3ccfaf6d789541889224fcf27e2538dc",
        "IPY_MODEL_b8c116810af24c23addbdf55a8458f6c"
       ],
       "layout": "IPY_MODEL_bf528ba2a8d94436b485b5bb5036c6d1"
      }
     },
     "813e5a3782b54baa93b0c672c9ce2d8d": {
      "model_module": "@jupyter-widgets/controls",
      "model_module_version": "2.0.0",
      "model_name": "ButtonModel",
      "state": {
       "description": "Summarize",
       "icon": "rocket",
       "layout": "IPY_MODEL_67a583bacc914a5e9b76c6092bf6f789",
       "style": "IPY_MODEL_0e55df71830341b68469ee1b98e8edcb",
       "tooltip": "Summarize this section based on the topic and intro"
      }
     },
     "814024d0b6a443d4abd8fe0f98de2e6c": {
      "model_module": "@jupyter-widgets/controls",
      "model_module_version": "2.0.0",
      "model_name": "VBoxModel",
      "state": {
       "children": [
        "IPY_MODEL_b73c716cc6914c098b13ec7e187fb56d",
        "IPY_MODEL_70f86e5c7cd94573842fb351cd803c42"
       ],
       "layout": "IPY_MODEL_9e8361d9110b409a9d1a5a58a24833a7"
      }
     },
     "817de89757104b4d95562abd9a5d6202": {
      "model_module": "@jupyter-widgets/controls",
      "model_module_version": "2.0.0",
      "model_name": "ButtonModel",
      "state": {
       "description": "Summarize",
       "icon": "rocket",
       "layout": "IPY_MODEL_c0c77f5c658044ff9f0d83f236f60659",
       "style": "IPY_MODEL_46441b8a850c4effb624d10437e759c7",
       "tooltip": "Summarize this section based on the topic and intro"
      }
     },
     "829c54ba0653434a877785b33bbea51b": {
      "model_module": "@jupyter-widgets/controls",
      "model_module_version": "2.0.0",
      "model_name": "HTMLStyleModel",
      "state": {
       "description_width": "",
       "font_size": null,
       "text_color": null
      }
     },
     "829c897908fc4c0eba0898c92324c43f": {
      "model_module": "@jupyter-widgets/controls",
      "model_module_version": "2.0.0",
      "model_name": "ButtonStyleModel",
      "state": {
       "font_family": null,
       "font_size": null,
       "font_style": null,
       "font_variant": null,
       "font_weight": null,
       "text_color": null,
       "text_decoration": null
      }
     },
     "82bbd0c7a87f42329b54adf3555ee298": {
      "model_module": "@jupyter-widgets/base",
      "model_module_version": "2.0.0",
      "model_name": "LayoutModel",
      "state": {
       "justify_content": "flex-start",
       "width": "40px"
      }
     },
     "82c9ad94eb934cf58c9e7142925adfbe": {
      "model_module": "@jupyter-widgets/controls",
      "model_module_version": "2.0.0",
      "model_name": "TextModel",
      "state": {
       "layout": "IPY_MODEL_7c030456feb24f3e9c52cc8597c81b90",
       "placeholder": "20",
       "style": "IPY_MODEL_ca93da53a68e4e3cb68f142c3e8621f5",
       "value": "20"
      }
     },
     "82cdb684556e4fd292735a015530f2b4": {
      "model_module": "@jupyter-widgets/base",
      "model_module_version": "2.0.0",
      "model_name": "LayoutModel",
      "state": {
       "height": "50%",
       "width": "50%"
      }
     },
     "82e51201c6bc4da7b06233585ce98aad": {
      "model_module": "@jupyter-widgets/controls",
      "model_module_version": "2.0.0",
      "model_name": "TextStyleModel",
      "state": {
       "description_width": "",
       "font_size": null,
       "text_color": null
      }
     },
     "82f60f0ef43b4399a2640080a145f629": {
      "model_module": "@jupyter-widgets/base",
      "model_module_version": "2.0.0",
      "model_name": "LayoutModel",
      "state": {
       "border_bottom": "solid 1px gray",
       "border_left": "solid 1px gray",
       "border_right": "solid 1px gray",
       "border_top": "solid 1px gray"
      }
     },
     "830a506d25414c249adab0633d2e4902": {
      "model_module": "@jupyter-widgets/base",
      "model_module_version": "2.0.0",
      "model_name": "LayoutModel",
      "state": {
       "justify_content": "flex-start"
      }
     },
     "831903d5275448e6ae4577811fab9cea": {
      "model_module": "@jupyter-widgets/controls",
      "model_module_version": "2.0.0",
      "model_name": "TextModel",
      "state": {
       "layout": "IPY_MODEL_230ebc4b612e48e588da416748b7d491",
       "placeholder": "",
       "style": "IPY_MODEL_08a3418289604fa4bca1bd6ec973282b",
       "value": "500"
      }
     },
     "83235b3a9cb14a68a9c12fca53dd6ca7": {
      "model_module": "@jupyter-widgets/base",
      "model_module_version": "2.0.0",
      "model_name": "LayoutModel",
      "state": {}
     },
     "832a9993a5da4790af37621a8a47b039": {
      "model_module": "@jupyter-widgets/controls",
      "model_module_version": "2.0.0",
      "model_name": "TextStyleModel",
      "state": {
       "description_width": "50px",
       "font_size": null,
       "text_color": null
      }
     },
     "834e679555ad41d580146bbaeeb9a76b": {
      "model_module": "@jupyter-widgets/base",
      "model_module_version": "2.0.0",
      "model_name": "LayoutModel",
      "state": {
       "justify_content": "flex-start",
       "width": "60px"
      }
     },
     "83aeeca617ae4d38850631da29cb8946": {
      "model_module": "@jupyter-widgets/base",
      "model_module_version": "2.0.0",
      "model_name": "LayoutModel",
      "state": {}
     },
     "83cd5c979e0742b4afb4b1d8511b8267": {
      "model_module": "@jupyter-widgets/base",
      "model_module_version": "2.0.0",
      "model_name": "LayoutModel",
      "state": {
       "border_bottom": "1px solid transparent",
       "border_left": "1px solid transparent",
       "border_right": "1px solid transparent",
       "border_top": "1px solid transparent",
       "justify_content": "flex-start",
       "width": "99%"
      }
     },
     "84020b880472439880cf703dc2ef4464": {
      "model_module": "@jupyter-widgets/controls",
      "model_module_version": "2.0.0",
      "model_name": "VBoxModel",
      "state": {
       "children": [
        "IPY_MODEL_80cfd66bb49e4e84a40c5c56a9c59a4d",
        "IPY_MODEL_f1b90c1b9fdc45d1aba3d80fae105d0f"
       ],
       "layout": "IPY_MODEL_6ec30db2653e475cadaf53b374514a47"
      }
     },
     "840b206ac4374e5b96a29accea0f35e5": {
      "model_module": "@jupyter-widgets/controls",
      "model_module_version": "2.0.0",
      "model_name": "ButtonStyleModel",
      "state": {
       "font_family": null,
       "font_size": null,
       "font_style": null,
       "font_variant": null,
       "font_weight": null,
       "text_color": null,
       "text_decoration": null
      }
     },
     "843220a096084afe94fb18db712c9ca2": {
      "model_module": "@jupyter-widgets/controls",
      "model_module_version": "2.0.0",
      "model_name": "HTMLModel",
      "state": {
       "layout": "IPY_MODEL_db26481d55654732a3cd367ed5fcb431",
       "style": "IPY_MODEL_34c19dcb91b34d5bbb0fe13d01482cf7",
       "value": " to "
      }
     },
     "84337047b00549a3af3dfc0bbcc9d64b": {
      "model_module": "@jupyter-widgets/base",
      "model_module_version": "2.0.0",
      "model_name": "LayoutModel",
      "state": {}
     },
     "8545765bbeb04a76a7d78bf85b77fd34": {
      "model_module": "@jupyter-widgets/controls",
      "model_module_version": "2.0.0",
      "model_name": "HBoxModel",
      "state": {
       "children": [
        "IPY_MODEL_9956262a3f114cef8eac7997311460c2",
        "IPY_MODEL_52621b2f17c44760b61e081fd7038bd5"
       ],
       "layout": "IPY_MODEL_830a506d25414c249adab0633d2e4902"
      }
     },
     "85f1b8b55c3a446293d05b162767274b": {
      "model_module": "@jupyter-widgets/base",
      "model_module_version": "2.0.0",
      "model_name": "LayoutModel",
      "state": {}
     },
     "869a9a5d3bd94b809da44e4846c95916": {
      "model_module": "@jupyter-widgets/controls",
      "model_module_version": "2.0.0",
      "model_name": "TextModel",
      "state": {
       "layout": "IPY_MODEL_41dc745299b04dfaa00c594c2e7382c1",
       "placeholder": "20",
       "style": "IPY_MODEL_68cbcc33ff5b4bdc9e46455bcae590fe",
       "value": "20"
      }
     },
     "86cb79d7851f4a83974d71bed1396136": {
      "model_module": "@jupyter-widgets/controls",
      "model_module_version": "2.0.0",
      "model_name": "HTMLModel",
      "state": {
       "layout": "IPY_MODEL_8d006170c11347389a4d5758f2f05d28",
       "style": "IPY_MODEL_a364aeb134b2491d9ddccbaaa02223eb",
       "value": "3.1.4.2"
      }
     },
     "86d04ef1ebf54e11935ceb37fd87e1a0": {
      "model_module": "@jupyter-widgets/base",
      "model_module_version": "2.0.0",
      "model_name": "LayoutModel",
      "state": {
       "justify_content": "flex-start",
       "width": "60px"
      }
     },
     "86d18dcf11cb45958e36740129f1e9a6": {
      "model_module": "@jupyter-widgets/base",
      "model_module_version": "2.0.0",
      "model_name": "LayoutModel",
      "state": {
       "justify_content": "flex-start",
       "width": "90%"
      }
     },
     "876af69c262a4f129101f800a1e0c4e3": {
      "model_module": "@jupyter-widgets/controls",
      "model_module_version": "2.0.0",
      "model_name": "VBoxModel",
      "state": {
       "children": [
        "IPY_MODEL_d9cc7adb212e460b8eb0d61da16360ea",
        "IPY_MODEL_6b732fcad2394dff858179670c63da83"
       ],
       "layout": "IPY_MODEL_5fc57af1068d4c53b9e7e984f3cd4efd"
      }
     },
     "87914d7d34ec4f63a2e885ed355222ee": {
      "model_module": "@jupyter-widgets/controls",
      "model_module_version": "2.0.0",
      "model_name": "HBoxModel",
      "state": {
       "children": [
        "IPY_MODEL_0b6d50bf5b164021b7736f803127eaea",
        "IPY_MODEL_561b69d158124ba493ce7986140ba88d",
        "IPY_MODEL_7af7cf3f586942b4866e9ce98e3fb233"
       ],
       "layout": "IPY_MODEL_ce336f135fdd4ae5bb8359afdcb83c70"
      }
     },
     "87c8a6d8285741aeb45e6b7281eae9e4": {
      "model_module": "@jupyter-widgets/base",
      "model_module_version": "2.0.0",
      "model_name": "LayoutModel",
      "state": {
       "justify_content": "flex-start",
       "width": "90%"
      }
     },
     "87ffa380d0d94df29618abdde0e0b2e6": {
      "model_module": "@jupyter-widgets/controls",
      "model_module_version": "2.0.0",
      "model_name": "TextModel",
      "state": {
       "layout": "IPY_MODEL_43e9f51494844c978ccd8387ab8e1f21",
       "style": "IPY_MODEL_58e98acbeb294081b87c6089f4fb7e0c",
       "value": "Prototypes"
      }
     },
     "8811819196ec49788475ea78bef97dea": {
      "model_module": "@jupyter-widgets/controls",
      "model_module_version": "2.0.0",
      "model_name": "ButtonStyleModel",
      "state": {
       "font_family": null,
       "font_size": null,
       "font_style": null,
       "font_variant": null,
       "font_weight": null,
       "text_color": null,
       "text_decoration": null
      }
     },
     "88153916c66f4db2ad096945524494fb": {
      "model_module": "@jupyter-widgets/controls",
      "model_module_version": "2.0.0",
      "model_name": "TextModel",
      "state": {
       "layout": "IPY_MODEL_ff69dc5662354816bbfb3ec8e1765880",
       "placeholder": "20",
       "style": "IPY_MODEL_af40364b1c0e4a9abc16b700c512038d",
       "value": "20"
      }
     },
     "88153fe00a124ff48deb1264778968ea": {
      "model_module": "@jupyter-widgets/base",
      "model_module_version": "2.0.0",
      "model_name": "LayoutModel",
      "state": {}
     },
     "886c9b37238f4dceadc4a6c20c75b7b4": {
      "model_module": "@jupyter-widgets/controls",
      "model_module_version": "2.0.0",
      "model_name": "ButtonModel",
      "state": {
       "description": "Retrieve",
       "icon": "list",
       "layout": "IPY_MODEL_2094108ca2e54f5d800f98768671d804",
       "style": "IPY_MODEL_c59a8d0f836b4ab3b15189cae483b57a",
       "tooltip": "Retrieve related references"
      }
     },
     "889eebc47b91445f9903638b2d1cbd1e": {
      "model_module": "@jupyter-widgets/controls",
      "model_module_version": "2.0.0",
      "model_name": "TextStyleModel",
      "state": {
       "background": "#000000",
       "description_width": "50px",
       "font_size": null,
       "text_color": null
      }
     },
     "88c998980bb0437c878ca4b03469fb0c": {
      "model_module": "@jupyter-widgets/base",
      "model_module_version": "2.0.0",
      "model_name": "LayoutModel",
      "state": {
       "border_bottom": "1px solid transparent",
       "border_left": "1px solid transparent",
       "border_right": "1px solid transparent",
       "border_top": "1px solid transparent",
       "display": "none",
       "justify_content": "flex-start",
       "width": "99%"
      }
     },
     "88dacfb22dba49b999cdd52e22f40828": {
      "model_module": "@jupyter-widgets/controls",
      "model_module_version": "2.0.0",
      "model_name": "HTMLModel",
      "state": {
       "layout": "IPY_MODEL_625728d66f8443878bd3022de4bebe19",
       "style": "IPY_MODEL_f4939fcae01c47ad889308f4b41e03f1",
       "value": "queries,"
      }
     },
     "8900e77152df43e7975c7f7d32eafef7": {
      "model_module": "@jupyter-widgets/controls",
      "model_module_version": "2.0.0",
      "model_name": "TextStyleModel",
      "state": {
       "background": "#000000",
       "description_width": "50px",
       "font_size": null,
       "text_color": null
      }
     },
     "892ec602137f4b1d9651d8ea7b5b620a": {
      "model_module": "@jupyter-widgets/controls",
      "model_module_version": "2.0.0",
      "model_name": "HBoxModel",
      "state": {
       "children": [
        "IPY_MODEL_88153916c66f4db2ad096945524494fb",
        "IPY_MODEL_fa42a7e902624a3c9d10b5f2835bb728"
       ],
       "layout": "IPY_MODEL_eb80f8ad6e794d46ae74551305b806db"
      }
     },
     "89605aef22a947cbb5f9af5deb93449c": {
      "model_module": "@jupyter-widgets/base",
      "model_module_version": "2.0.0",
      "model_name": "LayoutModel",
      "state": {
       "border_bottom": "1px solid purple",
       "border_left": "1px solid purple",
       "border_right": "1px solid purple",
       "border_top": "1px solid purple",
       "justify_content": "flex-start",
       "width": "99%"
      }
     },
     "8963aecd7f2f44a78229ab0d181ce8db": {
      "model_module": "@jupyter-widgets/output",
      "model_module_version": "1.0.0",
      "model_name": "OutputModel",
      "state": {
       "layout": "IPY_MODEL_67417e6d7a564686894a95b0d6cc93f5"
      }
     },
     "897ee55d0d6e4303a4de812c55c09341": {
      "model_module": "@jupyter-widgets/controls",
      "model_module_version": "2.0.0",
      "model_name": "VBoxModel",
      "state": {
       "children": [
        "IPY_MODEL_ab7873d98ac74f3cb715248f27759013",
        "IPY_MODEL_785edc4f81fa4b4d80fa4b52ec75e420"
       ],
       "layout": "IPY_MODEL_9ea741e089eb45d4a65e4d8abdb6ad04"
      }
     },
     "89b7b1d499e04b2f8ae7b3550ec50906": {
      "model_module": "@jupyter-widgets/controls",
      "model_module_version": "2.0.0",
      "model_name": "VBoxModel",
      "state": {
       "children": [
        "IPY_MODEL_553a8a0a62fa46debd36dd7ba0476a3b",
        "IPY_MODEL_897ee55d0d6e4303a4de812c55c09341"
       ],
       "layout": "IPY_MODEL_1ae3a0e9600f4dfeaf74207bfc5b322a"
      }
     },
     "89cf0725e85a4fbabe183a4acd3527e5": {
      "model_module": "@jupyter-widgets/controls",
      "model_module_version": "2.0.0",
      "model_name": "ButtonStyleModel",
      "state": {
       "font_family": null,
       "font_size": null,
       "font_style": null,
       "font_variant": null,
       "font_weight": null,
       "text_color": null,
       "text_decoration": null
      }
     },
     "8a31132209e54afaba96089ad21d9c5d": {
      "model_module": "@jupyter-widgets/base",
      "model_module_version": "2.0.0",
      "model_name": "LayoutModel",
      "state": {}
     },
     "8a3ceabed8544945983cf01536569c5a": {
      "model_module": "@jupyter-widgets/base",
      "model_module_version": "2.0.0",
      "model_name": "LayoutModel",
      "state": {
       "border_bottom": "1px solid purple",
       "border_left": "1px solid purple",
       "border_right": "1px solid purple",
       "border_top": "1px solid purple",
       "justify_content": "flex-start",
       "width": "auto"
      }
     },
     "8a411590884f4c6c981bcc7537b9e627": {
      "model_module": "@jupyter-widgets/controls",
      "model_module_version": "2.0.0",
      "model_name": "HTMLStyleModel",
      "state": {
       "description_width": "",
       "font_size": null,
       "text_color": null
      }
     },
     "8a5303f0bf8e4f88b841844fe0e83b16": {
      "model_module": "@jupyter-widgets/base",
      "model_module_version": "2.0.0",
      "model_name": "LayoutModel",
      "state": {
       "justify_content": "flex-start"
      }
     },
     "8a72f1f258df462d9a1eec04d6828c21": {
      "model_module": "@jupyter-widgets/controls",
      "model_module_version": "2.0.0",
      "model_name": "TextStyleModel",
      "state": {
       "background": "transparent",
       "description_width": "50px",
       "font_size": null,
       "text_color": null
      }
     },
     "8a7a3eb3bafd4129815ebfb40094e4c0": {
      "model_module": "@jupyter-widgets/base",
      "model_module_version": "2.0.0",
      "model_name": "LayoutModel",
      "state": {
       "justify_content": "flex-start"
      }
     },
     "8a8e3d01eb764747829f8cd3671eb467": {
      "model_module": "@jupyter-widgets/controls",
      "model_module_version": "2.0.0",
      "model_name": "HTMLStyleModel",
      "state": {
       "description_width": "",
       "font_size": null,
       "text_color": null
      }
     },
     "8aab55d08b474c3a8b669c30256e8ca3": {
      "model_module": "@jupyter-widgets/output",
      "model_module_version": "1.0.0",
      "model_name": "OutputModel",
      "state": {
       "layout": "IPY_MODEL_d0cbf3c1cc6d4283ad6f7ae2c8914a5f"
      }
     },
     "8ac557ee8c55448cbff0ea75c8d4c8ac": {
      "model_module": "@jupyter-widgets/base",
      "model_module_version": "2.0.0",
      "model_name": "LayoutModel",
      "state": {
       "justify_content": "flex-start",
       "width": "90%"
      }
     },
     "8afa89ab538342c0becd78df6ebf87a8": {
      "model_module": "@jupyter-widgets/base",
      "model_module_version": "2.0.0",
      "model_name": "LayoutModel",
      "state": {
       "border_bottom": "1px solid purple",
       "border_left": "1px solid purple",
       "border_right": "1px solid purple",
       "border_top": "1px solid purple",
       "justify_content": "flex-start",
       "width": "auto"
      }
     },
     "8b0aae9afb4d41ebb780114ffc46c09a": {
      "model_module": "@jupyter-widgets/base",
      "model_module_version": "2.0.0",
      "model_name": "LayoutModel",
      "state": {
       "width": "auto"
      }
     },
     "8b1b2acbd1724f94a123b671f97bbfac": {
      "model_module": "@jupyter-widgets/base",
      "model_module_version": "2.0.0",
      "model_name": "LayoutModel",
      "state": {
       "border_bottom": "1px solid purple",
       "border_left": "1px solid purple",
       "border_right": "1px solid purple",
       "border_top": "1px solid purple",
       "justify_content": "flex-start",
       "width": "auto"
      }
     },
     "8b23899302e44642a723ad5ad8fd1da1": {
      "model_module": "@jupyter-widgets/base",
      "model_module_version": "2.0.0",
      "model_name": "LayoutModel",
      "state": {
       "border_bottom": "solid 1px gray",
       "border_left": "solid 1px gray",
       "border_right": "solid 1px gray",
       "border_top": "solid 1px gray"
      }
     },
     "8b5bf1e7cee54fb2ad99ae9a4b6aa01e": {
      "model_module": "@jupyter-widgets/base",
      "model_module_version": "2.0.0",
      "model_name": "LayoutModel",
      "state": {}
     },
     "8b5f22f509e4474596b7fdfb4d976cd9": {
      "model_module": "@jupyter-widgets/base",
      "model_module_version": "2.0.0",
      "model_name": "LayoutModel",
      "state": {}
     },
     "8bfb8c2ac91c448390553eeb19a93de2": {
      "model_module": "@jupyter-widgets/controls",
      "model_module_version": "2.0.0",
      "model_name": "ButtonStyleModel",
      "state": {
       "font_family": null,
       "font_size": null,
       "font_style": null,
       "font_variant": null,
       "font_weight": null,
       "text_color": null,
       "text_decoration": null
      }
     },
     "8c0aa87a30e8425a9d792740997512cd": {
      "model_module": "@jupyter-widgets/controls",
      "model_module_version": "2.0.0",
      "model_name": "HTMLStyleModel",
      "state": {
       "description_width": "",
       "font_size": null,
       "text_color": null
      }
     },
     "8c4e3fa693834e8a85c47b4437edbe0d": {
      "model_module": "@jupyter-widgets/base",
      "model_module_version": "2.0.0",
      "model_name": "LayoutModel",
      "state": {}
     },
     "8c68f9a8db1e41819581d1685b531069": {
      "model_module": "@jupyter-widgets/controls",
      "model_module_version": "2.0.0",
      "model_name": "HTMLModel",
      "state": {
       "layout": "IPY_MODEL_130a41aaf961489caa97ba4d5044fa9c",
       "style": "IPY_MODEL_0a9b1fec40d44fecafe33684c30f37a0",
       "value": "words:"
      }
     },
     "8c824252483846608ffa190bcb8fe850": {
      "model_module": "@jupyter-widgets/base",
      "model_module_version": "2.0.0",
      "model_name": "LayoutModel",
      "state": {}
     },
     "8c8b10e0a7a241afa061909179d15479": {
      "model_module": "@jupyter-widgets/controls",
      "model_module_version": "2.0.0",
      "model_name": "ButtonStyleModel",
      "state": {
       "font_family": null,
       "font_size": null,
       "font_style": null,
       "font_variant": null,
       "font_weight": null,
       "text_color": null,
       "text_decoration": null
      }
     },
     "8c96c935ee48455db7cea480b9333787": {
      "model_module": "@jupyter-widgets/controls",
      "model_module_version": "2.0.0",
      "model_name": "VBoxModel",
      "state": {
       "children": [
        "IPY_MODEL_03ebf955ed57410abe814626ac5fdea7",
        "IPY_MODEL_9b010ae8bc414fc9aa844980cd3040e4"
       ],
       "layout": "IPY_MODEL_fed473c0fa6d44a2a66989d2d879683d"
      }
     },
     "8cbe7d4afc024086afc0cffd61aade8b": {
      "model_module": "@jupyter-widgets/controls",
      "model_module_version": "2.0.0",
      "model_name": "HTMLStyleModel",
      "state": {
       "description_width": "",
       "font_size": null,
       "text_color": null
      }
     },
     "8d006170c11347389a4d5758f2f05d28": {
      "model_module": "@jupyter-widgets/base",
      "model_module_version": "2.0.0",
      "model_name": "LayoutModel",
      "state": {
       "border_bottom": "1px solid purple",
       "border_left": "1px solid purple",
       "border_right": "1px solid purple",
       "border_top": "1px solid purple",
       "justify_content": "flex-start",
       "width": "auto"
      }
     },
     "8d3a36fbcf1944a89ce6f93af9e30c39": {
      "model_module": "@jupyter-widgets/controls",
      "model_module_version": "2.0.0",
      "model_name": "TextStyleModel",
      "state": {
       "description_width": "",
       "font_size": null,
       "text_color": null
      }
     },
     "8d476244d8aa40769ced7c7817a7db1a": {
      "model_module": "@jupyter-widgets/base",
      "model_module_version": "2.0.0",
      "model_name": "LayoutModel",
      "state": {
       "border_bottom": "1px solid transparent",
       "border_left": "1px solid transparent",
       "border_right": "1px solid transparent",
       "border_top": "1px solid transparent",
       "display": "none",
       "justify_content": "flex-start",
       "width": "99%"
      }
     },
     "8d7b2821a5e14078b3a09533cf052a9c": {
      "model_module": "@jupyter-widgets/controls",
      "model_module_version": "2.0.0",
      "model_name": "TextStyleModel",
      "state": {
       "background": "#000000",
       "description_width": "50px",
       "font_size": null,
       "text_color": null
      }
     },
     "8daf200c4b824b52843fa229fb4ca99d": {
      "model_module": "@jupyter-widgets/controls",
      "model_module_version": "2.0.0",
      "model_name": "TextModel",
      "state": {
       "layout": "IPY_MODEL_127aef136b3249f09ffe14b9ee632bfb",
       "style": "IPY_MODEL_66f08477f3c24957b2ab160aef19083d",
       "value": "Conclusion and future applications"
      }
     },
     "8db0c11299f94f8bbf3e7a9b6377ec00": {
      "model_module": "@jupyter-widgets/controls",
      "model_module_version": "2.0.0",
      "model_name": "HTMLStyleModel",
      "state": {
       "description_width": "",
       "font_size": null,
       "text_color": null
      }
     },
     "8dfe0249a5104f3bb522cc08c92dab42": {
      "model_module": "@jupyter-widgets/controls",
      "model_module_version": "2.0.0",
      "model_name": "ButtonStyleModel",
      "state": {
       "font_family": null,
       "font_size": null,
       "font_style": null,
       "font_variant": null,
       "font_weight": null,
       "text_color": null,
       "text_decoration": null
      }
     },
     "8e0b71b7b9a94f70ae23a6d27e860f60": {
      "model_module": "@jupyter-widgets/base",
      "model_module_version": "2.0.0",
      "model_name": "LayoutModel",
      "state": {}
     },
     "8e13cbac21b6441cb10f2a4124d30ca4": {
      "model_module": "@jupyter-widgets/controls",
      "model_module_version": "2.0.0",
      "model_name": "ButtonModel",
      "state": {
       "description": "Summarize",
       "icon": "rocket",
       "layout": "IPY_MODEL_5cc4006ee91b4f9a8152635fc17b076b",
       "style": "IPY_MODEL_49eca79031e24d38ad0873671609e464",
       "tooltip": "Summarize this section based on the topic and intro"
      }
     },
     "8e2342e03e4542a6b158177406cbfdba": {
      "model_module": "@jupyter-widgets/controls",
      "model_module_version": "2.0.0",
      "model_name": "HTMLModel",
      "state": {
       "layout": "IPY_MODEL_6be3178add3648989f2b49ffa4b500b1",
       "style": "IPY_MODEL_9028ff913d3244599557e9cdfd7e5747",
       "value": "3.1.4.1"
      }
     },
     "8e4832b0b31a4cb09abb0b4a5e0bafb5": {
      "model_module": "@jupyter-widgets/controls",
      "model_module_version": "2.0.0",
      "model_name": "HTMLStyleModel",
      "state": {
       "description_width": "",
       "font_size": null,
       "text_color": null
      }
     },
     "8e6e2eb5f3314a4f8f2b08c08aae4987": {
      "model_module": "@jupyter-widgets/base",
      "model_module_version": "2.0.0",
      "model_name": "LayoutModel",
      "state": {
       "width": "50%"
      }
     },
     "8e88c4a63b6a469bbfc9691d015c2c9d": {
      "model_module": "@jupyter-widgets/controls",
      "model_module_version": "2.0.0",
      "model_name": "HTMLStyleModel",
      "state": {
       "description_width": "",
       "font_size": null,
       "text_color": null
      }
     },
     "8eac2de45d594e199a658a434f012654": {
      "model_module": "@jupyter-widgets/controls",
      "model_module_version": "2.0.0",
      "model_name": "HTMLModel",
      "state": {
       "layout": "IPY_MODEL_6ab040e42ee74e758b96d41775c4ab74",
       "style": "IPY_MODEL_b94c0868f8cf40db8bb21b1463c92cb2"
      }
     },
     "8eee45d8dadf41ff8739dcf124fb2f8d": {
      "model_module": "@jupyter-widgets/base",
      "model_module_version": "2.0.0",
      "model_name": "LayoutModel",
      "state": {
       "width": "50%"
      }
     },
     "8fba69a831c24746b98dda5875dab5a0": {
      "model_module": "@jupyter-widgets/base",
      "model_module_version": "2.0.0",
      "model_name": "LayoutModel",
      "state": {}
     },
     "8fddeb451f4745dc9fa1ceb29b6b9103": {
      "model_module": "@jupyter-widgets/controls",
      "model_module_version": "2.0.0",
      "model_name": "TextModel",
      "state": {
       "description": "Prompt",
       "layout": "IPY_MODEL_b5c82c4af7394d919327d3889f03ba04",
       "placeholder": "",
       "style": "IPY_MODEL_91e555a7e248477d838f09f9fb74fbc5"
      }
     },
     "90002fef25954f28a1049159061de3cc": {
      "model_module": "@jupyter-widgets/base",
      "model_module_version": "2.0.0",
      "model_name": "LayoutModel",
      "state": {
       "width": "50%"
      }
     },
     "901be33698d74524b965a9ec9962ff0a": {
      "model_module": "@jupyter-widgets/base",
      "model_module_version": "2.0.0",
      "model_name": "LayoutModel",
      "state": {
       "width": "50%"
      }
     },
     "901f93bd814547dabde7fa47cfce093d": {
      "model_module": "@jupyter-widgets/controls",
      "model_module_version": "2.0.0",
      "model_name": "TextStyleModel",
      "state": {
       "background": "transparent",
       "description_width": "50px",
       "font_size": null,
       "text_color": null
      }
     },
     "9028ff913d3244599557e9cdfd7e5747": {
      "model_module": "@jupyter-widgets/controls",
      "model_module_version": "2.0.0",
      "model_name": "HTMLStyleModel",
      "state": {
       "description_width": "",
       "font_size": null,
       "text_color": null
      }
     },
     "90b4440e06174a489afc1a25ef6e2eca": {
      "model_module": "@jupyter-widgets/controls",
      "model_module_version": "2.0.0",
      "model_name": "TextModel",
      "state": {
       "layout": "IPY_MODEL_3275b5e2a58f45c6873064a91411072d",
       "placeholder": "",
       "style": "IPY_MODEL_fa16708ab31e44fb8bc3de80e2fc6915",
       "value": "500"
      }
     },
     "90dcf689212542ba83be18847cf4e752": {
      "model_module": "@jupyter-widgets/controls",
      "model_module_version": "2.0.0",
      "model_name": "HTMLModel",
      "state": {
       "layout": "IPY_MODEL_79ef7fdd714045489915060974dd8783",
       "style": "IPY_MODEL_602aa17ad4b9483aab1ba3bd4e691f21",
       "value": " to "
      }
     },
     "91153e57234241d383eab52e30a1870b": {
      "model_module": "@jupyter-widgets/controls",
      "model_module_version": "2.0.0",
      "model_name": "VBoxModel",
      "state": {
       "children": [
        "IPY_MODEL_1245347034b54adfa2e5c39c3452e5d8",
        "IPY_MODEL_afb2ae9ad0f14f818befde5467f4ec16"
       ],
       "layout": "IPY_MODEL_b24ed42339bf442d900e8fd82c769f83"
      }
     },
     "9135059e1a0b431f9711c015925a120b": {
      "model_module": "@jupyter-widgets/base",
      "model_module_version": "2.0.0",
      "model_name": "LayoutModel",
      "state": {
       "height": "50%",
       "width": "50%"
      }
     },
     "91603bdbdfcc42dab338fb6f91dea68d": {
      "model_module": "@jupyter-widgets/base",
      "model_module_version": "2.0.0",
      "model_name": "LayoutModel",
      "state": {
       "border_bottom": "1px solid transparent",
       "border_left": "1px solid transparent",
       "border_right": "1px solid transparent",
       "border_top": "1px solid transparent",
       "display": "none",
       "justify_content": "flex-start",
       "width": "99%"
      }
     },
     "91b90ec2833846b29414f866f6151118": {
      "model_module": "@jupyter-widgets/controls",
      "model_module_version": "2.0.0",
      "model_name": "TextStyleModel",
      "state": {
       "background": "transparent",
       "description_width": "50px",
       "font_size": null,
       "text_color": null
      }
     },
     "91e555a7e248477d838f09f9fb74fbc5": {
      "model_module": "@jupyter-widgets/controls",
      "model_module_version": "2.0.0",
      "model_name": "TextStyleModel",
      "state": {
       "description_width": "50px",
       "font_size": null,
       "text_color": null
      }
     },
     "9231ac9a57304f08806995f01c38b149": {
      "model_module": "@jupyter-widgets/controls",
      "model_module_version": "2.0.0",
      "model_name": "HBoxModel",
      "state": {
       "children": [
        "IPY_MODEL_2a91d60730df40c1803664b0d5d8703e",
        "IPY_MODEL_f02ba8afd6bd4254bd5a63c24b88e4db"
       ],
       "layout": "IPY_MODEL_e77804a4d8a64ebfaefa1b1f3dfc960a"
      }
     },
     "9242fbf96a0d45faaf01d4f60481490c": {
      "model_module": "@jupyter-widgets/base",
      "model_module_version": "2.0.0",
      "model_name": "LayoutModel",
      "state": {}
     },
     "9297b26e6fd5434facb426f95a943d00": {
      "model_module": "@jupyter-widgets/controls",
      "model_module_version": "2.0.0",
      "model_name": "HBoxModel",
      "state": {
       "children": [
        "IPY_MODEL_5e5e41d4fd7f46f18514d64754d383cb",
        "IPY_MODEL_2313deff43364e489870a3afa96e9f86"
       ],
       "layout": "IPY_MODEL_fa0fcc295ff44e058fa6f42f383995a7"
      }
     },
     "92cf2b4897de49128b7ef25cd77184e3": {
      "model_module": "@jupyter-widgets/controls",
      "model_module_version": "2.0.0",
      "model_name": "VBoxModel",
      "state": {
       "children": [
        "IPY_MODEL_ee52eb0f22004d43ac37c7f18ca67046",
        "IPY_MODEL_f4abae6bd50e4e7fae4056ec718bcafc"
       ],
       "layout": "IPY_MODEL_2c090759be904994a5be7299cfc4e7a8"
      }
     },
     "92de2768387e4c17b000807d7ada29d7": {
      "model_module": "@jupyter-widgets/controls",
      "model_module_version": "2.0.0",
      "model_name": "TextModel",
      "state": {
       "layout": "IPY_MODEL_5d51a9739be64eaf94b701fe74092ec9",
       "placeholder": "20",
       "style": "IPY_MODEL_82e51201c6bc4da7b06233585ce98aad",
       "value": "20"
      }
     },
     "9315b24fbf9843768b9cc851f966cc97": {
      "model_module": "@jupyter-widgets/controls",
      "model_module_version": "2.0.0",
      "model_name": "HTMLStyleModel",
      "state": {
       "description_width": "",
       "font_size": null,
       "text_color": null
      }
     },
     "93d79789438b4cf6af1b659dc902aa9d": {
      "model_module": "@jupyter-widgets/controls",
      "model_module_version": "2.0.0",
      "model_name": "ButtonModel",
      "state": {
       "description": "Retrieve",
       "icon": "list",
       "layout": "IPY_MODEL_8b0aae9afb4d41ebb780114ffc46c09a",
       "style": "IPY_MODEL_995a3a2abf82444dabf6ded731c40a3a",
       "tooltip": "Retrieve related references"
      }
     },
     "9434522dfff54bad8f2743c44c055b69": {
      "model_module": "@jupyter-widgets/base",
      "model_module_version": "2.0.0",
      "model_name": "LayoutModel",
      "state": {
       "border_bottom": "1px solid purple",
       "border_left": "1px solid purple",
       "border_right": "1px solid purple",
       "border_top": "1px solid purple",
       "justify_content": "flex-start",
       "width": "99%"
      }
     },
     "94da3f17f073478aa8d284a8a134be3e": {
      "model_module": "@jupyter-widgets/controls",
      "model_module_version": "2.0.0",
      "model_name": "ButtonModel",
      "state": {
       "description": "Retrieve",
       "icon": "list",
       "layout": "IPY_MODEL_67a583bacc914a5e9b76c6092bf6f789",
       "style": "IPY_MODEL_2d68df57dc98443ca595cf329fd2b33e",
       "tooltip": "Retrieve related references"
      }
     },
     "94e766a1721b41ab98dff8b22206f512": {
      "model_module": "@jupyter-widgets/controls",
      "model_module_version": "2.0.0",
      "model_name": "TextModel",
      "state": {
       "layout": "IPY_MODEL_91603bdbdfcc42dab338fb6f91dea68d",
       "style": "IPY_MODEL_7f1350ead585452fb73bc4b984070502",
       "value": "Understanding how textual explanations can be generated from AI models for liver cancer analysis."
      }
     },
     "94e7c9e85fc841e7a4fcfbae73961a64": {
      "model_module": "@jupyter-widgets/controls",
      "model_module_version": "2.0.0",
      "model_name": "HBoxModel",
      "state": {
       "children": [
        "IPY_MODEL_2012ba23ce6a431ea348dd39f4686c30",
        "IPY_MODEL_0c9d0bb65a114816b500d5f54ddaa0c9"
       ],
       "layout": "IPY_MODEL_d0c5dc6e446642c1909d6d22bc0ae7c9"
      }
     },
     "9525d47edac344eda1434edc49fa2a53": {
      "model_module": "@jupyter-widgets/controls",
      "model_module_version": "2.0.0",
      "model_name": "ButtonModel",
      "state": {
       "description": "Translate",
       "icon": "language",
       "layout": "IPY_MODEL_5a1eefa4d1944cad85721d76c24b8aba",
       "style": "IPY_MODEL_4bbeaada494945619aa3e667173d8c3f",
       "tooltip": "Click and translate the details for this section"
      }
     },
     "95410adae9154ef6bec050f4fb984ac0": {
      "model_module": "@jupyter-widgets/controls",
      "model_module_version": "2.0.0",
      "model_name": "HTMLStyleModel",
      "state": {
       "description_width": "",
       "font_size": null,
       "text_color": null
      }
     },
     "954591f2aa4344d19aa1aad9d4ef8cf0": {
      "model_module": "@jupyter-widgets/base",
      "model_module_version": "2.0.0",
      "model_name": "LayoutModel",
      "state": {}
     },
     "957047070ccc4cdf8d3baac6253c9226": {
      "model_module": "@jupyter-widgets/base",
      "model_module_version": "2.0.0",
      "model_name": "LayoutModel",
      "state": {
       "border_bottom": "1px solid purple",
       "border_left": "1px solid purple",
       "border_right": "1px solid purple",
       "border_top": "1px solid purple",
       "justify_content": "flex-start",
       "width": "99%"
      }
     },
     "9579738f1d34438f8ebfa708989a33cd": {
      "model_module": "@jupyter-widgets/base",
      "model_module_version": "2.0.0",
      "model_name": "LayoutModel",
      "state": {
       "border_bottom": "solid 1px gray",
       "border_left": "solid 1px gray",
       "border_right": "solid 1px gray",
       "border_top": "solid 1px gray"
      }
     },
     "95e309629a414fa4833b0ab5328860f4": {
      "model_module": "@jupyter-widgets/controls",
      "model_module_version": "2.0.0",
      "model_name": "HTMLModel",
      "state": {
       "layout": "IPY_MODEL_58b07e2333044a0bb3f496289a450c0d",
       "style": "IPY_MODEL_59053e9c963b404d81ab39d67be8b5a6",
       "value": "words:"
      }
     },
     "9620b7165e71433f9d8763c0de7f5f0d": {
      "model_module": "@jupyter-widgets/base",
      "model_module_version": "2.0.0",
      "model_name": "LayoutModel",
      "state": {
       "justify_content": "flex-start"
      }
     },
     "963f435c81ff4269a849a2c3f5959af9": {
      "model_module": "@jupyter-widgets/controls",
      "model_module_version": "2.0.0",
      "model_name": "TextStyleModel",
      "state": {
       "background": "#000000",
       "description_width": "50px",
       "font_size": null,
       "text_color": null
      }
     },
     "96602c841a7a412fb66d8b41493d7bdd": {
      "model_module": "@jupyter-widgets/base",
      "model_module_version": "2.0.0",
      "model_name": "LayoutModel",
      "state": {
       "justify_content": "flex-start"
      }
     },
     "966e6fc2ca1a4c95ab7bcee620654cda": {
      "model_module": "@jupyter-widgets/controls",
      "model_module_version": "2.0.0",
      "model_name": "HBoxModel",
      "state": {
       "children": [
        "IPY_MODEL_817de89757104b4d95562abd9a5d6202",
        "IPY_MODEL_032c4cf9b5ab42a18262476798b7b581"
       ],
       "layout": "IPY_MODEL_cf4307b522b941bab4601d97eee1e5ea"
      }
     },
     "96a8bc0c6e534c358538448328d89473": {
      "model_module": "@jupyter-widgets/controls",
      "model_module_version": "2.0.0",
      "model_name": "HBoxModel",
      "state": {
       "children": [
        "IPY_MODEL_e7c32afc23914d2f8dcd761c22916e61",
        "IPY_MODEL_6f61ae5e258e43ac890a3714a854b816"
       ],
       "layout": "IPY_MODEL_a37f4d987b3040929aedadfb8705224f"
      }
     },
     "96ac8a0063ff4632a3cd27c6e41c3894": {
      "model_module": "@jupyter-widgets/base",
      "model_module_version": "2.0.0",
      "model_name": "LayoutModel",
      "state": {}
     },
     "96eeb77e386d4a7882a2d2c95229acf4": {
      "model_module": "@jupyter-widgets/controls",
      "model_module_version": "2.0.0",
      "model_name": "VBoxModel",
      "state": {
       "children": [
        "IPY_MODEL_08a7075788d549f3b3151bd2cd36aed1",
        "IPY_MODEL_9e17f2d47da2461f9e39846976f84e94"
       ],
       "layout": "IPY_MODEL_bd8c2d17a77e4d38b641d1aabc9f69e3"
      }
     },
     "9716fac775984c6fbe639013c583a92b": {
      "model_module": "@jupyter-widgets/controls",
      "model_module_version": "2.0.0",
      "model_name": "ButtonStyleModel",
      "state": {
       "font_family": null,
       "font_size": null,
       "font_style": null,
       "font_variant": null,
       "font_weight": null,
       "text_color": null,
       "text_decoration": null
      }
     },
     "9730fabd722641c1b6561f08d0e88219": {
      "model_module": "@jupyter-widgets/base",
      "model_module_version": "2.0.0",
      "model_name": "LayoutModel",
      "state": {
       "border_bottom": "1px solid purple",
       "border_left": "1px solid purple",
       "border_right": "1px solid purple",
       "border_top": "1px solid purple",
       "justify_content": "flex-start",
       "width": "99%"
      }
     },
     "97b7329027b5474ab4f6cc3fa44420e0": {
      "model_module": "@jupyter-widgets/controls",
      "model_module_version": "2.0.0",
      "model_name": "HTMLModel",
      "state": {
       "layout": "IPY_MODEL_8c824252483846608ffa190bcb8fe850",
       "style": "IPY_MODEL_6725fb8804404641a634d28fda689271",
       "value": " to "
      }
     },
     "9803722a89d74585b9083dbf6805d366": {
      "model_module": "@jupyter-widgets/base",
      "model_module_version": "2.0.0",
      "model_name": "LayoutModel",
      "state": {}
     },
     "981e5a35632d46eeaaad390d1877f5bf": {
      "model_module": "@jupyter-widgets/base",
      "model_module_version": "2.0.0",
      "model_name": "LayoutModel",
      "state": {
       "width": "auto"
      }
     },
     "98a73da70c1e4799922bebd3f91c58ca": {
      "model_module": "@jupyter-widgets/controls",
      "model_module_version": "2.0.0",
      "model_name": "HBoxModel",
      "state": {
       "children": [
        "IPY_MODEL_31d71f3b182547eeaa7ca01b6934968b",
        "IPY_MODEL_08bb42ed085947ad9d28a98536346049"
       ],
       "layout": "IPY_MODEL_96602c841a7a412fb66d8b41493d7bdd"
      }
     },
     "990e95a29b8946e7bda0a7ec2a20baa8": {
      "model_module": "@jupyter-widgets/controls",
      "model_module_version": "2.0.0",
      "model_name": "ButtonStyleModel",
      "state": {
       "font_family": null,
       "font_size": null,
       "font_style": null,
       "font_variant": null,
       "font_weight": null,
       "text_color": null,
       "text_decoration": null
      }
     },
     "9956262a3f114cef8eac7997311460c2": {
      "model_module": "@jupyter-widgets/controls",
      "model_module_version": "2.0.0",
      "model_name": "HBoxModel",
      "state": {
       "children": [
        "IPY_MODEL_a7137ffa46734aed814d733140dea009",
        "IPY_MODEL_6758750e437444b5a3bf7cb6779f9c59"
       ],
       "layout": "IPY_MODEL_f0769cee8142425e84c8e803321d829f"
      }
     },
     "995a3a2abf82444dabf6ded731c40a3a": {
      "model_module": "@jupyter-widgets/controls",
      "model_module_version": "2.0.0",
      "model_name": "ButtonStyleModel",
      "state": {
       "font_family": null,
       "font_size": null,
       "font_style": null,
       "font_variant": null,
       "font_weight": null,
       "text_color": null,
       "text_decoration": null
      }
     },
     "9989542dca61414baacdef404623359d": {
      "model_module": "@jupyter-widgets/controls",
      "model_module_version": "2.0.0",
      "model_name": "HBoxModel",
      "state": {
       "children": [
        "IPY_MODEL_dbfa206b975c4c35bf970be5ef170aef",
        "IPY_MODEL_01a58463c4c341bd8ff51edbc5795087"
       ],
       "layout": "IPY_MODEL_0291e632582e43319c48ee1e4b75af5c"
      }
     },
     "99cb9c6c30f949399f11752b0a7b1bea": {
      "model_module": "@jupyter-widgets/base",
      "model_module_version": "2.0.0",
      "model_name": "LayoutModel",
      "state": {}
     },
     "99f853f421ca45849df3e5eb5cca6f4c": {
      "model_module": "@jupyter-widgets/controls",
      "model_module_version": "2.0.0",
      "model_name": "HTMLModel",
      "state": {
       "layout": "IPY_MODEL_41173b8927624692bd772f3fa728335d",
       "style": "IPY_MODEL_9315b24fbf9843768b9cc851f966cc97",
       "value": " to "
      }
     },
     "9a141f6148a44f158c70241c67a36b71": {
      "model_module": "@jupyter-widgets/base",
      "model_module_version": "2.0.0",
      "model_name": "LayoutModel",
      "state": {
       "border_bottom": "1px solid purple",
       "border_left": "1px solid purple",
       "border_right": "1px solid purple",
       "border_top": "1px solid purple",
       "justify_content": "flex-start",
       "width": "99%"
      }
     },
     "9a3b4a74bad647a6835cce62b8b1fbfd": {
      "model_module": "@jupyter-widgets/base",
      "model_module_version": "2.0.0",
      "model_name": "LayoutModel",
      "state": {
       "border_bottom": "solid 1px gray",
       "border_left": "solid 1px gray",
       "border_right": "solid 1px gray",
       "border_top": "solid 1px gray"
      }
     },
     "9a50d91393fc4369bee1294d61a454f7": {
      "model_module": "@jupyter-widgets/controls",
      "model_module_version": "2.0.0",
      "model_name": "TextStyleModel",
      "state": {
       "description_width": "50px",
       "font_size": null,
       "text_color": null
      }
     },
     "9a5fc3054c2e457eb5bad44a4ce54459": {
      "model_module": "@jupyter-widgets/controls",
      "model_module_version": "2.0.0",
      "model_name": "HTMLModel",
      "state": {
       "layout": "IPY_MODEL_67a77099aed44d90ab2d8eb1ba5e6960",
       "style": "IPY_MODEL_5de8f511755d4010a4aae5c53f50f510",
       "value": "queries,"
      }
     },
     "9a77c6763f42429788ae47d67080f73d": {
      "model_module": "@jupyter-widgets/controls",
      "model_module_version": "2.0.0",
      "model_name": "TextStyleModel",
      "state": {
       "background": "transparent",
       "description_width": "50px",
       "font_size": null,
       "text_color": null
      }
     },
     "9b010ae8bc414fc9aa844980cd3040e4": {
      "model_module": "@jupyter-widgets/controls",
      "model_module_version": "2.0.0",
      "model_name": "HTMLModel",
      "state": {
       "layout": "IPY_MODEL_0a1ea1113fbb4226be026598eda7c584",
       "style": "IPY_MODEL_00a4797cbc7d4a7e9e85de60817906bc"
      }
     },
     "9b3425ff3ba647239c2aabba8b4e1777": {
      "model_module": "@jupyter-widgets/controls",
      "model_module_version": "2.0.0",
      "model_name": "TextModel",
      "state": {
       "layout": "IPY_MODEL_1233ac581b614ffbb315586f82062578",
       "placeholder": "",
       "style": "IPY_MODEL_77cc8d52df5b4a809e558e252ee74e1d",
       "value": "500"
      }
     },
     "9b474126a2944fe6b06e4e00dfd40704": {
      "model_module": "@jupyter-widgets/base",
      "model_module_version": "2.0.0",
      "model_name": "LayoutModel",
      "state": {}
     },
     "9b8fc68ecb8d428387658aa7a47958b6": {
      "model_module": "@jupyter-widgets/controls",
      "model_module_version": "2.0.0",
      "model_name": "ButtonModel",
      "state": {
       "description": "Translate",
       "icon": "language",
       "layout": "IPY_MODEL_b14d28fb160740efb2ea4d8c66737495",
       "style": "IPY_MODEL_6e24c5da00004a7daa3ed5444fe35f2b",
       "tooltip": "Click and translate the details for this section"
      }
     },
     "9b952e367acd4253a7009b88a9fa31ef": {
      "model_module": "@jupyter-widgets/base",
      "model_module_version": "2.0.0",
      "model_name": "LayoutModel",
      "state": {
       "justify_content": "flex-start",
       "width": "40px"
      }
     },
     "9b9dc676f7174323b7820952a676cca9": {
      "model_module": "@jupyter-widgets/controls",
      "model_module_version": "2.0.0",
      "model_name": "HBoxModel",
      "state": {
       "children": [
        "IPY_MODEL_d3f947e65ead4eb89bbf1d7a53e90988",
        "IPY_MODEL_bd6fa834c6664d0f8feb409bc5bd0c00"
       ],
       "layout": "IPY_MODEL_9b474126a2944fe6b06e4e00dfd40704"
      }
     },
     "9ba7c4ef25e64d41bf8f94b92b686cf4": {
      "model_module": "@jupyter-widgets/controls",
      "model_module_version": "2.0.0",
      "model_name": "HBoxModel",
      "state": {
       "children": [
        "IPY_MODEL_252e9cb3832d4dd1b2600872dc93cd8b",
        "IPY_MODEL_14ea5b7bf8ed4b73b31ca4e5c758cfb0"
       ],
       "layout": "IPY_MODEL_6b6618c764dc42aebc16829fa68aa41b"
      }
     },
     "9be550010b2348e6b4a1b7fe41795ecd": {
      "model_module": "@jupyter-widgets/base",
      "model_module_version": "2.0.0",
      "model_name": "LayoutModel",
      "state": {
       "justify_content": "flex-start",
       "width": "60px"
      }
     },
     "9beaa9fd85434482ab17e3aebe175acd": {
      "model_module": "@jupyter-widgets/controls",
      "model_module_version": "2.0.0",
      "model_name": "TextStyleModel",
      "state": {
       "description_width": "",
       "font_size": null,
       "text_color": null
      }
     },
     "9bf5fabfb1fa4142884478469d54f2f6": {
      "model_module": "@jupyter-widgets/base",
      "model_module_version": "2.0.0",
      "model_name": "LayoutModel",
      "state": {}
     },
     "9c08f186b85d4f0d9e5101e153d0a3db": {
      "model_module": "@jupyter-widgets/controls",
      "model_module_version": "2.0.0",
      "model_name": "ButtonModel",
      "state": {
       "description": "Summarize",
       "icon": "rocket",
       "layout": "IPY_MODEL_3e3e9407c04f48648561798af81472c1",
       "style": "IPY_MODEL_f51a3a6138714f50830fb3be9d1db88e",
       "tooltip": "Summarize this section based on the topic and intro"
      }
     },
     "9c76ca3083d3498e8272e77088c5c575": {
      "model_module": "@jupyter-widgets/base",
      "model_module_version": "2.0.0",
      "model_name": "LayoutModel",
      "state": {}
     },
     "9d013e2c71f04ed3bb66044583e4f2ca": {
      "model_module": "@jupyter-widgets/controls",
      "model_module_version": "2.0.0",
      "model_name": "TextModel",
      "state": {
       "description": "Prompt",
       "layout": "IPY_MODEL_6824504252464fb59eb9c9aae04ab621",
       "placeholder": "",
       "style": "IPY_MODEL_c633350802d441d6b0bf6e815ae189f6"
      }
     },
     "9da5e1aa956a4d00a7929c4f0f78693f": {
      "model_module": "@jupyter-widgets/controls",
      "model_module_version": "2.0.0",
      "model_name": "HBoxModel",
      "state": {
       "children": [
        "IPY_MODEL_efb458d0b8b24a6493ca1d9ba7d705e5",
        "IPY_MODEL_d1ccce518e8647ab8febddc3cecbf327"
       ],
       "layout": "IPY_MODEL_afc6427e4db746c286b786b018437eaf"
      }
     },
     "9db85c79f9554a1b9c971fd7ebf0c72a": {
      "model_module": "@jupyter-widgets/controls",
      "model_module_version": "2.0.0",
      "model_name": "HTMLModel",
      "state": {
       "layout": "IPY_MODEL_2f8292fe5e9a411a96316942b32a105d",
       "style": "IPY_MODEL_07243e9be1d548f4ac566e9c58113bd0",
       "value": "2"
      }
     },
     "9dd3411192414cde828fab1d89639075": {
      "model_module": "@jupyter-widgets/base",
      "model_module_version": "2.0.0",
      "model_name": "LayoutModel",
      "state": {}
     },
     "9e17f2d47da2461f9e39846976f84e94": {
      "model_module": "@jupyter-widgets/controls",
      "model_module_version": "2.0.0",
      "model_name": "VBoxModel",
      "state": {
       "children": [
        "IPY_MODEL_9989542dca61414baacdef404623359d",
        "IPY_MODEL_a9f8c979ead04adfa905dc1e2b9ee64e"
       ],
       "layout": "IPY_MODEL_50232cb733d345a1bf100ec97a4461b3"
      }
     },
     "9e1ac6fa24c44c5aa38800ac468e7618": {
      "model_module": "@jupyter-widgets/controls",
      "model_module_version": "2.0.0",
      "model_name": "TextStyleModel",
      "state": {
       "background": "transparent",
       "description_width": "50px",
       "font_size": null,
       "text_color": null
      }
     },
     "9e4aa29edd8646299e0dc98ddce9d7b1": {
      "model_module": "@jupyter-widgets/controls",
      "model_module_version": "2.0.0",
      "model_name": "HTMLModel",
      "state": {
       "layout": "IPY_MODEL_ee12858b7210411b9e41c9e382784e96",
       "style": "IPY_MODEL_41a5168d82d14cc9829ec10bc036e62e",
       "value": " to "
      }
     },
     "9e5d5506c3a14ca7ae87d95ef547143d": {
      "model_module": "@jupyter-widgets/base",
      "model_module_version": "2.0.0",
      "model_name": "LayoutModel",
      "state": {}
     },
     "9e5e43350b1f43a4a36354f5331f2bc0": {
      "model_module": "@jupyter-widgets/controls",
      "model_module_version": "2.0.0",
      "model_name": "HBoxModel",
      "state": {
       "children": [
        "IPY_MODEL_a821805fbe024999b0f04660197de138",
        "IPY_MODEL_f1f2c90d03f0459fbbd86744e8714914"
       ],
       "layout": "IPY_MODEL_9f8027b1731149c985ed81c9b55c0f61"
      }
     },
     "9e8361d9110b409a9d1a5a58a24833a7": {
      "model_module": "@jupyter-widgets/base",
      "model_module_version": "2.0.0",
      "model_name": "LayoutModel",
      "state": {}
     },
     "9ea741e089eb45d4a65e4d8abdb6ad04": {
      "model_module": "@jupyter-widgets/base",
      "model_module_version": "2.0.0",
      "model_name": "LayoutModel",
      "state": {
       "display": "none"
      }
     },
     "9eeaf1e1672242f9a72879b07909658b": {
      "model_module": "@jupyter-widgets/base",
      "model_module_version": "2.0.0",
      "model_name": "LayoutModel",
      "state": {
       "border_bottom": "1px solid transparent",
       "border_left": "1px solid transparent",
       "border_right": "1px solid transparent",
       "border_top": "1px solid transparent",
       "justify_content": "flex-start",
       "width": "99%"
      }
     },
     "9efdb81cf66f480f8ed1fd8c19c26032": {
      "model_module": "@jupyter-widgets/controls",
      "model_module_version": "2.0.0",
      "model_name": "HBoxModel",
      "state": {
       "children": [
        "IPY_MODEL_67df2098c4f94a52a1144ea9adb7b84c",
        "IPY_MODEL_7b061e35352345ab96ff89d1e81b59a1"
       ],
       "layout": "IPY_MODEL_f54c6d784b8347fab3496921df25162b"
      }
     },
     "9f8027b1731149c985ed81c9b55c0f61": {
      "model_module": "@jupyter-widgets/base",
      "model_module_version": "2.0.0",
      "model_name": "LayoutModel",
      "state": {}
     },
     "9f899821d6854e98b0d8e3a1ca2c89be": {
      "model_module": "@jupyter-widgets/base",
      "model_module_version": "2.0.0",
      "model_name": "LayoutModel",
      "state": {}
     },
     "9ff2450763b84963a8b1f38ea5fd10c8": {
      "model_module": "@jupyter-widgets/controls",
      "model_module_version": "2.0.0",
      "model_name": "VBoxModel",
      "state": {
       "children": [
        "IPY_MODEL_56ef484a085f47ff8797a92177564340",
        "IPY_MODEL_b27fb63d8c3a4c13af4efddebc6869fe"
       ],
       "layout": "IPY_MODEL_99cb9c6c30f949399f11752b0a7b1bea"
      }
     },
     "a038566017584211879ed69cb924b5a2": {
      "model_module": "@jupyter-widgets/controls",
      "model_module_version": "2.0.0",
      "model_name": "VBoxModel",
      "state": {
       "children": [
        "IPY_MODEL_b3581193352a4da9bb58d71658a73dd9",
        "IPY_MODEL_449050646a33429691a94f26c430e31d"
       ],
       "layout": "IPY_MODEL_16a02c9334b343af80bb43420344c3ca"
      }
     },
     "a0596eb9a37343c2b042532971271456": {
      "model_module": "@jupyter-widgets/base",
      "model_module_version": "2.0.0",
      "model_name": "LayoutModel",
      "state": {}
     },
     "a08d92ae95874e9a949dbba7cffaefec": {
      "model_module": "@jupyter-widgets/controls",
      "model_module_version": "2.0.0",
      "model_name": "TextStyleModel",
      "state": {
       "description_width": "",
       "font_size": null,
       "text_color": null
      }
     },
     "a0a1136b49d445cca5fe5950c5a104c3": {
      "model_module": "@jupyter-widgets/controls",
      "model_module_version": "2.0.0",
      "model_name": "ButtonStyleModel",
      "state": {
       "font_family": null,
       "font_size": null,
       "font_style": null,
       "font_variant": null,
       "font_weight": null,
       "text_color": null,
       "text_decoration": null
      }
     },
     "a1ae0ee527d547ec9f78d79bb3885bd6": {
      "model_module": "@jupyter-widgets/controls",
      "model_module_version": "2.0.0",
      "model_name": "TextModel",
      "state": {
       "layout": "IPY_MODEL_82bbd0c7a87f42329b54adf3555ee298",
       "placeholder": "20",
       "style": "IPY_MODEL_00f29a9019ed4c87b57eccc9b918b5da",
       "value": "20"
      }
     },
     "a1e6882128da452f8033286bead0d3b0": {
      "model_module": "@jupyter-widgets/controls",
      "model_module_version": "2.0.0",
      "model_name": "ButtonModel",
      "state": {
       "description": "Summarize",
       "icon": "rocket",
       "layout": "IPY_MODEL_8b0aae9afb4d41ebb780114ffc46c09a",
       "style": "IPY_MODEL_1c77a2a90525470887a4a75b1b8d1080",
       "tooltip": "Summarize this section based on the topic and intro"
      }
     },
     "a201de2a0ece42dfb071ffab7b425d45": {
      "model_module": "@jupyter-widgets/controls",
      "model_module_version": "2.0.0",
      "model_name": "TextStyleModel",
      "state": {
       "description_width": "",
       "font_size": null,
       "text_color": null
      }
     },
     "a219d36ed6844d6c82007f3ec4c280f8": {
      "model_module": "@jupyter-widgets/controls",
      "model_module_version": "2.0.0",
      "model_name": "HTMLStyleModel",
      "state": {
       "description_width": "",
       "font_size": null,
       "text_color": null
      }
     },
     "a22eae82b8f44d0bb6a79aef48ef4ba4": {
      "model_module": "@jupyter-widgets/controls",
      "model_module_version": "2.0.0",
      "model_name": "HTMLStyleModel",
      "state": {
       "description_width": "",
       "font_size": null,
       "text_color": null
      }
     },
     "a28830a3b0e24a2d829acca41094a19f": {
      "model_module": "@jupyter-widgets/controls",
      "model_module_version": "2.0.0",
      "model_name": "HTMLModel",
      "state": {
       "layout": "IPY_MODEL_8afa89ab538342c0becd78df6ebf87a8",
       "style": "IPY_MODEL_e2543badf83f4c009bafcd297027c4c3",
       "value": "3.2.2"
      }
     },
     "a2b39442e9674f7db6521664650741dc": {
      "model_module": "@jupyter-widgets/controls",
      "model_module_version": "2.0.0",
      "model_name": "VBoxModel",
      "state": {
       "children": [
        "IPY_MODEL_4844bbc299184736b59087fcdaff7d3a",
        "IPY_MODEL_ab1560fdbcb447c0a51cea3ef6799e8e"
       ],
       "layout": "IPY_MODEL_1eb8fc250b5a4fc4a018b2d61dbe8e78"
      }
     },
     "a2f331707c6b4f5aa983b8878816290b": {
      "model_module": "@jupyter-widgets/base",
      "model_module_version": "2.0.0",
      "model_name": "LayoutModel",
      "state": {
       "height": "50%",
       "width": "50%"
      }
     },
     "a331c799ad0f4f5cb2abd7e76bbe1a05": {
      "model_module": "@jupyter-widgets/base",
      "model_module_version": "2.0.0",
      "model_name": "LayoutModel",
      "state": {
       "justify_content": "flex-start",
       "width": "40px"
      }
     },
     "a34dcad5bd4f45eba13090fcf8b43bd3": {
      "model_module": "@jupyter-widgets/controls",
      "model_module_version": "2.0.0",
      "model_name": "HTMLModel",
      "state": {
       "layout": "IPY_MODEL_85f1b8b55c3a446293d05b162767274b",
       "style": "IPY_MODEL_7fcd6d9211334c24949e922fe31ddf47",
       "value": "words:"
      }
     },
     "a364aeb134b2491d9ddccbaaa02223eb": {
      "model_module": "@jupyter-widgets/controls",
      "model_module_version": "2.0.0",
      "model_name": "HTMLStyleModel",
      "state": {
       "description_width": "",
       "font_size": null,
       "text_color": null
      }
     },
     "a3736b27d48043e9acfeb02d44067466": {
      "model_module": "@jupyter-widgets/controls",
      "model_module_version": "2.0.0",
      "model_name": "TextModel",
      "state": {
       "layout": "IPY_MODEL_1b0534d6767c420983df89baa770d76e",
       "placeholder": "20",
       "style": "IPY_MODEL_ca8a910561bd4db3b4609001c936ffb6",
       "value": "20"
      }
     },
     "a37f4d987b3040929aedadfb8705224f": {
      "model_module": "@jupyter-widgets/base",
      "model_module_version": "2.0.0",
      "model_name": "LayoutModel",
      "state": {
       "border_bottom": "solid 1px gray",
       "border_left": "solid 1px gray",
       "border_right": "solid 1px gray",
       "border_top": "solid 1px gray"
      }
     },
     "a383394d3d5949558f4dcd7b16b2a3b9": {
      "model_module": "@jupyter-widgets/controls",
      "model_module_version": "2.0.0",
      "model_name": "TextModel",
      "state": {
       "layout": "IPY_MODEL_cc77a1cabf684915b04f33bf1eea8f16",
       "placeholder": "",
       "style": "IPY_MODEL_c63826443a2e4140952b0fb31a71ec6e",
       "value": "500"
      }
     },
     "a393bbc6b77e494f94a0df08be34195b": {
      "model_module": "@jupyter-widgets/base",
      "model_module_version": "2.0.0",
      "model_name": "LayoutModel",
      "state": {}
     },
     "a3ae422e1be747cea581c286b4fc071c": {
      "model_module": "@jupyter-widgets/controls",
      "model_module_version": "2.0.0",
      "model_name": "HTMLModel",
      "state": {
       "layout": "IPY_MODEL_658f8b897c7c42f3bc8fa6907653ad4c",
       "style": "IPY_MODEL_261c5db09c684318b52588acd33654a5",
       "value": "words:"
      }
     },
     "a3de3d35cd8a4a269c39f8d7e5ead3b6": {
      "model_module": "@jupyter-widgets/base",
      "model_module_version": "2.0.0",
      "model_name": "LayoutModel",
      "state": {
       "justify_content": "flex-start"
      }
     },
     "a3ff12d26bb440f299a38a097d9bfc28": {
      "model_module": "@jupyter-widgets/controls",
      "model_module_version": "2.0.0",
      "model_name": "TextStyleModel",
      "state": {
       "background": "#000000",
       "description_width": "50px",
       "font_size": null,
       "text_color": null
      }
     },
     "a42aefaeed9e49778131539df1b726f6": {
      "model_module": "@jupyter-widgets/controls",
      "model_module_version": "2.0.0",
      "model_name": "HTMLStyleModel",
      "state": {
       "description_width": "",
       "font_size": null,
       "text_color": null
      }
     },
     "a46fada1b6e14e3c8f37b3fce909742e": {
      "model_module": "@jupyter-widgets/controls",
      "model_module_version": "2.0.0",
      "model_name": "HBoxModel",
      "state": {
       "children": [
        "IPY_MODEL_7dc19c93fc1c4e40825b9843e958db6b",
        "IPY_MODEL_8c96c935ee48455db7cea480b9333787"
       ],
       "layout": "IPY_MODEL_9579738f1d34438f8ebfa708989a33cd"
      }
     },
     "a470722a95844c298732a70761ba7aee": {
      "model_module": "@jupyter-widgets/controls",
      "model_module_version": "2.0.0",
      "model_name": "ButtonStyleModel",
      "state": {
       "font_family": null,
       "font_size": null,
       "font_style": null,
       "font_variant": null,
       "font_weight": null,
       "text_color": null,
       "text_decoration": null
      }
     },
     "a4c59f7e34e54cf4b24b281f2f06336a": {
      "model_module": "@jupyter-widgets/base",
      "model_module_version": "2.0.0",
      "model_name": "LayoutModel",
      "state": {}
     },
     "a4d0fe919b38461ebef2e277cec08053": {
      "model_module": "@jupyter-widgets/base",
      "model_module_version": "2.0.0",
      "model_name": "LayoutModel",
      "state": {
       "justify_content": "flex-start",
       "width": "90%"
      }
     },
     "a4e0b557ffe24f3eab8cb82d03e18ef3": {
      "model_module": "@jupyter-widgets/base",
      "model_module_version": "2.0.0",
      "model_name": "LayoutModel",
      "state": {
       "justify_content": "flex-start"
      }
     },
     "a4e4fb3171734ea683911efa250b0874": {
      "model_module": "@jupyter-widgets/controls",
      "model_module_version": "2.0.0",
      "model_name": "TextStyleModel",
      "state": {
       "description_width": "",
       "font_size": null,
       "text_color": null
      }
     },
     "a588b4cd4b2e48a3a9fe10d4cc297b05": {
      "model_module": "@jupyter-widgets/controls",
      "model_module_version": "2.0.0",
      "model_name": "ButtonStyleModel",
      "state": {
       "font_family": null,
       "font_size": null,
       "font_style": null,
       "font_variant": null,
       "font_weight": null,
       "text_color": null,
       "text_decoration": null
      }
     },
     "a5dfeee0317f40208afba0d23886b34e": {
      "model_module": "@jupyter-widgets/base",
      "model_module_version": "2.0.0",
      "model_name": "LayoutModel",
      "state": {}
     },
     "a5f39af680f144d2b6b5229fb93e1e6c": {
      "model_module": "@jupyter-widgets/base",
      "model_module_version": "2.0.0",
      "model_name": "LayoutModel",
      "state": {}
     },
     "a5f4230435a14d1d90f87be13445e0d0": {
      "model_module": "@jupyter-widgets/base",
      "model_module_version": "2.0.0",
      "model_name": "LayoutModel",
      "state": {
       "border_bottom": "1px solid purple",
       "border_left": "1px solid purple",
       "border_right": "1px solid purple",
       "border_top": "1px solid purple",
       "justify_content": "flex-start",
       "width": "99%"
      }
     },
     "a61ab278cf8441778e97e8afebf20a73": {
      "model_module": "@jupyter-widgets/controls",
      "model_module_version": "2.0.0",
      "model_name": "HTMLModel",
      "state": {
       "layout": "IPY_MODEL_32b53313f5d742dcb9d9a1ed6e59683a",
       "style": "IPY_MODEL_b773dc2b030743b6a80937eb465d361d",
       "value": " to "
      }
     },
     "a6a8cdeccc1d44989ee98e121ef74aee": {
      "model_module": "@jupyter-widgets/base",
      "model_module_version": "2.0.0",
      "model_name": "LayoutModel",
      "state": {
       "justify_content": "flex-start",
       "width": "90%"
      }
     },
     "a7137ffa46734aed814d733140dea009": {
      "model_module": "@jupyter-widgets/controls",
      "model_module_version": "2.0.0",
      "model_name": "ButtonModel",
      "state": {
       "description": "Retrieve",
       "icon": "list",
       "layout": "IPY_MODEL_b2c70994891d4c0497295241fd02e935",
       "style": "IPY_MODEL_d352a68c60c94cdfadad37e119f9dc47",
       "tooltip": "Retrieve related references"
      }
     },
     "a7520775f8a14818887fab1bab7cc4be": {
      "model_module": "@jupyter-widgets/base",
      "model_module_version": "2.0.0",
      "model_name": "LayoutModel",
      "state": {
       "border_bottom": "1px solid purple",
       "border_left": "1px solid purple",
       "border_right": "1px solid purple",
       "border_top": "1px solid purple",
       "justify_content": "flex-start",
       "width": "99%"
      }
     },
     "a75ca074ef8d40cfb18f1fdfa92d52cc": {
      "model_module": "@jupyter-widgets/controls",
      "model_module_version": "2.0.0",
      "model_name": "HTMLModel",
      "state": {
       "layout": "IPY_MODEL_6fad5d89d6944c4e9e724ac59e7ce32d",
       "style": "IPY_MODEL_dfb74e730c164162a87c148290c71942"
      }
     },
     "a771f9be40d74d8cb34afddd25e072f1": {
      "model_module": "@jupyter-widgets/base",
      "model_module_version": "2.0.0",
      "model_name": "LayoutModel",
      "state": {}
     },
     "a7b0988159534f4b9d325ece4e1b0ed7": {
      "model_module": "@jupyter-widgets/controls",
      "model_module_version": "2.0.0",
      "model_name": "TextStyleModel",
      "state": {
       "description_width": "50px",
       "font_size": null,
       "text_color": null
      }
     },
     "a80fc34352ba4e26883fd7f3516c3337": {
      "model_module": "@jupyter-widgets/base",
      "model_module_version": "2.0.0",
      "model_name": "LayoutModel",
      "state": {
       "justify_content": "flex-start",
       "width": "40px"
      }
     },
     "a821805fbe024999b0f04660197de138": {
      "model_module": "@jupyter-widgets/controls",
      "model_module_version": "2.0.0",
      "model_name": "HTMLModel",
      "state": {
       "layout": "IPY_MODEL_6265b4ad3d6c4167a0b4d2c40b571987",
       "style": "IPY_MODEL_8cbe7d4afc024086afc0cffd61aade8b",
       "value": "3.1.1"
      }
     },
     "a82788a1026f4b37a37124b335be66b3": {
      "model_module": "@jupyter-widgets/base",
      "model_module_version": "2.0.0",
      "model_name": "LayoutModel",
      "state": {}
     },
     "a83e6282d0e1450a938c2a103fe081c9": {
      "model_module": "@jupyter-widgets/base",
      "model_module_version": "2.0.0",
      "model_name": "LayoutModel",
      "state": {}
     },
     "a846b5a8baf34e54ac53f59fb20ba6fa": {
      "model_module": "@jupyter-widgets/controls",
      "model_module_version": "2.0.0",
      "model_name": "HTMLModel",
      "state": {
       "layout": "IPY_MODEL_9c76ca3083d3498e8272e77088c5c575",
       "style": "IPY_MODEL_ee5a2f094db746128db0ed26bd61c6b7",
       "value": "words:"
      }
     },
     "a855d49cd5ea473f99877e0773ee7a7d": {
      "model_module": "@jupyter-widgets/base",
      "model_module_version": "2.0.0",
      "model_name": "LayoutModel",
      "state": {}
     },
     "a8950ca00a254807a09bbba1111fbea7": {
      "model_module": "@jupyter-widgets/controls",
      "model_module_version": "2.0.0",
      "model_name": "HBoxModel",
      "state": {
       "children": [
        "IPY_MODEL_0a70ac2ab59b4b92bcd0152cad0bb3ea",
        "IPY_MODEL_1c262183ae57431dbcefe00d4b9d1369",
        "IPY_MODEL_314f58353544487fafe4dd29f0499c88"
       ],
       "layout": "IPY_MODEL_03b23b5aa1d6403485a3394f433e2ea1"
      }
     },
     "a8b989c58a3144e6b048210e0f08799f": {
      "model_module": "@jupyter-widgets/controls",
      "model_module_version": "2.0.0",
      "model_name": "HBoxModel",
      "state": {
       "children": [
        "IPY_MODEL_93d79789438b4cf6af1b659dc902aa9d",
        "IPY_MODEL_94e7c9e85fc841e7a4fcfbae73961a64"
       ],
       "layout": "IPY_MODEL_1f48bf69da3c4da4bba8878cdaf39868"
      }
     },
     "a920932cd1ea4909a2d43c936e4f62f7": {
      "model_module": "@jupyter-widgets/controls",
      "model_module_version": "2.0.0",
      "model_name": "TextStyleModel",
      "state": {
       "description_width": "",
       "font_size": null,
       "text_color": null
      }
     },
     "a99f528e38e14d9b828d2251d263a2eb": {
      "model_module": "@jupyter-widgets/base",
      "model_module_version": "2.0.0",
      "model_name": "LayoutModel",
      "state": {}
     },
     "a9a5df31dd0a439b89466927bd1a21af": {
      "model_module": "@jupyter-widgets/controls",
      "model_module_version": "2.0.0",
      "model_name": "TextStyleModel",
      "state": {
       "description_width": "",
       "font_size": null,
       "text_color": null
      }
     },
     "a9b2faff279a4b6f9b9e696c734c19a2": {
      "model_module": "@jupyter-widgets/base",
      "model_module_version": "2.0.0",
      "model_name": "LayoutModel",
      "state": {
       "border_bottom": "1px solid transparent",
       "border_left": "1px solid transparent",
       "border_right": "1px solid transparent",
       "border_top": "1px solid transparent",
       "justify_content": "flex-start",
       "width": "99%"
      }
     },
     "a9b94f811bc74cd48b44e6462d71015c": {
      "model_module": "@jupyter-widgets/controls",
      "model_module_version": "2.0.0",
      "model_name": "TextStyleModel",
      "state": {
       "description_width": "",
       "font_size": null,
       "text_color": null
      }
     },
     "a9f8c979ead04adfa905dc1e2b9ee64e": {
      "model_module": "@jupyter-widgets/output",
      "model_module_version": "1.0.0",
      "model_name": "OutputModel",
      "state": {
       "layout": "IPY_MODEL_d273096d0dc54fb8a0d82195cfc0c3b7"
      }
     },
     "aa0d433922c64fd09f5f60d17c05526a": {
      "model_module": "@jupyter-widgets/controls",
      "model_module_version": "2.0.0",
      "model_name": "ButtonModel",
      "state": {
       "description": "Summarize",
       "icon": "rocket",
       "layout": "IPY_MODEL_de0069c5549142f59894ca9ca2f5a64c",
       "style": "IPY_MODEL_effec3dfd4cb46c88be2c2828d0a2d05",
       "tooltip": "Summarize this section based on the topic and intro"
      }
     },
     "aa53c4a8695a4d0f930408f5e25b81bd": {
      "model_module": "@jupyter-widgets/controls",
      "model_module_version": "2.0.0",
      "model_name": "TextModel",
      "state": {
       "description": "Prompt",
       "layout": "IPY_MODEL_17c202650c784b2ab19fc85f0b9b97fc",
       "placeholder": "",
       "style": "IPY_MODEL_67570c90298b4f93b93fcb2dabbd0b6b"
      }
     },
     "aa6cfd47b12a431197425664b8e6b0b6": {
      "model_module": "@jupyter-widgets/controls",
      "model_module_version": "2.0.0",
      "model_name": "HTMLModel",
      "state": {
       "layout": "IPY_MODEL_d384a49ac39f41b1b0b0869bb87cab5c",
       "style": "IPY_MODEL_fc81f2be64f642e4a6494de614152014",
       "value": "queries,"
      }
     },
     "aa8cdff0c4bf41fb9f09c1fa0be0c72e": {
      "model_module": "@jupyter-widgets/base",
      "model_module_version": "2.0.0",
      "model_name": "LayoutModel",
      "state": {
       "justify_content": "flex-start"
      }
     },
     "aa973b0cc4624fe8aeb684fe0d23dc13": {
      "model_module": "@jupyter-widgets/controls",
      "model_module_version": "2.0.0",
      "model_name": "HTMLModel",
      "state": {
       "layout": "IPY_MODEL_37ca2dd348fb494896609ad114ae2b07",
       "style": "IPY_MODEL_95410adae9154ef6bec050f4fb984ac0",
       "value": "words:"
      }
     },
     "aa9e4c5769ee47bdab96428c417bc0fa": {
      "model_module": "@jupyter-widgets/base",
      "model_module_version": "2.0.0",
      "model_name": "LayoutModel",
      "state": {
       "border_bottom": "1px solid purple",
       "border_left": "1px solid purple",
       "border_right": "1px solid purple",
       "border_top": "1px solid purple",
       "justify_content": "flex-start",
       "width": "auto"
      }
     },
     "aa9e9f66263340c89cf59d2854b28486": {
      "model_module": "@jupyter-widgets/controls",
      "model_module_version": "2.0.0",
      "model_name": "HBoxModel",
      "state": {
       "children": [
        "IPY_MODEL_ca3d7ed264da4a739a7dfd0d76c426e0",
        "IPY_MODEL_7d673be0c02f49fbab67be2420f2ffba"
       ],
       "layout": "IPY_MODEL_6b0df957682f4df58702f369113a92e6"
      }
     },
     "aaaaf3702e4144809fc817349a4c4912": {
      "model_module": "@jupyter-widgets/base",
      "model_module_version": "2.0.0",
      "model_name": "LayoutModel",
      "state": {}
     },
     "aacdd5a6b7b64f52a24e0deda48ccfc3": {
      "model_module": "@jupyter-widgets/controls",
      "model_module_version": "2.0.0",
      "model_name": "ButtonModel",
      "state": {
       "description": "Retrieve",
       "icon": "list",
       "layout": "IPY_MODEL_74f3797ab055406b9333e7cecea78208",
       "style": "IPY_MODEL_c1214f14bb9c469e98a62b65569543f8",
       "tooltip": "Retrieve related references"
      }
     },
     "aaecb9d66c644197b9abf62793f4d673": {
      "model_module": "@jupyter-widgets/controls",
      "model_module_version": "2.0.0",
      "model_name": "HTMLStyleModel",
      "state": {
       "description_width": "",
       "font_size": null,
       "text_color": null
      }
     },
     "ab0f89c3e9b244e2b2ae224297c15d63": {
      "model_module": "@jupyter-widgets/controls",
      "model_module_version": "2.0.0",
      "model_name": "TextStyleModel",
      "state": {
       "background": "#000000",
       "description_width": "50px",
       "font_size": null,
       "text_color": null
      }
     },
     "ab1560fdbcb447c0a51cea3ef6799e8e": {
      "model_module": "@jupyter-widgets/output",
      "model_module_version": "1.0.0",
      "model_name": "OutputModel",
      "state": {
       "layout": "IPY_MODEL_0cb497172b06417590f526c8520c2ff9"
      }
     },
     "ab159da0e9854761918e6fe5d8925b62": {
      "model_module": "@jupyter-widgets/controls",
      "model_module_version": "2.0.0",
      "model_name": "TextModel",
      "state": {
       "layout": "IPY_MODEL_c45842342471434fa6b9bc887873e5e7",
       "placeholder": "",
       "style": "IPY_MODEL_a08d92ae95874e9a949dbba7cffaefec",
       "value": "500"
      }
     },
     "ab32165bba7c4de8a6a6efe42f319b4e": {
      "model_module": "@jupyter-widgets/controls",
      "model_module_version": "2.0.0",
      "model_name": "TextModel",
      "state": {
       "layout": "IPY_MODEL_48b53c0b722349b79052402b3d3a7c64",
       "style": "IPY_MODEL_4ce01eda926f4117be139ec643b45699",
       "value": "Insight into backpropagation-based approaches for visual explanation in AI-based liver cancer analysis."
      }
     },
     "ab7873d98ac74f3cb715248f27759013": {
      "model_module": "@jupyter-widgets/controls",
      "model_module_version": "2.0.0",
      "model_name": "HBoxModel",
      "state": {
       "children": [
        "IPY_MODEL_e91c788f1cea45babbe25a453cc88b49",
        "IPY_MODEL_4320afc7c0014da9abdd868b61b13bca"
       ],
       "layout": "IPY_MODEL_b9726c1a227b4668b81ac8c34c3ab10c"
      }
     },
     "abbaea98d6ff414486dff63d27062b7f": {
      "model_module": "@jupyter-widgets/base",
      "model_module_version": "2.0.0",
      "model_name": "LayoutModel",
      "state": {
       "border_bottom": "1px solid purple",
       "border_left": "1px solid purple",
       "border_right": "1px solid purple",
       "border_top": "1px solid purple",
       "justify_content": "flex-start",
       "width": "99%"
      }
     },
     "abdf342a5066466e8529c5f24386ce81": {
      "model_module": "@jupyter-widgets/controls",
      "model_module_version": "2.0.0",
      "model_name": "HBoxModel",
      "state": {
       "children": [
        "IPY_MODEL_6c80996d16114257ac0979f8194cd352",
        "IPY_MODEL_c4682899985d48d7970a3084b4208bcd",
        "IPY_MODEL_8008aae349ce42aca1ed3bb9c3cd35d9"
       ],
       "layout": "IPY_MODEL_2c9ebbc85f7b4586be3904603d7775a6"
      }
     },
     "abf3c72312fd4ca2a76e863818a0d3f8": {
      "model_module": "@jupyter-widgets/base",
      "model_module_version": "2.0.0",
      "model_name": "LayoutModel",
      "state": {
       "justify_content": "flex-start"
      }
     },
     "ac3082bf38c54c9b945d31c1acd8563e": {
      "model_module": "@jupyter-widgets/controls",
      "model_module_version": "2.0.0",
      "model_name": "VBoxModel",
      "state": {
       "children": [
        "IPY_MODEL_db785a6b839e4336adf7eb707ffa3a3c",
        "IPY_MODEL_ceee662358954e79a99caf01f6d899ef"
       ],
       "layout": "IPY_MODEL_fb92269c5fac4204bf7994c91c2be68f"
      }
     },
     "ac4cf0b61cf54b709054a0bc1edd7b90": {
      "model_module": "@jupyter-widgets/controls",
      "model_module_version": "2.0.0",
      "model_name": "ButtonModel",
      "state": {
       "description": "Retrieve",
       "icon": "list",
       "layout": "IPY_MODEL_164b4acd26e84748b47558b0bb0e9b2d",
       "style": "IPY_MODEL_e61447970fef4a2db0d4088e500e012d",
       "tooltip": "Retrieve related references"
      }
     },
     "ac70bb64b76042c98a1ee531e7e23744": {
      "model_module": "@jupyter-widgets/controls",
      "model_module_version": "2.0.0",
      "model_name": "HBoxModel",
      "state": {
       "children": [
        "IPY_MODEL_b8e40bf7bccd4dd18821b5fb336c9761",
        "IPY_MODEL_b8fa7e40dd064fb5a6787ac2f13f0750"
       ],
       "layout": "IPY_MODEL_88153fe00a124ff48deb1264778968ea"
      }
     },
     "ac935cb942634cbda1b1c4f90cb14d4a": {
      "model_module": "@jupyter-widgets/base",
      "model_module_version": "2.0.0",
      "model_name": "LayoutModel",
      "state": {
       "justify_content": "flex-start",
       "width": "90%"
      }
     },
     "ac993c101f6544d299537f5e6a4106ce": {
      "model_module": "@jupyter-widgets/controls",
      "model_module_version": "2.0.0",
      "model_name": "HBoxModel",
      "state": {
       "children": [
        "IPY_MODEL_e210377879644072b066fccb47ce37cd",
        "IPY_MODEL_7229b2fd1d9c472a9563a2164d1efe2c"
       ],
       "layout": "IPY_MODEL_8b5bf1e7cee54fb2ad99ae9a4b6aa01e"
      }
     },
     "acd359f9144a4d1881dbcca2b310b160": {
      "model_module": "@jupyter-widgets/base",
      "model_module_version": "2.0.0",
      "model_name": "LayoutModel",
      "state": {}
     },
     "acdb9c69499b489dab4539cad84bfd4b": {
      "model_module": "@jupyter-widgets/controls",
      "model_module_version": "2.0.0",
      "model_name": "TextStyleModel",
      "state": {
       "description_width": "50px",
       "font_size": null,
       "text_color": null
      }
     },
     "acf4a9a488cd4442b5f077b40113b2e9": {
      "model_module": "@jupyter-widgets/base",
      "model_module_version": "2.0.0",
      "model_name": "LayoutModel",
      "state": {
       "border_bottom": "1px solid transparent",
       "border_left": "1px solid transparent",
       "border_right": "1px solid transparent",
       "border_top": "1px solid transparent",
       "display": "none",
       "justify_content": "flex-start",
       "width": "99%"
      }
     },
     "ad2fbcd2c6244498955a41db79019126": {
      "model_module": "@jupyter-widgets/base",
      "model_module_version": "2.0.0",
      "model_name": "LayoutModel",
      "state": {}
     },
     "ad44a1d4c269453e8453eaf860c12718": {
      "model_module": "@jupyter-widgets/controls",
      "model_module_version": "2.0.0",
      "model_name": "ButtonStyleModel",
      "state": {
       "font_family": null,
       "font_size": null,
       "font_style": null,
       "font_variant": null,
       "font_weight": null,
       "text_color": null,
       "text_decoration": null
      }
     },
     "ad511f65aef741478cf35422370574f9": {
      "model_module": "@jupyter-widgets/controls",
      "model_module_version": "2.0.0",
      "model_name": "TextModel",
      "state": {
       "layout": "IPY_MODEL_83cd5c979e0742b4afb4b1d8511b8267",
       "style": "IPY_MODEL_9e1ac6fa24c44c5aa38800ac468e7618",
       "value": "Final thoughts on the current state of AI in liver cancer analysis and potential future developments in the field."
      }
     },
     "ad7c608b668b46c2ab6813078866bd70": {
      "model_module": "@jupyter-widgets/output",
      "model_module_version": "1.0.0",
      "model_name": "OutputModel",
      "state": {
       "layout": "IPY_MODEL_f813c24bbb06405fbf6f3de9e39d2356"
      }
     },
     "ad9b48e0e44b44c98f9cf1275f96422c": {
      "model_module": "@jupyter-widgets/controls",
      "model_module_version": "2.0.0",
      "model_name": "HTMLStyleModel",
      "state": {
       "description_width": "",
       "font_size": null,
       "text_color": null
      }
     },
     "adbf0397063541038abf979883e0f677": {
      "model_module": "@jupyter-widgets/controls",
      "model_module_version": "2.0.0",
      "model_name": "TextModel",
      "state": {
       "layout": "IPY_MODEL_957047070ccc4cdf8d3baac6253c9226",
       "style": "IPY_MODEL_12a1df39058a4e8aa6ca87fbd090cc99",
       "value": "Multiple instance learning-based approaches"
      }
     },
     "ae002dd4004c41acbbdac065e388bf66": {
      "model_module": "@jupyter-widgets/output",
      "model_module_version": "1.0.0",
      "model_name": "OutputModel",
      "state": {
       "layout": "IPY_MODEL_cdd4c366b5ec4f33b802c5b70924ff08"
      }
     },
     "ae4964b7eed2458783949f8aa47e47eb": {
      "model_module": "@jupyter-widgets/controls",
      "model_module_version": "2.0.0",
      "model_name": "HBoxModel",
      "state": {
       "children": [
        "IPY_MODEL_f0a52152f7e34a98b6934470f93863de",
        "IPY_MODEL_5f4beb4766874de69f925b8c13b670b9"
       ],
       "layout": "IPY_MODEL_33de294f886f40dba36e4248002d124a"
      }
     },
     "ae5f58cec33141699ca4a1165179516c": {
      "model_module": "@jupyter-widgets/controls",
      "model_module_version": "2.0.0",
      "model_name": "ButtonModel",
      "state": {
       "description": "Summarize",
       "icon": "rocket",
       "layout": "IPY_MODEL_2094108ca2e54f5d800f98768671d804",
       "style": "IPY_MODEL_6142de1d489e41f0bbe541df4e7373ca",
       "tooltip": "Summarize this section based on the topic and intro"
      }
     },
     "ae63363a47a94bdba2bf95029df203c2": {
      "model_module": "@jupyter-widgets/base",
      "model_module_version": "2.0.0",
      "model_name": "LayoutModel",
      "state": {}
     },
     "ae68ec58cd684d10ac9a70e4dc5bfc32": {
      "model_module": "@jupyter-widgets/base",
      "model_module_version": "2.0.0",
      "model_name": "LayoutModel",
      "state": {
       "border_bottom": "1px solid transparent",
       "border_left": "1px solid transparent",
       "border_right": "1px solid transparent",
       "border_top": "1px solid transparent",
       "justify_content": "flex-start",
       "width": "99%"
      }
     },
     "af40364b1c0e4a9abc16b700c512038d": {
      "model_module": "@jupyter-widgets/controls",
      "model_module_version": "2.0.0",
      "model_name": "TextStyleModel",
      "state": {
       "description_width": "",
       "font_size": null,
       "text_color": null
      }
     },
     "af404ae431d94bd8820be562d61c87fb": {
      "model_module": "@jupyter-widgets/base",
      "model_module_version": "2.0.0",
      "model_name": "LayoutModel",
      "state": {}
     },
     "af48e7b4b96b4c76b451cdedb4c3c36c": {
      "model_module": "@jupyter-widgets/controls",
      "model_module_version": "2.0.0",
      "model_name": "HBoxModel",
      "state": {
       "children": [
        "IPY_MODEL_61009cbfcb6941b29c7a0e7fdbb9a048",
        "IPY_MODEL_569ec031725047d7887083f63fb32b07"
       ],
       "layout": "IPY_MODEL_6062f7a5819c4b569363d0de24d6f18a"
      }
     },
     "af5d31f0a3dc481f967ca3f2c69a0dd6": {
      "model_module": "@jupyter-widgets/controls",
      "model_module_version": "2.0.0",
      "model_name": "HTMLModel",
      "state": {
       "layout": "IPY_MODEL_1fd4c5df30c34560bb9ecd962fefa785",
       "style": "IPY_MODEL_b63c0e0301fb472eb77a69753a50918d",
       "value": "3.2.1"
      }
     },
     "af7ba7c702e64de2908e36b846082efe": {
      "model_module": "@jupyter-widgets/controls",
      "model_module_version": "2.0.0",
      "model_name": "TextModel",
      "state": {
       "layout": "IPY_MODEL_a331c799ad0f4f5cb2abd7e76bbe1a05",
       "placeholder": "20",
       "style": "IPY_MODEL_fadbf5a62ae4419fa619d76eab91034a",
       "value": "20"
      }
     },
     "af849a92b09e4e85a98438a918854a02": {
      "model_module": "@jupyter-widgets/controls",
      "model_module_version": "2.0.0",
      "model_name": "HBoxModel",
      "state": {
       "children": [
        "IPY_MODEL_6d014806483f4958b49ef2f24cdc4fae",
        "IPY_MODEL_d01aa91bed174351aa843213210d02d1"
       ],
       "layout": "IPY_MODEL_43d90e59e8ed497eb68b4c7eac0d348a"
      }
     },
     "afb2ae9ad0f14f818befde5467f4ec16": {
      "model_module": "@jupyter-widgets/controls",
      "model_module_version": "2.0.0",
      "model_name": "HTMLModel",
      "state": {
       "layout": "IPY_MODEL_fc9f964a37ed4839ada268728659ab81",
       "style": "IPY_MODEL_f692bff3e6d44a338f29c61deee888c9"
      }
     },
     "afc6427e4db746c286b786b018437eaf": {
      "model_module": "@jupyter-widgets/base",
      "model_module_version": "2.0.0",
      "model_name": "LayoutModel",
      "state": {
       "justify_content": "flex-start"
      }
     },
     "afe0ea2db73b481ca76d7a0e74f4a05e": {
      "model_module": "@jupyter-widgets/base",
      "model_module_version": "2.0.0",
      "model_name": "LayoutModel",
      "state": {
       "justify_content": "flex-start"
      }
     },
     "afe237b3ac5f46f78d23fda4668c0b58": {
      "model_module": "@jupyter-widgets/controls",
      "model_module_version": "2.0.0",
      "model_name": "TextModel",
      "state": {
       "layout": "IPY_MODEL_a9b2faff279a4b6f9b9e696c734c19a2",
       "style": "IPY_MODEL_65f8628a87484a24947f613bcf9fba5a",
       "value": "Exploration of AI's role in identifying predictive indicators for therapy response in liver cancer treatment."
      }
     },
     "afe7ce4306ab446a9e6c5ba679aa2dd8": {
      "model_module": "@jupyter-widgets/base",
      "model_module_version": "2.0.0",
      "model_name": "LayoutModel",
      "state": {
       "display": "none"
      }
     },
     "b00148e0956245bd8cda136abbd4d868": {
      "model_module": "@jupyter-widgets/controls",
      "model_module_version": "2.0.0",
      "model_name": "ButtonStyleModel",
      "state": {
       "font_family": null,
       "font_size": null,
       "font_style": null,
       "font_variant": null,
       "font_weight": null,
       "text_color": null,
       "text_decoration": null
      }
     },
     "b029e93a68264a48b3e83d8ca41eb1e4": {
      "model_module": "@jupyter-widgets/controls",
      "model_module_version": "2.0.0",
      "model_name": "HTMLModel",
      "state": {
       "layout": "IPY_MODEL_d463ef1f456d4cf3baa928fee9cc0bc8",
       "style": "IPY_MODEL_f8531b6689934d13afa88df78a4b7a70"
      }
     },
     "b068475754a142c3a93850aa6e93b46f": {
      "model_module": "@jupyter-widgets/controls",
      "model_module_version": "2.0.0",
      "model_name": "TextStyleModel",
      "state": {
       "background": "transparent",
       "description_width": "50px",
       "font_size": null,
       "text_color": null
      }
     },
     "b0bd121fdc6847c7b21d0d32d7792b06": {
      "model_module": "@jupyter-widgets/controls",
      "model_module_version": "2.0.0",
      "model_name": "TextModel",
      "state": {
       "layout": "IPY_MODEL_d1fc4849a22f4110a29cb9247bc88831",
       "placeholder": "",
       "style": "IPY_MODEL_e1800848a96d421489b807a9fba7ae50",
       "value": "500"
      }
     },
     "b14d28fb160740efb2ea4d8c66737495": {
      "model_module": "@jupyter-widgets/base",
      "model_module_version": "2.0.0",
      "model_name": "LayoutModel",
      "state": {
       "width": "auto"
      }
     },
     "b172d58cb9554acd8115d8a67f5ab097": {
      "model_module": "@jupyter-widgets/base",
      "model_module_version": "2.0.0",
      "model_name": "LayoutModel",
      "state": {
       "justify_content": "flex-start",
       "width": "60px"
      }
     },
     "b19200cac1fe49edb6d09df348c10b19": {
      "model_module": "@jupyter-widgets/controls",
      "model_module_version": "2.0.0",
      "model_name": "HBoxModel",
      "state": {
       "children": [
        "IPY_MODEL_e41b404bc3b84d92a6814d76de2a3826",
        "IPY_MODEL_ec9be9a494b24fb1be3d9a581c6c2210"
       ],
       "layout": "IPY_MODEL_13bf3fab6a1049c4ba93fafc4ff9d254"
      }
     },
     "b21c40d3bf4a4fe68c0d20410c74b8f3": {
      "model_module": "@jupyter-widgets/controls",
      "model_module_version": "2.0.0",
      "model_name": "TextModel",
      "state": {
       "layout": "IPY_MODEL_7f10f8d5246a4e6094a61c15fcb1bc51",
       "placeholder": "",
       "style": "IPY_MODEL_ba8c3abaed7b4c0c91a6924f18113eee",
       "value": "500"
      }
     },
     "b245f43278704c4f926c8010215511f6": {
      "model_module": "@jupyter-widgets/base",
      "model_module_version": "2.0.0",
      "model_name": "LayoutModel",
      "state": {
       "display": "none"
      }
     },
     "b2484a95685e4692bc67cbaadd5a8f8d": {
      "model_module": "@jupyter-widgets/controls",
      "model_module_version": "2.0.0",
      "model_name": "TextStyleModel",
      "state": {
       "description_width": "50px",
       "font_size": null,
       "text_color": null
      }
     },
     "b24ed42339bf442d900e8fd82c769f83": {
      "model_module": "@jupyter-widgets/base",
      "model_module_version": "2.0.0",
      "model_name": "LayoutModel",
      "state": {
       "height": "50%",
       "width": "50%"
      }
     },
     "b27dbcb26aa744a7a9fe7aa10571f990": {
      "model_module": "@jupyter-widgets/controls",
      "model_module_version": "2.0.0",
      "model_name": "ButtonStyleModel",
      "state": {
       "font_family": null,
       "font_size": null,
       "font_style": null,
       "font_variant": null,
       "font_weight": null,
       "text_color": null,
       "text_decoration": null
      }
     },
     "b27fb63d8c3a4c13af4efddebc6869fe": {
      "model_module": "@jupyter-widgets/output",
      "model_module_version": "1.0.0",
      "model_name": "OutputModel",
      "state": {
       "layout": "IPY_MODEL_3e8263fb16074e749594475cf452d448"
      }
     },
     "b2c70994891d4c0497295241fd02e935": {
      "model_module": "@jupyter-widgets/base",
      "model_module_version": "2.0.0",
      "model_name": "LayoutModel",
      "state": {
       "width": "auto"
      }
     },
     "b2d49d2cb77942f09f4657407dedf2dc": {
      "model_module": "@jupyter-widgets/controls",
      "model_module_version": "2.0.0",
      "model_name": "HBoxModel",
      "state": {
       "children": [
        "IPY_MODEL_4f40cdbdfeda4f1ab7c155fa18d99f15",
        "IPY_MODEL_db1967b288e64b1aa0f6bda8d12eaa64"
       ],
       "layout": "IPY_MODEL_f382dd55875c4ec89bd0934569218629"
      }
     },
     "b2ea27dc377e481780d63a99dd2a60b3": {
      "model_module": "@jupyter-widgets/base",
      "model_module_version": "2.0.0",
      "model_name": "LayoutModel",
      "state": {}
     },
     "b3581193352a4da9bb58d71658a73dd9": {
      "model_module": "@jupyter-widgets/controls",
      "model_module_version": "2.0.0",
      "model_name": "HBoxModel",
      "state": {
       "children": [
        "IPY_MODEL_65766643c37045d288e263db40eae2ce",
        "IPY_MODEL_fdca112c1bdf4615b7e2d9a4c830b267"
       ],
       "layout": "IPY_MODEL_429f3285cd4f46f8af61afbc895b908b"
      }
     },
     "b398943be0c1440ca9ca47012e3a3b6a": {
      "model_module": "@jupyter-widgets/controls",
      "model_module_version": "2.0.0",
      "model_name": "ButtonModel",
      "state": {
       "description": "Translate",
       "icon": "language",
       "layout": "IPY_MODEL_981e5a35632d46eeaaad390d1877f5bf",
       "style": "IPY_MODEL_7f2453bb9855427a957bad672644f559",
       "tooltip": "Click and translate the details for this section"
      }
     },
     "b39969df18c1489aab705c78836ab925": {
      "model_module": "@jupyter-widgets/controls",
      "model_module_version": "2.0.0",
      "model_name": "ButtonModel",
      "state": {
       "description": "Translate",
       "icon": "language",
       "layout": "IPY_MODEL_3564b0dba0744b76b30281e1cfa6bf8b",
       "style": "IPY_MODEL_61dc29216cd044b79811e14c94f4d6db",
       "tooltip": "Click and translate the details for this section"
      }
     },
     "b3b168f5a2f6424297bdd455902b8717": {
      "model_module": "@jupyter-widgets/base",
      "model_module_version": "2.0.0",
      "model_name": "LayoutModel",
      "state": {
       "height": "50%",
       "width": "50%"
      }
     },
     "b3fb0038ebf44417bc126bfab391d891": {
      "model_module": "@jupyter-widgets/base",
      "model_module_version": "2.0.0",
      "model_name": "LayoutModel",
      "state": {}
     },
     "b461d741a056427b96858b09442f2fe1": {
      "model_module": "@jupyter-widgets/base",
      "model_module_version": "2.0.0",
      "model_name": "LayoutModel",
      "state": {
       "justify_content": "flex-start"
      }
     },
     "b4a52d1ebe494cffa8ea68f4710719b4": {
      "model_module": "@jupyter-widgets/base",
      "model_module_version": "2.0.0",
      "model_name": "LayoutModel",
      "state": {}
     },
     "b4cf2f0479b24f488bb36cea2881f00e": {
      "model_module": "@jupyter-widgets/base",
      "model_module_version": "2.0.0",
      "model_name": "LayoutModel",
      "state": {
       "border_bottom": "solid 1px gray",
       "border_left": "solid 1px gray",
       "border_right": "solid 1px gray",
       "border_top": "solid 1px gray"
      }
     },
     "b4cf66c711504d11b3d0f95968675ddf": {
      "model_module": "@jupyter-widgets/base",
      "model_module_version": "2.0.0",
      "model_name": "LayoutModel",
      "state": {}
     },
     "b4d66afe15ae4dc2b6c0d461fea4f7a1": {
      "model_module": "@jupyter-widgets/controls",
      "model_module_version": "2.0.0",
      "model_name": "VBoxModel",
      "state": {
       "children": [
        "IPY_MODEL_4f948f793f204dd9b1a884410087ca9f",
        "IPY_MODEL_d1473be49e4d4877a2f14d727b1d730b"
       ],
       "layout": "IPY_MODEL_5f6acd49062b475783eba036009a6781"
      }
     },
     "b56dcc4c3ef3437694ce91c99da7a2ce": {
      "model_module": "@jupyter-widgets/base",
      "model_module_version": "2.0.0",
      "model_name": "LayoutModel",
      "state": {
       "border_bottom": "1px solid transparent",
       "border_left": "1px solid transparent",
       "border_right": "1px solid transparent",
       "border_top": "1px solid transparent",
       "justify_content": "flex-start",
       "width": "99%"
      }
     },
     "b583c2c98cd3445bb15ae59be78b959d": {
      "model_module": "@jupyter-widgets/base",
      "model_module_version": "2.0.0",
      "model_name": "LayoutModel",
      "state": {}
     },
     "b5a2df4105404aa5bfd62f10af9deb71": {
      "model_module": "@jupyter-widgets/controls",
      "model_module_version": "2.0.0",
      "model_name": "HBoxModel",
      "state": {
       "children": [
        "IPY_MODEL_3cbef7b90406464b8734e4a5a41a69d4",
        "IPY_MODEL_fd4d20cc32514aed8430eb0868226b90",
        "IPY_MODEL_e00235bb3168467a92718fe7c10c1538"
       ],
       "layout": "IPY_MODEL_090a4d61ef5e4d65a9b819ed8f8365ad"
      }
     },
     "b5a6ff325a394883a7d15b9b8ed16c38": {
      "model_module": "@jupyter-widgets/controls",
      "model_module_version": "2.0.0",
      "model_name": "TextModel",
      "state": {
       "description": "Prompt",
       "layout": "IPY_MODEL_c2bd5ae0366b45e383f14fda6603c579",
       "placeholder": "",
       "style": "IPY_MODEL_bbba3974678d4814a8e93d458047a344"
      }
     },
     "b5c82c4af7394d919327d3889f03ba04": {
      "model_module": "@jupyter-widgets/base",
      "model_module_version": "2.0.0",
      "model_name": "LayoutModel",
      "state": {
       "justify_content": "flex-start",
       "width": "90%"
      }
     },
     "b6170bb89edc464a9542b517c1f14588": {
      "model_module": "@jupyter-widgets/controls",
      "model_module_version": "2.0.0",
      "model_name": "HTMLModel",
      "state": {
       "layout": "IPY_MODEL_8a31132209e54afaba96089ad21d9c5d",
       "style": "IPY_MODEL_029e0b9df1a14cc4a0f6ce8d7447cf99",
       "value": "words:"
      }
     },
     "b62c7c3a5bf7441f9c30819a4b18d3b5": {
      "model_module": "@jupyter-widgets/controls",
      "model_module_version": "2.0.0",
      "model_name": "HTMLStyleModel",
      "state": {
       "description_width": "",
       "font_size": null,
       "text_color": null
      }
     },
     "b6355bce68ee4bf494821d59d887ce6b": {
      "model_module": "@jupyter-widgets/base",
      "model_module_version": "2.0.0",
      "model_name": "LayoutModel",
      "state": {
       "height": "50%",
       "width": "50%"
      }
     },
     "b63c0e0301fb472eb77a69753a50918d": {
      "model_module": "@jupyter-widgets/controls",
      "model_module_version": "2.0.0",
      "model_name": "HTMLStyleModel",
      "state": {
       "description_width": "",
       "font_size": null,
       "text_color": null
      }
     },
     "b73c716cc6914c098b13ec7e187fb56d": {
      "model_module": "@jupyter-widgets/controls",
      "model_module_version": "2.0.0",
      "model_name": "HBoxModel",
      "state": {
       "children": [
        "IPY_MODEL_35bb6cebe0644ca2815a6a247f35dc48",
        "IPY_MODEL_dd2b0f5aa44e47518ab4a3769becae39"
       ],
       "layout": "IPY_MODEL_18e567c931c74837adbb26e608c56e5f"
      }
     },
     "b750fd63f37b4d9b9cc1456d35c9d560": {
      "model_module": "@jupyter-widgets/base",
      "model_module_version": "2.0.0",
      "model_name": "LayoutModel",
      "state": {}
     },
     "b754c5664253460aa11ad605be3e7fa1": {
      "model_module": "@jupyter-widgets/base",
      "model_module_version": "2.0.0",
      "model_name": "LayoutModel",
      "state": {
       "border_bottom": "1px solid purple",
       "border_left": "1px solid purple",
       "border_right": "1px solid purple",
       "border_top": "1px solid purple",
       "justify_content": "flex-start",
       "width": "99%"
      }
     },
     "b762c20e7ca74632989e0fbd94e2e813": {
      "model_module": "@jupyter-widgets/base",
      "model_module_version": "2.0.0",
      "model_name": "LayoutModel",
      "state": {
       "justify_content": "flex-start",
       "width": "90%"
      }
     },
     "b773dc2b030743b6a80937eb465d361d": {
      "model_module": "@jupyter-widgets/controls",
      "model_module_version": "2.0.0",
      "model_name": "HTMLStyleModel",
      "state": {
       "description_width": "",
       "font_size": null,
       "text_color": null
      }
     },
     "b7af421f51b6470a8dddb7d90ff4d791": {
      "model_module": "@jupyter-widgets/controls",
      "model_module_version": "2.0.0",
      "model_name": "VBoxModel",
      "state": {
       "children": [
        "IPY_MODEL_b9b000628f674728b017e2c21ab72d2f",
        "IPY_MODEL_363ba15b58ac475283676a67fe555516"
       ],
       "layout": "IPY_MODEL_5bc1c918ac9b467fb298b68c12e25f0e"
      }
     },
     "b7caad4f230c45a8b7d77ca47a9454aa": {
      "model_module": "@jupyter-widgets/controls",
      "model_module_version": "2.0.0",
      "model_name": "VBoxModel",
      "state": {
       "children": [
        "IPY_MODEL_07d9e07991694059b649a6004d6a348a",
        "IPY_MODEL_e8d9b25f3881437a9040f6eaf5c49ba4"
       ],
       "layout": "IPY_MODEL_dcee59b8f7a44b0bbf51f925f9c21bfe"
      }
     },
     "b82a1a623413454cbdcd6a9d20410e05": {
      "model_module": "@jupyter-widgets/controls",
      "model_module_version": "2.0.0",
      "model_name": "HBoxModel",
      "state": {
       "children": [
        "IPY_MODEL_7aec7f7cc3ed491ba204910b1704ee2d",
        "IPY_MODEL_27242ebfa1bd4d20ae6338eda9dcec32"
       ],
       "layout": "IPY_MODEL_b4cf2f0479b24f488bb36cea2881f00e"
      }
     },
     "b856ac99ac114d82b77c4c117e92d67d": {
      "model_module": "@jupyter-widgets/controls",
      "model_module_version": "2.0.0",
      "model_name": "HTMLModel",
      "state": {
       "layout": "IPY_MODEL_71259516736841a9bc8b3fe457cea863",
       "style": "IPY_MODEL_0280edc2d60b45129cedb25d41082078",
       "value": " to "
      }
     },
     "b8833b71a28c473b9a0b2753200c2dd6": {
      "model_module": "@jupyter-widgets/base",
      "model_module_version": "2.0.0",
      "model_name": "LayoutModel",
      "state": {}
     },
     "b897bb69ece441c596f78a2a10e778ff": {
      "model_module": "@jupyter-widgets/base",
      "model_module_version": "2.0.0",
      "model_name": "LayoutModel",
      "state": {
       "width": "50%"
      }
     },
     "b8c116810af24c23addbdf55a8458f6c": {
      "model_module": "@jupyter-widgets/controls",
      "model_module_version": "2.0.0",
      "model_name": "HBoxModel",
      "state": {
       "children": [
        "IPY_MODEL_7a931ad2ca514e7dbce763a0f58ba5c1",
        "IPY_MODEL_ca5395e0dc944afda75f2a465ac5b9d8"
       ],
       "layout": "IPY_MODEL_57a0161dbdce475191daf704c701de91"
      }
     },
     "b8e40bf7bccd4dd18821b5fb336c9761": {
      "model_module": "@jupyter-widgets/controls",
      "model_module_version": "2.0.0",
      "model_name": "HTMLModel",
      "state": {
       "layout": "IPY_MODEL_10b5a17617784ef0a934de2fcad1fd6e",
       "style": "IPY_MODEL_23b5313f44ca4868bbf91e9736068384",
       "value": "3.1.3.1"
      }
     },
     "b8fa7e40dd064fb5a6787ac2f13f0750": {
      "model_module": "@jupyter-widgets/controls",
      "model_module_version": "2.0.0",
      "model_name": "TextModel",
      "state": {
       "layout": "IPY_MODEL_9730fabd722641c1b6561f08d0e88219",
       "style": "IPY_MODEL_be453c130c6040c98da3777f44524ab7",
       "value": "Image captioning"
      }
     },
     "b908ff41e23546f08ddda803b59382b7": {
      "model_module": "@jupyter-widgets/controls",
      "model_module_version": "2.0.0",
      "model_name": "HBoxModel",
      "state": {
       "children": [
        "IPY_MODEL_1d61a529240f44a89a00be55a1241df6",
        "IPY_MODEL_740f22d026104803a0e2e2d1acb07456"
       ],
       "layout": "IPY_MODEL_a5f39af680f144d2b6b5229fb93e1e6c"
      }
     },
     "b94c0868f8cf40db8bb21b1463c92cb2": {
      "model_module": "@jupyter-widgets/controls",
      "model_module_version": "2.0.0",
      "model_name": "HTMLStyleModel",
      "state": {
       "description_width": "",
       "font_size": null,
       "text_color": null
      }
     },
     "b9522e0b47a24b61afc42f2d6af9dfb2": {
      "model_module": "@jupyter-widgets/controls",
      "model_module_version": "2.0.0",
      "model_name": "VBoxModel",
      "state": {
       "children": [
        "IPY_MODEL_ae4964b7eed2458783949f8aa47e47eb",
        "IPY_MODEL_ad7c608b668b46c2ab6813078866bd70"
       ],
       "layout": "IPY_MODEL_335e86262a564c6ab325d71ad9d1c9b7"
      }
     },
     "b9726c1a227b4668b81ac8c34c3ab10c": {
      "model_module": "@jupyter-widgets/base",
      "model_module_version": "2.0.0",
      "model_name": "LayoutModel",
      "state": {
       "justify_content": "flex-start"
      }
     },
     "b9a0cb00ef2d4a20845535767d0da868": {
      "model_module": "@jupyter-widgets/controls",
      "model_module_version": "2.0.0",
      "model_name": "HTMLStyleModel",
      "state": {
       "description_width": "",
       "font_size": null,
       "text_color": null
      }
     },
     "b9b000628f674728b017e2c21ab72d2f": {
      "model_module": "@jupyter-widgets/controls",
      "model_module_version": "2.0.0",
      "model_name": "HBoxModel",
      "state": {
       "children": [
        "IPY_MODEL_2acc36b60af5401487be9c743b747e77",
        "IPY_MODEL_bb75ac1dd0924efcbf469b74fda46d36"
       ],
       "layout": "IPY_MODEL_1069942dbdd14a6eae5cb2c01bcbdc58"
      }
     },
     "b9eee198773048da994df50a3ef9f4bc": {
      "model_module": "@jupyter-widgets/controls",
      "model_module_version": "2.0.0",
      "model_name": "HTMLStyleModel",
      "state": {
       "description_width": "",
       "font_size": null,
       "text_color": null
      }
     },
     "ba39bdaa6a3f4c7995e233128a348efb": {
      "model_module": "@jupyter-widgets/controls",
      "model_module_version": "2.0.0",
      "model_name": "VBoxModel",
      "state": {
       "children": [
        "IPY_MODEL_98a73da70c1e4799922bebd3f91c58ca",
        "IPY_MODEL_703307f5e61e457f9949d42abcc5805b"
       ],
       "layout": "IPY_MODEL_0fb4f24e9e10450f9a279677e42b5b7a"
      }
     },
     "ba7c3063633a4baaa21f0c601931d954": {
      "model_module": "@jupyter-widgets/controls",
      "model_module_version": "2.0.0",
      "model_name": "HTMLModel",
      "state": {
       "layout": "IPY_MODEL_4906107abb4a4339815c9c56de233369",
       "style": "IPY_MODEL_e29734b3401a485e8c167dcdec65a639",
       "value": " to "
      }
     },
     "ba80b38ac95f4bfd81731eaee845d4dd": {
      "model_module": "@jupyter-widgets/controls",
      "model_module_version": "2.0.0",
      "model_name": "ButtonModel",
      "state": {
       "description": "Retrieve",
       "icon": "list",
       "layout": "IPY_MODEL_7ead0893f7c24433ad3b35c042885667",
       "style": "IPY_MODEL_8811819196ec49788475ea78bef97dea",
       "tooltip": "Retrieve related references"
      }
     },
     "ba8c3abaed7b4c0c91a6924f18113eee": {
      "model_module": "@jupyter-widgets/controls",
      "model_module_version": "2.0.0",
      "model_name": "TextStyleModel",
      "state": {
       "description_width": "",
       "font_size": null,
       "text_color": null
      }
     },
     "baf2a2f651cb4ee6a1fec65a02dcf8e9": {
      "model_module": "@jupyter-widgets/controls",
      "model_module_version": "2.0.0",
      "model_name": "HTMLModel",
      "state": {
       "layout": "IPY_MODEL_184fbbbb0f274f398ddd46b3babcb029",
       "style": "IPY_MODEL_7bc39acb305c4b0396427a8f513f7993",
       "value": "words:"
      }
     },
     "bafc47b9387a441087feeb66d15247d7": {
      "model_module": "@jupyter-widgets/base",
      "model_module_version": "2.0.0",
      "model_name": "LayoutModel",
      "state": {
       "width": "50%"
      }
     },
     "bb75ac1dd0924efcbf469b74fda46d36": {
      "model_module": "@jupyter-widgets/controls",
      "model_module_version": "2.0.0",
      "model_name": "HBoxModel",
      "state": {
       "children": [
        "IPY_MODEL_1e9f1e2137be456f8a2ba9298e0420cb",
        "IPY_MODEL_fe03822f0ac9409d949b1cd6bb8c470e"
       ],
       "layout": "IPY_MODEL_51bafdbd498f4ba5a614fbba4682a262"
      }
     },
     "bbba3974678d4814a8e93d458047a344": {
      "model_module": "@jupyter-widgets/controls",
      "model_module_version": "2.0.0",
      "model_name": "TextStyleModel",
      "state": {
       "description_width": "50px",
       "font_size": null,
       "text_color": null
      }
     },
     "bbf8d0cf3e9b4f659e92e231b2334ea0": {
      "model_module": "@jupyter-widgets/controls",
      "model_module_version": "2.0.0",
      "model_name": "TextModel",
      "state": {
       "layout": "IPY_MODEL_111b9b03b9824cf5a5853cf25f4c1152",
       "placeholder": "20",
       "style": "IPY_MODEL_6153bdfd8382433990a6ee7df3687d4b",
       "value": "20"
      }
     },
     "bc14c602cf244d04bd166b532339a92c": {
      "model_module": "@jupyter-widgets/controls",
      "model_module_version": "2.0.0",
      "model_name": "HTMLModel",
      "state": {
       "layout": "IPY_MODEL_3e11dd676ece4d9881caaca96a6a1783",
       "style": "IPY_MODEL_79632380bb684f63b7e42988e48d5ca5",
       "value": "queries,"
      }
     },
     "bc54e833d59c494998c9cf0fdd083d65": {
      "model_module": "@jupyter-widgets/controls",
      "model_module_version": "2.0.0",
      "model_name": "HBoxModel",
      "state": {
       "children": [
        "IPY_MODEL_92de2768387e4c17b000807d7ada29d7",
        "IPY_MODEL_493f214bdc2349c1b28e1b7f0cd5b01d"
       ],
       "layout": "IPY_MODEL_ad2fbcd2c6244498955a41db79019126"
      }
     },
     "bca3940aafec485f9424d11426d15aca": {
      "model_module": "@jupyter-widgets/base",
      "model_module_version": "2.0.0",
      "model_name": "LayoutModel",
      "state": {}
     },
     "bd31d4bffbaf46f5bdcff8cf877d7cd0": {
      "model_module": "@jupyter-widgets/base",
      "model_module_version": "2.0.0",
      "model_name": "LayoutModel",
      "state": {}
     },
     "bd441aa06452478598dca96ba8fab805": {
      "model_module": "@jupyter-widgets/controls",
      "model_module_version": "2.0.0",
      "model_name": "TextStyleModel",
      "state": {
       "background": "#000000",
       "description_width": "50px",
       "font_size": null,
       "text_color": null
      }
     },
     "bd615926d85e4743aff72d26260fe37c": {
      "model_module": "@jupyter-widgets/controls",
      "model_module_version": "2.0.0",
      "model_name": "VBoxModel",
      "state": {
       "children": [
        "IPY_MODEL_0b49c1feebad4416bc712e2277ef5848",
        "IPY_MODEL_7b772ed27bdc42a5836919fd44bc5698"
       ],
       "layout": "IPY_MODEL_32ea2693136149428aa96b8b9701a934"
      }
     },
     "bd6a34d40f96446d92f2087f95dae9fa": {
      "model_module": "@jupyter-widgets/controls",
      "model_module_version": "2.0.0",
      "model_name": "HTMLModel",
      "state": {
       "layout": "IPY_MODEL_51a34e9537d34057a027e133320ecd0b",
       "style": "IPY_MODEL_01b6d9f8e9f846bf8010b59d439dc838",
       "value": "4"
      }
     },
     "bd6fa834c6664d0f8feb409bc5bd0c00": {
      "model_module": "@jupyter-widgets/controls",
      "model_module_version": "2.0.0",
      "model_name": "TextModel",
      "state": {
       "layout": "IPY_MODEL_d7edf02e1ff34c1a9ca09f941ac271fa",
       "style": "IPY_MODEL_3db3975f5add45e3b0799809ec5343ce",
       "value": "Perturbation-based approaches"
      }
     },
     "bd81337eaa4d432cbc671d4e75909f03": {
      "model_module": "@jupyter-widgets/controls",
      "model_module_version": "2.0.0",
      "model_name": "ButtonModel",
      "state": {
       "description": "Translate",
       "icon": "language",
       "layout": "IPY_MODEL_5cc4006ee91b4f9a8152635fc17b076b",
       "style": "IPY_MODEL_3e454e291d3f4316a8cd6beb99c32b07",
       "tooltip": "Click and translate the details for this section"
      }
     },
     "bd81b6e255774c0c84a54bade6d18629": {
      "model_module": "@jupyter-widgets/base",
      "model_module_version": "2.0.0",
      "model_name": "LayoutModel",
      "state": {
       "border_bottom": "1px solid purple",
       "border_left": "1px solid purple",
       "border_right": "1px solid purple",
       "border_top": "1px solid purple",
       "justify_content": "flex-start",
       "width": "auto"
      }
     },
     "bd8c2d17a77e4d38b641d1aabc9f69e3": {
      "model_module": "@jupyter-widgets/base",
      "model_module_version": "2.0.0",
      "model_name": "LayoutModel",
      "state": {
       "width": "50%"
      }
     },
     "bd9544cc08b8471b8b1821877cf568e4": {
      "model_module": "@jupyter-widgets/controls",
      "model_module_version": "2.0.0",
      "model_name": "TextModel",
      "state": {
       "layout": "IPY_MODEL_31170dacfb0444f9a5a07ee100d465f7",
       "placeholder": "20",
       "style": "IPY_MODEL_3f1bf5f59c014a11b07aade2bcbbcfb6",
       "value": "20"
      }
     },
     "bdcf9c208fe4467c8f2a1ff4dbafc517": {
      "model_module": "@jupyter-widgets/controls",
      "model_module_version": "2.0.0",
      "model_name": "HTMLStyleModel",
      "state": {
       "description_width": "",
       "font_size": null,
       "text_color": null
      }
     },
     "be3fab13ada24b4cbcbf8e6801224e10": {
      "model_module": "@jupyter-widgets/base",
      "model_module_version": "2.0.0",
      "model_name": "LayoutModel",
      "state": {
       "justify_content": "flex-start",
       "width": "60px"
      }
     },
     "be453c130c6040c98da3777f44524ab7": {
      "model_module": "@jupyter-widgets/controls",
      "model_module_version": "2.0.0",
      "model_name": "TextStyleModel",
      "state": {
       "background": "#000000",
       "description_width": "50px",
       "font_size": null,
       "text_color": null
      }
     },
     "be6aa8ba48294dd98ec58f3e70b75f30": {
      "model_module": "@jupyter-widgets/base",
      "model_module_version": "2.0.0",
      "model_name": "LayoutModel",
      "state": {
       "justify_content": "flex-start",
       "width": "40px"
      }
     },
     "befb3479f2d64427946bee913abaf024": {
      "model_module": "@jupyter-widgets/base",
      "model_module_version": "2.0.0",
      "model_name": "LayoutModel",
      "state": {}
     },
     "bf22e0193677449d89083834d6683889": {
      "model_module": "@jupyter-widgets/base",
      "model_module_version": "2.0.0",
      "model_name": "LayoutModel",
      "state": {
       "justify_content": "flex-start",
       "width": "60px"
      }
     },
     "bf3885b963f34b608f6e9fcc79e39da9": {
      "model_module": "@jupyter-widgets/base",
      "model_module_version": "2.0.0",
      "model_name": "LayoutModel",
      "state": {}
     },
     "bf528ba2a8d94436b485b5bb5036c6d1": {
      "model_module": "@jupyter-widgets/base",
      "model_module_version": "2.0.0",
      "model_name": "LayoutModel",
      "state": {
       "justify_content": "flex-start"
      }
     },
     "c0a3e968ce4447ca9478a29dfa6bc093": {
      "model_module": "@jupyter-widgets/controls",
      "model_module_version": "2.0.0",
      "model_name": "TextModel",
      "state": {
       "layout": "IPY_MODEL_a80fc34352ba4e26883fd7f3516c3337",
       "placeholder": "20",
       "style": "IPY_MODEL_9beaa9fd85434482ab17e3aebe175acd",
       "value": "20"
      }
     },
     "c0a688ab1418454696a67c3fd04334b3": {
      "model_module": "@jupyter-widgets/base",
      "model_module_version": "2.0.0",
      "model_name": "LayoutModel",
      "state": {}
     },
     "c0c77f5c658044ff9f0d83f236f60659": {
      "model_module": "@jupyter-widgets/base",
      "model_module_version": "2.0.0",
      "model_name": "LayoutModel",
      "state": {
       "width": "auto"
      }
     },
     "c104004641754f3086878edcae132d8a": {
      "model_module": "@jupyter-widgets/controls",
      "model_module_version": "2.0.0",
      "model_name": "TextStyleModel",
      "state": {
       "background": "transparent",
       "description_width": "50px",
       "font_size": null,
       "text_color": null
      }
     },
     "c11f8526b7b2446eb69d3a3a7d736f65": {
      "model_module": "@jupyter-widgets/controls",
      "model_module_version": "2.0.0",
      "model_name": "TextStyleModel",
      "state": {
       "background": "#000000",
       "description_width": "50px",
       "font_size": null,
       "text_color": null
      }
     },
     "c1214f14bb9c469e98a62b65569543f8": {
      "model_module": "@jupyter-widgets/controls",
      "model_module_version": "2.0.0",
      "model_name": "ButtonStyleModel",
      "state": {
       "font_family": null,
       "font_size": null,
       "font_style": null,
       "font_variant": null,
       "font_weight": null,
       "text_color": null,
       "text_decoration": null
      }
     },
     "c14ab3bf2edd4345912dcd3fa7eec613": {
      "model_module": "@jupyter-widgets/base",
      "model_module_version": "2.0.0",
      "model_name": "LayoutModel",
      "state": {
       "width": "50%"
      }
     },
     "c167118a3ae841fe83d2c3e7516956bd": {
      "model_module": "@jupyter-widgets/base",
      "model_module_version": "2.0.0",
      "model_name": "LayoutModel",
      "state": {
       "justify_content": "flex-start",
       "width": "90%"
      }
     },
     "c1c3551cd23146dbaebe77bbe5aa36b6": {
      "model_module": "@jupyter-widgets/base",
      "model_module_version": "2.0.0",
      "model_name": "LayoutModel",
      "state": {}
     },
     "c1d45fd3c637459b950c42a3e9e57520": {
      "model_module": "@jupyter-widgets/controls",
      "model_module_version": "2.0.0",
      "model_name": "HTMLModel",
      "state": {
       "layout": "IPY_MODEL_d3997e27f9ea49b5b28773d38f26ee16",
       "style": "IPY_MODEL_480521eee3374b9993d31239fa45e443"
      }
     },
     "c2230422370040fc8095c94d872c7347": {
      "model_module": "@jupyter-widgets/controls",
      "model_module_version": "2.0.0",
      "model_name": "TextModel",
      "state": {
       "layout": "IPY_MODEL_b172d58cb9554acd8115d8a67f5ab097",
       "placeholder": "",
       "style": "IPY_MODEL_dc609600b93f423f9dfd73c9d2f23d63",
       "value": "500"
      }
     },
     "c2bd5ae0366b45e383f14fda6603c579": {
      "model_module": "@jupyter-widgets/base",
      "model_module_version": "2.0.0",
      "model_name": "LayoutModel",
      "state": {
       "justify_content": "flex-start",
       "width": "90%"
      }
     },
     "c2c5b907637b4db691a681a2bbc48f34": {
      "model_module": "@jupyter-widgets/controls",
      "model_module_version": "2.0.0",
      "model_name": "HTMLStyleModel",
      "state": {
       "description_width": "",
       "font_size": null,
       "text_color": null
      }
     },
     "c305799dc47442f7829b31fefd6cfeab": {
      "model_module": "@jupyter-widgets/controls",
      "model_module_version": "2.0.0",
      "model_name": "VBoxModel",
      "state": {
       "children": [
        "IPY_MODEL_757851dad6ec49acb111bffcd644dbba",
        "IPY_MODEL_b9522e0b47a24b61afc42f2d6af9dfb2"
       ],
       "layout": "IPY_MODEL_8eee45d8dadf41ff8739dcf124fb2f8d"
      }
     },
     "c385b52c3b8a4378b804ffd9b676be52": {
      "model_module": "@jupyter-widgets/controls",
      "model_module_version": "2.0.0",
      "model_name": "HTMLStyleModel",
      "state": {
       "description_width": "",
       "font_size": null,
       "text_color": null
      }
     },
     "c45842342471434fa6b9bc887873e5e7": {
      "model_module": "@jupyter-widgets/base",
      "model_module_version": "2.0.0",
      "model_name": "LayoutModel",
      "state": {
       "justify_content": "flex-start",
       "width": "60px"
      }
     },
     "c4682899985d48d7970a3084b4208bcd": {
      "model_module": "@jupyter-widgets/controls",
      "model_module_version": "2.0.0",
      "model_name": "TextModel",
      "state": {
       "layout": "IPY_MODEL_ded764a07dc54c2088b03395c8d5b034",
       "placeholder": "",
       "style": "IPY_MODEL_57c433095d4c4aa598a85ef63d901e73",
       "value": "500"
      }
     },
     "c46b9644262241c5ae2900d626855d4f": {
      "model_module": "@jupyter-widgets/controls",
      "model_module_version": "2.0.0",
      "model_name": "ButtonModel",
      "state": {
       "description": "Translate",
       "icon": "language",
       "layout": "IPY_MODEL_7ead0893f7c24433ad3b35c042885667",
       "style": "IPY_MODEL_caf378e2d51e4c819a1654e25b6e7a8a",
       "tooltip": "Click and translate the details for this section"
      }
     },
     "c482b5e79ae74172ab9d0a09f595164d": {
      "model_module": "@jupyter-widgets/controls",
      "model_module_version": "2.0.0",
      "model_name": "TextStyleModel",
      "state": {
       "description_width": "50px",
       "font_size": null,
       "text_color": null
      }
     },
     "c50c85f1f4344850ada4b45ef690b114": {
      "model_module": "@jupyter-widgets/base",
      "model_module_version": "2.0.0",
      "model_name": "LayoutModel",
      "state": {}
     },
     "c568e6da60bc461f8f33ef3a119a0e71": {
      "model_module": "@jupyter-widgets/controls",
      "model_module_version": "2.0.0",
      "model_name": "ButtonModel",
      "state": {
       "description": "Summarize All",
       "icon": "radiation",
       "layout": "IPY_MODEL_358449a0d69c488e8ad235d6543496b6",
       "style": "IPY_MODEL_327cb31d739a4ac989e411dc678b4b6e",
       "tooltip": "Summarize all sections with one click"
      }
     },
     "c58695343e3845d7b016f14cc1c0ad5c": {
      "model_module": "@jupyter-widgets/controls",
      "model_module_version": "2.0.0",
      "model_name": "HTMLModel",
      "state": {
       "layout": "IPY_MODEL_fb0f3333617946c48db0d788b44a50dc",
       "style": "IPY_MODEL_219e8c3c61e4452884874bb98869e885",
       "value": "words:"
      }
     },
     "c59a8d0f836b4ab3b15189cae483b57a": {
      "model_module": "@jupyter-widgets/controls",
      "model_module_version": "2.0.0",
      "model_name": "ButtonStyleModel",
      "state": {
       "font_family": null,
       "font_size": null,
       "font_style": null,
       "font_variant": null,
       "font_weight": null,
       "text_color": null,
       "text_decoration": null
      }
     },
     "c5cb42f17ac7409b929168a0c96153af": {
      "model_module": "@jupyter-widgets/controls",
      "model_module_version": "2.0.0",
      "model_name": "ButtonModel",
      "state": {
       "description": "Translate",
       "icon": "language",
       "layout": "IPY_MODEL_164b4acd26e84748b47558b0bb0e9b2d",
       "style": "IPY_MODEL_d421b53e9f1c4396bafc9fce48c197b5",
       "tooltip": "Click and translate the details for this section"
      }
     },
     "c5d3ae4967e5405d8c10e8a6347f6fd2": {
      "model_module": "@jupyter-widgets/controls",
      "model_module_version": "2.0.0",
      "model_name": "TextModel",
      "state": {
       "layout": "IPY_MODEL_21319998f0d74f1abc90bee987addeaf",
       "style": "IPY_MODEL_77e7adbe4d4844ab87b0a0b8a30b2e60",
       "value": "Post hoc explanation"
      }
     },
     "c5f8ef51f7d5439784944ba1a7861966": {
      "model_module": "@jupyter-widgets/controls",
      "model_module_version": "2.0.0",
      "model_name": "TextStyleModel",
      "state": {
       "background": "#000000",
       "description_width": "50px",
       "font_size": null,
       "text_color": null
      }
     },
     "c5fbed4cfa684f11aa6ba4a2995f74f2": {
      "model_module": "@jupyter-widgets/controls",
      "model_module_version": "2.0.0",
      "model_name": "ButtonModel",
      "state": {
       "description": "Retrieve",
       "icon": "list",
       "layout": "IPY_MODEL_8053cfb70fa34c1c89d73a839abbb720",
       "style": "IPY_MODEL_3d6af4a2444d47b39f6398e158fd5b44",
       "tooltip": "Retrieve related references"
      }
     },
     "c633350802d441d6b0bf6e815ae189f6": {
      "model_module": "@jupyter-widgets/controls",
      "model_module_version": "2.0.0",
      "model_name": "TextStyleModel",
      "state": {
       "description_width": "50px",
       "font_size": null,
       "text_color": null
      }
     },
     "c63826443a2e4140952b0fb31a71ec6e": {
      "model_module": "@jupyter-widgets/controls",
      "model_module_version": "2.0.0",
      "model_name": "TextStyleModel",
      "state": {
       "description_width": "",
       "font_size": null,
       "text_color": null
      }
     },
     "c6595b27845a4d5a8a1cae648d08c095": {
      "model_module": "@jupyter-widgets/controls",
      "model_module_version": "2.0.0",
      "model_name": "VBoxModel",
      "state": {
       "children": [
        "IPY_MODEL_315674f0567341e89b324bf13ea5db2a",
        "IPY_MODEL_242974ea51cf4e989fc4223a0d859214"
       ],
       "layout": "IPY_MODEL_7150324fd1884b84a7a5055853bc043d"
      }
     },
     "c684bd50d0cb4556a7bab6ff6229d629": {
      "model_module": "@jupyter-widgets/controls",
      "model_module_version": "2.0.0",
      "model_name": "VBoxModel",
      "state": {
       "children": [
        "IPY_MODEL_3ad48b2a8784400cb6026ad0f4cccd9b",
        "IPY_MODEL_9ff2450763b84963a8b1f38ea5fd10c8"
       ],
       "layout": "IPY_MODEL_41b1e9714e43403db139d9940b818113"
      }
     },
     "c6a58ad560864b469efcffdad0801a4f": {
      "model_module": "@jupyter-widgets/base",
      "model_module_version": "2.0.0",
      "model_name": "LayoutModel",
      "state": {
       "justify_content": "flex-start",
       "width": "60px"
      }
     },
     "c6b8233ea96a478ba0e91d306ce4db86": {
      "model_module": "@jupyter-widgets/base",
      "model_module_version": "2.0.0",
      "model_name": "LayoutModel",
      "state": {}
     },
     "c6ecd2b9a1314cd692a00ed3b709e661": {
      "model_module": "@jupyter-widgets/controls",
      "model_module_version": "2.0.0",
      "model_name": "VBoxModel",
      "state": {
       "children": [
        "IPY_MODEL_3a416e9224db4d1cbfcc7a118040a815",
        "IPY_MODEL_c1d45fd3c637459b950c42a3e9e57520"
       ],
       "layout": "IPY_MODEL_a2f331707c6b4f5aa983b8878816290b"
      }
     },
     "c6edc2dd91af4e8a91cc8a1d3f179431": {
      "model_module": "@jupyter-widgets/controls",
      "model_module_version": "2.0.0",
      "model_name": "VBoxModel",
      "state": {
       "children": [
        "IPY_MODEL_9e5e43350b1f43a4a36354f5331f2bc0",
        "IPY_MODEL_b7caad4f230c45a8b7d77ca47a9454aa"
       ],
       "layout": "IPY_MODEL_cf68963abd724b678704ca02cffd3df3"
      }
     },
     "c7020a6eb0fb4dfdb3122592d00900f8": {
      "model_module": "@jupyter-widgets/base",
      "model_module_version": "2.0.0",
      "model_name": "LayoutModel",
      "state": {
       "border_bottom": "solid 1px gray",
       "border_left": "solid 1px gray",
       "border_right": "solid 1px gray",
       "border_top": "solid 1px gray"
      }
     },
     "c73286b36f124bf48ab402cba521b19a": {
      "model_module": "@jupyter-widgets/base",
      "model_module_version": "2.0.0",
      "model_name": "LayoutModel",
      "state": {
       "justify_content": "flex-start"
      }
     },
     "c748e5a30e6047e78c228ae4c46e8408": {
      "model_module": "@jupyter-widgets/controls",
      "model_module_version": "2.0.0",
      "model_name": "HTMLStyleModel",
      "state": {
       "description_width": "",
       "font_size": null,
       "text_color": null
      }
     },
     "c76c272166dc4b09aa7c29f215785d32": {
      "model_module": "@jupyter-widgets/controls",
      "model_module_version": "2.0.0",
      "model_name": "TextStyleModel",
      "state": {
       "description_width": "",
       "font_size": null,
       "text_color": null
      }
     },
     "c7ee3e808da2437b9f8881d3c0475497": {
      "model_module": "@jupyter-widgets/base",
      "model_module_version": "2.0.0",
      "model_name": "LayoutModel",
      "state": {}
     },
     "c85d789a84084a568edfed4555cb3988": {
      "model_module": "@jupyter-widgets/controls",
      "model_module_version": "2.0.0",
      "model_name": "TextStyleModel",
      "state": {
       "description_width": "",
       "font_size": null,
       "text_color": null
      }
     },
     "c88185fa61114c1fb43b43267e58b2d7": {
      "model_module": "@jupyter-widgets/controls",
      "model_module_version": "2.0.0",
      "model_name": "TextStyleModel",
      "state": {
       "background": "#000000",
       "description_width": "50px",
       "font_size": null,
       "text_color": null
      }
     },
     "c8a7e39761a84286825f943c5718109e": {
      "model_module": "@jupyter-widgets/controls",
      "model_module_version": "2.0.0",
      "model_name": "HTMLStyleModel",
      "state": {
       "description_width": "",
       "font_size": null,
       "text_color": null
      }
     },
     "c97980960e784236816a341c5b66fa3b": {
      "model_module": "@jupyter-widgets/controls",
      "model_module_version": "2.0.0",
      "model_name": "TextModel",
      "state": {
       "description": "Prompt",
       "layout": "IPY_MODEL_147ff05b77764811b52837f0828c3829",
       "placeholder": "",
       "style": "IPY_MODEL_acdb9c69499b489dab4539cad84bfd4b"
      }
     },
     "c9827c0a33144f0ea83b84446e87a685": {
      "model_module": "@jupyter-widgets/controls",
      "model_module_version": "2.0.0",
      "model_name": "VBoxModel",
      "state": {
       "children": [
        "IPY_MODEL_8545765bbeb04a76a7d78bf85b77fd34",
        "IPY_MODEL_4a266dc7fd614029b51db32d5032f94c"
       ],
       "layout": "IPY_MODEL_d0b6a25e68914c819c20e5886c0c2957"
      }
     },
     "c988c89a7f374ceb9aacfd45d8a7873e": {
      "model_module": "@jupyter-widgets/controls",
      "model_module_version": "2.0.0",
      "model_name": "ButtonModel",
      "state": {
       "description": "Translate",
       "icon": "language",
       "layout": "IPY_MODEL_800c221bba114729b70233528cc7c241",
       "style": "IPY_MODEL_7d875fa75b6d455b83febbe7538c394e",
       "tooltip": "Click and translate the details for this section"
      }
     },
     "c9d9c134412d431a874e4bc2a7ad0bbb": {
      "model_module": "@jupyter-widgets/controls",
      "model_module_version": "2.0.0",
      "model_name": "TextStyleModel",
      "state": {
       "description_width": "",
       "font_size": null,
       "text_color": null
      }
     },
     "ca3d7ed264da4a739a7dfd0d76c426e0": {
      "model_module": "@jupyter-widgets/controls",
      "model_module_version": "2.0.0",
      "model_name": "VBoxModel",
      "state": {
       "children": [
        "IPY_MODEL_015a2c01d7f2479c81256cd08d728507",
        "IPY_MODEL_814024d0b6a443d4abd8fe0f98de2e6c"
       ],
       "layout": "IPY_MODEL_d8ca5d87b89048a19cd85fa9fbfd74cb"
      }
     },
     "ca5395e0dc944afda75f2a465ac5b9d8": {
      "model_module": "@jupyter-widgets/controls",
      "model_module_version": "2.0.0",
      "model_name": "HBoxModel",
      "state": {
       "children": [
        "IPY_MODEL_db8233138991484dacf6a65d227f9375",
        "IPY_MODEL_6536e04ca6cc40688637ecbe5443c4c8",
        "IPY_MODEL_c58695343e3845d7b016f14cc1c0ad5c"
       ],
       "layout": "IPY_MODEL_293f652edce84a95b50fe21b30d86273"
      }
     },
     "ca8a910561bd4db3b4609001c936ffb6": {
      "model_module": "@jupyter-widgets/controls",
      "model_module_version": "2.0.0",
      "model_name": "TextStyleModel",
      "state": {
       "description_width": "",
       "font_size": null,
       "text_color": null
      }
     },
     "ca93da53a68e4e3cb68f142c3e8621f5": {
      "model_module": "@jupyter-widgets/controls",
      "model_module_version": "2.0.0",
      "model_name": "TextStyleModel",
      "state": {
       "description_width": "",
       "font_size": null,
       "text_color": null
      }
     },
     "cada7653304546c89f37cd3758c5f16e": {
      "model_module": "@jupyter-widgets/base",
      "model_module_version": "2.0.0",
      "model_name": "LayoutModel",
      "state": {}
     },
     "cae45b7697c446ec8bf0f76888e49284": {
      "model_module": "@jupyter-widgets/controls",
      "model_module_version": "2.0.0",
      "model_name": "HBoxModel",
      "state": {
       "children": [
        "IPY_MODEL_bd9544cc08b8471b8b1821877cf568e4",
        "IPY_MODEL_fca159e36d6c432cbe81510f80aac878"
       ],
       "layout": "IPY_MODEL_b583c2c98cd3445bb15ae59be78b959d"
      }
     },
     "caf378e2d51e4c819a1654e25b6e7a8a": {
      "model_module": "@jupyter-widgets/controls",
      "model_module_version": "2.0.0",
      "model_name": "ButtonStyleModel",
      "state": {
       "font_family": null,
       "font_size": null,
       "font_style": null,
       "font_variant": null,
       "font_weight": null,
       "text_color": null,
       "text_decoration": null
      }
     },
     "cb00b851c0024981a2e22bc5fae89c2d": {
      "model_module": "@jupyter-widgets/base",
      "model_module_version": "2.0.0",
      "model_name": "LayoutModel",
      "state": {
       "width": "auto"
      }
     },
     "cb5ce15e737e433b95cf0d4df124f61c": {
      "model_module": "@jupyter-widgets/base",
      "model_module_version": "2.0.0",
      "model_name": "LayoutModel",
      "state": {
       "justify_content": "flex-start",
       "width": "90%"
      }
     },
     "cb6843977db84739aa16d0109eb0b72f": {
      "model_module": "@jupyter-widgets/base",
      "model_module_version": "2.0.0",
      "model_name": "LayoutModel",
      "state": {}
     },
     "cb8a60eacbac467390746b5e7959ca78": {
      "model_module": "@jupyter-widgets/base",
      "model_module_version": "2.0.0",
      "model_name": "LayoutModel",
      "state": {}
     },
     "cb946d88dbc44e8eb7212f803d67f536": {
      "model_module": "@jupyter-widgets/base",
      "model_module_version": "2.0.0",
      "model_name": "LayoutModel",
      "state": {}
     },
     "cbd12fb4932842bd94a707338f4e1280": {
      "model_module": "@jupyter-widgets/base",
      "model_module_version": "2.0.0",
      "model_name": "LayoutModel",
      "state": {}
     },
     "cc10c8030b304810824d3297e312cd13": {
      "model_module": "@jupyter-widgets/base",
      "model_module_version": "2.0.0",
      "model_name": "LayoutModel",
      "state": {}
     },
     "cc4683e73f654b2aaa43db49b7d0cda1": {
      "model_module": "@jupyter-widgets/controls",
      "model_module_version": "2.0.0",
      "model_name": "ButtonModel",
      "state": {
       "description": "Retrieve",
       "icon": "list",
       "layout": "IPY_MODEL_3e3e9407c04f48648561798af81472c1",
       "style": "IPY_MODEL_3e1b82e8a4ab4ded9b52772f4926b95a",
       "tooltip": "Retrieve related references"
      }
     },
     "cc5c99acc7be43f6a6853a745cd6035d": {
      "model_module": "@jupyter-widgets/controls",
      "model_module_version": "2.0.0",
      "model_name": "HBoxModel",
      "state": {
       "children": [
        "IPY_MODEL_00c4ae749d2d4c65a37fbcd4491ac8d0",
        "IPY_MODEL_87914d7d34ec4f63a2e885ed355222ee"
       ],
       "layout": "IPY_MODEL_6215f4b5e9c548fa8cdcca27a68b07bb"
      }
     },
     "cc77a1cabf684915b04f33bf1eea8f16": {
      "model_module": "@jupyter-widgets/base",
      "model_module_version": "2.0.0",
      "model_name": "LayoutModel",
      "state": {
       "justify_content": "flex-start",
       "width": "60px"
      }
     },
     "cca89f906c6e4c04bc57cb5a0ba069af": {
      "model_module": "@jupyter-widgets/base",
      "model_module_version": "2.0.0",
      "model_name": "LayoutModel",
      "state": {
       "border_bottom": "1px solid transparent",
       "border_left": "1px solid transparent",
       "border_right": "1px solid transparent",
       "border_top": "1px solid transparent",
       "justify_content": "flex-start",
       "width": "99%"
      }
     },
     "ccaecd40223f4fad93a733e76f1b4504": {
      "model_module": "@jupyter-widgets/base",
      "model_module_version": "2.0.0",
      "model_name": "LayoutModel",
      "state": {}
     },
     "ccf2b752d3934dc7bdc67ab6843c8135": {
      "model_module": "@jupyter-widgets/base",
      "model_module_version": "2.0.0",
      "model_name": "LayoutModel",
      "state": {
       "justify_content": "flex-start"
      }
     },
     "ccf82f3effc84c7992016c464ea54243": {
      "model_module": "@jupyter-widgets/controls",
      "model_module_version": "2.0.0",
      "model_name": "TextModel",
      "state": {
       "layout": "IPY_MODEL_630347ba9c3f4eccb86a182578efc9c9",
       "style": "IPY_MODEL_b068475754a142c3a93850aa6e93b46f",
       "value": "A thorough comparison of supervised, weakly supervised, and unsupervised learning approaches in AI for liver cancer analysis."
      }
     },
     "cd13651b185d4db4b885fa27bd9db180": {
      "model_module": "@jupyter-widgets/controls",
      "model_module_version": "2.0.0",
      "model_name": "ButtonStyleModel",
      "state": {
       "font_family": null,
       "font_size": null,
       "font_style": null,
       "font_variant": null,
       "font_weight": null,
       "text_color": null,
       "text_decoration": null
      }
     },
     "cd70080011b6451897e00c6ded730189": {
      "model_module": "@jupyter-widgets/controls",
      "model_module_version": "2.0.0",
      "model_name": "HTMLModel",
      "state": {
       "layout": "IPY_MODEL_a99f528e38e14d9b828d2251d263a2eb",
       "style": "IPY_MODEL_829c54ba0653434a877785b33bbea51b"
      }
     },
     "cdd4c366b5ec4f33b802c5b70924ff08": {
      "model_module": "@jupyter-widgets/base",
      "model_module_version": "2.0.0",
      "model_name": "LayoutModel",
      "state": {}
     },
     "cdd9c49163e749ea8fcc4143e458cd8b": {
      "model_module": "@jupyter-widgets/controls",
      "model_module_version": "2.0.0",
      "model_name": "HBoxModel",
      "state": {
       "children": [
        "IPY_MODEL_21e22e40ace346b2b8c6511afd2536a6",
        "IPY_MODEL_d6a8536449314e358fa2a2bd7ddebe30"
       ],
       "layout": "IPY_MODEL_0a938cb8a7f74671a3fb607711a4a4ab"
      }
     },
     "ce336f135fdd4ae5bb8359afdcb83c70": {
      "model_module": "@jupyter-widgets/base",
      "model_module_version": "2.0.0",
      "model_name": "LayoutModel",
      "state": {}
     },
     "ceee662358954e79a99caf01f6d899ef": {
      "model_module": "@jupyter-widgets/output",
      "model_module_version": "1.0.0",
      "model_name": "OutputModel",
      "state": {
       "layout": "IPY_MODEL_1c958fff089942f39a8bdae6d1742a24"
      }
     },
     "cf3ca2defbb64e06bf3cde5641b0d33d": {
      "model_module": "@jupyter-widgets/controls",
      "model_module_version": "2.0.0",
      "model_name": "HTMLModel",
      "state": {
       "layout": "IPY_MODEL_aa9e4c5769ee47bdab96428c417bc0fa",
       "style": "IPY_MODEL_16f68c5c206444968b7f4933c43ff18c",
       "value": "1.1"
      }
     },
     "cf4307b522b941bab4601d97eee1e5ea": {
      "model_module": "@jupyter-widgets/base",
      "model_module_version": "2.0.0",
      "model_name": "LayoutModel",
      "state": {
       "justify_content": "flex-start"
      }
     },
     "cf68963abd724b678704ca02cffd3df3": {
      "model_module": "@jupyter-widgets/base",
      "model_module_version": "2.0.0",
      "model_name": "LayoutModel",
      "state": {
       "width": "50%"
      }
     },
     "cf9b36b859e44287ae6cbc79951be405": {
      "model_module": "@jupyter-widgets/controls",
      "model_module_version": "2.0.0",
      "model_name": "HTMLStyleModel",
      "state": {
       "description_width": "",
       "font_size": null,
       "text_color": null
      }
     },
     "cfa41d072d9b4c5887454baaedcbafe0": {
      "model_module": "@jupyter-widgets/base",
      "model_module_version": "2.0.0",
      "model_name": "LayoutModel",
      "state": {
       "width": "50%"
      }
     },
     "cfaca426a6784c2ca016e95e101c58cf": {
      "model_module": "@jupyter-widgets/controls",
      "model_module_version": "2.0.0",
      "model_name": "HTMLStyleModel",
      "state": {
       "description_width": "",
       "font_size": null,
       "text_color": null
      }
     },
     "cfbb990aa0e944468f89d0a88ebda0b2": {
      "model_module": "@jupyter-widgets/controls",
      "model_module_version": "2.0.0",
      "model_name": "HBoxModel",
      "state": {
       "children": [
        "IPY_MODEL_1673d309290b4012a37b1cb443dcd181",
        "IPY_MODEL_5ecd640d000243199501f30be4fabc33"
       ],
       "layout": "IPY_MODEL_714489ce7b3f48b1802a5e683247bf14"
      }
     },
     "cfd3095538a54c99baab309bdfc4b2a8": {
      "model_module": "@jupyter-widgets/controls",
      "model_module_version": "2.0.0",
      "model_name": "HTMLModel",
      "state": {
       "layout": "IPY_MODEL_d57cdb38868d4d3d9a492ccd9b90f9c5",
       "style": "IPY_MODEL_122483f099414561b2404b49e1ddb96c"
      }
     },
     "cfd924b779c540a9b1ecf7c38000f6a1": {
      "model_module": "@jupyter-widgets/controls",
      "model_module_version": "2.0.0",
      "model_name": "HBoxModel",
      "state": {
       "children": [
        "IPY_MODEL_4c4f35cd09c34514bc26f711ecc77a47",
        "IPY_MODEL_4d34edb45a374512994a9875161f35f2"
       ],
       "layout": "IPY_MODEL_c6b8233ea96a478ba0e91d306ce4db86"
      }
     },
     "cfe8126beb8440a4a713ff370828a1db": {
      "model_module": "@jupyter-widgets/base",
      "model_module_version": "2.0.0",
      "model_name": "LayoutModel",
      "state": {}
     },
     "cff74fceffdb48a09ea6276a783d6688": {
      "model_module": "@jupyter-widgets/base",
      "model_module_version": "2.0.0",
      "model_name": "LayoutModel",
      "state": {}
     },
     "cff7a31988f0440e935cdc1fa7015252": {
      "model_module": "@jupyter-widgets/controls",
      "model_module_version": "2.0.0",
      "model_name": "TextStyleModel",
      "state": {
       "description_width": "",
       "font_size": null,
       "text_color": null
      }
     },
     "cffb537fe016462097e4f26acabff25b": {
      "model_module": "@jupyter-widgets/controls",
      "model_module_version": "2.0.0",
      "model_name": "ButtonModel",
      "state": {
       "description": "Retrieve",
       "icon": "list",
       "layout": "IPY_MODEL_c0c77f5c658044ff9f0d83f236f60659",
       "style": "IPY_MODEL_615fb29675264f29beaee2f35c297644",
       "tooltip": "Retrieve related references"
      }
     },
     "d001751694094405b21e3bdd1570c145": {
      "model_module": "@jupyter-widgets/base",
      "model_module_version": "2.0.0",
      "model_name": "LayoutModel",
      "state": {
       "border_bottom": "solid 1px gray",
       "border_left": "solid 1px gray",
       "border_right": "solid 1px gray",
       "border_top": "solid 1px gray"
      }
     },
     "d01aa91bed174351aa843213210d02d1": {
      "model_module": "@jupyter-widgets/controls",
      "model_module_version": "2.0.0",
      "model_name": "HBoxModel",
      "state": {
       "children": [
        "IPY_MODEL_ffa344c493c6430c81d85e95f921356c",
        "IPY_MODEL_dd66ec1a98d04f0fa20fdcd7202aba8f"
       ],
       "layout": "IPY_MODEL_e28968b0a42c41a985493de99c5094b4"
      }
     },
     "d024c661c2fa4a80952ff53c45540fce": {
      "model_module": "@jupyter-widgets/controls",
      "model_module_version": "2.0.0",
      "model_name": "HBoxModel",
      "state": {
       "children": [
        "IPY_MODEL_4de6819d973f437b8e0512f14b4c03dc",
        "IPY_MODEL_831903d5275448e6ae4577811fab9cea",
        "IPY_MODEL_d0aa8b63de40405892450accb7d46e08"
       ],
       "layout": "IPY_MODEL_da177c33c8554c14869819446c3604a3"
      }
     },
     "d09679c1f89f4bc9adfb2f21bedd3b21": {
      "model_module": "@jupyter-widgets/controls",
      "model_module_version": "2.0.0",
      "model_name": "VBoxModel",
      "state": {
       "children": [
        "IPY_MODEL_f33fe69537a34b8ebd8f87132eaaf331",
        "IPY_MODEL_1e508ea8340e486d8fc71b7607a271d5"
       ],
       "layout": "IPY_MODEL_4234e6e2d8e4466a85943d7d86f38345"
      }
     },
     "d0a593c78f4a4f0687d8577f2b254ec3": {
      "model_module": "@jupyter-widgets/base",
      "model_module_version": "2.0.0",
      "model_name": "LayoutModel",
      "state": {}
     },
     "d0aa8b63de40405892450accb7d46e08": {
      "model_module": "@jupyter-widgets/controls",
      "model_module_version": "2.0.0",
      "model_name": "HTMLModel",
      "state": {
       "layout": "IPY_MODEL_1ae6f95338644519b207eb52e9881217",
       "style": "IPY_MODEL_5eba2bc0521e405aa5ba8a2e11034f13",
       "value": "words:"
      }
     },
     "d0b6a25e68914c819c20e5886c0c2957": {
      "model_module": "@jupyter-widgets/base",
      "model_module_version": "2.0.0",
      "model_name": "LayoutModel",
      "state": {}
     },
     "d0c5dc6e446642c1909d6d22bc0ae7c9": {
      "model_module": "@jupyter-widgets/base",
      "model_module_version": "2.0.0",
      "model_name": "LayoutModel",
      "state": {}
     },
     "d0cbf3c1cc6d4283ad6f7ae2c8914a5f": {
      "model_module": "@jupyter-widgets/base",
      "model_module_version": "2.0.0",
      "model_name": "LayoutModel",
      "state": {}
     },
     "d0ee1a8e67f847dd87c7dadd1fa4f24d": {
      "model_module": "@jupyter-widgets/controls",
      "model_module_version": "2.0.0",
      "model_name": "HBoxModel",
      "state": {
       "children": [
        "IPY_MODEL_f6a074bbe91c48f285e01571c5e12343",
        "IPY_MODEL_5ab7dbcb03b5457094b15c3c80e3077b"
       ],
       "layout": "IPY_MODEL_8b5f22f509e4474596b7fdfb4d976cd9"
      }
     },
     "d103a67c4c1a4586a9d03b0bef48285b": {
      "model_module": "@jupyter-widgets/base",
      "model_module_version": "2.0.0",
      "model_name": "LayoutModel",
      "state": {}
     },
     "d11424081ca040dba0fcccdb888b0236": {
      "model_module": "@jupyter-widgets/base",
      "model_module_version": "2.0.0",
      "model_name": "LayoutModel",
      "state": {
       "border_bottom": "1px solid purple",
       "border_left": "1px solid purple",
       "border_right": "1px solid purple",
       "border_top": "1px solid purple",
       "justify_content": "flex-start",
       "width": "auto"
      }
     },
     "d1172afce1314e168c5f0ee703f11330": {
      "model_module": "@jupyter-widgets/base",
      "model_module_version": "2.0.0",
      "model_name": "LayoutModel",
      "state": {
       "justify_content": "flex-start"
      }
     },
     "d11b2fb6a9fb4a1aab8d078f313f076f": {
      "model_module": "@jupyter-widgets/controls",
      "model_module_version": "2.0.0",
      "model_name": "HTMLStyleModel",
      "state": {
       "description_width": "",
       "font_size": null,
       "text_color": null
      }
     },
     "d12a39dcf7c048b9acb39f71993c507e": {
      "model_module": "@jupyter-widgets/base",
      "model_module_version": "2.0.0",
      "model_name": "LayoutModel",
      "state": {
       "border_bottom": "solid 1px gray",
       "border_left": "solid 1px gray",
       "border_right": "solid 1px gray",
       "border_top": "solid 1px gray"
      }
     },
     "d13533ab546d46ae930d05ba0411044d": {
      "model_module": "@jupyter-widgets/controls",
      "model_module_version": "2.0.0",
      "model_name": "HBoxModel",
      "state": {
       "children": [
        "IPY_MODEL_0166db9506b54f459b71fa1e9f802945",
        "IPY_MODEL_05a03405e62b4a03a4bc461524c87d85"
       ],
       "layout": "IPY_MODEL_d001751694094405b21e3bdd1570c145"
      }
     },
     "d1473be49e4d4877a2f14d727b1d730b": {
      "model_module": "@jupyter-widgets/output",
      "model_module_version": "1.0.0",
      "model_name": "OutputModel",
      "state": {
       "layout": "IPY_MODEL_5f512b75b7854345bd757f8509233ea5"
      }
     },
     "d1494a2b17da4322ab236fa2b2031384": {
      "model_module": "@jupyter-widgets/controls",
      "model_module_version": "2.0.0",
      "model_name": "HBoxModel",
      "state": {
       "children": [
        "IPY_MODEL_301eb220b14b4105ac3ab768128b9bc9",
        "IPY_MODEL_f3de12ddfb264d67ba48370104544f0c"
       ],
       "layout": "IPY_MODEL_d92248ba1e1045debfce474d606e47c8"
      }
     },
     "d1bb6f3cd9c64954bc77dcbd6a77e08f": {
      "model_module": "@jupyter-widgets/controls",
      "model_module_version": "2.0.0",
      "model_name": "HTMLStyleModel",
      "state": {
       "description_width": "",
       "font_size": null,
       "text_color": null
      }
     },
     "d1ccce518e8647ab8febddc3cecbf327": {
      "model_module": "@jupyter-widgets/controls",
      "model_module_version": "2.0.0",
      "model_name": "HBoxModel",
      "state": {
       "children": [
        "IPY_MODEL_e8b14a21b02d4a1397f33eb0d0ff7846",
        "IPY_MODEL_3e0cfe9b3112438cb69ff99ab779ddcf",
        "IPY_MODEL_1a4e44a6df304bceaf204038881bd550"
       ],
       "layout": "IPY_MODEL_bf3885b963f34b608f6e9fcc79e39da9"
      }
     },
     "d1f390cfd20f4adfa2fae6d43e10fae6": {
      "model_module": "@jupyter-widgets/base",
      "model_module_version": "2.0.0",
      "model_name": "LayoutModel",
      "state": {}
     },
     "d1fc4849a22f4110a29cb9247bc88831": {
      "model_module": "@jupyter-widgets/base",
      "model_module_version": "2.0.0",
      "model_name": "LayoutModel",
      "state": {
       "justify_content": "flex-start",
       "width": "60px"
      }
     },
     "d20be53820a342d9954f90587e0d9f97": {
      "model_module": "@jupyter-widgets/controls",
      "model_module_version": "2.0.0",
      "model_name": "ButtonStyleModel",
      "state": {
       "font_family": null,
       "font_size": null,
       "font_style": null,
       "font_variant": null,
       "font_weight": null,
       "text_color": null,
       "text_decoration": null
      }
     },
     "d254f4d028384706879f87a87356e55f": {
      "model_module": "@jupyter-widgets/controls",
      "model_module_version": "2.0.0",
      "model_name": "HBoxModel",
      "state": {
       "children": [
        "IPY_MODEL_156114680ed644d59c22c4d3c9ea7793",
        "IPY_MODEL_de2fa6f712a24b7e9eda86c190a83a88"
       ],
       "layout": "IPY_MODEL_6a207f3bb9c64d108f328f4eb5de7e9e"
      }
     },
     "d273096d0dc54fb8a0d82195cfc0c3b7": {
      "model_module": "@jupyter-widgets/base",
      "model_module_version": "2.0.0",
      "model_name": "LayoutModel",
      "state": {}
     },
     "d27c049b45374e2f952cb7db3d7bb870": {
      "model_module": "@jupyter-widgets/base",
      "model_module_version": "2.0.0",
      "model_name": "LayoutModel",
      "state": {}
     },
     "d352a68c60c94cdfadad37e119f9dc47": {
      "model_module": "@jupyter-widgets/controls",
      "model_module_version": "2.0.0",
      "model_name": "ButtonStyleModel",
      "state": {
       "font_family": null,
       "font_size": null,
       "font_style": null,
       "font_variant": null,
       "font_weight": null,
       "text_color": null,
       "text_decoration": null
      }
     },
     "d37b9b66201648b9bf14d1450c680ec6": {
      "model_module": "@jupyter-widgets/base",
      "model_module_version": "2.0.0",
      "model_name": "LayoutModel",
      "state": {
       "justify_content": "flex-start"
      }
     },
     "d384a49ac39f41b1b0b0869bb87cab5c": {
      "model_module": "@jupyter-widgets/base",
      "model_module_version": "2.0.0",
      "model_name": "LayoutModel",
      "state": {}
     },
     "d392a6a271f5462c8595f9da03cc85b2": {
      "model_module": "@jupyter-widgets/controls",
      "model_module_version": "2.0.0",
      "model_name": "TextStyleModel",
      "state": {
       "background": "transparent",
       "description_width": "50px",
       "font_size": null,
       "text_color": null
      }
     },
     "d3997e27f9ea49b5b28773d38f26ee16": {
      "model_module": "@jupyter-widgets/base",
      "model_module_version": "2.0.0",
      "model_name": "LayoutModel",
      "state": {}
     },
     "d3a67047aa3d48ff8c4e56f5f7dd607a": {
      "model_module": "@jupyter-widgets/controls",
      "model_module_version": "2.0.0",
      "model_name": "TextStyleModel",
      "state": {
       "background": "transparent",
       "description_width": "50px",
       "font_size": null,
       "text_color": null
      }
     },
     "d3f947e65ead4eb89bbf1d7a53e90988": {
      "model_module": "@jupyter-widgets/controls",
      "model_module_version": "2.0.0",
      "model_name": "HTMLModel",
      "state": {
       "layout": "IPY_MODEL_d534b8328b7144918093a78f44a8d326",
       "style": "IPY_MODEL_b9a0cb00ef2d4a20845535767d0da868",
       "value": "3.2.1.2"
      }
     },
     "d421b53e9f1c4396bafc9fce48c197b5": {
      "model_module": "@jupyter-widgets/controls",
      "model_module_version": "2.0.0",
      "model_name": "ButtonStyleModel",
      "state": {
       "font_family": null,
       "font_size": null,
       "font_style": null,
       "font_variant": null,
       "font_weight": null,
       "text_color": null,
       "text_decoration": null
      }
     },
     "d42351b663bf49718f72c4abf408472e": {
      "model_module": "@jupyter-widgets/controls",
      "model_module_version": "2.0.0",
      "model_name": "ButtonStyleModel",
      "state": {
       "font_family": null,
       "font_size": null,
       "font_style": null,
       "font_variant": null,
       "font_weight": null,
       "text_color": null,
       "text_decoration": null
      }
     },
     "d427f23c98294c4f83c993788f6058f8": {
      "model_module": "@jupyter-widgets/base",
      "model_module_version": "2.0.0",
      "model_name": "LayoutModel",
      "state": {}
     },
     "d463ef1f456d4cf3baa928fee9cc0bc8": {
      "model_module": "@jupyter-widgets/base",
      "model_module_version": "2.0.0",
      "model_name": "LayoutModel",
      "state": {}
     },
     "d534b8328b7144918093a78f44a8d326": {
      "model_module": "@jupyter-widgets/base",
      "model_module_version": "2.0.0",
      "model_name": "LayoutModel",
      "state": {
       "border_bottom": "1px solid purple",
       "border_left": "1px solid purple",
       "border_right": "1px solid purple",
       "border_top": "1px solid purple",
       "justify_content": "flex-start",
       "width": "auto"
      }
     },
     "d57cdb38868d4d3d9a492ccd9b90f9c5": {
      "model_module": "@jupyter-widgets/base",
      "model_module_version": "2.0.0",
      "model_name": "LayoutModel",
      "state": {}
     },
     "d5b3084cbaca48afb6b382053adf24c1": {
      "model_module": "@jupyter-widgets/controls",
      "model_module_version": "2.0.0",
      "model_name": "HTMLStyleModel",
      "state": {
       "description_width": "",
       "font_size": null,
       "text_color": null
      }
     },
     "d63dd9ea92764d8a96d6c9d70cb9d4be": {
      "model_module": "@jupyter-widgets/base",
      "model_module_version": "2.0.0",
      "model_name": "LayoutModel",
      "state": {
       "height": "50%",
       "width": "50%"
      }
     },
     "d64836cc910c44e4bec631b90d6cb569": {
      "model_module": "@jupyter-widgets/controls",
      "model_module_version": "2.0.0",
      "model_name": "TextStyleModel",
      "state": {
       "description_width": "",
       "font_size": null,
       "text_color": null
      }
     },
     "d66dd6a25e30486399ca3940ef569f6e": {
      "model_module": "@jupyter-widgets/base",
      "model_module_version": "2.0.0",
      "model_name": "LayoutModel",
      "state": {
       "justify_content": "flex-start",
       "width": "60px"
      }
     },
     "d671e925050f4f7caee70e06b1c174ca": {
      "model_module": "@jupyter-widgets/controls",
      "model_module_version": "2.0.0",
      "model_name": "HTMLStyleModel",
      "state": {
       "description_width": "",
       "font_size": null,
       "text_color": null
      }
     },
     "d6a8536449314e358fa2a2bd7ddebe30": {
      "model_module": "@jupyter-widgets/controls",
      "model_module_version": "2.0.0",
      "model_name": "HBoxModel",
      "state": {
       "children": [
        "IPY_MODEL_5d82923c29f74b4394084a45fa172d28",
        "IPY_MODEL_e1e284c2c3a843a28926d73171357625"
       ],
       "layout": "IPY_MODEL_483f4b9846904346bb61165400bee560"
      }
     },
     "d6ae21663747475c81d0c46bfd64c848": {
      "model_module": "@jupyter-widgets/controls",
      "model_module_version": "2.0.0",
      "model_name": "VBoxModel",
      "state": {
       "children": [
        "IPY_MODEL_079faf67e1fd42a8a78dafd61299eac9",
        "IPY_MODEL_3bbb792835be4aa695fbb0c851fe800e"
       ],
       "layout": "IPY_MODEL_09bc2512226444af914e483e1711eae3"
      }
     },
     "d6c89d6ec48446898ff4915424d59f0d": {
      "model_module": "@jupyter-widgets/controls",
      "model_module_version": "2.0.0",
      "model_name": "VBoxModel",
      "state": {
       "children": [
        "IPY_MODEL_4497d9cd9620499b8b935a3c48a9b1de",
        "IPY_MODEL_f29da64b8fbf4b1b8a430814eef8f84b"
       ],
       "layout": "IPY_MODEL_228ede8185e3420d9fd15085141356cf"
      }
     },
     "d707369941484c1eb918191e328a3662": {
      "model_module": "@jupyter-widgets/base",
      "model_module_version": "2.0.0",
      "model_name": "LayoutModel",
      "state": {
       "justify_content": "flex-start"
      }
     },
     "d7084147c837495496be3b2b19aeda42": {
      "model_module": "@jupyter-widgets/controls",
      "model_module_version": "2.0.0",
      "model_name": "TextStyleModel",
      "state": {
       "description_width": "",
       "font_size": null,
       "text_color": null
      }
     },
     "d7807bacb339486badc0ee980942e93e": {
      "model_module": "@jupyter-widgets/controls",
      "model_module_version": "2.0.0",
      "model_name": "HTMLModel",
      "state": {
       "layout": "IPY_MODEL_7ffaa15d19074f8fbc5fee5fd1473ae4",
       "style": "IPY_MODEL_aaecb9d66c644197b9abf62793f4d673",
       "value": "words:"
      }
     },
     "d7894b42b9cc4949abf4111c71de6915": {
      "model_module": "@jupyter-widgets/base",
      "model_module_version": "2.0.0",
      "model_name": "LayoutModel",
      "state": {
       "border_bottom": "1px solid purple",
       "border_left": "1px solid purple",
       "border_right": "1px solid purple",
       "border_top": "1px solid purple",
       "justify_content": "flex-start",
       "width": "auto"
      }
     },
     "d79bc3d9cb214d888d030c766f006f11": {
      "model_module": "@jupyter-widgets/controls",
      "model_module_version": "2.0.0",
      "model_name": "TextModel",
      "state": {
       "description": "Prompt",
       "layout": "IPY_MODEL_73f0dd21d98e4b8aa9ae7103d721afc4",
       "placeholder": "",
       "style": "IPY_MODEL_f8a4b4c359ef4e1cbff47f53ea99b221"
      }
     },
     "d7b8945cd835452e99a1170b486c7c4c": {
      "model_module": "@jupyter-widgets/base",
      "model_module_version": "2.0.0",
      "model_name": "LayoutModel",
      "state": {
       "border_bottom": "solid 1px gray",
       "border_left": "solid 1px gray",
       "border_right": "solid 1px gray",
       "border_top": "solid 1px gray"
      }
     },
     "d7edf02e1ff34c1a9ca09f941ac271fa": {
      "model_module": "@jupyter-widgets/base",
      "model_module_version": "2.0.0",
      "model_name": "LayoutModel",
      "state": {
       "border_bottom": "1px solid purple",
       "border_left": "1px solid purple",
       "border_right": "1px solid purple",
       "border_top": "1px solid purple",
       "justify_content": "flex-start",
       "width": "99%"
      }
     },
     "d81bb8aba54744e79c4a58405d1d3fed": {
      "model_module": "@jupyter-widgets/base",
      "model_module_version": "2.0.0",
      "model_name": "LayoutModel",
      "state": {}
     },
     "d85b570d2473440f9f1f66e1cf55b87e": {
      "model_module": "@jupyter-widgets/controls",
      "model_module_version": "2.0.0",
      "model_name": "HTMLModel",
      "state": {
       "layout": "IPY_MODEL_a4c59f7e34e54cf4b24b281f2f06336a",
       "style": "IPY_MODEL_3e35fbd7b5b048a8a9bceb13b16db259",
       "value": "queries,"
      }
     },
     "d8ca5d87b89048a19cd85fa9fbfd74cb": {
      "model_module": "@jupyter-widgets/base",
      "model_module_version": "2.0.0",
      "model_name": "LayoutModel",
      "state": {
       "width": "50%"
      }
     },
     "d92248ba1e1045debfce474d606e47c8": {
      "model_module": "@jupyter-widgets/base",
      "model_module_version": "2.0.0",
      "model_name": "LayoutModel",
      "state": {}
     },
     "d93ad3b09047410fb2685f2a1689a4b5": {
      "model_module": "@jupyter-widgets/base",
      "model_module_version": "2.0.0",
      "model_name": "LayoutModel",
      "state": {
       "border_bottom": "1px solid transparent",
       "border_left": "1px solid transparent",
       "border_right": "1px solid transparent",
       "border_top": "1px solid transparent",
       "display": "none",
       "justify_content": "flex-start",
       "width": "99%"
      }
     },
     "d98e974e92164ef0a7b6ab807eb2df27": {
      "model_module": "@jupyter-widgets/base",
      "model_module_version": "2.0.0",
      "model_name": "LayoutModel",
      "state": {
       "justify_content": "flex-start"
      }
     },
     "d995e0b549ad4b798d4e7b489f14c0ca": {
      "model_module": "@jupyter-widgets/base",
      "model_module_version": "2.0.0",
      "model_name": "LayoutModel",
      "state": {}
     },
     "d9cc7adb212e460b8eb0d61da16360ea": {
      "model_module": "@jupyter-widgets/controls",
      "model_module_version": "2.0.0",
      "model_name": "TextModel",
      "state": {
       "layout": "IPY_MODEL_676c2933deda47e382308b86871c4b49",
       "style": "IPY_MODEL_ec1820c7b8cb4a978d99f9e04f8b8063",
       "value": "A comparative study of different AI models like support vector machines, random forests and deep learning for liver cancer analysis."
      }
     },
     "d9dc510d4399433dad25f47da6ffcfa6": {
      "model_module": "@jupyter-widgets/controls",
      "model_module_version": "2.0.0",
      "model_name": "HBoxModel",
      "state": {
       "children": [
        "IPY_MODEL_f0ea45e740064a93910dc8e78d07b556",
        "IPY_MODEL_d09679c1f89f4bc9adfb2f21bedd3b21"
       ],
       "layout": "IPY_MODEL_2fdf96553e694e248aed728198e741ba"
      }
     },
     "da177c33c8554c14869819446c3604a3": {
      "model_module": "@jupyter-widgets/base",
      "model_module_version": "2.0.0",
      "model_name": "LayoutModel",
      "state": {}
     },
     "da1f395915094851ad0e28d465bcd8d4": {
      "model_module": "@jupyter-widgets/base",
      "model_module_version": "2.0.0",
      "model_name": "LayoutModel",
      "state": {
       "justify_content": "flex-start"
      }
     },
     "daae45aa939e4671aff0562ec479918a": {
      "model_module": "@jupyter-widgets/base",
      "model_module_version": "2.0.0",
      "model_name": "LayoutModel",
      "state": {
       "justify_content": "flex-start",
       "width": "90%"
      }
     },
     "dae0e9d099914b418453d0e7603524b0": {
      "model_module": "@jupyter-widgets/controls",
      "model_module_version": "2.0.0",
      "model_name": "TextModel",
      "state": {
       "description": "Prompt",
       "layout": "IPY_MODEL_cb5ce15e737e433b95cf0d4df124f61c",
       "placeholder": "",
       "style": "IPY_MODEL_0a9ae41be7954c7eb7eab74b7a329733"
      }
     },
     "dae36e2a8ed94a30abf47249dc19a91f": {
      "model_module": "@jupyter-widgets/controls",
      "model_module_version": "2.0.0",
      "model_name": "ButtonStyleModel",
      "state": {
       "font_family": null,
       "font_size": null,
       "font_style": null,
       "font_variant": null,
       "font_weight": null,
       "text_color": null,
       "text_decoration": null
      }
     },
     "daf0272c361e407ab5ed8c2bb8b89af1": {
      "model_module": "@jupyter-widgets/output",
      "model_module_version": "1.0.0",
      "model_name": "OutputModel",
      "state": {
       "layout": "IPY_MODEL_6a40af03b6ee4f7aaf0452213c5b94a1"
      }
     },
     "db13cf1213794309ad3a9781998ab8a2": {
      "model_module": "@jupyter-widgets/base",
      "model_module_version": "2.0.0",
      "model_name": "LayoutModel",
      "state": {}
     },
     "db1967b288e64b1aa0f6bda8d12eaa64": {
      "model_module": "@jupyter-widgets/controls",
      "model_module_version": "2.0.0",
      "model_name": "HBoxModel",
      "state": {
       "children": [
        "IPY_MODEL_af7ba7c702e64de2908e36b846082efe",
        "IPY_MODEL_473b8aa145244653b61ee81c3863dd79"
       ],
       "layout": "IPY_MODEL_74cd0b1b1f5c47d38046e0a568916a4a"
      }
     },
     "db26481d55654732a3cd367ed5fcb431": {
      "model_module": "@jupyter-widgets/base",
      "model_module_version": "2.0.0",
      "model_name": "LayoutModel",
      "state": {}
     },
     "db3cf89a160b466097bd759459a78354": {
      "model_module": "@jupyter-widgets/controls",
      "model_module_version": "2.0.0",
      "model_name": "TextStyleModel",
      "state": {
       "background": "transparent",
       "description_width": "50px",
       "font_size": null,
       "text_color": null
      }
     },
     "db783eb41d9f420db35f98b3fcc3c721": {
      "model_module": "@jupyter-widgets/base",
      "model_module_version": "2.0.0",
      "model_name": "LayoutModel",
      "state": {
       "border_bottom": "solid 1px gray",
       "border_left": "solid 1px gray",
       "border_right": "solid 1px gray",
       "border_top": "solid 1px gray"
      }
     },
     "db785a6b839e4336adf7eb707ffa3a3c": {
      "model_module": "@jupyter-widgets/controls",
      "model_module_version": "2.0.0",
      "model_name": "HBoxModel",
      "state": {
       "children": [
        "IPY_MODEL_b2d49d2cb77942f09f4657407dedf2dc",
        "IPY_MODEL_65a6774661294e4f923055a28a23e3eb"
       ],
       "layout": "IPY_MODEL_c73286b36f124bf48ab402cba521b19a"
      }
     },
     "db8233138991484dacf6a65d227f9375": {
      "model_module": "@jupyter-widgets/controls",
      "model_module_version": "2.0.0",
      "model_name": "HTMLModel",
      "state": {
       "layout": "IPY_MODEL_1938d259f4124ce68fd30a6bcce81018",
       "style": "IPY_MODEL_56a6a42fde2f46a3b82be6f4852796af",
       "value": " to "
      }
     },
     "dbb6c8c6438a4730a45c70a080bbe03a": {
      "model_module": "@jupyter-widgets/controls",
      "model_module_version": "2.0.0",
      "model_name": "TextStyleModel",
      "state": {
       "background": "#000000",
       "description_width": "50px",
       "font_size": null,
       "text_color": null
      }
     },
     "dbb88bc360554336b01ccddede3eb95e": {
      "model_module": "@jupyter-widgets/controls",
      "model_module_version": "2.0.0",
      "model_name": "VBoxModel",
      "state": {
       "children": [
        "IPY_MODEL_6af0b9c4c18b40ff94b2b7493ded1572"
       ],
       "layout": "IPY_MODEL_5d64ca4c8039405eb77f05cc945d7e75"
      }
     },
     "dbd83080d67046ceb40763f7b22d2204": {
      "model_module": "@jupyter-widgets/base",
      "model_module_version": "2.0.0",
      "model_name": "LayoutModel",
      "state": {}
     },
     "dbfa206b975c4c35bf970be5ef170aef": {
      "model_module": "@jupyter-widgets/controls",
      "model_module_version": "2.0.0",
      "model_name": "HBoxModel",
      "state": {
       "children": [
        "IPY_MODEL_78a2f05584194df997a99d39100cda2f",
        "IPY_MODEL_170b91f7caab4ab7aecd7d2036c067f6"
       ],
       "layout": "IPY_MODEL_58e758f4f43d40419b2ce6731206c99a"
      }
     },
     "dc609600b93f423f9dfd73c9d2f23d63": {
      "model_module": "@jupyter-widgets/controls",
      "model_module_version": "2.0.0",
      "model_name": "TextStyleModel",
      "state": {
       "description_width": "",
       "font_size": null,
       "text_color": null
      }
     },
     "dc8cc0f530c943aca29d9ade20095db4": {
      "model_module": "@jupyter-widgets/controls",
      "model_module_version": "2.0.0",
      "model_name": "HTMLStyleModel",
      "state": {
       "description_width": "",
       "font_size": null,
       "text_color": null
      }
     },
     "dc92252e45884cdeb773fed6ba144de2": {
      "model_module": "@jupyter-widgets/controls",
      "model_module_version": "2.0.0",
      "model_name": "ButtonStyleModel",
      "state": {
       "font_family": null,
       "font_size": null,
       "font_style": null,
       "font_variant": null,
       "font_weight": null,
       "text_color": null,
       "text_decoration": null
      }
     },
     "dcba1655ae82440db06449d75536910f": {
      "model_module": "@jupyter-widgets/base",
      "model_module_version": "2.0.0",
      "model_name": "LayoutModel",
      "state": {
       "justify_content": "flex-start"
      }
     },
     "dcd341eedc124c608fcbc3dd60037da4": {
      "model_module": "@jupyter-widgets/base",
      "model_module_version": "2.0.0",
      "model_name": "LayoutModel",
      "state": {
       "border_bottom": "1px solid purple",
       "border_left": "1px solid purple",
       "border_right": "1px solid purple",
       "border_top": "1px solid purple",
       "justify_content": "flex-start",
       "width": "99%"
      }
     },
     "dcee59b8f7a44b0bbf51f925f9c21bfe": {
      "model_module": "@jupyter-widgets/base",
      "model_module_version": "2.0.0",
      "model_name": "LayoutModel",
      "state": {}
     },
     "dd2b0f5aa44e47518ab4a3769becae39": {
      "model_module": "@jupyter-widgets/controls",
      "model_module_version": "2.0.0",
      "model_name": "HBoxModel",
      "state": {
       "children": [
        "IPY_MODEL_813e5a3782b54baa93b0c672c9ce2d8d",
        "IPY_MODEL_7e909296ff4b4f5ebdcee0b74c2506fc"
       ],
       "layout": "IPY_MODEL_ccf2b752d3934dc7bdc67ab6843c8135"
      }
     },
     "dd323e37c8c74bccbd3d4617df6e1ac9": {
      "model_module": "@jupyter-widgets/controls",
      "model_module_version": "2.0.0",
      "model_name": "HBoxModel",
      "state": {
       "children": [
        "IPY_MODEL_c6edc2dd91af4e8a91cc8a1d3f179431",
        "IPY_MODEL_876af69c262a4f129101f800a1e0c4e3"
       ],
       "layout": "IPY_MODEL_9a3b4a74bad647a6835cce62b8b1fbfd"
      }
     },
     "dd66ec1a98d04f0fa20fdcd7202aba8f": {
      "model_module": "@jupyter-widgets/controls",
      "model_module_version": "2.0.0",
      "model_name": "HTMLModel",
      "state": {
       "layout": "IPY_MODEL_ffc94519b2da4eaaae9f71bed3e9b115",
       "style": "IPY_MODEL_08809d31487047a894a8065e7715d0ea",
       "value": "queries,"
      }
     },
     "dd72407ec5c94a9091344c78031ef5af": {
      "model_module": "@jupyter-widgets/controls",
      "model_module_version": "2.0.0",
      "model_name": "ButtonStyleModel",
      "state": {
       "font_family": null,
       "font_size": null,
       "font_style": null,
       "font_variant": null,
       "font_weight": null,
       "text_color": null,
       "text_decoration": null
      }
     },
     "ddcccc539e4540bcada7b8b3b25ed488": {
      "model_module": "@jupyter-widgets/controls",
      "model_module_version": "2.0.0",
      "model_name": "HTMLModel",
      "state": {
       "layout": "IPY_MODEL_62778547168c45f7a2f08d571150d50f",
       "style": "IPY_MODEL_6640331c08fb4c19b7c001f1c974cfc4",
       "value": "0"
      }
     },
     "ddd9d792de4a417a9b0daa5fa7a6e1f0": {
      "model_module": "@jupyter-widgets/base",
      "model_module_version": "2.0.0",
      "model_name": "LayoutModel",
      "state": {
       "justify_content": "flex-start",
       "width": "90%"
      }
     },
     "de0069c5549142f59894ca9ca2f5a64c": {
      "model_module": "@jupyter-widgets/base",
      "model_module_version": "2.0.0",
      "model_name": "LayoutModel",
      "state": {
       "width": "auto"
      }
     },
     "de007a41aad44787924519d7a3e10671": {
      "model_module": "@jupyter-widgets/base",
      "model_module_version": "2.0.0",
      "model_name": "LayoutModel",
      "state": {
       "justify_content": "flex-start",
       "width": "60px"
      }
     },
     "de1778d40ba84059a7ac7bc2dc4119f9": {
      "model_module": "@jupyter-widgets/controls",
      "model_module_version": "2.0.0",
      "model_name": "ButtonStyleModel",
      "state": {
       "font_family": null,
       "font_size": null,
       "font_style": null,
       "font_variant": null,
       "font_weight": null,
       "text_color": null,
       "text_decoration": null
      }
     },
     "de2fa6f712a24b7e9eda86c190a83a88": {
      "model_module": "@jupyter-widgets/controls",
      "model_module_version": "2.0.0",
      "model_name": "HBoxModel",
      "state": {
       "children": [
        "IPY_MODEL_6b3e6075d6ec425bb00adf4a8f013c7c",
        "IPY_MODEL_d024c661c2fa4a80952ff53c45540fce"
       ],
       "layout": "IPY_MODEL_2cacfafab414470bb4b9531c91e704da"
      }
     },
     "de557220d5d64ad8836587aacf3863d8": {
      "model_module": "@jupyter-widgets/base",
      "model_module_version": "2.0.0",
      "model_name": "LayoutModel",
      "state": {
       "justify_content": "flex-start"
      }
     },
     "de5b4d3996e94bcc8a56f5fea5cde291": {
      "model_module": "@jupyter-widgets/controls",
      "model_module_version": "2.0.0",
      "model_name": "TextModel",
      "state": {
       "description": "Prompt",
       "layout": "IPY_MODEL_b762c20e7ca74632989e0fbd94e2e813",
       "placeholder": "",
       "style": "IPY_MODEL_a7b0988159534f4b9d325ece4e1b0ed7"
      }
     },
     "debe91d53fdd4aa28119badd7db33f69": {
      "model_module": "@jupyter-widgets/base",
      "model_module_version": "2.0.0",
      "model_name": "LayoutModel",
      "state": {
       "justify_content": "flex-start"
      }
     },
     "ded1e83666c947ff9c168ff2718df4b0": {
      "model_module": "@jupyter-widgets/controls",
      "model_module_version": "2.0.0",
      "model_name": "HBoxModel",
      "state": {
       "children": [
        "IPY_MODEL_a8b989c58a3144e6b048210e0f08799f",
        "IPY_MODEL_4ec3df792f6747539a99b92b5b7314a7"
       ],
       "layout": "IPY_MODEL_34ac2ffc202d41bab35d008958419ab9"
      }
     },
     "ded764a07dc54c2088b03395c8d5b034": {
      "model_module": "@jupyter-widgets/base",
      "model_module_version": "2.0.0",
      "model_name": "LayoutModel",
      "state": {
       "justify_content": "flex-start",
       "width": "60px"
      }
     },
     "df59cba918034a7d977abd12d6a7282f": {
      "model_module": "@jupyter-widgets/controls",
      "model_module_version": "2.0.0",
      "model_name": "ButtonStyleModel",
      "state": {
       "font_family": null,
       "font_size": null,
       "font_style": null,
       "font_variant": null,
       "font_weight": null,
       "text_color": null,
       "text_decoration": null
      }
     },
     "dfb74e730c164162a87c148290c71942": {
      "model_module": "@jupyter-widgets/controls",
      "model_module_version": "2.0.0",
      "model_name": "HTMLStyleModel",
      "state": {
       "description_width": "",
       "font_size": null,
       "text_color": null
      }
     },
     "dfd2082d12eb4d40990e390a79319039": {
      "model_module": "@jupyter-widgets/base",
      "model_module_version": "2.0.0",
      "model_name": "LayoutModel",
      "state": {
       "justify_content": "flex-start"
      }
     },
     "e00235bb3168467a92718fe7c10c1538": {
      "model_module": "@jupyter-widgets/controls",
      "model_module_version": "2.0.0",
      "model_name": "HTMLModel",
      "state": {
       "layout": "IPY_MODEL_74f26bc08d2c4744b6b98a4316d68f61",
       "style": "IPY_MODEL_6dda1fc1cb574c11896aaef3608409fc",
       "value": "words:"
      }
     },
     "e06bdd0fe2a54d148b5f2b33fd5617b0": {
      "model_module": "@jupyter-widgets/base",
      "model_module_version": "2.0.0",
      "model_name": "LayoutModel",
      "state": {
       "justify_content": "flex-start"
      }
     },
     "e13eb85935a1416398846bea53344a8c": {
      "model_module": "@jupyter-widgets/controls",
      "model_module_version": "2.0.0",
      "model_name": "TextModel",
      "state": {
       "layout": "IPY_MODEL_d93ad3b09047410fb2685f2a1689a4b5",
       "style": "IPY_MODEL_db3cf89a160b466097bd759459a78354",
       "value": "An in-depth look into model-based explanations for AI's decision-making process in liver cancer analysis."
      }
     },
     "e1800848a96d421489b807a9fba7ae50": {
      "model_module": "@jupyter-widgets/controls",
      "model_module_version": "2.0.0",
      "model_name": "TextStyleModel",
      "state": {
       "description_width": "",
       "font_size": null,
       "text_color": null
      }
     },
     "e184d5ec07b24a478b187c24b8b9c4b3": {
      "model_module": "@jupyter-widgets/controls",
      "model_module_version": "2.0.0",
      "model_name": "HTMLStyleModel",
      "state": {
       "description_width": "",
       "font_size": null,
       "text_color": null
      }
     },
     "e1a8601411f442a0bf96fac862300faf": {
      "model_module": "@jupyter-widgets/controls",
      "model_module_version": "2.0.0",
      "model_name": "VBoxModel",
      "state": {
       "children": [
        "IPY_MODEL_59d94ba3dced45be9dcf53336067ee1a",
        "IPY_MODEL_38fa6375ebae4bfaa2b1802985af488d"
       ],
       "layout": "IPY_MODEL_9135059e1a0b431f9711c015925a120b"
      }
     },
     "e1b94af876614e3cbc2ae4162c8ec3b9": {
      "model_module": "@jupyter-widgets/base",
      "model_module_version": "2.0.0",
      "model_name": "LayoutModel",
      "state": {}
     },
     "e1e284c2c3a843a28926d73171357625": {
      "model_module": "@jupyter-widgets/controls",
      "model_module_version": "2.0.0",
      "model_name": "HBoxModel",
      "state": {
       "children": [
        "IPY_MODEL_5a7987ab8c664180a412220ae5cb465f",
        "IPY_MODEL_47a662172a0044afa7210d9cb3009a97",
        "IPY_MODEL_27a93d0a4f154775a57e632ec01e2c59"
       ],
       "layout": "IPY_MODEL_9242fbf96a0d45faaf01d4f60481490c"
      }
     },
     "e210377879644072b066fccb47ce37cd": {
      "model_module": "@jupyter-widgets/controls",
      "model_module_version": "2.0.0",
      "model_name": "TextModel",
      "state": {
       "layout": "IPY_MODEL_59c4440d87744b978ce5206828ded511",
       "placeholder": "20",
       "style": "IPY_MODEL_4a34fb86361944c29b3d04e548691628",
       "value": "20"
      }
     },
     "e21cdb758dab44d7a5f6334518d1d3c8": {
      "model_module": "@jupyter-widgets/controls",
      "model_module_version": "2.0.0",
      "model_name": "TextModel",
      "state": {
       "layout": "IPY_MODEL_b754c5664253460aa11ad605be3e7fa1",
       "style": "IPY_MODEL_889eebc47b91445f9903638b2d1cbd1e",
       "value": "Exploring predictive indicators for therapy response"
      }
     },
     "e2394196262f47ad9c0bf9b0e18d6c25": {
      "model_module": "@jupyter-widgets/controls",
      "model_module_version": "2.0.0",
      "model_name": "ButtonStyleModel",
      "state": {
       "font_family": null,
       "font_size": null,
       "font_style": null,
       "font_variant": null,
       "font_weight": null,
       "text_color": null,
       "text_decoration": null
      }
     },
     "e23ca23bf3054606a056edfccc98e10a": {
      "model_module": "@jupyter-widgets/controls",
      "model_module_version": "2.0.0",
      "model_name": "TextStyleModel",
      "state": {
       "description_width": "50px",
       "font_size": null,
       "text_color": null
      }
     },
     "e250b4165c7d4b8aa8d0bdad66942ea1": {
      "model_module": "@jupyter-widgets/controls",
      "model_module_version": "2.0.0",
      "model_name": "TextModel",
      "state": {
       "layout": "IPY_MODEL_e94f863cf9104e4380f597e1d30fd1d2",
       "style": "IPY_MODEL_c5f8ef51f7d5439784944ba1a7861966",
       "value": "AI-based prognostication of liver cancer"
      }
     },
     "e2543badf83f4c009bafcd297027c4c3": {
      "model_module": "@jupyter-widgets/controls",
      "model_module_version": "2.0.0",
      "model_name": "HTMLStyleModel",
      "state": {
       "description_width": "",
       "font_size": null,
       "text_color": null
      }
     },
     "e28968b0a42c41a985493de99c5094b4": {
      "model_module": "@jupyter-widgets/base",
      "model_module_version": "2.0.0",
      "model_name": "LayoutModel",
      "state": {}
     },
     "e29734b3401a485e8c167dcdec65a639": {
      "model_module": "@jupyter-widgets/controls",
      "model_module_version": "2.0.0",
      "model_name": "HTMLStyleModel",
      "state": {
       "description_width": "",
       "font_size": null,
       "text_color": null
      }
     },
     "e36acef6750b442abc733dde8465d5b3": {
      "model_module": "@jupyter-widgets/controls",
      "model_module_version": "2.0.0",
      "model_name": "VBoxModel",
      "state": {
       "children": [
        "IPY_MODEL_cfd924b779c540a9b1ecf7c38000f6a1",
        "IPY_MODEL_ba39bdaa6a3f4c7995e233128a348efb"
       ],
       "layout": "IPY_MODEL_20e98b14095f4cd08e002f35d8550018"
      }
     },
     "e41b404bc3b84d92a6814d76de2a3826": {
      "model_module": "@jupyter-widgets/controls",
      "model_module_version": "2.0.0",
      "model_name": "TextModel",
      "state": {
       "layout": "IPY_MODEL_729c4f19c14e4a5689e6553e71484c85",
       "placeholder": "20",
       "style": "IPY_MODEL_7eb712b5e94d40c1808b3dd17354f128",
       "value": "20"
      }
     },
     "e4b68a1154b64407a00d481981f86c7e": {
      "model_module": "@jupyter-widgets/base",
      "model_module_version": "2.0.0",
      "model_name": "LayoutModel",
      "state": {
       "justify_content": "flex-start"
      }
     },
     "e4b9ac43170945cc8869f83206913f7c": {
      "model_module": "@jupyter-widgets/controls",
      "model_module_version": "2.0.0",
      "model_name": "ButtonStyleModel",
      "state": {
       "font_family": null,
       "font_size": null,
       "font_style": null,
       "font_variant": null,
       "font_weight": null,
       "text_color": null,
       "text_decoration": null
      }
     },
     "e4c951188eed47a0bb406683cf14e2ba": {
      "model_module": "@jupyter-widgets/controls",
      "model_module_version": "2.0.0",
      "model_name": "TextStyleModel",
      "state": {
       "description_width": "",
       "font_size": null,
       "text_color": null
      }
     },
     "e4d504578e534beba8825cbf8443f147": {
      "model_module": "@jupyter-widgets/controls",
      "model_module_version": "2.0.0",
      "model_name": "TextModel",
      "state": {
       "description": "Prompt",
       "layout": "IPY_MODEL_5e78eea43c0f46339aa3b99c4bf5eaf5",
       "placeholder": "",
       "style": "IPY_MODEL_41f50a55407e46889ce85bd647bc1f99"
      }
     },
     "e5cbbe357e484a7eaaecf82c4c6fe9d3": {
      "model_module": "@jupyter-widgets/base",
      "model_module_version": "2.0.0",
      "model_name": "LayoutModel",
      "state": {}
     },
     "e60a378b7b4643d08ecb711faba8e6d0": {
      "model_module": "@jupyter-widgets/base",
      "model_module_version": "2.0.0",
      "model_name": "LayoutModel",
      "state": {
       "height": "50%",
       "width": "50%"
      }
     },
     "e61447970fef4a2db0d4088e500e012d": {
      "model_module": "@jupyter-widgets/controls",
      "model_module_version": "2.0.0",
      "model_name": "ButtonStyleModel",
      "state": {
       "font_family": null,
       "font_size": null,
       "font_style": null,
       "font_variant": null,
       "font_weight": null,
       "text_color": null,
       "text_decoration": null
      }
     },
     "e622041e24b54190bcf5e7daa9bbf23a": {
      "model_module": "@jupyter-widgets/base",
      "model_module_version": "2.0.0",
      "model_name": "LayoutModel",
      "state": {
       "justify_content": "flex-start",
       "width": "60px"
      }
     },
     "e67eed5f0f9248c4ae84285445a6d315": {
      "model_module": "@jupyter-widgets/controls",
      "model_module_version": "2.0.0",
      "model_name": "TextModel",
      "state": {
       "description": "Prompt",
       "layout": "IPY_MODEL_daae45aa939e4671aff0562ec479918a",
       "placeholder": "",
       "style": "IPY_MODEL_832a9993a5da4790af37621a8a47b039"
      }
     },
     "e6e72c0eacd24936b58ceb00d28e9209": {
      "model_module": "@jupyter-widgets/base",
      "model_module_version": "2.0.0",
      "model_name": "LayoutModel",
      "state": {
       "justify_content": "flex-start"
      }
     },
     "e77804a4d8a64ebfaefa1b1f3dfc960a": {
      "model_module": "@jupyter-widgets/base",
      "model_module_version": "2.0.0",
      "model_name": "LayoutModel",
      "state": {}
     },
     "e77b14000818415aa6254f5a0c888f98": {
      "model_module": "@jupyter-widgets/base",
      "model_module_version": "2.0.0",
      "model_name": "LayoutModel",
      "state": {
       "justify_content": "flex-start",
       "width": "60px"
      }
     },
     "e7a3de44af4c4fc4a75d231c2c7ad791": {
      "model_module": "@jupyter-widgets/controls",
      "model_module_version": "2.0.0",
      "model_name": "HBoxModel",
      "state": {
       "children": [
        "IPY_MODEL_a3736b27d48043e9acfeb02d44067466",
        "IPY_MODEL_38e8414f0b46462284d3d76d24bacc2c"
       ],
       "layout": "IPY_MODEL_42a75e7ac47143c3b17d88fef8fe8895"
      }
     },
     "e7bc36a156b84d928a2203f17136a451": {
      "model_module": "@jupyter-widgets/base",
      "model_module_version": "2.0.0",
      "model_name": "LayoutModel",
      "state": {
       "border_bottom": "1px solid purple",
       "border_left": "1px solid purple",
       "border_right": "1px solid purple",
       "border_top": "1px solid purple",
       "justify_content": "flex-start",
       "width": "99%"
      }
     },
     "e7c32afc23914d2f8dcd761c22916e61": {
      "model_module": "@jupyter-widgets/controls",
      "model_module_version": "2.0.0",
      "model_name": "VBoxModel",
      "state": {
       "children": [
        "IPY_MODEL_1f15639f83b24f3a8571ebfb1cfa287d",
        "IPY_MODEL_c9827c0a33144f0ea83b84446e87a685"
       ],
       "layout": "IPY_MODEL_eb294586a9dc458688915d33ceb640a4"
      }
     },
     "e8110f71adea456f9b4786e63583095b": {
      "model_module": "@jupyter-widgets/controls",
      "model_module_version": "2.0.0",
      "model_name": "TextModel",
      "state": {
       "description": "Prompt",
       "layout": "IPY_MODEL_00acaf9e47d449c49830fcbda5e9bc0b",
       "placeholder": "",
       "style": "IPY_MODEL_e23ca23bf3054606a056edfccc98e10a"
      }
     },
     "e8523ee77dc7415893103fcccee16a12": {
      "model_module": "@jupyter-widgets/base",
      "model_module_version": "2.0.0",
      "model_name": "LayoutModel",
      "state": {
       "justify_content": "flex-start",
       "width": "60px"
      }
     },
     "e85ee469a50f4e2ea3e8795208f7c157": {
      "model_module": "@jupyter-widgets/controls",
      "model_module_version": "2.0.0",
      "model_name": "HBoxModel",
      "state": {
       "children": [
        "IPY_MODEL_2305741e1e0b4741a046f38c1b199591",
        "IPY_MODEL_e1a8601411f442a0bf96fac862300faf"
       ],
       "layout": "IPY_MODEL_d7b8945cd835452e99a1170b486c7c4c"
      }
     },
     "e8b14a21b02d4a1397f33eb0d0ff7846": {
      "model_module": "@jupyter-widgets/controls",
      "model_module_version": "2.0.0",
      "model_name": "HTMLModel",
      "state": {
       "layout": "IPY_MODEL_73acc2ea4e09421f86644b99eaf77c4f",
       "style": "IPY_MODEL_2f35f6dfb6454618a5689c153dcee6b1",
       "value": " to "
      }
     },
     "e8c54e4554b44a1ab8728aaf2a1ab74d": {
      "model_module": "@jupyter-widgets/controls",
      "model_module_version": "2.0.0",
      "model_name": "HTMLModel",
      "state": {
       "layout": "IPY_MODEL_bd81b6e255774c0c84a54bade6d18629",
       "style": "IPY_MODEL_437e27f48e03437e9381f9bb40d60656",
       "value": "3"
      }
     },
     "e8d9b25f3881437a9040f6eaf5c49ba4": {
      "model_module": "@jupyter-widgets/output",
      "model_module_version": "1.0.0",
      "model_name": "OutputModel",
      "state": {
       "layout": "IPY_MODEL_cfe8126beb8440a4a713ff370828a1db"
      }
     },
     "e8e5d6a0c6554027a1ff9e0271259363": {
      "model_module": "@jupyter-widgets/controls",
      "model_module_version": "2.0.0",
      "model_name": "HBoxModel",
      "state": {
       "children": [
        "IPY_MODEL_7b58baf773c74e2787d6ccaa72eac84b",
        "IPY_MODEL_76fceb65c47f4a6c854b3227cc9109ea"
       ],
       "layout": "IPY_MODEL_dfd2082d12eb4d40990e390a79319039"
      }
     },
     "e91c788f1cea45babbe25a453cc88b49": {
      "model_module": "@jupyter-widgets/controls",
      "model_module_version": "2.0.0",
      "model_name": "HBoxModel",
      "state": {
       "children": [
        "IPY_MODEL_515b7087e94c4fc6aaab0ebd1995d7ab",
        "IPY_MODEL_626c405c680048e6a23d87077d926aff"
       ],
       "layout": "IPY_MODEL_9620b7165e71433f9d8763c0de7f5f0d"
      }
     },
     "e94f863cf9104e4380f597e1d30fd1d2": {
      "model_module": "@jupyter-widgets/base",
      "model_module_version": "2.0.0",
      "model_name": "LayoutModel",
      "state": {
       "border_bottom": "1px solid purple",
       "border_left": "1px solid purple",
       "border_right": "1px solid purple",
       "border_top": "1px solid purple",
       "justify_content": "flex-start",
       "width": "99%"
      }
     },
     "e977ca96a1104f89b199dfee8673116c": {
      "model_module": "@jupyter-widgets/base",
      "model_module_version": "2.0.0",
      "model_name": "LayoutModel",
      "state": {}
     },
     "e98f792abde54c19aef8f9f707b37067": {
      "model_module": "@jupyter-widgets/base",
      "model_module_version": "2.0.0",
      "model_name": "LayoutModel",
      "state": {
       "border_bottom": "solid 1px gray",
       "border_left": "solid 1px gray",
       "border_right": "solid 1px gray",
       "border_top": "solid 1px gray"
      }
     },
     "ea23bff627d747e78b2a0544209662be": {
      "model_module": "@jupyter-widgets/controls",
      "model_module_version": "2.0.0",
      "model_name": "HTMLModel",
      "state": {
       "layout": "IPY_MODEL_a0596eb9a37343c2b042532971271456",
       "style": "IPY_MODEL_5f08cff0172a4cb5b89c0bb7eaef3e72",
       "value": "words:"
      }
     },
     "ea37febb691542bc9069924ec7aba2a5": {
      "model_module": "@jupyter-widgets/controls",
      "model_module_version": "2.0.0",
      "model_name": "ButtonModel",
      "state": {
       "description": "Retrieve",
       "icon": "list",
       "layout": "IPY_MODEL_5a1eefa4d1944cad85721d76c24b8aba",
       "style": "IPY_MODEL_0479ddbebf024718ae6c4d4fc142b6fb",
       "tooltip": "Retrieve related references"
      }
     },
     "ea487eb80dbc43fab6478a39a9f72528": {
      "model_module": "@jupyter-widgets/controls",
      "model_module_version": "2.0.0",
      "model_name": "HBoxModel",
      "state": {
       "children": [
        "IPY_MODEL_28bb2ab27d9a4c16af61108bbf306fd5",
        "IPY_MODEL_09dce995b1bd4b3aadd0706f017d4268"
       ],
       "layout": "IPY_MODEL_4d2a27bcd5874cc8a4718c379082c2ab"
      }
     },
     "eae30a19f6fc4317b0cbfde1b9bf45ba": {
      "model_module": "@jupyter-widgets/base",
      "model_module_version": "2.0.0",
      "model_name": "LayoutModel",
      "state": {}
     },
     "eb2507f95a904c6c9928612ab0812151": {
      "model_module": "@jupyter-widgets/controls",
      "model_module_version": "2.0.0",
      "model_name": "ButtonModel",
      "state": {
       "description": "Translate",
       "icon": "language",
       "layout": "IPY_MODEL_ef4b8d52e7ba4a9eaf35a2c5d51214db",
       "style": "IPY_MODEL_de1778d40ba84059a7ac7bc2dc4119f9",
       "tooltip": "Click and translate the details for this section"
      }
     },
     "eb294586a9dc458688915d33ceb640a4": {
      "model_module": "@jupyter-widgets/base",
      "model_module_version": "2.0.0",
      "model_name": "LayoutModel",
      "state": {
       "width": "50%"
      }
     },
     "eb5b28dcfe61450280eecc876bd67570": {
      "model_module": "@jupyter-widgets/controls",
      "model_module_version": "2.0.0",
      "model_name": "HBoxModel",
      "state": {
       "children": [
        "IPY_MODEL_79650b07b99d4d05ae9a8c5e8394e4d2",
        "IPY_MODEL_348f4cd9140b41468d5152bc33c819d0"
       ],
       "layout": "IPY_MODEL_a4e0b557ffe24f3eab8cb82d03e18ef3"
      }
     },
     "eb6205f386894fed8a2a5a52e278a299": {
      "model_module": "@jupyter-widgets/controls",
      "model_module_version": "2.0.0",
      "model_name": "VBoxModel",
      "state": {
       "children": [
        "IPY_MODEL_b908ff41e23546f08ddda803b59382b7",
        "IPY_MODEL_a2b39442e9674f7db6521664650741dc"
       ],
       "layout": "IPY_MODEL_bafc47b9387a441087feeb66d15247d7"
      }
     },
     "eb77c1c8da7b45029c4837d53ec87156": {
      "model_module": "@jupyter-widgets/controls",
      "model_module_version": "2.0.0",
      "model_name": "ButtonModel",
      "state": {
       "description": "Retrieve",
       "icon": "list",
       "layout": "IPY_MODEL_5cc4006ee91b4f9a8152635fc17b076b",
       "style": "IPY_MODEL_a0a1136b49d445cca5fe5950c5a104c3",
       "tooltip": "Retrieve related references"
      }
     },
     "eb80f8ad6e794d46ae74551305b806db": {
      "model_module": "@jupyter-widgets/base",
      "model_module_version": "2.0.0",
      "model_name": "LayoutModel",
      "state": {}
     },
     "eb853e74fb16440391842072a6f988de": {
      "model_module": "@jupyter-widgets/controls",
      "model_module_version": "2.0.0",
      "model_name": "HTMLStyleModel",
      "state": {
       "description_width": "",
       "font_size": null,
       "text_color": null
      }
     },
     "eb99b9ac881b40bb974c95df39e2cd54": {
      "model_module": "@jupyter-widgets/controls",
      "model_module_version": "2.0.0",
      "model_name": "HTMLModel",
      "state": {
       "layout": "IPY_MODEL_26a21484805f433bb1f8f6fe7f935f1f",
       "style": "IPY_MODEL_ad9b48e0e44b44c98f9cf1275f96422c",
       "value": " to "
      }
     },
     "ec1820c7b8cb4a978d99f9e04f8b8063": {
      "model_module": "@jupyter-widgets/controls",
      "model_module_version": "2.0.0",
      "model_name": "TextStyleModel",
      "state": {
       "background": "transparent",
       "description_width": "50px",
       "font_size": null,
       "text_color": null
      }
     },
     "ec658d5715bc4104b3fecf39cd830dcf": {
      "model_module": "@jupyter-widgets/controls",
      "model_module_version": "2.0.0",
      "model_name": "HBoxModel",
      "state": {
       "children": [
        "IPY_MODEL_5769a076454244f38aeefce7bc3c2664",
        "IPY_MODEL_adbf0397063541038abf979883e0f677"
       ],
       "layout": "IPY_MODEL_f201e17028084ddbb41b38a963c7233e"
      }
     },
     "ec9be9a494b24fb1be3d9a581c6c2210": {
      "model_module": "@jupyter-widgets/controls",
      "model_module_version": "2.0.0",
      "model_name": "HTMLModel",
      "state": {
       "layout": "IPY_MODEL_0fe5cdbac8c94d30a7464e5c77d8dbed",
       "style": "IPY_MODEL_05cd25b1c6ae45cab4fc9116cdd2650b",
       "value": "queries,"
      }
     },
     "ece62aaebb704aa1a1307030e5ae54df": {
      "model_module": "@jupyter-widgets/controls",
      "model_module_version": "2.0.0",
      "model_name": "HTMLModel",
      "state": {
       "layout": "IPY_MODEL_b3fb0038ebf44417bc126bfab391d891",
       "style": "IPY_MODEL_a42aefaeed9e49778131539df1b726f6",
       "value": "words:"
      }
     },
     "ecfe61bac7d948ef883ea82bee0edda2": {
      "model_module": "@jupyter-widgets/controls",
      "model_module_version": "2.0.0",
      "model_name": "HBoxModel",
      "state": {
       "children": [
        "IPY_MODEL_a1ae0ee527d547ec9f78d79bb3885bd6",
        "IPY_MODEL_377403025b804382aa5a5a262933ae3d"
       ],
       "layout": "IPY_MODEL_f32bba3b39134cadaf10c1b380b25417"
      }
     },
     "ed9385ea99fc4c87a47d629b4dd91d27": {
      "model_module": "@jupyter-widgets/base",
      "model_module_version": "2.0.0",
      "model_name": "LayoutModel",
      "state": {
       "border_bottom": "1px solid transparent",
       "border_left": "1px solid transparent",
       "border_right": "1px solid transparent",
       "border_top": "1px solid transparent",
       "justify_content": "flex-start",
       "width": "99%"
      }
     },
     "edf81c2f38a54de18d50808abb7a5788": {
      "model_module": "@jupyter-widgets/controls",
      "model_module_version": "2.0.0",
      "model_name": "TextModel",
      "state": {
       "description": "Prompt",
       "layout": "IPY_MODEL_c167118a3ae841fe83d2c3e7516956bd",
       "placeholder": "",
       "style": "IPY_MODEL_c482b5e79ae74172ab9d0a09f595164d"
      }
     },
     "ee07a02b4a3e44ed93c71e565260c03d": {
      "model_module": "@jupyter-widgets/controls",
      "model_module_version": "2.0.0",
      "model_name": "ButtonStyleModel",
      "state": {
       "font_family": null,
       "font_size": null,
       "font_style": null,
       "font_variant": null,
       "font_weight": null,
       "text_color": null,
       "text_decoration": null
      }
     },
     "ee12858b7210411b9e41c9e382784e96": {
      "model_module": "@jupyter-widgets/base",
      "model_module_version": "2.0.0",
      "model_name": "LayoutModel",
      "state": {}
     },
     "ee344ac9ad0e4355802294f66f3946fa": {
      "model_module": "@jupyter-widgets/base",
      "model_module_version": "2.0.0",
      "model_name": "LayoutModel",
      "state": {
       "border_bottom": "1px solid purple",
       "border_left": "1px solid purple",
       "border_right": "1px solid purple",
       "border_top": "1px solid purple",
       "justify_content": "flex-start",
       "width": "auto"
      }
     },
     "ee52eb0f22004d43ac37c7f18ca67046": {
      "model_module": "@jupyter-widgets/controls",
      "model_module_version": "2.0.0",
      "model_name": "HBoxModel",
      "state": {
       "children": [
        "IPY_MODEL_27802b3c459340838685acd8bb60599f",
        "IPY_MODEL_6ffbd8825e03410fa64fd453bb35209f"
       ],
       "layout": "IPY_MODEL_425b088c096a4c56ba0c829d74168c5b"
      }
     },
     "ee53ce5921294fd6945bf20a1520bbdb": {
      "model_module": "@jupyter-widgets/controls",
      "model_module_version": "2.0.0",
      "model_name": "ButtonStyleModel",
      "state": {
       "font_family": null,
       "font_size": null,
       "font_style": null,
       "font_variant": null,
       "font_weight": null,
       "text_color": null,
       "text_decoration": null
      }
     },
     "ee58259e94e44b3887a653b34fa69382": {
      "model_module": "@jupyter-widgets/controls",
      "model_module_version": "2.0.0",
      "model_name": "TextStyleModel",
      "state": {
       "description_width": "",
       "font_size": null,
       "text_color": null
      }
     },
     "ee5a2f094db746128db0ed26bd61c6b7": {
      "model_module": "@jupyter-widgets/controls",
      "model_module_version": "2.0.0",
      "model_name": "HTMLStyleModel",
      "state": {
       "description_width": "",
       "font_size": null,
       "text_color": null
      }
     },
     "ee8cbbfd2c91409b9054cf04e33fcd36": {
      "model_module": "@jupyter-widgets/controls",
      "model_module_version": "2.0.0",
      "model_name": "VBoxModel",
      "state": {
       "children": [
        "IPY_MODEL_cfbb990aa0e944468f89d0a88ebda0b2",
        "IPY_MODEL_daf0272c361e407ab5ed8c2bb8b89af1"
       ],
       "layout": "IPY_MODEL_d0a593c78f4a4f0687d8577f2b254ec3"
      }
     },
     "ef045d97a2f44d4da20488e7c0023d78": {
      "model_module": "@jupyter-widgets/base",
      "model_module_version": "2.0.0",
      "model_name": "LayoutModel",
      "state": {
       "justify_content": "flex-start"
      }
     },
     "ef0de6b76f8b4634ae8831d14e5413b4": {
      "model_module": "@jupyter-widgets/controls",
      "model_module_version": "2.0.0",
      "model_name": "VBoxModel",
      "state": {
       "children": [
        "IPY_MODEL_d254f4d028384706879f87a87356e55f",
        "IPY_MODEL_8aab55d08b474c3a8b669c30256e8ca3"
       ],
       "layout": "IPY_MODEL_e977ca96a1104f89b199dfee8673116c"
      }
     },
     "ef4b8d52e7ba4a9eaf35a2c5d51214db": {
      "model_module": "@jupyter-widgets/base",
      "model_module_version": "2.0.0",
      "model_name": "LayoutModel",
      "state": {
       "width": "auto"
      }
     },
     "efa55350659f42f5bc509b9bddd98d5c": {
      "model_module": "@jupyter-widgets/base",
      "model_module_version": "2.0.0",
      "model_name": "LayoutModel",
      "state": {
       "height": "50%",
       "width": "50%"
      }
     },
     "efa8eeeaa6e64c63bbe2029bd8ea1341": {
      "model_module": "@jupyter-widgets/base",
      "model_module_version": "2.0.0",
      "model_name": "LayoutModel",
      "state": {
       "border_bottom": "1px solid purple",
       "border_left": "1px solid purple",
       "border_right": "1px solid purple",
       "border_top": "1px solid purple",
       "justify_content": "flex-start",
       "width": "auto"
      }
     },
     "efb458d0b8b24a6493ca1d9ba7d705e5": {
      "model_module": "@jupyter-widgets/controls",
      "model_module_version": "2.0.0",
      "model_name": "ButtonModel",
      "state": {
       "description": "Summarize",
       "icon": "rocket",
       "layout": "IPY_MODEL_3564b0dba0744b76b30281e1cfa6bf8b",
       "style": "IPY_MODEL_0d6797a057cd4ca3aa4f2a7d36e74b8c",
       "tooltip": "Summarize this section based on the topic and intro"
      }
     },
     "efc29d5b592545d9ae068f72369da168": {
      "model_module": "@jupyter-widgets/controls",
      "model_module_version": "2.0.0",
      "model_name": "TextModel",
      "state": {
       "layout": "IPY_MODEL_f3fac933b52547c7b427c797b1d20cc5",
       "style": "IPY_MODEL_518b15d7d15a4f028a4f9277809c2e47",
       "value": "Discussion on how AI is being used to predict the progression and outcome of liver cancer."
      }
     },
     "efe7336e85814bb695f08e11de38c3de": {
      "model_module": "@jupyter-widgets/controls",
      "model_module_version": "2.0.0",
      "model_name": "HTMLModel",
      "state": {
       "layout": "IPY_MODEL_8c4e3fa693834e8a85c47b4437edbe0d",
       "style": "IPY_MODEL_738cbd793cea4e17818175f2b7590058"
      }
     },
     "effec3dfd4cb46c88be2c2828d0a2d05": {
      "model_module": "@jupyter-widgets/controls",
      "model_module_version": "2.0.0",
      "model_name": "ButtonStyleModel",
      "state": {
       "font_family": null,
       "font_size": null,
       "font_style": null,
       "font_variant": null,
       "font_weight": null,
       "text_color": null,
       "text_decoration": null
      }
     },
     "f02ba8afd6bd4254bd5a63c24b88e4db": {
      "model_module": "@jupyter-widgets/controls",
      "model_module_version": "2.0.0",
      "model_name": "TextModel",
      "state": {
       "layout": "IPY_MODEL_89605aef22a947cbb5f9af5deb93449c",
       "style": "IPY_MODEL_667a2d4a85e84e14af59ebb27acc0173",
       "value": "Image captioning with visual explanation"
      }
     },
     "f046a2d3553d4df6a27e6343f424eb23": {
      "model_module": "@jupyter-widgets/base",
      "model_module_version": "2.0.0",
      "model_name": "LayoutModel",
      "state": {}
     },
     "f04d65da60524de0aa90b8ddf12bbc09": {
      "model_module": "@jupyter-widgets/controls",
      "model_module_version": "2.0.0",
      "model_name": "TextModel",
      "state": {
       "layout": "IPY_MODEL_86d04ef1ebf54e11935ceb37fd87e1a0",
       "placeholder": "",
       "style": "IPY_MODEL_765f11b9a3114bd2a3e299dafdbe26ce",
       "value": "500"
      }
     },
     "f0769cee8142425e84c8e803321d829f": {
      "model_module": "@jupyter-widgets/base",
      "model_module_version": "2.0.0",
      "model_name": "LayoutModel",
      "state": {
       "justify_content": "flex-start"
      }
     },
     "f0a52152f7e34a98b6934470f93863de": {
      "model_module": "@jupyter-widgets/controls",
      "model_module_version": "2.0.0",
      "model_name": "HBoxModel",
      "state": {
       "children": [
        "IPY_MODEL_eb77c1c8da7b45029c4837d53ec87156",
        "IPY_MODEL_71d0b51c3ec04860a1a30f5f24af3147"
       ],
       "layout": "IPY_MODEL_20a59229b004471486dd990034310609"
      }
     },
     "f0bb7e97a70f4431b23ba663f97e425b": {
      "model_module": "@jupyter-widgets/controls",
      "model_module_version": "2.0.0",
      "model_name": "TextModel",
      "state": {
       "layout": "IPY_MODEL_be6aa8ba48294dd98ec58f3e70b75f30",
       "placeholder": "20",
       "style": "IPY_MODEL_cff7a31988f0440e935cdc1fa7015252",
       "value": "20"
      }
     },
     "f0dcf924ecd145e4953acfcdabe12f71": {
      "model_module": "@jupyter-widgets/base",
      "model_module_version": "2.0.0",
      "model_name": "LayoutModel",
      "state": {
       "height": "50%",
       "width": "50%"
      }
     },
     "f0ea45e740064a93910dc8e78d07b556": {
      "model_module": "@jupyter-widgets/controls",
      "model_module_version": "2.0.0",
      "model_name": "VBoxModel",
      "state": {
       "children": [
        "IPY_MODEL_ec658d5715bc4104b3fecf39cd830dcf",
        "IPY_MODEL_4f1c5fdc3d8f48c3bfd9a7ab3efdfc4f"
       ],
       "layout": "IPY_MODEL_8e6e2eb5f3314a4f8f2b08c08aae4987"
      }
     },
     "f0fbe9c3663f473faff9d80096775743": {
      "model_module": "@jupyter-widgets/base",
      "model_module_version": "2.0.0",
      "model_name": "LayoutModel",
      "state": {
       "justify_content": "flex-start"
      }
     },
     "f1470286d96a4194b9f6cea181212246": {
      "model_module": "@jupyter-widgets/controls",
      "model_module_version": "2.0.0",
      "model_name": "HTMLModel",
      "state": {
       "layout": "IPY_MODEL_48c6c5f646c84f66bb916dd93921e7b4",
       "style": "IPY_MODEL_7258ff7eff654f3fab7798c1e127cf78"
      }
     },
     "f16ed70d4ce04abe9bb47d893440f7d0": {
      "model_module": "@jupyter-widgets/controls",
      "model_module_version": "2.0.0",
      "model_name": "HTMLStyleModel",
      "state": {
       "description_width": "",
       "font_size": null,
       "text_color": null
      }
     },
     "f1b90c1b9fdc45d1aba3d80fae105d0f": {
      "model_module": "@jupyter-widgets/output",
      "model_module_version": "1.0.0",
      "model_name": "OutputModel",
      "state": {
       "layout": "IPY_MODEL_db13cf1213794309ad3a9781998ab8a2"
      }
     },
     "f1f2c90d03f0459fbbd86744e8714914": {
      "model_module": "@jupyter-widgets/controls",
      "model_module_version": "2.0.0",
      "model_name": "TextModel",
      "state": {
       "layout": "IPY_MODEL_9a141f6148a44f158c70241c67a36b71",
       "style": "IPY_MODEL_6f0dff3483f844a2a66e084dde957cfb",
       "value": "Support vector machine or random forests vs. deep learning"
      }
     },
     "f201e17028084ddbb41b38a963c7233e": {
      "model_module": "@jupyter-widgets/base",
      "model_module_version": "2.0.0",
      "model_name": "LayoutModel",
      "state": {}
     },
     "f23d2f78667940f08148fcb705198067": {
      "model_module": "@jupyter-widgets/controls",
      "model_module_version": "2.0.0",
      "model_name": "HBoxModel",
      "state": {
       "children": [
        "IPY_MODEL_eb99b9ac881b40bb974c95df39e2cd54",
        "IPY_MODEL_b0bd121fdc6847c7b21d0d32d7792b06",
        "IPY_MODEL_95e309629a414fa4833b0ab5328860f4"
       ],
       "layout": "IPY_MODEL_cada7653304546c89f37cd3758c5f16e"
      }
     },
     "f29b6dbb34404952ba2a0395fe30ed56": {
      "model_module": "@jupyter-widgets/controls",
      "model_module_version": "2.0.0",
      "model_name": "HTMLModel",
      "state": {
       "layout": "IPY_MODEL_d7894b42b9cc4949abf4111c71de6915",
       "style": "IPY_MODEL_1350f53218e346069b0dcd613659ac2c",
       "value": "3.2.3"
      }
     },
     "f29da64b8fbf4b1b8a430814eef8f84b": {
      "model_module": "@jupyter-widgets/controls",
      "model_module_version": "2.0.0",
      "model_name": "HTMLModel",
      "state": {
       "layout": "IPY_MODEL_70eb8a7be5ac4039a16fae354e3586f6",
       "style": "IPY_MODEL_8c0aa87a30e8425a9d792740997512cd"
      }
     },
     "f32bba3b39134cadaf10c1b380b25417": {
      "model_module": "@jupyter-widgets/base",
      "model_module_version": "2.0.0",
      "model_name": "LayoutModel",
      "state": {}
     },
     "f33fe69537a34b8ebd8f87132eaaf331": {
      "model_module": "@jupyter-widgets/controls",
      "model_module_version": "2.0.0",
      "model_name": "TextModel",
      "state": {
       "layout": "IPY_MODEL_41a2dcced756419bb0adc53904c08421",
       "style": "IPY_MODEL_0ead527375fb46e5adf00cbf2f6c7418",
       "value": "Discussion on how multiple instance learning-based approaches contribute to visual explanations in AI-based liver cancer analysis."
      }
     },
     "f382dd55875c4ec89bd0934569218629": {
      "model_module": "@jupyter-widgets/base",
      "model_module_version": "2.0.0",
      "model_name": "LayoutModel",
      "state": {
       "justify_content": "flex-start"
      }
     },
     "f3c91bae8da94ca3af7f9896ab3a379d": {
      "model_module": "@jupyter-widgets/controls",
      "model_module_version": "2.0.0",
      "model_name": "HTMLStyleModel",
      "state": {
       "description_width": "",
       "font_size": null,
       "text_color": null
      }
     },
     "f3de12ddfb264d67ba48370104544f0c": {
      "model_module": "@jupyter-widgets/controls",
      "model_module_version": "2.0.0",
      "model_name": "TextModel",
      "state": {
       "layout": "IPY_MODEL_73b4b07e30aa4d6ea614833b92833aea",
       "style": "IPY_MODEL_a3ff12d26bb440f299a38a097d9bfc28",
       "value": "Model-based explanation"
      }
     },
     "f3fac933b52547c7b427c797b1d20cc5": {
      "model_module": "@jupyter-widgets/base",
      "model_module_version": "2.0.0",
      "model_name": "LayoutModel",
      "state": {
       "border_bottom": "1px solid transparent",
       "border_left": "1px solid transparent",
       "border_right": "1px solid transparent",
       "border_top": "1px solid transparent",
       "justify_content": "flex-start",
       "width": "99%"
      }
     },
     "f4257add347d41348cb951c3879393ab": {
      "model_module": "@jupyter-widgets/controls",
      "model_module_version": "2.0.0",
      "model_name": "ButtonStyleModel",
      "state": {
       "font_family": null,
       "font_size": null,
       "font_style": null,
       "font_variant": null,
       "font_weight": null,
       "text_color": null,
       "text_decoration": null
      }
     },
     "f426c182df7c48b3a43f21c2c2ff5f20": {
      "model_module": "@jupyter-widgets/base",
      "model_module_version": "2.0.0",
      "model_name": "LayoutModel",
      "state": {}
     },
     "f46a712ff5844e4595b5ea864f8d8f9f": {
      "model_module": "@jupyter-widgets/base",
      "model_module_version": "2.0.0",
      "model_name": "LayoutModel",
      "state": {
       "border_bottom": "1px solid purple",
       "border_left": "1px solid purple",
       "border_right": "1px solid purple",
       "border_top": "1px solid purple",
       "justify_content": "flex-start",
       "width": "auto"
      }
     },
     "f4939fcae01c47ad889308f4b41e03f1": {
      "model_module": "@jupyter-widgets/controls",
      "model_module_version": "2.0.0",
      "model_name": "HTMLStyleModel",
      "state": {
       "description_width": "",
       "font_size": null,
       "text_color": null
      }
     },
     "f4abae6bd50e4e7fae4056ec718bcafc": {
      "model_module": "@jupyter-widgets/output",
      "model_module_version": "1.0.0",
      "model_name": "OutputModel",
      "state": {
       "layout": "IPY_MODEL_c0a688ab1418454696a67c3fd04334b3"
      }
     },
     "f4f0e14e39f54c12bee60bce527cb5a3": {
      "model_module": "@jupyter-widgets/base",
      "model_module_version": "2.0.0",
      "model_name": "LayoutModel",
      "state": {
       "width": "50%"
      }
     },
     "f51a3a6138714f50830fb3be9d1db88e": {
      "model_module": "@jupyter-widgets/controls",
      "model_module_version": "2.0.0",
      "model_name": "ButtonStyleModel",
      "state": {
       "font_family": null,
       "font_size": null,
       "font_style": null,
       "font_variant": null,
       "font_weight": null,
       "text_color": null,
       "text_decoration": null
      }
     },
     "f521dc99c59d4e9087c5e76fd7c03a49": {
      "model_module": "@jupyter-widgets/controls",
      "model_module_version": "2.0.0",
      "model_name": "TextModel",
      "state": {
       "layout": "IPY_MODEL_1cb4bddfd1c54da281d5db430d94cf4f",
       "placeholder": "20",
       "style": "IPY_MODEL_fd6bb05c81db41c9b9bcd07fe43835bf",
       "value": "20"
      }
     },
     "f54c556d492e42f0a00a92e57b0b94fa": {
      "model_module": "@jupyter-widgets/base",
      "model_module_version": "2.0.0",
      "model_name": "LayoutModel",
      "state": {}
     },
     "f54c6d784b8347fab3496921df25162b": {
      "model_module": "@jupyter-widgets/base",
      "model_module_version": "2.0.0",
      "model_name": "LayoutModel",
      "state": {
       "border_bottom": "solid 1px gray",
       "border_left": "solid 1px gray",
       "border_right": "solid 1px gray",
       "border_top": "solid 1px gray"
      }
     },
     "f5df48451a1e4ac3833abe5fde8b40bc": {
      "model_module": "@jupyter-widgets/controls",
      "model_module_version": "2.0.0",
      "model_name": "TextStyleModel",
      "state": {
       "background": "#000000",
       "description_width": "50px",
       "font_size": null,
       "text_color": null
      }
     },
     "f6301eda044d4a9fbaf7dd22f08e731d": {
      "model_module": "@jupyter-widgets/controls",
      "model_module_version": "2.0.0",
      "model_name": "ButtonStyleModel",
      "state": {
       "font_family": null,
       "font_size": null,
       "font_style": null,
       "font_variant": null,
       "font_weight": null,
       "text_color": null,
       "text_decoration": null
      }
     },
     "f692bff3e6d44a338f29c61deee888c9": {
      "model_module": "@jupyter-widgets/controls",
      "model_module_version": "2.0.0",
      "model_name": "HTMLStyleModel",
      "state": {
       "description_width": "",
       "font_size": null,
       "text_color": null
      }
     },
     "f6a074bbe91c48f285e01571c5e12343": {
      "model_module": "@jupyter-widgets/controls",
      "model_module_version": "2.0.0",
      "model_name": "HTMLModel",
      "state": {
       "layout": "IPY_MODEL_ee344ac9ad0e4355802294f66f3946fa",
       "style": "IPY_MODEL_73eba650d8de4bd3a9a5433cbc845937",
       "value": "3.1.3"
      }
     },
     "f6a204cdf42e43be9e6ec92966fe8ccc": {
      "model_module": "@jupyter-widgets/controls",
      "model_module_version": "2.0.0",
      "model_name": "ButtonModel",
      "state": {
       "description": "Translate",
       "icon": "language",
       "layout": "IPY_MODEL_74f3797ab055406b9333e7cecea78208",
       "style": "IPY_MODEL_77cdf704febe4db09dc01427dd5fb877",
       "tooltip": "Click and translate the details for this section"
      }
     },
     "f7003c318e5b4389bd3ca2628b090c51": {
      "model_module": "@jupyter-widgets/base",
      "model_module_version": "2.0.0",
      "model_name": "LayoutModel",
      "state": {
       "border_bottom": "solid 1px gray",
       "border_left": "solid 1px gray",
       "border_right": "solid 1px gray",
       "border_top": "solid 1px gray"
      }
     },
     "f70a5f46ead640209e022b1ac3b537c5": {
      "model_module": "@jupyter-widgets/base",
      "model_module_version": "2.0.0",
      "model_name": "LayoutModel",
      "state": {
       "border_bottom": "1px solid transparent",
       "border_left": "1px solid transparent",
       "border_right": "1px solid transparent",
       "border_top": "1px solid transparent",
       "display": "none",
       "justify_content": "flex-start",
       "width": "99%"
      }
     },
     "f74d0354ac824fd0b636a3fd0ddc90d1": {
      "model_module": "@jupyter-widgets/controls",
      "model_module_version": "2.0.0",
      "model_name": "ButtonStyleModel",
      "state": {
       "font_family": null,
       "font_size": null,
       "font_style": null,
       "font_variant": null,
       "font_weight": null,
       "text_color": null,
       "text_decoration": null
      }
     },
     "f775b355a4e24d47acae4b285a63e8c2": {
      "model_module": "@jupyter-widgets/controls",
      "model_module_version": "2.0.0",
      "model_name": "HBoxModel",
      "state": {
       "children": [
        "IPY_MODEL_f29b6dbb34404952ba2a0395fe30ed56",
        "IPY_MODEL_4605849d63574becb5ad1700b23a63b0"
       ],
       "layout": "IPY_MODEL_08be747eeabd418aa0b49a488d8ee7bf"
      }
     },
     "f79c8779ac6b4350923629037b9057f4": {
      "model_module": "@jupyter-widgets/controls",
      "model_module_version": "2.0.0",
      "model_name": "VBoxModel",
      "state": {
       "children": [
        "IPY_MODEL_05efa27e6eb74ce08027cef17dfbe1e6",
        "IPY_MODEL_15dbd59905fa42d5880d57937a6cca56"
       ],
       "layout": "IPY_MODEL_75eab91dbc76456eb767cbe9b9f60afd"
      }
     },
     "f7f0d99b36864d929a5cef0a5da1abbf": {
      "model_module": "@jupyter-widgets/base",
      "model_module_version": "2.0.0",
      "model_name": "LayoutModel",
      "state": {
       "width": "auto"
      }
     },
     "f80cae2790994266b3a3d2193163ae79": {
      "model_module": "@jupyter-widgets/controls",
      "model_module_version": "2.0.0",
      "model_name": "ButtonModel",
      "state": {
       "description": "Translate",
       "icon": "language",
       "layout": "IPY_MODEL_4a9ae682ffce45228b357ebab0686ffa",
       "style": "IPY_MODEL_dc92252e45884cdeb773fed6ba144de2",
       "tooltip": "Click and translate the details for this section"
      }
     },
     "f813c24bbb06405fbf6f3de9e39d2356": {
      "model_module": "@jupyter-widgets/base",
      "model_module_version": "2.0.0",
      "model_name": "LayoutModel",
      "state": {}
     },
     "f81756545a9b4e57a7509638a66ea858": {
      "model_module": "@jupyter-widgets/controls",
      "model_module_version": "2.0.0",
      "model_name": "HTMLStyleModel",
      "state": {
       "description_width": "",
       "font_size": null,
       "text_color": null
      }
     },
     "f83d793589bd4578b4c1def9864e0e36": {
      "model_module": "@jupyter-widgets/controls",
      "model_module_version": "2.0.0",
      "model_name": "ButtonStyleModel",
      "state": {
       "font_family": null,
       "font_size": null,
       "font_style": null,
       "font_variant": null,
       "font_weight": null,
       "text_color": null,
       "text_decoration": null
      }
     },
     "f8531b6689934d13afa88df78a4b7a70": {
      "model_module": "@jupyter-widgets/controls",
      "model_module_version": "2.0.0",
      "model_name": "HTMLStyleModel",
      "state": {
       "description_width": "",
       "font_size": null,
       "text_color": null
      }
     },
     "f873419aa8884ccda9fd2ff44949fdee": {
      "model_module": "@jupyter-widgets/controls",
      "model_module_version": "2.0.0",
      "model_name": "VBoxModel",
      "state": {
       "children": [
        "IPY_MODEL_efc29d5b592545d9ae068f72369da168",
        "IPY_MODEL_4843ffdf19c6459cb041a495c3392b4e"
       ],
       "layout": "IPY_MODEL_3ef8269766274f4f99d64b1080c5bb21"
      }
     },
     "f8a4b4c359ef4e1cbff47f53ea99b221": {
      "model_module": "@jupyter-widgets/controls",
      "model_module_version": "2.0.0",
      "model_name": "TextStyleModel",
      "state": {
       "description_width": "50px",
       "font_size": null,
       "text_color": null
      }
     },
     "fa0fcc295ff44e058fa6f42f383995a7": {
      "model_module": "@jupyter-widgets/base",
      "model_module_version": "2.0.0",
      "model_name": "LayoutModel",
      "state": {}
     },
     "fa16708ab31e44fb8bc3de80e2fc6915": {
      "model_module": "@jupyter-widgets/controls",
      "model_module_version": "2.0.0",
      "model_name": "TextStyleModel",
      "state": {
       "description_width": "",
       "font_size": null,
       "text_color": null
      }
     },
     "fa42a7e902624a3c9d10b5f2835bb728": {
      "model_module": "@jupyter-widgets/controls",
      "model_module_version": "2.0.0",
      "model_name": "HTMLModel",
      "state": {
       "layout": "IPY_MODEL_7d1ebba0243440ddbb9bcf2e2d5d88d7",
       "style": "IPY_MODEL_8a8e3d01eb764747829f8cd3671eb467",
       "value": "queries,"
      }
     },
     "fadbf5a62ae4419fa619d76eab91034a": {
      "model_module": "@jupyter-widgets/controls",
      "model_module_version": "2.0.0",
      "model_name": "TextStyleModel",
      "state": {
       "description_width": "",
       "font_size": null,
       "text_color": null
      }
     },
     "fadbf60078214344b0debc59537e9c01": {
      "model_module": "@jupyter-widgets/base",
      "model_module_version": "2.0.0",
      "model_name": "LayoutModel",
      "state": {}
     },
     "fb0f3333617946c48db0d788b44a50dc": {
      "model_module": "@jupyter-widgets/base",
      "model_module_version": "2.0.0",
      "model_name": "LayoutModel",
      "state": {}
     },
     "fb92269c5fac4204bf7994c91c2be68f": {
      "model_module": "@jupyter-widgets/base",
      "model_module_version": "2.0.0",
      "model_name": "LayoutModel",
      "state": {}
     },
     "fc81f2be64f642e4a6494de614152014": {
      "model_module": "@jupyter-widgets/controls",
      "model_module_version": "2.0.0",
      "model_name": "HTMLStyleModel",
      "state": {
       "description_width": "",
       "font_size": null,
       "text_color": null
      }
     },
     "fc9f964a37ed4839ada268728659ab81": {
      "model_module": "@jupyter-widgets/base",
      "model_module_version": "2.0.0",
      "model_name": "LayoutModel",
      "state": {}
     },
     "fca159e36d6c432cbe81510f80aac878": {
      "model_module": "@jupyter-widgets/controls",
      "model_module_version": "2.0.0",
      "model_name": "HTMLModel",
      "state": {
       "layout": "IPY_MODEL_bca3940aafec485f9424d11426d15aca",
       "style": "IPY_MODEL_0e8221f115874c409c1d882c99bd9e35",
       "value": "queries,"
      }
     },
     "fd4d20cc32514aed8430eb0868226b90": {
      "model_module": "@jupyter-widgets/controls",
      "model_module_version": "2.0.0",
      "model_name": "TextModel",
      "state": {
       "layout": "IPY_MODEL_e622041e24b54190bcf5e7daa9bbf23a",
       "placeholder": "",
       "style": "IPY_MODEL_3113913f17d6486f8414b7619a75bee3",
       "value": "500"
      }
     },
     "fd6bb05c81db41c9b9bcd07fe43835bf": {
      "model_module": "@jupyter-widgets/controls",
      "model_module_version": "2.0.0",
      "model_name": "TextStyleModel",
      "state": {
       "description_width": "",
       "font_size": null,
       "text_color": null
      }
     },
     "fd6c02ed4bfc4830b5ac128da5295ce7": {
      "model_module": "@jupyter-widgets/controls",
      "model_module_version": "2.0.0",
      "model_name": "ButtonModel",
      "state": {
       "description": "Translate",
       "icon": "language",
       "layout": "IPY_MODEL_b2c70994891d4c0497295241fd02e935",
       "style": "IPY_MODEL_a470722a95844c298732a70761ba7aee",
       "tooltip": "Click and translate the details for this section"
      }
     },
     "fdbdb05e5eca41559032e967b4c4c2d2": {
      "model_module": "@jupyter-widgets/controls",
      "model_module_version": "2.0.0",
      "model_name": "HTMLModel",
      "state": {
       "layout": "IPY_MODEL_3f7742224ce7497c8d29538ba038bd18",
       "style": "IPY_MODEL_3d1950d543a541179c50bb5bd154d34a",
       "value": "3.2"
      }
     },
     "fdca112c1bdf4615b7e2d9a4c830b267": {
      "model_module": "@jupyter-widgets/controls",
      "model_module_version": "2.0.0",
      "model_name": "HBoxModel",
      "state": {
       "children": [
        "IPY_MODEL_6f986c04edb64eee8d325d33f13632fd",
        "IPY_MODEL_557d21040ae1463aa5bedae028dc059d"
       ],
       "layout": "IPY_MODEL_2788ea9be89b4a409cd8e96deb29e379"
      }
     },
     "fdf545d9c791403b89d6e7c5fe87de15": {
      "model_module": "@jupyter-widgets/controls",
      "model_module_version": "2.0.0",
      "model_name": "HTMLStyleModel",
      "state": {
       "description_width": "",
       "font_size": null,
       "text_color": null
      }
     },
     "fe03822f0ac9409d949b1cd6bb8c470e": {
      "model_module": "@jupyter-widgets/controls",
      "model_module_version": "2.0.0",
      "model_name": "HBoxModel",
      "state": {
       "children": [
        "IPY_MODEL_7f1f484a522749a585467e16b23ee032",
        "IPY_MODEL_c2230422370040fc8095c94d872c7347",
        "IPY_MODEL_37edba6b2dd44417b67f20f6331656f1"
       ],
       "layout": "IPY_MODEL_a5dfeee0317f40208afba0d23886b34e"
      }
     },
     "fe138d4c51a24494899724470b95ad61": {
      "model_module": "@jupyter-widgets/controls",
      "model_module_version": "2.0.0",
      "model_name": "VBoxModel",
      "state": {
       "children": [
        "IPY_MODEL_44bcc4bea5ea453488224b0d85ab9fe3",
        "IPY_MODEL_ac3082bf38c54c9b945d31c1acd8563e"
       ],
       "layout": "IPY_MODEL_16020ec4be854ef0951a95a7b59bff83"
      }
     },
     "fe8d4d7268554fcdbe3bcf665be4a640": {
      "model_module": "@jupyter-widgets/controls",
      "model_module_version": "2.0.0",
      "model_name": "HTMLModel",
      "state": {
       "layout": "IPY_MODEL_79199b414f3e4a308f8a89f513e5b7f0",
       "style": "IPY_MODEL_1332c4c675e64149808d52307f276091",
       "value": "words:"
      }
     },
     "fed473c0fa6d44a2a66989d2d879683d": {
      "model_module": "@jupyter-widgets/base",
      "model_module_version": "2.0.0",
      "model_name": "LayoutModel",
      "state": {
       "height": "50%",
       "width": "50%"
      }
     },
     "ff541291c92845c7b5533ceac4ea9f27": {
      "model_module": "@jupyter-widgets/base",
      "model_module_version": "2.0.0",
      "model_name": "LayoutModel",
      "state": {
       "border_bottom": "solid 1px gray",
       "border_left": "solid 1px gray",
       "border_right": "solid 1px gray",
       "border_top": "solid 1px gray"
      }
     },
     "ff69dc5662354816bbfb3ec8e1765880": {
      "model_module": "@jupyter-widgets/base",
      "model_module_version": "2.0.0",
      "model_name": "LayoutModel",
      "state": {
       "justify_content": "flex-start",
       "width": "40px"
      }
     },
     "ffa20c975df142bcb99c2e5c86513e5f": {
      "model_module": "@jupyter-widgets/controls",
      "model_module_version": "2.0.0",
      "model_name": "HTMLStyleModel",
      "state": {
       "description_width": "",
       "font_size": null,
       "text_color": null
      }
     },
     "ffa344c493c6430c81d85e95f921356c": {
      "model_module": "@jupyter-widgets/controls",
      "model_module_version": "2.0.0",
      "model_name": "TextModel",
      "state": {
       "layout": "IPY_MODEL_38e1a04e330e45d9911fded8bcf3f354",
       "placeholder": "20",
       "style": "IPY_MODEL_28a5a552201240b783e4f1b712b84ff5",
       "value": "20"
      }
     },
     "ffc94519b2da4eaaae9f71bed3e9b115": {
      "model_module": "@jupyter-widgets/base",
      "model_module_version": "2.0.0",
      "model_name": "LayoutModel",
      "state": {}
     },
     "ffedde860ecb46078a98e87d0e98f040": {
      "model_module": "@jupyter-widgets/controls",
      "model_module_version": "2.0.0",
      "model_name": "HTMLModel",
      "state": {
       "layout": "IPY_MODEL_2155f0ee59184e458fa7690339d76464",
       "style": "IPY_MODEL_63a72c26f1bf40b7b9ecef9dfa68a076",
       "value": "queries,"
      }
     }
    },
    "version_major": 2,
    "version_minor": 0
   }
  }
 },
 "nbformat": 4,
 "nbformat_minor": 5
}
