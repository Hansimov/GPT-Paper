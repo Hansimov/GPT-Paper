{
 "cells": [
  {
   "cell_type": "code",
   "execution_count": 11,
   "id": "1739b204-98a3-4775-ba26-c27609c98816",
   "metadata": {
    "editable": true,
    "jupyterlab-hide-cells:hidden": true,
    "slideshow": {
     "slide_type": ""
    },
    "tags": []
   },
   "outputs": [
    {
     "name": "stdin",
     "output_type": "stream",
     "text": [
      "Once deleted, variables cannot be recovered. Proceed (y/[n])?  y\n"
     ]
    },
    {
     "name": "stderr",
     "output_type": "stream",
     "text": [
      "Repo path: [E:\\_codes\\GPT-Paper]\n",
      "Current directory: [E:\\_codes\\GPT-Paper\\notebook]\n"
     ]
    },
    {
     "data": {
      "application/vnd.jupyter.widget-view+json": {
       "model_id": "7201bbfd67744c51b70189588699b50c",
       "version_major": 2,
       "version_minor": 0
      },
      "text/plain": [
       "HBox(children=(Image(value=b'\\x89PNG\\r\\n\\x1a\\n\\x00\\x00\\x00\\rIHDR\\x00\\x00\\t\\xf6\\x00\\x00\\x0c\\xe4\\x08\\x02\\x00\\x00…"
      ]
     },
     "metadata": {},
     "output_type": "display_data"
    },
    {
     "data": {
      "text/html": [
       "<img src onerror=\"var cell = this.closest('.jp-CodeCell');var editor = cell.querySelector('.jp-Editor');editor.style.background='black';this.parentNode.removeChild(this)\" style=\"display:none\">"
      ],
      "text/plain": [
       "<IPython.core.display.HTML object>"
      ]
     },
     "metadata": {},
     "output_type": "display_data"
    }
   ],
   "source": [
    "import os\n",
    "import sys\n",
    "from pathlib import Path\n",
    "from IPython.display import display\n",
    "from ipywidgets import Image as wImage\n",
    "from ipywidgets import HBox, Layout\n",
    "\n",
    "repo_path = Path(os.path.abspath(\".\")).parent\n",
    "if str(repo_path) not in sys.path:\n",
    "    sys.path.append(str(repo_path))\n",
    "current_directory = Path().absolute()\n",
    "\n",
    "from utils.logger import logger\n",
    "from termcolor import colored\n",
    "from notebook_ui import set_background\n",
    "\n",
    "logger.note(f\"Repo path: [{repo_path}]\")\n",
    "logger.note(f\"Current directory: [{current_directory}]\")\n",
    "\n",
    "# pdf_dir = \"Deep learning predicts postsurgical recurrence of hepatocellular carcinoma from digital histopathologic images\"\n",
    "\n",
    "pdf_dir = \"2308.09687 - Graph of Thoughts\"\n",
    "\n",
    "image_paths = [\n",
    "    f\n",
    "    for f in (repo_path / \"pdfs\" / pdf_dir / \"queries\" / \"Tree of Thoughts vs Graph of Thoughts\").glob(\"*.png\")\n",
    "]\n",
    "images = [\n",
    "    wImage(value=image_path.open(\"rb\").read(), format='png', width=400)\n",
    "    for image_path in image_paths\n",
    "]\n",
    "\n",
    "display(HBox(images))\n",
    "set_background(\"black\")"
   ]
  },
  {
   "cell_type": "code",
   "execution_count": null,
   "id": "ce27c493-c90d-43c3-9abb-18907b3ba3ff",
   "metadata": {},
   "outputs": [],
   "source": []
  }
 ],
 "metadata": {
  "kernelspec": {
   "display_name": "Python 3 (ipykernel)",
   "language": "python",
   "name": "python3"
  },
  "language_info": {
   "codemirror_mode": {
    "name": "ipython",
    "version": 3
   },
   "file_extension": ".py",
   "mimetype": "text/x-python",
   "name": "python",
   "nbconvert_exporter": "python",
   "pygments_lexer": "ipython3",
   "version": "3.9.5"
  }
 },
 "nbformat": 4,
 "nbformat_minor": 5
}
