{
 "cells": [
  {
   "cell_type": "code",
   "execution_count": 35,
   "id": "6bd0166d-e107-4dc3-a95d-f72a5357e3d2",
   "metadata": {
    "editable": true,
    "slideshow": {
     "slide_type": ""
    },
    "tags": []
   },
   "outputs": [
    {
     "name": "stdout",
     "output_type": "stream",
     "text": [
      "The autoreload extension is already loaded. To reload it, use:\n",
      "  %reload_ext autoreload\n"
     ]
    },
    {
     "name": "stderr",
     "output_type": "stream",
     "text": [
      "Repo path:   [E:\\_codes\\GPT-Paper]\n",
      "INFO:utils.logger:Repo path:   [E:\\_codes\\GPT-Paper]\n",
      "Working dir: [E:\\_codes\\GPT-Paper\\notebook]\n",
      "INFO:utils.logger:Working dir: [E:\\_codes\\GPT-Paper\\notebook]\n",
      "Notebook Path: [E:\\_codes\\GPT-Paper\\notebook\\review_writer.ipynb]\n",
      "INFO:utils.logger:Notebook Path: [E:\\_codes\\GPT-Paper\\notebook\\review_writer.ipynb]\n",
      "Now: [2023-09-04 00:09:30.133441]\n",
      "INFO:utils.logger:Now: [2023-09-04 00:09:30.133441]\n"
     ]
    }
   ],
   "source": [
    "%load_ext autoreload\n",
    "%autoreload\n",
    "\n",
    "%run -i \"startup.py\""
   ]
  },
  {
   "cell_type": "code",
   "execution_count": null,
   "id": "1739b204-98a3-4775-ba26-c27609c98816",
   "metadata": {
    "editable": true,
    "jupyterlab-hide-cells:hidden": true,
    "slideshow": {
     "slide_type": ""
    },
    "tags": []
   },
   "outputs": [],
   "source": [
    "from notebook_ui import set_background\n",
    "\n",
    "# pdf_dir = \"Deep learning predicts postsurgical recurrence of hepatocellular carcinoma from digital histopathologic images\"\n",
    "\n",
    "pdf_dir = \"2308.09687 - Graph of Thoughts\"\n",
    "\n",
    "image_paths = [\n",
    "    f\n",
    "    for f in (\n",
    "        repo_path\n",
    "        / \"pdfs\"\n",
    "        / pdf_dir\n",
    "        / \"queries\"\n",
    "        / \"Tree of Thoughts vs Graph of Thoughts\"\n",
    "    ).glob(\"*.png\")\n",
    "]\n",
    "images = [\n",
    "    wImage(value=image_path.open(\"rb\").read(), format=\"png\", width=400)\n",
    "    for image_path in image_paths\n",
    "]\n",
    "\n",
    "dp(HBox(images))\n",
    "set_background(\"black\")"
   ]
  },
  {
   "cell_type": "code",
   "execution_count": null,
   "id": "81278999-a9bc-4416-9a55-c6f7306e049e",
   "metadata": {
    "editable": true,
    "slideshow": {
     "slide_type": ""
    },
    "tags": []
   },
   "outputs": [],
   "source": [
    "pdf_root = Path(os.path.abspath(\".\")).parent / \"pdfs\"\n",
    "print(f\"PDFs root: {str(pdf_root)}\")\n",
    "\n",
    "pdf_paths = pdf_root.glob(\"*.pdf\")\n",
    "pdf_path_checkboxes = [\n",
    "    widgets.Checkbox(\n",
    "        value=False,\n",
    "        description=pdf_path.name,\n",
    "        disabled=False,\n",
    "        indent=False,\n",
    "        layout=widgets.Layout(width=\"auto\"),\n",
    "    )\n",
    "    for pdf_path in pdf_paths\n",
    "]\n",
    "\n",
    "for pdf_path_checkbox in pdf_path_checkboxes:\n",
    "    dp(pdf_path_checkbox)"
   ]
  },
  {
   "cell_type": "code",
   "execution_count": null,
   "id": "dc07ad82-2aae-4114-b21d-bbb88b9ec642",
   "metadata": {
    "editable": true,
    "slideshow": {
     "slide_type": ""
    },
    "tags": []
   },
   "outputs": [],
   "source": [
    "for pdf_path_checkbox in pdf_path_checkboxes:\n",
    "    if pdf_path_checkbox.value:\n",
    "        logger.mesg(pdf_path_checkbox.description)"
   ]
  },
  {
   "cell_type": "code",
   "execution_count": null,
   "id": "52f3412b-4807-4014-9b71-2af6362a70c6",
   "metadata": {},
   "outputs": [],
   "source": [
    "%autoreload\n",
    "import asyncio\n",
    "import nest_asyncio\n",
    "\n",
    "nest_asyncio.apply()\n",
    "\n",
    "from agents.openai import OpenAIAgent\n",
    "\n",
    "asyncio.set_event_loop_policy(asyncio.WindowsSelectorEventLoopPolicy())\n",
    "\n",
    "agent = OpenAIAgent()\n",
    "\n",
    "asyncio.run(agent.test_prompt())"
   ]
  },
  {
   "cell_type": "markdown",
   "id": "2edd2249-03b5-4aa9-b3c3-ff71252691ff",
   "metadata": {},
   "source": [
    "## This is a title block."
   ]
  },
  {
   "cell_type": "markdown",
   "id": "bce80c78-f9d6-4e1a-b0d4-3e4c30dc355a",
   "metadata": {},
   "source": [
    "This is a text block"
   ]
  },
  {
   "cell_type": "markdown",
   "id": "9cf3b0d8-7e97-49db-af52-db3df15a9743",
   "metadata": {
    "editable": true,
    "slideshow": {
     "slide_type": ""
    },
    "tags": []
   },
   "source": [
    "# Unraveling the “black-box” of artificial intelligence-based pathological analysis of liver cancer applications"
   ]
  },
  {
   "cell_type": "code",
   "execution_count": 7,
   "id": "0e88ebf3-ecfd-4691-964e-5238ac73af19",
   "metadata": {},
   "outputs": [
    {
     "name": "stdout",
     "output_type": "stream",
     "text": [
      "line: lineee=x, line2=s\n",
      "cell: system_message = \"This is system Message\"\n",
      "\n",
      "above_content:  # Unraveling the “black-box” of artificial intelligence-based pathological analysis of liver cancerapplications\n",
      "system_message: None\n"
     ]
    }
   ],
   "source": [
    "%%chat lineee=x, line2=s\n",
    "system_message = \"This is system Message\""
   ]
  },
  {
   "cell_type": "code",
   "execution_count": 12,
   "id": "182a501c-bf98-4880-bc66-b49635710138",
   "metadata": {},
   "outputs": [
    {
     "name": "stdout",
     "output_type": "stream",
     "text": [
      "line: xx\n",
      "cell: None\n",
      "above_content:  %%chat lineee=x, line2=s\n",
      "system_message = \"This is system Message\"\n",
      "system_message: None\n"
     ]
    }
   ],
   "source": [
    "%chat xx"
   ]
  },
  {
   "cell_type": "code",
   "execution_count": 36,
   "id": "b11f8dbe-8f3e-437b-9ecc-2bc00bb17d0f",
   "metadata": {
    "editable": true,
    "slideshow": {
     "slide_type": ""
    },
    "tags": []
   },
   "outputs": [
    {
     "name": "stdout",
     "output_type": "stream",
     "text": [
      "[{'role': 'system', 'content': '你是一个专业的中英双语专家。如果给出英文，你需要如实翻译成中文；如果给出中文，你需要如实翻译成英文。你的翻译应当是严谨的和自然的，不要删改原文。请按照要求翻译如下文本：'}, {'role': 'user', 'content': 'Unraveling the “black-box” of artificial intelligence-based pathological analysis of liver cancerapplications'}]\n",
      "assistant: 揭开人工智能基于病理学分析肝癌应用的“黑匣子”\n"
     ]
    }
   ],
   "source": [
    "translate_agent = OpenAIAgent(\n",
    "    name=\"translator\",\n",
    "    system_message=\"你是一个专业的中英双语专家。如果给出英文，你需要如实翻译成中文；如果给出中文，你需要如实翻译成英文。你的翻译应当是严谨的和自然的，不要删改原文。请按照要求翻译如下文本：\",\n",
    ")\n",
    "translate_agent.chat(\n",
    "    \"Unraveling the “black-box” of artificial intelligence-based pathological analysis of liver cancerapplications\"\n",
    ")"
   ]
  }
 ],
 "metadata": {
  "kernelspec": {
   "display_name": "Python 3 (ipykernel)",
   "language": "python",
   "name": "python3"
  },
  "language_info": {
   "codemirror_mode": {
    "name": "ipython",
    "version": 3
   },
   "file_extension": ".py",
   "mimetype": "text/x-python",
   "name": "python",
   "nbconvert_exporter": "python",
   "pygments_lexer": "ipython3",
   "version": "3.9.5"
  },
  "widgets": {
   "application/vnd.jupyter.widget-state+json": {
    "state": {},
    "version_major": 2,
    "version_minor": 0
   }
  }
 },
 "nbformat": 4,
 "nbformat_minor": 5
}
